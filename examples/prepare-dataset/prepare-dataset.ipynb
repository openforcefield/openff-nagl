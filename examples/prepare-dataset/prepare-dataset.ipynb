{
 "cells": [
  {
   "cell_type": "markdown",
   "id": "39925afd-2d45-4e2d-b36d-269df8f6c7f0",
   "metadata": {},
   "source": [
    "# Prepare a NAGL dataset for training"
   ]
  },
  {
   "cell_type": "markdown",
   "id": "ab93793c",
   "metadata": {
    "tags": []
   },
   "source": [
    "Training a GCN requires a collection of examples that the GCN should reproduce and interpolate between. This notebook describes how to prepare such a dataset for predicting partial charges."
   ]
  },
  {
   "cell_type": "markdown",
   "id": "9488da95",
   "metadata": {},
   "source": [
    "## Imports"
   ]
  },
  {
   "cell_type": "code",
   "execution_count": 1,
   "id": "f5f27dae",
   "metadata": {},
   "outputs": [],
   "source": [
    "from pathlib import Path\n",
    "\n",
    "from tqdm import tqdm\n",
    "\n",
    "from openff.toolkit.topology import Molecule\n",
    "\n",
    "from openff.nagl.storage.record import MoleculeRecord\n",
    "from openff.nagl.storage import MoleculeStore"
   ]
  },
  {
   "cell_type": "markdown",
   "id": "84aca730",
   "metadata": {},
   "source": [
    "## Choosing our molecules"
   ]
  },
  {
   "cell_type": "markdown",
   "id": "45833757",
   "metadata": {},
   "source": [
    "The simplest way to specify the molecules in our dataset is with SMILES, though [anything you can load](https://docs.openforcefield.org/projects/toolkit/en/stable/users/molecule_cookbook.html) into an OpenFF [`Molecule`] is fair game. For instance, with the [`Molecule.from_file()`] method you could load partial charges from SDF files. But for this example, we'll have NAGL generate our charges, so we can just provide the SMILES themselves:\n",
    "\n",
    "[`Molecule`]: https://docs.openforcefield.org/projects/toolkit/en/stable/api/generated/openff.toolkit.topology.Molecule.html\n",
    "[`Molecule.from_file()`]: https://docs.openforcefield.org/projects/toolkit/en/stable/api/generated/openff.toolkit.topology.Molecule.html#openff.toolkit.topology.Molecule.from_file"
   ]
  },
  {
   "cell_type": "code",
   "execution_count": 2,
   "id": "aecc3e2d",
   "metadata": {},
   "outputs": [
    {
     "data": {
      "text/plain": [
       "['C',\n",
       " 'CC',\n",
       " 'CCC',\n",
       " 'CCCC',\n",
       " 'CC(C)C',\n",
       " 'CCCCC',\n",
       " 'CC(C)CC',\n",
       " 'CCCCCC',\n",
       " 'CC(C)CCC',\n",
       " 'CC(CC)CC']"
      ]
     },
     "execution_count": 2,
     "metadata": {},
     "output_type": "execute_result"
    }
   ],
   "source": [
    "alkanes_smiles = Path(\"alkanes.smi\").read_text().splitlines()\n",
    "alkanes_smiles"
   ]
  },
  {
   "cell_type": "markdown",
   "id": "62b074d8",
   "metadata": {},
   "source": [
    "## Generating charges"
   ]
  },
  {
   "cell_type": "markdown",
   "id": "e32cbc2a",
   "metadata": {},
   "source": [
    "NAGL can generate AM1-BCC and AM1-Mulliken charges automatically with the OpenFF Toolkit. If you'd like a dataset of other charges, load them into the [`Molecule.partial_charges`] attribute and use the [`MoleculeRecord.from_precomputed_openff()`] method.\n",
    "\n",
    "[`MoleculeRecord.from_precomputed_openff()`]: https://docs.openforcefield.org/projects/nagl/en/stable/api/generated/openff.nagl.storage.record.html#openff.nagl.storage.record.MoleculeRecord.from_precomputed_openff\n",
    "[`Molecule.partial_charges`]: https://docs.openforcefield.org/projects/toolkit/en/stable/api/generated/openff.toolkit.topology.Molecule.html#openff.toolkit.topology.Molecule.partial_charges"
   ]
  },
  {
   "cell_type": "code",
   "execution_count": 3,
   "id": "6c4b9242",
   "metadata": {},
   "outputs": [
    {
     "name": "stderr",
     "output_type": "stream",
     "text": [
      "Labeling molecules:   0%|                                                    | 0/10 [00:00<?, ?it/s]Warning: Cannot perform Hydrogen sampling with GPU-Omega: GPU-Omega disabled.\n",
      "Labeling molecules: 100%|███████████████████████████████████████████| 10/10 [00:01<00:00,  9.71it/s]\n"
     ]
    }
   ],
   "source": [
    "records = [\n",
    "    MoleculeRecord.from_openff(\n",
    "        Molecule.from_smiles(smiles, allow_undefined_stereo=True),\n",
    "        partial_charge_methods=[\"am1bcc\", \"am1\"],\n",
    "        generate_conformers=True,\n",
    "        n_conformer_pool=500, # Start with 500 conformers...\n",
    "        n_conformers=10, # ... and prune all but 10 (ELF10)\n",
    "        rms_cutoff=0.05, # Conformers in the initial pool must be at least this different\n",
    "    ) \n",
    "    for smiles in tqdm(alkanes_smiles, desc=\"Labeling molecules\")\n",
    "]"
   ]
  },
  {
   "cell_type": "markdown",
   "id": "16e9f720",
   "metadata": {},
   "source": [
    "## Storing the dataset"
   ]
  },
  {
   "cell_type": "markdown",
   "id": "4aae2589",
   "metadata": {},
   "source": [
    "Finally, we'll save all the molecule records to a SQLite database file, which NAGL can use directly as a dataset via [`DGLMoleculeLightningDataModule`]:\n",
    "\n",
    "[`DGLMoleculeLightningDataModule`]: https://docs.openforcefield.org/projects/nagl/en/stable/api/generated/openff.nagl.nn.dataset.html#openff.nagl.nn.dataset.DGLMoleculeLightningDataModule"
   ]
  },
  {
   "cell_type": "code",
   "execution_count": 39,
   "id": "bd9347cd",
   "metadata": {},
   "outputs": [
    {
     "name": "stderr",
     "output_type": "stream",
     "text": [
      "grouping records to store by InChI key: 100%|█████████████████████| 10/10 [00:00<00:00, 1008.63it/s]\n",
      "storing grouped records: 100%|█████████████████████████████████████| 10/10 [00:00<00:00, 472.48it/s]\n"
     ]
    }
   ],
   "source": [
    "output_store_file = Path(\"alkanes.sqlite\")\n",
    "if output_store_file.exists():\n",
    "    output_store_file.unlink()\n",
    "\n",
    "store = MoleculeStore(output_store_file)\n",
    "store.store(records)"
   ]
  },
  {
   "cell_type": "code",
   "execution_count": null,
   "id": "9967c526",
   "metadata": {},
   "outputs": [],
   "source": []
  }
 ],
 "metadata": {
  "kernelspec": {
   "display_name": "Python 3 (ipykernel)",
   "language": "python",
   "name": "python3"
  },
  "language_info": {
   "codemirror_mode": {
    "name": "ipython",
    "version": 3
   },
   "file_extension": ".py",
   "mimetype": "text/x-python",
   "name": "python",
   "nbconvert_exporter": "python",
   "pygments_lexer": "ipython3",
   "version": "3.11.4"
  }
 },
 "nbformat": 4,
 "nbformat_minor": 5
}
