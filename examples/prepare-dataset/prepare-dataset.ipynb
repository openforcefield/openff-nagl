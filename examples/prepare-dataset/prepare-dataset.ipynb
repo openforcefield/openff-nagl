{
 "cells": [
  {
   "cell_type": "markdown",
   "id": "39925afd-2d45-4e2d-b36d-269df8f6c7f0",
   "metadata": {},
   "source": [
    "# Prepare a NAGL dataset for training"
   ]
  },
  {
   "cell_type": "markdown",
   "id": "ab93793c",
   "metadata": {
    "tags": []
   },
   "source": [
    "Training a GCN requires a collection of examples that the GCN should reproduce and interpolate between. This notebook describes how to prepare such a dataset for predicting partial charges."
   ]
  },
  {
   "cell_type": "markdown",
   "id": "9488da95",
   "metadata": {},
   "source": [
    "## Imports"
   ]
  },
  {
   "cell_type": "code",
   "execution_count": 1,
   "id": "f5f27dae",
   "metadata": {},
   "outputs": [
    {
     "name": "stderr",
     "output_type": "stream",
     "text": [
      "Warning: Unable to load toolkit 'AmberTools'. \n"
     ]
    }
   ],
   "source": [
    "from pathlib import Path\n",
    "\n",
    "from tqdm import tqdm\n",
    "\n",
    "from openff.toolkit.topology import Molecule\n",
    "\n",
    "from openff.nagl.label.dataset import LabelledDataset\n",
    "from openff.nagl.label.labels import LabelCharges"
   ]
  },
  {
   "cell_type": "markdown",
   "id": "84aca730",
   "metadata": {},
   "source": [
    "## Choosing our molecules"
   ]
  },
  {
   "cell_type": "markdown",
   "id": "45833757",
   "metadata": {},
   "source": [
    "The simplest way to specify the molecules in our dataset is with SMILES, though [anything you can load](https://docs.openforcefield.org/projects/toolkit/en/stable/users/molecule_cookbook.html) into an OpenFF [`Molecule`] is fair game. For instance, with the [`Molecule.from_file()`] method you could load partial charges from SDF files. But for this example, we'll have NAGL generate our charges, so we can just provide the SMILES themselves:\n",
    "\n",
    "[`Molecule`]: https://docs.openforcefield.org/projects/toolkit/en/stable/api/generated/openff.toolkit.topology.Molecule.html\n",
    "[`Molecule.from_file()`]: https://docs.openforcefield.org/projects/toolkit/en/stable/api/generated/openff.toolkit.topology.Molecule.html#openff.toolkit.topology.Molecule.from_file"
   ]
  },
  {
   "cell_type": "code",
   "execution_count": 2,
   "id": "aecc3e2d",
   "metadata": {},
   "outputs": [
    {
     "data": {
      "text/plain": [
       "['C',\n",
       " 'CC',\n",
       " 'CCC',\n",
       " 'CCCC',\n",
       " 'CC(C)C',\n",
       " 'CCCCC',\n",
       " 'CC(C)CC',\n",
       " 'CCCCCC',\n",
       " 'CC(C)CCC',\n",
       " 'CC(CC)CC']"
      ]
     },
     "execution_count": 2,
     "metadata": {},
     "output_type": "execute_result"
    }
   ],
   "source": [
    "alkanes_smiles = Path(\"alkanes.smi\").read_text().splitlines()\n",
    "alkanes_smiles"
   ]
  },
  {
   "cell_type": "markdown",
   "id": "09ffb131-7982-4b40-88ff-8f456b33cf65",
   "metadata": {},
   "source": [
    "## Generating a LabelledDataset\n",
    "\n",
    "A LabelledDataset is a wrapper over an [Apache Arrow Dataset](https://arrow.apache.org/docs/python/api/dataset.html) to make it easy to generate data. When we train GNN models, the data is read directly as an Arrow dataset, so there is no need to use a `LabelledDataset` to generate your data other than convenience. Here we demonstrate the conveniences of a `LabelledDataset`."
   ]
  },
  {
   "cell_type": "code",
   "execution_count": 3,
   "id": "a09b3046-3bbf-4cb7-8962-4cd57db5608e",
   "metadata": {},
   "outputs": [
    {
     "data": {
      "text/html": [
       "<div>\n",
       "<style scoped>\n",
       "    .dataframe tbody tr th:only-of-type {\n",
       "        vertical-align: middle;\n",
       "    }\n",
       "\n",
       "    .dataframe tbody tr th {\n",
       "        vertical-align: top;\n",
       "    }\n",
       "\n",
       "    .dataframe thead th {\n",
       "        text-align: right;\n",
       "    }\n",
       "</style>\n",
       "<table border=\"1\" class=\"dataframe\">\n",
       "  <thead>\n",
       "    <tr style=\"text-align: right;\">\n",
       "      <th></th>\n",
       "      <th>mapped_smiles</th>\n",
       "    </tr>\n",
       "  </thead>\n",
       "  <tbody>\n",
       "    <tr>\n",
       "      <th>0</th>\n",
       "      <td>[H:2][C:1]([H:3])([H:4])[H:5]</td>\n",
       "    </tr>\n",
       "    <tr>\n",
       "      <th>1</th>\n",
       "      <td>[H:3][C:1]([H:4])([H:5])[C:2]([H:6])([H:7])[H:8]</td>\n",
       "    </tr>\n",
       "    <tr>\n",
       "      <th>2</th>\n",
       "      <td>[H:4][C:1]([H:5])([H:6])[C:2]([H:7])([H:8])[C:...</td>\n",
       "    </tr>\n",
       "    <tr>\n",
       "      <th>3</th>\n",
       "      <td>[H:5][C:1]([H:6])([H:7])[C:2]([H:8])([H:9])[C:...</td>\n",
       "    </tr>\n",
       "    <tr>\n",
       "      <th>4</th>\n",
       "      <td>[H:5][C:1]([H:6])([H:7])[C:2]([H:8])([C:3]([H:...</td>\n",
       "    </tr>\n",
       "    <tr>\n",
       "      <th>5</th>\n",
       "      <td>[H:6][C:1]([H:7])([H:8])[C:2]([H:9])([H:10])[C...</td>\n",
       "    </tr>\n",
       "    <tr>\n",
       "      <th>6</th>\n",
       "      <td>[H:15][C:5]([H:16])([H:17])[C:4]([H:13])([H:14...</td>\n",
       "    </tr>\n",
       "    <tr>\n",
       "      <th>7</th>\n",
       "      <td>[H:7][C:1]([H:8])([H:9])[C:2]([H:10])([H:11])[...</td>\n",
       "    </tr>\n",
       "    <tr>\n",
       "      <th>8</th>\n",
       "      <td>[H:18][C:6]([H:19])([H:20])[C:5]([H:16])([H:17...</td>\n",
       "    </tr>\n",
       "    <tr>\n",
       "      <th>9</th>\n",
       "      <td>[H:13][C:4]([H:14])([H:15])[C:3]([H:11])([H:12...</td>\n",
       "    </tr>\n",
       "  </tbody>\n",
       "</table>\n",
       "</div>"
      ],
      "text/plain": [
       "                                       mapped_smiles\n",
       "0                      [H:2][C:1]([H:3])([H:4])[H:5]\n",
       "1   [H:3][C:1]([H:4])([H:5])[C:2]([H:6])([H:7])[H:8]\n",
       "2  [H:4][C:1]([H:5])([H:6])[C:2]([H:7])([H:8])[C:...\n",
       "3  [H:5][C:1]([H:6])([H:7])[C:2]([H:8])([H:9])[C:...\n",
       "4  [H:5][C:1]([H:6])([H:7])[C:2]([H:8])([C:3]([H:...\n",
       "5  [H:6][C:1]([H:7])([H:8])[C:2]([H:9])([H:10])[C...\n",
       "6  [H:15][C:5]([H:16])([H:17])[C:4]([H:13])([H:14...\n",
       "7  [H:7][C:1]([H:8])([H:9])[C:2]([H:10])([H:11])[...\n",
       "8  [H:18][C:6]([H:19])([H:20])[C:5]([H:16])([H:17...\n",
       "9  [H:13][C:4]([H:14])([H:15])[C:3]([H:11])([H:12..."
      ]
     },
     "execution_count": 3,
     "metadata": {},
     "output_type": "execute_result"
    }
   ],
   "source": [
    "dataset = LabelledDataset.from_smiles(\n",
    "    \"labelled_alkanes\",  # path to save to\n",
    "    alkanes_smiles,\n",
    "    mapped=False,\n",
    "    overwrite_existing=True,\n",
    ")\n",
    "dataset.to_pandas()"
   ]
  },
  {
   "cell_type": "code",
   "execution_count": 4,
   "id": "4d5c39f8-0aaf-4673-80ab-cdce7e01f59e",
   "metadata": {},
   "outputs": [
    {
     "data": {
      "text/plain": [
       "'labelled_alkanes'"
      ]
     },
     "execution_count": 4,
     "metadata": {},
     "output_type": "execute_result"
    }
   ],
   "source": [
    "# path to directory containing parquet files of dataset\n",
    "dataset.source"
   ]
  },
  {
   "cell_type": "code",
   "execution_count": 5,
   "id": "4422e8b8-71e5-488f-8119-c085217f3a0d",
   "metadata": {},
   "outputs": [
    {
     "data": {
      "text/plain": [
       "['labelled_alkanes/part-0.parquet']"
      ]
     },
     "execution_count": 5,
     "metadata": {},
     "output_type": "execute_result"
    }
   ],
   "source": [
    "# actual files of the dataset\n",
    "dataset.dataset.files"
   ]
  },
  {
   "cell_type": "markdown",
   "id": "62b074d8",
   "metadata": {},
   "source": [
    "## Generating charges"
   ]
  },
  {
   "cell_type": "markdown",
   "id": "e32cbc2a",
   "metadata": {},
   "source": [
    "NAGL can generate AM1-BCC and AM1-Mulliken charges automatically with the OpenFF Toolkit.\n",
    "`exist_ok` defines whether to error if the `charge_column` is already present in the dataset.\n",
    "Normally we want this to be `False`, but it's set to `True` here in case we run the cell\n",
    "multiple times."
   ]
  },
  {
   "cell_type": "code",
   "execution_count": 6,
   "id": "6c4b9242",
   "metadata": {},
   "outputs": [
    {
     "name": "stderr",
     "output_type": "stream",
     "text": [
      "Applying labellers to batches: 0it [00:00, ?it/s]\n",
      "Assigning charges:   0%|                                 | 0/10 [00:00<?, ?it/s]\u001b[A\n",
      "Assigning charges:  10%|██▌                      | 1/10 [00:00<00:03,  2.58it/s]\u001b[A\n",
      "Assigning charges:  30%|███████▌                 | 3/10 [00:00<00:01,  6.44it/s]\u001b[A\n",
      "Assigning charges:  50%|████████████▌            | 5/10 [00:00<00:00,  8.50it/s]\u001b[A\n",
      "Assigning charges:  70%|█████████████████▌       | 7/10 [00:00<00:00,  9.86it/s]\u001b[A\n",
      "Assigning charges: 100%|████████████████████████| 10/10 [00:01<00:00,  8.33it/s]\u001b[A\n",
      "\n",
      "Assigning charges:   0%|                                 | 0/10 [00:00<?, ?it/s]\u001b[A\n",
      "Assigning charges:  20%|█████                    | 2/10 [00:00<00:00, 14.19it/s]\u001b[A\n",
      "Assigning charges:  40%|██████████               | 4/10 [00:00<00:00, 13.98it/s]\u001b[A\n",
      "Assigning charges:  60%|███████████████          | 6/10 [00:00<00:00, 13.43it/s]\u001b[A\n",
      "Assigning charges:  80%|████████████████████     | 8/10 [00:00<00:00, 12.51it/s]\u001b[A\n",
      "Assigning charges: 100%|████████████████████████| 10/10 [00:00<00:00, 11.66it/s]\u001b[A\n",
      "Applying labellers to batches: 1it [00:02,  2.07s/it]\n"
     ]
    },
    {
     "data": {
      "text/html": [
       "<div>\n",
       "<style scoped>\n",
       "    .dataframe tbody tr th:only-of-type {\n",
       "        vertical-align: middle;\n",
       "    }\n",
       "\n",
       "    .dataframe tbody tr th {\n",
       "        vertical-align: top;\n",
       "    }\n",
       "\n",
       "    .dataframe thead th {\n",
       "        text-align: right;\n",
       "    }\n",
       "</style>\n",
       "<table border=\"1\" class=\"dataframe\">\n",
       "  <thead>\n",
       "    <tr style=\"text-align: right;\">\n",
       "      <th></th>\n",
       "      <th>mapped_smiles</th>\n",
       "      <th>am1_charges</th>\n",
       "      <th>am1bcc_charges</th>\n",
       "    </tr>\n",
       "  </thead>\n",
       "  <tbody>\n",
       "    <tr>\n",
       "      <th>0</th>\n",
       "      <td>[H:2][C:1]([H:3])([H:4])[H:5]</td>\n",
       "      <td>[-0.2658799886703491, 0.06646999716758728, 0.0...</td>\n",
       "      <td>[-0.10868000239133835, 0.027170000597834587, 0...</td>\n",
       "    </tr>\n",
       "    <tr>\n",
       "      <th>1</th>\n",
       "      <td>[H:3][C:1]([H:4])([H:5])[C:2]([H:6])([H:7])[H:8]</td>\n",
       "      <td>[-0.21174000017344952, -0.21174000017344952, 0...</td>\n",
       "      <td>[-0.09384000208228827, -0.09384000208228827, 0...</td>\n",
       "    </tr>\n",
       "    <tr>\n",
       "      <th>2</th>\n",
       "      <td>[H:4][C:1]([H:5])([H:6])[C:2]([H:7])([H:8])[C:...</td>\n",
       "      <td>[-0.21018000082536178, -0.15999999777837234, -...</td>\n",
       "      <td>[-0.09227999977090141, -0.08139999888160011, -...</td>\n",
       "    </tr>\n",
       "    <tr>\n",
       "      <th>3</th>\n",
       "      <td>[H:5][C:1]([H:6])([H:7])[C:2]([H:8])([H:9])[C:...</td>\n",
       "      <td>[-0.21003000438213348, -0.15905000269412994, -...</td>\n",
       "      <td>[-0.09212999844125339, -0.08044999891093799, -...</td>\n",
       "    </tr>\n",
       "    <tr>\n",
       "      <th>4</th>\n",
       "      <td>[H:5][C:1]([H:6])([H:7])[C:2]([H:8])([C:3]([H:...</td>\n",
       "      <td>[-0.20747000138674462, -0.10981000374470438, -...</td>\n",
       "      <td>[-0.08957000076770782, -0.07050999999046326, -...</td>\n",
       "    </tr>\n",
       "    <tr>\n",
       "      <th>5</th>\n",
       "      <td>[H:6][C:1]([H:7])([H:8])[C:2]([H:9])([H:10])[C...</td>\n",
       "      <td>[-0.21004000306129456, -0.15812000632286072, -...</td>\n",
       "      <td>[-0.09213999658823013, -0.07952000200748444, -...</td>\n",
       "    </tr>\n",
       "    <tr>\n",
       "      <th>6</th>\n",
       "      <td>[H:15][C:5]([H:16])([H:17])[C:4]([H:13])([H:14...</td>\n",
       "      <td>[-0.20766000405830495, -0.10704000250381582, -...</td>\n",
       "      <td>[-0.0897599982426447, -0.06774000100353185, -0...</td>\n",
       "    </tr>\n",
       "    <tr>\n",
       "      <th>7</th>\n",
       "      <td>[H:7][C:1]([H:8])([H:9])[C:2]([H:10])([H:11])[...</td>\n",
       "      <td>[-0.21021999344229697, -0.15823000594973563, -...</td>\n",
       "      <td>[-0.0923200011253357, -0.0796300008893013, -0....</td>\n",
       "    </tr>\n",
       "    <tr>\n",
       "      <th>8</th>\n",
       "      <td>[H:18][C:6]([H:19])([H:20])[C:5]([H:16])([H:17...</td>\n",
       "      <td>[-0.208649992197752, -0.1059999980032444, -0.2...</td>\n",
       "      <td>[-0.09075000137090683, -0.06669999659061432, -...</td>\n",
       "    </tr>\n",
       "    <tr>\n",
       "      <th>9</th>\n",
       "      <td>[H:13][C:4]([H:14])([H:15])[C:3]([H:11])([H:12...</td>\n",
       "      <td>[-0.2068299949169159, -0.10380999743938446, -0...</td>\n",
       "      <td>[-0.08893000297248363, -0.06451000235974788, -...</td>\n",
       "    </tr>\n",
       "  </tbody>\n",
       "</table>\n",
       "</div>"
      ],
      "text/plain": [
       "                                       mapped_smiles  \\\n",
       "0                      [H:2][C:1]([H:3])([H:4])[H:5]   \n",
       "1   [H:3][C:1]([H:4])([H:5])[C:2]([H:6])([H:7])[H:8]   \n",
       "2  [H:4][C:1]([H:5])([H:6])[C:2]([H:7])([H:8])[C:...   \n",
       "3  [H:5][C:1]([H:6])([H:7])[C:2]([H:8])([H:9])[C:...   \n",
       "4  [H:5][C:1]([H:6])([H:7])[C:2]([H:8])([C:3]([H:...   \n",
       "5  [H:6][C:1]([H:7])([H:8])[C:2]([H:9])([H:10])[C...   \n",
       "6  [H:15][C:5]([H:16])([H:17])[C:4]([H:13])([H:14...   \n",
       "7  [H:7][C:1]([H:8])([H:9])[C:2]([H:10])([H:11])[...   \n",
       "8  [H:18][C:6]([H:19])([H:20])[C:5]([H:16])([H:17...   \n",
       "9  [H:13][C:4]([H:14])([H:15])[C:3]([H:11])([H:12...   \n",
       "\n",
       "                                         am1_charges  \\\n",
       "0  [-0.2658799886703491, 0.06646999716758728, 0.0...   \n",
       "1  [-0.21174000017344952, -0.21174000017344952, 0...   \n",
       "2  [-0.21018000082536178, -0.15999999777837234, -...   \n",
       "3  [-0.21003000438213348, -0.15905000269412994, -...   \n",
       "4  [-0.20747000138674462, -0.10981000374470438, -...   \n",
       "5  [-0.21004000306129456, -0.15812000632286072, -...   \n",
       "6  [-0.20766000405830495, -0.10704000250381582, -...   \n",
       "7  [-0.21021999344229697, -0.15823000594973563, -...   \n",
       "8  [-0.208649992197752, -0.1059999980032444, -0.2...   \n",
       "9  [-0.2068299949169159, -0.10380999743938446, -0...   \n",
       "\n",
       "                                      am1bcc_charges  \n",
       "0  [-0.10868000239133835, 0.027170000597834587, 0...  \n",
       "1  [-0.09384000208228827, -0.09384000208228827, 0...  \n",
       "2  [-0.09227999977090141, -0.08139999888160011, -...  \n",
       "3  [-0.09212999844125339, -0.08044999891093799, -...  \n",
       "4  [-0.08957000076770782, -0.07050999999046326, -...  \n",
       "5  [-0.09213999658823013, -0.07952000200748444, -...  \n",
       "6  [-0.0897599982426447, -0.06774000100353185, -0...  \n",
       "7  [-0.0923200011253357, -0.0796300008893013, -0....  \n",
       "8  [-0.09075000137090683, -0.06669999659061432, -...  \n",
       "9  [-0.08893000297248363, -0.06451000235974788, -...  "
      ]
     },
     "execution_count": 6,
     "metadata": {},
     "output_type": "execute_result"
    }
   ],
   "source": [
    "am1bcc_labeller = LabelCharges(\n",
    "    charge_method=\"am1bcc\",\n",
    "    charge_column=\"am1bcc_charges\",\n",
    "    exist_ok=True,\n",
    ")\n",
    "am1_labeller = LabelCharges(\n",
    "    charge_method=\"am1-mulliken\",\n",
    "    charge_column=\"am1_charges\",\n",
    "    exist_ok=True,\n",
    ")\n",
    "    \n",
    "\n",
    "dataset.apply_labellers(\n",
    "    [am1_labeller, am1bcc_labeller],\n",
    "    verbose=True,\n",
    ")\n",
    "dataset.to_pandas()"
   ]
  },
  {
   "cell_type": "markdown",
   "id": "ebe91ec8-760f-4783-b909-fd616f5bd04c",
   "metadata": {},
   "source": [
    "If you have your own charges to add, use the `LabelledDataset.append_columns`. **Warning: this does not run any checks as to the validity of the charges, such as the length or type!**"
   ]
  },
  {
   "cell_type": "code",
   "execution_count": 7,
   "id": "232d0165-4023-4265-933d-5779e8736215",
   "metadata": {},
   "outputs": [
    {
     "data": {
      "text/html": [
       "<div>\n",
       "<style scoped>\n",
       "    .dataframe tbody tr th:only-of-type {\n",
       "        vertical-align: middle;\n",
       "    }\n",
       "\n",
       "    .dataframe tbody tr th {\n",
       "        vertical-align: top;\n",
       "    }\n",
       "\n",
       "    .dataframe thead th {\n",
       "        text-align: right;\n",
       "    }\n",
       "</style>\n",
       "<table border=\"1\" class=\"dataframe\">\n",
       "  <thead>\n",
       "    <tr style=\"text-align: right;\">\n",
       "      <th></th>\n",
       "      <th>mapped_smiles</th>\n",
       "      <th>am1_charges</th>\n",
       "      <th>am1bcc_charges</th>\n",
       "      <th>custom_charges</th>\n",
       "    </tr>\n",
       "  </thead>\n",
       "  <tbody>\n",
       "    <tr>\n",
       "      <th>0</th>\n",
       "      <td>[H:2][C:1]([H:3])([H:4])[H:5]</td>\n",
       "      <td>[-0.2658799886703491, 0.06646999716758728, 0.0...</td>\n",
       "      <td>[-0.10868000239133835, 0.027170000597834587, 0...</td>\n",
       "      <td>[0]</td>\n",
       "    </tr>\n",
       "    <tr>\n",
       "      <th>1</th>\n",
       "      <td>[H:3][C:1]([H:4])([H:5])[C:2]([H:6])([H:7])[H:8]</td>\n",
       "      <td>[-0.21174000017344952, -0.21174000017344952, 0...</td>\n",
       "      <td>[-0.09384000208228827, -0.09384000208228827, 0...</td>\n",
       "      <td>[1]</td>\n",
       "    </tr>\n",
       "    <tr>\n",
       "      <th>2</th>\n",
       "      <td>[H:4][C:1]([H:5])([H:6])[C:2]([H:7])([H:8])[C:...</td>\n",
       "      <td>[-0.21018000082536178, -0.15999999777837234, -...</td>\n",
       "      <td>[-0.09227999977090141, -0.08139999888160011, -...</td>\n",
       "      <td>[2]</td>\n",
       "    </tr>\n",
       "    <tr>\n",
       "      <th>3</th>\n",
       "      <td>[H:5][C:1]([H:6])([H:7])[C:2]([H:8])([H:9])[C:...</td>\n",
       "      <td>[-0.21003000438213348, -0.15905000269412994, -...</td>\n",
       "      <td>[-0.09212999844125339, -0.08044999891093799, -...</td>\n",
       "      <td>[3]</td>\n",
       "    </tr>\n",
       "    <tr>\n",
       "      <th>4</th>\n",
       "      <td>[H:5][C:1]([H:6])([H:7])[C:2]([H:8])([C:3]([H:...</td>\n",
       "      <td>[-0.20747000138674462, -0.10981000374470438, -...</td>\n",
       "      <td>[-0.08957000076770782, -0.07050999999046326, -...</td>\n",
       "      <td>[4]</td>\n",
       "    </tr>\n",
       "    <tr>\n",
       "      <th>5</th>\n",
       "      <td>[H:6][C:1]([H:7])([H:8])[C:2]([H:9])([H:10])[C...</td>\n",
       "      <td>[-0.21004000306129456, -0.15812000632286072, -...</td>\n",
       "      <td>[-0.09213999658823013, -0.07952000200748444, -...</td>\n",
       "      <td>[5]</td>\n",
       "    </tr>\n",
       "    <tr>\n",
       "      <th>6</th>\n",
       "      <td>[H:15][C:5]([H:16])([H:17])[C:4]([H:13])([H:14...</td>\n",
       "      <td>[-0.20766000405830495, -0.10704000250381582, -...</td>\n",
       "      <td>[-0.0897599982426447, -0.06774000100353185, -0...</td>\n",
       "      <td>[6]</td>\n",
       "    </tr>\n",
       "    <tr>\n",
       "      <th>7</th>\n",
       "      <td>[H:7][C:1]([H:8])([H:9])[C:2]([H:10])([H:11])[...</td>\n",
       "      <td>[-0.21021999344229697, -0.15823000594973563, -...</td>\n",
       "      <td>[-0.0923200011253357, -0.0796300008893013, -0....</td>\n",
       "      <td>[7]</td>\n",
       "    </tr>\n",
       "    <tr>\n",
       "      <th>8</th>\n",
       "      <td>[H:18][C:6]([H:19])([H:20])[C:5]([H:16])([H:17...</td>\n",
       "      <td>[-0.208649992197752, -0.1059999980032444, -0.2...</td>\n",
       "      <td>[-0.09075000137090683, -0.06669999659061432, -...</td>\n",
       "      <td>[8]</td>\n",
       "    </tr>\n",
       "    <tr>\n",
       "      <th>9</th>\n",
       "      <td>[H:13][C:4]([H:14])([H:15])[C:3]([H:11])([H:12...</td>\n",
       "      <td>[-0.2068299949169159, -0.10380999743938446, -0...</td>\n",
       "      <td>[-0.08893000297248363, -0.06451000235974788, -...</td>\n",
       "      <td>[9]</td>\n",
       "    </tr>\n",
       "  </tbody>\n",
       "</table>\n",
       "</div>"
      ],
      "text/plain": [
       "                                       mapped_smiles  \\\n",
       "0                      [H:2][C:1]([H:3])([H:4])[H:5]   \n",
       "1   [H:3][C:1]([H:4])([H:5])[C:2]([H:6])([H:7])[H:8]   \n",
       "2  [H:4][C:1]([H:5])([H:6])[C:2]([H:7])([H:8])[C:...   \n",
       "3  [H:5][C:1]([H:6])([H:7])[C:2]([H:8])([H:9])[C:...   \n",
       "4  [H:5][C:1]([H:6])([H:7])[C:2]([H:8])([C:3]([H:...   \n",
       "5  [H:6][C:1]([H:7])([H:8])[C:2]([H:9])([H:10])[C...   \n",
       "6  [H:15][C:5]([H:16])([H:17])[C:4]([H:13])([H:14...   \n",
       "7  [H:7][C:1]([H:8])([H:9])[C:2]([H:10])([H:11])[...   \n",
       "8  [H:18][C:6]([H:19])([H:20])[C:5]([H:16])([H:17...   \n",
       "9  [H:13][C:4]([H:14])([H:15])[C:3]([H:11])([H:12...   \n",
       "\n",
       "                                         am1_charges  \\\n",
       "0  [-0.2658799886703491, 0.06646999716758728, 0.0...   \n",
       "1  [-0.21174000017344952, -0.21174000017344952, 0...   \n",
       "2  [-0.21018000082536178, -0.15999999777837234, -...   \n",
       "3  [-0.21003000438213348, -0.15905000269412994, -...   \n",
       "4  [-0.20747000138674462, -0.10981000374470438, -...   \n",
       "5  [-0.21004000306129456, -0.15812000632286072, -...   \n",
       "6  [-0.20766000405830495, -0.10704000250381582, -...   \n",
       "7  [-0.21021999344229697, -0.15823000594973563, -...   \n",
       "8  [-0.208649992197752, -0.1059999980032444, -0.2...   \n",
       "9  [-0.2068299949169159, -0.10380999743938446, -0...   \n",
       "\n",
       "                                      am1bcc_charges custom_charges  \n",
       "0  [-0.10868000239133835, 0.027170000597834587, 0...            [0]  \n",
       "1  [-0.09384000208228827, -0.09384000208228827, 0...            [1]  \n",
       "2  [-0.09227999977090141, -0.08139999888160011, -...            [2]  \n",
       "3  [-0.09212999844125339, -0.08044999891093799, -...            [3]  \n",
       "4  [-0.08957000076770782, -0.07050999999046326, -...            [4]  \n",
       "5  [-0.09213999658823013, -0.07952000200748444, -...            [5]  \n",
       "6  [-0.0897599982426447, -0.06774000100353185, -0...            [6]  \n",
       "7  [-0.0923200011253357, -0.0796300008893013, -0....            [7]  \n",
       "8  [-0.09075000137090683, -0.06669999659061432, -...            [8]  \n",
       "9  [-0.08893000297248363, -0.06451000235974788, -...            [9]  "
      ]
     },
     "execution_count": 7,
     "metadata": {},
     "output_type": "execute_result"
    }
   ],
   "source": [
    "dataset.append_columns(\n",
    "    columns={\n",
    "        \"custom_charges\": [\n",
    "            [i]\n",
    "            for i in range(len(alkanes_smiles))\n",
    "        ]\n",
    "    }\n",
    ")\n",
    "dataset.to_pandas()"
   ]
  },
  {
   "cell_type": "code",
   "execution_count": null,
   "id": "9967c526",
   "metadata": {},
   "outputs": [],
   "source": []
  }
 ],
 "metadata": {
  "kernelspec": {
   "display_name": "Python 3 (ipykernel)",
   "language": "python",
   "name": "python3"
  },
  "language_info": {
   "codemirror_mode": {
    "name": "ipython",
    "version": 3
   },
   "file_extension": ".py",
   "mimetype": "text/x-python",
   "name": "python",
   "nbconvert_exporter": "python",
   "pygments_lexer": "ipython3",
   "version": "3.11.4"
  }
 },
 "nbformat": 4,
 "nbformat_minor": 5
}
