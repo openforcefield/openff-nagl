{
 "cells": [
  {
   "cell_type": "markdown",
   "id": "94ff1817-f641-4a11-ae4a-91c7a6c73a7e",
   "metadata": {},
   "source": [
    "# Train a GNN directly to an electric field\n",
    "\n",
    "To execute this example fully, the following packages are required.\n",
    "\n",
    "* openff-nagl\n",
    "* openff-recharge\n",
    "* openff-qcsubmit\n",
    "* psi4\n",
    "\n",
    "However, if you wish to just follow along the training part without first creating the training datasets yourself, you can get away with just `openff-nagl` installed and simply load the training/validation data from the provided `.parquet` files. The commands are provided at the end of the \"Generate and format training data\" section, but commented out."
   ]
  },
  {
   "cell_type": "code",
   "execution_count": 1,
   "id": "522bc606-c1aa-4cc7-89da-87440c61f8ba",
   "metadata": {},
   "outputs": [],
   "source": [
    "import tqdm\n",
    "\n",
    "from qcportal import PortalClient\n",
    "from openff.units import unit\n",
    "\n",
    "from openff.toolkit import Molecule\n",
    "from openff.qcsubmit.results import BasicResultCollection\n",
    "from openff.recharge.esp.storage import MoleculeESPRecord\n",
    "from openff.recharge.esp.qcresults import from_qcportal_results\n",
    "from openff.recharge.grids import MSKGridSettings\n",
    "from openff.recharge.utilities.geometry import compute_vector_field\n",
    "\n",
    "import pyarrow as pa\n",
    "import pyarrow.parquet as pq\n",
    "import numpy as np\n",
    "\n",
    "import torch"
   ]
  },
  {
   "cell_type": "markdown",
   "id": "097895ad-685b-4825-8c22-1a0f79467e9d",
   "metadata": {},
   "source": [
    "## Generate and format training data\n",
    "\n",
    "\n",
    "### Downloading from QCArchive\n",
    "First, we will create training data. We'll download a smaller training set for the purposes of this example."
   ]
  },
  {
   "cell_type": "code",
   "execution_count": 2,
   "id": "964318ce-9e08-4551-9af4-dc49ea89d027",
   "metadata": {},
   "outputs": [],
   "source": [
    "qc_client = PortalClient(\"https://api.qcarchive.molssi.org:443\", cache_dir=\".\")\n",
    "\n",
    "# download dataset from QCPortal\n",
    "br_esps_collection = BasicResultCollection.from_server(\n",
    "    client=qc_client,\n",
    "    datasets=\"OpenFF multi-Br ESP Fragment Conformers v1.1\",\n",
    "    spec_name=\"HF/6-31G*\",\n",
    ")\n",
    "\n",
    "records_and_molecules = br_esps_collection.to_records()"
   ]
  },
  {
   "cell_type": "markdown",
   "id": "54235869-1a60-4945-967d-602ef1f49185",
   "metadata": {},
   "source": [
    "### Converting to MoleculeESPRecords\n",
    "\n",
    "Now we convert to OpenFF Recharge records and compute the ESPs and electric fields of each molecule."
   ]
  },
  {
   "cell_type": "code",
   "execution_count": 3,
   "id": "25f9db71-4738-4431-9e65-7c0b015b40b4",
   "metadata": {},
   "outputs": [],
   "source": [
    "# Create OpenFF Recharge MoleculeESPRecords\n",
    "grid_settings = MSKGridSettings()\n",
    "\n",
    "# this can take a while; set records_and_molecules[:10]\n",
    "# to only use the first 10\n",
    "molecule_esp_records = [\n",
    "    from_qcportal_results(\n",
    "        qc_result=qcrecord,\n",
    "        qc_molecule=qcrecord.molecule,\n",
    "        qc_keyword_set=qcrecord.specification.keywords,\n",
    "        grid_settings=grid_settings,\n",
    "        compute_field=True\n",
    "    )\n",
    "    for qcrecord, _ in tqdm.tqdm(records_and_molecules)\n",
    "]"
   ]
  },
  {
   "cell_type": "markdown",
   "id": "9dc86d0a-c59e-4f8f-93c7-3b74adb6636e",
   "metadata": {},
   "source": [
    "### Convert to PyArrow dataset\n",
    "\n",
    "NAGL reads in and trains to data from [PyArrow tables](https://arrow.apache.org/docs/python/getstarted.html#creating-arrays-and-tables). Below we do some conversion of each electric field to fit a basic GeneralLinearFit target, which fits the equation Ax = b. To avoid carrying too many data points around, we can do some postprocessing by first flattening the electric field matrix from 3 dimensions to 2, then multiplying by the transpose of A.\n",
    "\n",
    "$$\\mathbf{A}\\vec{x} = \\vec{b}$$\n",
    "$$\\mathbf{A^{T}}\\mathbf{A}\\vec{x} = \\mathbf{A^{T}}\\vec{b}$$"
   ]
  },
  {
   "cell_type": "code",
   "execution_count": 4,
   "id": "70634680-8249-49f6-ad24-bc5178851360",
   "metadata": {},
   "outputs": [],
   "source": [
    "pyarrow_entries = []\n",
    "for molecule_esp_record in tqdm.tqdm(molecule_esp_records):\n",
    "    electric_field = molecule_esp_record.electric_field # in atomic units\n",
    "    grid = molecule_esp_record.grid_coordinates * unit.angstrom\n",
    "    conformer = molecule_esp_record.conformer * unit.angstrom\n",
    "\n",
    "    vector_field = compute_vector_field(\n",
    "        conformer.m_as(unit.bohr),  # shape: M x 3\n",
    "        grid.m_as(unit.bohr),  # shape: N x 3\n",
    "    ) # N x 3 x M\n",
    "\n",
    "    # postprocess so we're not carrying around millions of floats\n",
    "    # firstly flatten out N x 3 -> 3N x M\n",
    "    vector_field_2d = np.concatenate(vector_field, axis=0)\n",
    "    electric_field_1d = np.concatenate(electric_field, axis=0)\n",
    "\n",
    "    # now multiply by vector_field_2d's transpose\n",
    "    new_precursor_matrix = vector_field_2d.T @ vector_field_2d\n",
    "    new_field_vector = vector_field_2d.T @ electric_field_1d\n",
    "\n",
    "    n_atoms = conformer.shape[0]\n",
    "    assert new_precursor_matrix.shape == (n_atoms, n_atoms)\n",
    "    assert new_field_vector.shape == (n_atoms,)\n",
    "\n",
    "    # create entry. These columns are essential\n",
    "    # mapped_smiles is essential for every target\n",
    "    entry = {\n",
    "        \"mapped_smiles\": molecule_esp_record.tagged_smiles,\n",
    "        \"precursor_matrix\": new_precursor_matrix.flatten().tolist(),\n",
    "        \"prediction_vector\": new_field_vector.tolist()\n",
    "    }\n",
    "    pyarrow_entries.append(entry)\n",
    "\n",
    "\n",
    "# arbitrarily split into training and validation datasets\n",
    "training_pyarrow_entries = pyarrow_entries[:-100]\n",
    "validation_pyarrow_entries = pyarrow_entries[-100:]\n",
    "\n",
    "training_table = pa.Table.from_pylist(training_pyarrow_entries)\n",
    "validation_table = pa.Table.from_pylist(validation_pyarrow_entries)\n",
    "training_table"
   ]
  },
  {
   "cell_type": "code",
   "execution_count": 5,
   "id": "72a9cdce-5411-4fe3-b2ea-46fb63e09d2c",
   "metadata": {},
   "outputs": [],
   "source": [
    "pq.write_table(training_table, \"training_dataset_table.parquet\")\n",
    "pq.write_table(validation_table, \"validation_dataset_table.parquet\")\n",
    "\n",
    "# # to read back in:\n",
    "# training_table = pq.read_table(\"training_dataset_table.parquet\")\n",
    "# validation_table = pq.read_table(\"validation_dataset_table.parquet\")"
   ]
  },
  {
   "cell_type": "markdown",
   "id": "4682e8cb-fba8-4cec-97b0-4d996e24ecf9",
   "metadata": {},
   "source": [
    "## Set up for training a GNN"
   ]
  },
  {
   "cell_type": "code",
   "execution_count": 7,
   "id": "3d3c909f-c1b9-44e0-86e0-d4ccf6ceb996",
   "metadata": {},
   "outputs": [],
   "source": [
    "from openff.nagl.config import (\n",
    "    TrainingConfig,\n",
    "    OptimizerConfig,\n",
    "    ModelConfig,\n",
    "    DataConfig\n",
    ")\n",
    "from openff.nagl.config.model import (\n",
    "    ConvolutionModule, ReadoutModule,\n",
    "    ConvolutionLayer, ForwardLayer,\n",
    ")\n",
    "from openff.nagl.config.data import DatasetConfig\n",
    "from openff.nagl.training.training import TrainingGNNModel\n",
    "from openff.nagl.features.atoms import (\n",
    "    AtomicElement,\n",
    "    AtomConnectivity,\n",
    "    AtomInRingOfSize,\n",
    "    AtomAverageFormalCharge,\n",
    ")\n",
    "\n",
    "from openff.nagl.training.loss import GeneralLinearFitTarget"
   ]
  },
  {
   "cell_type": "markdown",
   "id": "88be032d-0101-479e-a468-2c5db34600fc",
   "metadata": {},
   "source": [
    "### Defining the training config\n",
    "\n",
    "#### Defining a ModelConfig\n",
    "\n",
    "First we define a ModelConfig.\n",
    "This can be done in Python, but in practice it is probably easier to define the model in a YAML file and load it with `ModelConfig.from_yaml`."
   ]
  },
  {
   "cell_type": "code",
   "execution_count": 8,
   "id": "f7ddfbde-1349-42ec-a2aa-0f9ead097e99",
   "metadata": {},
   "outputs": [],
   "source": [
    "atom_features = [\n",
    "    AtomicElement(categories=[\"H\", \"C\", \"N\", \"O\", \"F\", \"Br\", \"S\", \"P\", \"I\"]),\n",
    "    AtomConnectivity(categories=[1, 2, 3, 4, 5, 6]),\n",
    "    AtomInRingOfSize(ring_size=3),\n",
    "    AtomInRingOfSize(ring_size=4),\n",
    "    AtomInRingOfSize(ring_size=5),\n",
    "    AtomInRingOfSize(ring_size=6),\n",
    "    AtomAverageFormalCharge(),\n",
    "]\n",
    "\n",
    "# define our convolution module\n",
    "convolution_module = ConvolutionModule(\n",
    "    architecture=\"SAGEConv\",\n",
    "    # construct 6 layers with dropout 0 (default),\n",
    "    # hidden feature size 512, and ReLU activation function\n",
    "    # these layers can also be individually specified,\n",
    "    # but we just duplicate the layer 6 times for identical layers\n",
    "    layers=[\n",
    "        ConvolutionLayer(\n",
    "            hidden_feature_size=512,\n",
    "            activation_function=\"ReLU\",\n",
    "            aggregator_type=\"mean\"\n",
    "        )\n",
    "    ] * 6,\n",
    ")\n",
    "\n",
    "# define our readout module/s\n",
    "# multiple are allowed but let's focus on charges\n",
    "readout_modules = {\n",
    "    # key is the name of output property, any naming is allowed\n",
    "    \"charges\": ReadoutModule(\n",
    "        pooling=\"atoms\",\n",
    "        postprocess=\"compute_partial_charges\",\n",
    "        # 2 layers\n",
    "        layers=[\n",
    "            ForwardLayer(\n",
    "                hidden_feature_size=512,\n",
    "                activation_function=\"ReLU\",\n",
    "            )\n",
    "        ] * 2,\n",
    "    )\n",
    "}\n",
    "\n",
    "# bring it all together\n",
    "model_config = ModelConfig(\n",
    "    version=\"0.1\",\n",
    "    atom_features=atom_features,\n",
    "    convolution=convolution_module,\n",
    "    readouts=readout_modules,\n",
    ")"
   ]
  },
  {
   "cell_type": "markdown",
   "id": "a68f7b57-a1f7-43f4-ba2d-9579dd9562db",
   "metadata": {},
   "source": [
    "#### Defining a DataConfig\n",
    "\n",
    "We can then define our dataset configs. Here we also have to specify our training targets."
   ]
  },
  {
   "cell_type": "code",
   "execution_count": 9,
   "id": "bf524fad-42e5-4020-a9d9-90a56343b7a1",
   "metadata": {},
   "outputs": [],
   "source": [
    "target = GeneralLinearFitTarget(\n",
    "    # what we're using to evaluate loss\n",
    "    target_label=\"prediction_vector\",\n",
    "    # the output of the GNN we use to evaluate loss\n",
    "    prediction_label=\"charges\",\n",
    "    # the column in the table that contains the precursor matrix\n",
    "    design_matrix_column=\"precursor_matrix\",\n",
    "    # how we want to evaluate loss, e.g. RMSE, MSE, ...\n",
    "    metric=\"rmse\",\n",
    "    # how much to weight this target\n",
    "    # helps with scaling in multi-target optimizations\n",
    "    weight=1,\n",
    "    denominator=1,\n",
    ")\n",
    "\n",
    "training_to_electric_field = DatasetConfig(\n",
    "    sources=[\"training_dataset_table.parquet\"],\n",
    "    targets=[target],\n",
    "    batch_size=100,\n",
    ")\n",
    "validating_to_electric_field = DatasetConfig(\n",
    "    sources=[\"validation_dataset_table.parquet\"],\n",
    "    targets=[target],\n",
    "    batch_size=100,\n",
    ")\n",
    "\n",
    "# bringing it together\n",
    "data_config = DataConfig(\n",
    "    training=training_to_electric_field,\n",
    "    validation=validating_to_electric_field\n",
    ")"
   ]
  },
  {
   "cell_type": "markdown",
   "id": "cfd8bba9-241c-4c67-8f88-a89ae608ec89",
   "metadata": {},
   "source": [
    "#### Defining an OptimizerConfig\n",
    "\n",
    "The optimizer config is relatively simple; the only moving part here currently is the learning rate."
   ]
  },
  {
   "cell_type": "code",
   "execution_count": 10,
   "id": "1759ed0f-2e89-4d22-80ae-2c0ba04f37a0",
   "metadata": {},
   "outputs": [],
   "source": [
    "optimizer_config = OptimizerConfig(optimizer=\"Adam\", learning_rate=0.001)"
   ]
  },
  {
   "cell_type": "markdown",
   "id": "7c784871-e834-470e-a346-bde893326fee",
   "metadata": {},
   "source": [
    "#### Creating a TrainingConfig"
   ]
  },
  {
   "cell_type": "code",
   "execution_count": 11,
   "id": "f5958818-03ef-4580-9cbf-c588cbb3141f",
   "metadata": {},
   "outputs": [],
   "source": [
    "training_config = TrainingConfig(\n",
    "    model=model_config,\n",
    "    data=data_config,\n",
    "    optimizer=optimizer_config\n",
    ")"
   ]
  },
  {
   "cell_type": "markdown",
   "id": "17d61258-fe16-4993-9c19-57118c9d0a1a",
   "metadata": {},
   "source": [
    "### Creating a TrainingGNNModel\n",
    "\n",
    "Now we can create a `TrainingGNNModel`, which allows easy training of a `GNNModel`. The `GNNModel` can be accessed through `TrainingGNNModel.model`."
   ]
  },
  {
   "cell_type": "code",
   "execution_count": 12,
   "id": "3eefcea4-2e9a-4e4a-b3fc-939f3f733fb8",
   "metadata": {},
   "outputs": [
    {
     "data": {
      "text/plain": [
       "TrainingGNNModel(\n",
       "  (model): GNNModel(\n",
       "    (convolution_module): ConvolutionModule(\n",
       "      (gcn_layers): SAGEConvStack(\n",
       "        (0): SAGEConv(\n",
       "          (feat_drop): Dropout(p=0.0, inplace=False)\n",
       "          (activation): ReLU()\n",
       "          (fc_neigh): Linear(in_features=20, out_features=512, bias=False)\n",
       "          (fc_self): Linear(in_features=20, out_features=512, bias=True)\n",
       "        )\n",
       "        (1-5): 5 x SAGEConv(\n",
       "          (feat_drop): Dropout(p=0.0, inplace=False)\n",
       "          (activation): ReLU()\n",
       "          (fc_neigh): Linear(in_features=512, out_features=512, bias=False)\n",
       "          (fc_self): Linear(in_features=512, out_features=512, bias=True)\n",
       "        )\n",
       "      )\n",
       "    )\n",
       "    (readout_modules): ModuleDict(\n",
       "      (charges): ReadoutModule(\n",
       "        (pooling_layer): PoolAtomFeatures()\n",
       "        (readout_layers): SequentialLayers(\n",
       "          (0): Linear(in_features=512, out_features=512, bias=True)\n",
       "          (1): ReLU()\n",
       "          (2): Dropout(p=0.0, inplace=False)\n",
       "          (3): Linear(in_features=512, out_features=512, bias=True)\n",
       "          (4): ReLU()\n",
       "          (5): Dropout(p=0.0, inplace=False)\n",
       "          (6): Linear(in_features=512, out_features=2, bias=True)\n",
       "          (7): Identity()\n",
       "          (8): Dropout(p=0.0, inplace=False)\n",
       "        )\n",
       "        (postprocess_layer): ComputePartialCharges()\n",
       "      )\n",
       "    )\n",
       "  )\n",
       ")"
      ]
     },
     "execution_count": 12,
     "metadata": {},
     "output_type": "execute_result"
    }
   ],
   "source": [
    "training_model = TrainingGNNModel(training_config)\n",
    "training_model"
   ]
  },
  {
   "cell_type": "markdown",
   "id": "d696dae6-93ce-4f0a-ab0f-ebb7e72fa176",
   "metadata": {},
   "source": [
    "We can look at the initial capabilities of the model by comparing its charges to AM1-BCC charges. They're pretty bad."
   ]
  },
  {
   "cell_type": "code",
   "execution_count": 13,
   "id": "adb99158-fa97-412d-972b-89f6f563b84a",
   "metadata": {},
   "outputs": [
    {
     "data": {
      "text/plain": [
       "array([-0.91995488,  0.17183565, -1.15693703, -0.25618486,  0.1270349 ,\n",
       "        0.1270349 ,  0.1270349 ,  0.76822965,  0.76822965,  0.12183815,\n",
       "        0.12183815])"
      ]
     },
     "execution_count": 13,
     "metadata": {},
     "output_type": "execute_result"
    }
   ],
   "source": [
    "test_molecule = Molecule.from_smiles(\"CCCBr\")\n",
    "test_molecule.assign_partial_charges(\"am1bcc\")\n",
    "reference_charges = test_molecule.partial_charges.m\n",
    "\n",
    "# switch to eval mode\n",
    "training_model.model.eval()\n",
    "\n",
    "with torch.no_grad():\n",
    "    nagl_charges_1 = training_model.model.compute_properties(\n",
    "        test_molecule,\n",
    "        as_numpy=True\n",
    "    )[\"charges\"]\n",
    "\n",
    "# switch back to training mode\n",
    "training_model.model.train()\n",
    "\n",
    "# compare charges\n",
    "differences = reference_charges - nagl_charges_1\n",
    "differences"
   ]
  },
  {
   "cell_type": "markdown",
   "id": "79cb1d56-3d70-4307-93f0-0d5956fdb32e",
   "metadata": {},
   "source": [
    "### Training the model\n",
    "\n",
    "We use Pytorch Lightning to train."
   ]
  },
  {
   "cell_type": "code",
   "execution_count": 14,
   "id": "5bfcbce1-8323-4403-a607-89292681375b",
   "metadata": {},
   "outputs": [],
   "source": [
    "import pytorch_lightning as pl\n",
    "from pytorch_lightning.callbacks import TQDMProgressBar"
   ]
  },
  {
   "cell_type": "code",
   "execution_count": 15,
   "id": "4e0174d7-a57b-49d9-89a3-5c756adc0d8c",
   "metadata": {},
   "outputs": [
    {
     "name": "stderr",
     "output_type": "stream",
     "text": [
      "GPU available: True (mps), used: False\n",
      "TPU available: False, using: 0 TPU cores\n",
      "HPU available: False, using: 0 HPUs\n",
      "/Users/lily/micromamba/envs/train-gnn-to-electric-field/lib/python3.12/site-packages/pytorch_lightning/trainer/setup.py:177: GPU available but not used. You can set it by doing `Trainer(accelerator='gpu')`.\n",
      "Featurizing dataset: 0it [00:00, ?it/s]\n",
      "Featurizing batch:   0%|                                                                                                              | 0/550 [00:00<?, ?it/s]\u001b[A\n",
      "Featurizing batch:   3%|███                                                                                                 | 17/550 [00:00<00:03, 169.67it/s]\u001b[A\n",
      "Featurizing batch:   6%|██████▏                                                                                             | 34/550 [00:00<00:03, 161.02it/s]\u001b[A\n",
      "Featurizing batch:   9%|█████████▍                                                                                          | 52/550 [00:00<00:03, 164.91it/s]\u001b[A\n",
      "Featurizing batch:  13%|█████████████                                                                                       | 72/550 [00:00<00:02, 176.18it/s]\u001b[A\n",
      "Featurizing batch:  17%|████████████████▌                                                                                   | 91/550 [00:00<00:02, 180.82it/s]\u001b[A\n",
      "Featurizing batch:  20%|███████████████████▊                                                                               | 110/550 [00:00<00:02, 180.15it/s]\u001b[A\n",
      "Featurizing batch:  24%|███████████████████████▍                                                                           | 130/550 [00:00<00:02, 184.77it/s]\u001b[A\n",
      "Featurizing batch:  27%|██████████████████████████▉                                                                        | 150/550 [00:00<00:02, 187.46it/s]\u001b[A\n",
      "Featurizing batch:  31%|██████████████████████████████▍                                                                    | 169/550 [00:00<00:02, 182.73it/s]\u001b[A\n",
      "Featurizing batch:  34%|█████████████████████████████████▊                                                                 | 188/550 [00:01<00:01, 182.16it/s]\u001b[A\n",
      "Featurizing batch:  38%|█████████████████████████████████████▌                                                             | 209/550 [00:01<00:01, 188.90it/s]\u001b[A\n",
      "Featurizing batch:  42%|█████████████████████████████████████████▏                                                         | 229/550 [00:01<00:01, 190.58it/s]\u001b[A\n",
      "Featurizing batch:  45%|████████████████████████████████████████████▊                                                      | 249/550 [00:01<00:01, 177.67it/s]\u001b[A\n",
      "Featurizing batch:  49%|████████████████████████████████████████████████                                                   | 267/550 [00:01<00:01, 174.46it/s]\u001b[A\n",
      "Featurizing batch:  52%|███████████████████████████████████████████████████▎                                               | 285/550 [00:01<00:01, 168.87it/s]\u001b[A\n",
      "Featurizing batch:  55%|██████████████████████████████████████████████████████▎                                            | 302/550 [00:01<00:01, 169.07it/s]\u001b[A\n",
      "Featurizing batch:  58%|█████████████████████████████████████████████████████████▌                                         | 320/550 [00:01<00:01, 172.04it/s]\u001b[A\n",
      "Featurizing batch:  62%|█████████████████████████████████████████████████████████████▏                                     | 340/550 [00:01<00:01, 177.54it/s]\u001b[A\n",
      "Featurizing batch:  65%|████████████████████████████████████████████████████████████████▍                                  | 358/550 [00:02<00:01, 174.09it/s]\u001b[A\n",
      "Featurizing batch:  69%|████████████████████████████████████████████████████████████████████                               | 378/550 [00:02<00:00, 180.80it/s]\u001b[A\n",
      "Featurizing batch:  72%|███████████████████████████████████████████████████████████████████████▍                           | 397/550 [00:02<00:00, 182.03it/s]\u001b[A\n",
      "Featurizing batch:  76%|██████████████████████████████████████████████████████████████████████████▉                        | 416/550 [00:02<00:00, 182.62it/s]\u001b[A\n",
      "Featurizing batch:  79%|██████████████████████████████████████████████████████████████████████████████▎                    | 435/550 [00:02<00:00, 179.99it/s]\u001b[A\n",
      "Featurizing batch:  83%|█████████████████████████████████████████████████████████████████████████████████▋                 | 454/550 [00:02<00:00, 181.30it/s]\u001b[A\n",
      "Featurizing batch:  86%|█████████████████████████████████████████████████████████████████████████████████████▏             | 473/550 [00:02<00:00, 180.68it/s]\u001b[A\n",
      "Featurizing batch:  89%|████████████████████████████████████████████████████████████████████████████████████████▌          | 492/550 [00:02<00:00, 182.55it/s]\u001b[A\n",
      "Featurizing batch:  93%|████████████████████████████████████████████████████████████████████████████████████████████▏      | 512/550 [00:02<00:00, 187.26it/s]\u001b[A\n",
      "Featurizing batch: 100%|███████████████████████████████████████████████████████████████████████████████████████████████████| 550/550 [00:03<00:00, 177.28it/s]\u001b[A\n",
      "Featurizing dataset: 1it [00:03,  3.14s/it]\n",
      "Featurizing dataset: 0it [00:00, ?it/s]\n",
      "Featurizing batch:   0%|                                                                                                              | 0/100 [00:00<?, ?it/s]\u001b[A\n",
      "Featurizing batch:  19%|███████████████████                                                                                 | 19/100 [00:00<00:00, 183.54it/s]\u001b[A\n",
      "Featurizing batch:  38%|██████████████████████████████████████                                                              | 38/100 [00:00<00:00, 180.39it/s]\u001b[A\n",
      "Featurizing batch:  57%|████████████████████████████████████████████████████████▉                                           | 57/100 [00:00<00:00, 171.83it/s]\u001b[A\n",
      "Featurizing batch:  75%|███████████████████████████████████████████████████████████████████████████                         | 75/100 [00:00<00:00, 171.95it/s]\u001b[A\n",
      "Featurizing batch: 100%|███████████████████████████████████████████████████████████████████████████████████████████████████| 100/100 [00:00<00:00, 167.87it/s]\u001b[A\n",
      "Featurizing dataset: 1it [00:00,  1.66it/s]\n",
      "Featurizing dataset: 0it [00:00, ?it/s]\n",
      "Featurizing batch:   0%|                                                                                                              | 0/550 [00:00<?, ?it/s]\u001b[A\n",
      "Featurizing batch:   3%|███▎                                                                                                | 18/550 [00:00<00:02, 179.47it/s]\u001b[A\n",
      "Featurizing batch:   7%|██████▌                                                                                             | 36/550 [00:00<00:03, 167.60it/s]\u001b[A\n",
      "Featurizing batch:  10%|█████████▋                                                                                          | 53/550 [00:00<00:02, 168.14it/s]\u001b[A\n",
      "Featurizing batch:  13%|█████████████▎                                                                                      | 73/550 [00:00<00:02, 178.84it/s]\u001b[A\n",
      "Featurizing batch:  17%|████████████████▉                                                                                   | 93/550 [00:00<00:02, 183.41it/s]\u001b[A\n",
      "Featurizing batch:  20%|████████████████████▏                                                                              | 112/550 [00:00<00:02, 182.40it/s]\u001b[A\n",
      "Featurizing batch:  24%|███████████████████████▉                                                                           | 133/550 [00:00<00:02, 190.21it/s]\u001b[A\n",
      "Featurizing batch:  28%|███████████████████████████▌                                                                       | 153/550 [00:00<00:02, 188.92it/s]\u001b[A\n",
      "Featurizing batch:  31%|██████████████████████████████▉                                                                    | 172/550 [00:00<00:02, 184.42it/s]\u001b[A\n",
      "Featurizing batch:  35%|██████████████████████████████████▍                                                                | 191/550 [00:01<00:01, 185.83it/s]\u001b[A\n",
      "Featurizing batch:  39%|██████████████████████████████████████▏                                                            | 212/550 [00:01<00:01, 191.74it/s]\u001b[A\n",
      "Featurizing batch:  42%|█████████████████████████████████████████▉                                                         | 233/550 [00:01<00:01, 195.64it/s]\u001b[A\n",
      "Featurizing batch:  46%|█████████████████████████████████████████████▋                                                     | 254/550 [00:01<00:01, 199.50it/s]\u001b[A\n",
      "Featurizing batch:  50%|█████████████████████████████████████████████████▎                                                 | 274/550 [00:01<00:01, 176.02it/s]\u001b[A\n",
      "Featurizing batch:  53%|████████████████████████████████████████████████████▋                                              | 293/550 [00:01<00:01, 178.42it/s]\u001b[A\n",
      "Featurizing batch:  57%|████████████████████████████████████████████████████████▏                                          | 312/550 [00:01<00:01, 176.64it/s]\u001b[A\n",
      "Featurizing batch:  60%|███████████████████████████████████████████████████████████▍                                       | 330/550 [00:01<00:01, 168.74it/s]\u001b[A\n",
      "Featurizing batch:  63%|██████████████████████████████████████████████████████████████▊                                    | 349/550 [00:01<00:01, 170.38it/s]\u001b[A\n",
      "Featurizing batch:  67%|██████████████████████████████████████████████████████████████████                                 | 367/550 [00:02<00:01, 172.02it/s]\u001b[A\n",
      "Featurizing batch:  71%|██████████████████████████████████████████████████████████████████████                             | 389/550 [00:02<00:00, 182.60it/s]\u001b[A\n",
      "Featurizing batch:  74%|█████████████████████████████████████████████████████████████████████████▍                         | 408/550 [00:02<00:00, 182.26it/s]\u001b[A\n",
      "Featurizing batch:  78%|████████████████████████████████████████████████████████████████████████████▊                      | 427/550 [00:02<00:00, 179.95it/s]\u001b[A\n",
      "Featurizing batch:  82%|████████████████████████████████████████████████████████████████████████████████▊                  | 449/550 [00:02<00:00, 189.16it/s]\u001b[A\n",
      "Featurizing batch:  85%|████████████████████████████████████████████████████████████████████████████████████▏              | 468/550 [00:02<00:00, 180.04it/s]\u001b[A\n",
      "Featurizing batch:  89%|████████████████████████████████████████████████████████████████████████████████████████           | 489/550 [00:02<00:00, 184.67it/s]\u001b[A\n",
      "Featurizing batch:  93%|███████████████████████████████████████████████████████████████████████████████████████████▌       | 509/550 [00:02<00:00, 188.93it/s]\u001b[A\n",
      "Featurizing batch:  96%|███████████████████████████████████████████████████████████████████████████████████████████████▍   | 530/550 [00:02<00:00, 193.15it/s]\u001b[A\n",
      "Featurizing batch: 100%|███████████████████████████████████████████████████████████████████████████████████████████████████| 550/550 [00:03<00:00, 181.73it/s]\u001b[A\n",
      "Featurizing dataset: 1it [00:03,  3.07s/it]\n",
      "Featurizing dataset: 0it [00:00, ?it/s]\n",
      "Featurizing batch:   0%|                                                                                                              | 0/100 [00:00<?, ?it/s]\u001b[A\n",
      "Featurizing batch:  18%|██████████████████                                                                                  | 18/100 [00:00<00:00, 176.89it/s]\u001b[A\n",
      "Featurizing batch:  37%|█████████████████████████████████████                                                               | 37/100 [00:00<00:00, 179.27it/s]\u001b[A\n",
      "Featurizing batch:  56%|████████████████████████████████████████████████████████                                            | 56/100 [00:00<00:00, 182.09it/s]\u001b[A\n",
      "Featurizing batch:  75%|███████████████████████████████████████████████████████████████████████████                         | 75/100 [00:00<00:00, 176.70it/s]\u001b[A\n",
      "Featurizing batch: 100%|███████████████████████████████████████████████████████████████████████████████████████████████████| 100/100 [00:00<00:00, 163.31it/s]\u001b[A\n",
      "Featurizing dataset: 1it [00:00,  1.61it/s]\n",
      "\n",
      "  | Name  | Type     | Params | Mode \n",
      "-------------------------------------------\n",
      "0 | model | GNNModel | 3.2 M  | train\n",
      "-------------------------------------------\n",
      "3.2 M     Trainable params\n",
      "0         Non-trainable params\n",
      "3.2 M     Total params\n",
      "12.685    Total estimated model params size (MB)\n",
      "47        Modules in train mode\n",
      "0         Modules in eval mode\n"
     ]
    },
    {
     "data": {
      "application/vnd.jupyter.widget-view+json": {
       "model_id": "",
       "version_major": 2,
       "version_minor": 0
      },
      "text/plain": [
       "Sanity Checking: |                                                                                            …"
      ]
     },
     "metadata": {},
     "output_type": "display_data"
    },
    {
     "name": "stderr",
     "output_type": "stream",
     "text": [
      "/Users/lily/micromamba/envs/train-gnn-to-electric-field/lib/python3.12/site-packages/pytorch_lightning/trainer/connectors/data_connector.py:424: The 'val_dataloader' does not have many workers which may be a bottleneck. Consider increasing the value of the `num_workers` argument` to `num_workers=9` in the `DataLoader` to improve performance.\n",
      "/Users/lily/micromamba/envs/train-gnn-to-electric-field/lib/python3.12/site-packages/pytorch_lightning/trainer/connectors/data_connector.py:424: The 'train_dataloader' does not have many workers which may be a bottleneck. Consider increasing the value of the `num_workers` argument` to `num_workers=9` in the `DataLoader` to improve performance.\n",
      "/Users/lily/micromamba/envs/train-gnn-to-electric-field/lib/python3.12/site-packages/pytorch_lightning/loops/fit_loop.py:298: The number of training batches (6) is smaller than the logging interval Trainer(log_every_n_steps=50). Set a lower value for log_every_n_steps if you want to see logs for the training epoch.\n"
     ]
    },
    {
     "data": {
      "application/vnd.jupyter.widget-view+json": {
       "model_id": "f309ab266a254228ad637b955436dd21",
       "version_major": 2,
       "version_minor": 0
      },
      "text/plain": [
       "Training: |                                                                                                   …"
      ]
     },
     "metadata": {},
     "output_type": "display_data"
    },
    {
     "data": {
      "application/vnd.jupyter.widget-view+json": {
       "model_id": "",
       "version_major": 2,
       "version_minor": 0
      },
      "text/plain": [
       "Validation: |                                                                                                 …"
      ]
     },
     "metadata": {},
     "output_type": "display_data"
    },
    {
     "data": {
      "application/vnd.jupyter.widget-view+json": {
       "model_id": "",
       "version_major": 2,
       "version_minor": 0
      },
      "text/plain": [
       "Validation: |                                                                                                 …"
      ]
     },
     "metadata": {},
     "output_type": "display_data"
    },
    {
     "data": {
      "application/vnd.jupyter.widget-view+json": {
       "model_id": "",
       "version_major": 2,
       "version_minor": 0
      },
      "text/plain": [
       "Validation: |                                                                                                 …"
      ]
     },
     "metadata": {},
     "output_type": "display_data"
    },
    {
     "data": {
      "application/vnd.jupyter.widget-view+json": {
       "model_id": "",
       "version_major": 2,
       "version_minor": 0
      },
      "text/plain": [
       "Validation: |                                                                                                 …"
      ]
     },
     "metadata": {},
     "output_type": "display_data"
    },
    {
     "data": {
      "application/vnd.jupyter.widget-view+json": {
       "model_id": "",
       "version_major": 2,
       "version_minor": 0
      },
      "text/plain": [
       "Validation: |                                                                                                 …"
      ]
     },
     "metadata": {},
     "output_type": "display_data"
    },
    {
     "data": {
      "application/vnd.jupyter.widget-view+json": {
       "model_id": "",
       "version_major": 2,
       "version_minor": 0
      },
      "text/plain": [
       "Validation: |                                                                                                 …"
      ]
     },
     "metadata": {},
     "output_type": "display_data"
    },
    {
     "data": {
      "application/vnd.jupyter.widget-view+json": {
       "model_id": "",
       "version_major": 2,
       "version_minor": 0
      },
      "text/plain": [
       "Validation: |                                                                                                 …"
      ]
     },
     "metadata": {},
     "output_type": "display_data"
    },
    {
     "data": {
      "application/vnd.jupyter.widget-view+json": {
       "model_id": "",
       "version_major": 2,
       "version_minor": 0
      },
      "text/plain": [
       "Validation: |                                                                                                 …"
      ]
     },
     "metadata": {},
     "output_type": "display_data"
    },
    {
     "data": {
      "application/vnd.jupyter.widget-view+json": {
       "model_id": "",
       "version_major": 2,
       "version_minor": 0
      },
      "text/plain": [
       "Validation: |                                                                                                 …"
      ]
     },
     "metadata": {},
     "output_type": "display_data"
    },
    {
     "data": {
      "application/vnd.jupyter.widget-view+json": {
       "model_id": "",
       "version_major": 2,
       "version_minor": 0
      },
      "text/plain": [
       "Validation: |                                                                                                 …"
      ]
     },
     "metadata": {},
     "output_type": "display_data"
    },
    {
     "data": {
      "application/vnd.jupyter.widget-view+json": {
       "model_id": "",
       "version_major": 2,
       "version_minor": 0
      },
      "text/plain": [
       "Validation: |                                                                                                 …"
      ]
     },
     "metadata": {},
     "output_type": "display_data"
    },
    {
     "data": {
      "application/vnd.jupyter.widget-view+json": {
       "model_id": "",
       "version_major": 2,
       "version_minor": 0
      },
      "text/plain": [
       "Validation: |                                                                                                 …"
      ]
     },
     "metadata": {},
     "output_type": "display_data"
    },
    {
     "data": {
      "application/vnd.jupyter.widget-view+json": {
       "model_id": "",
       "version_major": 2,
       "version_minor": 0
      },
      "text/plain": [
       "Validation: |                                                                                                 …"
      ]
     },
     "metadata": {},
     "output_type": "display_data"
    },
    {
     "data": {
      "application/vnd.jupyter.widget-view+json": {
       "model_id": "",
       "version_major": 2,
       "version_minor": 0
      },
      "text/plain": [
       "Validation: |                                                                                                 …"
      ]
     },
     "metadata": {},
     "output_type": "display_data"
    },
    {
     "data": {
      "application/vnd.jupyter.widget-view+json": {
       "model_id": "",
       "version_major": 2,
       "version_minor": 0
      },
      "text/plain": [
       "Validation: |                                                                                                 …"
      ]
     },
     "metadata": {},
     "output_type": "display_data"
    },
    {
     "data": {
      "application/vnd.jupyter.widget-view+json": {
       "model_id": "",
       "version_major": 2,
       "version_minor": 0
      },
      "text/plain": [
       "Validation: |                                                                                                 …"
      ]
     },
     "metadata": {},
     "output_type": "display_data"
    },
    {
     "data": {
      "application/vnd.jupyter.widget-view+json": {
       "model_id": "",
       "version_major": 2,
       "version_minor": 0
      },
      "text/plain": [
       "Validation: |                                                                                                 …"
      ]
     },
     "metadata": {},
     "output_type": "display_data"
    },
    {
     "data": {
      "application/vnd.jupyter.widget-view+json": {
       "model_id": "",
       "version_major": 2,
       "version_minor": 0
      },
      "text/plain": [
       "Validation: |                                                                                                 …"
      ]
     },
     "metadata": {},
     "output_type": "display_data"
    },
    {
     "data": {
      "application/vnd.jupyter.widget-view+json": {
       "model_id": "",
       "version_major": 2,
       "version_minor": 0
      },
      "text/plain": [
       "Validation: |                                                                                                 …"
      ]
     },
     "metadata": {},
     "output_type": "display_data"
    },
    {
     "data": {
      "application/vnd.jupyter.widget-view+json": {
       "model_id": "",
       "version_major": 2,
       "version_minor": 0
      },
      "text/plain": [
       "Validation: |                                                                                                 …"
      ]
     },
     "metadata": {},
     "output_type": "display_data"
    },
    {
     "data": {
      "application/vnd.jupyter.widget-view+json": {
       "model_id": "",
       "version_major": 2,
       "version_minor": 0
      },
      "text/plain": [
       "Validation: |                                                                                                 …"
      ]
     },
     "metadata": {},
     "output_type": "display_data"
    },
    {
     "data": {
      "application/vnd.jupyter.widget-view+json": {
       "model_id": "",
       "version_major": 2,
       "version_minor": 0
      },
      "text/plain": [
       "Validation: |                                                                                                 …"
      ]
     },
     "metadata": {},
     "output_type": "display_data"
    },
    {
     "data": {
      "application/vnd.jupyter.widget-view+json": {
       "model_id": "",
       "version_major": 2,
       "version_minor": 0
      },
      "text/plain": [
       "Validation: |                                                                                                 …"
      ]
     },
     "metadata": {},
     "output_type": "display_data"
    },
    {
     "data": {
      "application/vnd.jupyter.widget-view+json": {
       "model_id": "",
       "version_major": 2,
       "version_minor": 0
      },
      "text/plain": [
       "Validation: |                                                                                                 …"
      ]
     },
     "metadata": {},
     "output_type": "display_data"
    },
    {
     "data": {
      "application/vnd.jupyter.widget-view+json": {
       "model_id": "",
       "version_major": 2,
       "version_minor": 0
      },
      "text/plain": [
       "Validation: |                                                                                                 …"
      ]
     },
     "metadata": {},
     "output_type": "display_data"
    },
    {
     "data": {
      "application/vnd.jupyter.widget-view+json": {
       "model_id": "",
       "version_major": 2,
       "version_minor": 0
      },
      "text/plain": [
       "Validation: |                                                                                                 …"
      ]
     },
     "metadata": {},
     "output_type": "display_data"
    },
    {
     "data": {
      "application/vnd.jupyter.widget-view+json": {
       "model_id": "",
       "version_major": 2,
       "version_minor": 0
      },
      "text/plain": [
       "Validation: |                                                                                                 …"
      ]
     },
     "metadata": {},
     "output_type": "display_data"
    },
    {
     "data": {
      "application/vnd.jupyter.widget-view+json": {
       "model_id": "",
       "version_major": 2,
       "version_minor": 0
      },
      "text/plain": [
       "Validation: |                                                                                                 …"
      ]
     },
     "metadata": {},
     "output_type": "display_data"
    },
    {
     "data": {
      "application/vnd.jupyter.widget-view+json": {
       "model_id": "",
       "version_major": 2,
       "version_minor": 0
      },
      "text/plain": [
       "Validation: |                                                                                                 …"
      ]
     },
     "metadata": {},
     "output_type": "display_data"
    },
    {
     "data": {
      "application/vnd.jupyter.widget-view+json": {
       "model_id": "",
       "version_major": 2,
       "version_minor": 0
      },
      "text/plain": [
       "Validation: |                                                                                                 …"
      ]
     },
     "metadata": {},
     "output_type": "display_data"
    },
    {
     "data": {
      "application/vnd.jupyter.widget-view+json": {
       "model_id": "",
       "version_major": 2,
       "version_minor": 0
      },
      "text/plain": [
       "Validation: |                                                                                                 …"
      ]
     },
     "metadata": {},
     "output_type": "display_data"
    },
    {
     "data": {
      "application/vnd.jupyter.widget-view+json": {
       "model_id": "",
       "version_major": 2,
       "version_minor": 0
      },
      "text/plain": [
       "Validation: |                                                                                                 …"
      ]
     },
     "metadata": {},
     "output_type": "display_data"
    },
    {
     "data": {
      "application/vnd.jupyter.widget-view+json": {
       "model_id": "",
       "version_major": 2,
       "version_minor": 0
      },
      "text/plain": [
       "Validation: |                                                                                                 …"
      ]
     },
     "metadata": {},
     "output_type": "display_data"
    },
    {
     "data": {
      "application/vnd.jupyter.widget-view+json": {
       "model_id": "",
       "version_major": 2,
       "version_minor": 0
      },
      "text/plain": [
       "Validation: |                                                                                                 …"
      ]
     },
     "metadata": {},
     "output_type": "display_data"
    },
    {
     "data": {
      "application/vnd.jupyter.widget-view+json": {
       "model_id": "",
       "version_major": 2,
       "version_minor": 0
      },
      "text/plain": [
       "Validation: |                                                                                                 …"
      ]
     },
     "metadata": {},
     "output_type": "display_data"
    },
    {
     "data": {
      "application/vnd.jupyter.widget-view+json": {
       "model_id": "",
       "version_major": 2,
       "version_minor": 0
      },
      "text/plain": [
       "Validation: |                                                                                                 …"
      ]
     },
     "metadata": {},
     "output_type": "display_data"
    },
    {
     "data": {
      "application/vnd.jupyter.widget-view+json": {
       "model_id": "",
       "version_major": 2,
       "version_minor": 0
      },
      "text/plain": [
       "Validation: |                                                                                                 …"
      ]
     },
     "metadata": {},
     "output_type": "display_data"
    },
    {
     "data": {
      "application/vnd.jupyter.widget-view+json": {
       "model_id": "",
       "version_major": 2,
       "version_minor": 0
      },
      "text/plain": [
       "Validation: |                                                                                                 …"
      ]
     },
     "metadata": {},
     "output_type": "display_data"
    },
    {
     "data": {
      "application/vnd.jupyter.widget-view+json": {
       "model_id": "",
       "version_major": 2,
       "version_minor": 0
      },
      "text/plain": [
       "Validation: |                                                                                                 …"
      ]
     },
     "metadata": {},
     "output_type": "display_data"
    },
    {
     "data": {
      "application/vnd.jupyter.widget-view+json": {
       "model_id": "",
       "version_major": 2,
       "version_minor": 0
      },
      "text/plain": [
       "Validation: |                                                                                                 …"
      ]
     },
     "metadata": {},
     "output_type": "display_data"
    },
    {
     "data": {
      "application/vnd.jupyter.widget-view+json": {
       "model_id": "",
       "version_major": 2,
       "version_minor": 0
      },
      "text/plain": [
       "Validation: |                                                                                                 …"
      ]
     },
     "metadata": {},
     "output_type": "display_data"
    },
    {
     "data": {
      "application/vnd.jupyter.widget-view+json": {
       "model_id": "",
       "version_major": 2,
       "version_minor": 0
      },
      "text/plain": [
       "Validation: |                                                                                                 …"
      ]
     },
     "metadata": {},
     "output_type": "display_data"
    },
    {
     "data": {
      "application/vnd.jupyter.widget-view+json": {
       "model_id": "",
       "version_major": 2,
       "version_minor": 0
      },
      "text/plain": [
       "Validation: |                                                                                                 …"
      ]
     },
     "metadata": {},
     "output_type": "display_data"
    },
    {
     "data": {
      "application/vnd.jupyter.widget-view+json": {
       "model_id": "",
       "version_major": 2,
       "version_minor": 0
      },
      "text/plain": [
       "Validation: |                                                                                                 …"
      ]
     },
     "metadata": {},
     "output_type": "display_data"
    },
    {
     "data": {
      "application/vnd.jupyter.widget-view+json": {
       "model_id": "",
       "version_major": 2,
       "version_minor": 0
      },
      "text/plain": [
       "Validation: |                                                                                                 …"
      ]
     },
     "metadata": {},
     "output_type": "display_data"
    },
    {
     "data": {
      "application/vnd.jupyter.widget-view+json": {
       "model_id": "",
       "version_major": 2,
       "version_minor": 0
      },
      "text/plain": [
       "Validation: |                                                                                                 …"
      ]
     },
     "metadata": {},
     "output_type": "display_data"
    },
    {
     "data": {
      "application/vnd.jupyter.widget-view+json": {
       "model_id": "",
       "version_major": 2,
       "version_minor": 0
      },
      "text/plain": [
       "Validation: |                                                                                                 …"
      ]
     },
     "metadata": {},
     "output_type": "display_data"
    },
    {
     "data": {
      "application/vnd.jupyter.widget-view+json": {
       "model_id": "",
       "version_major": 2,
       "version_minor": 0
      },
      "text/plain": [
       "Validation: |                                                                                                 …"
      ]
     },
     "metadata": {},
     "output_type": "display_data"
    },
    {
     "data": {
      "application/vnd.jupyter.widget-view+json": {
       "model_id": "",
       "version_major": 2,
       "version_minor": 0
      },
      "text/plain": [
       "Validation: |                                                                                                 …"
      ]
     },
     "metadata": {},
     "output_type": "display_data"
    },
    {
     "data": {
      "application/vnd.jupyter.widget-view+json": {
       "model_id": "",
       "version_major": 2,
       "version_minor": 0
      },
      "text/plain": [
       "Validation: |                                                                                                 …"
      ]
     },
     "metadata": {},
     "output_type": "display_data"
    },
    {
     "data": {
      "application/vnd.jupyter.widget-view+json": {
       "model_id": "",
       "version_major": 2,
       "version_minor": 0
      },
      "text/plain": [
       "Validation: |                                                                                                 …"
      ]
     },
     "metadata": {},
     "output_type": "display_data"
    },
    {
     "data": {
      "application/vnd.jupyter.widget-view+json": {
       "model_id": "",
       "version_major": 2,
       "version_minor": 0
      },
      "text/plain": [
       "Validation: |                                                                                                 …"
      ]
     },
     "metadata": {},
     "output_type": "display_data"
    },
    {
     "data": {
      "application/vnd.jupyter.widget-view+json": {
       "model_id": "",
       "version_major": 2,
       "version_minor": 0
      },
      "text/plain": [
       "Validation: |                                                                                                 …"
      ]
     },
     "metadata": {},
     "output_type": "display_data"
    },
    {
     "data": {
      "application/vnd.jupyter.widget-view+json": {
       "model_id": "",
       "version_major": 2,
       "version_minor": 0
      },
      "text/plain": [
       "Validation: |                                                                                                 …"
      ]
     },
     "metadata": {},
     "output_type": "display_data"
    },
    {
     "data": {
      "application/vnd.jupyter.widget-view+json": {
       "model_id": "",
       "version_major": 2,
       "version_minor": 0
      },
      "text/plain": [
       "Validation: |                                                                                                 …"
      ]
     },
     "metadata": {},
     "output_type": "display_data"
    },
    {
     "data": {
      "application/vnd.jupyter.widget-view+json": {
       "model_id": "",
       "version_major": 2,
       "version_minor": 0
      },
      "text/plain": [
       "Validation: |                                                                                                 …"
      ]
     },
     "metadata": {},
     "output_type": "display_data"
    },
    {
     "data": {
      "application/vnd.jupyter.widget-view+json": {
       "model_id": "",
       "version_major": 2,
       "version_minor": 0
      },
      "text/plain": [
       "Validation: |                                                                                                 …"
      ]
     },
     "metadata": {},
     "output_type": "display_data"
    },
    {
     "data": {
      "application/vnd.jupyter.widget-view+json": {
       "model_id": "",
       "version_major": 2,
       "version_minor": 0
      },
      "text/plain": [
       "Validation: |                                                                                                 …"
      ]
     },
     "metadata": {},
     "output_type": "display_data"
    },
    {
     "data": {
      "application/vnd.jupyter.widget-view+json": {
       "model_id": "",
       "version_major": 2,
       "version_minor": 0
      },
      "text/plain": [
       "Validation: |                                                                                                 …"
      ]
     },
     "metadata": {},
     "output_type": "display_data"
    },
    {
     "data": {
      "application/vnd.jupyter.widget-view+json": {
       "model_id": "",
       "version_major": 2,
       "version_minor": 0
      },
      "text/plain": [
       "Validation: |                                                                                                 …"
      ]
     },
     "metadata": {},
     "output_type": "display_data"
    },
    {
     "data": {
      "application/vnd.jupyter.widget-view+json": {
       "model_id": "",
       "version_major": 2,
       "version_minor": 0
      },
      "text/plain": [
       "Validation: |                                                                                                 …"
      ]
     },
     "metadata": {},
     "output_type": "display_data"
    },
    {
     "data": {
      "application/vnd.jupyter.widget-view+json": {
       "model_id": "",
       "version_major": 2,
       "version_minor": 0
      },
      "text/plain": [
       "Validation: |                                                                                                 …"
      ]
     },
     "metadata": {},
     "output_type": "display_data"
    },
    {
     "data": {
      "application/vnd.jupyter.widget-view+json": {
       "model_id": "",
       "version_major": 2,
       "version_minor": 0
      },
      "text/plain": [
       "Validation: |                                                                                                 …"
      ]
     },
     "metadata": {},
     "output_type": "display_data"
    },
    {
     "data": {
      "application/vnd.jupyter.widget-view+json": {
       "model_id": "",
       "version_major": 2,
       "version_minor": 0
      },
      "text/plain": [
       "Validation: |                                                                                                 …"
      ]
     },
     "metadata": {},
     "output_type": "display_data"
    },
    {
     "data": {
      "application/vnd.jupyter.widget-view+json": {
       "model_id": "",
       "version_major": 2,
       "version_minor": 0
      },
      "text/plain": [
       "Validation: |                                                                                                 …"
      ]
     },
     "metadata": {},
     "output_type": "display_data"
    },
    {
     "data": {
      "application/vnd.jupyter.widget-view+json": {
       "model_id": "",
       "version_major": 2,
       "version_minor": 0
      },
      "text/plain": [
       "Validation: |                                                                                                 …"
      ]
     },
     "metadata": {},
     "output_type": "display_data"
    },
    {
     "data": {
      "application/vnd.jupyter.widget-view+json": {
       "model_id": "",
       "version_major": 2,
       "version_minor": 0
      },
      "text/plain": [
       "Validation: |                                                                                                 …"
      ]
     },
     "metadata": {},
     "output_type": "display_data"
    },
    {
     "data": {
      "application/vnd.jupyter.widget-view+json": {
       "model_id": "",
       "version_major": 2,
       "version_minor": 0
      },
      "text/plain": [
       "Validation: |                                                                                                 …"
      ]
     },
     "metadata": {},
     "output_type": "display_data"
    },
    {
     "data": {
      "application/vnd.jupyter.widget-view+json": {
       "model_id": "",
       "version_major": 2,
       "version_minor": 0
      },
      "text/plain": [
       "Validation: |                                                                                                 …"
      ]
     },
     "metadata": {},
     "output_type": "display_data"
    },
    {
     "data": {
      "application/vnd.jupyter.widget-view+json": {
       "model_id": "",
       "version_major": 2,
       "version_minor": 0
      },
      "text/plain": [
       "Validation: |                                                                                                 …"
      ]
     },
     "metadata": {},
     "output_type": "display_data"
    },
    {
     "data": {
      "application/vnd.jupyter.widget-view+json": {
       "model_id": "",
       "version_major": 2,
       "version_minor": 0
      },
      "text/plain": [
       "Validation: |                                                                                                 …"
      ]
     },
     "metadata": {},
     "output_type": "display_data"
    },
    {
     "data": {
      "application/vnd.jupyter.widget-view+json": {
       "model_id": "",
       "version_major": 2,
       "version_minor": 0
      },
      "text/plain": [
       "Validation: |                                                                                                 …"
      ]
     },
     "metadata": {},
     "output_type": "display_data"
    },
    {
     "data": {
      "application/vnd.jupyter.widget-view+json": {
       "model_id": "",
       "version_major": 2,
       "version_minor": 0
      },
      "text/plain": [
       "Validation: |                                                                                                 …"
      ]
     },
     "metadata": {},
     "output_type": "display_data"
    },
    {
     "data": {
      "application/vnd.jupyter.widget-view+json": {
       "model_id": "",
       "version_major": 2,
       "version_minor": 0
      },
      "text/plain": [
       "Validation: |                                                                                                 …"
      ]
     },
     "metadata": {},
     "output_type": "display_data"
    },
    {
     "data": {
      "application/vnd.jupyter.widget-view+json": {
       "model_id": "",
       "version_major": 2,
       "version_minor": 0
      },
      "text/plain": [
       "Validation: |                                                                                                 …"
      ]
     },
     "metadata": {},
     "output_type": "display_data"
    },
    {
     "data": {
      "application/vnd.jupyter.widget-view+json": {
       "model_id": "",
       "version_major": 2,
       "version_minor": 0
      },
      "text/plain": [
       "Validation: |                                                                                                 …"
      ]
     },
     "metadata": {},
     "output_type": "display_data"
    },
    {
     "data": {
      "application/vnd.jupyter.widget-view+json": {
       "model_id": "",
       "version_major": 2,
       "version_minor": 0
      },
      "text/plain": [
       "Validation: |                                                                                                 …"
      ]
     },
     "metadata": {},
     "output_type": "display_data"
    },
    {
     "data": {
      "application/vnd.jupyter.widget-view+json": {
       "model_id": "",
       "version_major": 2,
       "version_minor": 0
      },
      "text/plain": [
       "Validation: |                                                                                                 …"
      ]
     },
     "metadata": {},
     "output_type": "display_data"
    },
    {
     "data": {
      "application/vnd.jupyter.widget-view+json": {
       "model_id": "",
       "version_major": 2,
       "version_minor": 0
      },
      "text/plain": [
       "Validation: |                                                                                                 …"
      ]
     },
     "metadata": {},
     "output_type": "display_data"
    },
    {
     "data": {
      "application/vnd.jupyter.widget-view+json": {
       "model_id": "",
       "version_major": 2,
       "version_minor": 0
      },
      "text/plain": [
       "Validation: |                                                                                                 …"
      ]
     },
     "metadata": {},
     "output_type": "display_data"
    },
    {
     "data": {
      "application/vnd.jupyter.widget-view+json": {
       "model_id": "",
       "version_major": 2,
       "version_minor": 0
      },
      "text/plain": [
       "Validation: |                                                                                                 …"
      ]
     },
     "metadata": {},
     "output_type": "display_data"
    },
    {
     "data": {
      "application/vnd.jupyter.widget-view+json": {
       "model_id": "",
       "version_major": 2,
       "version_minor": 0
      },
      "text/plain": [
       "Validation: |                                                                                                 …"
      ]
     },
     "metadata": {},
     "output_type": "display_data"
    },
    {
     "data": {
      "application/vnd.jupyter.widget-view+json": {
       "model_id": "",
       "version_major": 2,
       "version_minor": 0
      },
      "text/plain": [
       "Validation: |                                                                                                 …"
      ]
     },
     "metadata": {},
     "output_type": "display_data"
    },
    {
     "data": {
      "application/vnd.jupyter.widget-view+json": {
       "model_id": "",
       "version_major": 2,
       "version_minor": 0
      },
      "text/plain": [
       "Validation: |                                                                                                 …"
      ]
     },
     "metadata": {},
     "output_type": "display_data"
    },
    {
     "data": {
      "application/vnd.jupyter.widget-view+json": {
       "model_id": "",
       "version_major": 2,
       "version_minor": 0
      },
      "text/plain": [
       "Validation: |                                                                                                 …"
      ]
     },
     "metadata": {},
     "output_type": "display_data"
    },
    {
     "data": {
      "application/vnd.jupyter.widget-view+json": {
       "model_id": "",
       "version_major": 2,
       "version_minor": 0
      },
      "text/plain": [
       "Validation: |                                                                                                 …"
      ]
     },
     "metadata": {},
     "output_type": "display_data"
    },
    {
     "data": {
      "application/vnd.jupyter.widget-view+json": {
       "model_id": "",
       "version_major": 2,
       "version_minor": 0
      },
      "text/plain": [
       "Validation: |                                                                                                 …"
      ]
     },
     "metadata": {},
     "output_type": "display_data"
    },
    {
     "data": {
      "application/vnd.jupyter.widget-view+json": {
       "model_id": "",
       "version_major": 2,
       "version_minor": 0
      },
      "text/plain": [
       "Validation: |                                                                                                 …"
      ]
     },
     "metadata": {},
     "output_type": "display_data"
    },
    {
     "data": {
      "application/vnd.jupyter.widget-view+json": {
       "model_id": "",
       "version_major": 2,
       "version_minor": 0
      },
      "text/plain": [
       "Validation: |                                                                                                 …"
      ]
     },
     "metadata": {},
     "output_type": "display_data"
    },
    {
     "data": {
      "application/vnd.jupyter.widget-view+json": {
       "model_id": "",
       "version_major": 2,
       "version_minor": 0
      },
      "text/plain": [
       "Validation: |                                                                                                 …"
      ]
     },
     "metadata": {},
     "output_type": "display_data"
    },
    {
     "data": {
      "application/vnd.jupyter.widget-view+json": {
       "model_id": "",
       "version_major": 2,
       "version_minor": 0
      },
      "text/plain": [
       "Validation: |                                                                                                 …"
      ]
     },
     "metadata": {},
     "output_type": "display_data"
    },
    {
     "data": {
      "application/vnd.jupyter.widget-view+json": {
       "model_id": "",
       "version_major": 2,
       "version_minor": 0
      },
      "text/plain": [
       "Validation: |                                                                                                 …"
      ]
     },
     "metadata": {},
     "output_type": "display_data"
    },
    {
     "data": {
      "application/vnd.jupyter.widget-view+json": {
       "model_id": "",
       "version_major": 2,
       "version_minor": 0
      },
      "text/plain": [
       "Validation: |                                                                                                 …"
      ]
     },
     "metadata": {},
     "output_type": "display_data"
    },
    {
     "data": {
      "application/vnd.jupyter.widget-view+json": {
       "model_id": "",
       "version_major": 2,
       "version_minor": 0
      },
      "text/plain": [
       "Validation: |                                                                                                 …"
      ]
     },
     "metadata": {},
     "output_type": "display_data"
    },
    {
     "data": {
      "application/vnd.jupyter.widget-view+json": {
       "model_id": "",
       "version_major": 2,
       "version_minor": 0
      },
      "text/plain": [
       "Validation: |                                                                                                 …"
      ]
     },
     "metadata": {},
     "output_type": "display_data"
    },
    {
     "data": {
      "application/vnd.jupyter.widget-view+json": {
       "model_id": "",
       "version_major": 2,
       "version_minor": 0
      },
      "text/plain": [
       "Validation: |                                                                                                 …"
      ]
     },
     "metadata": {},
     "output_type": "display_data"
    },
    {
     "data": {
      "application/vnd.jupyter.widget-view+json": {
       "model_id": "",
       "version_major": 2,
       "version_minor": 0
      },
      "text/plain": [
       "Validation: |                                                                                                 …"
      ]
     },
     "metadata": {},
     "output_type": "display_data"
    },
    {
     "data": {
      "application/vnd.jupyter.widget-view+json": {
       "model_id": "",
       "version_major": 2,
       "version_minor": 0
      },
      "text/plain": [
       "Validation: |                                                                                                 …"
      ]
     },
     "metadata": {},
     "output_type": "display_data"
    },
    {
     "data": {
      "application/vnd.jupyter.widget-view+json": {
       "model_id": "",
       "version_major": 2,
       "version_minor": 0
      },
      "text/plain": [
       "Validation: |                                                                                                 …"
      ]
     },
     "metadata": {},
     "output_type": "display_data"
    },
    {
     "data": {
      "application/vnd.jupyter.widget-view+json": {
       "model_id": "",
       "version_major": 2,
       "version_minor": 0
      },
      "text/plain": [
       "Validation: |                                                                                                 …"
      ]
     },
     "metadata": {},
     "output_type": "display_data"
    },
    {
     "name": "stderr",
     "output_type": "stream",
     "text": [
      "`Trainer.fit` stopped: `max_epochs=100` reached.\n"
     ]
    }
   ],
   "source": [
    "trainer = pl.Trainer(\n",
    "    max_epochs=100,\n",
    "    callbacks=[TQDMProgressBar()], # add progress bar\n",
    "    accelerator=\"cpu\"\n",
    ")\n",
    "\n",
    "\n",
    "trainer.fit(\n",
    "    training_model,\n",
    "    datamodule=training_model.create_data_module(verbose=False),\n",
    ")"
   ]
  },
  {
   "cell_type": "markdown",
   "id": "55885eba-e6aa-41b0-bd72-2d6ad31ea504",
   "metadata": {},
   "source": [
    "We can now check the charges again. They should have improved!"
   ]
  },
  {
   "cell_type": "code",
   "execution_count": 16,
   "id": "33002bc0-fa33-439e-a798-d79b679152b9",
   "metadata": {},
   "outputs": [
    {
     "data": {
      "text/plain": [
       "array([ 0.08515073,  0.07963004,  0.02302921,  0.04309166, -0.02866066,\n",
       "       -0.02866066, -0.02866066, -0.05163632, -0.05163632, -0.02082354,\n",
       "       -0.02082354])"
      ]
     },
     "execution_count": 16,
     "metadata": {},
     "output_type": "execute_result"
    }
   ],
   "source": [
    "# switch to eval mode\n",
    "training_model.model.eval()\n",
    "\n",
    "with torch.no_grad():\n",
    "    nagl_charges_2 = training_model.model.compute_properties(\n",
    "        test_molecule,\n",
    "        as_numpy=True\n",
    "    )[\"charges\"]\n",
    "\n",
    "differences_after_training = reference_charges - nagl_charges_2\n",
    "differences_after_training"
   ]
  },
  {
   "cell_type": "code",
   "execution_count": null,
   "id": "81fbfdcd-f8fd-43b9-8534-bbf70ea6a64f",
   "metadata": {},
   "outputs": [],
   "source": []
  }
 ],
 "metadata": {
  "kernelspec": {
   "display_name": "Python 3 (ipykernel)",
   "language": "python",
   "name": "python3"
  },
  "language_info": {
   "codemirror_mode": {
    "name": "ipython",
    "version": 3
   },
   "file_extension": ".py",
   "mimetype": "text/x-python",
   "name": "python",
   "nbconvert_exporter": "python",
   "pygments_lexer": "ipython3",
   "version": "3.12.5"
  }
 },
 "nbformat": 4,
 "nbformat_minor": 5
}
