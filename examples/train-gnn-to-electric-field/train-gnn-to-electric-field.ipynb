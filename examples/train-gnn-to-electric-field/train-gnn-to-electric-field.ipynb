{
 "cells": [
  {
   "cell_type": "markdown",
   "id": "94ff1817-f641-4a11-ae4a-91c7a6c73a7e",
   "metadata": {},
   "source": [
    "# Train a GNN directly to an electric field\n",
    "\n",
    "To execute this example fully, the following packages are required.\n",
    "\n",
    "* openff-nagl\n",
    "* openff-recharge\n",
    "* openff-qcsubmit\n",
    "* psi4\n",
    "\n",
    "However, if you wish to just follow along the training part without first creating the training datasets yourself, you can get away with just `openff-nagl` installed and simply load the training/validation data from the provided `.parquet` files. The commands are provided at the end of the \"Generate and format training data\" section, but commented out."
   ]
  },
  {
   "cell_type": "code",
   "execution_count": 1,
   "id": "522bc606-c1aa-4cc7-89da-87440c61f8ba",
   "metadata": {
    "editable": true,
    "execution": {
     "iopub.execute_input": "2024-11-12T03:39:01.803451Z",
     "iopub.status.busy": "2024-11-12T03:39:01.803352Z",
     "iopub.status.idle": "2024-11-12T03:39:04.043969Z",
     "shell.execute_reply": "2024-11-12T03:39:04.043614Z",
     "shell.execute_reply.started": "2024-11-12T03:39:01.803438Z"
    },
    "slideshow": {
     "slide_type": ""
    },
    "tags": []
   },
   "outputs": [],
   "source": [
    "import tqdm\n",
    "\n",
    "from qcportal import PortalClient\n",
    "from openff.units import unit\n",
    "\n",
    "from openff.toolkit import Molecule\n",
    "from openff.qcsubmit.results import BasicResultCollection\n",
    "from openff.recharge.esp.storage import MoleculeESPRecord\n",
    "from openff.recharge.esp.qcresults import from_qcportal_results\n",
    "from openff.recharge.grids import MSKGridSettings\n",
    "from openff.recharge.utilities.geometry import compute_vector_field\n",
    "\n",
    "import pyarrow as pa\n",
    "import pyarrow.parquet as pq\n",
    "import numpy as np\n",
    "\n",
    "import torch"
   ]
  },
  {
   "cell_type": "markdown",
   "id": "097895ad-685b-4825-8c22-1a0f79467e9d",
   "metadata": {
    "editable": true,
    "slideshow": {
     "slide_type": ""
    },
    "tags": []
   },
   "source": [
    "## Generate and format training data\n",
    "\n",
    "\n",
    "### Downloading from QCArchive\n",
    "First, we will create training data. We'll download a smaller training set for the purposes of this example."
   ]
  },
  {
   "cell_type": "code",
   "execution_count": 2,
   "id": "964318ce-9e08-4551-9af4-dc49ea89d027",
   "metadata": {
    "editable": true,
    "execution": {
     "iopub.execute_input": "2024-11-12T03:39:04.044736Z",
     "iopub.status.busy": "2024-11-12T03:39:04.044463Z",
     "iopub.status.idle": "2024-11-12T03:42:11.995381Z",
     "shell.execute_reply": "2024-11-12T03:42:11.995072Z",
     "shell.execute_reply.started": "2024-11-12T03:39:04.044721Z"
    },
    "slideshow": {
     "slide_type": ""
    },
    "tags": []
   },
   "outputs": [],
   "source": [
    "qc_client = PortalClient(\"https://api.qcarchive.molssi.org:443\", cache_dir=\".\")\n",
    "\n",
    "# download dataset from QCPortal\n",
    "br_esps_collection = BasicResultCollection.from_server(\n",
    "    client=qc_client,\n",
    "    datasets=\"OpenFF multi-Br ESP Fragment Conformers v1.1\",\n",
    "    spec_name=\"HF/6-31G*\",\n",
    ")\n",
    "\n",
    "records_and_molecules = br_esps_collection.to_records()"
   ]
  },
  {
   "cell_type": "markdown",
   "id": "54235869-1a60-4945-967d-602ef1f49185",
   "metadata": {
    "editable": true,
    "slideshow": {
     "slide_type": ""
    },
    "tags": []
   },
   "source": [
    "### Converting to MoleculeESPRecords\n",
    "\n",
    "Now we convert to OpenFF Recharge records and compute the ESPs and electric fields of each molecule."
   ]
  },
  {
   "cell_type": "code",
   "execution_count": 3,
   "id": "25f9db71-4738-4431-9e65-7c0b015b40b4",
   "metadata": {
    "editable": true,
    "execution": {
     "iopub.execute_input": "2024-11-12T03:42:11.995906Z",
     "iopub.status.busy": "2024-11-12T03:42:11.995798Z",
     "iopub.status.idle": "2024-11-12T03:47:20.452022Z",
     "shell.execute_reply": "2024-11-12T03:47:20.451739Z",
     "shell.execute_reply.started": "2024-11-12T03:42:11.995894Z"
    },
    "slideshow": {
     "slide_type": ""
    },
    "tags": []
   },
   "outputs": [
    {
     "name": "stderr",
     "output_type": "stream",
     "text": [
      "100%|███████████████████████████████████████████████████████████████| 50/50 [05:08<00:00,  6.17s/it]\n"
     ]
    }
   ],
   "source": [
    "# Create OpenFF Recharge MoleculeESPRecords\n",
    "grid_settings = MSKGridSettings()\n",
    "\n",
    "# this can take a while; set records_and_molecules[:10]\n",
    "# to only use the first 10\n",
    "molecule_esp_records = [\n",
    "    from_qcportal_results(\n",
    "        qc_result=qcrecord,\n",
    "        qc_molecule=qcrecord.molecule,\n",
    "        qc_keyword_set=qcrecord.specification.keywords,\n",
    "        grid_settings=grid_settings,\n",
    "        compute_field=True\n",
    "    )\n",
    "    for qcrecord, _ in tqdm.tqdm(records_and_molecules[:50])\n",
    "]"
   ]
  },
  {
   "cell_type": "markdown",
   "id": "9dc86d0a-c59e-4f8f-93c7-3b74adb6636e",
   "metadata": {
    "editable": true,
    "slideshow": {
     "slide_type": ""
    },
    "tags": []
   },
   "source": [
    "### Convert to PyArrow dataset\n",
    "\n",
    "NAGL reads in and trains to data from [PyArrow tables](https://arrow.apache.org/docs/python/getstarted.html#creating-arrays-and-tables). Below we do some conversion of each electric field to fit a basic GeneralLinearFit target, which fits the equation Ax = b. To avoid carrying too many data points around, we can do some postprocessing by first flattening the electric field matrix from 3 dimensions to 2, then multiplying by the transpose of A.\n",
    "\n",
    "$$\\mathbf{A}\\vec{x} = \\vec{b}$$\n",
    "$$\\mathbf{A^{T}}\\mathbf{A}\\vec{x} = \\mathbf{A^{T}}\\vec{b}$$"
   ]
  },
  {
   "cell_type": "code",
   "execution_count": 4,
   "id": "70634680-8249-49f6-ad24-bc5178851360",
   "metadata": {
    "editable": true,
    "execution": {
     "iopub.execute_input": "2024-11-12T03:47:20.452773Z",
     "iopub.status.busy": "2024-11-12T03:47:20.452478Z",
     "iopub.status.idle": "2024-11-12T03:47:20.578505Z",
     "shell.execute_reply": "2024-11-12T03:47:20.578270Z",
     "shell.execute_reply.started": "2024-11-12T03:47:20.452758Z"
    },
    "slideshow": {
     "slide_type": ""
    },
    "tags": []
   },
   "outputs": [
    {
     "name": "stderr",
     "output_type": "stream",
     "text": [
      "100%|██████████████████████████████████████████████████████████████| 50/50 [00:00<00:00, 421.81it/s]\n"
     ]
    },
    {
     "data": {
      "text/plain": [
       "pyarrow.Table\n",
       "mapped_smiles: string\n",
       "precursor_matrix: list<item: double>\n",
       "  child 0, item: double\n",
       "prediction_vector: list<item: double>\n",
       "  child 0, item: double\n",
       "----\n",
       "mapped_smiles: [[\"[H:1][C:2](=[O:3])[C:4]1=[C:9]([Br:10])[C:7]([Br:8])=[N:6][S:5]1\",\"[H:1][C:2](=[O:3])[C:4]1=[C:5]([Br:6])[N:7]=[C:8]([Br:9])[N:10]1[H:11]\",\"[H:1][C:2](=[O:3])[C:4]1=[C:10]([Br:11])[N:8]([H:9])[C:6]([Br:7])=[N:5]1\",\"[H:1][C:2](=[O:3])[C:4]1=[C:9]([Br:10])[S:8][N:7]=[C:5]1[Br:6]\",\"[H:1][C:2](=[O:3])[C:4]1=[N:5][S:6][C:7]([Br:8])=[C:9]1[Br:10]\",...,\"[H:1][c:2]1[c:3]([H:4])[c:5]([C:6]([H:7])([C:8]([H:9])([H:10])[H:11])[N+:12]([H:13])([H:14])[H:15])[c:16]([Br:17])[c:18]([H:19])[c:20]1[Br:21]\",\"[H:1][c:2]1[c:3]([H:4])[c:5]([Br:6])[c:7]([Br:8])[c:9]([C:10]([H:11])([N:12]([H:13])[H:14])[C:15]([H:16])([H:17])[H:18])[c:19]1[H:20]\",\"[H:1][c:2]1[c:3]([H:4])[c:5]([Br:6])[c:7]([Br:8])[c:9]([C:10]([H:11])([C:12]([H:13])([H:14])[H:15])[N+:16]([H:17])([H:18])[H:19])[c:20]1[H:21]\",\"[H:1][c:2]1[c:3]([H:4])[c:5]([C:6]([H:7])([H:8])[N:9]([H:10])[C:11]([H:12])([H:13])[C:14]([H:15])([H:16])[H:17])[c:18]([H:19])[c:20]([Br:21])[c:22]1[Br:23]\",\"[H:1][c:2]1[c:3]([H:4])[c:5]([C:6]([H:7])([H:8])[N:9]([H:10])[C:11]([H:12])([H:13])[C:14]([H:15])([H:16])[H:17])[c:18]([H:19])[c:20]([Br:21])[c:22]1[Br:23]\"]]\n",
       "precursor_matrix: [[[0.5268278695916088,0.3663918376587869,0.30209382642805216,0.2495237316799569,0.20284281127461032,...,0.12682386926954417,0.1729963984868022,0.14835260748248816,0.22417394022165088,0.3172961383676153],[0.5459961499174948,0.3811772132544468,0.3104953928308583,0.26421186900748456,0.16815883207694643,...,0.19590731256489477,0.2712204910932398,0.20180138542888734,0.3843880654806236,0.547343502209382],...,[0.5188600228738238,0.36372757615732254,0.2704901043883896,0.26259404364297456,0.174439773447956,...,0.10263580193044784,0.18779157315897133,0.1646586213295766,0.24504157435453758,0.34126749604041884],[0.5234710229484995,0.3711542616380525,0.27684876977454587,0.26502768742612326,0.1789752376069953,...,0.1048387544526304,0.18971891584707684,0.16387162999092092,0.24867226425516167,0.3443168978222574]]]\n",
       "prediction_vector: [[[0.06806112259087671,0.030716434588028432,-0.01672947200663685,0.029951025414965547,0.029496272551447888,-0.0024857716640091427,0.005087538225717987,-0.0043482760823769845,0.013868185380384116,-0.00037529194184321565],[0.06562099527727273,0.022540831241202333,-0.036271592135264416,0.030697369204302098,-0.003824835345960371,-0.022952256996007787,-0.013973378103587722,0.02441144211448937,0.02092285720950078,0.06615881080407054,0.12160304322077782],...,[0.022271980401070538,0.005681636620152487,0.016862184483217153,0.03680851264345411,0.013646974537191332,...,0.002458737782103706,-0.015963611907879226,-0.02834556260852975,-0.014267070720346707,-0.026896808328652506],[0.02075105271295132,0.0033002036504139556,0.009596814898498528,0.018070191153379336,0.014446602124759561,...,0.0240053866538266,-0.013272983985113784,-0.02630085770960776,-0.01412185316036113,-0.02663325114497883]]]"
      ]
     },
     "execution_count": 4,
     "metadata": {},
     "output_type": "execute_result"
    }
   ],
   "source": [
    "pyarrow_entries = []\n",
    "for molecule_esp_record in tqdm.tqdm(molecule_esp_records):\n",
    "    electric_field = molecule_esp_record.electric_field # in atomic units\n",
    "    grid = molecule_esp_record.grid_coordinates * unit.angstrom\n",
    "    conformer = molecule_esp_record.conformer * unit.angstrom\n",
    "\n",
    "    vector_field = compute_vector_field(\n",
    "        conformer.m_as(unit.bohr),  # shape: M x 3\n",
    "        grid.m_as(unit.bohr),  # shape: N x 3\n",
    "    ) # N x 3 x M\n",
    "\n",
    "    # postprocess so we're not carrying around millions of floats\n",
    "    # firstly flatten out N x 3 -> 3N x M\n",
    "    vector_field_2d = np.concatenate(vector_field, axis=0)\n",
    "    electric_field_1d = np.concatenate(electric_field, axis=0)\n",
    "\n",
    "    # now multiply by vector_field_2d's transpose\n",
    "    new_precursor_matrix = vector_field_2d.T @ vector_field_2d\n",
    "    new_field_vector = vector_field_2d.T @ electric_field_1d\n",
    "\n",
    "    n_atoms = conformer.shape[0]\n",
    "    assert new_precursor_matrix.shape == (n_atoms, n_atoms)\n",
    "    assert new_field_vector.shape == (n_atoms,)\n",
    "\n",
    "    # create entry. These columns are essential\n",
    "    # mapped_smiles is essential for every target\n",
    "    entry = {\n",
    "        \"mapped_smiles\": molecule_esp_record.tagged_smiles,\n",
    "        \"precursor_matrix\": new_precursor_matrix.flatten().tolist(),\n",
    "        \"prediction_vector\": new_field_vector.tolist()\n",
    "    }\n",
    "    pyarrow_entries.append(entry)\n",
    "\n",
    "\n",
    "# arbitrarily split into training and validation datasets\n",
    "training_pyarrow_entries = pyarrow_entries[:-10]\n",
    "validation_pyarrow_entries = pyarrow_entries[-10:]\n",
    "\n",
    "training_table = pa.Table.from_pylist(training_pyarrow_entries)\n",
    "validation_table = pa.Table.from_pylist(validation_pyarrow_entries)\n",
    "training_table"
   ]
  },
  {
   "cell_type": "code",
   "execution_count": 5,
   "id": "72a9cdce-5411-4fe3-b2ea-46fb63e09d2c",
   "metadata": {
    "editable": true,
    "execution": {
     "iopub.execute_input": "2024-11-12T03:47:20.578981Z",
     "iopub.status.busy": "2024-11-12T03:47:20.578866Z",
     "iopub.status.idle": "2024-11-12T03:47:20.582474Z",
     "shell.execute_reply": "2024-11-12T03:47:20.582244Z",
     "shell.execute_reply.started": "2024-11-12T03:47:20.578968Z"
    },
    "slideshow": {
     "slide_type": ""
    },
    "tags": []
   },
   "outputs": [],
   "source": [
    "pq.write_table(training_table, \"training_dataset_table.parquet\")\n",
    "pq.write_table(validation_table, \"validation_dataset_table.parquet\")\n",
    "\n",
    "# # to read back in -- note, the files saved here give the full dataset, not the 50 record subset\n",
    "# training_table = pq.read_table(\"training_dataset_table.parquet\")\n",
    "# validation_table = pq.read_table(\"validation_dataset_table.parquet\")"
   ]
  },
  {
   "cell_type": "markdown",
   "id": "4682e8cb-fba8-4cec-97b0-4d996e24ecf9",
   "metadata": {
    "editable": true,
    "slideshow": {
     "slide_type": ""
    },
    "tags": []
   },
   "source": [
    "## Set up for training a GNN"
   ]
  },
  {
   "cell_type": "code",
   "execution_count": 6,
   "id": "3d3c909f-c1b9-44e0-86e0-d4ccf6ceb996",
   "metadata": {
    "editable": true,
    "execution": {
     "iopub.execute_input": "2024-11-12T03:47:20.583457Z",
     "iopub.status.busy": "2024-11-12T03:47:20.583351Z",
     "iopub.status.idle": "2024-11-12T03:47:21.655807Z",
     "shell.execute_reply": "2024-11-12T03:47:21.655393Z",
     "shell.execute_reply.started": "2024-11-12T03:47:20.583445Z"
    },
    "slideshow": {
     "slide_type": ""
    },
    "tags": []
   },
   "outputs": [],
   "source": [
    "from openff.nagl.config import (\n",
    "    TrainingConfig,\n",
    "    OptimizerConfig,\n",
    "    ModelConfig,\n",
    "    DataConfig\n",
    ")\n",
    "from openff.nagl.config.model import (\n",
    "    ConvolutionModule, ReadoutModule,\n",
    "    ConvolutionLayer, ForwardLayer,\n",
    ")\n",
    "from openff.nagl.config.data import DatasetConfig\n",
    "from openff.nagl.training.training import TrainingGNNModel\n",
    "from openff.nagl.features.atoms import (\n",
    "    AtomicElement,\n",
    "    AtomConnectivity,\n",
    "    AtomInRingOfSize,\n",
    "    AtomAverageFormalCharge,\n",
    ")\n",
    "\n",
    "from openff.nagl.training.loss import GeneralLinearFitTarget"
   ]
  },
  {
   "cell_type": "markdown",
   "id": "88be032d-0101-479e-a468-2c5db34600fc",
   "metadata": {
    "editable": true,
    "slideshow": {
     "slide_type": ""
    },
    "tags": []
   },
   "source": [
    "### Defining the training config\n",
    "\n",
    "#### Defining a ModelConfig\n",
    "\n",
    "First we define a ModelConfig.\n",
    "This can be done in Python, but in practice it is probably easier to define the model in a YAML file and load it with `ModelConfig.from_yaml`."
   ]
  },
  {
   "cell_type": "code",
   "execution_count": 7,
   "id": "f7ddfbde-1349-42ec-a2aa-0f9ead097e99",
   "metadata": {
    "editable": true,
    "execution": {
     "iopub.execute_input": "2024-11-12T03:47:21.656481Z",
     "iopub.status.busy": "2024-11-12T03:47:21.656171Z",
     "iopub.status.idle": "2024-11-12T03:47:21.659526Z",
     "shell.execute_reply": "2024-11-12T03:47:21.659243Z",
     "shell.execute_reply.started": "2024-11-12T03:47:21.656466Z"
    },
    "slideshow": {
     "slide_type": ""
    },
    "tags": []
   },
   "outputs": [],
   "source": [
    "atom_features = [\n",
    "    AtomicElement(categories=[\"H\", \"C\", \"N\", \"O\", \"F\", \"Br\", \"S\", \"P\", \"I\"]),\n",
    "    AtomConnectivity(categories=[1, 2, 3, 4, 5, 6]),\n",
    "    AtomInRingOfSize(ring_size=3),\n",
    "    AtomInRingOfSize(ring_size=4),\n",
    "    AtomInRingOfSize(ring_size=5),\n",
    "    AtomInRingOfSize(ring_size=6),\n",
    "    AtomAverageFormalCharge(),\n",
    "]\n",
    "\n",
    "# define our convolution module\n",
    "convolution_module = ConvolutionModule(\n",
    "    architecture=\"SAGEConv\",\n",
    "    # construct 6 layers with dropout 0 (default),\n",
    "    # hidden feature size 512, and ReLU activation function\n",
    "    # these layers can also be individually specified,\n",
    "    # but we just duplicate the layer 6 times for identical layers\n",
    "    layers=[\n",
    "        ConvolutionLayer(\n",
    "            hidden_feature_size=512,\n",
    "            activation_function=\"ReLU\",\n",
    "            aggregator_type=\"mean\"\n",
    "        )\n",
    "    ] * 6,\n",
    ")\n",
    "\n",
    "# define our readout module/s\n",
    "# multiple are allowed but let's focus on charges\n",
    "readout_modules = {\n",
    "    # key is the name of output property, any naming is allowed\n",
    "    \"charges\": ReadoutModule(\n",
    "        pooling=\"atoms\",\n",
    "        postprocess=\"compute_partial_charges\",\n",
    "        # 2 layers\n",
    "        layers=[\n",
    "            ForwardLayer(\n",
    "                hidden_feature_size=512,\n",
    "                activation_function=\"ReLU\",\n",
    "            )\n",
    "        ] * 2,\n",
    "    )\n",
    "}\n",
    "\n",
    "# bring it all together\n",
    "model_config = ModelConfig(\n",
    "    version=\"0.1\",\n",
    "    atom_features=atom_features,\n",
    "    convolution=convolution_module,\n",
    "    readouts=readout_modules,\n",
    ")"
   ]
  },
  {
   "cell_type": "markdown",
   "id": "a68f7b57-a1f7-43f4-ba2d-9579dd9562db",
   "metadata": {
    "editable": true,
    "slideshow": {
     "slide_type": ""
    },
    "tags": []
   },
   "source": [
    "#### Defining a DataConfig\n",
    "\n",
    "We can then define our dataset configs. Here we also have to specify our training targets."
   ]
  },
  {
   "cell_type": "code",
   "execution_count": 8,
   "id": "bf524fad-42e5-4020-a9d9-90a56343b7a1",
   "metadata": {
    "editable": true,
    "execution": {
     "iopub.execute_input": "2024-11-12T03:47:21.660004Z",
     "iopub.status.busy": "2024-11-12T03:47:21.659897Z",
     "iopub.status.idle": "2024-11-12T03:47:21.668487Z",
     "shell.execute_reply": "2024-11-12T03:47:21.668229Z",
     "shell.execute_reply.started": "2024-11-12T03:47:21.659991Z"
    },
    "slideshow": {
     "slide_type": ""
    },
    "tags": []
   },
   "outputs": [],
   "source": [
    "target = GeneralLinearFitTarget(\n",
    "    # what we're using to evaluate loss\n",
    "    target_label=\"prediction_vector\",\n",
    "    # the output of the GNN we use to evaluate loss\n",
    "    prediction_label=\"charges\",\n",
    "    # the column in the table that contains the precursor matrix\n",
    "    design_matrix_column=\"precursor_matrix\",\n",
    "    # how we want to evaluate loss, e.g. RMSE, MSE, ...\n",
    "    metric=\"rmse\",\n",
    "    # how much to weight this target\n",
    "    # helps with scaling in multi-target optimizations\n",
    "    weight=1,\n",
    "    denominator=1,\n",
    ")\n",
    "\n",
    "training_to_electric_field = DatasetConfig(\n",
    "    sources=[\"training_dataset_table.parquet\"],\n",
    "    targets=[target],\n",
    "    batch_size=100,\n",
    ")\n",
    "validating_to_electric_field = DatasetConfig(\n",
    "    sources=[\"validation_dataset_table.parquet\"],\n",
    "    targets=[target],\n",
    "    batch_size=100,\n",
    ")\n",
    "\n",
    "# bringing it together\n",
    "data_config = DataConfig(\n",
    "    training=training_to_electric_field,\n",
    "    validation=validating_to_electric_field\n",
    ")"
   ]
  },
  {
   "cell_type": "markdown",
   "id": "cfd8bba9-241c-4c67-8f88-a89ae608ec89",
   "metadata": {
    "editable": true,
    "slideshow": {
     "slide_type": ""
    },
    "tags": []
   },
   "source": [
    "#### Defining an OptimizerConfig\n",
    "\n",
    "The optimizer config is relatively simple; the only moving part here currently is the learning rate."
   ]
  },
  {
   "cell_type": "code",
   "execution_count": 9,
   "id": "1759ed0f-2e89-4d22-80ae-2c0ba04f37a0",
   "metadata": {
    "editable": true,
    "execution": {
     "iopub.execute_input": "2024-11-12T03:47:21.668916Z",
     "iopub.status.busy": "2024-11-12T03:47:21.668809Z",
     "iopub.status.idle": "2024-11-12T03:47:21.676788Z",
     "shell.execute_reply": "2024-11-12T03:47:21.676523Z",
     "shell.execute_reply.started": "2024-11-12T03:47:21.668903Z"
    },
    "slideshow": {
     "slide_type": ""
    },
    "tags": []
   },
   "outputs": [],
   "source": [
    "optimizer_config = OptimizerConfig(optimizer=\"Adam\", learning_rate=0.001)"
   ]
  },
  {
   "cell_type": "markdown",
   "id": "7c784871-e834-470e-a346-bde893326fee",
   "metadata": {
    "editable": true,
    "slideshow": {
     "slide_type": ""
    },
    "tags": []
   },
   "source": [
    "#### Creating a TrainingConfig"
   ]
  },
  {
   "cell_type": "code",
   "execution_count": 10,
   "id": "f5958818-03ef-4580-9cbf-c588cbb3141f",
   "metadata": {
    "editable": true,
    "execution": {
     "iopub.execute_input": "2024-11-12T03:47:21.677234Z",
     "iopub.status.busy": "2024-11-12T03:47:21.677133Z",
     "iopub.status.idle": "2024-11-12T03:47:21.684364Z",
     "shell.execute_reply": "2024-11-12T03:47:21.684055Z",
     "shell.execute_reply.started": "2024-11-12T03:47:21.677222Z"
    },
    "slideshow": {
     "slide_type": ""
    },
    "tags": []
   },
   "outputs": [],
   "source": [
    "training_config = TrainingConfig(\n",
    "    model=model_config,\n",
    "    data=data_config,\n",
    "    optimizer=optimizer_config\n",
    ")"
   ]
  },
  {
   "cell_type": "markdown",
   "id": "17d61258-fe16-4993-9c19-57118c9d0a1a",
   "metadata": {
    "editable": true,
    "slideshow": {
     "slide_type": ""
    },
    "tags": []
   },
   "source": [
    "### Creating a TrainingGNNModel\n",
    "\n",
    "Now we can create a `TrainingGNNModel`, which allows easy training of a `GNNModel`. The `GNNModel` can be accessed through `TrainingGNNModel.model`."
   ]
  },
  {
   "cell_type": "code",
   "execution_count": 11,
   "id": "3eefcea4-2e9a-4e4a-b3fc-939f3f733fb8",
   "metadata": {
    "editable": true,
    "execution": {
     "iopub.execute_input": "2024-11-12T03:47:21.684805Z",
     "iopub.status.busy": "2024-11-12T03:47:21.684705Z",
     "iopub.status.idle": "2024-11-12T03:47:21.919136Z",
     "shell.execute_reply": "2024-11-12T03:47:21.918838Z",
     "shell.execute_reply.started": "2024-11-12T03:47:21.684792Z"
    },
    "slideshow": {
     "slide_type": ""
    },
    "tags": []
   },
   "outputs": [
    {
     "data": {
      "text/plain": [
       "TrainingGNNModel(\n",
       "  (model): GNNModel(\n",
       "    (convolution_module): ConvolutionModule(\n",
       "      (gcn_layers): SAGEConvStack(\n",
       "        (0): SAGEConv(\n",
       "          (feat_drop): Dropout(p=0.0, inplace=False)\n",
       "          (activation): ReLU()\n",
       "          (fc_neigh): Linear(in_features=20, out_features=512, bias=False)\n",
       "          (fc_self): Linear(in_features=20, out_features=512, bias=True)\n",
       "        )\n",
       "        (1-5): 5 x SAGEConv(\n",
       "          (feat_drop): Dropout(p=0.0, inplace=False)\n",
       "          (activation): ReLU()\n",
       "          (fc_neigh): Linear(in_features=512, out_features=512, bias=False)\n",
       "          (fc_self): Linear(in_features=512, out_features=512, bias=True)\n",
       "        )\n",
       "      )\n",
       "    )\n",
       "    (readout_modules): ModuleDict(\n",
       "      (charges): ReadoutModule(\n",
       "        (pooling_layer): PoolAtomFeatures()\n",
       "        (readout_layers): SequentialLayers(\n",
       "          (0): Linear(in_features=512, out_features=512, bias=True)\n",
       "          (1): ReLU()\n",
       "          (2): Dropout(p=0.0, inplace=False)\n",
       "          (3): Linear(in_features=512, out_features=512, bias=True)\n",
       "          (4): ReLU()\n",
       "          (5): Dropout(p=0.0, inplace=False)\n",
       "          (6): Linear(in_features=512, out_features=2, bias=True)\n",
       "          (7): Identity()\n",
       "          (8): Dropout(p=0.0, inplace=False)\n",
       "        )\n",
       "        (postprocess_layer): ComputePartialCharges()\n",
       "      )\n",
       "    )\n",
       "  )\n",
       ")"
      ]
     },
     "execution_count": 11,
     "metadata": {},
     "output_type": "execute_result"
    }
   ],
   "source": [
    "training_model = TrainingGNNModel(training_config)\n",
    "training_model"
   ]
  },
  {
   "cell_type": "markdown",
   "id": "d696dae6-93ce-4f0a-ab0f-ebb7e72fa176",
   "metadata": {
    "editable": true,
    "slideshow": {
     "slide_type": ""
    },
    "tags": []
   },
   "source": [
    "We can look at the initial capabilities of the model by comparing its charges to AM1-BCC charges. They're pretty bad."
   ]
  },
  {
   "cell_type": "code",
   "execution_count": 12,
   "id": "adb99158-fa97-412d-972b-89f6f563b84a",
   "metadata": {
    "editable": true,
    "execution": {
     "iopub.execute_input": "2024-11-12T03:47:21.919640Z",
     "iopub.status.busy": "2024-11-12T03:47:21.919528Z",
     "iopub.status.idle": "2024-11-12T03:47:22.209956Z",
     "shell.execute_reply": "2024-11-12T03:47:22.209704Z",
     "shell.execute_reply.started": "2024-11-12T03:47:21.919625Z"
    },
    "slideshow": {
     "slide_type": ""
    },
    "tags": []
   },
   "outputs": [
    {
     "data": {
      "text/plain": [
       "array([-0.07757042, -0.04149809, -0.05459142, -0.10976206,  0.02205708,\n",
       "        0.02205708,  0.02205708, -0.22072439, -0.22072439,  0.3293481 ,\n",
       "        0.3293481 ])"
      ]
     },
     "execution_count": 12,
     "metadata": {},
     "output_type": "execute_result"
    }
   ],
   "source": [
    "test_molecule = Molecule.from_smiles(\"CCCBr\")\n",
    "test_molecule.assign_partial_charges(\"am1bcc\")\n",
    "reference_charges = test_molecule.partial_charges.m\n",
    "\n",
    "# switch to eval mode\n",
    "training_model.model.eval()\n",
    "\n",
    "with torch.no_grad():\n",
    "    nagl_charges_1 = training_model.model.compute_properties(\n",
    "        test_molecule,\n",
    "        as_numpy=True\n",
    "    )[\"charges\"]\n",
    "\n",
    "# switch back to training mode\n",
    "training_model.model.train()\n",
    "\n",
    "# compare charges\n",
    "differences = reference_charges - nagl_charges_1\n",
    "differences"
   ]
  },
  {
   "cell_type": "markdown",
   "id": "79cb1d56-3d70-4307-93f0-0d5956fdb32e",
   "metadata": {
    "editable": true,
    "slideshow": {
     "slide_type": ""
    },
    "tags": []
   },
   "source": [
    "### Training the model\n",
    "\n",
    "We use Pytorch Lightning to train."
   ]
  },
  {
   "cell_type": "code",
   "execution_count": 13,
   "id": "5bfcbce1-8323-4403-a607-89292681375b",
   "metadata": {
    "editable": true,
    "execution": {
     "iopub.execute_input": "2024-11-12T03:47:22.210455Z",
     "iopub.status.busy": "2024-11-12T03:47:22.210338Z",
     "iopub.status.idle": "2024-11-12T03:47:22.212075Z",
     "shell.execute_reply": "2024-11-12T03:47:22.211832Z",
     "shell.execute_reply.started": "2024-11-12T03:47:22.210441Z"
    },
    "slideshow": {
     "slide_type": ""
    },
    "tags": []
   },
   "outputs": [],
   "source": [
    "import pytorch_lightning as pl\n",
    "from pytorch_lightning.callbacks import TQDMProgressBar"
   ]
  },
  {
   "cell_type": "code",
   "execution_count": 14,
   "id": "c8cb0a08-eea6-41e4-9fd6-158204e26e79",
   "metadata": {
    "editable": true,
    "execution": {
     "iopub.execute_input": "2024-11-12T03:47:22.212508Z",
     "iopub.status.busy": "2024-11-12T03:47:22.212401Z",
     "iopub.status.idle": "2024-11-12T03:47:22.230803Z",
     "shell.execute_reply": "2024-11-12T03:47:22.230576Z",
     "shell.execute_reply.started": "2024-11-12T03:47:22.212495Z"
    },
    "slideshow": {
     "slide_type": ""
    },
    "tags": []
   },
   "outputs": [
    {
     "name": "stderr",
     "output_type": "stream",
     "text": [
      "INFO:pytorch_lightning.utilities.rank_zero:GPU available: False, used: False\n",
      "INFO:pytorch_lightning.utilities.rank_zero:TPU available: False, using: 0 TPU cores\n",
      "INFO:pytorch_lightning.utilities.rank_zero:HPU available: False, using: 0 HPUs\n"
     ]
    }
   ],
   "source": [
    "trainer = pl.Trainer(\n",
    "    max_epochs=100,\n",
    "    accelerator=\"cpu\",\n",
    "    enable_progress_bar=False, # Comment this out to monitor progress\n",
    ")"
   ]
  },
  {
   "cell_type": "code",
   "execution_count": 15,
   "id": "f8846142-77f2-4d60-a74e-c3bc3c3ed3ee",
   "metadata": {
    "editable": true,
    "execution": {
     "iopub.execute_input": "2024-11-12T03:47:22.231217Z",
     "iopub.status.busy": "2024-11-12T03:47:22.231114Z",
     "iopub.status.idle": "2024-11-12T03:47:22.232787Z",
     "shell.execute_reply": "2024-11-12T03:47:22.232524Z",
     "shell.execute_reply.started": "2024-11-12T03:47:22.231204Z"
    },
    "slideshow": {
     "slide_type": ""
    },
    "tags": []
   },
   "outputs": [],
   "source": [
    "datamodule = training_model.create_data_module(verbose=False)"
   ]
  },
  {
   "cell_type": "code",
   "execution_count": 16,
   "id": "4e0174d7-a57b-49d9-89a3-5c756adc0d8c",
   "metadata": {
    "editable": true,
    "execution": {
     "iopub.execute_input": "2024-11-12T03:47:22.233391Z",
     "iopub.status.busy": "2024-11-12T03:47:22.233232Z",
     "iopub.status.idle": "2024-11-12T03:47:47.501666Z",
     "shell.execute_reply": "2024-11-12T03:47:47.501347Z",
     "shell.execute_reply.started": "2024-11-12T03:47:22.233369Z"
    },
    "slideshow": {
     "slide_type": ""
    },
    "tags": []
   },
   "outputs": [
    {
     "name": "stderr",
     "output_type": "stream",
     "text": [
      "Featurizing dataset: 0it [00:00, ?it/s]\n",
      "Featurizing batch:   0%|                                                     | 0/40 [00:00<?, ?it/s]\u001b[A\n",
      "Featurizing batch:  28%|███████████▊                               | 11/40 [00:00<00:00, 107.76it/s]\u001b[A\n",
      "Featurizing batch:  55%|████████████████████████▏                   | 22/40 [00:00<00:00, 87.71it/s]\u001b[A\n",
      "Featurizing batch: 100%|████████████████████████████████████████████| 40/40 [00:00<00:00, 85.18it/s]\u001b[A\n",
      "Featurizing dataset: 1it [00:00,  2.10it/s]\n",
      "Featurizing dataset: 0it [00:00, ?it/s]\n",
      "Featurizing batch:   0%|                                                     | 0/10 [00:00<?, ?it/s]\u001b[A\n",
      "Featurizing batch: 100%|████████████████████████████████████████████| 10/10 [00:00<00:00, 81.87it/s]\u001b[A\n",
      "Featurizing dataset: 1it [00:00,  8.00it/s]\n",
      "2024-11-12 14:47:22.994990: I tensorflow/core/platform/cpu_feature_guard.cc:210] This TensorFlow binary is optimized to use available CPU instructions in performance-critical operations.\n",
      "To enable the following instructions: SSE4.1 SSE4.2 AVX AVX2 FMA, in other operations, rebuild TensorFlow with the appropriate compiler flags.\n",
      "Featurizing dataset: 0it [00:00, ?it/s]\n",
      "Featurizing batch:   0%|                                                     | 0/40 [00:00<?, ?it/s]\u001b[A\n",
      "Featurizing batch:  28%|███████████▊                               | 11/40 [00:00<00:00, 104.21it/s]\u001b[A\n",
      "Featurizing batch:  55%|████████████████████████▏                   | 22/40 [00:00<00:00, 87.80it/s]\u001b[A\n",
      "Featurizing batch:  78%|██████████████████████████████████          | 31/40 [00:00<00:00, 84.07it/s]\u001b[A\n",
      "Featurizing batch: 100%|████████████████████████████████████████████| 40/40 [00:00<00:00, 85.22it/s]\u001b[A\n",
      "Featurizing dataset: 1it [00:00,  2.11it/s]\n",
      "Featurizing dataset: 0it [00:00, ?it/s]\n",
      "Featurizing batch:   0%|                                                     | 0/10 [00:00<?, ?it/s]\u001b[A\n",
      "Featurizing batch: 100%|████████████████████████████████████████████| 10/10 [00:00<00:00, 81.93it/s]\u001b[A\n",
      "Featurizing dataset: 1it [00:00,  8.02it/s]\n",
      "INFO:pytorch_lightning.callbacks.model_summary:\n",
      "  | Name  | Type     | Params | Mode \n",
      "-------------------------------------------\n",
      "0 | model | GNNModel | 3.2 M  | train\n",
      "-------------------------------------------\n",
      "3.2 M     Trainable params\n",
      "0         Non-trainable params\n",
      "3.2 M     Total params\n",
      "12.685    Total estimated model params size (MB)\n",
      "47        Modules in train mode\n",
      "0         Modules in eval mode\n",
      "/home/joshmitchell/Documents/openff/nagl/.soap/examples/lib/python3.12/site-packages/pytorch_lightning/trainer/connectors/data_connector.py:424: The 'val_dataloader' does not have many workers which may be a bottleneck. Consider increasing the value of the `num_workers` argument` to `num_workers=23` in the `DataLoader` to improve performance.\n",
      "/home/joshmitchell/Documents/openff/nagl/.soap/examples/lib/python3.12/site-packages/pytorch_lightning/trainer/connectors/data_connector.py:424: The 'train_dataloader' does not have many workers which may be a bottleneck. Consider increasing the value of the `num_workers` argument` to `num_workers=23` in the `DataLoader` to improve performance.\n",
      "/home/joshmitchell/Documents/openff/nagl/.soap/examples/lib/python3.12/site-packages/pytorch_lightning/loops/fit_loop.py:298: The number of training batches (1) is smaller than the logging interval Trainer(log_every_n_steps=50). Set a lower value for log_every_n_steps if you want to see logs for the training epoch.\n",
      "INFO:pytorch_lightning.utilities.rank_zero:`Trainer.fit` stopped: `max_epochs=100` reached.\n"
     ]
    }
   ],
   "source": [
    "trainer.fit(\n",
    "    training_model,\n",
    "    datamodule=datamodule,\n",
    ")"
   ]
  },
  {
   "cell_type": "markdown",
   "id": "55885eba-e6aa-41b0-bd72-2d6ad31ea504",
   "metadata": {
    "editable": true,
    "slideshow": {
     "slide_type": ""
    },
    "tags": []
   },
   "source": [
    "We can now check the charges again. They should have improved, especially if you used a larger dataset (note: results may vary with the small 50-molecule dataset this notebook has chosen to use, for reasons of speed)."
   ]
  },
  {
   "cell_type": "code",
   "execution_count": 17,
   "id": "33002bc0-fa33-439e-a798-d79b679152b9",
   "metadata": {
    "editable": true,
    "execution": {
     "iopub.execute_input": "2024-11-12T03:47:47.502244Z",
     "iopub.status.busy": "2024-11-12T03:47:47.502121Z",
     "iopub.status.idle": "2024-11-12T03:47:47.517417Z",
     "shell.execute_reply": "2024-11-12T03:47:47.517166Z",
     "shell.execute_reply.started": "2024-11-12T03:47:47.502229Z"
    },
    "slideshow": {
     "slide_type": ""
    },
    "tags": []
   },
   "outputs": [
    {
     "data": {
      "text/plain": [
       "array([-0.12770391, -0.07914422, -0.03529306, -0.16059843,  0.04442195,\n",
       "        0.04442195,  0.04442195,  0.05658298,  0.05658298,  0.07815368,\n",
       "        0.07815368])"
      ]
     },
     "execution_count": 17,
     "metadata": {},
     "output_type": "execute_result"
    }
   ],
   "source": [
    "# switch to eval mode\n",
    "training_model.model.eval()\n",
    "\n",
    "with torch.no_grad():\n",
    "    nagl_charges_2 = training_model.model.compute_properties(\n",
    "        test_molecule,\n",
    "        as_numpy=True\n",
    "    )[\"charges\"]\n",
    "\n",
    "differences_after_training = reference_charges - nagl_charges_2\n",
    "differences_after_training"
   ]
  },
  {
   "cell_type": "code",
   "execution_count": null,
   "id": "5600b398-9798-4265-94e5-d42fb4f28175",
   "metadata": {
    "editable": true,
    "slideshow": {
     "slide_type": ""
    },
    "tags": []
   },
   "outputs": [],
   "source": []
  }
 ],
 "metadata": {
  "kernelspec": {
   "display_name": "Python 3 (ipykernel)",
   "language": "python",
   "name": "python3"
  },
  "language_info": {
   "codemirror_mode": {
    "name": "ipython",
    "version": 3
   },
   "file_extension": ".py",
   "mimetype": "text/x-python",
   "name": "python",
   "nbconvert_exporter": "python",
   "pygments_lexer": "ipython3",
   "version": "3.12.7"
  },
  "widgets": {
   "application/vnd.jupyter.widget-state+json": {
    "state": {},
    "version_major": 2,
    "version_minor": 0
   }
  }
 },
 "nbformat": 4,
 "nbformat_minor": 5
}
