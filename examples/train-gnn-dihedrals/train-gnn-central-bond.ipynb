{
 "cells": [
  {
   "cell_type": "markdown",
   "id": "94ff1817-f641-4a11-ae4a-91c7a6c73a7e",
   "metadata": {},
   "source": [
    "# Train a GNN directly to an electric field\n",
    "\n",
    "To execute this example fully, the following packages are required.\n",
    "\n",
    "* openff-nagl\n",
    "* openff-recharge\n",
    "* openff-qcsubmit\n",
    "* psi4\n",
    "\n",
    "However, if you wish to just follow along the training part without first creating the training datasets yourself, you can get away with just `openff-nagl` installed and simply load the training/validation data from the provided `.parquet` files. The commands are provided at the end of the \"Generate and format training data\" section, but commented out."
   ]
  },
  {
   "cell_type": "code",
   "execution_count": 5,
   "id": "522bc606-c1aa-4cc7-89da-87440c61f8ba",
   "metadata": {},
   "outputs": [],
   "source": [
    "import collections\n",
    "import tqdm\n",
    "\n",
    "from qcportal import PortalClient\n",
    "from openff.units import unit\n",
    "\n",
    "from openff.toolkit import Molecule, ForceField\n",
    "from openff.qcsubmit.results import BasicResultCollection\n",
    "from openff.recharge.esp.storage import MoleculeESPRecord\n",
    "from openff.recharge.esp.qcresults import from_qcportal_results\n",
    "from openff.recharge.grids import MSKGridSettings\n",
    "from openff.recharge.utilities.geometry import compute_vector_field\n",
    "\n",
    "import pyarrow as pa\n",
    "import pyarrow.parquet as pq\n",
    "import numpy as np\n",
    "\n",
    "import torch\n",
    "import MDAnalysis as mda"
   ]
  },
  {
   "cell_type": "markdown",
   "id": "097895ad-685b-4825-8c22-1a0f79467e9d",
   "metadata": {},
   "source": [
    "## Generate and format training data\n",
    "\n",
    "\n",
    "### Downloading from QCArchive\n",
    "First, we will create training data. We'll download a smaller training set for the purposes of this example."
   ]
  },
  {
   "cell_type": "code",
   "execution_count": 2,
   "id": "964318ce-9e08-4551-9af4-dc49ea89d027",
   "metadata": {},
   "outputs": [],
   "source": [
    "qc_client = PortalClient(\"https://api.qcarchive.molssi.org:443\", cache_dir=\".\")\n",
    "\n",
    "# download dataset from QCPortal\n",
    "br_esps_collection = BasicResultCollection.from_server(\n",
    "    client=qc_client,\n",
    "    datasets=\"OpenFF multi-Br ESP Fragment Conformers v1.1\",\n",
    "    spec_name=\"HF/6-31G*\",\n",
    ")\n",
    "\n",
    "records_and_molecules = br_esps_collection.to_records()"
   ]
  },
  {
   "cell_type": "markdown",
   "id": "9dc86d0a-c59e-4f8f-93c7-3b74adb6636e",
   "metadata": {},
   "source": [
    "### Convert to PyArrow dataset\n",
    "\n",
    "NAGL reads in and trains to data from [PyArrow tables](https://arrow.apache.org/docs/python/getstarted.html#creating-arrays-and-tables). Below we do some conversion of each electric field to fit a basic GeneralLinearFit target, which fits the equation Ax = b. To avoid carrying too many data points around, we can do some postprocessing by first flattening the electric field matrix from 3 dimensions to 2, then multiplying by the transpose of A.\n",
    "\n",
    "$$\\mathbf{A}\\vec{x} = \\vec{b}$$\n",
    "$$\\mathbf{A^{T}}\\mathbf{A}\\vec{x} = \\mathbf{A^{T}}\\vec{b}$$"
   ]
  },
  {
   "cell_type": "code",
   "execution_count": 14,
   "id": "a0690063-59fa-4863-9ce5-85a7f511d20d",
   "metadata": {},
   "outputs": [],
   "source": [
    "def calc_torsion_energy(angle, parameter):\n",
    "    angle = (angle * unit.degrees).m_as(unit.radians)\n",
    "    total = 0 * unit.kilojoules_per_mole\n",
    "    for k, phase, periodicity in zip(parameter.k, parameter.phase, parameter.periodicity):\n",
    "        phase = phase.m_as(unit.radians)\n",
    "        subtotal = k * (1 + np.cos(periodicity * angle - phase))\n",
    "        total += subtotal\n",
    "    return total\n",
    "\n",
    "\n",
    "def get_central_bond_torsions(mol, forcefield):\n",
    "    labels = forcefield.label_molecules(mol.to_topology())[0][\"ProperTorsions\"]\n",
    "    u = mda.Universe(mol.to_rdkit())\n",
    "\n",
    "    bonds_to_dihedrals = collections.defaultdict(list)\n",
    "    for key in labels:\n",
    "        center = tuple(sorted(key[1:3]))\n",
    "        bonds_to_dihedrals[center].append(key)\n",
    "\n",
    "    # get energies in order of mol.bonds\n",
    "    energies = []\n",
    "    for bond in mol.bonds:\n",
    "        key = tuple(sorted([bond.atom1_index, bond.atom2_index]))\n",
    "        dihedrals = bonds_to_dihedrals[key]\n",
    "        \n",
    "        energy = 0 * unit.kilojoules_per_mole\n",
    "        for dihedral_indices in dihedrals:\n",
    "            dihedral_parameter = labels[dihedral_indices]\n",
    "            angle = u.atoms[list(dihedral_indices)].dihedral.value()\n",
    "            energy += calc_torsion_energy(angle, dihedral_parameter)\n",
    "\n",
    "        energies.append(energy.m_as(unit.kilojoules_per_mole))\n",
    "    return energies"
   ]
  },
  {
   "cell_type": "code",
   "execution_count": 15,
   "id": "70634680-8249-49f6-ad24-bc5178851360",
   "metadata": {},
   "outputs": [
    {
     "name": "stderr",
     "output_type": "stream",
     "text": [
      "100%|█████████████████████████████████████████| 650/650 [02:23<00:00,  4.53it/s]\n"
     ]
    },
    {
     "data": {
      "text/plain": [
       "pyarrow.Table\n",
       "mapped_smiles: string\n",
       "torsion_energies: list<item: double>\n",
       "  child 0, item: double\n",
       "----\n",
       "mapped_smiles: [[\"[H:1][C:2](=[O:3])[C:4]1=[C:9]([C:7](=[N:6][S:5]1)[Br:8])[Br:10]\",\"[H:1][C:2](=[O:3])[C:4]1=[C:5]([N:7]=[C:8]([N:10]1[H:11])[Br:9])[Br:6]\",\"[H:1][C:2](=[O:3])[C:4]1=[C:10]([N:8]([C:6](=[N:5]1)[Br:7])[H:9])[Br:11]\",\"[H:1][C:2](=[O:3])[C:4]1=[C:9]([S:8][N:7]=[C:5]1[Br:6])[Br:10]\",\"[H:1][C:2](=[O:3])[C:4]1=[N:5][S:6][C:7](=[C:9]1[Br:10])[Br:8]\",...,\"[H:15][C:14]1([C:2]([O:4][C:5]([C:8]1([H:9])[C:10]([Br:11])([Br:12])[Br:13])([H:6])[H:7])([H:1])[H:3])[H:16]\",\"[H:11][c:10]1[c:8]([c:6]([c:5]([c:14]([c:12]1[F:13])[Br:15])[C:3]([H:4])([C:16]([H:17])([H:18])[H:19])[O:2][H:1])[Br:7])[H:9]\",\"[H:21][C:20]([H:22])([H:23])[N:19]([C:24]([H:25])([H:26])[H:27])[C:16]([H:17])([H:18])[C:13]([H:14])([H:15])[N+:10]([H:11])([H:12])[C:4]([H:5])([C:6]([Br:7])([Br:8])[Br:9])[N:2]([H:1])[H:3]\",\"[H:21][C:20]([H:22])([H:23])[N:19]([C:24]([H:25])([H:26])[H:27])[C:16]([H:17])([H:18])[C:13]([H:14])([H:15])[N+:10]([H:11])([H:12])[C:4]([H:5])([C:6]([Br:7])([Br:8])[Br:9])[N:2]([H:1])[H:3]\",\"[H:21][C:20]([H:22])([H:23])[N:19]([C:24]([H:25])([H:26])[H:27])[C:16]([H:17])([H:18])[C:13]([H:14])([H:15])[N+:10]([H:11])([H:12])[C:4]([H:5])([C:6]([Br:7])([Br:8])[Br:9])[N:2]([H:1])[H:3]\"]]\n",
       "torsion_energies: [[[0,0,5.210282630672764,1.194006733931561e-7,0.00000435677477160724,-1.500297475426152e-7,0.0000015546024137597334,0,2.7550204401591337e-7,0],[0,0,5.210355726116158,0.0002110260657320959,0.0001185351733375115,0,8.406616636901851e-7,0.000002114099990283998,0,0.0001608615852481346,0],...,[0,0,8.114194553233787,0,7.733197294608654,...,0,0,0,0,0],[0,0,8.312611563049511,0,7.733310897712954,...,0,0,0,0,0]]]"
      ]
     },
     "execution_count": 15,
     "metadata": {},
     "output_type": "execute_result"
    }
   ],
   "source": [
    "pyarrow_entries = []\n",
    "forcefield = ForceField(\"openff-2.1.0.offxml\")\n",
    "for record, molecule in tqdm.tqdm(records_and_molecules):\n",
    "    central_torsion_energies = get_central_bond_torsions(molecule, forcefield)\n",
    "    entry = {\n",
    "        # hopefully this preserves bond order\n",
    "        \"mapped_smiles\": molecule.to_smiles(mapped=True),\n",
    "        \"torsion_energies\": central_torsion_energies\n",
    "    }\n",
    "    pyarrow_entries.append(entry)\n",
    "\n",
    "\n",
    "# arbitrarily split into training and validation datasets\n",
    "training_pyarrow_entries = pyarrow_entries[:-10]\n",
    "validation_pyarrow_entries = pyarrow_entries[-10:]\n",
    "\n",
    "training_table = pa.Table.from_pylist(training_pyarrow_entries)\n",
    "validation_table = pa.Table.from_pylist(validation_pyarrow_entries)\n",
    "training_table"
   ]
  },
  {
   "cell_type": "code",
   "execution_count": 5,
   "id": "72a9cdce-5411-4fe3-b2ea-46fb63e09d2c",
   "metadata": {},
   "outputs": [],
   "source": [
    "pq.write_table(training_table, \"training_dataset_table.parquet\")\n",
    "pq.write_table(validation_table, \"validation_dataset_table.parquet\")\n",
    "\n",
    "# # to read back in -- note, the files saved here give the full dataset, not the 50 record subset\n",
    "# training_table = pq.read_table(\"training_dataset_table.parquet\")\n",
    "# validation_table = pq.read_table(\"validation_dataset_table.parquet\")"
   ]
  },
  {
   "cell_type": "markdown",
   "id": "4682e8cb-fba8-4cec-97b0-4d996e24ecf9",
   "metadata": {},
   "source": [
    "## Set up for training a GNN"
   ]
  },
  {
   "cell_type": "code",
   "execution_count": 6,
   "id": "3d3c909f-c1b9-44e0-86e0-d4ccf6ceb996",
   "metadata": {},
   "outputs": [],
   "source": [
    "from openff.nagl.config import (\n",
    "    TrainingConfig,\n",
    "    OptimizerConfig,\n",
    "    ModelConfig,\n",
    "    DataConfig\n",
    ")\n",
    "from openff.nagl.config.model import (\n",
    "    ConvolutionModule, ReadoutModule,\n",
    "    ConvolutionLayer, ForwardLayer,\n",
    ")\n",
    "from openff.nagl.config.data import DatasetConfig\n",
    "from openff.nagl.training.training import TrainingGNNModel\n",
    "from openff.nagl.features.atoms import (\n",
    "    AtomicElement,\n",
    "    AtomConnectivity,\n",
    "    AtomInRingOfSize,\n",
    "    AtomAverageFormalCharge,\n",
    ")\n",
    "\n",
    "from openff.nagl.training.loss import GeneralLinearFitTarget"
   ]
  },
  {
   "cell_type": "markdown",
   "id": "88be032d-0101-479e-a468-2c5db34600fc",
   "metadata": {},
   "source": [
    "### Defining the training config\n",
    "\n",
    "#### Defining a ModelConfig\n",
    "\n",
    "First we define a ModelConfig.\n",
    "This can be done in Python, but in practice it is probably easier to define the model in a YAML file and load it with `ModelConfig.from_yaml`."
   ]
  },
  {
   "cell_type": "code",
   "execution_count": 7,
   "id": "f7ddfbde-1349-42ec-a2aa-0f9ead097e99",
   "metadata": {},
   "outputs": [],
   "source": [
    "atom_features = [\n",
    "    AtomicElement(categories=[\"H\", \"C\", \"N\", \"O\", \"F\", \"Br\", \"S\", \"P\", \"I\"]),\n",
    "    AtomConnectivity(categories=[1, 2, 3, 4, 5, 6]),\n",
    "    AtomInRingOfSize(ring_size=3),\n",
    "    AtomInRingOfSize(ring_size=4),\n",
    "    AtomInRingOfSize(ring_size=5),\n",
    "    AtomInRingOfSize(ring_size=6),\n",
    "    AtomAverageFormalCharge(),\n",
    "]\n",
    "\n",
    "# define our convolution module\n",
    "convolution_module = ConvolutionModule(\n",
    "    architecture=\"SAGEConv\",\n",
    "    # construct 6 layers with dropout 0 (default),\n",
    "    # hidden feature size 512, and ReLU activation function\n",
    "    # these layers can also be individually specified,\n",
    "    # but we just duplicate the layer 6 times for identical layers\n",
    "    layers=[\n",
    "        ConvolutionLayer(\n",
    "            hidden_feature_size=512,\n",
    "            activation_function=\"ReLU\",\n",
    "            aggregator_type=\"mean\"\n",
    "        )\n",
    "    ] * 6,\n",
    ")\n",
    "\n",
    "# define our readout module/s\n",
    "# multiple are allowed but let's focus on charges\n",
    "readout_modules = {\n",
    "    # key is the name of output property, any naming is allowed\n",
    "    \"charges\": ReadoutModule(\n",
    "        pooling=\"atoms\",\n",
    "        postprocess=\"compute_partial_charges\",\n",
    "        # 2 layers\n",
    "        layers=[\n",
    "            ForwardLayer(\n",
    "                hidden_feature_size=512,\n",
    "                activation_function=\"ReLU\",\n",
    "            )\n",
    "        ] * 2,\n",
    "    )\n",
    "}\n",
    "\n",
    "# bring it all together\n",
    "model_config = ModelConfig(\n",
    "    version=\"0.1\",\n",
    "    atom_features=atom_features,\n",
    "    convolution=convolution_module,\n",
    "    readouts=readout_modules,\n",
    ")"
   ]
  },
  {
   "cell_type": "markdown",
   "id": "a68f7b57-a1f7-43f4-ba2d-9579dd9562db",
   "metadata": {},
   "source": [
    "#### Defining a DataConfig\n",
    "\n",
    "We can then define our dataset configs. Here we also have to specify our training targets."
   ]
  },
  {
   "cell_type": "code",
   "execution_count": 8,
   "id": "bf524fad-42e5-4020-a9d9-90a56343b7a1",
   "metadata": {},
   "outputs": [],
   "source": [
    "target = GeneralLinearFitTarget(\n",
    "    # what we're using to evaluate loss\n",
    "    target_label=\"prediction_vector\",\n",
    "    # the output of the GNN we use to evaluate loss\n",
    "    prediction_label=\"charges\",\n",
    "    # the column in the table that contains the precursor matrix\n",
    "    design_matrix_column=\"precursor_matrix\",\n",
    "    # how we want to evaluate loss, e.g. RMSE, MSE, ...\n",
    "    metric=\"rmse\",\n",
    "    # how much to weight this target\n",
    "    # helps with scaling in multi-target optimizations\n",
    "    weight=1,\n",
    "    denominator=1,\n",
    ")\n",
    "\n",
    "training_to_electric_field = DatasetConfig(\n",
    "    sources=[\"training_dataset_table.parquet\"],\n",
    "    targets=[target],\n",
    "    batch_size=100,\n",
    ")\n",
    "validating_to_electric_field = DatasetConfig(\n",
    "    sources=[\"validation_dataset_table.parquet\"],\n",
    "    targets=[target],\n",
    "    batch_size=100,\n",
    ")\n",
    "\n",
    "# bringing it together\n",
    "data_config = DataConfig(\n",
    "    training=training_to_electric_field,\n",
    "    validation=validating_to_electric_field\n",
    ")"
   ]
  },
  {
   "cell_type": "markdown",
   "id": "cfd8bba9-241c-4c67-8f88-a89ae608ec89",
   "metadata": {},
   "source": [
    "#### Defining an OptimizerConfig\n",
    "\n",
    "The optimizer config is relatively simple; the only moving part here currently is the learning rate."
   ]
  },
  {
   "cell_type": "code",
   "execution_count": 9,
   "id": "1759ed0f-2e89-4d22-80ae-2c0ba04f37a0",
   "metadata": {},
   "outputs": [],
   "source": [
    "optimizer_config = OptimizerConfig(optimizer=\"Adam\", learning_rate=0.001)"
   ]
  },
  {
   "cell_type": "markdown",
   "id": "7c784871-e834-470e-a346-bde893326fee",
   "metadata": {},
   "source": [
    "#### Creating a TrainingConfig"
   ]
  },
  {
   "cell_type": "code",
   "execution_count": 10,
   "id": "f5958818-03ef-4580-9cbf-c588cbb3141f",
   "metadata": {},
   "outputs": [],
   "source": [
    "training_config = TrainingConfig(\n",
    "    model=model_config,\n",
    "    data=data_config,\n",
    "    optimizer=optimizer_config\n",
    ")"
   ]
  },
  {
   "cell_type": "markdown",
   "id": "17d61258-fe16-4993-9c19-57118c9d0a1a",
   "metadata": {},
   "source": [
    "### Creating a TrainingGNNModel\n",
    "\n",
    "Now we can create a `TrainingGNNModel`, which allows easy training of a `GNNModel`. The `GNNModel` can be accessed through `TrainingGNNModel.model`."
   ]
  },
  {
   "cell_type": "code",
   "execution_count": 11,
   "id": "3eefcea4-2e9a-4e4a-b3fc-939f3f733fb8",
   "metadata": {},
   "outputs": [
    {
     "data": {
      "text/plain": [
       "TrainingGNNModel(\n",
       "  (model): GNNModel(\n",
       "    (convolution_module): ConvolutionModule(\n",
       "      (gcn_layers): SAGEConvStack(\n",
       "        (0): SAGEConv(\n",
       "          (feat_drop): Dropout(p=0.0, inplace=False)\n",
       "          (activation): ReLU()\n",
       "          (fc_neigh): Linear(in_features=20, out_features=512, bias=False)\n",
       "          (fc_self): Linear(in_features=20, out_features=512, bias=True)\n",
       "        )\n",
       "        (1-5): 5 x SAGEConv(\n",
       "          (feat_drop): Dropout(p=0.0, inplace=False)\n",
       "          (activation): ReLU()\n",
       "          (fc_neigh): Linear(in_features=512, out_features=512, bias=False)\n",
       "          (fc_self): Linear(in_features=512, out_features=512, bias=True)\n",
       "        )\n",
       "      )\n",
       "    )\n",
       "    (readout_modules): ModuleDict(\n",
       "      (charges): ReadoutModule(\n",
       "        (pooling_layer): PoolAtomFeatures()\n",
       "        (readout_layers): SequentialLayers(\n",
       "          (0): Linear(in_features=512, out_features=512, bias=True)\n",
       "          (1): ReLU()\n",
       "          (2): Dropout(p=0.0, inplace=False)\n",
       "          (3): Linear(in_features=512, out_features=512, bias=True)\n",
       "          (4): ReLU()\n",
       "          (5): Dropout(p=0.0, inplace=False)\n",
       "          (6): Linear(in_features=512, out_features=2, bias=True)\n",
       "          (7): Identity()\n",
       "          (8): Dropout(p=0.0, inplace=False)\n",
       "        )\n",
       "        (postprocess_layer): ComputePartialCharges()\n",
       "      )\n",
       "    )\n",
       "  )\n",
       ")"
      ]
     },
     "execution_count": 11,
     "metadata": {},
     "output_type": "execute_result"
    }
   ],
   "source": [
    "training_model = TrainingGNNModel(training_config)\n",
    "training_model"
   ]
  },
  {
   "cell_type": "markdown",
   "id": "d696dae6-93ce-4f0a-ab0f-ebb7e72fa176",
   "metadata": {},
   "source": [
    "We can look at the initial capabilities of the model by comparing its charges to AM1-BCC charges. They're pretty bad."
   ]
  },
  {
   "cell_type": "code",
   "execution_count": 12,
   "id": "adb99158-fa97-412d-972b-89f6f563b84a",
   "metadata": {},
   "outputs": [
    {
     "data": {
      "text/plain": [
       "array([-0.0422502 , -0.05428261,  0.15142802, -0.42682151,  0.09391647,\n",
       "        0.09391647,  0.09391647,  0.2050635 ,  0.2050635 , -0.15997499,\n",
       "       -0.15997499])"
      ]
     },
     "execution_count": 12,
     "metadata": {},
     "output_type": "execute_result"
    }
   ],
   "source": [
    "test_molecule = Molecule.from_smiles(\"CCCBr\")\n",
    "test_molecule.assign_partial_charges(\"am1bcc\")\n",
    "reference_charges = test_molecule.partial_charges.m\n",
    "\n",
    "# switch to eval mode\n",
    "training_model.model.eval()\n",
    "\n",
    "with torch.no_grad():\n",
    "    nagl_charges_1 = training_model.model.compute_properties(\n",
    "        test_molecule,\n",
    "        as_numpy=True\n",
    "    )[\"charges\"]\n",
    "\n",
    "# switch back to training mode\n",
    "training_model.model.train()\n",
    "\n",
    "# compare charges\n",
    "differences = reference_charges - nagl_charges_1\n",
    "differences"
   ]
  },
  {
   "cell_type": "markdown",
   "id": "79cb1d56-3d70-4307-93f0-0d5956fdb32e",
   "metadata": {},
   "source": [
    "### Training the model\n",
    "\n",
    "We use Pytorch Lightning to train."
   ]
  },
  {
   "cell_type": "code",
   "execution_count": 13,
   "id": "5bfcbce1-8323-4403-a607-89292681375b",
   "metadata": {},
   "outputs": [],
   "source": [
    "import pytorch_lightning as pl\n",
    "from pytorch_lightning.callbacks import TQDMProgressBar"
   ]
  },
  {
   "cell_type": "code",
   "execution_count": null,
   "id": "c8cb0a08-eea6-41e4-9fd6-158204e26e79",
   "metadata": {},
   "outputs": [],
   "source": [
    "trainer = pl.Trainer(\n",
    "    max_epochs=100,\n",
    "    callbacks=[TQDMProgressBar()], # add progress bar\n",
    "    accelerator=\"cpu\"\n",
    ")"
   ]
  },
  {
   "cell_type": "code",
   "execution_count": null,
   "id": "f8846142-77f2-4d60-a74e-c3bc3c3ed3ee",
   "metadata": {},
   "outputs": [],
   "source": [
    "datamodule = training_model.create_data_module(verbose=False)"
   ]
  },
  {
   "cell_type": "code",
   "execution_count": 14,
   "id": "4e0174d7-a57b-49d9-89a3-5c756adc0d8c",
   "metadata": {},
   "outputs": [
    {
     "name": "stderr",
     "output_type": "stream",
     "text": [
      "GPU available: True (mps), used: False\n",
      "TPU available: False, using: 0 TPU cores\n",
      "HPU available: False, using: 0 HPUs\n",
      "/Users/lily/micromamba/envs/train-gnn-to-electric-field/lib/python3.12/site-packages/pytorch_lightning/trainer/setup.py:177: GPU available but not used. You can set it by doing `Trainer(accelerator='gpu')`.\n",
      "Featurizing dataset: 0it [00:00, ?it/s]\n",
      "Featurizing batch:   0%|                                                                                          | 0/40 [00:00<?, ?it/s]\u001b[A\n",
      "Featurizing batch:  40%|████████████████████████████████                                                | 16/40 [00:00<00:00, 154.33it/s]\u001b[A\n",
      "Featurizing batch: 100%|████████████████████████████████████████████████████████████████████████████████| 40/40 [00:00<00:00, 159.17it/s]\u001b[A\n",
      "Featurizing dataset: 1it [00:00,  3.81it/s]\n",
      "Featurizing dataset: 0it [00:00, ?it/s]\n",
      "Featurizing batch: 100%|████████████████████████████████████████████████████████████████████████████████| 10/10 [00:00<00:00, 176.62it/s]\u001b[A\n",
      "Featurizing dataset: 1it [00:00, 16.94it/s]\n",
      "Featurizing dataset: 0it [00:00, ?it/s]\n",
      "Featurizing batch:   0%|                                                                                          | 0/40 [00:00<?, ?it/s]\u001b[A\n",
      "Featurizing batch:  50%|████████████████████████████████████████                                        | 20/40 [00:00<00:00, 191.27it/s]\u001b[A\n",
      "Featurizing batch: 100%|████████████████████████████████████████████████████████████████████████████████| 40/40 [00:00<00:00, 182.97it/s]\u001b[A\n",
      "Featurizing dataset: 1it [00:00,  4.46it/s]\n",
      "Featurizing dataset: 0it [00:00, ?it/s]\n",
      "Featurizing batch: 100%|████████████████████████████████████████████████████████████████████████████████| 10/10 [00:00<00:00, 179.03it/s]\u001b[A\n",
      "Featurizing dataset: 1it [00:00, 17.17it/s]\n",
      "\n",
      "  | Name  | Type     | Params | Mode \n",
      "-------------------------------------------\n",
      "0 | model | GNNModel | 3.2 M  | train\n",
      "-------------------------------------------\n",
      "3.2 M     Trainable params\n",
      "0         Non-trainable params\n",
      "3.2 M     Total params\n",
      "12.685    Total estimated model params size (MB)\n",
      "47        Modules in train mode\n",
      "0         Modules in eval mode\n"
     ]
    },
    {
     "data": {
      "application/vnd.jupyter.widget-view+json": {
       "model_id": "",
       "version_major": 2,
       "version_minor": 0
      },
      "text/plain": [
       "Sanity Checking: |                                                                                            …"
      ]
     },
     "metadata": {},
     "output_type": "display_data"
    },
    {
     "name": "stderr",
     "output_type": "stream",
     "text": [
      "/Users/lily/micromamba/envs/train-gnn-to-electric-field/lib/python3.12/site-packages/pytorch_lightning/trainer/connectors/data_connector.py:424: The 'val_dataloader' does not have many workers which may be a bottleneck. Consider increasing the value of the `num_workers` argument` to `num_workers=9` in the `DataLoader` to improve performance.\n",
      "/Users/lily/micromamba/envs/train-gnn-to-electric-field/lib/python3.12/site-packages/pytorch_lightning/trainer/connectors/data_connector.py:424: The 'train_dataloader' does not have many workers which may be a bottleneck. Consider increasing the value of the `num_workers` argument` to `num_workers=9` in the `DataLoader` to improve performance.\n",
      "/Users/lily/micromamba/envs/train-gnn-to-electric-field/lib/python3.12/site-packages/pytorch_lightning/loops/fit_loop.py:298: The number of training batches (1) is smaller than the logging interval Trainer(log_every_n_steps=50). Set a lower value for log_every_n_steps if you want to see logs for the training epoch.\n"
     ]
    },
    {
     "data": {
      "application/vnd.jupyter.widget-view+json": {
       "model_id": "b443e71b25ba4a10a9b077fb08431d44",
       "version_major": 2,
       "version_minor": 0
      },
      "text/plain": [
       "Training: |                                                                                                   …"
      ]
     },
     "metadata": {},
     "output_type": "display_data"
    },
    {
     "data": {
      "application/vnd.jupyter.widget-view+json": {
       "model_id": "",
       "version_major": 2,
       "version_minor": 0
      },
      "text/plain": [
       "Validation: |                                                                                                 …"
      ]
     },
     "metadata": {},
     "output_type": "display_data"
    },
    {
     "data": {
      "application/vnd.jupyter.widget-view+json": {
       "model_id": "",
       "version_major": 2,
       "version_minor": 0
      },
      "text/plain": [
       "Validation: |                                                                                                 …"
      ]
     },
     "metadata": {},
     "output_type": "display_data"
    },
    {
     "data": {
      "application/vnd.jupyter.widget-view+json": {
       "model_id": "",
       "version_major": 2,
       "version_minor": 0
      },
      "text/plain": [
       "Validation: |                                                                                                 …"
      ]
     },
     "metadata": {},
     "output_type": "display_data"
    },
    {
     "data": {
      "application/vnd.jupyter.widget-view+json": {
       "model_id": "",
       "version_major": 2,
       "version_minor": 0
      },
      "text/plain": [
       "Validation: |                                                                                                 …"
      ]
     },
     "metadata": {},
     "output_type": "display_data"
    },
    {
     "data": {
      "application/vnd.jupyter.widget-view+json": {
       "model_id": "",
       "version_major": 2,
       "version_minor": 0
      },
      "text/plain": [
       "Validation: |                                                                                                 …"
      ]
     },
     "metadata": {},
     "output_type": "display_data"
    },
    {
     "data": {
      "application/vnd.jupyter.widget-view+json": {
       "model_id": "",
       "version_major": 2,
       "version_minor": 0
      },
      "text/plain": [
       "Validation: |                                                                                                 …"
      ]
     },
     "metadata": {},
     "output_type": "display_data"
    },
    {
     "data": {
      "application/vnd.jupyter.widget-view+json": {
       "model_id": "",
       "version_major": 2,
       "version_minor": 0
      },
      "text/plain": [
       "Validation: |                                                                                                 …"
      ]
     },
     "metadata": {},
     "output_type": "display_data"
    },
    {
     "data": {
      "application/vnd.jupyter.widget-view+json": {
       "model_id": "",
       "version_major": 2,
       "version_minor": 0
      },
      "text/plain": [
       "Validation: |                                                                                                 …"
      ]
     },
     "metadata": {},
     "output_type": "display_data"
    },
    {
     "data": {
      "application/vnd.jupyter.widget-view+json": {
       "model_id": "",
       "version_major": 2,
       "version_minor": 0
      },
      "text/plain": [
       "Validation: |                                                                                                 …"
      ]
     },
     "metadata": {},
     "output_type": "display_data"
    },
    {
     "data": {
      "application/vnd.jupyter.widget-view+json": {
       "model_id": "",
       "version_major": 2,
       "version_minor": 0
      },
      "text/plain": [
       "Validation: |                                                                                                 …"
      ]
     },
     "metadata": {},
     "output_type": "display_data"
    },
    {
     "data": {
      "application/vnd.jupyter.widget-view+json": {
       "model_id": "",
       "version_major": 2,
       "version_minor": 0
      },
      "text/plain": [
       "Validation: |                                                                                                 …"
      ]
     },
     "metadata": {},
     "output_type": "display_data"
    },
    {
     "data": {
      "application/vnd.jupyter.widget-view+json": {
       "model_id": "",
       "version_major": 2,
       "version_minor": 0
      },
      "text/plain": [
       "Validation: |                                                                                                 …"
      ]
     },
     "metadata": {},
     "output_type": "display_data"
    },
    {
     "data": {
      "application/vnd.jupyter.widget-view+json": {
       "model_id": "",
       "version_major": 2,
       "version_minor": 0
      },
      "text/plain": [
       "Validation: |                                                                                                 …"
      ]
     },
     "metadata": {},
     "output_type": "display_data"
    },
    {
     "data": {
      "application/vnd.jupyter.widget-view+json": {
       "model_id": "",
       "version_major": 2,
       "version_minor": 0
      },
      "text/plain": [
       "Validation: |                                                                                                 …"
      ]
     },
     "metadata": {},
     "output_type": "display_data"
    },
    {
     "data": {
      "application/vnd.jupyter.widget-view+json": {
       "model_id": "",
       "version_major": 2,
       "version_minor": 0
      },
      "text/plain": [
       "Validation: |                                                                                                 …"
      ]
     },
     "metadata": {},
     "output_type": "display_data"
    },
    {
     "data": {
      "application/vnd.jupyter.widget-view+json": {
       "model_id": "",
       "version_major": 2,
       "version_minor": 0
      },
      "text/plain": [
       "Validation: |                                                                                                 …"
      ]
     },
     "metadata": {},
     "output_type": "display_data"
    },
    {
     "data": {
      "application/vnd.jupyter.widget-view+json": {
       "model_id": "",
       "version_major": 2,
       "version_minor": 0
      },
      "text/plain": [
       "Validation: |                                                                                                 …"
      ]
     },
     "metadata": {},
     "output_type": "display_data"
    },
    {
     "data": {
      "application/vnd.jupyter.widget-view+json": {
       "model_id": "",
       "version_major": 2,
       "version_minor": 0
      },
      "text/plain": [
       "Validation: |                                                                                                 …"
      ]
     },
     "metadata": {},
     "output_type": "display_data"
    },
    {
     "data": {
      "application/vnd.jupyter.widget-view+json": {
       "model_id": "",
       "version_major": 2,
       "version_minor": 0
      },
      "text/plain": [
       "Validation: |                                                                                                 …"
      ]
     },
     "metadata": {},
     "output_type": "display_data"
    },
    {
     "data": {
      "application/vnd.jupyter.widget-view+json": {
       "model_id": "",
       "version_major": 2,
       "version_minor": 0
      },
      "text/plain": [
       "Validation: |                                                                                                 …"
      ]
     },
     "metadata": {},
     "output_type": "display_data"
    },
    {
     "data": {
      "application/vnd.jupyter.widget-view+json": {
       "model_id": "",
       "version_major": 2,
       "version_minor": 0
      },
      "text/plain": [
       "Validation: |                                                                                                 …"
      ]
     },
     "metadata": {},
     "output_type": "display_data"
    },
    {
     "data": {
      "application/vnd.jupyter.widget-view+json": {
       "model_id": "",
       "version_major": 2,
       "version_minor": 0
      },
      "text/plain": [
       "Validation: |                                                                                                 …"
      ]
     },
     "metadata": {},
     "output_type": "display_data"
    },
    {
     "data": {
      "application/vnd.jupyter.widget-view+json": {
       "model_id": "",
       "version_major": 2,
       "version_minor": 0
      },
      "text/plain": [
       "Validation: |                                                                                                 …"
      ]
     },
     "metadata": {},
     "output_type": "display_data"
    },
    {
     "data": {
      "application/vnd.jupyter.widget-view+json": {
       "model_id": "",
       "version_major": 2,
       "version_minor": 0
      },
      "text/plain": [
       "Validation: |                                                                                                 …"
      ]
     },
     "metadata": {},
     "output_type": "display_data"
    },
    {
     "data": {
      "application/vnd.jupyter.widget-view+json": {
       "model_id": "",
       "version_major": 2,
       "version_minor": 0
      },
      "text/plain": [
       "Validation: |                                                                                                 …"
      ]
     },
     "metadata": {},
     "output_type": "display_data"
    },
    {
     "data": {
      "application/vnd.jupyter.widget-view+json": {
       "model_id": "",
       "version_major": 2,
       "version_minor": 0
      },
      "text/plain": [
       "Validation: |                                                                                                 …"
      ]
     },
     "metadata": {},
     "output_type": "display_data"
    },
    {
     "data": {
      "application/vnd.jupyter.widget-view+json": {
       "model_id": "",
       "version_major": 2,
       "version_minor": 0
      },
      "text/plain": [
       "Validation: |                                                                                                 …"
      ]
     },
     "metadata": {},
     "output_type": "display_data"
    },
    {
     "data": {
      "application/vnd.jupyter.widget-view+json": {
       "model_id": "",
       "version_major": 2,
       "version_minor": 0
      },
      "text/plain": [
       "Validation: |                                                                                                 …"
      ]
     },
     "metadata": {},
     "output_type": "display_data"
    },
    {
     "data": {
      "application/vnd.jupyter.widget-view+json": {
       "model_id": "",
       "version_major": 2,
       "version_minor": 0
      },
      "text/plain": [
       "Validation: |                                                                                                 …"
      ]
     },
     "metadata": {},
     "output_type": "display_data"
    },
    {
     "data": {
      "application/vnd.jupyter.widget-view+json": {
       "model_id": "",
       "version_major": 2,
       "version_minor": 0
      },
      "text/plain": [
       "Validation: |                                                                                                 …"
      ]
     },
     "metadata": {},
     "output_type": "display_data"
    },
    {
     "data": {
      "application/vnd.jupyter.widget-view+json": {
       "model_id": "",
       "version_major": 2,
       "version_minor": 0
      },
      "text/plain": [
       "Validation: |                                                                                                 …"
      ]
     },
     "metadata": {},
     "output_type": "display_data"
    },
    {
     "data": {
      "application/vnd.jupyter.widget-view+json": {
       "model_id": "",
       "version_major": 2,
       "version_minor": 0
      },
      "text/plain": [
       "Validation: |                                                                                                 …"
      ]
     },
     "metadata": {},
     "output_type": "display_data"
    },
    {
     "data": {
      "application/vnd.jupyter.widget-view+json": {
       "model_id": "",
       "version_major": 2,
       "version_minor": 0
      },
      "text/plain": [
       "Validation: |                                                                                                 …"
      ]
     },
     "metadata": {},
     "output_type": "display_data"
    },
    {
     "data": {
      "application/vnd.jupyter.widget-view+json": {
       "model_id": "",
       "version_major": 2,
       "version_minor": 0
      },
      "text/plain": [
       "Validation: |                                                                                                 …"
      ]
     },
     "metadata": {},
     "output_type": "display_data"
    },
    {
     "data": {
      "application/vnd.jupyter.widget-view+json": {
       "model_id": "",
       "version_major": 2,
       "version_minor": 0
      },
      "text/plain": [
       "Validation: |                                                                                                 …"
      ]
     },
     "metadata": {},
     "output_type": "display_data"
    },
    {
     "data": {
      "application/vnd.jupyter.widget-view+json": {
       "model_id": "",
       "version_major": 2,
       "version_minor": 0
      },
      "text/plain": [
       "Validation: |                                                                                                 …"
      ]
     },
     "metadata": {},
     "output_type": "display_data"
    },
    {
     "data": {
      "application/vnd.jupyter.widget-view+json": {
       "model_id": "",
       "version_major": 2,
       "version_minor": 0
      },
      "text/plain": [
       "Validation: |                                                                                                 …"
      ]
     },
     "metadata": {},
     "output_type": "display_data"
    },
    {
     "data": {
      "application/vnd.jupyter.widget-view+json": {
       "model_id": "",
       "version_major": 2,
       "version_minor": 0
      },
      "text/plain": [
       "Validation: |                                                                                                 …"
      ]
     },
     "metadata": {},
     "output_type": "display_data"
    },
    {
     "data": {
      "application/vnd.jupyter.widget-view+json": {
       "model_id": "",
       "version_major": 2,
       "version_minor": 0
      },
      "text/plain": [
       "Validation: |                                                                                                 …"
      ]
     },
     "metadata": {},
     "output_type": "display_data"
    },
    {
     "data": {
      "application/vnd.jupyter.widget-view+json": {
       "model_id": "",
       "version_major": 2,
       "version_minor": 0
      },
      "text/plain": [
       "Validation: |                                                                                                 …"
      ]
     },
     "metadata": {},
     "output_type": "display_data"
    },
    {
     "data": {
      "application/vnd.jupyter.widget-view+json": {
       "model_id": "",
       "version_major": 2,
       "version_minor": 0
      },
      "text/plain": [
       "Validation: |                                                                                                 …"
      ]
     },
     "metadata": {},
     "output_type": "display_data"
    },
    {
     "data": {
      "application/vnd.jupyter.widget-view+json": {
       "model_id": "",
       "version_major": 2,
       "version_minor": 0
      },
      "text/plain": [
       "Validation: |                                                                                                 …"
      ]
     },
     "metadata": {},
     "output_type": "display_data"
    },
    {
     "data": {
      "application/vnd.jupyter.widget-view+json": {
       "model_id": "",
       "version_major": 2,
       "version_minor": 0
      },
      "text/plain": [
       "Validation: |                                                                                                 …"
      ]
     },
     "metadata": {},
     "output_type": "display_data"
    },
    {
     "data": {
      "application/vnd.jupyter.widget-view+json": {
       "model_id": "",
       "version_major": 2,
       "version_minor": 0
      },
      "text/plain": [
       "Validation: |                                                                                                 …"
      ]
     },
     "metadata": {},
     "output_type": "display_data"
    },
    {
     "data": {
      "application/vnd.jupyter.widget-view+json": {
       "model_id": "",
       "version_major": 2,
       "version_minor": 0
      },
      "text/plain": [
       "Validation: |                                                                                                 …"
      ]
     },
     "metadata": {},
     "output_type": "display_data"
    },
    {
     "data": {
      "application/vnd.jupyter.widget-view+json": {
       "model_id": "",
       "version_major": 2,
       "version_minor": 0
      },
      "text/plain": [
       "Validation: |                                                                                                 …"
      ]
     },
     "metadata": {},
     "output_type": "display_data"
    },
    {
     "data": {
      "application/vnd.jupyter.widget-view+json": {
       "model_id": "53a8d24f64614010b05f7d2263979d12",
       "version_major": 2,
       "version_minor": 0
      },
      "text/plain": [
       "Validation: |                                                                                                 …"
      ]
     },
     "metadata": {},
     "output_type": "display_data"
    },
    {
     "data": {
      "application/vnd.jupyter.widget-view+json": {
       "model_id": "62dd11eec65f430f8ec5daf9e8a156f5",
       "version_major": 2,
       "version_minor": 0
      },
      "text/plain": [
       "Validation: |                                                                                                 …"
      ]
     },
     "metadata": {},
     "output_type": "display_data"
    },
    {
     "data": {
      "application/vnd.jupyter.widget-view+json": {
       "model_id": "a9ebdd21758f4b5e86253fb72d02870b",
       "version_major": 2,
       "version_minor": 0
      },
      "text/plain": [
       "Validation: |                                                                                                 …"
      ]
     },
     "metadata": {},
     "output_type": "display_data"
    },
    {
     "data": {
      "application/vnd.jupyter.widget-view+json": {
       "model_id": "eb8f171f82fe4444a4e561868611f40d",
       "version_major": 2,
       "version_minor": 0
      },
      "text/plain": [
       "Validation: |                                                                                                 …"
      ]
     },
     "metadata": {},
     "output_type": "display_data"
    },
    {
     "data": {
      "application/vnd.jupyter.widget-view+json": {
       "model_id": "9509be3555bd4b74a2e74dc4760e6e4f",
       "version_major": 2,
       "version_minor": 0
      },
      "text/plain": [
       "Validation: |                                                                                                 …"
      ]
     },
     "metadata": {},
     "output_type": "display_data"
    },
    {
     "data": {
      "application/vnd.jupyter.widget-view+json": {
       "model_id": "45688482f7ea449b91aa4b10eed27a3a",
       "version_major": 2,
       "version_minor": 0
      },
      "text/plain": [
       "Validation: |                                                                                                 …"
      ]
     },
     "metadata": {},
     "output_type": "display_data"
    },
    {
     "data": {
      "application/vnd.jupyter.widget-view+json": {
       "model_id": "60f6014244bd4336a864e87af1cc8e47",
       "version_major": 2,
       "version_minor": 0
      },
      "text/plain": [
       "Validation: |                                                                                                 …"
      ]
     },
     "metadata": {},
     "output_type": "display_data"
    },
    {
     "data": {
      "application/vnd.jupyter.widget-view+json": {
       "model_id": "b4f2e6eb870d4723aa5f1dcb213da6d3",
       "version_major": 2,
       "version_minor": 0
      },
      "text/plain": [
       "Validation: |                                                                                                 …"
      ]
     },
     "metadata": {},
     "output_type": "display_data"
    },
    {
     "data": {
      "application/vnd.jupyter.widget-view+json": {
       "model_id": "3cf0fff95eaa4c1f9fab91f3e03fb208",
       "version_major": 2,
       "version_minor": 0
      },
      "text/plain": [
       "Validation: |                                                                                                 …"
      ]
     },
     "metadata": {},
     "output_type": "display_data"
    },
    {
     "data": {
      "application/vnd.jupyter.widget-view+json": {
       "model_id": "c9c278d976db4869b23e4ba7ee193f13",
       "version_major": 2,
       "version_minor": 0
      },
      "text/plain": [
       "Validation: |                                                                                                 …"
      ]
     },
     "metadata": {},
     "output_type": "display_data"
    },
    {
     "data": {
      "application/vnd.jupyter.widget-view+json": {
       "model_id": "36458ce78c6a4e07965c231f69b6dd34",
       "version_major": 2,
       "version_minor": 0
      },
      "text/plain": [
       "Validation: |                                                                                                 …"
      ]
     },
     "metadata": {},
     "output_type": "display_data"
    },
    {
     "data": {
      "application/vnd.jupyter.widget-view+json": {
       "model_id": "5838347539ba41e189ac78e5e3feafc0",
       "version_major": 2,
       "version_minor": 0
      },
      "text/plain": [
       "Validation: |                                                                                                 …"
      ]
     },
     "metadata": {},
     "output_type": "display_data"
    },
    {
     "data": {
      "application/vnd.jupyter.widget-view+json": {
       "model_id": "b0de8cf898ba4556887824b7aedc1360",
       "version_major": 2,
       "version_minor": 0
      },
      "text/plain": [
       "Validation: |                                                                                                 …"
      ]
     },
     "metadata": {},
     "output_type": "display_data"
    },
    {
     "data": {
      "application/vnd.jupyter.widget-view+json": {
       "model_id": "f5914ca75f754ff29f8cf24017e09656",
       "version_major": 2,
       "version_minor": 0
      },
      "text/plain": [
       "Validation: |                                                                                                 …"
      ]
     },
     "metadata": {},
     "output_type": "display_data"
    },
    {
     "data": {
      "application/vnd.jupyter.widget-view+json": {
       "model_id": "9bf7b56a79034304a220d343097596d8",
       "version_major": 2,
       "version_minor": 0
      },
      "text/plain": [
       "Validation: |                                                                                                 …"
      ]
     },
     "metadata": {},
     "output_type": "display_data"
    },
    {
     "data": {
      "application/vnd.jupyter.widget-view+json": {
       "model_id": "720fd566088549ac9a7a0019328aed2b",
       "version_major": 2,
       "version_minor": 0
      },
      "text/plain": [
       "Validation: |                                                                                                 …"
      ]
     },
     "metadata": {},
     "output_type": "display_data"
    },
    {
     "data": {
      "application/vnd.jupyter.widget-view+json": {
       "model_id": "8cdb37e924a14e6891564b50d724a182",
       "version_major": 2,
       "version_minor": 0
      },
      "text/plain": [
       "Validation: |                                                                                                 …"
      ]
     },
     "metadata": {},
     "output_type": "display_data"
    },
    {
     "data": {
      "application/vnd.jupyter.widget-view+json": {
       "model_id": "a5e0f74890d34f73880589a9c93949f9",
       "version_major": 2,
       "version_minor": 0
      },
      "text/plain": [
       "Validation: |                                                                                                 …"
      ]
     },
     "metadata": {},
     "output_type": "display_data"
    },
    {
     "data": {
      "application/vnd.jupyter.widget-view+json": {
       "model_id": "aa47adebdd4d4ef18a3fa4448a0ca621",
       "version_major": 2,
       "version_minor": 0
      },
      "text/plain": [
       "Validation: |                                                                                                 …"
      ]
     },
     "metadata": {},
     "output_type": "display_data"
    },
    {
     "data": {
      "application/vnd.jupyter.widget-view+json": {
       "model_id": "b0601b2a19e84f559d043f99c7697301",
       "version_major": 2,
       "version_minor": 0
      },
      "text/plain": [
       "Validation: |                                                                                                 …"
      ]
     },
     "metadata": {},
     "output_type": "display_data"
    },
    {
     "data": {
      "application/vnd.jupyter.widget-view+json": {
       "model_id": "e7bb3fd199fb43999a9b540efab62d2a",
       "version_major": 2,
       "version_minor": 0
      },
      "text/plain": [
       "Validation: |                                                                                                 …"
      ]
     },
     "metadata": {},
     "output_type": "display_data"
    },
    {
     "data": {
      "application/vnd.jupyter.widget-view+json": {
       "model_id": "c897b1a2410d4b6ab8eef29bbd4b3a0a",
       "version_major": 2,
       "version_minor": 0
      },
      "text/plain": [
       "Validation: |                                                                                                 …"
      ]
     },
     "metadata": {},
     "output_type": "display_data"
    },
    {
     "data": {
      "application/vnd.jupyter.widget-view+json": {
       "model_id": "79a32fb2faf54dd096ec3c4be080a7d9",
       "version_major": 2,
       "version_minor": 0
      },
      "text/plain": [
       "Validation: |                                                                                                 …"
      ]
     },
     "metadata": {},
     "output_type": "display_data"
    },
    {
     "data": {
      "application/vnd.jupyter.widget-view+json": {
       "model_id": "0cfdbd0a231c41efbd20788ecde0e42e",
       "version_major": 2,
       "version_minor": 0
      },
      "text/plain": [
       "Validation: |                                                                                                 …"
      ]
     },
     "metadata": {},
     "output_type": "display_data"
    },
    {
     "data": {
      "application/vnd.jupyter.widget-view+json": {
       "model_id": "53683397e4b249dd86ade4d6103eafe0",
       "version_major": 2,
       "version_minor": 0
      },
      "text/plain": [
       "Validation: |                                                                                                 …"
      ]
     },
     "metadata": {},
     "output_type": "display_data"
    },
    {
     "data": {
      "application/vnd.jupyter.widget-view+json": {
       "model_id": "d93ffc2ec56847a48d1f9763ebdf4b93",
       "version_major": 2,
       "version_minor": 0
      },
      "text/plain": [
       "Validation: |                                                                                                 …"
      ]
     },
     "metadata": {},
     "output_type": "display_data"
    },
    {
     "data": {
      "application/vnd.jupyter.widget-view+json": {
       "model_id": "1ed157c7efe8407cab4961956bee3b5c",
       "version_major": 2,
       "version_minor": 0
      },
      "text/plain": [
       "Validation: |                                                                                                 …"
      ]
     },
     "metadata": {},
     "output_type": "display_data"
    },
    {
     "data": {
      "application/vnd.jupyter.widget-view+json": {
       "model_id": "8de67bf442f7461b8e9cf3de1ca93938",
       "version_major": 2,
       "version_minor": 0
      },
      "text/plain": [
       "Validation: |                                                                                                 …"
      ]
     },
     "metadata": {},
     "output_type": "display_data"
    },
    {
     "data": {
      "application/vnd.jupyter.widget-view+json": {
       "model_id": "817ec85a65da44d6b3726755bbf40c6e",
       "version_major": 2,
       "version_minor": 0
      },
      "text/plain": [
       "Validation: |                                                                                                 …"
      ]
     },
     "metadata": {},
     "output_type": "display_data"
    },
    {
     "data": {
      "application/vnd.jupyter.widget-view+json": {
       "model_id": "c51ee0c9fdfe48a3a05536363c4624b5",
       "version_major": 2,
       "version_minor": 0
      },
      "text/plain": [
       "Validation: |                                                                                                 …"
      ]
     },
     "metadata": {},
     "output_type": "display_data"
    },
    {
     "data": {
      "application/vnd.jupyter.widget-view+json": {
       "model_id": "1d92bef9e1c14bd1b54fd5754f247749",
       "version_major": 2,
       "version_minor": 0
      },
      "text/plain": [
       "Validation: |                                                                                                 …"
      ]
     },
     "metadata": {},
     "output_type": "display_data"
    },
    {
     "data": {
      "application/vnd.jupyter.widget-view+json": {
       "model_id": "fcccae5e80df4cfcaf89bc0442fdc8bc",
       "version_major": 2,
       "version_minor": 0
      },
      "text/plain": [
       "Validation: |                                                                                                 …"
      ]
     },
     "metadata": {},
     "output_type": "display_data"
    },
    {
     "data": {
      "application/vnd.jupyter.widget-view+json": {
       "model_id": "48ba69b0b77c482ba5556163396fafbc",
       "version_major": 2,
       "version_minor": 0
      },
      "text/plain": [
       "Validation: |                                                                                                 …"
      ]
     },
     "metadata": {},
     "output_type": "display_data"
    },
    {
     "data": {
      "application/vnd.jupyter.widget-view+json": {
       "model_id": "aeccfc26584d44cd82f184a84feb4be6",
       "version_major": 2,
       "version_minor": 0
      },
      "text/plain": [
       "Validation: |                                                                                                 …"
      ]
     },
     "metadata": {},
     "output_type": "display_data"
    },
    {
     "data": {
      "application/vnd.jupyter.widget-view+json": {
       "model_id": "c2c2ee8dd5c540158e5f3b5c43158d1b",
       "version_major": 2,
       "version_minor": 0
      },
      "text/plain": [
       "Validation: |                                                                                                 …"
      ]
     },
     "metadata": {},
     "output_type": "display_data"
    },
    {
     "data": {
      "application/vnd.jupyter.widget-view+json": {
       "model_id": "fe1d28e218744537a50ee808d71dfb07",
       "version_major": 2,
       "version_minor": 0
      },
      "text/plain": [
       "Validation: |                                                                                                 …"
      ]
     },
     "metadata": {},
     "output_type": "display_data"
    },
    {
     "data": {
      "application/vnd.jupyter.widget-view+json": {
       "model_id": "5668bb70df724a2b85cb9409361bc51b",
       "version_major": 2,
       "version_minor": 0
      },
      "text/plain": [
       "Validation: |                                                                                                 …"
      ]
     },
     "metadata": {},
     "output_type": "display_data"
    },
    {
     "data": {
      "application/vnd.jupyter.widget-view+json": {
       "model_id": "a0452be9785143d3b84ef0ed4bfb987f",
       "version_major": 2,
       "version_minor": 0
      },
      "text/plain": [
       "Validation: |                                                                                                 …"
      ]
     },
     "metadata": {},
     "output_type": "display_data"
    },
    {
     "data": {
      "application/vnd.jupyter.widget-view+json": {
       "model_id": "96145b9827f8470b8f7ae77529ad6eab",
       "version_major": 2,
       "version_minor": 0
      },
      "text/plain": [
       "Validation: |                                                                                                 …"
      ]
     },
     "metadata": {},
     "output_type": "display_data"
    },
    {
     "data": {
      "application/vnd.jupyter.widget-view+json": {
       "model_id": "b045117f6e624a85b9f193e849d53085",
       "version_major": 2,
       "version_minor": 0
      },
      "text/plain": [
       "Validation: |                                                                                                 …"
      ]
     },
     "metadata": {},
     "output_type": "display_data"
    },
    {
     "data": {
      "application/vnd.jupyter.widget-view+json": {
       "model_id": "0ae87726341b4ef68e182dd7a79153d9",
       "version_major": 2,
       "version_minor": 0
      },
      "text/plain": [
       "Validation: |                                                                                                 …"
      ]
     },
     "metadata": {},
     "output_type": "display_data"
    },
    {
     "data": {
      "application/vnd.jupyter.widget-view+json": {
       "model_id": "e387aca046f84375a251bd75bca409b4",
       "version_major": 2,
       "version_minor": 0
      },
      "text/plain": [
       "Validation: |                                                                                                 …"
      ]
     },
     "metadata": {},
     "output_type": "display_data"
    },
    {
     "data": {
      "application/vnd.jupyter.widget-view+json": {
       "model_id": "a03693bcdf814ef2b587b05665a20f08",
       "version_major": 2,
       "version_minor": 0
      },
      "text/plain": [
       "Validation: |                                                                                                 …"
      ]
     },
     "metadata": {},
     "output_type": "display_data"
    },
    {
     "data": {
      "application/vnd.jupyter.widget-view+json": {
       "model_id": "36b456284e4046799dadb69a55a13087",
       "version_major": 2,
       "version_minor": 0
      },
      "text/plain": [
       "Validation: |                                                                                                 …"
      ]
     },
     "metadata": {},
     "output_type": "display_data"
    },
    {
     "data": {
      "application/vnd.jupyter.widget-view+json": {
       "model_id": "26ff813f4564402280d0139512d7e756",
       "version_major": 2,
       "version_minor": 0
      },
      "text/plain": [
       "Validation: |                                                                                                 …"
      ]
     },
     "metadata": {},
     "output_type": "display_data"
    },
    {
     "data": {
      "application/vnd.jupyter.widget-view+json": {
       "model_id": "f7fb484febe0417087ee53c8051b6bfc",
       "version_major": 2,
       "version_minor": 0
      },
      "text/plain": [
       "Validation: |                                                                                                 …"
      ]
     },
     "metadata": {},
     "output_type": "display_data"
    },
    {
     "data": {
      "application/vnd.jupyter.widget-view+json": {
       "model_id": "ceeccd7bc0814312b122d1a99977ee41",
       "version_major": 2,
       "version_minor": 0
      },
      "text/plain": [
       "Validation: |                                                                                                 …"
      ]
     },
     "metadata": {},
     "output_type": "display_data"
    },
    {
     "data": {
      "application/vnd.jupyter.widget-view+json": {
       "model_id": "78394f1c09e3499cb11c295676cd1ad3",
       "version_major": 2,
       "version_minor": 0
      },
      "text/plain": [
       "Validation: |                                                                                                 …"
      ]
     },
     "metadata": {},
     "output_type": "display_data"
    },
    {
     "data": {
      "application/vnd.jupyter.widget-view+json": {
       "model_id": "c0b9e5d18f5e4162a0540661a8a14ac9",
       "version_major": 2,
       "version_minor": 0
      },
      "text/plain": [
       "Validation: |                                                                                                 …"
      ]
     },
     "metadata": {},
     "output_type": "display_data"
    },
    {
     "data": {
      "application/vnd.jupyter.widget-view+json": {
       "model_id": "c7f90ef9ef904c118774f45a1b8391c2",
       "version_major": 2,
       "version_minor": 0
      },
      "text/plain": [
       "Validation: |                                                                                                 …"
      ]
     },
     "metadata": {},
     "output_type": "display_data"
    },
    {
     "data": {
      "application/vnd.jupyter.widget-view+json": {
       "model_id": "6f043af488b44dfa9dd4145acd2afd5a",
       "version_major": 2,
       "version_minor": 0
      },
      "text/plain": [
       "Validation: |                                                                                                 …"
      ]
     },
     "metadata": {},
     "output_type": "display_data"
    },
    {
     "data": {
      "application/vnd.jupyter.widget-view+json": {
       "model_id": "68a2a0945d5e4be5931362af21f0afca",
       "version_major": 2,
       "version_minor": 0
      },
      "text/plain": [
       "Validation: |                                                                                                 …"
      ]
     },
     "metadata": {},
     "output_type": "display_data"
    },
    {
     "data": {
      "application/vnd.jupyter.widget-view+json": {
       "model_id": "36d50dc9723445dc99267371721f8136",
       "version_major": 2,
       "version_minor": 0
      },
      "text/plain": [
       "Validation: |                                                                                                 …"
      ]
     },
     "metadata": {},
     "output_type": "display_data"
    },
    {
     "data": {
      "application/vnd.jupyter.widget-view+json": {
       "model_id": "c6867189ae984e88ac082903aa95d929",
       "version_major": 2,
       "version_minor": 0
      },
      "text/plain": [
       "Validation: |                                                                                                 …"
      ]
     },
     "metadata": {},
     "output_type": "display_data"
    },
    {
     "name": "stderr",
     "output_type": "stream",
     "text": [
      "`Trainer.fit` stopped: `max_epochs=100` reached.\n"
     ]
    }
   ],
   "source": [
    "trainer.fit(\n",
    "    training_model,\n",
    "    datamodule=datamodule,\n",
    ")"
   ]
  },
  {
   "cell_type": "markdown",
   "id": "55885eba-e6aa-41b0-bd72-2d6ad31ea504",
   "metadata": {},
   "source": [
    "We can now check the charges again. They should have improved, especially if you used a larger dataset (note: results may vary with the small 50-molecule dataset this notebook has chosen to use, for reasons of speed)."
   ]
  },
  {
   "cell_type": "code",
   "execution_count": 15,
   "id": "33002bc0-fa33-439e-a798-d79b679152b9",
   "metadata": {},
   "outputs": [
    {
     "data": {
      "text/plain": [
       "array([-0.10230289, -0.0789829 , -0.01655325, -0.16298471,  0.03418326,\n",
       "        0.03418326,  0.03418326,  0.05784283,  0.05784283,  0.07129431,\n",
       "        0.07129431])"
      ]
     },
     "execution_count": 15,
     "metadata": {},
     "output_type": "execute_result"
    }
   ],
   "source": [
    "# switch to eval mode\n",
    "training_model.model.eval()\n",
    "\n",
    "with torch.no_grad():\n",
    "    nagl_charges_2 = training_model.model.compute_properties(\n",
    "        test_molecule,\n",
    "        as_numpy=True\n",
    "    )[\"charges\"]\n",
    "\n",
    "differences_after_training = reference_charges - nagl_charges_2\n",
    "differences_after_training"
   ]
  },
  {
   "cell_type": "code",
   "execution_count": null,
   "id": "5600b398-9798-4265-94e5-d42fb4f28175",
   "metadata": {},
   "outputs": [],
   "source": []
  }
 ],
 "metadata": {
  "kernelspec": {
   "display_name": "Python (openff-nagl-test)",
   "language": "python",
   "name": "openff-nagl-test"
  },
  "language_info": {
   "codemirror_mode": {
    "name": "ipython",
    "version": 3
   },
   "file_extension": ".py",
   "mimetype": "text/x-python",
   "name": "python",
   "nbconvert_exporter": "python",
   "pygments_lexer": "ipython3",
   "version": "3.10.14"
  }
 },
 "nbformat": 4,
 "nbformat_minor": 5
}
