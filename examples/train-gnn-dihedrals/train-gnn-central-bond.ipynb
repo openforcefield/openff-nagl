{
 "cells": [
  {
   "cell_type": "markdown",
   "id": "94ff1817-f641-4a11-ae4a-91c7a6c73a7e",
   "metadata": {},
   "source": [
    "# Train a GNN directly to predict torsion energies\n",
    "\n",
    "**Note: this is an *experimental* notebook only to demonstrate a proof-of-concept.\n",
    "While some parts of this notebook may eventually be fully supported by OpenFF-NAGL, the general conclusion arrived at is that it is likely easiest to work at this solution outside of the NAGL framework.**\n",
    "\n",
    "To execute this example fully, the following packages are required.\n",
    "\n",
    "* openff-nagl\n",
    "* openff-recharge\n",
    "* openff-qcsubmit\n",
    "* psi4\n",
    "\n",
    "However, if you wish to just follow along the training part without first creating the training datasets yourself, you can get away with just `openff-nagl` installed and simply load the training/validation data from the provided `.parquet` files. The commands are provided at the end of the \"Generate and format training data\" section, but commented out."
   ]
  },
  {
   "cell_type": "code",
   "execution_count": 1,
   "id": "522bc606-c1aa-4cc7-89da-87440c61f8ba",
   "metadata": {},
   "outputs": [],
   "source": [
    "import collections\n",
    "import tqdm\n",
    "\n",
    "from qcportal import PortalClient\n",
    "from openff.units import unit\n",
    "\n",
    "from openff.toolkit import Molecule, ForceField\n",
    "from openff.qcsubmit.results import BasicResultCollection\n",
    "from openff.recharge.esp.storage import MoleculeESPRecord\n",
    "from openff.recharge.esp.qcresults import from_qcportal_results\n",
    "from openff.recharge.grids import MSKGridSettings\n",
    "from openff.recharge.utilities.geometry import compute_vector_field\n",
    "\n",
    "import pyarrow as pa\n",
    "import pyarrow.parquet as pq\n",
    "import numpy as np\n",
    "\n",
    "import torch\n",
    "import MDAnalysis as mda"
   ]
  },
  {
   "cell_type": "markdown",
   "id": "097895ad-685b-4825-8c22-1a0f79467e9d",
   "metadata": {},
   "source": [
    "## Generate and format training data\n",
    "\n",
    "\n",
    "### Downloading from QCArchive\n",
    "First, we will create training data. We'll download a smaller training set for the purposes of this example."
   ]
  },
  {
   "cell_type": "code",
   "execution_count": 2,
   "id": "964318ce-9e08-4551-9af4-dc49ea89d027",
   "metadata": {},
   "outputs": [],
   "source": [
    "# qc_client = PortalClient(\"https://api.qcarchive.molssi.org:443\", cache_dir=\".\")\n",
    "\n",
    "# # download dataset from QCPortal\n",
    "# br_esps_collection = BasicResultCollection.from_server(\n",
    "#     client=qc_client,\n",
    "#     datasets=\"OpenFF multi-Br ESP Fragment Conformers v1.1\",\n",
    "#     spec_name=\"HF/6-31G*\",\n",
    "# )\n",
    "\n",
    "# records_and_molecules = br_esps_collection.to_records()"
   ]
  },
  {
   "cell_type": "markdown",
   "id": "9dc86d0a-c59e-4f8f-93c7-3b74adb6636e",
   "metadata": {},
   "source": [
    "### Convert to PyArrow dataset\n",
    "\n",
    "NAGL reads in and trains to data from [PyArrow tables](https://arrow.apache.org/docs/python/getstarted.html#creating-arrays-and-tables). Below we create some easy data by using an existing force field to assign torsion energies to each individual torsion, which then gets summed over the central bond.\n",
    "\n",
    "*Note: the maths could probably use double-checking.*"
   ]
  },
  {
   "cell_type": "code",
   "execution_count": 3,
   "id": "a0690063-59fa-4863-9ce5-85a7f511d20d",
   "metadata": {},
   "outputs": [],
   "source": [
    "def calc_torsion_energy(angle, parameter):\n",
    "    angle = (angle * unit.degrees).m_as(unit.radians)\n",
    "    total = 0 * unit.kilojoules_per_mole\n",
    "    for k, phase, periodicity in zip(parameter.k, parameter.phase, parameter.periodicity):\n",
    "        phase = phase.m_as(unit.radians)\n",
    "        subtotal = k * (1 + np.cos(periodicity * angle - phase))\n",
    "        total += subtotal\n",
    "    return total\n",
    "\n",
    "\n",
    "def get_central_bond_torsions(mol, forcefield):\n",
    "    labels = forcefield.label_molecules(mol.to_topology())[0][\"ProperTorsions\"]\n",
    "    u = mda.Universe(mol.to_rdkit())\n",
    "\n",
    "    bonds_to_dihedrals = collections.defaultdict(list)\n",
    "    for key in labels:\n",
    "        center = tuple(sorted(key[1:3]))\n",
    "        bonds_to_dihedrals[center].append(key)\n",
    "\n",
    "    # sort bonds...\n",
    "    energies = []\n",
    "    keys = sorted([\n",
    "        tuple(sorted([bond.atom1_index, bond.atom2_index]))\n",
    "        for bond in mol.bonds\n",
    "    ])\n",
    "    for key in keys:\n",
    "        dihedrals = bonds_to_dihedrals[key]\n",
    "        \n",
    "        energy = 0 * unit.kilojoules_per_mole\n",
    "        for dihedral_indices in dihedrals:\n",
    "            dihedral_parameter = labels[dihedral_indices]\n",
    "            angle = u.atoms[list(dihedral_indices)].dihedral.value()\n",
    "            energy += calc_torsion_energy(angle, dihedral_parameter)\n",
    "\n",
    "        energies.append(energy.m_as(unit.kilojoules_per_mole))\n",
    "    return energies"
   ]
  },
  {
   "cell_type": "code",
   "execution_count": 4,
   "id": "70634680-8249-49f6-ad24-bc5178851360",
   "metadata": {},
   "outputs": [],
   "source": [
    "pyarrow_entries = []\n",
    "forcefield = ForceField(\"openff-2.1.0.offxml\")\n",
    "# for record, molecule in tqdm.tqdm(records_and_molecules):\n",
    "#     central_torsion_energies = get_central_bond_torsions(molecule, forcefield)\n",
    "#     entry = {\n",
    "#         # hopefully this preserves bond order\n",
    "#         \"mapped_smiles\": molecule.to_smiles(mapped=True),\n",
    "#         \"torsion_energies\": central_torsion_energies,\n",
    "#         \"conformer\": molecule.conformers[0].m_as(unit.angstrom).flatten().tolist(),\n",
    "#     }\n",
    "#     pyarrow_entries.append(entry)\n",
    "\n",
    "\n",
    "# # arbitrarily split into training and validation datasets\n",
    "# training_pyarrow_entries = pyarrow_entries[:-10]\n",
    "# validation_pyarrow_entries = pyarrow_entries[-10:]\n",
    "\n",
    "# training_table = pa.Table.from_pylist(training_pyarrow_entries)\n",
    "# validation_table = pa.Table.from_pylist(validation_pyarrow_entries)\n",
    "# training_table"
   ]
  },
  {
   "cell_type": "code",
   "execution_count": 5,
   "id": "72a9cdce-5411-4fe3-b2ea-46fb63e09d2c",
   "metadata": {},
   "outputs": [],
   "source": [
    "# pq.write_table(training_table, \"training_dataset_table.parquet\")\n",
    "# pq.write_table(validation_table, \"validation_dataset_table.parquet\")\n",
    "\n",
    "# to read back in -- note, the files saved here give the full dataset, not the 50 record subset\n",
    "training_table = pq.read_table(\"training_dataset_table.parquet\")\n",
    "validation_table = pq.read_table(\"validation_dataset_table.parquet\")"
   ]
  },
  {
   "cell_type": "markdown",
   "id": "4682e8cb-fba8-4cec-97b0-4d996e24ecf9",
   "metadata": {},
   "source": [
    "## Set up for training a GNN"
   ]
  },
  {
   "cell_type": "code",
   "execution_count": 6,
   "id": "3d3c909f-c1b9-44e0-86e0-d4ccf6ceb996",
   "metadata": {},
   "outputs": [],
   "source": [
    "from openff.nagl.config import (\n",
    "    TrainingConfig,\n",
    "    OptimizerConfig,\n",
    "    ModelConfig,\n",
    "    DataConfig\n",
    ")\n",
    "from openff.nagl.config.model import (\n",
    "    ConvolutionModule, ReadoutModule,\n",
    "    ConvolutionLayer, ForwardLayer,\n",
    ")\n",
    "from openff.nagl.config.data import DatasetConfig\n",
    "from openff.nagl.training.training import TrainingGNNModel\n",
    "from openff.nagl.features.atoms import (\n",
    "    AtomicElement,\n",
    "    AtomConnectivity,\n",
    "    AtomInRingOfSize,\n",
    "    AtomAverageFormalCharge,\n",
    ")\n",
    "\n",
    "from openff.nagl.training.loss import GeneralLinearFitTarget"
   ]
  },
  {
   "cell_type": "markdown",
   "id": "88be032d-0101-479e-a468-2c5db34600fc",
   "metadata": {},
   "source": [
    "### Defining the training config\n",
    "\n",
    "#### Defining a ModelConfig\n",
    "\n",
    "First we define a ModelConfig. This is done in Python so we can define custom PostprocessLayers to compute c_ij coefficients, and a custom bond feature pooling layer that takes alpha as an input.\n",
    "\n",
    "Caveats:\n",
    "- both these custom layers use *new features* implemented in this branch which are currently unsupported by OpenFF NAGL proper.\n",
    "- everything assumes that bonds/angles/torsions etc are properly sorted (which is how it's implemented in the branch). Anything else would require more accounting\n",
    "- The current implementation in NAGL doesn't allow for multiple molecules at the moment.\n",
    "\n",
    "*Also note, again the maths below could probably use double-checking.*"
   ]
  },
  {
   "cell_type": "code",
   "execution_count": 7,
   "id": "ee293637-0653-4f17-9a23-784bda10132c",
   "metadata": {},
   "outputs": [],
   "source": [
    "from openff.nagl.nn.postprocess import PostprocessLayer\n",
    "from openff.nagl.nn._pooling import PoolProperTorsionFeatures, PoolBondFeatures\n",
    "from collections import defaultdict\n",
    "\n",
    "class ComputeSCoefficients(PostprocessLayer):\n",
    "    \"\"\"Computes c_ij\"\"\"\n",
    "\n",
    "    name: str = \"compute_s_coefficients\"\n",
    "    n_features: int = 1\n",
    "\n",
    "    def __init__(self, pooling_layer = None):\n",
    "        super().__init__()\n",
    "        self._pooling_layer = pooling_layer\n",
    "\n",
    "    def forward(\n",
    "        self,\n",
    "        molecule,\n",
    "        inputs: torch.Tensor,\n",
    "        **kwargs\n",
    "    ):\n",
    "        c_ij = inputs[:, 0] # (n_torsions, 1)\n",
    "        c_ij = torch.flatten(c_ij)  # (n_torsions,)\n",
    "\n",
    "        d_ij = self._pooling_layer._calculate_internal_coordinates(molecule)\n",
    "        s_ij = torch.empty((2, *d_ij.shape), dtype=d_ij.dtype)\n",
    "        s_ij[0, :] = torch.cos(d_ij)\n",
    "        s_ij[1, :] = torch.sin(d_ij)\n",
    "        s_ij = s_ij.T # (n_torsions, 2)\n",
    "\n",
    "        # filter by central bond\n",
    "        proper_torsion_indices_T = molecule._pooling_representations[\"proper_torsion\"]\n",
    "\n",
    "        bond_indices = defaultdict(list)\n",
    "        for i, atom_2 in enumerate(\n",
    "            proper_torsion_indices_T[1]\n",
    "        ):\n",
    "            atom_3 = proper_torsion_indices_T[2][i]\n",
    "            bond = tuple(sorted([atom_2.item(), atom_3.item()]))\n",
    "            bond_indices[bond].append(i)\n",
    "\n",
    "        a_dict = {}\n",
    "        \n",
    "        for bond, indices in bond_indices.items():\n",
    "            s = torch.sum(\n",
    "                c_ij[indices].reshape((-1, 1)) * s_ij[indices],\n",
    "                dim=0\n",
    "            )\n",
    "            s_norm = torch.norm(s)\n",
    "            a = torch.arctan2(*(s / s_norm))\n",
    "            a_dict[bond] = a\n",
    "\n",
    "        # ... set bonds that aren't central bonds in torsions to 0?\n",
    "        all_bond_indices = molecule._get_bonds()\n",
    "        for key in all_bond_indices:\n",
    "            if key not in a_dict:\n",
    "                a_dict[key] = torch.tensor(0)\n",
    "\n",
    "        # sort\n",
    "        sorted_keys = sorted(a_dict)\n",
    "        alphas = torch.empty((len(a_dict),)).flatten()\n",
    "        for i, key in enumerate(sorted_keys):\n",
    "            alphas[i] = a_dict[key].item()\n",
    "\n",
    "        # note if molecules are batched, bond indices will be cumulative\n",
    "        return alphas\n",
    "\n",
    "\n",
    "class InjectablePoolBondFeatures(PoolBondFeatures):\n",
    "    name = \"injectable_bond\"\n",
    "    def _get_final_representations(self, molecule, readouts=None, **kwargs):\n",
    "        representations = self._get_pooled_representations(molecule)\n",
    "\n",
    "        # assume bonds are properly sorted\n",
    "        alphas = readouts[\"alpha\"].reshape((-1, 1))\n",
    "\n",
    "        representations = [\n",
    "            torch.cat([representation, alphas], dim=1)\n",
    "            for representation in representations\n",
    "        ]\n",
    "        return representations"
   ]
  },
  {
   "cell_type": "markdown",
   "id": "21d605e5-77fa-41cb-8e18-12523b7f5b61",
   "metadata": {},
   "source": [
    "Now the normal definition of a model. Note this uses the same features and general architecture as the NAGL model used for AM1-BCC partial charges.\n",
    "\n",
    "The readout modules calculates *two* properties: 1) alpha and b) energies.\n",
    "\n",
    "The GNNModel version is '0.2' to be incompatible with what is currently supported in OpenFF NAGL."
   ]
  },
  {
   "cell_type": "code",
   "execution_count": 8,
   "id": "f7ddfbde-1349-42ec-a2aa-0f9ead097e99",
   "metadata": {},
   "outputs": [],
   "source": [
    "atom_features = [\n",
    "    AtomicElement(categories=[\"H\", \"C\", \"N\", \"O\", \"F\", \"Br\", \"S\", \"P\", \"I\"]),\n",
    "    AtomConnectivity(categories=[1, 2, 3, 4, 5, 6]),\n",
    "    AtomInRingOfSize(ring_size=3),\n",
    "    AtomInRingOfSize(ring_size=4),\n",
    "    AtomInRingOfSize(ring_size=5),\n",
    "    AtomInRingOfSize(ring_size=6),\n",
    "    AtomAverageFormalCharge(),\n",
    "]\n",
    "\n",
    "# define our convolution module\n",
    "convolution_module = ConvolutionModule(\n",
    "    architecture=\"SAGEConv\",\n",
    "    # construct 6 layers with dropout 0 (default),\n",
    "    # hidden feature size 512, and ReLU activation function\n",
    "    # these layers can also be individually specified,\n",
    "    # but we just duplicate the layer 6 times for identical layers\n",
    "    layers=[\n",
    "        ConvolutionLayer(\n",
    "            hidden_feature_size=512,\n",
    "            activation_function=\"ReLU\",\n",
    "            aggregator_type=\"mean\"\n",
    "        )\n",
    "    ] * 6,\n",
    ")\n",
    "\n",
    "# define our readout module/s\n",
    "# multiple are allowed but let's focus on charges\n",
    "readout_modules = {\n",
    "    # key is the name of output property, any naming is allowed\n",
    "    \"alpha\": ReadoutModule(\n",
    "        pooling=\"proper_torsion\",\n",
    "        postprocess=ComputeSCoefficients(),\n",
    "        # 2 layers\n",
    "        layers=[\n",
    "            ForwardLayer(\n",
    "                hidden_feature_size=512,\n",
    "                activation_function=\"ReLU\",\n",
    "            )\n",
    "        ] * 2,\n",
    "    ),\n",
    "    \"energies\": ReadoutModule(\n",
    "        pooling=InjectablePoolBondFeatures,\n",
    "        layers=[\n",
    "            ForwardLayer(\n",
    "                hidden_feature_size=512,\n",
    "                activation_function=\"ReLU\",\n",
    "            ),\n",
    "            ForwardLayer(\n",
    "                hidden_feature_size=512,\n",
    "                activation_function=\"ReLU\",\n",
    "            ),\n",
    "            ForwardLayer(\n",
    "                hidden_feature_size=1,\n",
    "                activation_function=\"Identity\",\n",
    "            )\n",
    "        ]\n",
    "    )\n",
    "}\n",
    "\n",
    "# bring it all together\n",
    "model_config = ModelConfig(\n",
    "    version=\"0.2\",\n",
    "    atom_features=atom_features,\n",
    "    convolution=convolution_module,\n",
    "    readouts=readout_modules,\n",
    "    include_xyz=True,\n",
    ")"
   ]
  },
  {
   "cell_type": "markdown",
   "id": "a68f7b57-a1f7-43f4-ba2d-9579dd9562db",
   "metadata": {},
   "source": [
    "#### Defining a DataConfig\n",
    "\n",
    "We can then define our dataset configs. Here we also have to specify our training targets."
   ]
  },
  {
   "cell_type": "code",
   "execution_count": 9,
   "id": "bf524fad-42e5-4020-a9d9-90a56343b7a1",
   "metadata": {},
   "outputs": [],
   "source": [
    "from openff.nagl.training.loss import ReadoutTarget\n",
    "\n",
    "target = ReadoutTarget(\n",
    "    # what we're using to evaluate loss\n",
    "    target_label=\"torsion_energies\",\n",
    "    # the output of the GNN we use to evaluate loss\n",
    "    prediction_label=\"energies\",\n",
    "    # how we want to evaluate loss, e.g. RMSE, MSE, ...\n",
    "    metric=\"rmse\",\n",
    "    # how much to weight this target\n",
    "    # helps with scaling in multi-target optimizations\n",
    "    weight=1,\n",
    "    denominator=1,\n",
    ")\n",
    "\n",
    "training_to_torsions = DatasetConfig(\n",
    "    sources=[\"training_dataset_table.parquet\"],\n",
    "    targets=[target],\n",
    "    batch_size=100,\n",
    ")\n",
    "validating_to_torsions = DatasetConfig(\n",
    "    sources=[\"validation_dataset_table.parquet\"],\n",
    "    targets=[target],\n",
    "    batch_size=100,\n",
    ")\n",
    "\n",
    "# bringing it together\n",
    "data_config = DataConfig(\n",
    "    training=training_to_torsions,\n",
    "    validation=validating_to_torsions\n",
    ")"
   ]
  },
  {
   "cell_type": "markdown",
   "id": "cfd8bba9-241c-4c67-8f88-a89ae608ec89",
   "metadata": {},
   "source": [
    "#### Defining an OptimizerConfig\n",
    "\n",
    "The optimizer config is relatively simple; the only moving part here currently is the learning rate."
   ]
  },
  {
   "cell_type": "code",
   "execution_count": 10,
   "id": "1759ed0f-2e89-4d22-80ae-2c0ba04f37a0",
   "metadata": {},
   "outputs": [],
   "source": [
    "optimizer_config = OptimizerConfig(optimizer=\"Adam\", learning_rate=0.001)"
   ]
  },
  {
   "cell_type": "markdown",
   "id": "7c784871-e834-470e-a346-bde893326fee",
   "metadata": {},
   "source": [
    "#### Creating a TrainingConfig"
   ]
  },
  {
   "cell_type": "code",
   "execution_count": 11,
   "id": "f5958818-03ef-4580-9cbf-c588cbb3141f",
   "metadata": {},
   "outputs": [],
   "source": [
    "training_config = TrainingConfig(\n",
    "    model=model_config,\n",
    "    data=data_config,\n",
    "    optimizer=optimizer_config\n",
    ")"
   ]
  },
  {
   "cell_type": "markdown",
   "id": "17d61258-fe16-4993-9c19-57118c9d0a1a",
   "metadata": {},
   "source": [
    "### Creating a TrainingGNNModel\n",
    "\n",
    "Now we can create a `TrainingGNNModel`, which allows easy training of a `GNNModel`. The `GNNModel` can be accessed through `TrainingGNNModel.model`."
   ]
  },
  {
   "cell_type": "code",
   "execution_count": 12,
   "id": "3eefcea4-2e9a-4e4a-b3fc-939f3f733fb8",
   "metadata": {},
   "outputs": [
    {
     "data": {
      "text/plain": [
       "TrainingGNNModel(\n",
       "  (model): GNNModel(\n",
       "    (convolution_module): ConvolutionModule(\n",
       "      (gcn_layers): SAGEConvStack(\n",
       "        (0): SAGEConv(\n",
       "          (feat_drop): Dropout(p=0.0, inplace=False)\n",
       "          (activation): ReLU()\n",
       "          (fc_neigh): Linear(in_features=20, out_features=512, bias=False)\n",
       "          (fc_self): Linear(in_features=20, out_features=512, bias=True)\n",
       "        )\n",
       "        (1-5): 5 x SAGEConv(\n",
       "          (feat_drop): Dropout(p=0.0, inplace=False)\n",
       "          (activation): ReLU()\n",
       "          (fc_neigh): Linear(in_features=512, out_features=512, bias=False)\n",
       "          (fc_self): Linear(in_features=512, out_features=512, bias=True)\n",
       "        )\n",
       "      )\n",
       "    )\n",
       "    (readout_modules): ModuleDict(\n",
       "      (alpha): ReadoutModule(\n",
       "        (pooling_layer): PoolProperTorsionFeatures(\n",
       "          (layers): SequentialLayers(\n",
       "            (0): Linear(in_features=2049, out_features=512, bias=True)\n",
       "            (1): ReLU()\n",
       "            (2): Dropout(p=0.0, inplace=False)\n",
       "            (3): Linear(in_features=512, out_features=512, bias=True)\n",
       "            (4): ReLU()\n",
       "            (5): Dropout(p=0.0, inplace=False)\n",
       "            (6): Linear(in_features=512, out_features=1, bias=True)\n",
       "            (7): Identity()\n",
       "            (8): Dropout(p=0.0, inplace=False)\n",
       "          )\n",
       "        )\n",
       "        (postprocess_layer): ComputeSCoefficients()\n",
       "      )\n",
       "      (energies): ReadoutModule(\n",
       "        (pooling_layer): InjectablePoolBondFeatures(\n",
       "          (layers): SequentialLayers(\n",
       "            (0): Linear(in_features=1025, out_features=512, bias=True)\n",
       "            (1): ReLU()\n",
       "            (2): Dropout(p=0.0, inplace=False)\n",
       "            (3): Linear(in_features=512, out_features=512, bias=True)\n",
       "            (4): ReLU()\n",
       "            (5): Dropout(p=0.0, inplace=False)\n",
       "            (6): Linear(in_features=512, out_features=1, bias=True)\n",
       "            (7): Identity()\n",
       "            (8): Dropout(p=0.0, inplace=False)\n",
       "          )\n",
       "        )\n",
       "      )\n",
       "    )\n",
       "  )\n",
       ")"
      ]
     },
     "execution_count": 12,
     "metadata": {},
     "output_type": "execute_result"
    }
   ],
   "source": [
    "training_model = TrainingGNNModel(training_config)\n",
    "training_model"
   ]
  },
  {
   "cell_type": "markdown",
   "id": "d696dae6-93ce-4f0a-ab0f-ebb7e72fa176",
   "metadata": {},
   "source": [
    "We can look at the initial capabilities of the model by comparing its energies to reference data."
   ]
  },
  {
   "cell_type": "code",
   "execution_count": 13,
   "id": "89a473ae-cc08-4fac-a355-45d9c5def612",
   "metadata": {},
   "outputs": [],
   "source": [
    "torsion_layer = training_model.model.readout_modules[\"alpha\"].pooling_layer\n",
    "# very hacky assignment to make current model work\n",
    "# NAGL doesn't elegantly allow for passing this in during model creation\n",
    "training_model.model.readout_modules[\"alpha\"].postprocess_layer._pooling_layer = torsion_layer"
   ]
  },
  {
   "cell_type": "code",
   "execution_count": 14,
   "id": "adb99158-fa97-412d-972b-89f6f563b84a",
   "metadata": {},
   "outputs": [
    {
     "name": "stdout",
     "output_type": "stream",
     "text": [
      "Intel MKL WARNING: Support of Intel(R) Streaming SIMD Extensions 4.2 (Intel(R) SSE4.2) enabled only processors has been deprecated. Intel oneAPI Math Kernel Library 2025.0 will require Intel(R) Advanced Vector Extensions (Intel(R) AVX) instructions.\n"
     ]
    },
    {
     "name": "stderr",
     "output_type": "stream",
     "text": [
      "/Users/lily/pydev/openff-nagl/openff/nagl/utils/_tensors.py:214: UserWarning: Using torch.cross without specifying the dim arg is deprecated.\n",
      "Please either pass the dim explicitly or simply use torch.linalg.cross.\n",
      "The default value of dim will change to agree with that of linalg.cross in a future release. (Triggered internally at /Users/runner/miniforge3/conda-bld/libtorch_1719361031659/work/aten/src/ATen/native/Cross.cpp:66.)\n",
      "  normal1 = torch.cross(ba, bc)\n",
      "/Users/lily/pydev/openff-nagl/openff/nagl/nn/_models.py:240: UserWarning: TODO: currently non-atom-wise properties are not properly handled!!! We just assume they are **strictly sequential**. In general we don't recommend using multiple molecules!!\n",
      "  warnings.warn(\n"
     ]
    },
    {
     "data": {
      "text/plain": [
       "array([-0.19341571, -0.22279456, -0.22279456, -0.22279456,  7.53086858,\n",
       "       -0.20101197, -0.20101197, -0.20901833, -0.21364443, -0.21364446])"
      ]
     },
     "execution_count": 14,
     "metadata": {},
     "output_type": "execute_result"
    }
   ],
   "source": [
    "test_molecule = Molecule.from_smiles(\"CCCBr\")\n",
    "test_molecule.generate_conformers(n_conformers=1)\n",
    "reference_energies = get_central_bond_torsions(test_molecule, forcefield)\n",
    "\n",
    "# switch to eval mode\n",
    "training_model.model.eval()\n",
    "\n",
    "with torch.no_grad():\n",
    "    energies_1 = training_model.model.compute_properties(\n",
    "        test_molecule,\n",
    "        as_numpy=True\n",
    "    )[\"energies\"]\n",
    "\n",
    "# switch back to training mode\n",
    "training_model.model.train()\n",
    "\n",
    "# compare charges\n",
    "differences = reference_energies - energies_1\n",
    "differences"
   ]
  },
  {
   "cell_type": "code",
   "execution_count": 15,
   "id": "e6dae76b-d938-4124-a5f3-0a6448d1559e",
   "metadata": {},
   "outputs": [
    {
     "data": {
      "text/plain": [
       "[0.030007618485268825, 0, 0, 0, 7.7472088522614175, 0, 0, 0, 0, 0]"
      ]
     },
     "execution_count": 15,
     "metadata": {},
     "output_type": "execute_result"
    }
   ],
   "source": [
    "reference_energies"
   ]
  },
  {
   "cell_type": "code",
   "execution_count": 19,
   "id": "d79fb091-8190-4eda-8b12-5d0c4a2bb0a9",
   "metadata": {},
   "outputs": [
    {
     "data": {
      "text/plain": [
       "array([0.22342333, 0.22279456, 0.22279456, 0.22279456, 0.21634027,\n",
       "       0.20101197, 0.20101197, 0.20901833, 0.21364443, 0.21364446])"
      ]
     },
     "execution_count": 19,
     "metadata": {},
     "output_type": "execute_result"
    }
   ],
   "source": [
    "energies_1"
   ]
  },
  {
   "cell_type": "markdown",
   "id": "79cb1d56-3d70-4307-93f0-0d5956fdb32e",
   "metadata": {},
   "source": [
    "### Training the model\n",
    "\n",
    "We use Pytorch Lightning to train."
   ]
  },
  {
   "cell_type": "code",
   "execution_count": 20,
   "id": "5bfcbce1-8323-4403-a607-89292681375b",
   "metadata": {},
   "outputs": [],
   "source": [
    "import pytorch_lightning as pl\n",
    "from pytorch_lightning.callbacks import TQDMProgressBar"
   ]
  },
  {
   "cell_type": "code",
   "execution_count": 21,
   "id": "c8cb0a08-eea6-41e4-9fd6-158204e26e79",
   "metadata": {},
   "outputs": [
    {
     "name": "stderr",
     "output_type": "stream",
     "text": [
      "GPU available: False, used: False\n",
      "TPU available: False, using: 0 TPU cores\n",
      "IPU available: False, using: 0 IPUs\n",
      "HPU available: False, using: 0 HPUs\n"
     ]
    }
   ],
   "source": [
    "trainer = pl.Trainer(\n",
    "    max_epochs=100,\n",
    "    callbacks=[TQDMProgressBar()], # add progress bar\n",
    "    accelerator=\"cpu\"\n",
    ")"
   ]
  },
  {
   "cell_type": "code",
   "execution_count": 22,
   "id": "f8846142-77f2-4d60-a74e-c3bc3c3ed3ee",
   "metadata": {},
   "outputs": [],
   "source": [
    "datamodule = training_model.create_data_module(verbose=False)"
   ]
  },
  {
   "cell_type": "markdown",
   "id": "cda70524-d4a6-4c0e-a0b2-393c72d61941",
   "metadata": {},
   "source": [
    "Currently there are an abundance of warnings about conformer geometries being in angstrom."
   ]
  },
  {
   "cell_type": "code",
   "execution_count": 23,
   "id": "4e0174d7-a57b-49d9-89a3-5c756adc0d8c",
   "metadata": {},
   "outputs": [
    {
     "name": "stderr",
     "output_type": "stream",
     "text": [
      "Featurizing dataset: 0it [00:00, ?it/s]\n",
      "Featurizing batch:   0%|                                | 0/640 [00:00<?, ?it/s]\u001b[A/Users/lily/pydev/openff-nagl/openff/nagl/nn/_dataset.py:212: UserWarning: Conformer geometry is expected to be in angstrom\n",
      "  warnings.warn(\n",
      "/Users/lily/pydev/openff-nagl/openff/nagl/nn/_dataset.py:212: UserWarning: Conformer geometry is expected to be in angstrom\n",
      "  warnings.warn(\n",
      "/Users/lily/pydev/openff-nagl/openff/nagl/nn/_dataset.py:212: UserWarning: Conformer geometry is expected to be in angstrom\n",
      "  warnings.warn(\n",
      "/Users/lily/pydev/openff-nagl/openff/nagl/nn/_dataset.py:212: UserWarning: Conformer geometry is expected to be in angstrom\n",
      "  warnings.warn(\n",
      "/Users/lily/pydev/openff-nagl/openff/nagl/nn/_dataset.py:212: UserWarning: Conformer geometry is expected to be in angstrom\n",
      "  warnings.warn(\n",
      "/Users/lily/pydev/openff-nagl/openff/nagl/nn/_dataset.py:212: UserWarning: Conformer geometry is expected to be in angstrom\n",
      "  warnings.warn(\n",
      "/Users/lily/pydev/openff-nagl/openff/nagl/nn/_dataset.py:212: UserWarning: Conformer geometry is expected to be in angstrom\n",
      "  warnings.warn(\n",
      "/Users/lily/pydev/openff-nagl/openff/nagl/nn/_dataset.py:212: UserWarning: Conformer geometry is expected to be in angstrom\n",
      "  warnings.warn(\n",
      "/Users/lily/pydev/openff-nagl/openff/nagl/nn/_dataset.py:212: UserWarning: Conformer geometry is expected to be in angstrom\n",
      "  warnings.warn(\n",
      "\n",
      "Featurizing batch:   1%|▎                       | 9/640 [00:00<00:07, 87.23it/s]\u001b[A/Users/lily/pydev/openff-nagl/openff/nagl/nn/_dataset.py:212: UserWarning: Conformer geometry is expected to be in angstrom\n",
      "  warnings.warn(\n",
      "/Users/lily/pydev/openff-nagl/openff/nagl/nn/_dataset.py:212: UserWarning: Conformer geometry is expected to be in angstrom\n",
      "  warnings.warn(\n",
      "/Users/lily/pydev/openff-nagl/openff/nagl/nn/_dataset.py:212: UserWarning: Conformer geometry is expected to be in angstrom\n",
      "  warnings.warn(\n",
      "/Users/lily/pydev/openff-nagl/openff/nagl/nn/_dataset.py:212: UserWarning: Conformer geometry is expected to be in angstrom\n",
      "  warnings.warn(\n",
      "/Users/lily/pydev/openff-nagl/openff/nagl/nn/_dataset.py:212: UserWarning: Conformer geometry is expected to be in angstrom\n",
      "  warnings.warn(\n",
      "/Users/lily/pydev/openff-nagl/openff/nagl/nn/_dataset.py:212: UserWarning: Conformer geometry is expected to be in angstrom\n",
      "  warnings.warn(\n",
      "/Users/lily/pydev/openff-nagl/openff/nagl/nn/_dataset.py:212: UserWarning: Conformer geometry is expected to be in angstrom\n",
      "  warnings.warn(\n",
      "/Users/lily/pydev/openff-nagl/openff/nagl/nn/_dataset.py:212: UserWarning: Conformer geometry is expected to be in angstrom\n",
      "  warnings.warn(\n",
      "/Users/lily/pydev/openff-nagl/openff/nagl/nn/_dataset.py:212: UserWarning: Conformer geometry is expected to be in angstrom\n",
      "  warnings.warn(\n",
      "\n",
      "Featurizing batch:   3%|▋                      | 18/640 [00:00<00:07, 82.56it/s]\u001b[A/Users/lily/pydev/openff-nagl/openff/nagl/nn/_dataset.py:212: UserWarning: Conformer geometry is expected to be in angstrom\n",
      "  warnings.warn(\n",
      "/Users/lily/pydev/openff-nagl/openff/nagl/nn/_dataset.py:212: UserWarning: Conformer geometry is expected to be in angstrom\n",
      "  warnings.warn(\n",
      "/Users/lily/pydev/openff-nagl/openff/nagl/nn/_dataset.py:212: UserWarning: Conformer geometry is expected to be in angstrom\n",
      "  warnings.warn(\n",
      "/Users/lily/pydev/openff-nagl/openff/nagl/nn/_dataset.py:212: UserWarning: Conformer geometry is expected to be in angstrom\n",
      "  warnings.warn(\n",
      "/Users/lily/pydev/openff-nagl/openff/nagl/nn/_dataset.py:212: UserWarning: Conformer geometry is expected to be in angstrom\n",
      "  warnings.warn(\n",
      "/Users/lily/pydev/openff-nagl/openff/nagl/nn/_dataset.py:212: UserWarning: Conformer geometry is expected to be in angstrom\n",
      "  warnings.warn(\n",
      "/Users/lily/pydev/openff-nagl/openff/nagl/nn/_dataset.py:212: UserWarning: Conformer geometry is expected to be in angstrom\n",
      "  warnings.warn(\n",
      "/Users/lily/pydev/openff-nagl/openff/nagl/nn/_dataset.py:212: UserWarning: Conformer geometry is expected to be in angstrom\n",
      "  warnings.warn(\n",
      "/Users/lily/pydev/openff-nagl/openff/nagl/nn/_dataset.py:212: UserWarning: Conformer geometry is expected to be in angstrom\n",
      "  warnings.warn(\n",
      "\n",
      "Featurizing batch:   4%|▉                      | 27/640 [00:00<00:07, 77.99it/s]\u001b[A/Users/lily/pydev/openff-nagl/openff/nagl/nn/_dataset.py:212: UserWarning: Conformer geometry is expected to be in angstrom\n",
      "  warnings.warn(\n",
      "/Users/lily/pydev/openff-nagl/openff/nagl/nn/_dataset.py:212: UserWarning: Conformer geometry is expected to be in angstrom\n",
      "  warnings.warn(\n",
      "/Users/lily/pydev/openff-nagl/openff/nagl/nn/_dataset.py:212: UserWarning: Conformer geometry is expected to be in angstrom\n",
      "  warnings.warn(\n",
      "/Users/lily/pydev/openff-nagl/openff/nagl/nn/_dataset.py:212: UserWarning: Conformer geometry is expected to be in angstrom\n",
      "  warnings.warn(\n",
      "/Users/lily/pydev/openff-nagl/openff/nagl/nn/_dataset.py:212: UserWarning: Conformer geometry is expected to be in angstrom\n",
      "  warnings.warn(\n",
      "/Users/lily/pydev/openff-nagl/openff/nagl/nn/_dataset.py:212: UserWarning: Conformer geometry is expected to be in angstrom\n",
      "  warnings.warn(\n",
      "/Users/lily/pydev/openff-nagl/openff/nagl/nn/_dataset.py:212: UserWarning: Conformer geometry is expected to be in angstrom\n",
      "  warnings.warn(\n",
      "/Users/lily/pydev/openff-nagl/openff/nagl/nn/_dataset.py:212: UserWarning: Conformer geometry is expected to be in angstrom\n",
      "  warnings.warn(\n",
      "\n",
      "Featurizing batch:   5%|█▎                     | 35/640 [00:00<00:07, 77.17it/s]\u001b[A/Users/lily/pydev/openff-nagl/openff/nagl/nn/_dataset.py:212: UserWarning: Conformer geometry is expected to be in angstrom\n",
      "  warnings.warn(\n",
      "/Users/lily/pydev/openff-nagl/openff/nagl/nn/_dataset.py:212: UserWarning: Conformer geometry is expected to be in angstrom\n",
      "  warnings.warn(\n",
      "/Users/lily/pydev/openff-nagl/openff/nagl/nn/_dataset.py:212: UserWarning: Conformer geometry is expected to be in angstrom\n",
      "  warnings.warn(\n",
      "/Users/lily/pydev/openff-nagl/openff/nagl/nn/_dataset.py:212: UserWarning: Conformer geometry is expected to be in angstrom\n",
      "  warnings.warn(\n",
      "/Users/lily/pydev/openff-nagl/openff/nagl/nn/_dataset.py:212: UserWarning: Conformer geometry is expected to be in angstrom\n",
      "  warnings.warn(\n",
      "/Users/lily/pydev/openff-nagl/openff/nagl/nn/_dataset.py:212: UserWarning: Conformer geometry is expected to be in angstrom\n",
      "  warnings.warn(\n",
      "/Users/lily/pydev/openff-nagl/openff/nagl/nn/_dataset.py:212: UserWarning: Conformer geometry is expected to be in angstrom\n",
      "  warnings.warn(\n",
      "/Users/lily/pydev/openff-nagl/openff/nagl/nn/_dataset.py:212: UserWarning: Conformer geometry is expected to be in angstrom\n",
      "  warnings.warn(\n",
      "/Users/lily/pydev/openff-nagl/openff/nagl/nn/_dataset.py:212: UserWarning: Conformer geometry is expected to be in angstrom\n",
      "  warnings.warn(\n",
      "\n",
      "Featurizing batch:   7%|█▌                     | 44/640 [00:00<00:07, 79.49it/s]\u001b[A/Users/lily/pydev/openff-nagl/openff/nagl/nn/_dataset.py:212: UserWarning: Conformer geometry is expected to be in angstrom\n",
      "  warnings.warn(\n",
      "/Users/lily/pydev/openff-nagl/openff/nagl/nn/_dataset.py:212: UserWarning: Conformer geometry is expected to be in angstrom\n",
      "  warnings.warn(\n",
      "/Users/lily/pydev/openff-nagl/openff/nagl/nn/_dataset.py:212: UserWarning: Conformer geometry is expected to be in angstrom\n",
      "  warnings.warn(\n",
      "/Users/lily/pydev/openff-nagl/openff/nagl/nn/_dataset.py:212: UserWarning: Conformer geometry is expected to be in angstrom\n",
      "  warnings.warn(\n",
      "/Users/lily/pydev/openff-nagl/openff/nagl/nn/_dataset.py:212: UserWarning: Conformer geometry is expected to be in angstrom\n",
      "  warnings.warn(\n",
      "/Users/lily/pydev/openff-nagl/openff/nagl/nn/_dataset.py:212: UserWarning: Conformer geometry is expected to be in angstrom\n",
      "  warnings.warn(\n",
      "/Users/lily/pydev/openff-nagl/openff/nagl/nn/_dataset.py:212: UserWarning: Conformer geometry is expected to be in angstrom\n",
      "  warnings.warn(\n",
      "/Users/lily/pydev/openff-nagl/openff/nagl/nn/_dataset.py:212: UserWarning: Conformer geometry is expected to be in angstrom\n",
      "  warnings.warn(\n",
      "/Users/lily/pydev/openff-nagl/openff/nagl/nn/_dataset.py:212: UserWarning: Conformer geometry is expected to be in angstrom\n",
      "  warnings.warn(\n",
      "\n",
      "Featurizing batch:   8%|█▉                     | 53/640 [00:00<00:07, 79.80it/s]\u001b[A/Users/lily/pydev/openff-nagl/openff/nagl/nn/_dataset.py:212: UserWarning: Conformer geometry is expected to be in angstrom\n",
      "  warnings.warn(\n",
      "/Users/lily/pydev/openff-nagl/openff/nagl/nn/_dataset.py:212: UserWarning: Conformer geometry is expected to be in angstrom\n",
      "  warnings.warn(\n",
      "/Users/lily/pydev/openff-nagl/openff/nagl/nn/_dataset.py:212: UserWarning: Conformer geometry is expected to be in angstrom\n",
      "  warnings.warn(\n",
      "/Users/lily/pydev/openff-nagl/openff/nagl/nn/_dataset.py:212: UserWarning: Conformer geometry is expected to be in angstrom\n",
      "  warnings.warn(\n",
      "/Users/lily/pydev/openff-nagl/openff/nagl/nn/_dataset.py:212: UserWarning: Conformer geometry is expected to be in angstrom\n",
      "  warnings.warn(\n",
      "/Users/lily/pydev/openff-nagl/openff/nagl/nn/_dataset.py:212: UserWarning: Conformer geometry is expected to be in angstrom\n",
      "  warnings.warn(\n",
      "/Users/lily/pydev/openff-nagl/openff/nagl/nn/_dataset.py:212: UserWarning: Conformer geometry is expected to be in angstrom\n",
      "  warnings.warn(\n",
      "/Users/lily/pydev/openff-nagl/openff/nagl/nn/_dataset.py:212: UserWarning: Conformer geometry is expected to be in angstrom\n",
      "  warnings.warn(\n",
      "/Users/lily/pydev/openff-nagl/openff/nagl/nn/_dataset.py:212: UserWarning: Conformer geometry is expected to be in angstrom\n",
      "  warnings.warn(\n",
      "/Users/lily/pydev/openff-nagl/openff/nagl/nn/_dataset.py:212: UserWarning: Conformer geometry is expected to be in angstrom\n",
      "  warnings.warn(\n",
      "\n",
      "Featurizing batch:  10%|██▎                    | 63/640 [00:00<00:06, 85.07it/s]\u001b[A/Users/lily/pydev/openff-nagl/openff/nagl/nn/_dataset.py:212: UserWarning: Conformer geometry is expected to be in angstrom\n",
      "  warnings.warn(\n",
      "/Users/lily/pydev/openff-nagl/openff/nagl/nn/_dataset.py:212: UserWarning: Conformer geometry is expected to be in angstrom\n",
      "  warnings.warn(\n",
      "/Users/lily/pydev/openff-nagl/openff/nagl/nn/_dataset.py:212: UserWarning: Conformer geometry is expected to be in angstrom\n",
      "  warnings.warn(\n",
      "/Users/lily/pydev/openff-nagl/openff/nagl/nn/_dataset.py:212: UserWarning: Conformer geometry is expected to be in angstrom\n",
      "  warnings.warn(\n",
      "/Users/lily/pydev/openff-nagl/openff/nagl/nn/_dataset.py:212: UserWarning: Conformer geometry is expected to be in angstrom\n",
      "  warnings.warn(\n",
      "/Users/lily/pydev/openff-nagl/openff/nagl/nn/_dataset.py:212: UserWarning: Conformer geometry is expected to be in angstrom\n",
      "  warnings.warn(\n",
      "/Users/lily/pydev/openff-nagl/openff/nagl/nn/_dataset.py:212: UserWarning: Conformer geometry is expected to be in angstrom\n",
      "  warnings.warn(\n",
      "/Users/lily/pydev/openff-nagl/openff/nagl/nn/_dataset.py:212: UserWarning: Conformer geometry is expected to be in angstrom\n",
      "  warnings.warn(\n",
      "/Users/lily/pydev/openff-nagl/openff/nagl/nn/_dataset.py:212: UserWarning: Conformer geometry is expected to be in angstrom\n",
      "  warnings.warn(\n",
      "\n",
      "Featurizing batch:  11%|██▌                    | 72/640 [00:00<00:06, 85.41it/s]\u001b[A/Users/lily/pydev/openff-nagl/openff/nagl/nn/_dataset.py:212: UserWarning: Conformer geometry is expected to be in angstrom\n",
      "  warnings.warn(\n",
      "/Users/lily/pydev/openff-nagl/openff/nagl/nn/_dataset.py:212: UserWarning: Conformer geometry is expected to be in angstrom\n",
      "  warnings.warn(\n",
      "/Users/lily/pydev/openff-nagl/openff/nagl/nn/_dataset.py:212: UserWarning: Conformer geometry is expected to be in angstrom\n",
      "  warnings.warn(\n",
      "/Users/lily/pydev/openff-nagl/openff/nagl/nn/_dataset.py:212: UserWarning: Conformer geometry is expected to be in angstrom\n",
      "  warnings.warn(\n",
      "/Users/lily/pydev/openff-nagl/openff/nagl/nn/_dataset.py:212: UserWarning: Conformer geometry is expected to be in angstrom\n",
      "  warnings.warn(\n",
      "/Users/lily/pydev/openff-nagl/openff/nagl/nn/_dataset.py:212: UserWarning: Conformer geometry is expected to be in angstrom\n",
      "  warnings.warn(\n",
      "/Users/lily/pydev/openff-nagl/openff/nagl/nn/_dataset.py:212: UserWarning: Conformer geometry is expected to be in angstrom\n",
      "  warnings.warn(\n",
      "/Users/lily/pydev/openff-nagl/openff/nagl/nn/_dataset.py:212: UserWarning: Conformer geometry is expected to be in angstrom\n",
      "  warnings.warn(\n",
      "/Users/lily/pydev/openff-nagl/openff/nagl/nn/_dataset.py:212: UserWarning: Conformer geometry is expected to be in angstrom\n",
      "  warnings.warn(\n",
      "\n",
      "Featurizing batch:  13%|██▉                    | 81/640 [00:00<00:06, 85.83it/s]\u001b[A/Users/lily/pydev/openff-nagl/openff/nagl/nn/_dataset.py:212: UserWarning: Conformer geometry is expected to be in angstrom\n",
      "  warnings.warn(\n",
      "/Users/lily/pydev/openff-nagl/openff/nagl/nn/_dataset.py:212: UserWarning: Conformer geometry is expected to be in angstrom\n",
      "  warnings.warn(\n",
      "/Users/lily/pydev/openff-nagl/openff/nagl/nn/_dataset.py:212: UserWarning: Conformer geometry is expected to be in angstrom\n",
      "  warnings.warn(\n",
      "/Users/lily/pydev/openff-nagl/openff/nagl/nn/_dataset.py:212: UserWarning: Conformer geometry is expected to be in angstrom\n",
      "  warnings.warn(\n",
      "/Users/lily/pydev/openff-nagl/openff/nagl/nn/_dataset.py:212: UserWarning: Conformer geometry is expected to be in angstrom\n",
      "  warnings.warn(\n",
      "/Users/lily/pydev/openff-nagl/openff/nagl/nn/_dataset.py:212: UserWarning: Conformer geometry is expected to be in angstrom\n",
      "  warnings.warn(\n",
      "/Users/lily/pydev/openff-nagl/openff/nagl/nn/_dataset.py:212: UserWarning: Conformer geometry is expected to be in angstrom\n",
      "  warnings.warn(\n",
      "/Users/lily/pydev/openff-nagl/openff/nagl/nn/_dataset.py:212: UserWarning: Conformer geometry is expected to be in angstrom\n",
      "  warnings.warn(\n",
      "/Users/lily/pydev/openff-nagl/openff/nagl/nn/_dataset.py:212: UserWarning: Conformer geometry is expected to be in angstrom\n",
      "  warnings.warn(\n",
      "/Users/lily/pydev/openff-nagl/openff/nagl/nn/_dataset.py:212: UserWarning: Conformer geometry is expected to be in angstrom\n",
      "  warnings.warn(\n",
      "\n",
      "Featurizing batch:  14%|███▎                   | 91/640 [00:01<00:06, 88.53it/s]\u001b[A/Users/lily/pydev/openff-nagl/openff/nagl/nn/_dataset.py:212: UserWarning: Conformer geometry is expected to be in angstrom\n",
      "  warnings.warn(\n",
      "/Users/lily/pydev/openff-nagl/openff/nagl/nn/_dataset.py:212: UserWarning: Conformer geometry is expected to be in angstrom\n",
      "  warnings.warn(\n",
      "/Users/lily/pydev/openff-nagl/openff/nagl/nn/_dataset.py:212: UserWarning: Conformer geometry is expected to be in angstrom\n",
      "  warnings.warn(\n",
      "/Users/lily/pydev/openff-nagl/openff/nagl/nn/_dataset.py:212: UserWarning: Conformer geometry is expected to be in angstrom\n",
      "  warnings.warn(\n",
      "/Users/lily/pydev/openff-nagl/openff/nagl/nn/_dataset.py:212: UserWarning: Conformer geometry is expected to be in angstrom\n",
      "  warnings.warn(\n",
      "/Users/lily/pydev/openff-nagl/openff/nagl/nn/_dataset.py:212: UserWarning: Conformer geometry is expected to be in angstrom\n",
      "  warnings.warn(\n",
      "/Users/lily/pydev/openff-nagl/openff/nagl/nn/_dataset.py:212: UserWarning: Conformer geometry is expected to be in angstrom\n",
      "  warnings.warn(\n",
      "/Users/lily/pydev/openff-nagl/openff/nagl/nn/_dataset.py:212: UserWarning: Conformer geometry is expected to be in angstrom\n",
      "  warnings.warn(\n",
      "/Users/lily/pydev/openff-nagl/openff/nagl/nn/_dataset.py:212: UserWarning: Conformer geometry is expected to be in angstrom\n",
      "  warnings.warn(\n",
      "\n",
      "Featurizing batch:  16%|███▍                  | 100/640 [00:01<00:06, 86.95it/s]\u001b[A/Users/lily/pydev/openff-nagl/openff/nagl/nn/_dataset.py:212: UserWarning: Conformer geometry is expected to be in angstrom\n",
      "  warnings.warn(\n",
      "/Users/lily/pydev/openff-nagl/openff/nagl/nn/_dataset.py:212: UserWarning: Conformer geometry is expected to be in angstrom\n",
      "  warnings.warn(\n",
      "/Users/lily/pydev/openff-nagl/openff/nagl/nn/_dataset.py:212: UserWarning: Conformer geometry is expected to be in angstrom\n",
      "  warnings.warn(\n",
      "/Users/lily/pydev/openff-nagl/openff/nagl/nn/_dataset.py:212: UserWarning: Conformer geometry is expected to be in angstrom\n",
      "  warnings.warn(\n",
      "/Users/lily/pydev/openff-nagl/openff/nagl/nn/_dataset.py:212: UserWarning: Conformer geometry is expected to be in angstrom\n",
      "  warnings.warn(\n",
      "/Users/lily/pydev/openff-nagl/openff/nagl/nn/_dataset.py:212: UserWarning: Conformer geometry is expected to be in angstrom\n",
      "  warnings.warn(\n",
      "/Users/lily/pydev/openff-nagl/openff/nagl/nn/_dataset.py:212: UserWarning: Conformer geometry is expected to be in angstrom\n",
      "  warnings.warn(\n",
      "/Users/lily/pydev/openff-nagl/openff/nagl/nn/_dataset.py:212: UserWarning: Conformer geometry is expected to be in angstrom\n",
      "  warnings.warn(\n",
      "/Users/lily/pydev/openff-nagl/openff/nagl/nn/_dataset.py:212: UserWarning: Conformer geometry is expected to be in angstrom\n",
      "  warnings.warn(\n",
      "\n",
      "Featurizing batch:  17%|███▋                  | 109/640 [00:01<00:06, 81.99it/s]\u001b[A/Users/lily/pydev/openff-nagl/openff/nagl/nn/_dataset.py:212: UserWarning: Conformer geometry is expected to be in angstrom\n",
      "  warnings.warn(\n",
      "/Users/lily/pydev/openff-nagl/openff/nagl/nn/_dataset.py:212: UserWarning: Conformer geometry is expected to be in angstrom\n",
      "  warnings.warn(\n",
      "/Users/lily/pydev/openff-nagl/openff/nagl/nn/_dataset.py:212: UserWarning: Conformer geometry is expected to be in angstrom\n",
      "  warnings.warn(\n",
      "/Users/lily/pydev/openff-nagl/openff/nagl/nn/_dataset.py:212: UserWarning: Conformer geometry is expected to be in angstrom\n",
      "  warnings.warn(\n",
      "/Users/lily/pydev/openff-nagl/openff/nagl/nn/_dataset.py:212: UserWarning: Conformer geometry is expected to be in angstrom\n",
      "  warnings.warn(\n",
      "/Users/lily/pydev/openff-nagl/openff/nagl/nn/_dataset.py:212: UserWarning: Conformer geometry is expected to be in angstrom\n",
      "  warnings.warn(\n",
      "/Users/lily/pydev/openff-nagl/openff/nagl/nn/_dataset.py:212: UserWarning: Conformer geometry is expected to be in angstrom\n",
      "  warnings.warn(\n",
      "/Users/lily/pydev/openff-nagl/openff/nagl/nn/_dataset.py:212: UserWarning: Conformer geometry is expected to be in angstrom\n",
      "  warnings.warn(\n",
      "/Users/lily/pydev/openff-nagl/openff/nagl/nn/_dataset.py:212: UserWarning: Conformer geometry is expected to be in angstrom\n",
      "  warnings.warn(\n",
      "\n",
      "Featurizing batch:  18%|████                  | 118/640 [00:01<00:06, 78.24it/s]\u001b[A/Users/lily/pydev/openff-nagl/openff/nagl/nn/_dataset.py:212: UserWarning: Conformer geometry is expected to be in angstrom\n",
      "  warnings.warn(\n",
      "/Users/lily/pydev/openff-nagl/openff/nagl/nn/_dataset.py:212: UserWarning: Conformer geometry is expected to be in angstrom\n",
      "  warnings.warn(\n",
      "/Users/lily/pydev/openff-nagl/openff/nagl/nn/_dataset.py:212: UserWarning: Conformer geometry is expected to be in angstrom\n",
      "  warnings.warn(\n",
      "/Users/lily/pydev/openff-nagl/openff/nagl/nn/_dataset.py:212: UserWarning: Conformer geometry is expected to be in angstrom\n",
      "  warnings.warn(\n",
      "/Users/lily/pydev/openff-nagl/openff/nagl/nn/_dataset.py:212: UserWarning: Conformer geometry is expected to be in angstrom\n",
      "  warnings.warn(\n",
      "/Users/lily/pydev/openff-nagl/openff/nagl/nn/_dataset.py:212: UserWarning: Conformer geometry is expected to be in angstrom\n",
      "  warnings.warn(\n",
      "/Users/lily/pydev/openff-nagl/openff/nagl/nn/_dataset.py:212: UserWarning: Conformer geometry is expected to be in angstrom\n",
      "  warnings.warn(\n",
      "/Users/lily/pydev/openff-nagl/openff/nagl/nn/_dataset.py:212: UserWarning: Conformer geometry is expected to be in angstrom\n",
      "  warnings.warn(\n",
      "/Users/lily/pydev/openff-nagl/openff/nagl/nn/_dataset.py:212: UserWarning: Conformer geometry is expected to be in angstrom\n",
      "  warnings.warn(\n",
      "/Users/lily/pydev/openff-nagl/openff/nagl/nn/_dataset.py:212: UserWarning: Conformer geometry is expected to be in angstrom\n",
      "  warnings.warn(\n",
      "\n",
      "Featurizing batch:  20%|████▍                 | 128/640 [00:01<00:06, 82.29it/s]\u001b[A/Users/lily/pydev/openff-nagl/openff/nagl/nn/_dataset.py:212: UserWarning: Conformer geometry is expected to be in angstrom\n",
      "  warnings.warn(\n",
      "/Users/lily/pydev/openff-nagl/openff/nagl/nn/_dataset.py:212: UserWarning: Conformer geometry is expected to be in angstrom\n",
      "  warnings.warn(\n",
      "/Users/lily/pydev/openff-nagl/openff/nagl/nn/_dataset.py:212: UserWarning: Conformer geometry is expected to be in angstrom\n",
      "  warnings.warn(\n",
      "/Users/lily/pydev/openff-nagl/openff/nagl/nn/_dataset.py:212: UserWarning: Conformer geometry is expected to be in angstrom\n",
      "  warnings.warn(\n",
      "/Users/lily/pydev/openff-nagl/openff/nagl/nn/_dataset.py:212: UserWarning: Conformer geometry is expected to be in angstrom\n",
      "  warnings.warn(\n",
      "/Users/lily/pydev/openff-nagl/openff/nagl/nn/_dataset.py:212: UserWarning: Conformer geometry is expected to be in angstrom\n",
      "  warnings.warn(\n",
      "/Users/lily/pydev/openff-nagl/openff/nagl/nn/_dataset.py:212: UserWarning: Conformer geometry is expected to be in angstrom\n",
      "  warnings.warn(\n",
      "/Users/lily/pydev/openff-nagl/openff/nagl/nn/_dataset.py:212: UserWarning: Conformer geometry is expected to be in angstrom\n",
      "  warnings.warn(\n",
      "/Users/lily/pydev/openff-nagl/openff/nagl/nn/_dataset.py:212: UserWarning: Conformer geometry is expected to be in angstrom\n",
      "  warnings.warn(\n",
      "/Users/lily/pydev/openff-nagl/openff/nagl/nn/_dataset.py:212: UserWarning: Conformer geometry is expected to be in angstrom\n",
      "  warnings.warn(\n",
      "\n",
      "Featurizing batch:  22%|████▋                 | 138/640 [00:01<00:05, 85.41it/s]\u001b[A/Users/lily/pydev/openff-nagl/openff/nagl/nn/_dataset.py:212: UserWarning: Conformer geometry is expected to be in angstrom\n",
      "  warnings.warn(\n",
      "/Users/lily/pydev/openff-nagl/openff/nagl/nn/_dataset.py:212: UserWarning: Conformer geometry is expected to be in angstrom\n",
      "  warnings.warn(\n",
      "/Users/lily/pydev/openff-nagl/openff/nagl/nn/_dataset.py:212: UserWarning: Conformer geometry is expected to be in angstrom\n",
      "  warnings.warn(\n",
      "/Users/lily/pydev/openff-nagl/openff/nagl/nn/_dataset.py:212: UserWarning: Conformer geometry is expected to be in angstrom\n",
      "  warnings.warn(\n",
      "/Users/lily/pydev/openff-nagl/openff/nagl/nn/_dataset.py:212: UserWarning: Conformer geometry is expected to be in angstrom\n",
      "  warnings.warn(\n",
      "/Users/lily/pydev/openff-nagl/openff/nagl/nn/_dataset.py:212: UserWarning: Conformer geometry is expected to be in angstrom\n",
      "  warnings.warn(\n",
      "/Users/lily/pydev/openff-nagl/openff/nagl/nn/_dataset.py:212: UserWarning: Conformer geometry is expected to be in angstrom\n",
      "  warnings.warn(\n",
      "/Users/lily/pydev/openff-nagl/openff/nagl/nn/_dataset.py:212: UserWarning: Conformer geometry is expected to be in angstrom\n",
      "  warnings.warn(\n",
      "/Users/lily/pydev/openff-nagl/openff/nagl/nn/_dataset.py:212: UserWarning: Conformer geometry is expected to be in angstrom\n",
      "  warnings.warn(\n",
      "\n",
      "Featurizing batch:  23%|█████                 | 147/640 [00:01<00:05, 84.83it/s]\u001b[A/Users/lily/pydev/openff-nagl/openff/nagl/nn/_dataset.py:212: UserWarning: Conformer geometry is expected to be in angstrom\n",
      "  warnings.warn(\n",
      "/Users/lily/pydev/openff-nagl/openff/nagl/nn/_dataset.py:212: UserWarning: Conformer geometry is expected to be in angstrom\n",
      "  warnings.warn(\n",
      "/Users/lily/pydev/openff-nagl/openff/nagl/nn/_dataset.py:212: UserWarning: Conformer geometry is expected to be in angstrom\n",
      "  warnings.warn(\n",
      "/Users/lily/pydev/openff-nagl/openff/nagl/nn/_dataset.py:212: UserWarning: Conformer geometry is expected to be in angstrom\n",
      "  warnings.warn(\n",
      "/Users/lily/pydev/openff-nagl/openff/nagl/nn/_dataset.py:212: UserWarning: Conformer geometry is expected to be in angstrom\n",
      "  warnings.warn(\n",
      "/Users/lily/pydev/openff-nagl/openff/nagl/nn/_dataset.py:212: UserWarning: Conformer geometry is expected to be in angstrom\n",
      "  warnings.warn(\n",
      "/Users/lily/pydev/openff-nagl/openff/nagl/nn/_dataset.py:212: UserWarning: Conformer geometry is expected to be in angstrom\n",
      "  warnings.warn(\n",
      "/Users/lily/pydev/openff-nagl/openff/nagl/nn/_dataset.py:212: UserWarning: Conformer geometry is expected to be in angstrom\n",
      "  warnings.warn(\n",
      "/Users/lily/pydev/openff-nagl/openff/nagl/nn/_dataset.py:212: UserWarning: Conformer geometry is expected to be in angstrom\n",
      "  warnings.warn(\n",
      "\n",
      "Featurizing batch:  24%|█████▎                | 156/640 [00:01<00:05, 83.04it/s]\u001b[A/Users/lily/pydev/openff-nagl/openff/nagl/nn/_dataset.py:212: UserWarning: Conformer geometry is expected to be in angstrom\n",
      "  warnings.warn(\n",
      "/Users/lily/pydev/openff-nagl/openff/nagl/nn/_dataset.py:212: UserWarning: Conformer geometry is expected to be in angstrom\n",
      "  warnings.warn(\n",
      "/Users/lily/pydev/openff-nagl/openff/nagl/nn/_dataset.py:212: UserWarning: Conformer geometry is expected to be in angstrom\n",
      "  warnings.warn(\n",
      "/Users/lily/pydev/openff-nagl/openff/nagl/nn/_dataset.py:212: UserWarning: Conformer geometry is expected to be in angstrom\n",
      "  warnings.warn(\n",
      "/Users/lily/pydev/openff-nagl/openff/nagl/nn/_dataset.py:212: UserWarning: Conformer geometry is expected to be in angstrom\n",
      "  warnings.warn(\n",
      "/Users/lily/pydev/openff-nagl/openff/nagl/nn/_dataset.py:212: UserWarning: Conformer geometry is expected to be in angstrom\n",
      "  warnings.warn(\n",
      "/Users/lily/pydev/openff-nagl/openff/nagl/nn/_dataset.py:212: UserWarning: Conformer geometry is expected to be in angstrom\n",
      "  warnings.warn(\n",
      "/Users/lily/pydev/openff-nagl/openff/nagl/nn/_dataset.py:212: UserWarning: Conformer geometry is expected to be in angstrom\n",
      "  warnings.warn(\n",
      "/Users/lily/pydev/openff-nagl/openff/nagl/nn/_dataset.py:212: UserWarning: Conformer geometry is expected to be in angstrom\n",
      "  warnings.warn(\n",
      "\n",
      "Featurizing batch:  26%|█████▋                | 165/640 [00:01<00:05, 81.68it/s]\u001b[A/Users/lily/pydev/openff-nagl/openff/nagl/nn/_dataset.py:212: UserWarning: Conformer geometry is expected to be in angstrom\n",
      "  warnings.warn(\n",
      "/Users/lily/pydev/openff-nagl/openff/nagl/nn/_dataset.py:212: UserWarning: Conformer geometry is expected to be in angstrom\n",
      "  warnings.warn(\n",
      "/Users/lily/pydev/openff-nagl/openff/nagl/nn/_dataset.py:212: UserWarning: Conformer geometry is expected to be in angstrom\n",
      "  warnings.warn(\n",
      "/Users/lily/pydev/openff-nagl/openff/nagl/nn/_dataset.py:212: UserWarning: Conformer geometry is expected to be in angstrom\n",
      "  warnings.warn(\n",
      "/Users/lily/pydev/openff-nagl/openff/nagl/nn/_dataset.py:212: UserWarning: Conformer geometry is expected to be in angstrom\n",
      "  warnings.warn(\n",
      "/Users/lily/pydev/openff-nagl/openff/nagl/nn/_dataset.py:212: UserWarning: Conformer geometry is expected to be in angstrom\n",
      "  warnings.warn(\n",
      "/Users/lily/pydev/openff-nagl/openff/nagl/nn/_dataset.py:212: UserWarning: Conformer geometry is expected to be in angstrom\n",
      "  warnings.warn(\n",
      "/Users/lily/pydev/openff-nagl/openff/nagl/nn/_dataset.py:212: UserWarning: Conformer geometry is expected to be in angstrom\n",
      "  warnings.warn(\n",
      "/Users/lily/pydev/openff-nagl/openff/nagl/nn/_dataset.py:212: UserWarning: Conformer geometry is expected to be in angstrom\n",
      "  warnings.warn(\n",
      "/Users/lily/pydev/openff-nagl/openff/nagl/nn/_dataset.py:212: UserWarning: Conformer geometry is expected to be in angstrom\n",
      "  warnings.warn(\n",
      "\n",
      "Featurizing batch:  27%|██████                | 175/640 [00:02<00:05, 84.83it/s]\u001b[A/Users/lily/pydev/openff-nagl/openff/nagl/nn/_dataset.py:212: UserWarning: Conformer geometry is expected to be in angstrom\n",
      "  warnings.warn(\n",
      "/Users/lily/pydev/openff-nagl/openff/nagl/nn/_dataset.py:212: UserWarning: Conformer geometry is expected to be in angstrom\n",
      "  warnings.warn(\n",
      "/Users/lily/pydev/openff-nagl/openff/nagl/nn/_dataset.py:212: UserWarning: Conformer geometry is expected to be in angstrom\n",
      "  warnings.warn(\n",
      "/Users/lily/pydev/openff-nagl/openff/nagl/nn/_dataset.py:212: UserWarning: Conformer geometry is expected to be in angstrom\n",
      "  warnings.warn(\n",
      "/Users/lily/pydev/openff-nagl/openff/nagl/nn/_dataset.py:212: UserWarning: Conformer geometry is expected to be in angstrom\n",
      "  warnings.warn(\n",
      "/Users/lily/pydev/openff-nagl/openff/nagl/nn/_dataset.py:212: UserWarning: Conformer geometry is expected to be in angstrom\n",
      "  warnings.warn(\n",
      "/Users/lily/pydev/openff-nagl/openff/nagl/nn/_dataset.py:212: UserWarning: Conformer geometry is expected to be in angstrom\n",
      "  warnings.warn(\n",
      "/Users/lily/pydev/openff-nagl/openff/nagl/nn/_dataset.py:212: UserWarning: Conformer geometry is expected to be in angstrom\n",
      "  warnings.warn(\n",
      "/Users/lily/pydev/openff-nagl/openff/nagl/nn/_dataset.py:212: UserWarning: Conformer geometry is expected to be in angstrom\n",
      "  warnings.warn(\n",
      "\n",
      "Featurizing batch:  29%|██████▎               | 184/640 [00:02<00:05, 84.91it/s]\u001b[A/Users/lily/pydev/openff-nagl/openff/nagl/nn/_dataset.py:212: UserWarning: Conformer geometry is expected to be in angstrom\n",
      "  warnings.warn(\n",
      "/Users/lily/pydev/openff-nagl/openff/nagl/nn/_dataset.py:212: UserWarning: Conformer geometry is expected to be in angstrom\n",
      "  warnings.warn(\n",
      "/Users/lily/pydev/openff-nagl/openff/nagl/nn/_dataset.py:212: UserWarning: Conformer geometry is expected to be in angstrom\n",
      "  warnings.warn(\n",
      "/Users/lily/pydev/openff-nagl/openff/nagl/nn/_dataset.py:212: UserWarning: Conformer geometry is expected to be in angstrom\n",
      "  warnings.warn(\n",
      "/Users/lily/pydev/openff-nagl/openff/nagl/nn/_dataset.py:212: UserWarning: Conformer geometry is expected to be in angstrom\n",
      "  warnings.warn(\n",
      "/Users/lily/pydev/openff-nagl/openff/nagl/nn/_dataset.py:212: UserWarning: Conformer geometry is expected to be in angstrom\n",
      "  warnings.warn(\n",
      "/Users/lily/pydev/openff-nagl/openff/nagl/nn/_dataset.py:212: UserWarning: Conformer geometry is expected to be in angstrom\n",
      "  warnings.warn(\n",
      "/Users/lily/pydev/openff-nagl/openff/nagl/nn/_dataset.py:212: UserWarning: Conformer geometry is expected to be in angstrom\n",
      "  warnings.warn(\n",
      "/Users/lily/pydev/openff-nagl/openff/nagl/nn/_dataset.py:212: UserWarning: Conformer geometry is expected to be in angstrom\n",
      "  warnings.warn(\n",
      "\n",
      "Featurizing batch:  30%|██████▋               | 193/640 [00:02<00:05, 84.43it/s]\u001b[A/Users/lily/pydev/openff-nagl/openff/nagl/nn/_dataset.py:212: UserWarning: Conformer geometry is expected to be in angstrom\n",
      "  warnings.warn(\n",
      "/Users/lily/pydev/openff-nagl/openff/nagl/nn/_dataset.py:212: UserWarning: Conformer geometry is expected to be in angstrom\n",
      "  warnings.warn(\n",
      "/Users/lily/pydev/openff-nagl/openff/nagl/nn/_dataset.py:212: UserWarning: Conformer geometry is expected to be in angstrom\n",
      "  warnings.warn(\n",
      "/Users/lily/pydev/openff-nagl/openff/nagl/nn/_dataset.py:212: UserWarning: Conformer geometry is expected to be in angstrom\n",
      "  warnings.warn(\n",
      "/Users/lily/pydev/openff-nagl/openff/nagl/nn/_dataset.py:212: UserWarning: Conformer geometry is expected to be in angstrom\n",
      "  warnings.warn(\n",
      "/Users/lily/pydev/openff-nagl/openff/nagl/nn/_dataset.py:212: UserWarning: Conformer geometry is expected to be in angstrom\n",
      "  warnings.warn(\n",
      "/Users/lily/pydev/openff-nagl/openff/nagl/nn/_dataset.py:212: UserWarning: Conformer geometry is expected to be in angstrom\n",
      "  warnings.warn(\n",
      "/Users/lily/pydev/openff-nagl/openff/nagl/nn/_dataset.py:212: UserWarning: Conformer geometry is expected to be in angstrom\n",
      "  warnings.warn(\n",
      "/Users/lily/pydev/openff-nagl/openff/nagl/nn/_dataset.py:212: UserWarning: Conformer geometry is expected to be in angstrom\n",
      "  warnings.warn(\n",
      "/Users/lily/pydev/openff-nagl/openff/nagl/nn/_dataset.py:212: UserWarning: Conformer geometry is expected to be in angstrom\n",
      "  warnings.warn(\n",
      "\n",
      "Featurizing batch:  32%|██████▉               | 203/640 [00:02<00:04, 88.11it/s]\u001b[A/Users/lily/pydev/openff-nagl/openff/nagl/nn/_dataset.py:212: UserWarning: Conformer geometry is expected to be in angstrom\n",
      "  warnings.warn(\n",
      "/Users/lily/pydev/openff-nagl/openff/nagl/nn/_dataset.py:212: UserWarning: Conformer geometry is expected to be in angstrom\n",
      "  warnings.warn(\n",
      "/Users/lily/pydev/openff-nagl/openff/nagl/nn/_dataset.py:212: UserWarning: Conformer geometry is expected to be in angstrom\n",
      "  warnings.warn(\n",
      "/Users/lily/pydev/openff-nagl/openff/nagl/nn/_dataset.py:212: UserWarning: Conformer geometry is expected to be in angstrom\n",
      "  warnings.warn(\n",
      "/Users/lily/pydev/openff-nagl/openff/nagl/nn/_dataset.py:212: UserWarning: Conformer geometry is expected to be in angstrom\n",
      "  warnings.warn(\n",
      "/Users/lily/pydev/openff-nagl/openff/nagl/nn/_dataset.py:212: UserWarning: Conformer geometry is expected to be in angstrom\n",
      "  warnings.warn(\n",
      "/Users/lily/pydev/openff-nagl/openff/nagl/nn/_dataset.py:212: UserWarning: Conformer geometry is expected to be in angstrom\n",
      "  warnings.warn(\n",
      "/Users/lily/pydev/openff-nagl/openff/nagl/nn/_dataset.py:212: UserWarning: Conformer geometry is expected to be in angstrom\n",
      "  warnings.warn(\n",
      "/Users/lily/pydev/openff-nagl/openff/nagl/nn/_dataset.py:212: UserWarning: Conformer geometry is expected to be in angstrom\n",
      "  warnings.warn(\n",
      "/Users/lily/pydev/openff-nagl/openff/nagl/nn/_dataset.py:212: UserWarning: Conformer geometry is expected to be in angstrom\n",
      "  warnings.warn(\n",
      "\n",
      "Featurizing batch:  33%|███████▎              | 213/640 [00:02<00:04, 88.67it/s]\u001b[A/Users/lily/pydev/openff-nagl/openff/nagl/nn/_dataset.py:212: UserWarning: Conformer geometry is expected to be in angstrom\n",
      "  warnings.warn(\n",
      "/Users/lily/pydev/openff-nagl/openff/nagl/nn/_dataset.py:212: UserWarning: Conformer geometry is expected to be in angstrom\n",
      "  warnings.warn(\n",
      "/Users/lily/pydev/openff-nagl/openff/nagl/nn/_dataset.py:212: UserWarning: Conformer geometry is expected to be in angstrom\n",
      "  warnings.warn(\n",
      "/Users/lily/pydev/openff-nagl/openff/nagl/nn/_dataset.py:212: UserWarning: Conformer geometry is expected to be in angstrom\n",
      "  warnings.warn(\n",
      "/Users/lily/pydev/openff-nagl/openff/nagl/nn/_dataset.py:212: UserWarning: Conformer geometry is expected to be in angstrom\n",
      "  warnings.warn(\n",
      "/Users/lily/pydev/openff-nagl/openff/nagl/nn/_dataset.py:212: UserWarning: Conformer geometry is expected to be in angstrom\n",
      "  warnings.warn(\n",
      "/Users/lily/pydev/openff-nagl/openff/nagl/nn/_dataset.py:212: UserWarning: Conformer geometry is expected to be in angstrom\n",
      "  warnings.warn(\n",
      "/Users/lily/pydev/openff-nagl/openff/nagl/nn/_dataset.py:212: UserWarning: Conformer geometry is expected to be in angstrom\n",
      "  warnings.warn(\n",
      "/Users/lily/pydev/openff-nagl/openff/nagl/nn/_dataset.py:212: UserWarning: Conformer geometry is expected to be in angstrom\n",
      "  warnings.warn(\n",
      "\n",
      "Featurizing batch:  35%|███████▋              | 222/640 [00:02<00:04, 88.03it/s]\u001b[A/Users/lily/pydev/openff-nagl/openff/nagl/nn/_dataset.py:212: UserWarning: Conformer geometry is expected to be in angstrom\n",
      "  warnings.warn(\n",
      "/Users/lily/pydev/openff-nagl/openff/nagl/nn/_dataset.py:212: UserWarning: Conformer geometry is expected to be in angstrom\n",
      "  warnings.warn(\n",
      "/Users/lily/pydev/openff-nagl/openff/nagl/nn/_dataset.py:212: UserWarning: Conformer geometry is expected to be in angstrom\n",
      "  warnings.warn(\n",
      "/Users/lily/pydev/openff-nagl/openff/nagl/nn/_dataset.py:212: UserWarning: Conformer geometry is expected to be in angstrom\n",
      "  warnings.warn(\n",
      "/Users/lily/pydev/openff-nagl/openff/nagl/nn/_dataset.py:212: UserWarning: Conformer geometry is expected to be in angstrom\n",
      "  warnings.warn(\n",
      "/Users/lily/pydev/openff-nagl/openff/nagl/nn/_dataset.py:212: UserWarning: Conformer geometry is expected to be in angstrom\n",
      "  warnings.warn(\n",
      "/Users/lily/pydev/openff-nagl/openff/nagl/nn/_dataset.py:212: UserWarning: Conformer geometry is expected to be in angstrom\n",
      "  warnings.warn(\n",
      "/Users/lily/pydev/openff-nagl/openff/nagl/nn/_dataset.py:212: UserWarning: Conformer geometry is expected to be in angstrom\n",
      "  warnings.warn(\n",
      "/Users/lily/pydev/openff-nagl/openff/nagl/nn/_dataset.py:212: UserWarning: Conformer geometry is expected to be in angstrom\n",
      "  warnings.warn(\n",
      "\n",
      "Featurizing batch:  36%|███████▉              | 231/640 [00:02<00:04, 88.15it/s]\u001b[A/Users/lily/pydev/openff-nagl/openff/nagl/nn/_dataset.py:212: UserWarning: Conformer geometry is expected to be in angstrom\n",
      "  warnings.warn(\n",
      "/Users/lily/pydev/openff-nagl/openff/nagl/nn/_dataset.py:212: UserWarning: Conformer geometry is expected to be in angstrom\n",
      "  warnings.warn(\n",
      "/Users/lily/pydev/openff-nagl/openff/nagl/nn/_dataset.py:212: UserWarning: Conformer geometry is expected to be in angstrom\n",
      "  warnings.warn(\n",
      "/Users/lily/pydev/openff-nagl/openff/nagl/nn/_dataset.py:212: UserWarning: Conformer geometry is expected to be in angstrom\n",
      "  warnings.warn(\n",
      "/Users/lily/pydev/openff-nagl/openff/nagl/nn/_dataset.py:212: UserWarning: Conformer geometry is expected to be in angstrom\n",
      "  warnings.warn(\n",
      "/Users/lily/pydev/openff-nagl/openff/nagl/nn/_dataset.py:212: UserWarning: Conformer geometry is expected to be in angstrom\n",
      "  warnings.warn(\n",
      "/Users/lily/pydev/openff-nagl/openff/nagl/nn/_dataset.py:212: UserWarning: Conformer geometry is expected to be in angstrom\n",
      "  warnings.warn(\n",
      "/Users/lily/pydev/openff-nagl/openff/nagl/nn/_dataset.py:212: UserWarning: Conformer geometry is expected to be in angstrom\n",
      "  warnings.warn(\n",
      "/Users/lily/pydev/openff-nagl/openff/nagl/nn/_dataset.py:212: UserWarning: Conformer geometry is expected to be in angstrom\n",
      "  warnings.warn(\n",
      "/Users/lily/pydev/openff-nagl/openff/nagl/nn/_dataset.py:212: UserWarning: Conformer geometry is expected to be in angstrom\n",
      "  warnings.warn(\n",
      "\n",
      "Featurizing batch:  38%|████████▎             | 241/640 [00:02<00:04, 89.58it/s]\u001b[A/Users/lily/pydev/openff-nagl/openff/nagl/nn/_dataset.py:212: UserWarning: Conformer geometry is expected to be in angstrom\n",
      "  warnings.warn(\n",
      "/Users/lily/pydev/openff-nagl/openff/nagl/nn/_dataset.py:212: UserWarning: Conformer geometry is expected to be in angstrom\n",
      "  warnings.warn(\n",
      "/Users/lily/pydev/openff-nagl/openff/nagl/nn/_dataset.py:212: UserWarning: Conformer geometry is expected to be in angstrom\n",
      "  warnings.warn(\n",
      "/Users/lily/pydev/openff-nagl/openff/nagl/nn/_dataset.py:212: UserWarning: Conformer geometry is expected to be in angstrom\n",
      "  warnings.warn(\n",
      "/Users/lily/pydev/openff-nagl/openff/nagl/nn/_dataset.py:212: UserWarning: Conformer geometry is expected to be in angstrom\n",
      "  warnings.warn(\n",
      "/Users/lily/pydev/openff-nagl/openff/nagl/nn/_dataset.py:212: UserWarning: Conformer geometry is expected to be in angstrom\n",
      "  warnings.warn(\n",
      "/Users/lily/pydev/openff-nagl/openff/nagl/nn/_dataset.py:212: UserWarning: Conformer geometry is expected to be in angstrom\n",
      "  warnings.warn(\n",
      "/Users/lily/pydev/openff-nagl/openff/nagl/nn/_dataset.py:212: UserWarning: Conformer geometry is expected to be in angstrom\n",
      "  warnings.warn(\n",
      "/Users/lily/pydev/openff-nagl/openff/nagl/nn/_dataset.py:212: UserWarning: Conformer geometry is expected to be in angstrom\n",
      "  warnings.warn(\n",
      "/Users/lily/pydev/openff-nagl/openff/nagl/nn/_dataset.py:212: UserWarning: Conformer geometry is expected to be in angstrom\n",
      "  warnings.warn(\n",
      "\n",
      "Featurizing batch:  39%|████████▋             | 251/640 [00:02<00:04, 91.56it/s]\u001b[A/Users/lily/pydev/openff-nagl/openff/nagl/nn/_dataset.py:212: UserWarning: Conformer geometry is expected to be in angstrom\n",
      "  warnings.warn(\n",
      "/Users/lily/pydev/openff-nagl/openff/nagl/nn/_dataset.py:212: UserWarning: Conformer geometry is expected to be in angstrom\n",
      "  warnings.warn(\n",
      "/Users/lily/pydev/openff-nagl/openff/nagl/nn/_dataset.py:212: UserWarning: Conformer geometry is expected to be in angstrom\n",
      "  warnings.warn(\n",
      "/Users/lily/pydev/openff-nagl/openff/nagl/nn/_dataset.py:212: UserWarning: Conformer geometry is expected to be in angstrom\n",
      "  warnings.warn(\n",
      "/Users/lily/pydev/openff-nagl/openff/nagl/nn/_dataset.py:212: UserWarning: Conformer geometry is expected to be in angstrom\n",
      "  warnings.warn(\n",
      "/Users/lily/pydev/openff-nagl/openff/nagl/nn/_dataset.py:212: UserWarning: Conformer geometry is expected to be in angstrom\n",
      "  warnings.warn(\n",
      "/Users/lily/pydev/openff-nagl/openff/nagl/nn/_dataset.py:212: UserWarning: Conformer geometry is expected to be in angstrom\n",
      "  warnings.warn(\n",
      "/Users/lily/pydev/openff-nagl/openff/nagl/nn/_dataset.py:212: UserWarning: Conformer geometry is expected to be in angstrom\n",
      "  warnings.warn(\n",
      "/Users/lily/pydev/openff-nagl/openff/nagl/nn/_dataset.py:212: UserWarning: Conformer geometry is expected to be in angstrom\n",
      "  warnings.warn(\n",
      "/Users/lily/pydev/openff-nagl/openff/nagl/nn/_dataset.py:212: UserWarning: Conformer geometry is expected to be in angstrom\n",
      "  warnings.warn(\n",
      "\n",
      "Featurizing batch:  41%|████████▉             | 261/640 [00:03<00:04, 90.58it/s]\u001b[A/Users/lily/pydev/openff-nagl/openff/nagl/nn/_dataset.py:212: UserWarning: Conformer geometry is expected to be in angstrom\n",
      "  warnings.warn(\n",
      "/Users/lily/pydev/openff-nagl/openff/nagl/nn/_dataset.py:212: UserWarning: Conformer geometry is expected to be in angstrom\n",
      "  warnings.warn(\n",
      "/Users/lily/pydev/openff-nagl/openff/nagl/nn/_dataset.py:212: UserWarning: Conformer geometry is expected to be in angstrom\n",
      "  warnings.warn(\n",
      "/Users/lily/pydev/openff-nagl/openff/nagl/nn/_dataset.py:212: UserWarning: Conformer geometry is expected to be in angstrom\n",
      "  warnings.warn(\n",
      "/Users/lily/pydev/openff-nagl/openff/nagl/nn/_dataset.py:212: UserWarning: Conformer geometry is expected to be in angstrom\n",
      "  warnings.warn(\n",
      "/Users/lily/pydev/openff-nagl/openff/nagl/nn/_dataset.py:212: UserWarning: Conformer geometry is expected to be in angstrom\n",
      "  warnings.warn(\n",
      "/Users/lily/pydev/openff-nagl/openff/nagl/nn/_dataset.py:212: UserWarning: Conformer geometry is expected to be in angstrom\n",
      "  warnings.warn(\n",
      "/Users/lily/pydev/openff-nagl/openff/nagl/nn/_dataset.py:212: UserWarning: Conformer geometry is expected to be in angstrom\n",
      "  warnings.warn(\n",
      "/Users/lily/pydev/openff-nagl/openff/nagl/nn/_dataset.py:212: UserWarning: Conformer geometry is expected to be in angstrom\n",
      "  warnings.warn(\n",
      "/Users/lily/pydev/openff-nagl/openff/nagl/nn/_dataset.py:212: UserWarning: Conformer geometry is expected to be in angstrom\n",
      "  warnings.warn(\n",
      "\n",
      "Featurizing batch:  42%|█████████▎            | 271/640 [00:03<00:04, 81.02it/s]\u001b[A/Users/lily/pydev/openff-nagl/openff/nagl/nn/_dataset.py:212: UserWarning: Conformer geometry is expected to be in angstrom\n",
      "  warnings.warn(\n",
      "/Users/lily/pydev/openff-nagl/openff/nagl/nn/_dataset.py:212: UserWarning: Conformer geometry is expected to be in angstrom\n",
      "  warnings.warn(\n",
      "/Users/lily/pydev/openff-nagl/openff/nagl/nn/_dataset.py:212: UserWarning: Conformer geometry is expected to be in angstrom\n",
      "  warnings.warn(\n",
      "/Users/lily/pydev/openff-nagl/openff/nagl/nn/_dataset.py:212: UserWarning: Conformer geometry is expected to be in angstrom\n",
      "  warnings.warn(\n",
      "/Users/lily/pydev/openff-nagl/openff/nagl/nn/_dataset.py:212: UserWarning: Conformer geometry is expected to be in angstrom\n",
      "  warnings.warn(\n",
      "/Users/lily/pydev/openff-nagl/openff/nagl/nn/_dataset.py:212: UserWarning: Conformer geometry is expected to be in angstrom\n",
      "  warnings.warn(\n",
      "/Users/lily/pydev/openff-nagl/openff/nagl/nn/_dataset.py:212: UserWarning: Conformer geometry is expected to be in angstrom\n",
      "  warnings.warn(\n",
      "/Users/lily/pydev/openff-nagl/openff/nagl/nn/_dataset.py:212: UserWarning: Conformer geometry is expected to be in angstrom\n",
      "  warnings.warn(\n",
      "/Users/lily/pydev/openff-nagl/openff/nagl/nn/_dataset.py:212: UserWarning: Conformer geometry is expected to be in angstrom\n",
      "  warnings.warn(\n",
      "\n",
      "Featurizing batch:  44%|█████████▋            | 280/640 [00:03<00:04, 83.35it/s]\u001b[A/Users/lily/pydev/openff-nagl/openff/nagl/nn/_dataset.py:212: UserWarning: Conformer geometry is expected to be in angstrom\n",
      "  warnings.warn(\n",
      "/Users/lily/pydev/openff-nagl/openff/nagl/nn/_dataset.py:212: UserWarning: Conformer geometry is expected to be in angstrom\n",
      "  warnings.warn(\n",
      "/Users/lily/pydev/openff-nagl/openff/nagl/nn/_dataset.py:212: UserWarning: Conformer geometry is expected to be in angstrom\n",
      "  warnings.warn(\n",
      "/Users/lily/pydev/openff-nagl/openff/nagl/nn/_dataset.py:212: UserWarning: Conformer geometry is expected to be in angstrom\n",
      "  warnings.warn(\n",
      "/Users/lily/pydev/openff-nagl/openff/nagl/nn/_dataset.py:212: UserWarning: Conformer geometry is expected to be in angstrom\n",
      "  warnings.warn(\n",
      "/Users/lily/pydev/openff-nagl/openff/nagl/nn/_dataset.py:212: UserWarning: Conformer geometry is expected to be in angstrom\n",
      "  warnings.warn(\n",
      "/Users/lily/pydev/openff-nagl/openff/nagl/nn/_dataset.py:212: UserWarning: Conformer geometry is expected to be in angstrom\n",
      "  warnings.warn(\n",
      "/Users/lily/pydev/openff-nagl/openff/nagl/nn/_dataset.py:212: UserWarning: Conformer geometry is expected to be in angstrom\n",
      "  warnings.warn(\n",
      "/Users/lily/pydev/openff-nagl/openff/nagl/nn/_dataset.py:212: UserWarning: Conformer geometry is expected to be in angstrom\n",
      "  warnings.warn(\n",
      "\n",
      "Featurizing batch:  45%|█████████▉            | 289/640 [00:03<00:04, 84.64it/s]\u001b[A/Users/lily/pydev/openff-nagl/openff/nagl/nn/_dataset.py:212: UserWarning: Conformer geometry is expected to be in angstrom\n",
      "  warnings.warn(\n",
      "/Users/lily/pydev/openff-nagl/openff/nagl/nn/_dataset.py:212: UserWarning: Conformer geometry is expected to be in angstrom\n",
      "  warnings.warn(\n",
      "/Users/lily/pydev/openff-nagl/openff/nagl/nn/_dataset.py:212: UserWarning: Conformer geometry is expected to be in angstrom\n",
      "  warnings.warn(\n",
      "/Users/lily/pydev/openff-nagl/openff/nagl/nn/_dataset.py:212: UserWarning: Conformer geometry is expected to be in angstrom\n",
      "  warnings.warn(\n",
      "/Users/lily/pydev/openff-nagl/openff/nagl/nn/_dataset.py:212: UserWarning: Conformer geometry is expected to be in angstrom\n",
      "  warnings.warn(\n",
      "/Users/lily/pydev/openff-nagl/openff/nagl/nn/_dataset.py:212: UserWarning: Conformer geometry is expected to be in angstrom\n",
      "  warnings.warn(\n",
      "/Users/lily/pydev/openff-nagl/openff/nagl/nn/_dataset.py:212: UserWarning: Conformer geometry is expected to be in angstrom\n",
      "  warnings.warn(\n",
      "/Users/lily/pydev/openff-nagl/openff/nagl/nn/_dataset.py:212: UserWarning: Conformer geometry is expected to be in angstrom\n",
      "  warnings.warn(\n",
      "/Users/lily/pydev/openff-nagl/openff/nagl/nn/_dataset.py:212: UserWarning: Conformer geometry is expected to be in angstrom\n",
      "  warnings.warn(\n",
      "\n",
      "Featurizing batch:  47%|██████████▏           | 298/640 [00:03<00:04, 83.22it/s]\u001b[A/Users/lily/pydev/openff-nagl/openff/nagl/nn/_dataset.py:212: UserWarning: Conformer geometry is expected to be in angstrom\n",
      "  warnings.warn(\n",
      "/Users/lily/pydev/openff-nagl/openff/nagl/nn/_dataset.py:212: UserWarning: Conformer geometry is expected to be in angstrom\n",
      "  warnings.warn(\n",
      "/Users/lily/pydev/openff-nagl/openff/nagl/nn/_dataset.py:212: UserWarning: Conformer geometry is expected to be in angstrom\n",
      "  warnings.warn(\n",
      "/Users/lily/pydev/openff-nagl/openff/nagl/nn/_dataset.py:212: UserWarning: Conformer geometry is expected to be in angstrom\n",
      "  warnings.warn(\n",
      "/Users/lily/pydev/openff-nagl/openff/nagl/nn/_dataset.py:212: UserWarning: Conformer geometry is expected to be in angstrom\n",
      "  warnings.warn(\n",
      "/Users/lily/pydev/openff-nagl/openff/nagl/nn/_dataset.py:212: UserWarning: Conformer geometry is expected to be in angstrom\n",
      "  warnings.warn(\n",
      "/Users/lily/pydev/openff-nagl/openff/nagl/nn/_dataset.py:212: UserWarning: Conformer geometry is expected to be in angstrom\n",
      "  warnings.warn(\n",
      "/Users/lily/pydev/openff-nagl/openff/nagl/nn/_dataset.py:212: UserWarning: Conformer geometry is expected to be in angstrom\n",
      "  warnings.warn(\n",
      "/Users/lily/pydev/openff-nagl/openff/nagl/nn/_dataset.py:212: UserWarning: Conformer geometry is expected to be in angstrom\n",
      "  warnings.warn(\n",
      "\n",
      "Featurizing batch:  48%|██████████▌           | 307/640 [00:03<00:04, 79.89it/s]\u001b[A/Users/lily/pydev/openff-nagl/openff/nagl/nn/_dataset.py:212: UserWarning: Conformer geometry is expected to be in angstrom\n",
      "  warnings.warn(\n",
      "/Users/lily/pydev/openff-nagl/openff/nagl/nn/_dataset.py:212: UserWarning: Conformer geometry is expected to be in angstrom\n",
      "  warnings.warn(\n",
      "/Users/lily/pydev/openff-nagl/openff/nagl/nn/_dataset.py:212: UserWarning: Conformer geometry is expected to be in angstrom\n",
      "  warnings.warn(\n",
      "/Users/lily/pydev/openff-nagl/openff/nagl/nn/_dataset.py:212: UserWarning: Conformer geometry is expected to be in angstrom\n",
      "  warnings.warn(\n",
      "/Users/lily/pydev/openff-nagl/openff/nagl/nn/_dataset.py:212: UserWarning: Conformer geometry is expected to be in angstrom\n",
      "  warnings.warn(\n",
      "/Users/lily/pydev/openff-nagl/openff/nagl/nn/_dataset.py:212: UserWarning: Conformer geometry is expected to be in angstrom\n",
      "  warnings.warn(\n",
      "/Users/lily/pydev/openff-nagl/openff/nagl/nn/_dataset.py:212: UserWarning: Conformer geometry is expected to be in angstrom\n",
      "  warnings.warn(\n",
      "/Users/lily/pydev/openff-nagl/openff/nagl/nn/_dataset.py:212: UserWarning: Conformer geometry is expected to be in angstrom\n",
      "  warnings.warn(\n",
      "/Users/lily/pydev/openff-nagl/openff/nagl/nn/_dataset.py:212: UserWarning: Conformer geometry is expected to be in angstrom\n",
      "  warnings.warn(\n",
      "\n",
      "Featurizing batch:  49%|██████████▊           | 316/640 [00:03<00:03, 81.25it/s]\u001b[A/Users/lily/pydev/openff-nagl/openff/nagl/nn/_dataset.py:212: UserWarning: Conformer geometry is expected to be in angstrom\n",
      "  warnings.warn(\n",
      "/Users/lily/pydev/openff-nagl/openff/nagl/nn/_dataset.py:212: UserWarning: Conformer geometry is expected to be in angstrom\n",
      "  warnings.warn(\n",
      "/Users/lily/pydev/openff-nagl/openff/nagl/nn/_dataset.py:212: UserWarning: Conformer geometry is expected to be in angstrom\n",
      "  warnings.warn(\n",
      "/Users/lily/pydev/openff-nagl/openff/nagl/nn/_dataset.py:212: UserWarning: Conformer geometry is expected to be in angstrom\n",
      "  warnings.warn(\n",
      "/Users/lily/pydev/openff-nagl/openff/nagl/nn/_dataset.py:212: UserWarning: Conformer geometry is expected to be in angstrom\n",
      "  warnings.warn(\n",
      "/Users/lily/pydev/openff-nagl/openff/nagl/nn/_dataset.py:212: UserWarning: Conformer geometry is expected to be in angstrom\n",
      "  warnings.warn(\n",
      "/Users/lily/pydev/openff-nagl/openff/nagl/nn/_dataset.py:212: UserWarning: Conformer geometry is expected to be in angstrom\n",
      "  warnings.warn(\n",
      "/Users/lily/pydev/openff-nagl/openff/nagl/nn/_dataset.py:212: UserWarning: Conformer geometry is expected to be in angstrom\n",
      "  warnings.warn(\n",
      "/Users/lily/pydev/openff-nagl/openff/nagl/nn/_dataset.py:212: UserWarning: Conformer geometry is expected to be in angstrom\n",
      "  warnings.warn(\n",
      "/Users/lily/pydev/openff-nagl/openff/nagl/nn/_dataset.py:212: UserWarning: Conformer geometry is expected to be in angstrom\n",
      "  warnings.warn(\n",
      "\n",
      "Featurizing batch:  51%|███████████▏          | 326/640 [00:03<00:03, 83.30it/s]\u001b[A/Users/lily/pydev/openff-nagl/openff/nagl/nn/_dataset.py:212: UserWarning: Conformer geometry is expected to be in angstrom\n",
      "  warnings.warn(\n",
      "/Users/lily/pydev/openff-nagl/openff/nagl/nn/_dataset.py:212: UserWarning: Conformer geometry is expected to be in angstrom\n",
      "  warnings.warn(\n",
      "/Users/lily/pydev/openff-nagl/openff/nagl/nn/_dataset.py:212: UserWarning: Conformer geometry is expected to be in angstrom\n",
      "  warnings.warn(\n",
      "/Users/lily/pydev/openff-nagl/openff/nagl/nn/_dataset.py:212: UserWarning: Conformer geometry is expected to be in angstrom\n",
      "  warnings.warn(\n",
      "/Users/lily/pydev/openff-nagl/openff/nagl/nn/_dataset.py:212: UserWarning: Conformer geometry is expected to be in angstrom\n",
      "  warnings.warn(\n",
      "/Users/lily/pydev/openff-nagl/openff/nagl/nn/_dataset.py:212: UserWarning: Conformer geometry is expected to be in angstrom\n",
      "  warnings.warn(\n",
      "/Users/lily/pydev/openff-nagl/openff/nagl/nn/_dataset.py:212: UserWarning: Conformer geometry is expected to be in angstrom\n",
      "  warnings.warn(\n",
      "/Users/lily/pydev/openff-nagl/openff/nagl/nn/_dataset.py:212: UserWarning: Conformer geometry is expected to be in angstrom\n",
      "  warnings.warn(\n",
      "/Users/lily/pydev/openff-nagl/openff/nagl/nn/_dataset.py:212: UserWarning: Conformer geometry is expected to be in angstrom\n",
      "  warnings.warn(\n",
      "\n",
      "Featurizing batch:  52%|███████████▌          | 335/640 [00:04<00:03, 78.45it/s]\u001b[A/Users/lily/pydev/openff-nagl/openff/nagl/nn/_dataset.py:212: UserWarning: Conformer geometry is expected to be in angstrom\n",
      "  warnings.warn(\n",
      "/Users/lily/pydev/openff-nagl/openff/nagl/nn/_dataset.py:212: UserWarning: Conformer geometry is expected to be in angstrom\n",
      "  warnings.warn(\n",
      "/Users/lily/pydev/openff-nagl/openff/nagl/nn/_dataset.py:212: UserWarning: Conformer geometry is expected to be in angstrom\n",
      "  warnings.warn(\n",
      "/Users/lily/pydev/openff-nagl/openff/nagl/nn/_dataset.py:212: UserWarning: Conformer geometry is expected to be in angstrom\n",
      "  warnings.warn(\n",
      "/Users/lily/pydev/openff-nagl/openff/nagl/nn/_dataset.py:212: UserWarning: Conformer geometry is expected to be in angstrom\n",
      "  warnings.warn(\n",
      "/Users/lily/pydev/openff-nagl/openff/nagl/nn/_dataset.py:212: UserWarning: Conformer geometry is expected to be in angstrom\n",
      "  warnings.warn(\n",
      "/Users/lily/pydev/openff-nagl/openff/nagl/nn/_dataset.py:212: UserWarning: Conformer geometry is expected to be in angstrom\n",
      "  warnings.warn(\n",
      "/Users/lily/pydev/openff-nagl/openff/nagl/nn/_dataset.py:212: UserWarning: Conformer geometry is expected to be in angstrom\n",
      "  warnings.warn(\n",
      "/Users/lily/pydev/openff-nagl/openff/nagl/nn/_dataset.py:212: UserWarning: Conformer geometry is expected to be in angstrom\n",
      "  warnings.warn(\n",
      "\n",
      "Featurizing batch:  54%|███████████▊          | 344/640 [00:04<00:03, 80.42it/s]\u001b[A/Users/lily/pydev/openff-nagl/openff/nagl/nn/_dataset.py:212: UserWarning: Conformer geometry is expected to be in angstrom\n",
      "  warnings.warn(\n",
      "/Users/lily/pydev/openff-nagl/openff/nagl/nn/_dataset.py:212: UserWarning: Conformer geometry is expected to be in angstrom\n",
      "  warnings.warn(\n",
      "/Users/lily/pydev/openff-nagl/openff/nagl/nn/_dataset.py:212: UserWarning: Conformer geometry is expected to be in angstrom\n",
      "  warnings.warn(\n",
      "/Users/lily/pydev/openff-nagl/openff/nagl/nn/_dataset.py:212: UserWarning: Conformer geometry is expected to be in angstrom\n",
      "  warnings.warn(\n",
      "/Users/lily/pydev/openff-nagl/openff/nagl/nn/_dataset.py:212: UserWarning: Conformer geometry is expected to be in angstrom\n",
      "  warnings.warn(\n",
      "/Users/lily/pydev/openff-nagl/openff/nagl/nn/_dataset.py:212: UserWarning: Conformer geometry is expected to be in angstrom\n",
      "  warnings.warn(\n",
      "/Users/lily/pydev/openff-nagl/openff/nagl/nn/_dataset.py:212: UserWarning: Conformer geometry is expected to be in angstrom\n",
      "  warnings.warn(\n",
      "/Users/lily/pydev/openff-nagl/openff/nagl/nn/_dataset.py:212: UserWarning: Conformer geometry is expected to be in angstrom\n",
      "  warnings.warn(\n",
      "/Users/lily/pydev/openff-nagl/openff/nagl/nn/_dataset.py:212: UserWarning: Conformer geometry is expected to be in angstrom\n",
      "  warnings.warn(\n",
      "\n",
      "Featurizing batch:  55%|████████████▏         | 353/640 [00:04<00:03, 76.45it/s]\u001b[A/Users/lily/pydev/openff-nagl/openff/nagl/nn/_dataset.py:212: UserWarning: Conformer geometry is expected to be in angstrom\n",
      "  warnings.warn(\n",
      "/Users/lily/pydev/openff-nagl/openff/nagl/nn/_dataset.py:212: UserWarning: Conformer geometry is expected to be in angstrom\n",
      "  warnings.warn(\n",
      "/Users/lily/pydev/openff-nagl/openff/nagl/nn/_dataset.py:212: UserWarning: Conformer geometry is expected to be in angstrom\n",
      "  warnings.warn(\n",
      "/Users/lily/pydev/openff-nagl/openff/nagl/nn/_dataset.py:212: UserWarning: Conformer geometry is expected to be in angstrom\n",
      "  warnings.warn(\n",
      "/Users/lily/pydev/openff-nagl/openff/nagl/nn/_dataset.py:212: UserWarning: Conformer geometry is expected to be in angstrom\n",
      "  warnings.warn(\n",
      "/Users/lily/pydev/openff-nagl/openff/nagl/nn/_dataset.py:212: UserWarning: Conformer geometry is expected to be in angstrom\n",
      "  warnings.warn(\n",
      "/Users/lily/pydev/openff-nagl/openff/nagl/nn/_dataset.py:212: UserWarning: Conformer geometry is expected to be in angstrom\n",
      "  warnings.warn(\n",
      "/Users/lily/pydev/openff-nagl/openff/nagl/nn/_dataset.py:212: UserWarning: Conformer geometry is expected to be in angstrom\n",
      "  warnings.warn(\n",
      "\n",
      "Featurizing batch:  56%|████████████▍         | 361/640 [00:04<00:03, 73.89it/s]\u001b[A/Users/lily/pydev/openff-nagl/openff/nagl/nn/_dataset.py:212: UserWarning: Conformer geometry is expected to be in angstrom\n",
      "  warnings.warn(\n",
      "/Users/lily/pydev/openff-nagl/openff/nagl/nn/_dataset.py:212: UserWarning: Conformer geometry is expected to be in angstrom\n",
      "  warnings.warn(\n",
      "/Users/lily/pydev/openff-nagl/openff/nagl/nn/_dataset.py:212: UserWarning: Conformer geometry is expected to be in angstrom\n",
      "  warnings.warn(\n",
      "/Users/lily/pydev/openff-nagl/openff/nagl/nn/_dataset.py:212: UserWarning: Conformer geometry is expected to be in angstrom\n",
      "  warnings.warn(\n",
      "/Users/lily/pydev/openff-nagl/openff/nagl/nn/_dataset.py:212: UserWarning: Conformer geometry is expected to be in angstrom\n",
      "  warnings.warn(\n",
      "/Users/lily/pydev/openff-nagl/openff/nagl/nn/_dataset.py:212: UserWarning: Conformer geometry is expected to be in angstrom\n",
      "  warnings.warn(\n",
      "/Users/lily/pydev/openff-nagl/openff/nagl/nn/_dataset.py:212: UserWarning: Conformer geometry is expected to be in angstrom\n",
      "  warnings.warn(\n",
      "/Users/lily/pydev/openff-nagl/openff/nagl/nn/_dataset.py:212: UserWarning: Conformer geometry is expected to be in angstrom\n",
      "  warnings.warn(\n",
      "/Users/lily/pydev/openff-nagl/openff/nagl/nn/_dataset.py:212: UserWarning: Conformer geometry is expected to be in angstrom\n",
      "  warnings.warn(\n",
      "/Users/lily/pydev/openff-nagl/openff/nagl/nn/_dataset.py:212: UserWarning: Conformer geometry is expected to be in angstrom\n",
      "  warnings.warn(\n",
      "\n",
      "Featurizing batch:  58%|████████████▊         | 371/640 [00:04<00:03, 78.82it/s]\u001b[A/Users/lily/pydev/openff-nagl/openff/nagl/nn/_dataset.py:212: UserWarning: Conformer geometry is expected to be in angstrom\n",
      "  warnings.warn(\n",
      "/Users/lily/pydev/openff-nagl/openff/nagl/nn/_dataset.py:212: UserWarning: Conformer geometry is expected to be in angstrom\n",
      "  warnings.warn(\n",
      "/Users/lily/pydev/openff-nagl/openff/nagl/nn/_dataset.py:212: UserWarning: Conformer geometry is expected to be in angstrom\n",
      "  warnings.warn(\n",
      "/Users/lily/pydev/openff-nagl/openff/nagl/nn/_dataset.py:212: UserWarning: Conformer geometry is expected to be in angstrom\n",
      "  warnings.warn(\n",
      "/Users/lily/pydev/openff-nagl/openff/nagl/nn/_dataset.py:212: UserWarning: Conformer geometry is expected to be in angstrom\n",
      "  warnings.warn(\n",
      "/Users/lily/pydev/openff-nagl/openff/nagl/nn/_dataset.py:212: UserWarning: Conformer geometry is expected to be in angstrom\n",
      "  warnings.warn(\n",
      "/Users/lily/pydev/openff-nagl/openff/nagl/nn/_dataset.py:212: UserWarning: Conformer geometry is expected to be in angstrom\n",
      "  warnings.warn(\n",
      "/Users/lily/pydev/openff-nagl/openff/nagl/nn/_dataset.py:212: UserWarning: Conformer geometry is expected to be in angstrom\n",
      "  warnings.warn(\n",
      "/Users/lily/pydev/openff-nagl/openff/nagl/nn/_dataset.py:212: UserWarning: Conformer geometry is expected to be in angstrom\n",
      "  warnings.warn(\n",
      "/Users/lily/pydev/openff-nagl/openff/nagl/nn/_dataset.py:212: UserWarning: Conformer geometry is expected to be in angstrom\n",
      "  warnings.warn(\n",
      "/Users/lily/pydev/openff-nagl/openff/nagl/nn/_dataset.py:212: UserWarning: Conformer geometry is expected to be in angstrom\n",
      "  warnings.warn(\n",
      "\n",
      "Featurizing batch:  60%|█████████████▏        | 382/640 [00:04<00:02, 86.08it/s]\u001b[A/Users/lily/pydev/openff-nagl/openff/nagl/nn/_dataset.py:212: UserWarning: Conformer geometry is expected to be in angstrom\n",
      "  warnings.warn(\n",
      "/Users/lily/pydev/openff-nagl/openff/nagl/nn/_dataset.py:212: UserWarning: Conformer geometry is expected to be in angstrom\n",
      "  warnings.warn(\n",
      "/Users/lily/pydev/openff-nagl/openff/nagl/nn/_dataset.py:212: UserWarning: Conformer geometry is expected to be in angstrom\n",
      "  warnings.warn(\n",
      "/Users/lily/pydev/openff-nagl/openff/nagl/nn/_dataset.py:212: UserWarning: Conformer geometry is expected to be in angstrom\n",
      "  warnings.warn(\n",
      "/Users/lily/pydev/openff-nagl/openff/nagl/nn/_dataset.py:212: UserWarning: Conformer geometry is expected to be in angstrom\n",
      "  warnings.warn(\n",
      "/Users/lily/pydev/openff-nagl/openff/nagl/nn/_dataset.py:212: UserWarning: Conformer geometry is expected to be in angstrom\n",
      "  warnings.warn(\n",
      "/Users/lily/pydev/openff-nagl/openff/nagl/nn/_dataset.py:212: UserWarning: Conformer geometry is expected to be in angstrom\n",
      "  warnings.warn(\n",
      "/Users/lily/pydev/openff-nagl/openff/nagl/nn/_dataset.py:212: UserWarning: Conformer geometry is expected to be in angstrom\n",
      "  warnings.warn(\n",
      "/Users/lily/pydev/openff-nagl/openff/nagl/nn/_dataset.py:212: UserWarning: Conformer geometry is expected to be in angstrom\n",
      "  warnings.warn(\n",
      "\n",
      "Featurizing batch:  61%|█████████████▍        | 391/640 [00:04<00:02, 84.82it/s]\u001b[A/Users/lily/pydev/openff-nagl/openff/nagl/nn/_dataset.py:212: UserWarning: Conformer geometry is expected to be in angstrom\n",
      "  warnings.warn(\n",
      "/Users/lily/pydev/openff-nagl/openff/nagl/nn/_dataset.py:212: UserWarning: Conformer geometry is expected to be in angstrom\n",
      "  warnings.warn(\n",
      "/Users/lily/pydev/openff-nagl/openff/nagl/nn/_dataset.py:212: UserWarning: Conformer geometry is expected to be in angstrom\n",
      "  warnings.warn(\n",
      "/Users/lily/pydev/openff-nagl/openff/nagl/nn/_dataset.py:212: UserWarning: Conformer geometry is expected to be in angstrom\n",
      "  warnings.warn(\n",
      "/Users/lily/pydev/openff-nagl/openff/nagl/nn/_dataset.py:212: UserWarning: Conformer geometry is expected to be in angstrom\n",
      "  warnings.warn(\n",
      "/Users/lily/pydev/openff-nagl/openff/nagl/nn/_dataset.py:212: UserWarning: Conformer geometry is expected to be in angstrom\n",
      "  warnings.warn(\n",
      "/Users/lily/pydev/openff-nagl/openff/nagl/nn/_dataset.py:212: UserWarning: Conformer geometry is expected to be in angstrom\n",
      "  warnings.warn(\n",
      "/Users/lily/pydev/openff-nagl/openff/nagl/nn/_dataset.py:212: UserWarning: Conformer geometry is expected to be in angstrom\n",
      "  warnings.warn(\n",
      "/Users/lily/pydev/openff-nagl/openff/nagl/nn/_dataset.py:212: UserWarning: Conformer geometry is expected to be in angstrom\n",
      "  warnings.warn(\n",
      "/Users/lily/pydev/openff-nagl/openff/nagl/nn/_dataset.py:212: UserWarning: Conformer geometry is expected to be in angstrom\n",
      "  warnings.warn(\n",
      "\n",
      "Featurizing batch:  63%|█████████████▊        | 401/640 [00:04<00:02, 86.39it/s]\u001b[A/Users/lily/pydev/openff-nagl/openff/nagl/nn/_dataset.py:212: UserWarning: Conformer geometry is expected to be in angstrom\n",
      "  warnings.warn(\n",
      "/Users/lily/pydev/openff-nagl/openff/nagl/nn/_dataset.py:212: UserWarning: Conformer geometry is expected to be in angstrom\n",
      "  warnings.warn(\n",
      "/Users/lily/pydev/openff-nagl/openff/nagl/nn/_dataset.py:212: UserWarning: Conformer geometry is expected to be in angstrom\n",
      "  warnings.warn(\n",
      "/Users/lily/pydev/openff-nagl/openff/nagl/nn/_dataset.py:212: UserWarning: Conformer geometry is expected to be in angstrom\n",
      "  warnings.warn(\n",
      "/Users/lily/pydev/openff-nagl/openff/nagl/nn/_dataset.py:212: UserWarning: Conformer geometry is expected to be in angstrom\n",
      "  warnings.warn(\n",
      "/Users/lily/pydev/openff-nagl/openff/nagl/nn/_dataset.py:212: UserWarning: Conformer geometry is expected to be in angstrom\n",
      "  warnings.warn(\n",
      "/Users/lily/pydev/openff-nagl/openff/nagl/nn/_dataset.py:212: UserWarning: Conformer geometry is expected to be in angstrom\n",
      "  warnings.warn(\n",
      "/Users/lily/pydev/openff-nagl/openff/nagl/nn/_dataset.py:212: UserWarning: Conformer geometry is expected to be in angstrom\n",
      "  warnings.warn(\n",
      "/Users/lily/pydev/openff-nagl/openff/nagl/nn/_dataset.py:212: UserWarning: Conformer geometry is expected to be in angstrom\n",
      "  warnings.warn(\n",
      "\n",
      "Featurizing batch:  64%|██████████████        | 410/640 [00:04<00:02, 86.21it/s]\u001b[A/Users/lily/pydev/openff-nagl/openff/nagl/nn/_dataset.py:212: UserWarning: Conformer geometry is expected to be in angstrom\n",
      "  warnings.warn(\n",
      "/Users/lily/pydev/openff-nagl/openff/nagl/nn/_dataset.py:212: UserWarning: Conformer geometry is expected to be in angstrom\n",
      "  warnings.warn(\n",
      "/Users/lily/pydev/openff-nagl/openff/nagl/nn/_dataset.py:212: UserWarning: Conformer geometry is expected to be in angstrom\n",
      "  warnings.warn(\n",
      "/Users/lily/pydev/openff-nagl/openff/nagl/nn/_dataset.py:212: UserWarning: Conformer geometry is expected to be in angstrom\n",
      "  warnings.warn(\n",
      "/Users/lily/pydev/openff-nagl/openff/nagl/nn/_dataset.py:212: UserWarning: Conformer geometry is expected to be in angstrom\n",
      "  warnings.warn(\n",
      "/Users/lily/pydev/openff-nagl/openff/nagl/nn/_dataset.py:212: UserWarning: Conformer geometry is expected to be in angstrom\n",
      "  warnings.warn(\n",
      "/Users/lily/pydev/openff-nagl/openff/nagl/nn/_dataset.py:212: UserWarning: Conformer geometry is expected to be in angstrom\n",
      "  warnings.warn(\n",
      "/Users/lily/pydev/openff-nagl/openff/nagl/nn/_dataset.py:212: UserWarning: Conformer geometry is expected to be in angstrom\n",
      "  warnings.warn(\n",
      "/Users/lily/pydev/openff-nagl/openff/nagl/nn/_dataset.py:212: UserWarning: Conformer geometry is expected to be in angstrom\n",
      "  warnings.warn(\n",
      "\n",
      "Featurizing batch:  65%|██████████████▍       | 419/640 [00:05<00:02, 81.09it/s]\u001b[A/Users/lily/pydev/openff-nagl/openff/nagl/nn/_dataset.py:212: UserWarning: Conformer geometry is expected to be in angstrom\n",
      "  warnings.warn(\n",
      "/Users/lily/pydev/openff-nagl/openff/nagl/nn/_dataset.py:212: UserWarning: Conformer geometry is expected to be in angstrom\n",
      "  warnings.warn(\n",
      "/Users/lily/pydev/openff-nagl/openff/nagl/nn/_dataset.py:212: UserWarning: Conformer geometry is expected to be in angstrom\n",
      "  warnings.warn(\n",
      "/Users/lily/pydev/openff-nagl/openff/nagl/nn/_dataset.py:212: UserWarning: Conformer geometry is expected to be in angstrom\n",
      "  warnings.warn(\n",
      "/Users/lily/pydev/openff-nagl/openff/nagl/nn/_dataset.py:212: UserWarning: Conformer geometry is expected to be in angstrom\n",
      "  warnings.warn(\n",
      "/Users/lily/pydev/openff-nagl/openff/nagl/nn/_dataset.py:212: UserWarning: Conformer geometry is expected to be in angstrom\n",
      "  warnings.warn(\n",
      "/Users/lily/pydev/openff-nagl/openff/nagl/nn/_dataset.py:212: UserWarning: Conformer geometry is expected to be in angstrom\n",
      "  warnings.warn(\n",
      "/Users/lily/pydev/openff-nagl/openff/nagl/nn/_dataset.py:212: UserWarning: Conformer geometry is expected to be in angstrom\n",
      "  warnings.warn(\n",
      "/Users/lily/pydev/openff-nagl/openff/nagl/nn/_dataset.py:212: UserWarning: Conformer geometry is expected to be in angstrom\n",
      "  warnings.warn(\n",
      "\n",
      "Featurizing batch:  67%|██████████████▋       | 428/640 [00:05<00:02, 81.53it/s]\u001b[A/Users/lily/pydev/openff-nagl/openff/nagl/nn/_dataset.py:212: UserWarning: Conformer geometry is expected to be in angstrom\n",
      "  warnings.warn(\n",
      "/Users/lily/pydev/openff-nagl/openff/nagl/nn/_dataset.py:212: UserWarning: Conformer geometry is expected to be in angstrom\n",
      "  warnings.warn(\n",
      "/Users/lily/pydev/openff-nagl/openff/nagl/nn/_dataset.py:212: UserWarning: Conformer geometry is expected to be in angstrom\n",
      "  warnings.warn(\n",
      "/Users/lily/pydev/openff-nagl/openff/nagl/nn/_dataset.py:212: UserWarning: Conformer geometry is expected to be in angstrom\n",
      "  warnings.warn(\n",
      "/Users/lily/pydev/openff-nagl/openff/nagl/nn/_dataset.py:212: UserWarning: Conformer geometry is expected to be in angstrom\n",
      "  warnings.warn(\n",
      "/Users/lily/pydev/openff-nagl/openff/nagl/nn/_dataset.py:212: UserWarning: Conformer geometry is expected to be in angstrom\n",
      "  warnings.warn(\n",
      "/Users/lily/pydev/openff-nagl/openff/nagl/nn/_dataset.py:212: UserWarning: Conformer geometry is expected to be in angstrom\n",
      "  warnings.warn(\n",
      "/Users/lily/pydev/openff-nagl/openff/nagl/nn/_dataset.py:212: UserWarning: Conformer geometry is expected to be in angstrom\n",
      "  warnings.warn(\n",
      "/Users/lily/pydev/openff-nagl/openff/nagl/nn/_dataset.py:212: UserWarning: Conformer geometry is expected to be in angstrom\n",
      "  warnings.warn(\n",
      "\n",
      "Featurizing batch:  68%|███████████████       | 437/640 [00:05<00:02, 83.00it/s]\u001b[A/Users/lily/pydev/openff-nagl/openff/nagl/nn/_dataset.py:212: UserWarning: Conformer geometry is expected to be in angstrom\n",
      "  warnings.warn(\n",
      "/Users/lily/pydev/openff-nagl/openff/nagl/nn/_dataset.py:212: UserWarning: Conformer geometry is expected to be in angstrom\n",
      "  warnings.warn(\n",
      "/Users/lily/pydev/openff-nagl/openff/nagl/nn/_dataset.py:212: UserWarning: Conformer geometry is expected to be in angstrom\n",
      "  warnings.warn(\n",
      "/Users/lily/pydev/openff-nagl/openff/nagl/nn/_dataset.py:212: UserWarning: Conformer geometry is expected to be in angstrom\n",
      "  warnings.warn(\n",
      "/Users/lily/pydev/openff-nagl/openff/nagl/nn/_dataset.py:212: UserWarning: Conformer geometry is expected to be in angstrom\n",
      "  warnings.warn(\n",
      "/Users/lily/pydev/openff-nagl/openff/nagl/nn/_dataset.py:212: UserWarning: Conformer geometry is expected to be in angstrom\n",
      "  warnings.warn(\n",
      "/Users/lily/pydev/openff-nagl/openff/nagl/nn/_dataset.py:212: UserWarning: Conformer geometry is expected to be in angstrom\n",
      "  warnings.warn(\n",
      "/Users/lily/pydev/openff-nagl/openff/nagl/nn/_dataset.py:212: UserWarning: Conformer geometry is expected to be in angstrom\n",
      "  warnings.warn(\n",
      "/Users/lily/pydev/openff-nagl/openff/nagl/nn/_dataset.py:212: UserWarning: Conformer geometry is expected to be in angstrom\n",
      "  warnings.warn(\n",
      "/Users/lily/pydev/openff-nagl/openff/nagl/nn/_dataset.py:212: UserWarning: Conformer geometry is expected to be in angstrom\n",
      "  warnings.warn(\n",
      "\n",
      "Featurizing batch:  70%|███████████████▎      | 447/640 [00:05<00:02, 87.00it/s]\u001b[A/Users/lily/pydev/openff-nagl/openff/nagl/nn/_dataset.py:212: UserWarning: Conformer geometry is expected to be in angstrom\n",
      "  warnings.warn(\n",
      "/Users/lily/pydev/openff-nagl/openff/nagl/nn/_dataset.py:212: UserWarning: Conformer geometry is expected to be in angstrom\n",
      "  warnings.warn(\n",
      "/Users/lily/pydev/openff-nagl/openff/nagl/nn/_dataset.py:212: UserWarning: Conformer geometry is expected to be in angstrom\n",
      "  warnings.warn(\n",
      "/Users/lily/pydev/openff-nagl/openff/nagl/nn/_dataset.py:212: UserWarning: Conformer geometry is expected to be in angstrom\n",
      "  warnings.warn(\n",
      "/Users/lily/pydev/openff-nagl/openff/nagl/nn/_dataset.py:212: UserWarning: Conformer geometry is expected to be in angstrom\n",
      "  warnings.warn(\n",
      "/Users/lily/pydev/openff-nagl/openff/nagl/nn/_dataset.py:212: UserWarning: Conformer geometry is expected to be in angstrom\n",
      "  warnings.warn(\n",
      "/Users/lily/pydev/openff-nagl/openff/nagl/nn/_dataset.py:212: UserWarning: Conformer geometry is expected to be in angstrom\n",
      "  warnings.warn(\n",
      "/Users/lily/pydev/openff-nagl/openff/nagl/nn/_dataset.py:212: UserWarning: Conformer geometry is expected to be in angstrom\n",
      "  warnings.warn(\n",
      "/Users/lily/pydev/openff-nagl/openff/nagl/nn/_dataset.py:212: UserWarning: Conformer geometry is expected to be in angstrom\n",
      "  warnings.warn(\n",
      "\n",
      "Featurizing batch:  71%|███████████████▋      | 456/640 [00:05<00:02, 84.45it/s]\u001b[A/Users/lily/pydev/openff-nagl/openff/nagl/nn/_dataset.py:212: UserWarning: Conformer geometry is expected to be in angstrom\n",
      "  warnings.warn(\n",
      "/Users/lily/pydev/openff-nagl/openff/nagl/nn/_dataset.py:212: UserWarning: Conformer geometry is expected to be in angstrom\n",
      "  warnings.warn(\n",
      "/Users/lily/pydev/openff-nagl/openff/nagl/nn/_dataset.py:212: UserWarning: Conformer geometry is expected to be in angstrom\n",
      "  warnings.warn(\n",
      "/Users/lily/pydev/openff-nagl/openff/nagl/nn/_dataset.py:212: UserWarning: Conformer geometry is expected to be in angstrom\n",
      "  warnings.warn(\n",
      "/Users/lily/pydev/openff-nagl/openff/nagl/nn/_dataset.py:212: UserWarning: Conformer geometry is expected to be in angstrom\n",
      "  warnings.warn(\n",
      "/Users/lily/pydev/openff-nagl/openff/nagl/nn/_dataset.py:212: UserWarning: Conformer geometry is expected to be in angstrom\n",
      "  warnings.warn(\n",
      "/Users/lily/pydev/openff-nagl/openff/nagl/nn/_dataset.py:212: UserWarning: Conformer geometry is expected to be in angstrom\n",
      "  warnings.warn(\n",
      "/Users/lily/pydev/openff-nagl/openff/nagl/nn/_dataset.py:212: UserWarning: Conformer geometry is expected to be in angstrom\n",
      "  warnings.warn(\n",
      "/Users/lily/pydev/openff-nagl/openff/nagl/nn/_dataset.py:212: UserWarning: Conformer geometry is expected to be in angstrom\n",
      "  warnings.warn(\n",
      "\n",
      "Featurizing batch:  73%|███████████████▉      | 465/640 [00:05<00:02, 84.71it/s]\u001b[A/Users/lily/pydev/openff-nagl/openff/nagl/nn/_dataset.py:212: UserWarning: Conformer geometry is expected to be in angstrom\n",
      "  warnings.warn(\n",
      "/Users/lily/pydev/openff-nagl/openff/nagl/nn/_dataset.py:212: UserWarning: Conformer geometry is expected to be in angstrom\n",
      "  warnings.warn(\n",
      "/Users/lily/pydev/openff-nagl/openff/nagl/nn/_dataset.py:212: UserWarning: Conformer geometry is expected to be in angstrom\n",
      "  warnings.warn(\n",
      "/Users/lily/pydev/openff-nagl/openff/nagl/nn/_dataset.py:212: UserWarning: Conformer geometry is expected to be in angstrom\n",
      "  warnings.warn(\n",
      "/Users/lily/pydev/openff-nagl/openff/nagl/nn/_dataset.py:212: UserWarning: Conformer geometry is expected to be in angstrom\n",
      "  warnings.warn(\n",
      "/Users/lily/pydev/openff-nagl/openff/nagl/nn/_dataset.py:212: UserWarning: Conformer geometry is expected to be in angstrom\n",
      "  warnings.warn(\n",
      "/Users/lily/pydev/openff-nagl/openff/nagl/nn/_dataset.py:212: UserWarning: Conformer geometry is expected to be in angstrom\n",
      "  warnings.warn(\n",
      "/Users/lily/pydev/openff-nagl/openff/nagl/nn/_dataset.py:212: UserWarning: Conformer geometry is expected to be in angstrom\n",
      "  warnings.warn(\n",
      "/Users/lily/pydev/openff-nagl/openff/nagl/nn/_dataset.py:212: UserWarning: Conformer geometry is expected to be in angstrom\n",
      "  warnings.warn(\n",
      "\n",
      "Featurizing batch:  74%|████████████████▎     | 474/640 [00:05<00:01, 85.65it/s]\u001b[A/Users/lily/pydev/openff-nagl/openff/nagl/nn/_dataset.py:212: UserWarning: Conformer geometry is expected to be in angstrom\n",
      "  warnings.warn(\n",
      "/Users/lily/pydev/openff-nagl/openff/nagl/nn/_dataset.py:212: UserWarning: Conformer geometry is expected to be in angstrom\n",
      "  warnings.warn(\n",
      "/Users/lily/pydev/openff-nagl/openff/nagl/nn/_dataset.py:212: UserWarning: Conformer geometry is expected to be in angstrom\n",
      "  warnings.warn(\n",
      "/Users/lily/pydev/openff-nagl/openff/nagl/nn/_dataset.py:212: UserWarning: Conformer geometry is expected to be in angstrom\n",
      "  warnings.warn(\n",
      "/Users/lily/pydev/openff-nagl/openff/nagl/nn/_dataset.py:212: UserWarning: Conformer geometry is expected to be in angstrom\n",
      "  warnings.warn(\n",
      "/Users/lily/pydev/openff-nagl/openff/nagl/nn/_dataset.py:212: UserWarning: Conformer geometry is expected to be in angstrom\n",
      "  warnings.warn(\n",
      "/Users/lily/pydev/openff-nagl/openff/nagl/nn/_dataset.py:212: UserWarning: Conformer geometry is expected to be in angstrom\n",
      "  warnings.warn(\n",
      "/Users/lily/pydev/openff-nagl/openff/nagl/nn/_dataset.py:212: UserWarning: Conformer geometry is expected to be in angstrom\n",
      "  warnings.warn(\n",
      "/Users/lily/pydev/openff-nagl/openff/nagl/nn/_dataset.py:212: UserWarning: Conformer geometry is expected to be in angstrom\n",
      "  warnings.warn(\n",
      "\n",
      "Featurizing batch:  75%|████████████████▌     | 483/640 [00:05<00:01, 84.28it/s]\u001b[A/Users/lily/pydev/openff-nagl/openff/nagl/nn/_dataset.py:212: UserWarning: Conformer geometry is expected to be in angstrom\n",
      "  warnings.warn(\n",
      "/Users/lily/pydev/openff-nagl/openff/nagl/nn/_dataset.py:212: UserWarning: Conformer geometry is expected to be in angstrom\n",
      "  warnings.warn(\n",
      "/Users/lily/pydev/openff-nagl/openff/nagl/nn/_dataset.py:212: UserWarning: Conformer geometry is expected to be in angstrom\n",
      "  warnings.warn(\n",
      "/Users/lily/pydev/openff-nagl/openff/nagl/nn/_dataset.py:212: UserWarning: Conformer geometry is expected to be in angstrom\n",
      "  warnings.warn(\n",
      "/Users/lily/pydev/openff-nagl/openff/nagl/nn/_dataset.py:212: UserWarning: Conformer geometry is expected to be in angstrom\n",
      "  warnings.warn(\n",
      "/Users/lily/pydev/openff-nagl/openff/nagl/nn/_dataset.py:212: UserWarning: Conformer geometry is expected to be in angstrom\n",
      "  warnings.warn(\n",
      "/Users/lily/pydev/openff-nagl/openff/nagl/nn/_dataset.py:212: UserWarning: Conformer geometry is expected to be in angstrom\n",
      "  warnings.warn(\n",
      "/Users/lily/pydev/openff-nagl/openff/nagl/nn/_dataset.py:212: UserWarning: Conformer geometry is expected to be in angstrom\n",
      "  warnings.warn(\n",
      "/Users/lily/pydev/openff-nagl/openff/nagl/nn/_dataset.py:212: UserWarning: Conformer geometry is expected to be in angstrom\n",
      "  warnings.warn(\n",
      "\n",
      "Featurizing batch:  77%|████████████████▉     | 492/640 [00:05<00:01, 82.77it/s]\u001b[A/Users/lily/pydev/openff-nagl/openff/nagl/nn/_dataset.py:212: UserWarning: Conformer geometry is expected to be in angstrom\n",
      "  warnings.warn(\n",
      "/Users/lily/pydev/openff-nagl/openff/nagl/nn/_dataset.py:212: UserWarning: Conformer geometry is expected to be in angstrom\n",
      "  warnings.warn(\n",
      "/Users/lily/pydev/openff-nagl/openff/nagl/nn/_dataset.py:212: UserWarning: Conformer geometry is expected to be in angstrom\n",
      "  warnings.warn(\n",
      "/Users/lily/pydev/openff-nagl/openff/nagl/nn/_dataset.py:212: UserWarning: Conformer geometry is expected to be in angstrom\n",
      "  warnings.warn(\n",
      "/Users/lily/pydev/openff-nagl/openff/nagl/nn/_dataset.py:212: UserWarning: Conformer geometry is expected to be in angstrom\n",
      "  warnings.warn(\n",
      "/Users/lily/pydev/openff-nagl/openff/nagl/nn/_dataset.py:212: UserWarning: Conformer geometry is expected to be in angstrom\n",
      "  warnings.warn(\n",
      "/Users/lily/pydev/openff-nagl/openff/nagl/nn/_dataset.py:212: UserWarning: Conformer geometry is expected to be in angstrom\n",
      "  warnings.warn(\n",
      "/Users/lily/pydev/openff-nagl/openff/nagl/nn/_dataset.py:212: UserWarning: Conformer geometry is expected to be in angstrom\n",
      "  warnings.warn(\n",
      "/Users/lily/pydev/openff-nagl/openff/nagl/nn/_dataset.py:212: UserWarning: Conformer geometry is expected to be in angstrom\n",
      "  warnings.warn(\n",
      "/Users/lily/pydev/openff-nagl/openff/nagl/nn/_dataset.py:212: UserWarning: Conformer geometry is expected to be in angstrom\n",
      "  warnings.warn(\n",
      "\n",
      "Featurizing batch:  78%|█████████████████▎    | 502/640 [00:05<00:01, 84.91it/s]\u001b[A/Users/lily/pydev/openff-nagl/openff/nagl/nn/_dataset.py:212: UserWarning: Conformer geometry is expected to be in angstrom\n",
      "  warnings.warn(\n",
      "/Users/lily/pydev/openff-nagl/openff/nagl/nn/_dataset.py:212: UserWarning: Conformer geometry is expected to be in angstrom\n",
      "  warnings.warn(\n",
      "/Users/lily/pydev/openff-nagl/openff/nagl/nn/_dataset.py:212: UserWarning: Conformer geometry is expected to be in angstrom\n",
      "  warnings.warn(\n",
      "/Users/lily/pydev/openff-nagl/openff/nagl/nn/_dataset.py:212: UserWarning: Conformer geometry is expected to be in angstrom\n",
      "  warnings.warn(\n",
      "/Users/lily/pydev/openff-nagl/openff/nagl/nn/_dataset.py:212: UserWarning: Conformer geometry is expected to be in angstrom\n",
      "  warnings.warn(\n",
      "/Users/lily/pydev/openff-nagl/openff/nagl/nn/_dataset.py:212: UserWarning: Conformer geometry is expected to be in angstrom\n",
      "  warnings.warn(\n",
      "/Users/lily/pydev/openff-nagl/openff/nagl/nn/_dataset.py:212: UserWarning: Conformer geometry is expected to be in angstrom\n",
      "  warnings.warn(\n",
      "/Users/lily/pydev/openff-nagl/openff/nagl/nn/_dataset.py:212: UserWarning: Conformer geometry is expected to be in angstrom\n",
      "  warnings.warn(\n",
      "/Users/lily/pydev/openff-nagl/openff/nagl/nn/_dataset.py:212: UserWarning: Conformer geometry is expected to be in angstrom\n",
      "  warnings.warn(\n",
      "/Users/lily/pydev/openff-nagl/openff/nagl/nn/_dataset.py:212: UserWarning: Conformer geometry is expected to be in angstrom\n",
      "  warnings.warn(\n",
      "\n",
      "Featurizing batch:  80%|█████████████████▌    | 512/640 [00:06<00:01, 87.80it/s]\u001b[A/Users/lily/pydev/openff-nagl/openff/nagl/nn/_dataset.py:212: UserWarning: Conformer geometry is expected to be in angstrom\n",
      "  warnings.warn(\n",
      "/Users/lily/pydev/openff-nagl/openff/nagl/nn/_dataset.py:212: UserWarning: Conformer geometry is expected to be in angstrom\n",
      "  warnings.warn(\n",
      "/Users/lily/pydev/openff-nagl/openff/nagl/nn/_dataset.py:212: UserWarning: Conformer geometry is expected to be in angstrom\n",
      "  warnings.warn(\n",
      "/Users/lily/pydev/openff-nagl/openff/nagl/nn/_dataset.py:212: UserWarning: Conformer geometry is expected to be in angstrom\n",
      "  warnings.warn(\n",
      "/Users/lily/pydev/openff-nagl/openff/nagl/nn/_dataset.py:212: UserWarning: Conformer geometry is expected to be in angstrom\n",
      "  warnings.warn(\n",
      "/Users/lily/pydev/openff-nagl/openff/nagl/nn/_dataset.py:212: UserWarning: Conformer geometry is expected to be in angstrom\n",
      "  warnings.warn(\n",
      "/Users/lily/pydev/openff-nagl/openff/nagl/nn/_dataset.py:212: UserWarning: Conformer geometry is expected to be in angstrom\n",
      "  warnings.warn(\n",
      "/Users/lily/pydev/openff-nagl/openff/nagl/nn/_dataset.py:212: UserWarning: Conformer geometry is expected to be in angstrom\n",
      "  warnings.warn(\n",
      "/Users/lily/pydev/openff-nagl/openff/nagl/nn/_dataset.py:212: UserWarning: Conformer geometry is expected to be in angstrom\n",
      "  warnings.warn(\n",
      "/Users/lily/pydev/openff-nagl/openff/nagl/nn/_dataset.py:212: UserWarning: Conformer geometry is expected to be in angstrom\n",
      "  warnings.warn(\n",
      "\n",
      "Featurizing batch:  82%|█████████████████▉    | 522/640 [00:06<00:01, 88.85it/s]\u001b[A/Users/lily/pydev/openff-nagl/openff/nagl/nn/_dataset.py:212: UserWarning: Conformer geometry is expected to be in angstrom\n",
      "  warnings.warn(\n",
      "/Users/lily/pydev/openff-nagl/openff/nagl/nn/_dataset.py:212: UserWarning: Conformer geometry is expected to be in angstrom\n",
      "  warnings.warn(\n",
      "/Users/lily/pydev/openff-nagl/openff/nagl/nn/_dataset.py:212: UserWarning: Conformer geometry is expected to be in angstrom\n",
      "  warnings.warn(\n",
      "/Users/lily/pydev/openff-nagl/openff/nagl/nn/_dataset.py:212: UserWarning: Conformer geometry is expected to be in angstrom\n",
      "  warnings.warn(\n",
      "/Users/lily/pydev/openff-nagl/openff/nagl/nn/_dataset.py:212: UserWarning: Conformer geometry is expected to be in angstrom\n",
      "  warnings.warn(\n",
      "/Users/lily/pydev/openff-nagl/openff/nagl/nn/_dataset.py:212: UserWarning: Conformer geometry is expected to be in angstrom\n",
      "  warnings.warn(\n",
      "/Users/lily/pydev/openff-nagl/openff/nagl/nn/_dataset.py:212: UserWarning: Conformer geometry is expected to be in angstrom\n",
      "  warnings.warn(\n",
      "/Users/lily/pydev/openff-nagl/openff/nagl/nn/_dataset.py:212: UserWarning: Conformer geometry is expected to be in angstrom\n",
      "  warnings.warn(\n",
      "/Users/lily/pydev/openff-nagl/openff/nagl/nn/_dataset.py:212: UserWarning: Conformer geometry is expected to be in angstrom\n",
      "  warnings.warn(\n",
      "\n",
      "Featurizing batch:  83%|██████████████████▎   | 531/640 [00:06<00:01, 86.08it/s]\u001b[A/Users/lily/pydev/openff-nagl/openff/nagl/nn/_dataset.py:212: UserWarning: Conformer geometry is expected to be in angstrom\n",
      "  warnings.warn(\n",
      "/Users/lily/pydev/openff-nagl/openff/nagl/nn/_dataset.py:212: UserWarning: Conformer geometry is expected to be in angstrom\n",
      "  warnings.warn(\n",
      "/Users/lily/pydev/openff-nagl/openff/nagl/nn/_dataset.py:212: UserWarning: Conformer geometry is expected to be in angstrom\n",
      "  warnings.warn(\n",
      "/Users/lily/pydev/openff-nagl/openff/nagl/nn/_dataset.py:212: UserWarning: Conformer geometry is expected to be in angstrom\n",
      "  warnings.warn(\n",
      "/Users/lily/pydev/openff-nagl/openff/nagl/nn/_dataset.py:212: UserWarning: Conformer geometry is expected to be in angstrom\n",
      "  warnings.warn(\n",
      "/Users/lily/pydev/openff-nagl/openff/nagl/nn/_dataset.py:212: UserWarning: Conformer geometry is expected to be in angstrom\n",
      "  warnings.warn(\n",
      "/Users/lily/pydev/openff-nagl/openff/nagl/nn/_dataset.py:212: UserWarning: Conformer geometry is expected to be in angstrom\n",
      "  warnings.warn(\n",
      "/Users/lily/pydev/openff-nagl/openff/nagl/nn/_dataset.py:212: UserWarning: Conformer geometry is expected to be in angstrom\n",
      "  warnings.warn(\n",
      "/Users/lily/pydev/openff-nagl/openff/nagl/nn/_dataset.py:212: UserWarning: Conformer geometry is expected to be in angstrom\n",
      "  warnings.warn(\n",
      "\n",
      "Featurizing batch:  84%|██████████████████▌   | 540/640 [00:06<00:01, 76.31it/s]\u001b[A/Users/lily/pydev/openff-nagl/openff/nagl/nn/_dataset.py:212: UserWarning: Conformer geometry is expected to be in angstrom\n",
      "  warnings.warn(\n",
      "/Users/lily/pydev/openff-nagl/openff/nagl/nn/_dataset.py:212: UserWarning: Conformer geometry is expected to be in angstrom\n",
      "  warnings.warn(\n",
      "/Users/lily/pydev/openff-nagl/openff/nagl/nn/_dataset.py:212: UserWarning: Conformer geometry is expected to be in angstrom\n",
      "  warnings.warn(\n",
      "/Users/lily/pydev/openff-nagl/openff/nagl/nn/_dataset.py:212: UserWarning: Conformer geometry is expected to be in angstrom\n",
      "  warnings.warn(\n",
      "/Users/lily/pydev/openff-nagl/openff/nagl/nn/_dataset.py:212: UserWarning: Conformer geometry is expected to be in angstrom\n",
      "  warnings.warn(\n",
      "/Users/lily/pydev/openff-nagl/openff/nagl/nn/_dataset.py:212: UserWarning: Conformer geometry is expected to be in angstrom\n",
      "  warnings.warn(\n",
      "/Users/lily/pydev/openff-nagl/openff/nagl/nn/_dataset.py:212: UserWarning: Conformer geometry is expected to be in angstrom\n",
      "  warnings.warn(\n",
      "/Users/lily/pydev/openff-nagl/openff/nagl/nn/_dataset.py:212: UserWarning: Conformer geometry is expected to be in angstrom\n",
      "  warnings.warn(\n",
      "/Users/lily/pydev/openff-nagl/openff/nagl/nn/_dataset.py:212: UserWarning: Conformer geometry is expected to be in angstrom\n",
      "  warnings.warn(\n",
      "\n",
      "Featurizing batch:  86%|██████████████████▊   | 549/640 [00:06<00:01, 78.56it/s]\u001b[A/Users/lily/pydev/openff-nagl/openff/nagl/nn/_dataset.py:212: UserWarning: Conformer geometry is expected to be in angstrom\n",
      "  warnings.warn(\n",
      "/Users/lily/pydev/openff-nagl/openff/nagl/nn/_dataset.py:212: UserWarning: Conformer geometry is expected to be in angstrom\n",
      "  warnings.warn(\n",
      "/Users/lily/pydev/openff-nagl/openff/nagl/nn/_dataset.py:212: UserWarning: Conformer geometry is expected to be in angstrom\n",
      "  warnings.warn(\n",
      "/Users/lily/pydev/openff-nagl/openff/nagl/nn/_dataset.py:212: UserWarning: Conformer geometry is expected to be in angstrom\n",
      "  warnings.warn(\n",
      "/Users/lily/pydev/openff-nagl/openff/nagl/nn/_dataset.py:212: UserWarning: Conformer geometry is expected to be in angstrom\n",
      "  warnings.warn(\n",
      "/Users/lily/pydev/openff-nagl/openff/nagl/nn/_dataset.py:212: UserWarning: Conformer geometry is expected to be in angstrom\n",
      "  warnings.warn(\n",
      "/Users/lily/pydev/openff-nagl/openff/nagl/nn/_dataset.py:212: UserWarning: Conformer geometry is expected to be in angstrom\n",
      "  warnings.warn(\n",
      "/Users/lily/pydev/openff-nagl/openff/nagl/nn/_dataset.py:212: UserWarning: Conformer geometry is expected to be in angstrom\n",
      "  warnings.warn(\n",
      "/Users/lily/pydev/openff-nagl/openff/nagl/nn/_dataset.py:212: UserWarning: Conformer geometry is expected to be in angstrom\n",
      "  warnings.warn(\n",
      "\n",
      "Featurizing batch:  87%|███████████████████▏  | 558/640 [00:06<00:01, 75.06it/s]\u001b[A/Users/lily/pydev/openff-nagl/openff/nagl/nn/_dataset.py:212: UserWarning: Conformer geometry is expected to be in angstrom\n",
      "  warnings.warn(\n",
      "/Users/lily/pydev/openff-nagl/openff/nagl/nn/_dataset.py:212: UserWarning: Conformer geometry is expected to be in angstrom\n",
      "  warnings.warn(\n",
      "/Users/lily/pydev/openff-nagl/openff/nagl/nn/_dataset.py:212: UserWarning: Conformer geometry is expected to be in angstrom\n",
      "  warnings.warn(\n",
      "/Users/lily/pydev/openff-nagl/openff/nagl/nn/_dataset.py:212: UserWarning: Conformer geometry is expected to be in angstrom\n",
      "  warnings.warn(\n",
      "/Users/lily/pydev/openff-nagl/openff/nagl/nn/_dataset.py:212: UserWarning: Conformer geometry is expected to be in angstrom\n",
      "  warnings.warn(\n",
      "/Users/lily/pydev/openff-nagl/openff/nagl/nn/_dataset.py:212: UserWarning: Conformer geometry is expected to be in angstrom\n",
      "  warnings.warn(\n",
      "/Users/lily/pydev/openff-nagl/openff/nagl/nn/_dataset.py:212: UserWarning: Conformer geometry is expected to be in angstrom\n",
      "  warnings.warn(\n",
      "/Users/lily/pydev/openff-nagl/openff/nagl/nn/_dataset.py:212: UserWarning: Conformer geometry is expected to be in angstrom\n",
      "  warnings.warn(\n",
      "/Users/lily/pydev/openff-nagl/openff/nagl/nn/_dataset.py:212: UserWarning: Conformer geometry is expected to be in angstrom\n",
      "  warnings.warn(\n",
      "/Users/lily/pydev/openff-nagl/openff/nagl/nn/_dataset.py:212: UserWarning: Conformer geometry is expected to be in angstrom\n",
      "  warnings.warn(\n",
      "/Users/lily/pydev/openff-nagl/openff/nagl/nn/_dataset.py:212: UserWarning: Conformer geometry is expected to be in angstrom\n",
      "  warnings.warn(\n",
      "\n",
      "Featurizing batch:  89%|███████████████████▌  | 569/640 [00:06<00:00, 82.77it/s]\u001b[A/Users/lily/pydev/openff-nagl/openff/nagl/nn/_dataset.py:212: UserWarning: Conformer geometry is expected to be in angstrom\n",
      "  warnings.warn(\n",
      "/Users/lily/pydev/openff-nagl/openff/nagl/nn/_dataset.py:212: UserWarning: Conformer geometry is expected to be in angstrom\n",
      "  warnings.warn(\n",
      "/Users/lily/pydev/openff-nagl/openff/nagl/nn/_dataset.py:212: UserWarning: Conformer geometry is expected to be in angstrom\n",
      "  warnings.warn(\n",
      "/Users/lily/pydev/openff-nagl/openff/nagl/nn/_dataset.py:212: UserWarning: Conformer geometry is expected to be in angstrom\n",
      "  warnings.warn(\n",
      "/Users/lily/pydev/openff-nagl/openff/nagl/nn/_dataset.py:212: UserWarning: Conformer geometry is expected to be in angstrom\n",
      "  warnings.warn(\n",
      "/Users/lily/pydev/openff-nagl/openff/nagl/nn/_dataset.py:212: UserWarning: Conformer geometry is expected to be in angstrom\n",
      "  warnings.warn(\n",
      "/Users/lily/pydev/openff-nagl/openff/nagl/nn/_dataset.py:212: UserWarning: Conformer geometry is expected to be in angstrom\n",
      "  warnings.warn(\n",
      "/Users/lily/pydev/openff-nagl/openff/nagl/nn/_dataset.py:212: UserWarning: Conformer geometry is expected to be in angstrom\n",
      "  warnings.warn(\n",
      "/Users/lily/pydev/openff-nagl/openff/nagl/nn/_dataset.py:212: UserWarning: Conformer geometry is expected to be in angstrom\n",
      "  warnings.warn(\n",
      "\n",
      "Featurizing batch:  90%|███████████████████▊  | 578/640 [00:06<00:00, 82.61it/s]\u001b[A/Users/lily/pydev/openff-nagl/openff/nagl/nn/_dataset.py:212: UserWarning: Conformer geometry is expected to be in angstrom\n",
      "  warnings.warn(\n",
      "/Users/lily/pydev/openff-nagl/openff/nagl/nn/_dataset.py:212: UserWarning: Conformer geometry is expected to be in angstrom\n",
      "  warnings.warn(\n",
      "/Users/lily/pydev/openff-nagl/openff/nagl/nn/_dataset.py:212: UserWarning: Conformer geometry is expected to be in angstrom\n",
      "  warnings.warn(\n",
      "/Users/lily/pydev/openff-nagl/openff/nagl/nn/_dataset.py:212: UserWarning: Conformer geometry is expected to be in angstrom\n",
      "  warnings.warn(\n",
      "/Users/lily/pydev/openff-nagl/openff/nagl/nn/_dataset.py:212: UserWarning: Conformer geometry is expected to be in angstrom\n",
      "  warnings.warn(\n",
      "/Users/lily/pydev/openff-nagl/openff/nagl/nn/_dataset.py:212: UserWarning: Conformer geometry is expected to be in angstrom\n",
      "  warnings.warn(\n",
      "/Users/lily/pydev/openff-nagl/openff/nagl/nn/_dataset.py:212: UserWarning: Conformer geometry is expected to be in angstrom\n",
      "  warnings.warn(\n",
      "/Users/lily/pydev/openff-nagl/openff/nagl/nn/_dataset.py:212: UserWarning: Conformer geometry is expected to be in angstrom\n",
      "  warnings.warn(\n",
      "/Users/lily/pydev/openff-nagl/openff/nagl/nn/_dataset.py:212: UserWarning: Conformer geometry is expected to be in angstrom\n",
      "  warnings.warn(\n",
      "\n",
      "Featurizing batch:  92%|████████████████████▏ | 587/640 [00:07<00:00, 83.70it/s]\u001b[A/Users/lily/pydev/openff-nagl/openff/nagl/nn/_dataset.py:212: UserWarning: Conformer geometry is expected to be in angstrom\n",
      "  warnings.warn(\n",
      "/Users/lily/pydev/openff-nagl/openff/nagl/nn/_dataset.py:212: UserWarning: Conformer geometry is expected to be in angstrom\n",
      "  warnings.warn(\n",
      "/Users/lily/pydev/openff-nagl/openff/nagl/nn/_dataset.py:212: UserWarning: Conformer geometry is expected to be in angstrom\n",
      "  warnings.warn(\n",
      "/Users/lily/pydev/openff-nagl/openff/nagl/nn/_dataset.py:212: UserWarning: Conformer geometry is expected to be in angstrom\n",
      "  warnings.warn(\n",
      "/Users/lily/pydev/openff-nagl/openff/nagl/nn/_dataset.py:212: UserWarning: Conformer geometry is expected to be in angstrom\n",
      "  warnings.warn(\n",
      "/Users/lily/pydev/openff-nagl/openff/nagl/nn/_dataset.py:212: UserWarning: Conformer geometry is expected to be in angstrom\n",
      "  warnings.warn(\n",
      "/Users/lily/pydev/openff-nagl/openff/nagl/nn/_dataset.py:212: UserWarning: Conformer geometry is expected to be in angstrom\n",
      "  warnings.warn(\n",
      "/Users/lily/pydev/openff-nagl/openff/nagl/nn/_dataset.py:212: UserWarning: Conformer geometry is expected to be in angstrom\n",
      "  warnings.warn(\n",
      "/Users/lily/pydev/openff-nagl/openff/nagl/nn/_dataset.py:212: UserWarning: Conformer geometry is expected to be in angstrom\n",
      "  warnings.warn(\n",
      "\n",
      "Featurizing batch:  93%|████████████████████▍ | 596/640 [00:07<00:00, 83.07it/s]\u001b[A/Users/lily/pydev/openff-nagl/openff/nagl/nn/_dataset.py:212: UserWarning: Conformer geometry is expected to be in angstrom\n",
      "  warnings.warn(\n",
      "/Users/lily/pydev/openff-nagl/openff/nagl/nn/_dataset.py:212: UserWarning: Conformer geometry is expected to be in angstrom\n",
      "  warnings.warn(\n",
      "/Users/lily/pydev/openff-nagl/openff/nagl/nn/_dataset.py:212: UserWarning: Conformer geometry is expected to be in angstrom\n",
      "  warnings.warn(\n",
      "/Users/lily/pydev/openff-nagl/openff/nagl/nn/_dataset.py:212: UserWarning: Conformer geometry is expected to be in angstrom\n",
      "  warnings.warn(\n",
      "/Users/lily/pydev/openff-nagl/openff/nagl/nn/_dataset.py:212: UserWarning: Conformer geometry is expected to be in angstrom\n",
      "  warnings.warn(\n",
      "/Users/lily/pydev/openff-nagl/openff/nagl/nn/_dataset.py:212: UserWarning: Conformer geometry is expected to be in angstrom\n",
      "  warnings.warn(\n",
      "/Users/lily/pydev/openff-nagl/openff/nagl/nn/_dataset.py:212: UserWarning: Conformer geometry is expected to be in angstrom\n",
      "  warnings.warn(\n",
      "/Users/lily/pydev/openff-nagl/openff/nagl/nn/_dataset.py:212: UserWarning: Conformer geometry is expected to be in angstrom\n",
      "  warnings.warn(\n",
      "/Users/lily/pydev/openff-nagl/openff/nagl/nn/_dataset.py:212: UserWarning: Conformer geometry is expected to be in angstrom\n",
      "  warnings.warn(\n",
      "\n",
      "Featurizing batch:  95%|████████████████████▊ | 605/640 [00:07<00:00, 84.28it/s]\u001b[A/Users/lily/pydev/openff-nagl/openff/nagl/nn/_dataset.py:212: UserWarning: Conformer geometry is expected to be in angstrom\n",
      "  warnings.warn(\n",
      "/Users/lily/pydev/openff-nagl/openff/nagl/nn/_dataset.py:212: UserWarning: Conformer geometry is expected to be in angstrom\n",
      "  warnings.warn(\n",
      "/Users/lily/pydev/openff-nagl/openff/nagl/nn/_dataset.py:212: UserWarning: Conformer geometry is expected to be in angstrom\n",
      "  warnings.warn(\n",
      "/Users/lily/pydev/openff-nagl/openff/nagl/nn/_dataset.py:212: UserWarning: Conformer geometry is expected to be in angstrom\n",
      "  warnings.warn(\n",
      "/Users/lily/pydev/openff-nagl/openff/nagl/nn/_dataset.py:212: UserWarning: Conformer geometry is expected to be in angstrom\n",
      "  warnings.warn(\n",
      "/Users/lily/pydev/openff-nagl/openff/nagl/nn/_dataset.py:212: UserWarning: Conformer geometry is expected to be in angstrom\n",
      "  warnings.warn(\n",
      "/Users/lily/pydev/openff-nagl/openff/nagl/nn/_dataset.py:212: UserWarning: Conformer geometry is expected to be in angstrom\n",
      "  warnings.warn(\n",
      "/Users/lily/pydev/openff-nagl/openff/nagl/nn/_dataset.py:212: UserWarning: Conformer geometry is expected to be in angstrom\n",
      "  warnings.warn(\n",
      "/Users/lily/pydev/openff-nagl/openff/nagl/nn/_dataset.py:212: UserWarning: Conformer geometry is expected to be in angstrom\n",
      "  warnings.warn(\n",
      "\n",
      "Featurizing batch:  96%|█████████████████████ | 614/640 [00:07<00:00, 83.01it/s]\u001b[A/Users/lily/pydev/openff-nagl/openff/nagl/nn/_dataset.py:212: UserWarning: Conformer geometry is expected to be in angstrom\n",
      "  warnings.warn(\n",
      "/Users/lily/pydev/openff-nagl/openff/nagl/nn/_dataset.py:212: UserWarning: Conformer geometry is expected to be in angstrom\n",
      "  warnings.warn(\n",
      "/Users/lily/pydev/openff-nagl/openff/nagl/nn/_dataset.py:212: UserWarning: Conformer geometry is expected to be in angstrom\n",
      "  warnings.warn(\n",
      "/Users/lily/pydev/openff-nagl/openff/nagl/nn/_dataset.py:212: UserWarning: Conformer geometry is expected to be in angstrom\n",
      "  warnings.warn(\n",
      "/Users/lily/pydev/openff-nagl/openff/nagl/nn/_dataset.py:212: UserWarning: Conformer geometry is expected to be in angstrom\n",
      "  warnings.warn(\n",
      "/Users/lily/pydev/openff-nagl/openff/nagl/nn/_dataset.py:212: UserWarning: Conformer geometry is expected to be in angstrom\n",
      "  warnings.warn(\n",
      "/Users/lily/pydev/openff-nagl/openff/nagl/nn/_dataset.py:212: UserWarning: Conformer geometry is expected to be in angstrom\n",
      "  warnings.warn(\n",
      "/Users/lily/pydev/openff-nagl/openff/nagl/nn/_dataset.py:212: UserWarning: Conformer geometry is expected to be in angstrom\n",
      "  warnings.warn(\n",
      "/Users/lily/pydev/openff-nagl/openff/nagl/nn/_dataset.py:212: UserWarning: Conformer geometry is expected to be in angstrom\n",
      "  warnings.warn(\n",
      "/Users/lily/pydev/openff-nagl/openff/nagl/nn/_dataset.py:212: UserWarning: Conformer geometry is expected to be in angstrom\n",
      "  warnings.warn(\n",
      "/Users/lily/pydev/openff-nagl/openff/nagl/nn/_dataset.py:212: UserWarning: Conformer geometry is expected to be in angstrom\n",
      "  warnings.warn(\n",
      "\n",
      "Featurizing batch:  98%|█████████████████████▍| 625/640 [00:07<00:00, 84.69it/s]\u001b[A/Users/lily/pydev/openff-nagl/openff/nagl/nn/_dataset.py:212: UserWarning: Conformer geometry is expected to be in angstrom\n",
      "  warnings.warn(\n",
      "/Users/lily/pydev/openff-nagl/openff/nagl/nn/_dataset.py:212: UserWarning: Conformer geometry is expected to be in angstrom\n",
      "  warnings.warn(\n",
      "/Users/lily/pydev/openff-nagl/openff/nagl/nn/_dataset.py:212: UserWarning: Conformer geometry is expected to be in angstrom\n",
      "  warnings.warn(\n",
      "/Users/lily/pydev/openff-nagl/openff/nagl/nn/_dataset.py:212: UserWarning: Conformer geometry is expected to be in angstrom\n",
      "  warnings.warn(\n",
      "/Users/lily/pydev/openff-nagl/openff/nagl/nn/_dataset.py:212: UserWarning: Conformer geometry is expected to be in angstrom\n",
      "  warnings.warn(\n",
      "/Users/lily/pydev/openff-nagl/openff/nagl/nn/_dataset.py:212: UserWarning: Conformer geometry is expected to be in angstrom\n",
      "  warnings.warn(\n",
      "/Users/lily/pydev/openff-nagl/openff/nagl/nn/_dataset.py:212: UserWarning: Conformer geometry is expected to be in angstrom\n",
      "  warnings.warn(\n",
      "/Users/lily/pydev/openff-nagl/openff/nagl/nn/_dataset.py:212: UserWarning: Conformer geometry is expected to be in angstrom\n",
      "  warnings.warn(\n",
      "/Users/lily/pydev/openff-nagl/openff/nagl/nn/_dataset.py:212: UserWarning: Conformer geometry is expected to be in angstrom\n",
      "  warnings.warn(\n",
      "/Users/lily/pydev/openff-nagl/openff/nagl/nn/_dataset.py:212: UserWarning: Conformer geometry is expected to be in angstrom\n",
      "  warnings.warn(\n",
      "/Users/lily/pydev/openff-nagl/openff/nagl/nn/_dataset.py:212: UserWarning: Conformer geometry is expected to be in angstrom\n",
      "  warnings.warn(\n",
      "\n",
      "Featurizing batch:  99%|█████████████████████▊| 636/640 [00:07<00:00, 91.04it/s]\u001b[A/Users/lily/pydev/openff-nagl/openff/nagl/nn/_dataset.py:212: UserWarning: Conformer geometry is expected to be in angstrom\n",
      "  warnings.warn(\n",
      "/Users/lily/pydev/openff-nagl/openff/nagl/nn/_dataset.py:212: UserWarning: Conformer geometry is expected to be in angstrom\n",
      "  warnings.warn(\n",
      "/Users/lily/pydev/openff-nagl/openff/nagl/nn/_dataset.py:212: UserWarning: Conformer geometry is expected to be in angstrom\n",
      "  warnings.warn(\n",
      "/Users/lily/pydev/openff-nagl/openff/nagl/nn/_dataset.py:212: UserWarning: Conformer geometry is expected to be in angstrom\n",
      "  warnings.warn(\n",
      "Featurizing batch: 100%|██████████████████████| 640/640 [00:07<00:00, 83.74it/s]\n",
      "Featurizing dataset: 1it [00:07,  7.67s/it]\n",
      "Featurizing dataset: 0it [00:00, ?it/s]\n",
      "Featurizing batch:   0%|                                 | 0/10 [00:00<?, ?it/s]\u001b[A/Users/lily/pydev/openff-nagl/openff/nagl/nn/_dataset.py:212: UserWarning: Conformer geometry is expected to be in angstrom\n",
      "  warnings.warn(\n",
      "/Users/lily/pydev/openff-nagl/openff/nagl/nn/_dataset.py:212: UserWarning: Conformer geometry is expected to be in angstrom\n",
      "  warnings.warn(\n",
      "/Users/lily/pydev/openff-nagl/openff/nagl/nn/_dataset.py:212: UserWarning: Conformer geometry is expected to be in angstrom\n",
      "  warnings.warn(\n",
      "/Users/lily/pydev/openff-nagl/openff/nagl/nn/_dataset.py:212: UserWarning: Conformer geometry is expected to be in angstrom\n",
      "  warnings.warn(\n",
      "/Users/lily/pydev/openff-nagl/openff/nagl/nn/_dataset.py:212: UserWarning: Conformer geometry is expected to be in angstrom\n",
      "  warnings.warn(\n",
      "/Users/lily/pydev/openff-nagl/openff/nagl/nn/_dataset.py:212: UserWarning: Conformer geometry is expected to be in angstrom\n",
      "  warnings.warn(\n",
      "\n",
      "Featurizing batch:  60%|███████████████          | 6/10 [00:00<00:00, 49.88it/s]\u001b[A/Users/lily/pydev/openff-nagl/openff/nagl/nn/_dataset.py:212: UserWarning: Conformer geometry is expected to be in angstrom\n",
      "  warnings.warn(\n",
      "/Users/lily/pydev/openff-nagl/openff/nagl/nn/_dataset.py:212: UserWarning: Conformer geometry is expected to be in angstrom\n",
      "  warnings.warn(\n",
      "/Users/lily/pydev/openff-nagl/openff/nagl/nn/_dataset.py:212: UserWarning: Conformer geometry is expected to be in angstrom\n",
      "  warnings.warn(\n",
      "/Users/lily/pydev/openff-nagl/openff/nagl/nn/_dataset.py:212: UserWarning: Conformer geometry is expected to be in angstrom\n",
      "  warnings.warn(\n",
      "Featurizing batch: 100%|████████████████████████| 10/10 [00:00<00:00, 57.63it/s]\n",
      "Featurizing dataset: 1it [00:00,  5.62it/s]\n",
      "Missing logger folder: /Users/lily/pydev/openff-nagl/examples/train-gnn-dihedrals/lightning_logs\n",
      "2024-11-26 08:47:51.062220: I tensorflow/core/platform/cpu_feature_guard.cc:210] This TensorFlow binary is optimized to use available CPU instructions in performance-critical operations.\n",
      "To enable the following instructions: SSE4.1 SSE4.2, in other operations, rebuild TensorFlow with the appropriate compiler flags.\n",
      "Featurizing dataset: 0it [00:00, ?it/s]\n",
      "Featurizing batch:   0%|                                | 0/640 [00:00<?, ?it/s]\u001b[A/Users/lily/pydev/openff-nagl/openff/nagl/nn/_dataset.py:212: UserWarning: Conformer geometry is expected to be in angstrom\n",
      "  warnings.warn(\n",
      "/Users/lily/pydev/openff-nagl/openff/nagl/nn/_dataset.py:212: UserWarning: Conformer geometry is expected to be in angstrom\n",
      "  warnings.warn(\n",
      "/Users/lily/pydev/openff-nagl/openff/nagl/nn/_dataset.py:212: UserWarning: Conformer geometry is expected to be in angstrom\n",
      "  warnings.warn(\n",
      "/Users/lily/pydev/openff-nagl/openff/nagl/nn/_dataset.py:212: UserWarning: Conformer geometry is expected to be in angstrom\n",
      "  warnings.warn(\n",
      "/Users/lily/pydev/openff-nagl/openff/nagl/nn/_dataset.py:212: UserWarning: Conformer geometry is expected to be in angstrom\n",
      "  warnings.warn(\n",
      "/Users/lily/pydev/openff-nagl/openff/nagl/nn/_dataset.py:212: UserWarning: Conformer geometry is expected to be in angstrom\n",
      "  warnings.warn(\n",
      "/Users/lily/pydev/openff-nagl/openff/nagl/nn/_dataset.py:212: UserWarning: Conformer geometry is expected to be in angstrom\n",
      "  warnings.warn(\n",
      "/Users/lily/pydev/openff-nagl/openff/nagl/nn/_dataset.py:212: UserWarning: Conformer geometry is expected to be in angstrom\n",
      "  warnings.warn(\n",
      "/Users/lily/pydev/openff-nagl/openff/nagl/nn/_dataset.py:212: UserWarning: Conformer geometry is expected to be in angstrom\n",
      "  warnings.warn(\n",
      "\n",
      "Featurizing batch:   1%|▎                       | 9/640 [00:00<00:07, 82.73it/s]\u001b[A/Users/lily/pydev/openff-nagl/openff/nagl/nn/_dataset.py:212: UserWarning: Conformer geometry is expected to be in angstrom\n",
      "  warnings.warn(\n",
      "/Users/lily/pydev/openff-nagl/openff/nagl/nn/_dataset.py:212: UserWarning: Conformer geometry is expected to be in angstrom\n",
      "  warnings.warn(\n",
      "/Users/lily/pydev/openff-nagl/openff/nagl/nn/_dataset.py:212: UserWarning: Conformer geometry is expected to be in angstrom\n",
      "  warnings.warn(\n",
      "/Users/lily/pydev/openff-nagl/openff/nagl/nn/_dataset.py:212: UserWarning: Conformer geometry is expected to be in angstrom\n",
      "  warnings.warn(\n",
      "/Users/lily/pydev/openff-nagl/openff/nagl/nn/_dataset.py:212: UserWarning: Conformer geometry is expected to be in angstrom\n",
      "  warnings.warn(\n",
      "/Users/lily/pydev/openff-nagl/openff/nagl/nn/_dataset.py:212: UserWarning: Conformer geometry is expected to be in angstrom\n",
      "  warnings.warn(\n",
      "/Users/lily/pydev/openff-nagl/openff/nagl/nn/_dataset.py:212: UserWarning: Conformer geometry is expected to be in angstrom\n",
      "  warnings.warn(\n",
      "/Users/lily/pydev/openff-nagl/openff/nagl/nn/_dataset.py:212: UserWarning: Conformer geometry is expected to be in angstrom\n",
      "  warnings.warn(\n",
      "/Users/lily/pydev/openff-nagl/openff/nagl/nn/_dataset.py:212: UserWarning: Conformer geometry is expected to be in angstrom\n",
      "  warnings.warn(\n",
      "\n",
      "Featurizing batch:   3%|▋                      | 18/640 [00:00<00:07, 79.83it/s]\u001b[A/Users/lily/pydev/openff-nagl/openff/nagl/nn/_dataset.py:212: UserWarning: Conformer geometry is expected to be in angstrom\n",
      "  warnings.warn(\n",
      "/Users/lily/pydev/openff-nagl/openff/nagl/nn/_dataset.py:212: UserWarning: Conformer geometry is expected to be in angstrom\n",
      "  warnings.warn(\n",
      "/Users/lily/pydev/openff-nagl/openff/nagl/nn/_dataset.py:212: UserWarning: Conformer geometry is expected to be in angstrom\n",
      "  warnings.warn(\n",
      "/Users/lily/pydev/openff-nagl/openff/nagl/nn/_dataset.py:212: UserWarning: Conformer geometry is expected to be in angstrom\n",
      "  warnings.warn(\n",
      "/Users/lily/pydev/openff-nagl/openff/nagl/nn/_dataset.py:212: UserWarning: Conformer geometry is expected to be in angstrom\n",
      "  warnings.warn(\n",
      "/Users/lily/pydev/openff-nagl/openff/nagl/nn/_dataset.py:212: UserWarning: Conformer geometry is expected to be in angstrom\n",
      "  warnings.warn(\n",
      "/Users/lily/pydev/openff-nagl/openff/nagl/nn/_dataset.py:212: UserWarning: Conformer geometry is expected to be in angstrom\n",
      "  warnings.warn(\n",
      "/Users/lily/pydev/openff-nagl/openff/nagl/nn/_dataset.py:212: UserWarning: Conformer geometry is expected to be in angstrom\n",
      "  warnings.warn(\n",
      "\n",
      "Featurizing batch:   4%|▉                      | 26/640 [00:00<00:07, 77.69it/s]\u001b[A/Users/lily/pydev/openff-nagl/openff/nagl/nn/_dataset.py:212: UserWarning: Conformer geometry is expected to be in angstrom\n",
      "  warnings.warn(\n",
      "/Users/lily/pydev/openff-nagl/openff/nagl/nn/_dataset.py:212: UserWarning: Conformer geometry is expected to be in angstrom\n",
      "  warnings.warn(\n",
      "/Users/lily/pydev/openff-nagl/openff/nagl/nn/_dataset.py:212: UserWarning: Conformer geometry is expected to be in angstrom\n",
      "  warnings.warn(\n",
      "/Users/lily/pydev/openff-nagl/openff/nagl/nn/_dataset.py:212: UserWarning: Conformer geometry is expected to be in angstrom\n",
      "  warnings.warn(\n",
      "/Users/lily/pydev/openff-nagl/openff/nagl/nn/_dataset.py:212: UserWarning: Conformer geometry is expected to be in angstrom\n",
      "  warnings.warn(\n",
      "/Users/lily/pydev/openff-nagl/openff/nagl/nn/_dataset.py:212: UserWarning: Conformer geometry is expected to be in angstrom\n",
      "  warnings.warn(\n",
      "/Users/lily/pydev/openff-nagl/openff/nagl/nn/_dataset.py:212: UserWarning: Conformer geometry is expected to be in angstrom\n",
      "  warnings.warn(\n",
      "/Users/lily/pydev/openff-nagl/openff/nagl/nn/_dataset.py:212: UserWarning: Conformer geometry is expected to be in angstrom\n",
      "  warnings.warn(\n",
      "\n",
      "Featurizing batch:   5%|█▏                     | 34/640 [00:00<00:08, 68.82it/s]\u001b[A/Users/lily/pydev/openff-nagl/openff/nagl/nn/_dataset.py:212: UserWarning: Conformer geometry is expected to be in angstrom\n",
      "  warnings.warn(\n",
      "/Users/lily/pydev/openff-nagl/openff/nagl/nn/_dataset.py:212: UserWarning: Conformer geometry is expected to be in angstrom\n",
      "  warnings.warn(\n",
      "/Users/lily/pydev/openff-nagl/openff/nagl/nn/_dataset.py:212: UserWarning: Conformer geometry is expected to be in angstrom\n",
      "  warnings.warn(\n",
      "/Users/lily/pydev/openff-nagl/openff/nagl/nn/_dataset.py:212: UserWarning: Conformer geometry is expected to be in angstrom\n",
      "  warnings.warn(\n",
      "/Users/lily/pydev/openff-nagl/openff/nagl/nn/_dataset.py:212: UserWarning: Conformer geometry is expected to be in angstrom\n",
      "  warnings.warn(\n",
      "/Users/lily/pydev/openff-nagl/openff/nagl/nn/_dataset.py:212: UserWarning: Conformer geometry is expected to be in angstrom\n",
      "  warnings.warn(\n",
      "/Users/lily/pydev/openff-nagl/openff/nagl/nn/_dataset.py:212: UserWarning: Conformer geometry is expected to be in angstrom\n",
      "  warnings.warn(\n",
      "/Users/lily/pydev/openff-nagl/openff/nagl/nn/_dataset.py:212: UserWarning: Conformer geometry is expected to be in angstrom\n",
      "  warnings.warn(\n",
      "\n",
      "Featurizing batch:   7%|█▌                     | 42/640 [00:00<00:08, 70.89it/s]\u001b[A/Users/lily/pydev/openff-nagl/openff/nagl/nn/_dataset.py:212: UserWarning: Conformer geometry is expected to be in angstrom\n",
      "  warnings.warn(\n",
      "/Users/lily/pydev/openff-nagl/openff/nagl/nn/_dataset.py:212: UserWarning: Conformer geometry is expected to be in angstrom\n",
      "  warnings.warn(\n",
      "/Users/lily/pydev/openff-nagl/openff/nagl/nn/_dataset.py:212: UserWarning: Conformer geometry is expected to be in angstrom\n",
      "  warnings.warn(\n",
      "/Users/lily/pydev/openff-nagl/openff/nagl/nn/_dataset.py:212: UserWarning: Conformer geometry is expected to be in angstrom\n",
      "  warnings.warn(\n",
      "/Users/lily/pydev/openff-nagl/openff/nagl/nn/_dataset.py:212: UserWarning: Conformer geometry is expected to be in angstrom\n",
      "  warnings.warn(\n",
      "/Users/lily/pydev/openff-nagl/openff/nagl/nn/_dataset.py:212: UserWarning: Conformer geometry is expected to be in angstrom\n",
      "  warnings.warn(\n",
      "/Users/lily/pydev/openff-nagl/openff/nagl/nn/_dataset.py:212: UserWarning: Conformer geometry is expected to be in angstrom\n",
      "  warnings.warn(\n",
      "/Users/lily/pydev/openff-nagl/openff/nagl/nn/_dataset.py:212: UserWarning: Conformer geometry is expected to be in angstrom\n",
      "  warnings.warn(\n",
      "\n",
      "Featurizing batch:   8%|█▊                     | 50/640 [00:00<00:09, 60.06it/s]\u001b[A/Users/lily/pydev/openff-nagl/openff/nagl/nn/_dataset.py:212: UserWarning: Conformer geometry is expected to be in angstrom\n",
      "  warnings.warn(\n",
      "/Users/lily/pydev/openff-nagl/openff/nagl/nn/_dataset.py:212: UserWarning: Conformer geometry is expected to be in angstrom\n",
      "  warnings.warn(\n",
      "/Users/lily/pydev/openff-nagl/openff/nagl/nn/_dataset.py:212: UserWarning: Conformer geometry is expected to be in angstrom\n",
      "  warnings.warn(\n",
      "/Users/lily/pydev/openff-nagl/openff/nagl/nn/_dataset.py:212: UserWarning: Conformer geometry is expected to be in angstrom\n",
      "  warnings.warn(\n",
      "/Users/lily/pydev/openff-nagl/openff/nagl/nn/_dataset.py:212: UserWarning: Conformer geometry is expected to be in angstrom\n",
      "  warnings.warn(\n",
      "/Users/lily/pydev/openff-nagl/openff/nagl/nn/_dataset.py:212: UserWarning: Conformer geometry is expected to be in angstrom\n",
      "  warnings.warn(\n",
      "/Users/lily/pydev/openff-nagl/openff/nagl/nn/_dataset.py:212: UserWarning: Conformer geometry is expected to be in angstrom\n",
      "  warnings.warn(\n",
      "\n",
      "Featurizing batch:   9%|██                     | 57/640 [00:00<00:10, 54.30it/s]\u001b[A/Users/lily/pydev/openff-nagl/openff/nagl/nn/_dataset.py:212: UserWarning: Conformer geometry is expected to be in angstrom\n",
      "  warnings.warn(\n",
      "/Users/lily/pydev/openff-nagl/openff/nagl/nn/_dataset.py:212: UserWarning: Conformer geometry is expected to be in angstrom\n",
      "  warnings.warn(\n",
      "/Users/lily/pydev/openff-nagl/openff/nagl/nn/_dataset.py:212: UserWarning: Conformer geometry is expected to be in angstrom\n",
      "  warnings.warn(\n",
      "/Users/lily/pydev/openff-nagl/openff/nagl/nn/_dataset.py:212: UserWarning: Conformer geometry is expected to be in angstrom\n",
      "  warnings.warn(\n",
      "/Users/lily/pydev/openff-nagl/openff/nagl/nn/_dataset.py:212: UserWarning: Conformer geometry is expected to be in angstrom\n",
      "  warnings.warn(\n",
      "/Users/lily/pydev/openff-nagl/openff/nagl/nn/_dataset.py:212: UserWarning: Conformer geometry is expected to be in angstrom\n",
      "  warnings.warn(\n",
      "\n",
      "Featurizing batch:  10%|██▎                    | 63/640 [00:01<00:10, 54.74it/s]\u001b[A/Users/lily/pydev/openff-nagl/openff/nagl/nn/_dataset.py:212: UserWarning: Conformer geometry is expected to be in angstrom\n",
      "  warnings.warn(\n",
      "/Users/lily/pydev/openff-nagl/openff/nagl/nn/_dataset.py:212: UserWarning: Conformer geometry is expected to be in angstrom\n",
      "  warnings.warn(\n",
      "/Users/lily/pydev/openff-nagl/openff/nagl/nn/_dataset.py:212: UserWarning: Conformer geometry is expected to be in angstrom\n",
      "  warnings.warn(\n",
      "/Users/lily/pydev/openff-nagl/openff/nagl/nn/_dataset.py:212: UserWarning: Conformer geometry is expected to be in angstrom\n",
      "  warnings.warn(\n",
      "/Users/lily/pydev/openff-nagl/openff/nagl/nn/_dataset.py:212: UserWarning: Conformer geometry is expected to be in angstrom\n",
      "  warnings.warn(\n",
      "/Users/lily/pydev/openff-nagl/openff/nagl/nn/_dataset.py:212: UserWarning: Conformer geometry is expected to be in angstrom\n",
      "  warnings.warn(\n",
      "\n",
      "Featurizing batch:  11%|██▍                    | 69/640 [00:01<00:10, 55.26it/s]\u001b[A/Users/lily/pydev/openff-nagl/openff/nagl/nn/_dataset.py:212: UserWarning: Conformer geometry is expected to be in angstrom\n",
      "  warnings.warn(\n",
      "/Users/lily/pydev/openff-nagl/openff/nagl/nn/_dataset.py:212: UserWarning: Conformer geometry is expected to be in angstrom\n",
      "  warnings.warn(\n",
      "/Users/lily/pydev/openff-nagl/openff/nagl/nn/_dataset.py:212: UserWarning: Conformer geometry is expected to be in angstrom\n",
      "  warnings.warn(\n",
      "/Users/lily/pydev/openff-nagl/openff/nagl/nn/_dataset.py:212: UserWarning: Conformer geometry is expected to be in angstrom\n",
      "  warnings.warn(\n",
      "/Users/lily/pydev/openff-nagl/openff/nagl/nn/_dataset.py:212: UserWarning: Conformer geometry is expected to be in angstrom\n",
      "  warnings.warn(\n",
      "/Users/lily/pydev/openff-nagl/openff/nagl/nn/_dataset.py:212: UserWarning: Conformer geometry is expected to be in angstrom\n",
      "  warnings.warn(\n",
      "\n",
      "Featurizing batch:  12%|██▋                    | 75/640 [00:01<00:10, 55.28it/s]\u001b[A/Users/lily/pydev/openff-nagl/openff/nagl/nn/_dataset.py:212: UserWarning: Conformer geometry is expected to be in angstrom\n",
      "  warnings.warn(\n",
      "/Users/lily/pydev/openff-nagl/openff/nagl/nn/_dataset.py:212: UserWarning: Conformer geometry is expected to be in angstrom\n",
      "  warnings.warn(\n",
      "/Users/lily/pydev/openff-nagl/openff/nagl/nn/_dataset.py:212: UserWarning: Conformer geometry is expected to be in angstrom\n",
      "  warnings.warn(\n",
      "/Users/lily/pydev/openff-nagl/openff/nagl/nn/_dataset.py:212: UserWarning: Conformer geometry is expected to be in angstrom\n",
      "  warnings.warn(\n",
      "/Users/lily/pydev/openff-nagl/openff/nagl/nn/_dataset.py:212: UserWarning: Conformer geometry is expected to be in angstrom\n",
      "  warnings.warn(\n",
      "/Users/lily/pydev/openff-nagl/openff/nagl/nn/_dataset.py:212: UserWarning: Conformer geometry is expected to be in angstrom\n",
      "  warnings.warn(\n",
      "\n",
      "Featurizing batch:  13%|██▉                    | 81/640 [00:01<00:10, 51.91it/s]\u001b[A/Users/lily/pydev/openff-nagl/openff/nagl/nn/_dataset.py:212: UserWarning: Conformer geometry is expected to be in angstrom\n",
      "  warnings.warn(\n",
      "/Users/lily/pydev/openff-nagl/openff/nagl/nn/_dataset.py:212: UserWarning: Conformer geometry is expected to be in angstrom\n",
      "  warnings.warn(\n",
      "/Users/lily/pydev/openff-nagl/openff/nagl/nn/_dataset.py:212: UserWarning: Conformer geometry is expected to be in angstrom\n",
      "  warnings.warn(\n",
      "/Users/lily/pydev/openff-nagl/openff/nagl/nn/_dataset.py:212: UserWarning: Conformer geometry is expected to be in angstrom\n",
      "  warnings.warn(\n",
      "/Users/lily/pydev/openff-nagl/openff/nagl/nn/_dataset.py:212: UserWarning: Conformer geometry is expected to be in angstrom\n",
      "  warnings.warn(\n",
      "/Users/lily/pydev/openff-nagl/openff/nagl/nn/_dataset.py:212: UserWarning: Conformer geometry is expected to be in angstrom\n",
      "  warnings.warn(\n",
      "\n",
      "Featurizing batch:  14%|███▏                   | 87/640 [00:01<00:10, 53.95it/s]\u001b[A/Users/lily/pydev/openff-nagl/openff/nagl/nn/_dataset.py:212: UserWarning: Conformer geometry is expected to be in angstrom\n",
      "  warnings.warn(\n",
      "/Users/lily/pydev/openff-nagl/openff/nagl/nn/_dataset.py:212: UserWarning: Conformer geometry is expected to be in angstrom\n",
      "  warnings.warn(\n",
      "/Users/lily/pydev/openff-nagl/openff/nagl/nn/_dataset.py:212: UserWarning: Conformer geometry is expected to be in angstrom\n",
      "  warnings.warn(\n",
      "/Users/lily/pydev/openff-nagl/openff/nagl/nn/_dataset.py:212: UserWarning: Conformer geometry is expected to be in angstrom\n",
      "  warnings.warn(\n",
      "/Users/lily/pydev/openff-nagl/openff/nagl/nn/_dataset.py:212: UserWarning: Conformer geometry is expected to be in angstrom\n",
      "  warnings.warn(\n",
      "/Users/lily/pydev/openff-nagl/openff/nagl/nn/_dataset.py:212: UserWarning: Conformer geometry is expected to be in angstrom\n",
      "  warnings.warn(\n",
      "\n",
      "Featurizing batch:  15%|███▎                   | 93/640 [00:01<00:10, 54.44it/s]\u001b[A/Users/lily/pydev/openff-nagl/openff/nagl/nn/_dataset.py:212: UserWarning: Conformer geometry is expected to be in angstrom\n",
      "  warnings.warn(\n",
      "/Users/lily/pydev/openff-nagl/openff/nagl/nn/_dataset.py:212: UserWarning: Conformer geometry is expected to be in angstrom\n",
      "  warnings.warn(\n",
      "/Users/lily/pydev/openff-nagl/openff/nagl/nn/_dataset.py:212: UserWarning: Conformer geometry is expected to be in angstrom\n",
      "  warnings.warn(\n",
      "/Users/lily/pydev/openff-nagl/openff/nagl/nn/_dataset.py:212: UserWarning: Conformer geometry is expected to be in angstrom\n",
      "  warnings.warn(\n",
      "/Users/lily/pydev/openff-nagl/openff/nagl/nn/_dataset.py:212: UserWarning: Conformer geometry is expected to be in angstrom\n",
      "  warnings.warn(\n",
      "/Users/lily/pydev/openff-nagl/openff/nagl/nn/_dataset.py:212: UserWarning: Conformer geometry is expected to be in angstrom\n",
      "  warnings.warn(\n",
      "\n",
      "Featurizing batch:  15%|███▌                   | 99/640 [00:01<00:10, 49.89it/s]\u001b[A/Users/lily/pydev/openff-nagl/openff/nagl/nn/_dataset.py:212: UserWarning: Conformer geometry is expected to be in angstrom\n",
      "  warnings.warn(\n",
      "/Users/lily/pydev/openff-nagl/openff/nagl/nn/_dataset.py:212: UserWarning: Conformer geometry is expected to be in angstrom\n",
      "  warnings.warn(\n",
      "/Users/lily/pydev/openff-nagl/openff/nagl/nn/_dataset.py:212: UserWarning: Conformer geometry is expected to be in angstrom\n",
      "  warnings.warn(\n",
      "/Users/lily/pydev/openff-nagl/openff/nagl/nn/_dataset.py:212: UserWarning: Conformer geometry is expected to be in angstrom\n",
      "  warnings.warn(\n",
      "/Users/lily/pydev/openff-nagl/openff/nagl/nn/_dataset.py:212: UserWarning: Conformer geometry is expected to be in angstrom\n",
      "  warnings.warn(\n",
      "/Users/lily/pydev/openff-nagl/openff/nagl/nn/_dataset.py:212: UserWarning: Conformer geometry is expected to be in angstrom\n",
      "  warnings.warn(\n",
      "\n",
      "Featurizing batch:  16%|███▌                  | 105/640 [00:01<00:12, 42.58it/s]\u001b[A/Users/lily/pydev/openff-nagl/openff/nagl/nn/_dataset.py:212: UserWarning: Conformer geometry is expected to be in angstrom\n",
      "  warnings.warn(\n",
      "/Users/lily/pydev/openff-nagl/openff/nagl/nn/_dataset.py:212: UserWarning: Conformer geometry is expected to be in angstrom\n",
      "  warnings.warn(\n",
      "/Users/lily/pydev/openff-nagl/openff/nagl/nn/_dataset.py:212: UserWarning: Conformer geometry is expected to be in angstrom\n",
      "  warnings.warn(\n",
      "/Users/lily/pydev/openff-nagl/openff/nagl/nn/_dataset.py:212: UserWarning: Conformer geometry is expected to be in angstrom\n",
      "  warnings.warn(\n",
      "/Users/lily/pydev/openff-nagl/openff/nagl/nn/_dataset.py:212: UserWarning: Conformer geometry is expected to be in angstrom\n",
      "  warnings.warn(\n",
      "\n",
      "Featurizing batch:  17%|███▊                  | 110/640 [00:02<00:12, 42.41it/s]\u001b[A/Users/lily/pydev/openff-nagl/openff/nagl/nn/_dataset.py:212: UserWarning: Conformer geometry is expected to be in angstrom\n",
      "  warnings.warn(\n",
      "/Users/lily/pydev/openff-nagl/openff/nagl/nn/_dataset.py:212: UserWarning: Conformer geometry is expected to be in angstrom\n",
      "  warnings.warn(\n",
      "/Users/lily/pydev/openff-nagl/openff/nagl/nn/_dataset.py:212: UserWarning: Conformer geometry is expected to be in angstrom\n",
      "  warnings.warn(\n",
      "/Users/lily/pydev/openff-nagl/openff/nagl/nn/_dataset.py:212: UserWarning: Conformer geometry is expected to be in angstrom\n",
      "  warnings.warn(\n",
      "/Users/lily/pydev/openff-nagl/openff/nagl/nn/_dataset.py:212: UserWarning: Conformer geometry is expected to be in angstrom\n",
      "  warnings.warn(\n",
      "/Users/lily/pydev/openff-nagl/openff/nagl/nn/_dataset.py:212: UserWarning: Conformer geometry is expected to be in angstrom\n",
      "  warnings.warn(\n",
      "\n",
      "Featurizing batch:  18%|███▉                  | 116/640 [00:02<00:11, 46.10it/s]\u001b[A/Users/lily/pydev/openff-nagl/openff/nagl/nn/_dataset.py:212: UserWarning: Conformer geometry is expected to be in angstrom\n",
      "  warnings.warn(\n",
      "/Users/lily/pydev/openff-nagl/openff/nagl/nn/_dataset.py:212: UserWarning: Conformer geometry is expected to be in angstrom\n",
      "  warnings.warn(\n",
      "/Users/lily/pydev/openff-nagl/openff/nagl/nn/_dataset.py:212: UserWarning: Conformer geometry is expected to be in angstrom\n",
      "  warnings.warn(\n",
      "/Users/lily/pydev/openff-nagl/openff/nagl/nn/_dataset.py:212: UserWarning: Conformer geometry is expected to be in angstrom\n",
      "  warnings.warn(\n",
      "/Users/lily/pydev/openff-nagl/openff/nagl/nn/_dataset.py:212: UserWarning: Conformer geometry is expected to be in angstrom\n",
      "  warnings.warn(\n",
      "/Users/lily/pydev/openff-nagl/openff/nagl/nn/_dataset.py:212: UserWarning: Conformer geometry is expected to be in angstrom\n",
      "  warnings.warn(\n",
      "/Users/lily/pydev/openff-nagl/openff/nagl/nn/_dataset.py:212: UserWarning: Conformer geometry is expected to be in angstrom\n",
      "  warnings.warn(\n",
      "\n",
      "Featurizing batch:  19%|████▏                 | 123/640 [00:02<00:10, 49.61it/s]\u001b[A/Users/lily/pydev/openff-nagl/openff/nagl/nn/_dataset.py:212: UserWarning: Conformer geometry is expected to be in angstrom\n",
      "  warnings.warn(\n",
      "/Users/lily/pydev/openff-nagl/openff/nagl/nn/_dataset.py:212: UserWarning: Conformer geometry is expected to be in angstrom\n",
      "  warnings.warn(\n",
      "/Users/lily/pydev/openff-nagl/openff/nagl/nn/_dataset.py:212: UserWarning: Conformer geometry is expected to be in angstrom\n",
      "  warnings.warn(\n",
      "/Users/lily/pydev/openff-nagl/openff/nagl/nn/_dataset.py:212: UserWarning: Conformer geometry is expected to be in angstrom\n",
      "  warnings.warn(\n",
      "/Users/lily/pydev/openff-nagl/openff/nagl/nn/_dataset.py:212: UserWarning: Conformer geometry is expected to be in angstrom\n",
      "  warnings.warn(\n",
      "/Users/lily/pydev/openff-nagl/openff/nagl/nn/_dataset.py:212: UserWarning: Conformer geometry is expected to be in angstrom\n",
      "  warnings.warn(\n",
      "/Users/lily/pydev/openff-nagl/openff/nagl/nn/_dataset.py:212: UserWarning: Conformer geometry is expected to be in angstrom\n",
      "  warnings.warn(\n",
      "/Users/lily/pydev/openff-nagl/openff/nagl/nn/_dataset.py:212: UserWarning: Conformer geometry is expected to be in angstrom\n",
      "  warnings.warn(\n",
      "/Users/lily/pydev/openff-nagl/openff/nagl/nn/_dataset.py:212: UserWarning: Conformer geometry is expected to be in angstrom\n",
      "  warnings.warn(\n",
      "/Users/lily/pydev/openff-nagl/openff/nagl/nn/_dataset.py:212: UserWarning: Conformer geometry is expected to be in angstrom\n",
      "  warnings.warn(\n",
      "\n",
      "Featurizing batch:  21%|████▌                 | 133/640 [00:02<00:08, 61.61it/s]\u001b[A/Users/lily/pydev/openff-nagl/openff/nagl/nn/_dataset.py:212: UserWarning: Conformer geometry is expected to be in angstrom\n",
      "  warnings.warn(\n",
      "/Users/lily/pydev/openff-nagl/openff/nagl/nn/_dataset.py:212: UserWarning: Conformer geometry is expected to be in angstrom\n",
      "  warnings.warn(\n",
      "/Users/lily/pydev/openff-nagl/openff/nagl/nn/_dataset.py:212: UserWarning: Conformer geometry is expected to be in angstrom\n",
      "  warnings.warn(\n",
      "/Users/lily/pydev/openff-nagl/openff/nagl/nn/_dataset.py:212: UserWarning: Conformer geometry is expected to be in angstrom\n",
      "  warnings.warn(\n",
      "/Users/lily/pydev/openff-nagl/openff/nagl/nn/_dataset.py:212: UserWarning: Conformer geometry is expected to be in angstrom\n",
      "  warnings.warn(\n",
      "/Users/lily/pydev/openff-nagl/openff/nagl/nn/_dataset.py:212: UserWarning: Conformer geometry is expected to be in angstrom\n",
      "  warnings.warn(\n",
      "/Users/lily/pydev/openff-nagl/openff/nagl/nn/_dataset.py:212: UserWarning: Conformer geometry is expected to be in angstrom\n",
      "  warnings.warn(\n",
      "/Users/lily/pydev/openff-nagl/openff/nagl/nn/_dataset.py:212: UserWarning: Conformer geometry is expected to be in angstrom\n",
      "  warnings.warn(\n",
      "/Users/lily/pydev/openff-nagl/openff/nagl/nn/_dataset.py:212: UserWarning: Conformer geometry is expected to be in angstrom\n",
      "  warnings.warn(\n",
      "\n",
      "Featurizing batch:  22%|████▉                 | 142/640 [00:02<00:07, 67.74it/s]\u001b[A/Users/lily/pydev/openff-nagl/openff/nagl/nn/_dataset.py:212: UserWarning: Conformer geometry is expected to be in angstrom\n",
      "  warnings.warn(\n",
      "/Users/lily/pydev/openff-nagl/openff/nagl/nn/_dataset.py:212: UserWarning: Conformer geometry is expected to be in angstrom\n",
      "  warnings.warn(\n",
      "/Users/lily/pydev/openff-nagl/openff/nagl/nn/_dataset.py:212: UserWarning: Conformer geometry is expected to be in angstrom\n",
      "  warnings.warn(\n",
      "/Users/lily/pydev/openff-nagl/openff/nagl/nn/_dataset.py:212: UserWarning: Conformer geometry is expected to be in angstrom\n",
      "  warnings.warn(\n",
      "/Users/lily/pydev/openff-nagl/openff/nagl/nn/_dataset.py:212: UserWarning: Conformer geometry is expected to be in angstrom\n",
      "  warnings.warn(\n",
      "/Users/lily/pydev/openff-nagl/openff/nagl/nn/_dataset.py:212: UserWarning: Conformer geometry is expected to be in angstrom\n",
      "  warnings.warn(\n",
      "/Users/lily/pydev/openff-nagl/openff/nagl/nn/_dataset.py:212: UserWarning: Conformer geometry is expected to be in angstrom\n",
      "  warnings.warn(\n",
      "\n",
      "Featurizing batch:  23%|█████                 | 149/640 [00:02<00:07, 64.78it/s]\u001b[A/Users/lily/pydev/openff-nagl/openff/nagl/nn/_dataset.py:212: UserWarning: Conformer geometry is expected to be in angstrom\n",
      "  warnings.warn(\n",
      "/Users/lily/pydev/openff-nagl/openff/nagl/nn/_dataset.py:212: UserWarning: Conformer geometry is expected to be in angstrom\n",
      "  warnings.warn(\n",
      "/Users/lily/pydev/openff-nagl/openff/nagl/nn/_dataset.py:212: UserWarning: Conformer geometry is expected to be in angstrom\n",
      "  warnings.warn(\n",
      "/Users/lily/pydev/openff-nagl/openff/nagl/nn/_dataset.py:212: UserWarning: Conformer geometry is expected to be in angstrom\n",
      "  warnings.warn(\n",
      "/Users/lily/pydev/openff-nagl/openff/nagl/nn/_dataset.py:212: UserWarning: Conformer geometry is expected to be in angstrom\n",
      "  warnings.warn(\n",
      "/Users/lily/pydev/openff-nagl/openff/nagl/nn/_dataset.py:212: UserWarning: Conformer geometry is expected to be in angstrom\n",
      "  warnings.warn(\n",
      "/Users/lily/pydev/openff-nagl/openff/nagl/nn/_dataset.py:212: UserWarning: Conformer geometry is expected to be in angstrom\n",
      "  warnings.warn(\n",
      "\n",
      "Featurizing batch:  24%|█████▎                | 156/640 [00:02<00:07, 65.63it/s]\u001b[A/Users/lily/pydev/openff-nagl/openff/nagl/nn/_dataset.py:212: UserWarning: Conformer geometry is expected to be in angstrom\n",
      "  warnings.warn(\n",
      "/Users/lily/pydev/openff-nagl/openff/nagl/nn/_dataset.py:212: UserWarning: Conformer geometry is expected to be in angstrom\n",
      "  warnings.warn(\n",
      "/Users/lily/pydev/openff-nagl/openff/nagl/nn/_dataset.py:212: UserWarning: Conformer geometry is expected to be in angstrom\n",
      "  warnings.warn(\n",
      "/Users/lily/pydev/openff-nagl/openff/nagl/nn/_dataset.py:212: UserWarning: Conformer geometry is expected to be in angstrom\n",
      "  warnings.warn(\n",
      "/Users/lily/pydev/openff-nagl/openff/nagl/nn/_dataset.py:212: UserWarning: Conformer geometry is expected to be in angstrom\n",
      "  warnings.warn(\n",
      "/Users/lily/pydev/openff-nagl/openff/nagl/nn/_dataset.py:212: UserWarning: Conformer geometry is expected to be in angstrom\n",
      "  warnings.warn(\n",
      "/Users/lily/pydev/openff-nagl/openff/nagl/nn/_dataset.py:212: UserWarning: Conformer geometry is expected to be in angstrom\n",
      "  warnings.warn(\n",
      "/Users/lily/pydev/openff-nagl/openff/nagl/nn/_dataset.py:212: UserWarning: Conformer geometry is expected to be in angstrom\n",
      "  warnings.warn(\n",
      "\n",
      "Featurizing batch:  26%|█████▋                | 164/640 [00:02<00:06, 68.55it/s]\u001b[A/Users/lily/pydev/openff-nagl/openff/nagl/nn/_dataset.py:212: UserWarning: Conformer geometry is expected to be in angstrom\n",
      "  warnings.warn(\n",
      "/Users/lily/pydev/openff-nagl/openff/nagl/nn/_dataset.py:212: UserWarning: Conformer geometry is expected to be in angstrom\n",
      "  warnings.warn(\n",
      "/Users/lily/pydev/openff-nagl/openff/nagl/nn/_dataset.py:212: UserWarning: Conformer geometry is expected to be in angstrom\n",
      "  warnings.warn(\n",
      "/Users/lily/pydev/openff-nagl/openff/nagl/nn/_dataset.py:212: UserWarning: Conformer geometry is expected to be in angstrom\n",
      "  warnings.warn(\n",
      "/Users/lily/pydev/openff-nagl/openff/nagl/nn/_dataset.py:212: UserWarning: Conformer geometry is expected to be in angstrom\n",
      "  warnings.warn(\n",
      "/Users/lily/pydev/openff-nagl/openff/nagl/nn/_dataset.py:212: UserWarning: Conformer geometry is expected to be in angstrom\n",
      "  warnings.warn(\n",
      "/Users/lily/pydev/openff-nagl/openff/nagl/nn/_dataset.py:212: UserWarning: Conformer geometry is expected to be in angstrom\n",
      "  warnings.warn(\n",
      "/Users/lily/pydev/openff-nagl/openff/nagl/nn/_dataset.py:212: UserWarning: Conformer geometry is expected to be in angstrom\n",
      "  warnings.warn(\n",
      "\n",
      "Featurizing batch:  27%|█████▉                | 172/640 [00:02<00:06, 68.78it/s]\u001b[A/Users/lily/pydev/openff-nagl/openff/nagl/nn/_dataset.py:212: UserWarning: Conformer geometry is expected to be in angstrom\n",
      "  warnings.warn(\n",
      "/Users/lily/pydev/openff-nagl/openff/nagl/nn/_dataset.py:212: UserWarning: Conformer geometry is expected to be in angstrom\n",
      "  warnings.warn(\n",
      "/Users/lily/pydev/openff-nagl/openff/nagl/nn/_dataset.py:212: UserWarning: Conformer geometry is expected to be in angstrom\n",
      "  warnings.warn(\n",
      "/Users/lily/pydev/openff-nagl/openff/nagl/nn/_dataset.py:212: UserWarning: Conformer geometry is expected to be in angstrom\n",
      "  warnings.warn(\n",
      "/Users/lily/pydev/openff-nagl/openff/nagl/nn/_dataset.py:212: UserWarning: Conformer geometry is expected to be in angstrom\n",
      "  warnings.warn(\n",
      "/Users/lily/pydev/openff-nagl/openff/nagl/nn/_dataset.py:212: UserWarning: Conformer geometry is expected to be in angstrom\n",
      "  warnings.warn(\n",
      "/Users/lily/pydev/openff-nagl/openff/nagl/nn/_dataset.py:212: UserWarning: Conformer geometry is expected to be in angstrom\n",
      "  warnings.warn(\n",
      "/Users/lily/pydev/openff-nagl/openff/nagl/nn/_dataset.py:212: UserWarning: Conformer geometry is expected to be in angstrom\n",
      "  warnings.warn(\n",
      "\n",
      "Featurizing batch:  28%|██████▏               | 180/640 [00:03<00:06, 71.55it/s]\u001b[A/Users/lily/pydev/openff-nagl/openff/nagl/nn/_dataset.py:212: UserWarning: Conformer geometry is expected to be in angstrom\n",
      "  warnings.warn(\n",
      "/Users/lily/pydev/openff-nagl/openff/nagl/nn/_dataset.py:212: UserWarning: Conformer geometry is expected to be in angstrom\n",
      "  warnings.warn(\n",
      "/Users/lily/pydev/openff-nagl/openff/nagl/nn/_dataset.py:212: UserWarning: Conformer geometry is expected to be in angstrom\n",
      "  warnings.warn(\n",
      "/Users/lily/pydev/openff-nagl/openff/nagl/nn/_dataset.py:212: UserWarning: Conformer geometry is expected to be in angstrom\n",
      "  warnings.warn(\n",
      "/Users/lily/pydev/openff-nagl/openff/nagl/nn/_dataset.py:212: UserWarning: Conformer geometry is expected to be in angstrom\n",
      "  warnings.warn(\n",
      "/Users/lily/pydev/openff-nagl/openff/nagl/nn/_dataset.py:212: UserWarning: Conformer geometry is expected to be in angstrom\n",
      "  warnings.warn(\n",
      "/Users/lily/pydev/openff-nagl/openff/nagl/nn/_dataset.py:212: UserWarning: Conformer geometry is expected to be in angstrom\n",
      "  warnings.warn(\n",
      "/Users/lily/pydev/openff-nagl/openff/nagl/nn/_dataset.py:212: UserWarning: Conformer geometry is expected to be in angstrom\n",
      "  warnings.warn(\n",
      "\n",
      "Featurizing batch:  29%|██████▍               | 188/640 [00:03<00:06, 72.67it/s]\u001b[A/Users/lily/pydev/openff-nagl/openff/nagl/nn/_dataset.py:212: UserWarning: Conformer geometry is expected to be in angstrom\n",
      "  warnings.warn(\n",
      "/Users/lily/pydev/openff-nagl/openff/nagl/nn/_dataset.py:212: UserWarning: Conformer geometry is expected to be in angstrom\n",
      "  warnings.warn(\n",
      "/Users/lily/pydev/openff-nagl/openff/nagl/nn/_dataset.py:212: UserWarning: Conformer geometry is expected to be in angstrom\n",
      "  warnings.warn(\n",
      "/Users/lily/pydev/openff-nagl/openff/nagl/nn/_dataset.py:212: UserWarning: Conformer geometry is expected to be in angstrom\n",
      "  warnings.warn(\n",
      "/Users/lily/pydev/openff-nagl/openff/nagl/nn/_dataset.py:212: UserWarning: Conformer geometry is expected to be in angstrom\n",
      "  warnings.warn(\n",
      "/Users/lily/pydev/openff-nagl/openff/nagl/nn/_dataset.py:212: UserWarning: Conformer geometry is expected to be in angstrom\n",
      "  warnings.warn(\n",
      "/Users/lily/pydev/openff-nagl/openff/nagl/nn/_dataset.py:212: UserWarning: Conformer geometry is expected to be in angstrom\n",
      "  warnings.warn(\n",
      "/Users/lily/pydev/openff-nagl/openff/nagl/nn/_dataset.py:212: UserWarning: Conformer geometry is expected to be in angstrom\n",
      "  warnings.warn(\n",
      "/Users/lily/pydev/openff-nagl/openff/nagl/nn/_dataset.py:212: UserWarning: Conformer geometry is expected to be in angstrom\n",
      "  warnings.warn(\n",
      "/Users/lily/pydev/openff-nagl/openff/nagl/nn/_dataset.py:212: UserWarning: Conformer geometry is expected to be in angstrom\n",
      "  warnings.warn(\n",
      "\n",
      "Featurizing batch:  31%|██████▊               | 198/640 [00:03<00:05, 80.17it/s]\u001b[A/Users/lily/pydev/openff-nagl/openff/nagl/nn/_dataset.py:212: UserWarning: Conformer geometry is expected to be in angstrom\n",
      "  warnings.warn(\n",
      "/Users/lily/pydev/openff-nagl/openff/nagl/nn/_dataset.py:212: UserWarning: Conformer geometry is expected to be in angstrom\n",
      "  warnings.warn(\n",
      "/Users/lily/pydev/openff-nagl/openff/nagl/nn/_dataset.py:212: UserWarning: Conformer geometry is expected to be in angstrom\n",
      "  warnings.warn(\n",
      "/Users/lily/pydev/openff-nagl/openff/nagl/nn/_dataset.py:212: UserWarning: Conformer geometry is expected to be in angstrom\n",
      "  warnings.warn(\n",
      "/Users/lily/pydev/openff-nagl/openff/nagl/nn/_dataset.py:212: UserWarning: Conformer geometry is expected to be in angstrom\n",
      "  warnings.warn(\n",
      "/Users/lily/pydev/openff-nagl/openff/nagl/nn/_dataset.py:212: UserWarning: Conformer geometry is expected to be in angstrom\n",
      "  warnings.warn(\n",
      "/Users/lily/pydev/openff-nagl/openff/nagl/nn/_dataset.py:212: UserWarning: Conformer geometry is expected to be in angstrom\n",
      "  warnings.warn(\n",
      "/Users/lily/pydev/openff-nagl/openff/nagl/nn/_dataset.py:212: UserWarning: Conformer geometry is expected to be in angstrom\n",
      "  warnings.warn(\n",
      "/Users/lily/pydev/openff-nagl/openff/nagl/nn/_dataset.py:212: UserWarning: Conformer geometry is expected to be in angstrom\n",
      "  warnings.warn(\n",
      "\n",
      "Featurizing batch:  32%|███████               | 207/640 [00:03<00:05, 77.59it/s]\u001b[A/Users/lily/pydev/openff-nagl/openff/nagl/nn/_dataset.py:212: UserWarning: Conformer geometry is expected to be in angstrom\n",
      "  warnings.warn(\n",
      "/Users/lily/pydev/openff-nagl/openff/nagl/nn/_dataset.py:212: UserWarning: Conformer geometry is expected to be in angstrom\n",
      "  warnings.warn(\n",
      "/Users/lily/pydev/openff-nagl/openff/nagl/nn/_dataset.py:212: UserWarning: Conformer geometry is expected to be in angstrom\n",
      "  warnings.warn(\n",
      "/Users/lily/pydev/openff-nagl/openff/nagl/nn/_dataset.py:212: UserWarning: Conformer geometry is expected to be in angstrom\n",
      "  warnings.warn(\n",
      "/Users/lily/pydev/openff-nagl/openff/nagl/nn/_dataset.py:212: UserWarning: Conformer geometry is expected to be in angstrom\n",
      "  warnings.warn(\n",
      "/Users/lily/pydev/openff-nagl/openff/nagl/nn/_dataset.py:212: UserWarning: Conformer geometry is expected to be in angstrom\n",
      "  warnings.warn(\n",
      "/Users/lily/pydev/openff-nagl/openff/nagl/nn/_dataset.py:212: UserWarning: Conformer geometry is expected to be in angstrom\n",
      "  warnings.warn(\n",
      "/Users/lily/pydev/openff-nagl/openff/nagl/nn/_dataset.py:212: UserWarning: Conformer geometry is expected to be in angstrom\n",
      "  warnings.warn(\n",
      "\n",
      "Featurizing batch:  34%|███████▍              | 215/640 [00:03<00:05, 78.02it/s]\u001b[A/Users/lily/pydev/openff-nagl/openff/nagl/nn/_dataset.py:212: UserWarning: Conformer geometry is expected to be in angstrom\n",
      "  warnings.warn(\n",
      "/Users/lily/pydev/openff-nagl/openff/nagl/nn/_dataset.py:212: UserWarning: Conformer geometry is expected to be in angstrom\n",
      "  warnings.warn(\n",
      "/Users/lily/pydev/openff-nagl/openff/nagl/nn/_dataset.py:212: UserWarning: Conformer geometry is expected to be in angstrom\n",
      "  warnings.warn(\n",
      "/Users/lily/pydev/openff-nagl/openff/nagl/nn/_dataset.py:212: UserWarning: Conformer geometry is expected to be in angstrom\n",
      "  warnings.warn(\n",
      "/Users/lily/pydev/openff-nagl/openff/nagl/nn/_dataset.py:212: UserWarning: Conformer geometry is expected to be in angstrom\n",
      "  warnings.warn(\n",
      "/Users/lily/pydev/openff-nagl/openff/nagl/nn/_dataset.py:212: UserWarning: Conformer geometry is expected to be in angstrom\n",
      "  warnings.warn(\n",
      "/Users/lily/pydev/openff-nagl/openff/nagl/nn/_dataset.py:212: UserWarning: Conformer geometry is expected to be in angstrom\n",
      "  warnings.warn(\n",
      "/Users/lily/pydev/openff-nagl/openff/nagl/nn/_dataset.py:212: UserWarning: Conformer geometry is expected to be in angstrom\n",
      "  warnings.warn(\n",
      "/Users/lily/pydev/openff-nagl/openff/nagl/nn/_dataset.py:212: UserWarning: Conformer geometry is expected to be in angstrom\n",
      "  warnings.warn(\n",
      "\n",
      "Featurizing batch:  35%|███████▋              | 224/640 [00:03<00:05, 80.70it/s]\u001b[A/Users/lily/pydev/openff-nagl/openff/nagl/nn/_dataset.py:212: UserWarning: Conformer geometry is expected to be in angstrom\n",
      "  warnings.warn(\n",
      "/Users/lily/pydev/openff-nagl/openff/nagl/nn/_dataset.py:212: UserWarning: Conformer geometry is expected to be in angstrom\n",
      "  warnings.warn(\n",
      "/Users/lily/pydev/openff-nagl/openff/nagl/nn/_dataset.py:212: UserWarning: Conformer geometry is expected to be in angstrom\n",
      "  warnings.warn(\n",
      "/Users/lily/pydev/openff-nagl/openff/nagl/nn/_dataset.py:212: UserWarning: Conformer geometry is expected to be in angstrom\n",
      "  warnings.warn(\n",
      "/Users/lily/pydev/openff-nagl/openff/nagl/nn/_dataset.py:212: UserWarning: Conformer geometry is expected to be in angstrom\n",
      "  warnings.warn(\n",
      "/Users/lily/pydev/openff-nagl/openff/nagl/nn/_dataset.py:212: UserWarning: Conformer geometry is expected to be in angstrom\n",
      "  warnings.warn(\n",
      "/Users/lily/pydev/openff-nagl/openff/nagl/nn/_dataset.py:212: UserWarning: Conformer geometry is expected to be in angstrom\n",
      "  warnings.warn(\n",
      "/Users/lily/pydev/openff-nagl/openff/nagl/nn/_dataset.py:212: UserWarning: Conformer geometry is expected to be in angstrom\n",
      "  warnings.warn(\n",
      "/Users/lily/pydev/openff-nagl/openff/nagl/nn/_dataset.py:212: UserWarning: Conformer geometry is expected to be in angstrom\n",
      "  warnings.warn(\n",
      "\n",
      "Featurizing batch:  36%|████████              | 233/640 [00:03<00:04, 82.84it/s]\u001b[A/Users/lily/pydev/openff-nagl/openff/nagl/nn/_dataset.py:212: UserWarning: Conformer geometry is expected to be in angstrom\n",
      "  warnings.warn(\n",
      "/Users/lily/pydev/openff-nagl/openff/nagl/nn/_dataset.py:212: UserWarning: Conformer geometry is expected to be in angstrom\n",
      "  warnings.warn(\n",
      "/Users/lily/pydev/openff-nagl/openff/nagl/nn/_dataset.py:212: UserWarning: Conformer geometry is expected to be in angstrom\n",
      "  warnings.warn(\n",
      "/Users/lily/pydev/openff-nagl/openff/nagl/nn/_dataset.py:212: UserWarning: Conformer geometry is expected to be in angstrom\n",
      "  warnings.warn(\n",
      "/Users/lily/pydev/openff-nagl/openff/nagl/nn/_dataset.py:212: UserWarning: Conformer geometry is expected to be in angstrom\n",
      "  warnings.warn(\n",
      "/Users/lily/pydev/openff-nagl/openff/nagl/nn/_dataset.py:212: UserWarning: Conformer geometry is expected to be in angstrom\n",
      "  warnings.warn(\n",
      "/Users/lily/pydev/openff-nagl/openff/nagl/nn/_dataset.py:212: UserWarning: Conformer geometry is expected to be in angstrom\n",
      "  warnings.warn(\n",
      "/Users/lily/pydev/openff-nagl/openff/nagl/nn/_dataset.py:212: UserWarning: Conformer geometry is expected to be in angstrom\n",
      "  warnings.warn(\n",
      "/Users/lily/pydev/openff-nagl/openff/nagl/nn/_dataset.py:212: UserWarning: Conformer geometry is expected to be in angstrom\n",
      "  warnings.warn(\n",
      "\n",
      "Featurizing batch:  38%|████████▎             | 242/640 [00:03<00:04, 81.05it/s]\u001b[A/Users/lily/pydev/openff-nagl/openff/nagl/nn/_dataset.py:212: UserWarning: Conformer geometry is expected to be in angstrom\n",
      "  warnings.warn(\n",
      "/Users/lily/pydev/openff-nagl/openff/nagl/nn/_dataset.py:212: UserWarning: Conformer geometry is expected to be in angstrom\n",
      "  warnings.warn(\n",
      "/Users/lily/pydev/openff-nagl/openff/nagl/nn/_dataset.py:212: UserWarning: Conformer geometry is expected to be in angstrom\n",
      "  warnings.warn(\n",
      "/Users/lily/pydev/openff-nagl/openff/nagl/nn/_dataset.py:212: UserWarning: Conformer geometry is expected to be in angstrom\n",
      "  warnings.warn(\n",
      "/Users/lily/pydev/openff-nagl/openff/nagl/nn/_dataset.py:212: UserWarning: Conformer geometry is expected to be in angstrom\n",
      "  warnings.warn(\n",
      "/Users/lily/pydev/openff-nagl/openff/nagl/nn/_dataset.py:212: UserWarning: Conformer geometry is expected to be in angstrom\n",
      "  warnings.warn(\n",
      "/Users/lily/pydev/openff-nagl/openff/nagl/nn/_dataset.py:212: UserWarning: Conformer geometry is expected to be in angstrom\n",
      "  warnings.warn(\n",
      "/Users/lily/pydev/openff-nagl/openff/nagl/nn/_dataset.py:212: UserWarning: Conformer geometry is expected to be in angstrom\n",
      "  warnings.warn(\n",
      "/Users/lily/pydev/openff-nagl/openff/nagl/nn/_dataset.py:212: UserWarning: Conformer geometry is expected to be in angstrom\n",
      "  warnings.warn(\n",
      "/Users/lily/pydev/openff-nagl/openff/nagl/nn/_dataset.py:212: UserWarning: Conformer geometry is expected to be in angstrom\n",
      "  warnings.warn(\n",
      "\n",
      "Featurizing batch:  39%|████████▋             | 252/640 [00:03<00:04, 85.74it/s]\u001b[A/Users/lily/pydev/openff-nagl/openff/nagl/nn/_dataset.py:212: UserWarning: Conformer geometry is expected to be in angstrom\n",
      "  warnings.warn(\n",
      "/Users/lily/pydev/openff-nagl/openff/nagl/nn/_dataset.py:212: UserWarning: Conformer geometry is expected to be in angstrom\n",
      "  warnings.warn(\n",
      "/Users/lily/pydev/openff-nagl/openff/nagl/nn/_dataset.py:212: UserWarning: Conformer geometry is expected to be in angstrom\n",
      "  warnings.warn(\n",
      "/Users/lily/pydev/openff-nagl/openff/nagl/nn/_dataset.py:212: UserWarning: Conformer geometry is expected to be in angstrom\n",
      "  warnings.warn(\n",
      "/Users/lily/pydev/openff-nagl/openff/nagl/nn/_dataset.py:212: UserWarning: Conformer geometry is expected to be in angstrom\n",
      "  warnings.warn(\n",
      "/Users/lily/pydev/openff-nagl/openff/nagl/nn/_dataset.py:212: UserWarning: Conformer geometry is expected to be in angstrom\n",
      "  warnings.warn(\n",
      "/Users/lily/pydev/openff-nagl/openff/nagl/nn/_dataset.py:212: UserWarning: Conformer geometry is expected to be in angstrom\n",
      "  warnings.warn(\n",
      "/Users/lily/pydev/openff-nagl/openff/nagl/nn/_dataset.py:212: UserWarning: Conformer geometry is expected to be in angstrom\n",
      "  warnings.warn(\n",
      "/Users/lily/pydev/openff-nagl/openff/nagl/nn/_dataset.py:212: UserWarning: Conformer geometry is expected to be in angstrom\n",
      "  warnings.warn(\n",
      "\n",
      "Featurizing batch:  41%|████████▉             | 261/640 [00:03<00:04, 84.27it/s]\u001b[A/Users/lily/pydev/openff-nagl/openff/nagl/nn/_dataset.py:212: UserWarning: Conformer geometry is expected to be in angstrom\n",
      "  warnings.warn(\n",
      "/Users/lily/pydev/openff-nagl/openff/nagl/nn/_dataset.py:212: UserWarning: Conformer geometry is expected to be in angstrom\n",
      "  warnings.warn(\n",
      "/Users/lily/pydev/openff-nagl/openff/nagl/nn/_dataset.py:212: UserWarning: Conformer geometry is expected to be in angstrom\n",
      "  warnings.warn(\n",
      "/Users/lily/pydev/openff-nagl/openff/nagl/nn/_dataset.py:212: UserWarning: Conformer geometry is expected to be in angstrom\n",
      "  warnings.warn(\n",
      "/Users/lily/pydev/openff-nagl/openff/nagl/nn/_dataset.py:212: UserWarning: Conformer geometry is expected to be in angstrom\n",
      "  warnings.warn(\n",
      "/Users/lily/pydev/openff-nagl/openff/nagl/nn/_dataset.py:212: UserWarning: Conformer geometry is expected to be in angstrom\n",
      "  warnings.warn(\n",
      "/Users/lily/pydev/openff-nagl/openff/nagl/nn/_dataset.py:212: UserWarning: Conformer geometry is expected to be in angstrom\n",
      "  warnings.warn(\n",
      "/Users/lily/pydev/openff-nagl/openff/nagl/nn/_dataset.py:212: UserWarning: Conformer geometry is expected to be in angstrom\n",
      "  warnings.warn(\n",
      "/Users/lily/pydev/openff-nagl/openff/nagl/nn/_dataset.py:212: UserWarning: Conformer geometry is expected to be in angstrom\n",
      "  warnings.warn(\n",
      "\n",
      "Featurizing batch:  42%|█████████▎            | 270/640 [00:04<00:04, 76.61it/s]\u001b[A/Users/lily/pydev/openff-nagl/openff/nagl/nn/_dataset.py:212: UserWarning: Conformer geometry is expected to be in angstrom\n",
      "  warnings.warn(\n",
      "/Users/lily/pydev/openff-nagl/openff/nagl/nn/_dataset.py:212: UserWarning: Conformer geometry is expected to be in angstrom\n",
      "  warnings.warn(\n",
      "/Users/lily/pydev/openff-nagl/openff/nagl/nn/_dataset.py:212: UserWarning: Conformer geometry is expected to be in angstrom\n",
      "  warnings.warn(\n",
      "/Users/lily/pydev/openff-nagl/openff/nagl/nn/_dataset.py:212: UserWarning: Conformer geometry is expected to be in angstrom\n",
      "  warnings.warn(\n",
      "/Users/lily/pydev/openff-nagl/openff/nagl/nn/_dataset.py:212: UserWarning: Conformer geometry is expected to be in angstrom\n",
      "  warnings.warn(\n",
      "/Users/lily/pydev/openff-nagl/openff/nagl/nn/_dataset.py:212: UserWarning: Conformer geometry is expected to be in angstrom\n",
      "  warnings.warn(\n",
      "/Users/lily/pydev/openff-nagl/openff/nagl/nn/_dataset.py:212: UserWarning: Conformer geometry is expected to be in angstrom\n",
      "  warnings.warn(\n",
      "/Users/lily/pydev/openff-nagl/openff/nagl/nn/_dataset.py:212: UserWarning: Conformer geometry is expected to be in angstrom\n",
      "  warnings.warn(\n",
      "/Users/lily/pydev/openff-nagl/openff/nagl/nn/_dataset.py:212: UserWarning: Conformer geometry is expected to be in angstrom\n",
      "  warnings.warn(\n",
      "/Users/lily/pydev/openff-nagl/openff/nagl/nn/_dataset.py:212: UserWarning: Conformer geometry is expected to be in angstrom\n",
      "  warnings.warn(\n",
      "\n",
      "Featurizing batch:  44%|█████████▋            | 280/640 [00:04<00:04, 82.07it/s]\u001b[A/Users/lily/pydev/openff-nagl/openff/nagl/nn/_dataset.py:212: UserWarning: Conformer geometry is expected to be in angstrom\n",
      "  warnings.warn(\n",
      "/Users/lily/pydev/openff-nagl/openff/nagl/nn/_dataset.py:212: UserWarning: Conformer geometry is expected to be in angstrom\n",
      "  warnings.warn(\n",
      "/Users/lily/pydev/openff-nagl/openff/nagl/nn/_dataset.py:212: UserWarning: Conformer geometry is expected to be in angstrom\n",
      "  warnings.warn(\n",
      "/Users/lily/pydev/openff-nagl/openff/nagl/nn/_dataset.py:212: UserWarning: Conformer geometry is expected to be in angstrom\n",
      "  warnings.warn(\n",
      "/Users/lily/pydev/openff-nagl/openff/nagl/nn/_dataset.py:212: UserWarning: Conformer geometry is expected to be in angstrom\n",
      "  warnings.warn(\n",
      "/Users/lily/pydev/openff-nagl/openff/nagl/nn/_dataset.py:212: UserWarning: Conformer geometry is expected to be in angstrom\n",
      "  warnings.warn(\n",
      "/Users/lily/pydev/openff-nagl/openff/nagl/nn/_dataset.py:212: UserWarning: Conformer geometry is expected to be in angstrom\n",
      "  warnings.warn(\n",
      "/Users/lily/pydev/openff-nagl/openff/nagl/nn/_dataset.py:212: UserWarning: Conformer geometry is expected to be in angstrom\n",
      "  warnings.warn(\n",
      "/Users/lily/pydev/openff-nagl/openff/nagl/nn/_dataset.py:212: UserWarning: Conformer geometry is expected to be in angstrom\n",
      "  warnings.warn(\n",
      "\n",
      "Featurizing batch:  45%|█████████▉            | 289/640 [00:04<00:04, 83.01it/s]\u001b[A/Users/lily/pydev/openff-nagl/openff/nagl/nn/_dataset.py:212: UserWarning: Conformer geometry is expected to be in angstrom\n",
      "  warnings.warn(\n",
      "/Users/lily/pydev/openff-nagl/openff/nagl/nn/_dataset.py:212: UserWarning: Conformer geometry is expected to be in angstrom\n",
      "  warnings.warn(\n",
      "/Users/lily/pydev/openff-nagl/openff/nagl/nn/_dataset.py:212: UserWarning: Conformer geometry is expected to be in angstrom\n",
      "  warnings.warn(\n",
      "/Users/lily/pydev/openff-nagl/openff/nagl/nn/_dataset.py:212: UserWarning: Conformer geometry is expected to be in angstrom\n",
      "  warnings.warn(\n",
      "/Users/lily/pydev/openff-nagl/openff/nagl/nn/_dataset.py:212: UserWarning: Conformer geometry is expected to be in angstrom\n",
      "  warnings.warn(\n",
      "/Users/lily/pydev/openff-nagl/openff/nagl/nn/_dataset.py:212: UserWarning: Conformer geometry is expected to be in angstrom\n",
      "  warnings.warn(\n",
      "/Users/lily/pydev/openff-nagl/openff/nagl/nn/_dataset.py:212: UserWarning: Conformer geometry is expected to be in angstrom\n",
      "  warnings.warn(\n",
      "/Users/lily/pydev/openff-nagl/openff/nagl/nn/_dataset.py:212: UserWarning: Conformer geometry is expected to be in angstrom\n",
      "  warnings.warn(\n",
      "/Users/lily/pydev/openff-nagl/openff/nagl/nn/_dataset.py:212: UserWarning: Conformer geometry is expected to be in angstrom\n",
      "  warnings.warn(\n",
      "\n",
      "Featurizing batch:  47%|██████████▏           | 298/640 [00:04<00:04, 83.30it/s]\u001b[A/Users/lily/pydev/openff-nagl/openff/nagl/nn/_dataset.py:212: UserWarning: Conformer geometry is expected to be in angstrom\n",
      "  warnings.warn(\n",
      "/Users/lily/pydev/openff-nagl/openff/nagl/nn/_dataset.py:212: UserWarning: Conformer geometry is expected to be in angstrom\n",
      "  warnings.warn(\n",
      "/Users/lily/pydev/openff-nagl/openff/nagl/nn/_dataset.py:212: UserWarning: Conformer geometry is expected to be in angstrom\n",
      "  warnings.warn(\n",
      "/Users/lily/pydev/openff-nagl/openff/nagl/nn/_dataset.py:212: UserWarning: Conformer geometry is expected to be in angstrom\n",
      "  warnings.warn(\n",
      "/Users/lily/pydev/openff-nagl/openff/nagl/nn/_dataset.py:212: UserWarning: Conformer geometry is expected to be in angstrom\n",
      "  warnings.warn(\n",
      "/Users/lily/pydev/openff-nagl/openff/nagl/nn/_dataset.py:212: UserWarning: Conformer geometry is expected to be in angstrom\n",
      "  warnings.warn(\n",
      "/Users/lily/pydev/openff-nagl/openff/nagl/nn/_dataset.py:212: UserWarning: Conformer geometry is expected to be in angstrom\n",
      "  warnings.warn(\n",
      "/Users/lily/pydev/openff-nagl/openff/nagl/nn/_dataset.py:212: UserWarning: Conformer geometry is expected to be in angstrom\n",
      "  warnings.warn(\n",
      "/Users/lily/pydev/openff-nagl/openff/nagl/nn/_dataset.py:212: UserWarning: Conformer geometry is expected to be in angstrom\n",
      "  warnings.warn(\n",
      "\n",
      "Featurizing batch:  48%|██████████▌           | 307/640 [00:04<00:03, 84.35it/s]\u001b[A/Users/lily/pydev/openff-nagl/openff/nagl/nn/_dataset.py:212: UserWarning: Conformer geometry is expected to be in angstrom\n",
      "  warnings.warn(\n",
      "/Users/lily/pydev/openff-nagl/openff/nagl/nn/_dataset.py:212: UserWarning: Conformer geometry is expected to be in angstrom\n",
      "  warnings.warn(\n",
      "/Users/lily/pydev/openff-nagl/openff/nagl/nn/_dataset.py:212: UserWarning: Conformer geometry is expected to be in angstrom\n",
      "  warnings.warn(\n",
      "/Users/lily/pydev/openff-nagl/openff/nagl/nn/_dataset.py:212: UserWarning: Conformer geometry is expected to be in angstrom\n",
      "  warnings.warn(\n",
      "/Users/lily/pydev/openff-nagl/openff/nagl/nn/_dataset.py:212: UserWarning: Conformer geometry is expected to be in angstrom\n",
      "  warnings.warn(\n",
      "/Users/lily/pydev/openff-nagl/openff/nagl/nn/_dataset.py:212: UserWarning: Conformer geometry is expected to be in angstrom\n",
      "  warnings.warn(\n",
      "/Users/lily/pydev/openff-nagl/openff/nagl/nn/_dataset.py:212: UserWarning: Conformer geometry is expected to be in angstrom\n",
      "  warnings.warn(\n",
      "/Users/lily/pydev/openff-nagl/openff/nagl/nn/_dataset.py:212: UserWarning: Conformer geometry is expected to be in angstrom\n",
      "  warnings.warn(\n",
      "/Users/lily/pydev/openff-nagl/openff/nagl/nn/_dataset.py:212: UserWarning: Conformer geometry is expected to be in angstrom\n",
      "  warnings.warn(\n",
      "\n",
      "Featurizing batch:  49%|██████████▊           | 316/640 [00:04<00:05, 56.88it/s]\u001b[A/Users/lily/pydev/openff-nagl/openff/nagl/nn/_dataset.py:212: UserWarning: Conformer geometry is expected to be in angstrom\n",
      "  warnings.warn(\n",
      "/Users/lily/pydev/openff-nagl/openff/nagl/nn/_dataset.py:212: UserWarning: Conformer geometry is expected to be in angstrom\n",
      "  warnings.warn(\n",
      "/Users/lily/pydev/openff-nagl/openff/nagl/nn/_dataset.py:212: UserWarning: Conformer geometry is expected to be in angstrom\n",
      "  warnings.warn(\n",
      "/Users/lily/pydev/openff-nagl/openff/nagl/nn/_dataset.py:212: UserWarning: Conformer geometry is expected to be in angstrom\n",
      "  warnings.warn(\n",
      "/Users/lily/pydev/openff-nagl/openff/nagl/nn/_dataset.py:212: UserWarning: Conformer geometry is expected to be in angstrom\n",
      "  warnings.warn(\n",
      "/Users/lily/pydev/openff-nagl/openff/nagl/nn/_dataset.py:212: UserWarning: Conformer geometry is expected to be in angstrom\n",
      "  warnings.warn(\n",
      "/Users/lily/pydev/openff-nagl/openff/nagl/nn/_dataset.py:212: UserWarning: Conformer geometry is expected to be in angstrom\n",
      "  warnings.warn(\n",
      "\n",
      "Featurizing batch:  50%|███████████           | 323/640 [00:04<00:05, 54.04it/s]\u001b[A/Users/lily/pydev/openff-nagl/openff/nagl/nn/_dataset.py:212: UserWarning: Conformer geometry is expected to be in angstrom\n",
      "  warnings.warn(\n",
      "/Users/lily/pydev/openff-nagl/openff/nagl/nn/_dataset.py:212: UserWarning: Conformer geometry is expected to be in angstrom\n",
      "  warnings.warn(\n",
      "/Users/lily/pydev/openff-nagl/openff/nagl/nn/_dataset.py:212: UserWarning: Conformer geometry is expected to be in angstrom\n",
      "  warnings.warn(\n",
      "/Users/lily/pydev/openff-nagl/openff/nagl/nn/_dataset.py:212: UserWarning: Conformer geometry is expected to be in angstrom\n",
      "  warnings.warn(\n",
      "/Users/lily/pydev/openff-nagl/openff/nagl/nn/_dataset.py:212: UserWarning: Conformer geometry is expected to be in angstrom\n",
      "  warnings.warn(\n",
      "/Users/lily/pydev/openff-nagl/openff/nagl/nn/_dataset.py:212: UserWarning: Conformer geometry is expected to be in angstrom\n",
      "  warnings.warn(\n",
      "/Users/lily/pydev/openff-nagl/openff/nagl/nn/_dataset.py:212: UserWarning: Conformer geometry is expected to be in angstrom\n",
      "  warnings.warn(\n",
      "\n",
      "Featurizing batch:  52%|███████████▎          | 330/640 [00:05<00:05, 57.20it/s]\u001b[A/Users/lily/pydev/openff-nagl/openff/nagl/nn/_dataset.py:212: UserWarning: Conformer geometry is expected to be in angstrom\n",
      "  warnings.warn(\n",
      "/Users/lily/pydev/openff-nagl/openff/nagl/nn/_dataset.py:212: UserWarning: Conformer geometry is expected to be in angstrom\n",
      "  warnings.warn(\n",
      "/Users/lily/pydev/openff-nagl/openff/nagl/nn/_dataset.py:212: UserWarning: Conformer geometry is expected to be in angstrom\n",
      "  warnings.warn(\n",
      "/Users/lily/pydev/openff-nagl/openff/nagl/nn/_dataset.py:212: UserWarning: Conformer geometry is expected to be in angstrom\n",
      "  warnings.warn(\n",
      "/Users/lily/pydev/openff-nagl/openff/nagl/nn/_dataset.py:212: UserWarning: Conformer geometry is expected to be in angstrom\n",
      "  warnings.warn(\n",
      "/Users/lily/pydev/openff-nagl/openff/nagl/nn/_dataset.py:212: UserWarning: Conformer geometry is expected to be in angstrom\n",
      "  warnings.warn(\n",
      "/Users/lily/pydev/openff-nagl/openff/nagl/nn/_dataset.py:212: UserWarning: Conformer geometry is expected to be in angstrom\n",
      "  warnings.warn(\n",
      "\n",
      "Featurizing batch:  53%|███████████▌          | 337/640 [00:05<00:05, 53.15it/s]\u001b[A/Users/lily/pydev/openff-nagl/openff/nagl/nn/_dataset.py:212: UserWarning: Conformer geometry is expected to be in angstrom\n",
      "  warnings.warn(\n",
      "/Users/lily/pydev/openff-nagl/openff/nagl/nn/_dataset.py:212: UserWarning: Conformer geometry is expected to be in angstrom\n",
      "  warnings.warn(\n",
      "/Users/lily/pydev/openff-nagl/openff/nagl/nn/_dataset.py:212: UserWarning: Conformer geometry is expected to be in angstrom\n",
      "  warnings.warn(\n",
      "/Users/lily/pydev/openff-nagl/openff/nagl/nn/_dataset.py:212: UserWarning: Conformer geometry is expected to be in angstrom\n",
      "  warnings.warn(\n",
      "/Users/lily/pydev/openff-nagl/openff/nagl/nn/_dataset.py:212: UserWarning: Conformer geometry is expected to be in angstrom\n",
      "  warnings.warn(\n",
      "/Users/lily/pydev/openff-nagl/openff/nagl/nn/_dataset.py:212: UserWarning: Conformer geometry is expected to be in angstrom\n",
      "  warnings.warn(\n",
      "\n",
      "Featurizing batch:  54%|███████████▊          | 343/640 [00:05<00:05, 54.57it/s]\u001b[A/Users/lily/pydev/openff-nagl/openff/nagl/nn/_dataset.py:212: UserWarning: Conformer geometry is expected to be in angstrom\n",
      "  warnings.warn(\n",
      "/Users/lily/pydev/openff-nagl/openff/nagl/nn/_dataset.py:212: UserWarning: Conformer geometry is expected to be in angstrom\n",
      "  warnings.warn(\n",
      "/Users/lily/pydev/openff-nagl/openff/nagl/nn/_dataset.py:212: UserWarning: Conformer geometry is expected to be in angstrom\n",
      "  warnings.warn(\n",
      "/Users/lily/pydev/openff-nagl/openff/nagl/nn/_dataset.py:212: UserWarning: Conformer geometry is expected to be in angstrom\n",
      "  warnings.warn(\n",
      "/Users/lily/pydev/openff-nagl/openff/nagl/nn/_dataset.py:212: UserWarning: Conformer geometry is expected to be in angstrom\n",
      "  warnings.warn(\n",
      "/Users/lily/pydev/openff-nagl/openff/nagl/nn/_dataset.py:212: UserWarning: Conformer geometry is expected to be in angstrom\n",
      "  warnings.warn(\n",
      "/Users/lily/pydev/openff-nagl/openff/nagl/nn/_dataset.py:212: UserWarning: Conformer geometry is expected to be in angstrom\n",
      "  warnings.warn(\n",
      "\n",
      "Featurizing batch:  55%|████████████          | 350/640 [00:05<00:05, 55.04it/s]\u001b[A/Users/lily/pydev/openff-nagl/openff/nagl/nn/_dataset.py:212: UserWarning: Conformer geometry is expected to be in angstrom\n",
      "  warnings.warn(\n",
      "/Users/lily/pydev/openff-nagl/openff/nagl/nn/_dataset.py:212: UserWarning: Conformer geometry is expected to be in angstrom\n",
      "  warnings.warn(\n",
      "/Users/lily/pydev/openff-nagl/openff/nagl/nn/_dataset.py:212: UserWarning: Conformer geometry is expected to be in angstrom\n",
      "  warnings.warn(\n",
      "/Users/lily/pydev/openff-nagl/openff/nagl/nn/_dataset.py:212: UserWarning: Conformer geometry is expected to be in angstrom\n",
      "  warnings.warn(\n",
      "/Users/lily/pydev/openff-nagl/openff/nagl/nn/_dataset.py:212: UserWarning: Conformer geometry is expected to be in angstrom\n",
      "  warnings.warn(\n",
      "/Users/lily/pydev/openff-nagl/openff/nagl/nn/_dataset.py:212: UserWarning: Conformer geometry is expected to be in angstrom\n",
      "  warnings.warn(\n",
      "/Users/lily/pydev/openff-nagl/openff/nagl/nn/_dataset.py:212: UserWarning: Conformer geometry is expected to be in angstrom\n",
      "  warnings.warn(\n",
      "/Users/lily/pydev/openff-nagl/openff/nagl/nn/_dataset.py:212: UserWarning: Conformer geometry is expected to be in angstrom\n",
      "  warnings.warn(\n",
      "/Users/lily/pydev/openff-nagl/openff/nagl/nn/_dataset.py:212: UserWarning: Conformer geometry is expected to be in angstrom\n",
      "  warnings.warn(\n",
      "\n",
      "Featurizing batch:  56%|████████████▎         | 359/640 [00:05<00:04, 62.36it/s]\u001b[A/Users/lily/pydev/openff-nagl/openff/nagl/nn/_dataset.py:212: UserWarning: Conformer geometry is expected to be in angstrom\n",
      "  warnings.warn(\n",
      "/Users/lily/pydev/openff-nagl/openff/nagl/nn/_dataset.py:212: UserWarning: Conformer geometry is expected to be in angstrom\n",
      "  warnings.warn(\n",
      "/Users/lily/pydev/openff-nagl/openff/nagl/nn/_dataset.py:212: UserWarning: Conformer geometry is expected to be in angstrom\n",
      "  warnings.warn(\n",
      "/Users/lily/pydev/openff-nagl/openff/nagl/nn/_dataset.py:212: UserWarning: Conformer geometry is expected to be in angstrom\n",
      "  warnings.warn(\n",
      "/Users/lily/pydev/openff-nagl/openff/nagl/nn/_dataset.py:212: UserWarning: Conformer geometry is expected to be in angstrom\n",
      "  warnings.warn(\n",
      "/Users/lily/pydev/openff-nagl/openff/nagl/nn/_dataset.py:212: UserWarning: Conformer geometry is expected to be in angstrom\n",
      "  warnings.warn(\n",
      "/Users/lily/pydev/openff-nagl/openff/nagl/nn/_dataset.py:212: UserWarning: Conformer geometry is expected to be in angstrom\n",
      "  warnings.warn(\n",
      "/Users/lily/pydev/openff-nagl/openff/nagl/nn/_dataset.py:212: UserWarning: Conformer geometry is expected to be in angstrom\n",
      "  warnings.warn(\n",
      "/Users/lily/pydev/openff-nagl/openff/nagl/nn/_dataset.py:212: UserWarning: Conformer geometry is expected to be in angstrom\n",
      "  warnings.warn(\n",
      "\n",
      "Featurizing batch:  57%|████████████▋         | 368/640 [00:05<00:03, 69.29it/s]\u001b[A/Users/lily/pydev/openff-nagl/openff/nagl/nn/_dataset.py:212: UserWarning: Conformer geometry is expected to be in angstrom\n",
      "  warnings.warn(\n",
      "/Users/lily/pydev/openff-nagl/openff/nagl/nn/_dataset.py:212: UserWarning: Conformer geometry is expected to be in angstrom\n",
      "  warnings.warn(\n",
      "/Users/lily/pydev/openff-nagl/openff/nagl/nn/_dataset.py:212: UserWarning: Conformer geometry is expected to be in angstrom\n",
      "  warnings.warn(\n",
      "/Users/lily/pydev/openff-nagl/openff/nagl/nn/_dataset.py:212: UserWarning: Conformer geometry is expected to be in angstrom\n",
      "  warnings.warn(\n",
      "/Users/lily/pydev/openff-nagl/openff/nagl/nn/_dataset.py:212: UserWarning: Conformer geometry is expected to be in angstrom\n",
      "  warnings.warn(\n",
      "/Users/lily/pydev/openff-nagl/openff/nagl/nn/_dataset.py:212: UserWarning: Conformer geometry is expected to be in angstrom\n",
      "  warnings.warn(\n",
      "/Users/lily/pydev/openff-nagl/openff/nagl/nn/_dataset.py:212: UserWarning: Conformer geometry is expected to be in angstrom\n",
      "  warnings.warn(\n",
      "/Users/lily/pydev/openff-nagl/openff/nagl/nn/_dataset.py:212: UserWarning: Conformer geometry is expected to be in angstrom\n",
      "  warnings.warn(\n",
      "/Users/lily/pydev/openff-nagl/openff/nagl/nn/_dataset.py:212: UserWarning: Conformer geometry is expected to be in angstrom\n",
      "  warnings.warn(\n",
      "/Users/lily/pydev/openff-nagl/openff/nagl/nn/_dataset.py:212: UserWarning: Conformer geometry is expected to be in angstrom\n",
      "  warnings.warn(\n",
      "\n",
      "Featurizing batch:  59%|████████████▉         | 378/640 [00:05<00:03, 76.94it/s]\u001b[A/Users/lily/pydev/openff-nagl/openff/nagl/nn/_dataset.py:212: UserWarning: Conformer geometry is expected to be in angstrom\n",
      "  warnings.warn(\n",
      "/Users/lily/pydev/openff-nagl/openff/nagl/nn/_dataset.py:212: UserWarning: Conformer geometry is expected to be in angstrom\n",
      "  warnings.warn(\n",
      "/Users/lily/pydev/openff-nagl/openff/nagl/nn/_dataset.py:212: UserWarning: Conformer geometry is expected to be in angstrom\n",
      "  warnings.warn(\n",
      "/Users/lily/pydev/openff-nagl/openff/nagl/nn/_dataset.py:212: UserWarning: Conformer geometry is expected to be in angstrom\n",
      "  warnings.warn(\n",
      "/Users/lily/pydev/openff-nagl/openff/nagl/nn/_dataset.py:212: UserWarning: Conformer geometry is expected to be in angstrom\n",
      "  warnings.warn(\n",
      "/Users/lily/pydev/openff-nagl/openff/nagl/nn/_dataset.py:212: UserWarning: Conformer geometry is expected to be in angstrom\n",
      "  warnings.warn(\n",
      "/Users/lily/pydev/openff-nagl/openff/nagl/nn/_dataset.py:212: UserWarning: Conformer geometry is expected to be in angstrom\n",
      "  warnings.warn(\n",
      "/Users/lily/pydev/openff-nagl/openff/nagl/nn/_dataset.py:212: UserWarning: Conformer geometry is expected to be in angstrom\n",
      "  warnings.warn(\n",
      "\n",
      "Featurizing batch:  60%|█████████████▎        | 386/640 [00:05<00:03, 65.01it/s]\u001b[A/Users/lily/pydev/openff-nagl/openff/nagl/nn/_dataset.py:212: UserWarning: Conformer geometry is expected to be in angstrom\n",
      "  warnings.warn(\n",
      "/Users/lily/pydev/openff-nagl/openff/nagl/nn/_dataset.py:212: UserWarning: Conformer geometry is expected to be in angstrom\n",
      "  warnings.warn(\n",
      "/Users/lily/pydev/openff-nagl/openff/nagl/nn/_dataset.py:212: UserWarning: Conformer geometry is expected to be in angstrom\n",
      "  warnings.warn(\n",
      "/Users/lily/pydev/openff-nagl/openff/nagl/nn/_dataset.py:212: UserWarning: Conformer geometry is expected to be in angstrom\n",
      "  warnings.warn(\n",
      "/Users/lily/pydev/openff-nagl/openff/nagl/nn/_dataset.py:212: UserWarning: Conformer geometry is expected to be in angstrom\n",
      "  warnings.warn(\n",
      "/Users/lily/pydev/openff-nagl/openff/nagl/nn/_dataset.py:212: UserWarning: Conformer geometry is expected to be in angstrom\n",
      "  warnings.warn(\n",
      "/Users/lily/pydev/openff-nagl/openff/nagl/nn/_dataset.py:212: UserWarning: Conformer geometry is expected to be in angstrom\n",
      "  warnings.warn(\n",
      "\n",
      "Featurizing batch:  61%|█████████████▌        | 393/640 [00:06<00:03, 63.76it/s]\u001b[A/Users/lily/pydev/openff-nagl/openff/nagl/nn/_dataset.py:212: UserWarning: Conformer geometry is expected to be in angstrom\n",
      "  warnings.warn(\n",
      "/Users/lily/pydev/openff-nagl/openff/nagl/nn/_dataset.py:212: UserWarning: Conformer geometry is expected to be in angstrom\n",
      "  warnings.warn(\n",
      "/Users/lily/pydev/openff-nagl/openff/nagl/nn/_dataset.py:212: UserWarning: Conformer geometry is expected to be in angstrom\n",
      "  warnings.warn(\n",
      "/Users/lily/pydev/openff-nagl/openff/nagl/nn/_dataset.py:212: UserWarning: Conformer geometry is expected to be in angstrom\n",
      "  warnings.warn(\n",
      "/Users/lily/pydev/openff-nagl/openff/nagl/nn/_dataset.py:212: UserWarning: Conformer geometry is expected to be in angstrom\n",
      "  warnings.warn(\n",
      "/Users/lily/pydev/openff-nagl/openff/nagl/nn/_dataset.py:212: UserWarning: Conformer geometry is expected to be in angstrom\n",
      "  warnings.warn(\n",
      "/Users/lily/pydev/openff-nagl/openff/nagl/nn/_dataset.py:212: UserWarning: Conformer geometry is expected to be in angstrom\n",
      "  warnings.warn(\n",
      "/Users/lily/pydev/openff-nagl/openff/nagl/nn/_dataset.py:212: UserWarning: Conformer geometry is expected to be in angstrom\n",
      "  warnings.warn(\n",
      "/Users/lily/pydev/openff-nagl/openff/nagl/nn/_dataset.py:212: UserWarning: Conformer geometry is expected to be in angstrom\n",
      "  warnings.warn(\n",
      "/Users/lily/pydev/openff-nagl/openff/nagl/nn/_dataset.py:212: UserWarning: Conformer geometry is expected to be in angstrom\n",
      "  warnings.warn(\n",
      "\n",
      "Featurizing batch:  63%|█████████████▊        | 403/640 [00:06<00:03, 72.38it/s]\u001b[A/Users/lily/pydev/openff-nagl/openff/nagl/nn/_dataset.py:212: UserWarning: Conformer geometry is expected to be in angstrom\n",
      "  warnings.warn(\n",
      "/Users/lily/pydev/openff-nagl/openff/nagl/nn/_dataset.py:212: UserWarning: Conformer geometry is expected to be in angstrom\n",
      "  warnings.warn(\n",
      "/Users/lily/pydev/openff-nagl/openff/nagl/nn/_dataset.py:212: UserWarning: Conformer geometry is expected to be in angstrom\n",
      "  warnings.warn(\n",
      "/Users/lily/pydev/openff-nagl/openff/nagl/nn/_dataset.py:212: UserWarning: Conformer geometry is expected to be in angstrom\n",
      "  warnings.warn(\n",
      "/Users/lily/pydev/openff-nagl/openff/nagl/nn/_dataset.py:212: UserWarning: Conformer geometry is expected to be in angstrom\n",
      "  warnings.warn(\n",
      "/Users/lily/pydev/openff-nagl/openff/nagl/nn/_dataset.py:212: UserWarning: Conformer geometry is expected to be in angstrom\n",
      "  warnings.warn(\n",
      "/Users/lily/pydev/openff-nagl/openff/nagl/nn/_dataset.py:212: UserWarning: Conformer geometry is expected to be in angstrom\n",
      "  warnings.warn(\n",
      "/Users/lily/pydev/openff-nagl/openff/nagl/nn/_dataset.py:212: UserWarning: Conformer geometry is expected to be in angstrom\n",
      "  warnings.warn(\n",
      "/Users/lily/pydev/openff-nagl/openff/nagl/nn/_dataset.py:212: UserWarning: Conformer geometry is expected to be in angstrom\n",
      "  warnings.warn(\n",
      "\n",
      "Featurizing batch:  64%|██████████████▏       | 412/640 [00:06<00:02, 76.71it/s]\u001b[A/Users/lily/pydev/openff-nagl/openff/nagl/nn/_dataset.py:212: UserWarning: Conformer geometry is expected to be in angstrom\n",
      "  warnings.warn(\n",
      "/Users/lily/pydev/openff-nagl/openff/nagl/nn/_dataset.py:212: UserWarning: Conformer geometry is expected to be in angstrom\n",
      "  warnings.warn(\n",
      "/Users/lily/pydev/openff-nagl/openff/nagl/nn/_dataset.py:212: UserWarning: Conformer geometry is expected to be in angstrom\n",
      "  warnings.warn(\n",
      "/Users/lily/pydev/openff-nagl/openff/nagl/nn/_dataset.py:212: UserWarning: Conformer geometry is expected to be in angstrom\n",
      "  warnings.warn(\n",
      "/Users/lily/pydev/openff-nagl/openff/nagl/nn/_dataset.py:212: UserWarning: Conformer geometry is expected to be in angstrom\n",
      "  warnings.warn(\n",
      "/Users/lily/pydev/openff-nagl/openff/nagl/nn/_dataset.py:212: UserWarning: Conformer geometry is expected to be in angstrom\n",
      "  warnings.warn(\n",
      "/Users/lily/pydev/openff-nagl/openff/nagl/nn/_dataset.py:212: UserWarning: Conformer geometry is expected to be in angstrom\n",
      "  warnings.warn(\n",
      "/Users/lily/pydev/openff-nagl/openff/nagl/nn/_dataset.py:212: UserWarning: Conformer geometry is expected to be in angstrom\n",
      "  warnings.warn(\n",
      "/Users/lily/pydev/openff-nagl/openff/nagl/nn/_dataset.py:212: UserWarning: Conformer geometry is expected to be in angstrom\n",
      "  warnings.warn(\n",
      "\n",
      "Featurizing batch:  66%|██████████████▍       | 421/640 [00:06<00:02, 78.40it/s]\u001b[A/Users/lily/pydev/openff-nagl/openff/nagl/nn/_dataset.py:212: UserWarning: Conformer geometry is expected to be in angstrom\n",
      "  warnings.warn(\n",
      "/Users/lily/pydev/openff-nagl/openff/nagl/nn/_dataset.py:212: UserWarning: Conformer geometry is expected to be in angstrom\n",
      "  warnings.warn(\n",
      "/Users/lily/pydev/openff-nagl/openff/nagl/nn/_dataset.py:212: UserWarning: Conformer geometry is expected to be in angstrom\n",
      "  warnings.warn(\n",
      "/Users/lily/pydev/openff-nagl/openff/nagl/nn/_dataset.py:212: UserWarning: Conformer geometry is expected to be in angstrom\n",
      "  warnings.warn(\n",
      "/Users/lily/pydev/openff-nagl/openff/nagl/nn/_dataset.py:212: UserWarning: Conformer geometry is expected to be in angstrom\n",
      "  warnings.warn(\n",
      "/Users/lily/pydev/openff-nagl/openff/nagl/nn/_dataset.py:212: UserWarning: Conformer geometry is expected to be in angstrom\n",
      "  warnings.warn(\n",
      "/Users/lily/pydev/openff-nagl/openff/nagl/nn/_dataset.py:212: UserWarning: Conformer geometry is expected to be in angstrom\n",
      "  warnings.warn(\n",
      "/Users/lily/pydev/openff-nagl/openff/nagl/nn/_dataset.py:212: UserWarning: Conformer geometry is expected to be in angstrom\n",
      "  warnings.warn(\n",
      "/Users/lily/pydev/openff-nagl/openff/nagl/nn/_dataset.py:212: UserWarning: Conformer geometry is expected to be in angstrom\n",
      "  warnings.warn(\n",
      "\n",
      "Featurizing batch:  67%|██████████████▊       | 430/640 [00:06<00:02, 77.11it/s]\u001b[A/Users/lily/pydev/openff-nagl/openff/nagl/nn/_dataset.py:212: UserWarning: Conformer geometry is expected to be in angstrom\n",
      "  warnings.warn(\n",
      "/Users/lily/pydev/openff-nagl/openff/nagl/nn/_dataset.py:212: UserWarning: Conformer geometry is expected to be in angstrom\n",
      "  warnings.warn(\n",
      "/Users/lily/pydev/openff-nagl/openff/nagl/nn/_dataset.py:212: UserWarning: Conformer geometry is expected to be in angstrom\n",
      "  warnings.warn(\n",
      "/Users/lily/pydev/openff-nagl/openff/nagl/nn/_dataset.py:212: UserWarning: Conformer geometry is expected to be in angstrom\n",
      "  warnings.warn(\n",
      "/Users/lily/pydev/openff-nagl/openff/nagl/nn/_dataset.py:212: UserWarning: Conformer geometry is expected to be in angstrom\n",
      "  warnings.warn(\n",
      "/Users/lily/pydev/openff-nagl/openff/nagl/nn/_dataset.py:212: UserWarning: Conformer geometry is expected to be in angstrom\n",
      "  warnings.warn(\n",
      "/Users/lily/pydev/openff-nagl/openff/nagl/nn/_dataset.py:212: UserWarning: Conformer geometry is expected to be in angstrom\n",
      "  warnings.warn(\n",
      "/Users/lily/pydev/openff-nagl/openff/nagl/nn/_dataset.py:212: UserWarning: Conformer geometry is expected to be in angstrom\n",
      "  warnings.warn(\n",
      "/Users/lily/pydev/openff-nagl/openff/nagl/nn/_dataset.py:212: UserWarning: Conformer geometry is expected to be in angstrom\n",
      "  warnings.warn(\n",
      "/Users/lily/pydev/openff-nagl/openff/nagl/nn/_dataset.py:212: UserWarning: Conformer geometry is expected to be in angstrom\n",
      "  warnings.warn(\n",
      "\n",
      "Featurizing batch:  69%|███████████████▏      | 440/640 [00:06<00:02, 81.64it/s]\u001b[A/Users/lily/pydev/openff-nagl/openff/nagl/nn/_dataset.py:212: UserWarning: Conformer geometry is expected to be in angstrom\n",
      "  warnings.warn(\n",
      "/Users/lily/pydev/openff-nagl/openff/nagl/nn/_dataset.py:212: UserWarning: Conformer geometry is expected to be in angstrom\n",
      "  warnings.warn(\n",
      "/Users/lily/pydev/openff-nagl/openff/nagl/nn/_dataset.py:212: UserWarning: Conformer geometry is expected to be in angstrom\n",
      "  warnings.warn(\n",
      "/Users/lily/pydev/openff-nagl/openff/nagl/nn/_dataset.py:212: UserWarning: Conformer geometry is expected to be in angstrom\n",
      "  warnings.warn(\n",
      "/Users/lily/pydev/openff-nagl/openff/nagl/nn/_dataset.py:212: UserWarning: Conformer geometry is expected to be in angstrom\n",
      "  warnings.warn(\n",
      "/Users/lily/pydev/openff-nagl/openff/nagl/nn/_dataset.py:212: UserWarning: Conformer geometry is expected to be in angstrom\n",
      "  warnings.warn(\n",
      "/Users/lily/pydev/openff-nagl/openff/nagl/nn/_dataset.py:212: UserWarning: Conformer geometry is expected to be in angstrom\n",
      "  warnings.warn(\n",
      "/Users/lily/pydev/openff-nagl/openff/nagl/nn/_dataset.py:212: UserWarning: Conformer geometry is expected to be in angstrom\n",
      "  warnings.warn(\n",
      "/Users/lily/pydev/openff-nagl/openff/nagl/nn/_dataset.py:212: UserWarning: Conformer geometry is expected to be in angstrom\n",
      "  warnings.warn(\n",
      "/Users/lily/pydev/openff-nagl/openff/nagl/nn/_dataset.py:212: UserWarning: Conformer geometry is expected to be in angstrom\n",
      "  warnings.warn(\n",
      "/Users/lily/pydev/openff-nagl/openff/nagl/nn/_dataset.py:212: UserWarning: Conformer geometry is expected to be in angstrom\n",
      "  warnings.warn(\n",
      "\n",
      "Featurizing batch:  70%|███████████████▌      | 451/640 [00:06<00:02, 88.33it/s]\u001b[A/Users/lily/pydev/openff-nagl/openff/nagl/nn/_dataset.py:212: UserWarning: Conformer geometry is expected to be in angstrom\n",
      "  warnings.warn(\n",
      "/Users/lily/pydev/openff-nagl/openff/nagl/nn/_dataset.py:212: UserWarning: Conformer geometry is expected to be in angstrom\n",
      "  warnings.warn(\n",
      "/Users/lily/pydev/openff-nagl/openff/nagl/nn/_dataset.py:212: UserWarning: Conformer geometry is expected to be in angstrom\n",
      "  warnings.warn(\n",
      "/Users/lily/pydev/openff-nagl/openff/nagl/nn/_dataset.py:212: UserWarning: Conformer geometry is expected to be in angstrom\n",
      "  warnings.warn(\n",
      "/Users/lily/pydev/openff-nagl/openff/nagl/nn/_dataset.py:212: UserWarning: Conformer geometry is expected to be in angstrom\n",
      "  warnings.warn(\n",
      "/Users/lily/pydev/openff-nagl/openff/nagl/nn/_dataset.py:212: UserWarning: Conformer geometry is expected to be in angstrom\n",
      "  warnings.warn(\n",
      "/Users/lily/pydev/openff-nagl/openff/nagl/nn/_dataset.py:212: UserWarning: Conformer geometry is expected to be in angstrom\n",
      "  warnings.warn(\n",
      "/Users/lily/pydev/openff-nagl/openff/nagl/nn/_dataset.py:212: UserWarning: Conformer geometry is expected to be in angstrom\n",
      "  warnings.warn(\n",
      "/Users/lily/pydev/openff-nagl/openff/nagl/nn/_dataset.py:212: UserWarning: Conformer geometry is expected to be in angstrom\n",
      "  warnings.warn(\n",
      "\n",
      "Featurizing batch:  72%|███████████████▊      | 460/640 [00:06<00:02, 83.90it/s]\u001b[A/Users/lily/pydev/openff-nagl/openff/nagl/nn/_dataset.py:212: UserWarning: Conformer geometry is expected to be in angstrom\n",
      "  warnings.warn(\n",
      "/Users/lily/pydev/openff-nagl/openff/nagl/nn/_dataset.py:212: UserWarning: Conformer geometry is expected to be in angstrom\n",
      "  warnings.warn(\n",
      "/Users/lily/pydev/openff-nagl/openff/nagl/nn/_dataset.py:212: UserWarning: Conformer geometry is expected to be in angstrom\n",
      "  warnings.warn(\n",
      "/Users/lily/pydev/openff-nagl/openff/nagl/nn/_dataset.py:212: UserWarning: Conformer geometry is expected to be in angstrom\n",
      "  warnings.warn(\n",
      "/Users/lily/pydev/openff-nagl/openff/nagl/nn/_dataset.py:212: UserWarning: Conformer geometry is expected to be in angstrom\n",
      "  warnings.warn(\n",
      "/Users/lily/pydev/openff-nagl/openff/nagl/nn/_dataset.py:212: UserWarning: Conformer geometry is expected to be in angstrom\n",
      "  warnings.warn(\n",
      "/Users/lily/pydev/openff-nagl/openff/nagl/nn/_dataset.py:212: UserWarning: Conformer geometry is expected to be in angstrom\n",
      "  warnings.warn(\n",
      "/Users/lily/pydev/openff-nagl/openff/nagl/nn/_dataset.py:212: UserWarning: Conformer geometry is expected to be in angstrom\n",
      "  warnings.warn(\n",
      "/Users/lily/pydev/openff-nagl/openff/nagl/nn/_dataset.py:212: UserWarning: Conformer geometry is expected to be in angstrom\n",
      "  warnings.warn(\n",
      "\n",
      "Featurizing batch:  73%|████████████████      | 469/640 [00:06<00:02, 83.56it/s]\u001b[A/Users/lily/pydev/openff-nagl/openff/nagl/nn/_dataset.py:212: UserWarning: Conformer geometry is expected to be in angstrom\n",
      "  warnings.warn(\n",
      "/Users/lily/pydev/openff-nagl/openff/nagl/nn/_dataset.py:212: UserWarning: Conformer geometry is expected to be in angstrom\n",
      "  warnings.warn(\n",
      "/Users/lily/pydev/openff-nagl/openff/nagl/nn/_dataset.py:212: UserWarning: Conformer geometry is expected to be in angstrom\n",
      "  warnings.warn(\n",
      "/Users/lily/pydev/openff-nagl/openff/nagl/nn/_dataset.py:212: UserWarning: Conformer geometry is expected to be in angstrom\n",
      "  warnings.warn(\n",
      "/Users/lily/pydev/openff-nagl/openff/nagl/nn/_dataset.py:212: UserWarning: Conformer geometry is expected to be in angstrom\n",
      "  warnings.warn(\n",
      "/Users/lily/pydev/openff-nagl/openff/nagl/nn/_dataset.py:212: UserWarning: Conformer geometry is expected to be in angstrom\n",
      "  warnings.warn(\n",
      "/Users/lily/pydev/openff-nagl/openff/nagl/nn/_dataset.py:212: UserWarning: Conformer geometry is expected to be in angstrom\n",
      "  warnings.warn(\n",
      "/Users/lily/pydev/openff-nagl/openff/nagl/nn/_dataset.py:212: UserWarning: Conformer geometry is expected to be in angstrom\n",
      "  warnings.warn(\n",
      "/Users/lily/pydev/openff-nagl/openff/nagl/nn/_dataset.py:212: UserWarning: Conformer geometry is expected to be in angstrom\n",
      "  warnings.warn(\n",
      "\n",
      "Featurizing batch:  75%|████████████████▍     | 478/640 [00:07<00:01, 84.52it/s]\u001b[A/Users/lily/pydev/openff-nagl/openff/nagl/nn/_dataset.py:212: UserWarning: Conformer geometry is expected to be in angstrom\n",
      "  warnings.warn(\n",
      "/Users/lily/pydev/openff-nagl/openff/nagl/nn/_dataset.py:212: UserWarning: Conformer geometry is expected to be in angstrom\n",
      "  warnings.warn(\n",
      "/Users/lily/pydev/openff-nagl/openff/nagl/nn/_dataset.py:212: UserWarning: Conformer geometry is expected to be in angstrom\n",
      "  warnings.warn(\n",
      "/Users/lily/pydev/openff-nagl/openff/nagl/nn/_dataset.py:212: UserWarning: Conformer geometry is expected to be in angstrom\n",
      "  warnings.warn(\n",
      "/Users/lily/pydev/openff-nagl/openff/nagl/nn/_dataset.py:212: UserWarning: Conformer geometry is expected to be in angstrom\n",
      "  warnings.warn(\n",
      "/Users/lily/pydev/openff-nagl/openff/nagl/nn/_dataset.py:212: UserWarning: Conformer geometry is expected to be in angstrom\n",
      "  warnings.warn(\n",
      "/Users/lily/pydev/openff-nagl/openff/nagl/nn/_dataset.py:212: UserWarning: Conformer geometry is expected to be in angstrom\n",
      "  warnings.warn(\n",
      "/Users/lily/pydev/openff-nagl/openff/nagl/nn/_dataset.py:212: UserWarning: Conformer geometry is expected to be in angstrom\n",
      "  warnings.warn(\n",
      "/Users/lily/pydev/openff-nagl/openff/nagl/nn/_dataset.py:212: UserWarning: Conformer geometry is expected to be in angstrom\n",
      "  warnings.warn(\n",
      "\n",
      "Featurizing batch:  76%|████████████████▋     | 487/640 [00:07<00:01, 85.78it/s]\u001b[A/Users/lily/pydev/openff-nagl/openff/nagl/nn/_dataset.py:212: UserWarning: Conformer geometry is expected to be in angstrom\n",
      "  warnings.warn(\n",
      "/Users/lily/pydev/openff-nagl/openff/nagl/nn/_dataset.py:212: UserWarning: Conformer geometry is expected to be in angstrom\n",
      "  warnings.warn(\n",
      "/Users/lily/pydev/openff-nagl/openff/nagl/nn/_dataset.py:212: UserWarning: Conformer geometry is expected to be in angstrom\n",
      "  warnings.warn(\n",
      "/Users/lily/pydev/openff-nagl/openff/nagl/nn/_dataset.py:212: UserWarning: Conformer geometry is expected to be in angstrom\n",
      "  warnings.warn(\n",
      "/Users/lily/pydev/openff-nagl/openff/nagl/nn/_dataset.py:212: UserWarning: Conformer geometry is expected to be in angstrom\n",
      "  warnings.warn(\n",
      "/Users/lily/pydev/openff-nagl/openff/nagl/nn/_dataset.py:212: UserWarning: Conformer geometry is expected to be in angstrom\n",
      "  warnings.warn(\n",
      "/Users/lily/pydev/openff-nagl/openff/nagl/nn/_dataset.py:212: UserWarning: Conformer geometry is expected to be in angstrom\n",
      "  warnings.warn(\n",
      "/Users/lily/pydev/openff-nagl/openff/nagl/nn/_dataset.py:212: UserWarning: Conformer geometry is expected to be in angstrom\n",
      "  warnings.warn(\n",
      "/Users/lily/pydev/openff-nagl/openff/nagl/nn/_dataset.py:212: UserWarning: Conformer geometry is expected to be in angstrom\n",
      "  warnings.warn(\n",
      "/Users/lily/pydev/openff-nagl/openff/nagl/nn/_dataset.py:212: UserWarning: Conformer geometry is expected to be in angstrom\n",
      "  warnings.warn(\n",
      "\n",
      "Featurizing batch:  78%|█████████████████     | 497/640 [00:07<00:01, 88.17it/s]\u001b[A/Users/lily/pydev/openff-nagl/openff/nagl/nn/_dataset.py:212: UserWarning: Conformer geometry is expected to be in angstrom\n",
      "  warnings.warn(\n",
      "/Users/lily/pydev/openff-nagl/openff/nagl/nn/_dataset.py:212: UserWarning: Conformer geometry is expected to be in angstrom\n",
      "  warnings.warn(\n",
      "/Users/lily/pydev/openff-nagl/openff/nagl/nn/_dataset.py:212: UserWarning: Conformer geometry is expected to be in angstrom\n",
      "  warnings.warn(\n",
      "/Users/lily/pydev/openff-nagl/openff/nagl/nn/_dataset.py:212: UserWarning: Conformer geometry is expected to be in angstrom\n",
      "  warnings.warn(\n",
      "/Users/lily/pydev/openff-nagl/openff/nagl/nn/_dataset.py:212: UserWarning: Conformer geometry is expected to be in angstrom\n",
      "  warnings.warn(\n",
      "/Users/lily/pydev/openff-nagl/openff/nagl/nn/_dataset.py:212: UserWarning: Conformer geometry is expected to be in angstrom\n",
      "  warnings.warn(\n",
      "/Users/lily/pydev/openff-nagl/openff/nagl/nn/_dataset.py:212: UserWarning: Conformer geometry is expected to be in angstrom\n",
      "  warnings.warn(\n",
      "/Users/lily/pydev/openff-nagl/openff/nagl/nn/_dataset.py:212: UserWarning: Conformer geometry is expected to be in angstrom\n",
      "  warnings.warn(\n",
      "/Users/lily/pydev/openff-nagl/openff/nagl/nn/_dataset.py:212: UserWarning: Conformer geometry is expected to be in angstrom\n",
      "  warnings.warn(\n",
      "/Users/lily/pydev/openff-nagl/openff/nagl/nn/_dataset.py:212: UserWarning: Conformer geometry is expected to be in angstrom\n",
      "  warnings.warn(\n",
      "\n",
      "Featurizing batch:  79%|█████████████████▍    | 507/640 [00:07<00:01, 89.90it/s]\u001b[A/Users/lily/pydev/openff-nagl/openff/nagl/nn/_dataset.py:212: UserWarning: Conformer geometry is expected to be in angstrom\n",
      "  warnings.warn(\n",
      "/Users/lily/pydev/openff-nagl/openff/nagl/nn/_dataset.py:212: UserWarning: Conformer geometry is expected to be in angstrom\n",
      "  warnings.warn(\n",
      "/Users/lily/pydev/openff-nagl/openff/nagl/nn/_dataset.py:212: UserWarning: Conformer geometry is expected to be in angstrom\n",
      "  warnings.warn(\n",
      "/Users/lily/pydev/openff-nagl/openff/nagl/nn/_dataset.py:212: UserWarning: Conformer geometry is expected to be in angstrom\n",
      "  warnings.warn(\n",
      "/Users/lily/pydev/openff-nagl/openff/nagl/nn/_dataset.py:212: UserWarning: Conformer geometry is expected to be in angstrom\n",
      "  warnings.warn(\n",
      "/Users/lily/pydev/openff-nagl/openff/nagl/nn/_dataset.py:212: UserWarning: Conformer geometry is expected to be in angstrom\n",
      "  warnings.warn(\n",
      "/Users/lily/pydev/openff-nagl/openff/nagl/nn/_dataset.py:212: UserWarning: Conformer geometry is expected to be in angstrom\n",
      "  warnings.warn(\n",
      "/Users/lily/pydev/openff-nagl/openff/nagl/nn/_dataset.py:212: UserWarning: Conformer geometry is expected to be in angstrom\n",
      "  warnings.warn(\n",
      "/Users/lily/pydev/openff-nagl/openff/nagl/nn/_dataset.py:212: UserWarning: Conformer geometry is expected to be in angstrom\n",
      "  warnings.warn(\n",
      "/Users/lily/pydev/openff-nagl/openff/nagl/nn/_dataset.py:212: UserWarning: Conformer geometry is expected to be in angstrom\n",
      "  warnings.warn(\n",
      "/Users/lily/pydev/openff-nagl/openff/nagl/nn/_dataset.py:212: UserWarning: Conformer geometry is expected to be in angstrom\n",
      "  warnings.warn(\n",
      "\n",
      "Featurizing batch:  81%|█████████████████▊    | 518/640 [00:07<00:01, 94.10it/s]\u001b[A/Users/lily/pydev/openff-nagl/openff/nagl/nn/_dataset.py:212: UserWarning: Conformer geometry is expected to be in angstrom\n",
      "  warnings.warn(\n",
      "/Users/lily/pydev/openff-nagl/openff/nagl/nn/_dataset.py:212: UserWarning: Conformer geometry is expected to be in angstrom\n",
      "  warnings.warn(\n",
      "/Users/lily/pydev/openff-nagl/openff/nagl/nn/_dataset.py:212: UserWarning: Conformer geometry is expected to be in angstrom\n",
      "  warnings.warn(\n",
      "/Users/lily/pydev/openff-nagl/openff/nagl/nn/_dataset.py:212: UserWarning: Conformer geometry is expected to be in angstrom\n",
      "  warnings.warn(\n",
      "/Users/lily/pydev/openff-nagl/openff/nagl/nn/_dataset.py:212: UserWarning: Conformer geometry is expected to be in angstrom\n",
      "  warnings.warn(\n",
      "/Users/lily/pydev/openff-nagl/openff/nagl/nn/_dataset.py:212: UserWarning: Conformer geometry is expected to be in angstrom\n",
      "  warnings.warn(\n",
      "/Users/lily/pydev/openff-nagl/openff/nagl/nn/_dataset.py:212: UserWarning: Conformer geometry is expected to be in angstrom\n",
      "  warnings.warn(\n",
      "/Users/lily/pydev/openff-nagl/openff/nagl/nn/_dataset.py:212: UserWarning: Conformer geometry is expected to be in angstrom\n",
      "  warnings.warn(\n",
      "/Users/lily/pydev/openff-nagl/openff/nagl/nn/_dataset.py:212: UserWarning: Conformer geometry is expected to be in angstrom\n",
      "  warnings.warn(\n",
      "/Users/lily/pydev/openff-nagl/openff/nagl/nn/_dataset.py:212: UserWarning: Conformer geometry is expected to be in angstrom\n",
      "  warnings.warn(\n",
      "\n",
      "Featurizing batch:  82%|██████████████████▏   | 528/640 [00:07<00:01, 92.60it/s]\u001b[A/Users/lily/pydev/openff-nagl/openff/nagl/nn/_dataset.py:212: UserWarning: Conformer geometry is expected to be in angstrom\n",
      "  warnings.warn(\n",
      "/Users/lily/pydev/openff-nagl/openff/nagl/nn/_dataset.py:212: UserWarning: Conformer geometry is expected to be in angstrom\n",
      "  warnings.warn(\n",
      "/Users/lily/pydev/openff-nagl/openff/nagl/nn/_dataset.py:212: UserWarning: Conformer geometry is expected to be in angstrom\n",
      "  warnings.warn(\n",
      "/Users/lily/pydev/openff-nagl/openff/nagl/nn/_dataset.py:212: UserWarning: Conformer geometry is expected to be in angstrom\n",
      "  warnings.warn(\n",
      "/Users/lily/pydev/openff-nagl/openff/nagl/nn/_dataset.py:212: UserWarning: Conformer geometry is expected to be in angstrom\n",
      "  warnings.warn(\n",
      "/Users/lily/pydev/openff-nagl/openff/nagl/nn/_dataset.py:212: UserWarning: Conformer geometry is expected to be in angstrom\n",
      "  warnings.warn(\n",
      "/Users/lily/pydev/openff-nagl/openff/nagl/nn/_dataset.py:212: UserWarning: Conformer geometry is expected to be in angstrom\n",
      "  warnings.warn(\n",
      "/Users/lily/pydev/openff-nagl/openff/nagl/nn/_dataset.py:212: UserWarning: Conformer geometry is expected to be in angstrom\n",
      "  warnings.warn(\n",
      "/Users/lily/pydev/openff-nagl/openff/nagl/nn/_dataset.py:212: UserWarning: Conformer geometry is expected to be in angstrom\n",
      "  warnings.warn(\n",
      "/Users/lily/pydev/openff-nagl/openff/nagl/nn/_dataset.py:212: UserWarning: Conformer geometry is expected to be in angstrom\n",
      "  warnings.warn(\n",
      "\n",
      "Featurizing batch:  84%|██████████████████▍   | 538/640 [00:07<00:01, 84.50it/s]\u001b[A/Users/lily/pydev/openff-nagl/openff/nagl/nn/_dataset.py:212: UserWarning: Conformer geometry is expected to be in angstrom\n",
      "  warnings.warn(\n",
      "/Users/lily/pydev/openff-nagl/openff/nagl/nn/_dataset.py:212: UserWarning: Conformer geometry is expected to be in angstrom\n",
      "  warnings.warn(\n",
      "/Users/lily/pydev/openff-nagl/openff/nagl/nn/_dataset.py:212: UserWarning: Conformer geometry is expected to be in angstrom\n",
      "  warnings.warn(\n",
      "/Users/lily/pydev/openff-nagl/openff/nagl/nn/_dataset.py:212: UserWarning: Conformer geometry is expected to be in angstrom\n",
      "  warnings.warn(\n",
      "/Users/lily/pydev/openff-nagl/openff/nagl/nn/_dataset.py:212: UserWarning: Conformer geometry is expected to be in angstrom\n",
      "  warnings.warn(\n",
      "/Users/lily/pydev/openff-nagl/openff/nagl/nn/_dataset.py:212: UserWarning: Conformer geometry is expected to be in angstrom\n",
      "  warnings.warn(\n",
      "/Users/lily/pydev/openff-nagl/openff/nagl/nn/_dataset.py:212: UserWarning: Conformer geometry is expected to be in angstrom\n",
      "  warnings.warn(\n",
      "/Users/lily/pydev/openff-nagl/openff/nagl/nn/_dataset.py:212: UserWarning: Conformer geometry is expected to be in angstrom\n",
      "  warnings.warn(\n",
      "/Users/lily/pydev/openff-nagl/openff/nagl/nn/_dataset.py:212: UserWarning: Conformer geometry is expected to be in angstrom\n",
      "  warnings.warn(\n",
      "\n",
      "Featurizing batch:  85%|██████████████████▊   | 547/640 [00:07<00:01, 83.65it/s]\u001b[A/Users/lily/pydev/openff-nagl/openff/nagl/nn/_dataset.py:212: UserWarning: Conformer geometry is expected to be in angstrom\n",
      "  warnings.warn(\n",
      "/Users/lily/pydev/openff-nagl/openff/nagl/nn/_dataset.py:212: UserWarning: Conformer geometry is expected to be in angstrom\n",
      "  warnings.warn(\n",
      "/Users/lily/pydev/openff-nagl/openff/nagl/nn/_dataset.py:212: UserWarning: Conformer geometry is expected to be in angstrom\n",
      "  warnings.warn(\n",
      "/Users/lily/pydev/openff-nagl/openff/nagl/nn/_dataset.py:212: UserWarning: Conformer geometry is expected to be in angstrom\n",
      "  warnings.warn(\n",
      "/Users/lily/pydev/openff-nagl/openff/nagl/nn/_dataset.py:212: UserWarning: Conformer geometry is expected to be in angstrom\n",
      "  warnings.warn(\n",
      "/Users/lily/pydev/openff-nagl/openff/nagl/nn/_dataset.py:212: UserWarning: Conformer geometry is expected to be in angstrom\n",
      "  warnings.warn(\n",
      "/Users/lily/pydev/openff-nagl/openff/nagl/nn/_dataset.py:212: UserWarning: Conformer geometry is expected to be in angstrom\n",
      "  warnings.warn(\n",
      "/Users/lily/pydev/openff-nagl/openff/nagl/nn/_dataset.py:212: UserWarning: Conformer geometry is expected to be in angstrom\n",
      "  warnings.warn(\n",
      "/Users/lily/pydev/openff-nagl/openff/nagl/nn/_dataset.py:212: UserWarning: Conformer geometry is expected to be in angstrom\n",
      "  warnings.warn(\n",
      "\n",
      "Featurizing batch:  87%|███████████████████   | 556/640 [00:07<00:01, 80.52it/s]\u001b[A/Users/lily/pydev/openff-nagl/openff/nagl/nn/_dataset.py:212: UserWarning: Conformer geometry is expected to be in angstrom\n",
      "  warnings.warn(\n",
      "/Users/lily/pydev/openff-nagl/openff/nagl/nn/_dataset.py:212: UserWarning: Conformer geometry is expected to be in angstrom\n",
      "  warnings.warn(\n",
      "/Users/lily/pydev/openff-nagl/openff/nagl/nn/_dataset.py:212: UserWarning: Conformer geometry is expected to be in angstrom\n",
      "  warnings.warn(\n",
      "/Users/lily/pydev/openff-nagl/openff/nagl/nn/_dataset.py:212: UserWarning: Conformer geometry is expected to be in angstrom\n",
      "  warnings.warn(\n",
      "/Users/lily/pydev/openff-nagl/openff/nagl/nn/_dataset.py:212: UserWarning: Conformer geometry is expected to be in angstrom\n",
      "  warnings.warn(\n",
      "/Users/lily/pydev/openff-nagl/openff/nagl/nn/_dataset.py:212: UserWarning: Conformer geometry is expected to be in angstrom\n",
      "  warnings.warn(\n",
      "/Users/lily/pydev/openff-nagl/openff/nagl/nn/_dataset.py:212: UserWarning: Conformer geometry is expected to be in angstrom\n",
      "  warnings.warn(\n",
      "/Users/lily/pydev/openff-nagl/openff/nagl/nn/_dataset.py:212: UserWarning: Conformer geometry is expected to be in angstrom\n",
      "  warnings.warn(\n",
      "/Users/lily/pydev/openff-nagl/openff/nagl/nn/_dataset.py:212: UserWarning: Conformer geometry is expected to be in angstrom\n",
      "  warnings.warn(\n",
      "\n",
      "Featurizing batch:  88%|███████████████████▍  | 565/640 [00:08<00:00, 77.97it/s]\u001b[A/Users/lily/pydev/openff-nagl/openff/nagl/nn/_dataset.py:212: UserWarning: Conformer geometry is expected to be in angstrom\n",
      "  warnings.warn(\n",
      "/Users/lily/pydev/openff-nagl/openff/nagl/nn/_dataset.py:212: UserWarning: Conformer geometry is expected to be in angstrom\n",
      "  warnings.warn(\n",
      "/Users/lily/pydev/openff-nagl/openff/nagl/nn/_dataset.py:212: UserWarning: Conformer geometry is expected to be in angstrom\n",
      "  warnings.warn(\n",
      "/Users/lily/pydev/openff-nagl/openff/nagl/nn/_dataset.py:212: UserWarning: Conformer geometry is expected to be in angstrom\n",
      "  warnings.warn(\n",
      "/Users/lily/pydev/openff-nagl/openff/nagl/nn/_dataset.py:212: UserWarning: Conformer geometry is expected to be in angstrom\n",
      "  warnings.warn(\n",
      "/Users/lily/pydev/openff-nagl/openff/nagl/nn/_dataset.py:212: UserWarning: Conformer geometry is expected to be in angstrom\n",
      "  warnings.warn(\n",
      "/Users/lily/pydev/openff-nagl/openff/nagl/nn/_dataset.py:212: UserWarning: Conformer geometry is expected to be in angstrom\n",
      "  warnings.warn(\n",
      "/Users/lily/pydev/openff-nagl/openff/nagl/nn/_dataset.py:212: UserWarning: Conformer geometry is expected to be in angstrom\n",
      "  warnings.warn(\n",
      "/Users/lily/pydev/openff-nagl/openff/nagl/nn/_dataset.py:212: UserWarning: Conformer geometry is expected to be in angstrom\n",
      "  warnings.warn(\n",
      "/Users/lily/pydev/openff-nagl/openff/nagl/nn/_dataset.py:212: UserWarning: Conformer geometry is expected to be in angstrom\n",
      "  warnings.warn(\n",
      "\n",
      "Featurizing batch:  90%|███████████████████▊  | 575/640 [00:08<00:00, 83.19it/s]\u001b[A/Users/lily/pydev/openff-nagl/openff/nagl/nn/_dataset.py:212: UserWarning: Conformer geometry is expected to be in angstrom\n",
      "  warnings.warn(\n",
      "/Users/lily/pydev/openff-nagl/openff/nagl/nn/_dataset.py:212: UserWarning: Conformer geometry is expected to be in angstrom\n",
      "  warnings.warn(\n",
      "/Users/lily/pydev/openff-nagl/openff/nagl/nn/_dataset.py:212: UserWarning: Conformer geometry is expected to be in angstrom\n",
      "  warnings.warn(\n",
      "/Users/lily/pydev/openff-nagl/openff/nagl/nn/_dataset.py:212: UserWarning: Conformer geometry is expected to be in angstrom\n",
      "  warnings.warn(\n",
      "/Users/lily/pydev/openff-nagl/openff/nagl/nn/_dataset.py:212: UserWarning: Conformer geometry is expected to be in angstrom\n",
      "  warnings.warn(\n",
      "/Users/lily/pydev/openff-nagl/openff/nagl/nn/_dataset.py:212: UserWarning: Conformer geometry is expected to be in angstrom\n",
      "  warnings.warn(\n",
      "/Users/lily/pydev/openff-nagl/openff/nagl/nn/_dataset.py:212: UserWarning: Conformer geometry is expected to be in angstrom\n",
      "  warnings.warn(\n",
      "/Users/lily/pydev/openff-nagl/openff/nagl/nn/_dataset.py:212: UserWarning: Conformer geometry is expected to be in angstrom\n",
      "  warnings.warn(\n",
      "/Users/lily/pydev/openff-nagl/openff/nagl/nn/_dataset.py:212: UserWarning: Conformer geometry is expected to be in angstrom\n",
      "  warnings.warn(\n",
      "\n",
      "Featurizing batch:  91%|████████████████████  | 584/640 [00:08<00:00, 82.14it/s]\u001b[A/Users/lily/pydev/openff-nagl/openff/nagl/nn/_dataset.py:212: UserWarning: Conformer geometry is expected to be in angstrom\n",
      "  warnings.warn(\n",
      "/Users/lily/pydev/openff-nagl/openff/nagl/nn/_dataset.py:212: UserWarning: Conformer geometry is expected to be in angstrom\n",
      "  warnings.warn(\n",
      "/Users/lily/pydev/openff-nagl/openff/nagl/nn/_dataset.py:212: UserWarning: Conformer geometry is expected to be in angstrom\n",
      "  warnings.warn(\n",
      "/Users/lily/pydev/openff-nagl/openff/nagl/nn/_dataset.py:212: UserWarning: Conformer geometry is expected to be in angstrom\n",
      "  warnings.warn(\n",
      "/Users/lily/pydev/openff-nagl/openff/nagl/nn/_dataset.py:212: UserWarning: Conformer geometry is expected to be in angstrom\n",
      "  warnings.warn(\n",
      "/Users/lily/pydev/openff-nagl/openff/nagl/nn/_dataset.py:212: UserWarning: Conformer geometry is expected to be in angstrom\n",
      "  warnings.warn(\n",
      "/Users/lily/pydev/openff-nagl/openff/nagl/nn/_dataset.py:212: UserWarning: Conformer geometry is expected to be in angstrom\n",
      "  warnings.warn(\n",
      "/Users/lily/pydev/openff-nagl/openff/nagl/nn/_dataset.py:212: UserWarning: Conformer geometry is expected to be in angstrom\n",
      "  warnings.warn(\n",
      "/Users/lily/pydev/openff-nagl/openff/nagl/nn/_dataset.py:212: UserWarning: Conformer geometry is expected to be in angstrom\n",
      "  warnings.warn(\n",
      "\n",
      "Featurizing batch:  93%|████████████████████▍ | 593/640 [00:08<00:00, 80.31it/s]\u001b[A/Users/lily/pydev/openff-nagl/openff/nagl/nn/_dataset.py:212: UserWarning: Conformer geometry is expected to be in angstrom\n",
      "  warnings.warn(\n",
      "/Users/lily/pydev/openff-nagl/openff/nagl/nn/_dataset.py:212: UserWarning: Conformer geometry is expected to be in angstrom\n",
      "  warnings.warn(\n",
      "/Users/lily/pydev/openff-nagl/openff/nagl/nn/_dataset.py:212: UserWarning: Conformer geometry is expected to be in angstrom\n",
      "  warnings.warn(\n",
      "/Users/lily/pydev/openff-nagl/openff/nagl/nn/_dataset.py:212: UserWarning: Conformer geometry is expected to be in angstrom\n",
      "  warnings.warn(\n",
      "/Users/lily/pydev/openff-nagl/openff/nagl/nn/_dataset.py:212: UserWarning: Conformer geometry is expected to be in angstrom\n",
      "  warnings.warn(\n",
      "/Users/lily/pydev/openff-nagl/openff/nagl/nn/_dataset.py:212: UserWarning: Conformer geometry is expected to be in angstrom\n",
      "  warnings.warn(\n",
      "/Users/lily/pydev/openff-nagl/openff/nagl/nn/_dataset.py:212: UserWarning: Conformer geometry is expected to be in angstrom\n",
      "  warnings.warn(\n",
      "/Users/lily/pydev/openff-nagl/openff/nagl/nn/_dataset.py:212: UserWarning: Conformer geometry is expected to be in angstrom\n",
      "  warnings.warn(\n",
      "/Users/lily/pydev/openff-nagl/openff/nagl/nn/_dataset.py:212: UserWarning: Conformer geometry is expected to be in angstrom\n",
      "  warnings.warn(\n",
      "\n",
      "Featurizing batch:  94%|████████████████████▋ | 602/640 [00:08<00:00, 78.93it/s]\u001b[A/Users/lily/pydev/openff-nagl/openff/nagl/nn/_dataset.py:212: UserWarning: Conformer geometry is expected to be in angstrom\n",
      "  warnings.warn(\n",
      "/Users/lily/pydev/openff-nagl/openff/nagl/nn/_dataset.py:212: UserWarning: Conformer geometry is expected to be in angstrom\n",
      "  warnings.warn(\n",
      "/Users/lily/pydev/openff-nagl/openff/nagl/nn/_dataset.py:212: UserWarning: Conformer geometry is expected to be in angstrom\n",
      "  warnings.warn(\n",
      "/Users/lily/pydev/openff-nagl/openff/nagl/nn/_dataset.py:212: UserWarning: Conformer geometry is expected to be in angstrom\n",
      "  warnings.warn(\n",
      "/Users/lily/pydev/openff-nagl/openff/nagl/nn/_dataset.py:212: UserWarning: Conformer geometry is expected to be in angstrom\n",
      "  warnings.warn(\n",
      "/Users/lily/pydev/openff-nagl/openff/nagl/nn/_dataset.py:212: UserWarning: Conformer geometry is expected to be in angstrom\n",
      "  warnings.warn(\n",
      "/Users/lily/pydev/openff-nagl/openff/nagl/nn/_dataset.py:212: UserWarning: Conformer geometry is expected to be in angstrom\n",
      "  warnings.warn(\n",
      "/Users/lily/pydev/openff-nagl/openff/nagl/nn/_dataset.py:212: UserWarning: Conformer geometry is expected to be in angstrom\n",
      "  warnings.warn(\n",
      "\n",
      "Featurizing batch:  95%|████████████████████▉ | 610/640 [00:08<00:00, 65.82it/s]\u001b[A/Users/lily/pydev/openff-nagl/openff/nagl/nn/_dataset.py:212: UserWarning: Conformer geometry is expected to be in angstrom\n",
      "  warnings.warn(\n",
      "/Users/lily/pydev/openff-nagl/openff/nagl/nn/_dataset.py:212: UserWarning: Conformer geometry is expected to be in angstrom\n",
      "  warnings.warn(\n",
      "/Users/lily/pydev/openff-nagl/openff/nagl/nn/_dataset.py:212: UserWarning: Conformer geometry is expected to be in angstrom\n",
      "  warnings.warn(\n",
      "/Users/lily/pydev/openff-nagl/openff/nagl/nn/_dataset.py:212: UserWarning: Conformer geometry is expected to be in angstrom\n",
      "  warnings.warn(\n",
      "/Users/lily/pydev/openff-nagl/openff/nagl/nn/_dataset.py:212: UserWarning: Conformer geometry is expected to be in angstrom\n",
      "  warnings.warn(\n",
      "/Users/lily/pydev/openff-nagl/openff/nagl/nn/_dataset.py:212: UserWarning: Conformer geometry is expected to be in angstrom\n",
      "  warnings.warn(\n",
      "/Users/lily/pydev/openff-nagl/openff/nagl/nn/_dataset.py:212: UserWarning: Conformer geometry is expected to be in angstrom\n",
      "  warnings.warn(\n",
      "\n",
      "Featurizing batch:  96%|█████████████████████▏| 617/640 [00:08<00:00, 65.67it/s]\u001b[A/Users/lily/pydev/openff-nagl/openff/nagl/nn/_dataset.py:212: UserWarning: Conformer geometry is expected to be in angstrom\n",
      "  warnings.warn(\n",
      "/Users/lily/pydev/openff-nagl/openff/nagl/nn/_dataset.py:212: UserWarning: Conformer geometry is expected to be in angstrom\n",
      "  warnings.warn(\n",
      "/Users/lily/pydev/openff-nagl/openff/nagl/nn/_dataset.py:212: UserWarning: Conformer geometry is expected to be in angstrom\n",
      "  warnings.warn(\n",
      "/Users/lily/pydev/openff-nagl/openff/nagl/nn/_dataset.py:212: UserWarning: Conformer geometry is expected to be in angstrom\n",
      "  warnings.warn(\n",
      "/Users/lily/pydev/openff-nagl/openff/nagl/nn/_dataset.py:212: UserWarning: Conformer geometry is expected to be in angstrom\n",
      "  warnings.warn(\n",
      "/Users/lily/pydev/openff-nagl/openff/nagl/nn/_dataset.py:212: UserWarning: Conformer geometry is expected to be in angstrom\n",
      "  warnings.warn(\n",
      "/Users/lily/pydev/openff-nagl/openff/nagl/nn/_dataset.py:212: UserWarning: Conformer geometry is expected to be in angstrom\n",
      "  warnings.warn(\n",
      "\n",
      "Featurizing batch:  98%|█████████████████████▍| 624/640 [00:08<00:00, 57.00it/s]\u001b[A/Users/lily/pydev/openff-nagl/openff/nagl/nn/_dataset.py:212: UserWarning: Conformer geometry is expected to be in angstrom\n",
      "  warnings.warn(\n",
      "/Users/lily/pydev/openff-nagl/openff/nagl/nn/_dataset.py:212: UserWarning: Conformer geometry is expected to be in angstrom\n",
      "  warnings.warn(\n",
      "/Users/lily/pydev/openff-nagl/openff/nagl/nn/_dataset.py:212: UserWarning: Conformer geometry is expected to be in angstrom\n",
      "  warnings.warn(\n",
      "/Users/lily/pydev/openff-nagl/openff/nagl/nn/_dataset.py:212: UserWarning: Conformer geometry is expected to be in angstrom\n",
      "  warnings.warn(\n",
      "/Users/lily/pydev/openff-nagl/openff/nagl/nn/_dataset.py:212: UserWarning: Conformer geometry is expected to be in angstrom\n",
      "  warnings.warn(\n",
      "/Users/lily/pydev/openff-nagl/openff/nagl/nn/_dataset.py:212: UserWarning: Conformer geometry is expected to be in angstrom\n",
      "  warnings.warn(\n",
      "/Users/lily/pydev/openff-nagl/openff/nagl/nn/_dataset.py:212: UserWarning: Conformer geometry is expected to be in angstrom\n",
      "  warnings.warn(\n",
      "\n",
      "Featurizing batch:  99%|█████████████████████▋| 631/640 [00:09<00:00, 58.20it/s]\u001b[A/Users/lily/pydev/openff-nagl/openff/nagl/nn/_dataset.py:212: UserWarning: Conformer geometry is expected to be in angstrom\n",
      "  warnings.warn(\n",
      "/Users/lily/pydev/openff-nagl/openff/nagl/nn/_dataset.py:212: UserWarning: Conformer geometry is expected to be in angstrom\n",
      "  warnings.warn(\n",
      "/Users/lily/pydev/openff-nagl/openff/nagl/nn/_dataset.py:212: UserWarning: Conformer geometry is expected to be in angstrom\n",
      "  warnings.warn(\n",
      "/Users/lily/pydev/openff-nagl/openff/nagl/nn/_dataset.py:212: UserWarning: Conformer geometry is expected to be in angstrom\n",
      "  warnings.warn(\n",
      "/Users/lily/pydev/openff-nagl/openff/nagl/nn/_dataset.py:212: UserWarning: Conformer geometry is expected to be in angstrom\n",
      "  warnings.warn(\n",
      "/Users/lily/pydev/openff-nagl/openff/nagl/nn/_dataset.py:212: UserWarning: Conformer geometry is expected to be in angstrom\n",
      "  warnings.warn(\n",
      "/Users/lily/pydev/openff-nagl/openff/nagl/nn/_dataset.py:212: UserWarning: Conformer geometry is expected to be in angstrom\n",
      "  warnings.warn(\n",
      "/Users/lily/pydev/openff-nagl/openff/nagl/nn/_dataset.py:212: UserWarning: Conformer geometry is expected to be in angstrom\n",
      "  warnings.warn(\n",
      "\n",
      "Featurizing batch: 100%|█████████████████████▉| 639/640 [00:09<00:00, 62.70it/s]\u001b[A/Users/lily/pydev/openff-nagl/openff/nagl/nn/_dataset.py:212: UserWarning: Conformer geometry is expected to be in angstrom\n",
      "  warnings.warn(\n",
      "Featurizing batch: 100%|██████████████████████| 640/640 [00:09<00:00, 69.54it/s]\n",
      "Featurizing dataset: 1it [00:09,  9.22s/it]\n",
      "Featurizing dataset: 0it [00:00, ?it/s]\n",
      "Featurizing batch:   0%|                                 | 0/10 [00:00<?, ?it/s]\u001b[A/Users/lily/pydev/openff-nagl/openff/nagl/nn/_dataset.py:212: UserWarning: Conformer geometry is expected to be in angstrom\n",
      "  warnings.warn(\n",
      "/Users/lily/pydev/openff-nagl/openff/nagl/nn/_dataset.py:212: UserWarning: Conformer geometry is expected to be in angstrom\n",
      "  warnings.warn(\n",
      "/Users/lily/pydev/openff-nagl/openff/nagl/nn/_dataset.py:212: UserWarning: Conformer geometry is expected to be in angstrom\n",
      "  warnings.warn(\n",
      "/Users/lily/pydev/openff-nagl/openff/nagl/nn/_dataset.py:212: UserWarning: Conformer geometry is expected to be in angstrom\n",
      "  warnings.warn(\n",
      "/Users/lily/pydev/openff-nagl/openff/nagl/nn/_dataset.py:212: UserWarning: Conformer geometry is expected to be in angstrom\n",
      "  warnings.warn(\n",
      "/Users/lily/pydev/openff-nagl/openff/nagl/nn/_dataset.py:212: UserWarning: Conformer geometry is expected to be in angstrom\n",
      "  warnings.warn(\n",
      "\n",
      "Featurizing batch:  60%|███████████████          | 6/10 [00:00<00:00, 52.29it/s]\u001b[A/Users/lily/pydev/openff-nagl/openff/nagl/nn/_dataset.py:212: UserWarning: Conformer geometry is expected to be in angstrom\n",
      "  warnings.warn(\n",
      "/Users/lily/pydev/openff-nagl/openff/nagl/nn/_dataset.py:212: UserWarning: Conformer geometry is expected to be in angstrom\n",
      "  warnings.warn(\n",
      "/Users/lily/pydev/openff-nagl/openff/nagl/nn/_dataset.py:212: UserWarning: Conformer geometry is expected to be in angstrom\n",
      "  warnings.warn(\n",
      "/Users/lily/pydev/openff-nagl/openff/nagl/nn/_dataset.py:212: UserWarning: Conformer geometry is expected to be in angstrom\n",
      "  warnings.warn(\n",
      "Featurizing batch: 100%|████████████████████████| 10/10 [00:00<00:00, 54.22it/s]\n",
      "Featurizing dataset: 1it [00:00,  5.31it/s]\n",
      "\n",
      "  | Name  | Type     | Params\n",
      "-----------------------------------\n",
      "0 | model | GNNModel | 4.7 M \n",
      "-----------------------------------\n",
      "4.7 M     Trainable params\n",
      "0         Non-trainable params\n",
      "4.7 M     Total params\n",
      "18.985    Total estimated model params size (MB)\n"
     ]
    },
    {
     "data": {
      "application/vnd.jupyter.widget-view+json": {
       "model_id": "",
       "version_major": 2,
       "version_minor": 0
      },
      "text/plain": [
       "Sanity Checking: |                                        | 0/? [00:00<?, ?it/s]"
      ]
     },
     "metadata": {},
     "output_type": "display_data"
    },
    {
     "name": "stderr",
     "output_type": "stream",
     "text": [
      "/Users/lily/micromamba/envs/openff-nagl-test/lib/python3.10/site-packages/pytorch_lightning/trainer/connectors/data_connector.py:441: The 'val_dataloader' does not have many workers which may be a bottleneck. Consider increasing the value of the `num_workers` argument` to `num_workers=9` in the `DataLoader` to improve performance.\n",
      "/Users/lily/micromamba/envs/openff-nagl-test/lib/python3.10/site-packages/pytorch_lightning/trainer/connectors/data_connector.py:441: The 'train_dataloader' does not have many workers which may be a bottleneck. Consider increasing the value of the `num_workers` argument` to `num_workers=9` in the `DataLoader` to improve performance.\n",
      "/Users/lily/micromamba/envs/openff-nagl-test/lib/python3.10/site-packages/pytorch_lightning/loops/fit_loop.py:293: The number of training batches (7) is smaller than the logging interval Trainer(log_every_n_steps=50). Set a lower value for log_every_n_steps if you want to see logs for the training epoch.\n"
     ]
    },
    {
     "data": {
      "application/vnd.jupyter.widget-view+json": {
       "model_id": "42443a89e33b4cb3ba62ed20c802a566",
       "version_major": 2,
       "version_minor": 0
      },
      "text/plain": [
       "Training: |                                               | 0/? [00:00<?, ?it/s]"
      ]
     },
     "metadata": {},
     "output_type": "display_data"
    },
    {
     "name": "stdout",
     "output_type": "stream",
     "text": [
      "Intel MKL WARNING: Support of Intel(R) Streaming SIMD Extensions 4.2 (Intel(R) SSE4.2) enabled only processors has been deprecated. Intel oneAPI Math Kernel Library 2025.0 will require Intel(R) Advanced Vector Extensions (Intel(R) AVX) instructions.\n",
      "Intel MKL WARNING: Support of Intel(R) Streaming SIMD Extensions 4.2 (Intel(R) SSE4.2) enabled only processors has been deprecated. Intel oneAPI Math Kernel Library 2025.0 will require Intel(R) Advanced Vector Extensions (Intel(R) AVX) instructions.\n",
      "Intel MKL WARNING: Support of Intel(R) Streaming SIMD Extensions 4.2 (Intel(R) SSE4.2) enabled only processors has been deprecated. Intel oneAPI Math Kernel Library 2025.0 will require Intel(R) Advanced Vector Extensions (Intel(R) AVX) instructions.\n",
      "Intel MKL WARNING: Support of Intel(R) Streaming SIMD Extensions 4.2 (Intel(R) SSE4.2) enabled only processors has been deprecated. Intel oneAPI Math Kernel Library 2025.0 will require Intel(R) Advanced Vector Extensions (Intel(R) AVX) instructions.\n",
      "Intel MKL WARNING: Support of Intel(R) Streaming SIMD Extensions 4.2 (Intel(R) SSE4.2) enabled only processors has been deprecated. Intel oneAPI Math Kernel Library 2025.0 will require Intel(R) Advanced Vector Extensions (Intel(R) AVX) instructions.\n",
      "Intel MKL WARNING: Support of Intel(R) Streaming SIMD Extensions 4.2 (Intel(R) SSE4.2) enabled only processors has been deprecated. Intel oneAPI Math Kernel Library 2025.0 will require Intel(R) Advanced Vector Extensions (Intel(R) AVX) instructions.\n",
      "Intel MKL WARNING: Support of Intel(R) Streaming SIMD Extensions 4.2 (Intel(R) SSE4.2) enabled only processors has been deprecated. Intel oneAPI Math Kernel Library 2025.0 will require Intel(R) Advanced Vector Extensions (Intel(R) AVX) instructions.\n",
      "Intel MKL WARNING: Support of Intel(R) Streaming SIMD Extensions 4.2 (Intel(R) SSE4.2) enabled only processors has been deprecated. Intel oneAPI Math Kernel Library 2025.0 will require Intel(R) Advanced Vector Extensions (Intel(R) AVX) instructions.\n",
      "Intel MKL WARNING: Support of Intel(R) Streaming SIMD Extensions 4.2 (Intel(R) SSE4.2) enabled only processors has been deprecated. Intel oneAPI Math Kernel Library 2025.0 will require Intel(R) Advanced Vector Extensions (Intel(R) AVX) instructions.\n",
      "Intel MKL WARNING: Support of Intel(R) Streaming SIMD Extensions 4.2 (Intel(R) SSE4.2) enabled only processors has been deprecated. Intel oneAPI Math Kernel Library 2025.0 will require Intel(R) Advanced Vector Extensions (Intel(R) AVX) instructions.\n",
      "Intel MKL WARNING: Support of Intel(R) Streaming SIMD Extensions 4.2 (Intel(R) SSE4.2) enabled only processors has been deprecated. Intel oneAPI Math Kernel Library 2025.0 will require Intel(R) Advanced Vector Extensions (Intel(R) AVX) instructions.\n",
      "Intel MKL WARNING: Support of Intel(R) Streaming SIMD Extensions 4.2 (Intel(R) SSE4.2) enabled only processors has been deprecated. Intel oneAPI Math Kernel Library 2025.0 will require Intel(R) Advanced Vector Extensions (Intel(R) AVX) instructions.\n",
      "Intel MKL WARNING: Support of Intel(R) Streaming SIMD Extensions 4.2 (Intel(R) SSE4.2) enabled only processors has been deprecated. Intel oneAPI Math Kernel Library 2025.0 will require Intel(R) Advanced Vector Extensions (Intel(R) AVX) instructions.\n",
      "Intel MKL WARNING: Support of Intel(R) Streaming SIMD Extensions 4.2 (Intel(R) SSE4.2) enabled only processors has been deprecated. Intel oneAPI Math Kernel Library 2025.0 will require Intel(R) Advanced Vector Extensions (Intel(R) AVX) instructions.\n"
     ]
    },
    {
     "data": {
      "application/vnd.jupyter.widget-view+json": {
       "model_id": "",
       "version_major": 2,
       "version_minor": 0
      },
      "text/plain": [
       "Validation: |                                             | 0/? [00:00<?, ?it/s]"
      ]
     },
     "metadata": {},
     "output_type": "display_data"
    },
    {
     "name": "stdout",
     "output_type": "stream",
     "text": [
      "Intel MKL WARNING: Support of Intel(R) Streaming SIMD Extensions 4.2 (Intel(R) SSE4.2) enabled only processors has been deprecated. Intel oneAPI Math Kernel Library 2025.0 will require Intel(R) Advanced Vector Extensions (Intel(R) AVX) instructions.\n",
      "Intel MKL WARNING: Support of Intel(R) Streaming SIMD Extensions 4.2 (Intel(R) SSE4.2) enabled only processors has been deprecated. Intel oneAPI Math Kernel Library 2025.0 will require Intel(R) Advanced Vector Extensions (Intel(R) AVX) instructions.\n",
      "Intel MKL WARNING: Support of Intel(R) Streaming SIMD Extensions 4.2 (Intel(R) SSE4.2) enabled only processors has been deprecated. Intel oneAPI Math Kernel Library 2025.0 will require Intel(R) Advanced Vector Extensions (Intel(R) AVX) instructions.\n",
      "Intel MKL WARNING: Support of Intel(R) Streaming SIMD Extensions 4.2 (Intel(R) SSE4.2) enabled only processors has been deprecated. Intel oneAPI Math Kernel Library 2025.0 will require Intel(R) Advanced Vector Extensions (Intel(R) AVX) instructions.\n",
      "Intel MKL WARNING: Support of Intel(R) Streaming SIMD Extensions 4.2 (Intel(R) SSE4.2) enabled only processors has been deprecated. Intel oneAPI Math Kernel Library 2025.0 will require Intel(R) Advanced Vector Extensions (Intel(R) AVX) instructions.\n",
      "Intel MKL WARNING: Support of Intel(R) Streaming SIMD Extensions 4.2 (Intel(R) SSE4.2) enabled only processors has been deprecated. Intel oneAPI Math Kernel Library 2025.0 will require Intel(R) Advanced Vector Extensions (Intel(R) AVX) instructions.\n",
      "Intel MKL WARNING: Support of Intel(R) Streaming SIMD Extensions 4.2 (Intel(R) SSE4.2) enabled only processors has been deprecated. Intel oneAPI Math Kernel Library 2025.0 will require Intel(R) Advanced Vector Extensions (Intel(R) AVX) instructions.\n",
      "Intel MKL WARNING: Support of Intel(R) Streaming SIMD Extensions 4.2 (Intel(R) SSE4.2) enabled only processors has been deprecated. Intel oneAPI Math Kernel Library 2025.0 will require Intel(R) Advanced Vector Extensions (Intel(R) AVX) instructions.\n",
      "Intel MKL WARNING: Support of Intel(R) Streaming SIMD Extensions 4.2 (Intel(R) SSE4.2) enabled only processors has been deprecated. Intel oneAPI Math Kernel Library 2025.0 will require Intel(R) Advanced Vector Extensions (Intel(R) AVX) instructions.\n",
      "Intel MKL WARNING: Support of Intel(R) Streaming SIMD Extensions 4.2 (Intel(R) SSE4.2) enabled only processors has been deprecated. Intel oneAPI Math Kernel Library 2025.0 will require Intel(R) Advanced Vector Extensions (Intel(R) AVX) instructions.\n",
      "Intel MKL WARNING: Support of Intel(R) Streaming SIMD Extensions 4.2 (Intel(R) SSE4.2) enabled only processors has been deprecated. Intel oneAPI Math Kernel Library 2025.0 will require Intel(R) Advanced Vector Extensions (Intel(R) AVX) instructions.\n",
      "Intel MKL WARNING: Support of Intel(R) Streaming SIMD Extensions 4.2 (Intel(R) SSE4.2) enabled only processors has been deprecated. Intel oneAPI Math Kernel Library 2025.0 will require Intel(R) Advanced Vector Extensions (Intel(R) AVX) instructions.\n",
      "Intel MKL WARNING: Support of Intel(R) Streaming SIMD Extensions 4.2 (Intel(R) SSE4.2) enabled only processors has been deprecated. Intel oneAPI Math Kernel Library 2025.0 will require Intel(R) Advanced Vector Extensions (Intel(R) AVX) instructions.\n",
      "Intel MKL WARNING: Support of Intel(R) Streaming SIMD Extensions 4.2 (Intel(R) SSE4.2) enabled only processors has been deprecated. Intel oneAPI Math Kernel Library 2025.0 will require Intel(R) Advanced Vector Extensions (Intel(R) AVX) instructions.\n"
     ]
    },
    {
     "data": {
      "application/vnd.jupyter.widget-view+json": {
       "model_id": "",
       "version_major": 2,
       "version_minor": 0
      },
      "text/plain": [
       "Validation: |                                             | 0/? [00:00<?, ?it/s]"
      ]
     },
     "metadata": {},
     "output_type": "display_data"
    },
    {
     "name": "stdout",
     "output_type": "stream",
     "text": [
      "Intel MKL WARNING: Support of Intel(R) Streaming SIMD Extensions 4.2 (Intel(R) SSE4.2) enabled only processors has been deprecated. Intel oneAPI Math Kernel Library 2025.0 will require Intel(R) Advanced Vector Extensions (Intel(R) AVX) instructions.\n",
      "Intel MKL WARNING: Support of Intel(R) Streaming SIMD Extensions 4.2 (Intel(R) SSE4.2) enabled only processors has been deprecated. Intel oneAPI Math Kernel Library 2025.0 will require Intel(R) Advanced Vector Extensions (Intel(R) AVX) instructions.\n",
      "Intel MKL WARNING: Support of Intel(R) Streaming SIMD Extensions 4.2 (Intel(R) SSE4.2) enabled only processors has been deprecated. Intel oneAPI Math Kernel Library 2025.0 will require Intel(R) Advanced Vector Extensions (Intel(R) AVX) instructions.\n",
      "Intel MKL WARNING: Support of Intel(R) Streaming SIMD Extensions 4.2 (Intel(R) SSE4.2) enabled only processors has been deprecated. Intel oneAPI Math Kernel Library 2025.0 will require Intel(R) Advanced Vector Extensions (Intel(R) AVX) instructions.\n",
      "Intel MKL WARNING: Support of Intel(R) Streaming SIMD Extensions 4.2 (Intel(R) SSE4.2) enabled only processors has been deprecated. Intel oneAPI Math Kernel Library 2025.0 will require Intel(R) Advanced Vector Extensions (Intel(R) AVX) instructions.\n",
      "Intel MKL WARNING: Support of Intel(R) Streaming SIMD Extensions 4.2 (Intel(R) SSE4.2) enabled only processors has been deprecated. Intel oneAPI Math Kernel Library 2025.0 will require Intel(R) Advanced Vector Extensions (Intel(R) AVX) instructions.\n",
      "Intel MKL WARNING: Support of Intel(R) Streaming SIMD Extensions 4.2 (Intel(R) SSE4.2) enabled only processors has been deprecated. Intel oneAPI Math Kernel Library 2025.0 will require Intel(R) Advanced Vector Extensions (Intel(R) AVX) instructions.\n",
      "Intel MKL WARNING: Support of Intel(R) Streaming SIMD Extensions 4.2 (Intel(R) SSE4.2) enabled only processors has been deprecated. Intel oneAPI Math Kernel Library 2025.0 will require Intel(R) Advanced Vector Extensions (Intel(R) AVX) instructions.\n",
      "Intel MKL WARNING: Support of Intel(R) Streaming SIMD Extensions 4.2 (Intel(R) SSE4.2) enabled only processors has been deprecated. Intel oneAPI Math Kernel Library 2025.0 will require Intel(R) Advanced Vector Extensions (Intel(R) AVX) instructions.\n",
      "Intel MKL WARNING: Support of Intel(R) Streaming SIMD Extensions 4.2 (Intel(R) SSE4.2) enabled only processors has been deprecated. Intel oneAPI Math Kernel Library 2025.0 will require Intel(R) Advanced Vector Extensions (Intel(R) AVX) instructions.\n",
      "Intel MKL WARNING: Support of Intel(R) Streaming SIMD Extensions 4.2 (Intel(R) SSE4.2) enabled only processors has been deprecated. Intel oneAPI Math Kernel Library 2025.0 will require Intel(R) Advanced Vector Extensions (Intel(R) AVX) instructions.\n",
      "Intel MKL WARNING: Support of Intel(R) Streaming SIMD Extensions 4.2 (Intel(R) SSE4.2) enabled only processors has been deprecated. Intel oneAPI Math Kernel Library 2025.0 will require Intel(R) Advanced Vector Extensions (Intel(R) AVX) instructions.\n",
      "Intel MKL WARNING: Support of Intel(R) Streaming SIMD Extensions 4.2 (Intel(R) SSE4.2) enabled only processors has been deprecated. Intel oneAPI Math Kernel Library 2025.0 will require Intel(R) Advanced Vector Extensions (Intel(R) AVX) instructions.\n",
      "Intel MKL WARNING: Support of Intel(R) Streaming SIMD Extensions 4.2 (Intel(R) SSE4.2) enabled only processors has been deprecated. Intel oneAPI Math Kernel Library 2025.0 will require Intel(R) Advanced Vector Extensions (Intel(R) AVX) instructions.\n"
     ]
    },
    {
     "data": {
      "application/vnd.jupyter.widget-view+json": {
       "model_id": "",
       "version_major": 2,
       "version_minor": 0
      },
      "text/plain": [
       "Validation: |                                             | 0/? [00:00<?, ?it/s]"
      ]
     },
     "metadata": {},
     "output_type": "display_data"
    },
    {
     "name": "stdout",
     "output_type": "stream",
     "text": [
      "Intel MKL WARNING: Support of Intel(R) Streaming SIMD Extensions 4.2 (Intel(R) SSE4.2) enabled only processors has been deprecated. Intel oneAPI Math Kernel Library 2025.0 will require Intel(R) Advanced Vector Extensions (Intel(R) AVX) instructions.\n",
      "Intel MKL WARNING: Support of Intel(R) Streaming SIMD Extensions 4.2 (Intel(R) SSE4.2) enabled only processors has been deprecated. Intel oneAPI Math Kernel Library 2025.0 will require Intel(R) Advanced Vector Extensions (Intel(R) AVX) instructions.\n",
      "Intel MKL WARNING: Support of Intel(R) Streaming SIMD Extensions 4.2 (Intel(R) SSE4.2) enabled only processors has been deprecated. Intel oneAPI Math Kernel Library 2025.0 will require Intel(R) Advanced Vector Extensions (Intel(R) AVX) instructions.\n",
      "Intel MKL WARNING: Support of Intel(R) Streaming SIMD Extensions 4.2 (Intel(R) SSE4.2) enabled only processors has been deprecated. Intel oneAPI Math Kernel Library 2025.0 will require Intel(R) Advanced Vector Extensions (Intel(R) AVX) instructions.\n",
      "Intel MKL WARNING: Support of Intel(R) Streaming SIMD Extensions 4.2 (Intel(R) SSE4.2) enabled only processors has been deprecated. Intel oneAPI Math Kernel Library 2025.0 will require Intel(R) Advanced Vector Extensions (Intel(R) AVX) instructions.\n",
      "Intel MKL WARNING: Support of Intel(R) Streaming SIMD Extensions 4.2 (Intel(R) SSE4.2) enabled only processors has been deprecated. Intel oneAPI Math Kernel Library 2025.0 will require Intel(R) Advanced Vector Extensions (Intel(R) AVX) instructions.\n",
      "Intel MKL WARNING: Support of Intel(R) Streaming SIMD Extensions 4.2 (Intel(R) SSE4.2) enabled only processors has been deprecated. Intel oneAPI Math Kernel Library 2025.0 will require Intel(R) Advanced Vector Extensions (Intel(R) AVX) instructions.\n",
      "Intel MKL WARNING: Support of Intel(R) Streaming SIMD Extensions 4.2 (Intel(R) SSE4.2) enabled only processors has been deprecated. Intel oneAPI Math Kernel Library 2025.0 will require Intel(R) Advanced Vector Extensions (Intel(R) AVX) instructions.\n",
      "Intel MKL WARNING: Support of Intel(R) Streaming SIMD Extensions 4.2 (Intel(R) SSE4.2) enabled only processors has been deprecated. Intel oneAPI Math Kernel Library 2025.0 will require Intel(R) Advanced Vector Extensions (Intel(R) AVX) instructions.\n",
      "Intel MKL WARNING: Support of Intel(R) Streaming SIMD Extensions 4.2 (Intel(R) SSE4.2) enabled only processors has been deprecated. Intel oneAPI Math Kernel Library 2025.0 will require Intel(R) Advanced Vector Extensions (Intel(R) AVX) instructions.\n",
      "Intel MKL WARNING: Support of Intel(R) Streaming SIMD Extensions 4.2 (Intel(R) SSE4.2) enabled only processors has been deprecated. Intel oneAPI Math Kernel Library 2025.0 will require Intel(R) Advanced Vector Extensions (Intel(R) AVX) instructions.\n",
      "Intel MKL WARNING: Support of Intel(R) Streaming SIMD Extensions 4.2 (Intel(R) SSE4.2) enabled only processors has been deprecated. Intel oneAPI Math Kernel Library 2025.0 will require Intel(R) Advanced Vector Extensions (Intel(R) AVX) instructions.\n",
      "Intel MKL WARNING: Support of Intel(R) Streaming SIMD Extensions 4.2 (Intel(R) SSE4.2) enabled only processors has been deprecated. Intel oneAPI Math Kernel Library 2025.0 will require Intel(R) Advanced Vector Extensions (Intel(R) AVX) instructions.\n",
      "Intel MKL WARNING: Support of Intel(R) Streaming SIMD Extensions 4.2 (Intel(R) SSE4.2) enabled only processors has been deprecated. Intel oneAPI Math Kernel Library 2025.0 will require Intel(R) Advanced Vector Extensions (Intel(R) AVX) instructions.\n"
     ]
    },
    {
     "data": {
      "application/vnd.jupyter.widget-view+json": {
       "model_id": "",
       "version_major": 2,
       "version_minor": 0
      },
      "text/plain": [
       "Validation: |                                             | 0/? [00:00<?, ?it/s]"
      ]
     },
     "metadata": {},
     "output_type": "display_data"
    },
    {
     "name": "stdout",
     "output_type": "stream",
     "text": [
      "Intel MKL WARNING: Support of Intel(R) Streaming SIMD Extensions 4.2 (Intel(R) SSE4.2) enabled only processors has been deprecated. Intel oneAPI Math Kernel Library 2025.0 will require Intel(R) Advanced Vector Extensions (Intel(R) AVX) instructions.\n",
      "Intel MKL WARNING: Support of Intel(R) Streaming SIMD Extensions 4.2 (Intel(R) SSE4.2) enabled only processors has been deprecated. Intel oneAPI Math Kernel Library 2025.0 will require Intel(R) Advanced Vector Extensions (Intel(R) AVX) instructions.\n",
      "Intel MKL WARNING: Support of Intel(R) Streaming SIMD Extensions 4.2 (Intel(R) SSE4.2) enabled only processors has been deprecated. Intel oneAPI Math Kernel Library 2025.0 will require Intel(R) Advanced Vector Extensions (Intel(R) AVX) instructions.\n",
      "Intel MKL WARNING: Support of Intel(R) Streaming SIMD Extensions 4.2 (Intel(R) SSE4.2) enabled only processors has been deprecated. Intel oneAPI Math Kernel Library 2025.0 will require Intel(R) Advanced Vector Extensions (Intel(R) AVX) instructions.\n",
      "Intel MKL WARNING: Support of Intel(R) Streaming SIMD Extensions 4.2 (Intel(R) SSE4.2) enabled only processors has been deprecated. Intel oneAPI Math Kernel Library 2025.0 will require Intel(R) Advanced Vector Extensions (Intel(R) AVX) instructions.\n",
      "Intel MKL WARNING: Support of Intel(R) Streaming SIMD Extensions 4.2 (Intel(R) SSE4.2) enabled only processors has been deprecated. Intel oneAPI Math Kernel Library 2025.0 will require Intel(R) Advanced Vector Extensions (Intel(R) AVX) instructions.\n",
      "Intel MKL WARNING: Support of Intel(R) Streaming SIMD Extensions 4.2 (Intel(R) SSE4.2) enabled only processors has been deprecated. Intel oneAPI Math Kernel Library 2025.0 will require Intel(R) Advanced Vector Extensions (Intel(R) AVX) instructions.\n",
      "Intel MKL WARNING: Support of Intel(R) Streaming SIMD Extensions 4.2 (Intel(R) SSE4.2) enabled only processors has been deprecated. Intel oneAPI Math Kernel Library 2025.0 will require Intel(R) Advanced Vector Extensions (Intel(R) AVX) instructions.\n",
      "Intel MKL WARNING: Support of Intel(R) Streaming SIMD Extensions 4.2 (Intel(R) SSE4.2) enabled only processors has been deprecated. Intel oneAPI Math Kernel Library 2025.0 will require Intel(R) Advanced Vector Extensions (Intel(R) AVX) instructions.\n",
      "Intel MKL WARNING: Support of Intel(R) Streaming SIMD Extensions 4.2 (Intel(R) SSE4.2) enabled only processors has been deprecated. Intel oneAPI Math Kernel Library 2025.0 will require Intel(R) Advanced Vector Extensions (Intel(R) AVX) instructions.\n",
      "Intel MKL WARNING: Support of Intel(R) Streaming SIMD Extensions 4.2 (Intel(R) SSE4.2) enabled only processors has been deprecated. Intel oneAPI Math Kernel Library 2025.0 will require Intel(R) Advanced Vector Extensions (Intel(R) AVX) instructions.\n",
      "Intel MKL WARNING: Support of Intel(R) Streaming SIMD Extensions 4.2 (Intel(R) SSE4.2) enabled only processors has been deprecated. Intel oneAPI Math Kernel Library 2025.0 will require Intel(R) Advanced Vector Extensions (Intel(R) AVX) instructions.\n",
      "Intel MKL WARNING: Support of Intel(R) Streaming SIMD Extensions 4.2 (Intel(R) SSE4.2) enabled only processors has been deprecated. Intel oneAPI Math Kernel Library 2025.0 will require Intel(R) Advanced Vector Extensions (Intel(R) AVX) instructions.\n",
      "Intel MKL WARNING: Support of Intel(R) Streaming SIMD Extensions 4.2 (Intel(R) SSE4.2) enabled only processors has been deprecated. Intel oneAPI Math Kernel Library 2025.0 will require Intel(R) Advanced Vector Extensions (Intel(R) AVX) instructions.\n"
     ]
    },
    {
     "data": {
      "application/vnd.jupyter.widget-view+json": {
       "model_id": "",
       "version_major": 2,
       "version_minor": 0
      },
      "text/plain": [
       "Validation: |                                             | 0/? [00:00<?, ?it/s]"
      ]
     },
     "metadata": {},
     "output_type": "display_data"
    },
    {
     "name": "stdout",
     "output_type": "stream",
     "text": [
      "Intel MKL WARNING: Support of Intel(R) Streaming SIMD Extensions 4.2 (Intel(R) SSE4.2) enabled only processors has been deprecated. Intel oneAPI Math Kernel Library 2025.0 will require Intel(R) Advanced Vector Extensions (Intel(R) AVX) instructions.\n",
      "Intel MKL WARNING: Support of Intel(R) Streaming SIMD Extensions 4.2 (Intel(R) SSE4.2) enabled only processors has been deprecated. Intel oneAPI Math Kernel Library 2025.0 will require Intel(R) Advanced Vector Extensions (Intel(R) AVX) instructions.\n",
      "Intel MKL WARNING: Support of Intel(R) Streaming SIMD Extensions 4.2 (Intel(R) SSE4.2) enabled only processors has been deprecated. Intel oneAPI Math Kernel Library 2025.0 will require Intel(R) Advanced Vector Extensions (Intel(R) AVX) instructions.\n",
      "Intel MKL WARNING: Support of Intel(R) Streaming SIMD Extensions 4.2 (Intel(R) SSE4.2) enabled only processors has been deprecated. Intel oneAPI Math Kernel Library 2025.0 will require Intel(R) Advanced Vector Extensions (Intel(R) AVX) instructions.\n",
      "Intel MKL WARNING: Support of Intel(R) Streaming SIMD Extensions 4.2 (Intel(R) SSE4.2) enabled only processors has been deprecated. Intel oneAPI Math Kernel Library 2025.0 will require Intel(R) Advanced Vector Extensions (Intel(R) AVX) instructions.\n",
      "Intel MKL WARNING: Support of Intel(R) Streaming SIMD Extensions 4.2 (Intel(R) SSE4.2) enabled only processors has been deprecated. Intel oneAPI Math Kernel Library 2025.0 will require Intel(R) Advanced Vector Extensions (Intel(R) AVX) instructions.\n",
      "Intel MKL WARNING: Support of Intel(R) Streaming SIMD Extensions 4.2 (Intel(R) SSE4.2) enabled only processors has been deprecated. Intel oneAPI Math Kernel Library 2025.0 will require Intel(R) Advanced Vector Extensions (Intel(R) AVX) instructions.\n",
      "Intel MKL WARNING: Support of Intel(R) Streaming SIMD Extensions 4.2 (Intel(R) SSE4.2) enabled only processors has been deprecated. Intel oneAPI Math Kernel Library 2025.0 will require Intel(R) Advanced Vector Extensions (Intel(R) AVX) instructions.\n",
      "Intel MKL WARNING: Support of Intel(R) Streaming SIMD Extensions 4.2 (Intel(R) SSE4.2) enabled only processors has been deprecated. Intel oneAPI Math Kernel Library 2025.0 will require Intel(R) Advanced Vector Extensions (Intel(R) AVX) instructions.\n",
      "Intel MKL WARNING: Support of Intel(R) Streaming SIMD Extensions 4.2 (Intel(R) SSE4.2) enabled only processors has been deprecated. Intel oneAPI Math Kernel Library 2025.0 will require Intel(R) Advanced Vector Extensions (Intel(R) AVX) instructions.\n",
      "Intel MKL WARNING: Support of Intel(R) Streaming SIMD Extensions 4.2 (Intel(R) SSE4.2) enabled only processors has been deprecated. Intel oneAPI Math Kernel Library 2025.0 will require Intel(R) Advanced Vector Extensions (Intel(R) AVX) instructions.\n",
      "Intel MKL WARNING: Support of Intel(R) Streaming SIMD Extensions 4.2 (Intel(R) SSE4.2) enabled only processors has been deprecated. Intel oneAPI Math Kernel Library 2025.0 will require Intel(R) Advanced Vector Extensions (Intel(R) AVX) instructions.\n",
      "Intel MKL WARNING: Support of Intel(R) Streaming SIMD Extensions 4.2 (Intel(R) SSE4.2) enabled only processors has been deprecated. Intel oneAPI Math Kernel Library 2025.0 will require Intel(R) Advanced Vector Extensions (Intel(R) AVX) instructions.\n",
      "Intel MKL WARNING: Support of Intel(R) Streaming SIMD Extensions 4.2 (Intel(R) SSE4.2) enabled only processors has been deprecated. Intel oneAPI Math Kernel Library 2025.0 will require Intel(R) Advanced Vector Extensions (Intel(R) AVX) instructions.\n"
     ]
    },
    {
     "data": {
      "application/vnd.jupyter.widget-view+json": {
       "model_id": "",
       "version_major": 2,
       "version_minor": 0
      },
      "text/plain": [
       "Validation: |                                             | 0/? [00:00<?, ?it/s]"
      ]
     },
     "metadata": {},
     "output_type": "display_data"
    },
    {
     "name": "stdout",
     "output_type": "stream",
     "text": [
      "Intel MKL WARNING: Support of Intel(R) Streaming SIMD Extensions 4.2 (Intel(R) SSE4.2) enabled only processors has been deprecated. Intel oneAPI Math Kernel Library 2025.0 will require Intel(R) Advanced Vector Extensions (Intel(R) AVX) instructions.\n",
      "Intel MKL WARNING: Support of Intel(R) Streaming SIMD Extensions 4.2 (Intel(R) SSE4.2) enabled only processors has been deprecated. Intel oneAPI Math Kernel Library 2025.0 will require Intel(R) Advanced Vector Extensions (Intel(R) AVX) instructions.\n",
      "Intel MKL WARNING: Support of Intel(R) Streaming SIMD Extensions 4.2 (Intel(R) SSE4.2) enabled only processors has been deprecated. Intel oneAPI Math Kernel Library 2025.0 will require Intel(R) Advanced Vector Extensions (Intel(R) AVX) instructions.\n",
      "Intel MKL WARNING: Support of Intel(R) Streaming SIMD Extensions 4.2 (Intel(R) SSE4.2) enabled only processors has been deprecated. Intel oneAPI Math Kernel Library 2025.0 will require Intel(R) Advanced Vector Extensions (Intel(R) AVX) instructions.\n",
      "Intel MKL WARNING: Support of Intel(R) Streaming SIMD Extensions 4.2 (Intel(R) SSE4.2) enabled only processors has been deprecated. Intel oneAPI Math Kernel Library 2025.0 will require Intel(R) Advanced Vector Extensions (Intel(R) AVX) instructions.\n",
      "Intel MKL WARNING: Support of Intel(R) Streaming SIMD Extensions 4.2 (Intel(R) SSE4.2) enabled only processors has been deprecated. Intel oneAPI Math Kernel Library 2025.0 will require Intel(R) Advanced Vector Extensions (Intel(R) AVX) instructions.\n",
      "Intel MKL WARNING: Support of Intel(R) Streaming SIMD Extensions 4.2 (Intel(R) SSE4.2) enabled only processors has been deprecated. Intel oneAPI Math Kernel Library 2025.0 will require Intel(R) Advanced Vector Extensions (Intel(R) AVX) instructions.\n",
      "Intel MKL WARNING: Support of Intel(R) Streaming SIMD Extensions 4.2 (Intel(R) SSE4.2) enabled only processors has been deprecated. Intel oneAPI Math Kernel Library 2025.0 will require Intel(R) Advanced Vector Extensions (Intel(R) AVX) instructions.\n",
      "Intel MKL WARNING: Support of Intel(R) Streaming SIMD Extensions 4.2 (Intel(R) SSE4.2) enabled only processors has been deprecated. Intel oneAPI Math Kernel Library 2025.0 will require Intel(R) Advanced Vector Extensions (Intel(R) AVX) instructions.\n",
      "Intel MKL WARNING: Support of Intel(R) Streaming SIMD Extensions 4.2 (Intel(R) SSE4.2) enabled only processors has been deprecated. Intel oneAPI Math Kernel Library 2025.0 will require Intel(R) Advanced Vector Extensions (Intel(R) AVX) instructions.\n",
      "Intel MKL WARNING: Support of Intel(R) Streaming SIMD Extensions 4.2 (Intel(R) SSE4.2) enabled only processors has been deprecated. Intel oneAPI Math Kernel Library 2025.0 will require Intel(R) Advanced Vector Extensions (Intel(R) AVX) instructions.\n",
      "Intel MKL WARNING: Support of Intel(R) Streaming SIMD Extensions 4.2 (Intel(R) SSE4.2) enabled only processors has been deprecated. Intel oneAPI Math Kernel Library 2025.0 will require Intel(R) Advanced Vector Extensions (Intel(R) AVX) instructions.\n",
      "Intel MKL WARNING: Support of Intel(R) Streaming SIMD Extensions 4.2 (Intel(R) SSE4.2) enabled only processors has been deprecated. Intel oneAPI Math Kernel Library 2025.0 will require Intel(R) Advanced Vector Extensions (Intel(R) AVX) instructions.\n",
      "Intel MKL WARNING: Support of Intel(R) Streaming SIMD Extensions 4.2 (Intel(R) SSE4.2) enabled only processors has been deprecated. Intel oneAPI Math Kernel Library 2025.0 will require Intel(R) Advanced Vector Extensions (Intel(R) AVX) instructions.\n"
     ]
    },
    {
     "data": {
      "application/vnd.jupyter.widget-view+json": {
       "model_id": "",
       "version_major": 2,
       "version_minor": 0
      },
      "text/plain": [
       "Validation: |                                             | 0/? [00:00<?, ?it/s]"
      ]
     },
     "metadata": {},
     "output_type": "display_data"
    },
    {
     "name": "stdout",
     "output_type": "stream",
     "text": [
      "Intel MKL WARNING: Support of Intel(R) Streaming SIMD Extensions 4.2 (Intel(R) SSE4.2) enabled only processors has been deprecated. Intel oneAPI Math Kernel Library 2025.0 will require Intel(R) Advanced Vector Extensions (Intel(R) AVX) instructions.\n",
      "Intel MKL WARNING: Support of Intel(R) Streaming SIMD Extensions 4.2 (Intel(R) SSE4.2) enabled only processors has been deprecated. Intel oneAPI Math Kernel Library 2025.0 will require Intel(R) Advanced Vector Extensions (Intel(R) AVX) instructions.\n",
      "Intel MKL WARNING: Support of Intel(R) Streaming SIMD Extensions 4.2 (Intel(R) SSE4.2) enabled only processors has been deprecated. Intel oneAPI Math Kernel Library 2025.0 will require Intel(R) Advanced Vector Extensions (Intel(R) AVX) instructions.\n",
      "Intel MKL WARNING: Support of Intel(R) Streaming SIMD Extensions 4.2 (Intel(R) SSE4.2) enabled only processors has been deprecated. Intel oneAPI Math Kernel Library 2025.0 will require Intel(R) Advanced Vector Extensions (Intel(R) AVX) instructions.\n",
      "Intel MKL WARNING: Support of Intel(R) Streaming SIMD Extensions 4.2 (Intel(R) SSE4.2) enabled only processors has been deprecated. Intel oneAPI Math Kernel Library 2025.0 will require Intel(R) Advanced Vector Extensions (Intel(R) AVX) instructions.\n",
      "Intel MKL WARNING: Support of Intel(R) Streaming SIMD Extensions 4.2 (Intel(R) SSE4.2) enabled only processors has been deprecated. Intel oneAPI Math Kernel Library 2025.0 will require Intel(R) Advanced Vector Extensions (Intel(R) AVX) instructions.\n",
      "Intel MKL WARNING: Support of Intel(R) Streaming SIMD Extensions 4.2 (Intel(R) SSE4.2) enabled only processors has been deprecated. Intel oneAPI Math Kernel Library 2025.0 will require Intel(R) Advanced Vector Extensions (Intel(R) AVX) instructions.\n",
      "Intel MKL WARNING: Support of Intel(R) Streaming SIMD Extensions 4.2 (Intel(R) SSE4.2) enabled only processors has been deprecated. Intel oneAPI Math Kernel Library 2025.0 will require Intel(R) Advanced Vector Extensions (Intel(R) AVX) instructions.\n",
      "Intel MKL WARNING: Support of Intel(R) Streaming SIMD Extensions 4.2 (Intel(R) SSE4.2) enabled only processors has been deprecated. Intel oneAPI Math Kernel Library 2025.0 will require Intel(R) Advanced Vector Extensions (Intel(R) AVX) instructions.\n",
      "Intel MKL WARNING: Support of Intel(R) Streaming SIMD Extensions 4.2 (Intel(R) SSE4.2) enabled only processors has been deprecated. Intel oneAPI Math Kernel Library 2025.0 will require Intel(R) Advanced Vector Extensions (Intel(R) AVX) instructions.\n",
      "Intel MKL WARNING: Support of Intel(R) Streaming SIMD Extensions 4.2 (Intel(R) SSE4.2) enabled only processors has been deprecated. Intel oneAPI Math Kernel Library 2025.0 will require Intel(R) Advanced Vector Extensions (Intel(R) AVX) instructions.\n",
      "Intel MKL WARNING: Support of Intel(R) Streaming SIMD Extensions 4.2 (Intel(R) SSE4.2) enabled only processors has been deprecated. Intel oneAPI Math Kernel Library 2025.0 will require Intel(R) Advanced Vector Extensions (Intel(R) AVX) instructions.\n",
      "Intel MKL WARNING: Support of Intel(R) Streaming SIMD Extensions 4.2 (Intel(R) SSE4.2) enabled only processors has been deprecated. Intel oneAPI Math Kernel Library 2025.0 will require Intel(R) Advanced Vector Extensions (Intel(R) AVX) instructions.\n",
      "Intel MKL WARNING: Support of Intel(R) Streaming SIMD Extensions 4.2 (Intel(R) SSE4.2) enabled only processors has been deprecated. Intel oneAPI Math Kernel Library 2025.0 will require Intel(R) Advanced Vector Extensions (Intel(R) AVX) instructions.\n"
     ]
    },
    {
     "data": {
      "application/vnd.jupyter.widget-view+json": {
       "model_id": "",
       "version_major": 2,
       "version_minor": 0
      },
      "text/plain": [
       "Validation: |                                             | 0/? [00:00<?, ?it/s]"
      ]
     },
     "metadata": {},
     "output_type": "display_data"
    },
    {
     "name": "stdout",
     "output_type": "stream",
     "text": [
      "Intel MKL WARNING: Support of Intel(R) Streaming SIMD Extensions 4.2 (Intel(R) SSE4.2) enabled only processors has been deprecated. Intel oneAPI Math Kernel Library 2025.0 will require Intel(R) Advanced Vector Extensions (Intel(R) AVX) instructions.\n",
      "Intel MKL WARNING: Support of Intel(R) Streaming SIMD Extensions 4.2 (Intel(R) SSE4.2) enabled only processors has been deprecated. Intel oneAPI Math Kernel Library 2025.0 will require Intel(R) Advanced Vector Extensions (Intel(R) AVX) instructions.\n",
      "Intel MKL WARNING: Support of Intel(R) Streaming SIMD Extensions 4.2 (Intel(R) SSE4.2) enabled only processors has been deprecated. Intel oneAPI Math Kernel Library 2025.0 will require Intel(R) Advanced Vector Extensions (Intel(R) AVX) instructions.\n",
      "Intel MKL WARNING: Support of Intel(R) Streaming SIMD Extensions 4.2 (Intel(R) SSE4.2) enabled only processors has been deprecated. Intel oneAPI Math Kernel Library 2025.0 will require Intel(R) Advanced Vector Extensions (Intel(R) AVX) instructions.\n",
      "Intel MKL WARNING: Support of Intel(R) Streaming SIMD Extensions 4.2 (Intel(R) SSE4.2) enabled only processors has been deprecated. Intel oneAPI Math Kernel Library 2025.0 will require Intel(R) Advanced Vector Extensions (Intel(R) AVX) instructions.\n",
      "Intel MKL WARNING: Support of Intel(R) Streaming SIMD Extensions 4.2 (Intel(R) SSE4.2) enabled only processors has been deprecated. Intel oneAPI Math Kernel Library 2025.0 will require Intel(R) Advanced Vector Extensions (Intel(R) AVX) instructions.\n",
      "Intel MKL WARNING: Support of Intel(R) Streaming SIMD Extensions 4.2 (Intel(R) SSE4.2) enabled only processors has been deprecated. Intel oneAPI Math Kernel Library 2025.0 will require Intel(R) Advanced Vector Extensions (Intel(R) AVX) instructions.\n",
      "Intel MKL WARNING: Support of Intel(R) Streaming SIMD Extensions 4.2 (Intel(R) SSE4.2) enabled only processors has been deprecated. Intel oneAPI Math Kernel Library 2025.0 will require Intel(R) Advanced Vector Extensions (Intel(R) AVX) instructions.\n",
      "Intel MKL WARNING: Support of Intel(R) Streaming SIMD Extensions 4.2 (Intel(R) SSE4.2) enabled only processors has been deprecated. Intel oneAPI Math Kernel Library 2025.0 will require Intel(R) Advanced Vector Extensions (Intel(R) AVX) instructions.\n",
      "Intel MKL WARNING: Support of Intel(R) Streaming SIMD Extensions 4.2 (Intel(R) SSE4.2) enabled only processors has been deprecated. Intel oneAPI Math Kernel Library 2025.0 will require Intel(R) Advanced Vector Extensions (Intel(R) AVX) instructions.\n",
      "Intel MKL WARNING: Support of Intel(R) Streaming SIMD Extensions 4.2 (Intel(R) SSE4.2) enabled only processors has been deprecated. Intel oneAPI Math Kernel Library 2025.0 will require Intel(R) Advanced Vector Extensions (Intel(R) AVX) instructions.\n",
      "Intel MKL WARNING: Support of Intel(R) Streaming SIMD Extensions 4.2 (Intel(R) SSE4.2) enabled only processors has been deprecated. Intel oneAPI Math Kernel Library 2025.0 will require Intel(R) Advanced Vector Extensions (Intel(R) AVX) instructions.\n",
      "Intel MKL WARNING: Support of Intel(R) Streaming SIMD Extensions 4.2 (Intel(R) SSE4.2) enabled only processors has been deprecated. Intel oneAPI Math Kernel Library 2025.0 will require Intel(R) Advanced Vector Extensions (Intel(R) AVX) instructions.\n",
      "Intel MKL WARNING: Support of Intel(R) Streaming SIMD Extensions 4.2 (Intel(R) SSE4.2) enabled only processors has been deprecated. Intel oneAPI Math Kernel Library 2025.0 will require Intel(R) Advanced Vector Extensions (Intel(R) AVX) instructions.\n"
     ]
    },
    {
     "data": {
      "application/vnd.jupyter.widget-view+json": {
       "model_id": "",
       "version_major": 2,
       "version_minor": 0
      },
      "text/plain": [
       "Validation: |                                             | 0/? [00:00<?, ?it/s]"
      ]
     },
     "metadata": {},
     "output_type": "display_data"
    },
    {
     "name": "stdout",
     "output_type": "stream",
     "text": [
      "Intel MKL WARNING: Support of Intel(R) Streaming SIMD Extensions 4.2 (Intel(R) SSE4.2) enabled only processors has been deprecated. Intel oneAPI Math Kernel Library 2025.0 will require Intel(R) Advanced Vector Extensions (Intel(R) AVX) instructions.\n",
      "Intel MKL WARNING: Support of Intel(R) Streaming SIMD Extensions 4.2 (Intel(R) SSE4.2) enabled only processors has been deprecated. Intel oneAPI Math Kernel Library 2025.0 will require Intel(R) Advanced Vector Extensions (Intel(R) AVX) instructions.\n",
      "Intel MKL WARNING: Support of Intel(R) Streaming SIMD Extensions 4.2 (Intel(R) SSE4.2) enabled only processors has been deprecated. Intel oneAPI Math Kernel Library 2025.0 will require Intel(R) Advanced Vector Extensions (Intel(R) AVX) instructions.\n",
      "Intel MKL WARNING: Support of Intel(R) Streaming SIMD Extensions 4.2 (Intel(R) SSE4.2) enabled only processors has been deprecated. Intel oneAPI Math Kernel Library 2025.0 will require Intel(R) Advanced Vector Extensions (Intel(R) AVX) instructions.\n",
      "Intel MKL WARNING: Support of Intel(R) Streaming SIMD Extensions 4.2 (Intel(R) SSE4.2) enabled only processors has been deprecated. Intel oneAPI Math Kernel Library 2025.0 will require Intel(R) Advanced Vector Extensions (Intel(R) AVX) instructions.\n",
      "Intel MKL WARNING: Support of Intel(R) Streaming SIMD Extensions 4.2 (Intel(R) SSE4.2) enabled only processors has been deprecated. Intel oneAPI Math Kernel Library 2025.0 will require Intel(R) Advanced Vector Extensions (Intel(R) AVX) instructions.\n",
      "Intel MKL WARNING: Support of Intel(R) Streaming SIMD Extensions 4.2 (Intel(R) SSE4.2) enabled only processors has been deprecated. Intel oneAPI Math Kernel Library 2025.0 will require Intel(R) Advanced Vector Extensions (Intel(R) AVX) instructions.\n",
      "Intel MKL WARNING: Support of Intel(R) Streaming SIMD Extensions 4.2 (Intel(R) SSE4.2) enabled only processors has been deprecated. Intel oneAPI Math Kernel Library 2025.0 will require Intel(R) Advanced Vector Extensions (Intel(R) AVX) instructions.\n",
      "Intel MKL WARNING: Support of Intel(R) Streaming SIMD Extensions 4.2 (Intel(R) SSE4.2) enabled only processors has been deprecated. Intel oneAPI Math Kernel Library 2025.0 will require Intel(R) Advanced Vector Extensions (Intel(R) AVX) instructions.\n",
      "Intel MKL WARNING: Support of Intel(R) Streaming SIMD Extensions 4.2 (Intel(R) SSE4.2) enabled only processors has been deprecated. Intel oneAPI Math Kernel Library 2025.0 will require Intel(R) Advanced Vector Extensions (Intel(R) AVX) instructions.\n",
      "Intel MKL WARNING: Support of Intel(R) Streaming SIMD Extensions 4.2 (Intel(R) SSE4.2) enabled only processors has been deprecated. Intel oneAPI Math Kernel Library 2025.0 will require Intel(R) Advanced Vector Extensions (Intel(R) AVX) instructions.\n",
      "Intel MKL WARNING: Support of Intel(R) Streaming SIMD Extensions 4.2 (Intel(R) SSE4.2) enabled only processors has been deprecated. Intel oneAPI Math Kernel Library 2025.0 will require Intel(R) Advanced Vector Extensions (Intel(R) AVX) instructions.\n",
      "Intel MKL WARNING: Support of Intel(R) Streaming SIMD Extensions 4.2 (Intel(R) SSE4.2) enabled only processors has been deprecated. Intel oneAPI Math Kernel Library 2025.0 will require Intel(R) Advanced Vector Extensions (Intel(R) AVX) instructions.\n",
      "Intel MKL WARNING: Support of Intel(R) Streaming SIMD Extensions 4.2 (Intel(R) SSE4.2) enabled only processors has been deprecated. Intel oneAPI Math Kernel Library 2025.0 will require Intel(R) Advanced Vector Extensions (Intel(R) AVX) instructions.\n"
     ]
    },
    {
     "data": {
      "application/vnd.jupyter.widget-view+json": {
       "model_id": "",
       "version_major": 2,
       "version_minor": 0
      },
      "text/plain": [
       "Validation: |                                             | 0/? [00:00<?, ?it/s]"
      ]
     },
     "metadata": {},
     "output_type": "display_data"
    },
    {
     "name": "stdout",
     "output_type": "stream",
     "text": [
      "Intel MKL WARNING: Support of Intel(R) Streaming SIMD Extensions 4.2 (Intel(R) SSE4.2) enabled only processors has been deprecated. Intel oneAPI Math Kernel Library 2025.0 will require Intel(R) Advanced Vector Extensions (Intel(R) AVX) instructions.\n",
      "Intel MKL WARNING: Support of Intel(R) Streaming SIMD Extensions 4.2 (Intel(R) SSE4.2) enabled only processors has been deprecated. Intel oneAPI Math Kernel Library 2025.0 will require Intel(R) Advanced Vector Extensions (Intel(R) AVX) instructions.\n",
      "Intel MKL WARNING: Support of Intel(R) Streaming SIMD Extensions 4.2 (Intel(R) SSE4.2) enabled only processors has been deprecated. Intel oneAPI Math Kernel Library 2025.0 will require Intel(R) Advanced Vector Extensions (Intel(R) AVX) instructions.\n",
      "Intel MKL WARNING: Support of Intel(R) Streaming SIMD Extensions 4.2 (Intel(R) SSE4.2) enabled only processors has been deprecated. Intel oneAPI Math Kernel Library 2025.0 will require Intel(R) Advanced Vector Extensions (Intel(R) AVX) instructions.\n",
      "Intel MKL WARNING: Support of Intel(R) Streaming SIMD Extensions 4.2 (Intel(R) SSE4.2) enabled only processors has been deprecated. Intel oneAPI Math Kernel Library 2025.0 will require Intel(R) Advanced Vector Extensions (Intel(R) AVX) instructions.\n",
      "Intel MKL WARNING: Support of Intel(R) Streaming SIMD Extensions 4.2 (Intel(R) SSE4.2) enabled only processors has been deprecated. Intel oneAPI Math Kernel Library 2025.0 will require Intel(R) Advanced Vector Extensions (Intel(R) AVX) instructions.\n",
      "Intel MKL WARNING: Support of Intel(R) Streaming SIMD Extensions 4.2 (Intel(R) SSE4.2) enabled only processors has been deprecated. Intel oneAPI Math Kernel Library 2025.0 will require Intel(R) Advanced Vector Extensions (Intel(R) AVX) instructions.\n",
      "Intel MKL WARNING: Support of Intel(R) Streaming SIMD Extensions 4.2 (Intel(R) SSE4.2) enabled only processors has been deprecated. Intel oneAPI Math Kernel Library 2025.0 will require Intel(R) Advanced Vector Extensions (Intel(R) AVX) instructions.\n",
      "Intel MKL WARNING: Support of Intel(R) Streaming SIMD Extensions 4.2 (Intel(R) SSE4.2) enabled only processors has been deprecated. Intel oneAPI Math Kernel Library 2025.0 will require Intel(R) Advanced Vector Extensions (Intel(R) AVX) instructions.\n",
      "Intel MKL WARNING: Support of Intel(R) Streaming SIMD Extensions 4.2 (Intel(R) SSE4.2) enabled only processors has been deprecated. Intel oneAPI Math Kernel Library 2025.0 will require Intel(R) Advanced Vector Extensions (Intel(R) AVX) instructions.\n",
      "Intel MKL WARNING: Support of Intel(R) Streaming SIMD Extensions 4.2 (Intel(R) SSE4.2) enabled only processors has been deprecated. Intel oneAPI Math Kernel Library 2025.0 will require Intel(R) Advanced Vector Extensions (Intel(R) AVX) instructions.\n",
      "Intel MKL WARNING: Support of Intel(R) Streaming SIMD Extensions 4.2 (Intel(R) SSE4.2) enabled only processors has been deprecated. Intel oneAPI Math Kernel Library 2025.0 will require Intel(R) Advanced Vector Extensions (Intel(R) AVX) instructions.\n",
      "Intel MKL WARNING: Support of Intel(R) Streaming SIMD Extensions 4.2 (Intel(R) SSE4.2) enabled only processors has been deprecated. Intel oneAPI Math Kernel Library 2025.0 will require Intel(R) Advanced Vector Extensions (Intel(R) AVX) instructions.\n",
      "Intel MKL WARNING: Support of Intel(R) Streaming SIMD Extensions 4.2 (Intel(R) SSE4.2) enabled only processors has been deprecated. Intel oneAPI Math Kernel Library 2025.0 will require Intel(R) Advanced Vector Extensions (Intel(R) AVX) instructions.\n"
     ]
    },
    {
     "data": {
      "application/vnd.jupyter.widget-view+json": {
       "model_id": "",
       "version_major": 2,
       "version_minor": 0
      },
      "text/plain": [
       "Validation: |                                             | 0/? [00:00<?, ?it/s]"
      ]
     },
     "metadata": {},
     "output_type": "display_data"
    },
    {
     "name": "stdout",
     "output_type": "stream",
     "text": [
      "Intel MKL WARNING: Support of Intel(R) Streaming SIMD Extensions 4.2 (Intel(R) SSE4.2) enabled only processors has been deprecated. Intel oneAPI Math Kernel Library 2025.0 will require Intel(R) Advanced Vector Extensions (Intel(R) AVX) instructions.\n",
      "Intel MKL WARNING: Support of Intel(R) Streaming SIMD Extensions 4.2 (Intel(R) SSE4.2) enabled only processors has been deprecated. Intel oneAPI Math Kernel Library 2025.0 will require Intel(R) Advanced Vector Extensions (Intel(R) AVX) instructions.\n",
      "Intel MKL WARNING: Support of Intel(R) Streaming SIMD Extensions 4.2 (Intel(R) SSE4.2) enabled only processors has been deprecated. Intel oneAPI Math Kernel Library 2025.0 will require Intel(R) Advanced Vector Extensions (Intel(R) AVX) instructions.\n",
      "Intel MKL WARNING: Support of Intel(R) Streaming SIMD Extensions 4.2 (Intel(R) SSE4.2) enabled only processors has been deprecated. Intel oneAPI Math Kernel Library 2025.0 will require Intel(R) Advanced Vector Extensions (Intel(R) AVX) instructions.\n",
      "Intel MKL WARNING: Support of Intel(R) Streaming SIMD Extensions 4.2 (Intel(R) SSE4.2) enabled only processors has been deprecated. Intel oneAPI Math Kernel Library 2025.0 will require Intel(R) Advanced Vector Extensions (Intel(R) AVX) instructions.\n",
      "Intel MKL WARNING: Support of Intel(R) Streaming SIMD Extensions 4.2 (Intel(R) SSE4.2) enabled only processors has been deprecated. Intel oneAPI Math Kernel Library 2025.0 will require Intel(R) Advanced Vector Extensions (Intel(R) AVX) instructions.\n",
      "Intel MKL WARNING: Support of Intel(R) Streaming SIMD Extensions 4.2 (Intel(R) SSE4.2) enabled only processors has been deprecated. Intel oneAPI Math Kernel Library 2025.0 will require Intel(R) Advanced Vector Extensions (Intel(R) AVX) instructions.\n",
      "Intel MKL WARNING: Support of Intel(R) Streaming SIMD Extensions 4.2 (Intel(R) SSE4.2) enabled only processors has been deprecated. Intel oneAPI Math Kernel Library 2025.0 will require Intel(R) Advanced Vector Extensions (Intel(R) AVX) instructions.\n",
      "Intel MKL WARNING: Support of Intel(R) Streaming SIMD Extensions 4.2 (Intel(R) SSE4.2) enabled only processors has been deprecated. Intel oneAPI Math Kernel Library 2025.0 will require Intel(R) Advanced Vector Extensions (Intel(R) AVX) instructions.\n",
      "Intel MKL WARNING: Support of Intel(R) Streaming SIMD Extensions 4.2 (Intel(R) SSE4.2) enabled only processors has been deprecated. Intel oneAPI Math Kernel Library 2025.0 will require Intel(R) Advanced Vector Extensions (Intel(R) AVX) instructions.\n",
      "Intel MKL WARNING: Support of Intel(R) Streaming SIMD Extensions 4.2 (Intel(R) SSE4.2) enabled only processors has been deprecated. Intel oneAPI Math Kernel Library 2025.0 will require Intel(R) Advanced Vector Extensions (Intel(R) AVX) instructions.\n",
      "Intel MKL WARNING: Support of Intel(R) Streaming SIMD Extensions 4.2 (Intel(R) SSE4.2) enabled only processors has been deprecated. Intel oneAPI Math Kernel Library 2025.0 will require Intel(R) Advanced Vector Extensions (Intel(R) AVX) instructions.\n",
      "Intel MKL WARNING: Support of Intel(R) Streaming SIMD Extensions 4.2 (Intel(R) SSE4.2) enabled only processors has been deprecated. Intel oneAPI Math Kernel Library 2025.0 will require Intel(R) Advanced Vector Extensions (Intel(R) AVX) instructions.\n",
      "Intel MKL WARNING: Support of Intel(R) Streaming SIMD Extensions 4.2 (Intel(R) SSE4.2) enabled only processors has been deprecated. Intel oneAPI Math Kernel Library 2025.0 will require Intel(R) Advanced Vector Extensions (Intel(R) AVX) instructions.\n"
     ]
    },
    {
     "data": {
      "application/vnd.jupyter.widget-view+json": {
       "model_id": "",
       "version_major": 2,
       "version_minor": 0
      },
      "text/plain": [
       "Validation: |                                             | 0/? [00:00<?, ?it/s]"
      ]
     },
     "metadata": {},
     "output_type": "display_data"
    },
    {
     "name": "stdout",
     "output_type": "stream",
     "text": [
      "Intel MKL WARNING: Support of Intel(R) Streaming SIMD Extensions 4.2 (Intel(R) SSE4.2) enabled only processors has been deprecated. Intel oneAPI Math Kernel Library 2025.0 will require Intel(R) Advanced Vector Extensions (Intel(R) AVX) instructions.\n",
      "Intel MKL WARNING: Support of Intel(R) Streaming SIMD Extensions 4.2 (Intel(R) SSE4.2) enabled only processors has been deprecated. Intel oneAPI Math Kernel Library 2025.0 will require Intel(R) Advanced Vector Extensions (Intel(R) AVX) instructions.\n",
      "Intel MKL WARNING: Support of Intel(R) Streaming SIMD Extensions 4.2 (Intel(R) SSE4.2) enabled only processors has been deprecated. Intel oneAPI Math Kernel Library 2025.0 will require Intel(R) Advanced Vector Extensions (Intel(R) AVX) instructions.\n",
      "Intel MKL WARNING: Support of Intel(R) Streaming SIMD Extensions 4.2 (Intel(R) SSE4.2) enabled only processors has been deprecated. Intel oneAPI Math Kernel Library 2025.0 will require Intel(R) Advanced Vector Extensions (Intel(R) AVX) instructions.\n",
      "Intel MKL WARNING: Support of Intel(R) Streaming SIMD Extensions 4.2 (Intel(R) SSE4.2) enabled only processors has been deprecated. Intel oneAPI Math Kernel Library 2025.0 will require Intel(R) Advanced Vector Extensions (Intel(R) AVX) instructions.\n",
      "Intel MKL WARNING: Support of Intel(R) Streaming SIMD Extensions 4.2 (Intel(R) SSE4.2) enabled only processors has been deprecated. Intel oneAPI Math Kernel Library 2025.0 will require Intel(R) Advanced Vector Extensions (Intel(R) AVX) instructions.\n",
      "Intel MKL WARNING: Support of Intel(R) Streaming SIMD Extensions 4.2 (Intel(R) SSE4.2) enabled only processors has been deprecated. Intel oneAPI Math Kernel Library 2025.0 will require Intel(R) Advanced Vector Extensions (Intel(R) AVX) instructions.\n",
      "Intel MKL WARNING: Support of Intel(R) Streaming SIMD Extensions 4.2 (Intel(R) SSE4.2) enabled only processors has been deprecated. Intel oneAPI Math Kernel Library 2025.0 will require Intel(R) Advanced Vector Extensions (Intel(R) AVX) instructions.\n",
      "Intel MKL WARNING: Support of Intel(R) Streaming SIMD Extensions 4.2 (Intel(R) SSE4.2) enabled only processors has been deprecated. Intel oneAPI Math Kernel Library 2025.0 will require Intel(R) Advanced Vector Extensions (Intel(R) AVX) instructions.\n",
      "Intel MKL WARNING: Support of Intel(R) Streaming SIMD Extensions 4.2 (Intel(R) SSE4.2) enabled only processors has been deprecated. Intel oneAPI Math Kernel Library 2025.0 will require Intel(R) Advanced Vector Extensions (Intel(R) AVX) instructions.\n",
      "Intel MKL WARNING: Support of Intel(R) Streaming SIMD Extensions 4.2 (Intel(R) SSE4.2) enabled only processors has been deprecated. Intel oneAPI Math Kernel Library 2025.0 will require Intel(R) Advanced Vector Extensions (Intel(R) AVX) instructions.\n",
      "Intel MKL WARNING: Support of Intel(R) Streaming SIMD Extensions 4.2 (Intel(R) SSE4.2) enabled only processors has been deprecated. Intel oneAPI Math Kernel Library 2025.0 will require Intel(R) Advanced Vector Extensions (Intel(R) AVX) instructions.\n",
      "Intel MKL WARNING: Support of Intel(R) Streaming SIMD Extensions 4.2 (Intel(R) SSE4.2) enabled only processors has been deprecated. Intel oneAPI Math Kernel Library 2025.0 will require Intel(R) Advanced Vector Extensions (Intel(R) AVX) instructions.\n",
      "Intel MKL WARNING: Support of Intel(R) Streaming SIMD Extensions 4.2 (Intel(R) SSE4.2) enabled only processors has been deprecated. Intel oneAPI Math Kernel Library 2025.0 will require Intel(R) Advanced Vector Extensions (Intel(R) AVX) instructions.\n"
     ]
    },
    {
     "data": {
      "application/vnd.jupyter.widget-view+json": {
       "model_id": "",
       "version_major": 2,
       "version_minor": 0
      },
      "text/plain": [
       "Validation: |                                             | 0/? [00:00<?, ?it/s]"
      ]
     },
     "metadata": {},
     "output_type": "display_data"
    },
    {
     "name": "stdout",
     "output_type": "stream",
     "text": [
      "Intel MKL WARNING: Support of Intel(R) Streaming SIMD Extensions 4.2 (Intel(R) SSE4.2) enabled only processors has been deprecated. Intel oneAPI Math Kernel Library 2025.0 will require Intel(R) Advanced Vector Extensions (Intel(R) AVX) instructions.\n",
      "Intel MKL WARNING: Support of Intel(R) Streaming SIMD Extensions 4.2 (Intel(R) SSE4.2) enabled only processors has been deprecated. Intel oneAPI Math Kernel Library 2025.0 will require Intel(R) Advanced Vector Extensions (Intel(R) AVX) instructions.\n",
      "Intel MKL WARNING: Support of Intel(R) Streaming SIMD Extensions 4.2 (Intel(R) SSE4.2) enabled only processors has been deprecated. Intel oneAPI Math Kernel Library 2025.0 will require Intel(R) Advanced Vector Extensions (Intel(R) AVX) instructions.\n",
      "Intel MKL WARNING: Support of Intel(R) Streaming SIMD Extensions 4.2 (Intel(R) SSE4.2) enabled only processors has been deprecated. Intel oneAPI Math Kernel Library 2025.0 will require Intel(R) Advanced Vector Extensions (Intel(R) AVX) instructions.\n",
      "Intel MKL WARNING: Support of Intel(R) Streaming SIMD Extensions 4.2 (Intel(R) SSE4.2) enabled only processors has been deprecated. Intel oneAPI Math Kernel Library 2025.0 will require Intel(R) Advanced Vector Extensions (Intel(R) AVX) instructions.\n",
      "Intel MKL WARNING: Support of Intel(R) Streaming SIMD Extensions 4.2 (Intel(R) SSE4.2) enabled only processors has been deprecated. Intel oneAPI Math Kernel Library 2025.0 will require Intel(R) Advanced Vector Extensions (Intel(R) AVX) instructions.\n",
      "Intel MKL WARNING: Support of Intel(R) Streaming SIMD Extensions 4.2 (Intel(R) SSE4.2) enabled only processors has been deprecated. Intel oneAPI Math Kernel Library 2025.0 will require Intel(R) Advanced Vector Extensions (Intel(R) AVX) instructions.\n",
      "Intel MKL WARNING: Support of Intel(R) Streaming SIMD Extensions 4.2 (Intel(R) SSE4.2) enabled only processors has been deprecated. Intel oneAPI Math Kernel Library 2025.0 will require Intel(R) Advanced Vector Extensions (Intel(R) AVX) instructions.\n",
      "Intel MKL WARNING: Support of Intel(R) Streaming SIMD Extensions 4.2 (Intel(R) SSE4.2) enabled only processors has been deprecated. Intel oneAPI Math Kernel Library 2025.0 will require Intel(R) Advanced Vector Extensions (Intel(R) AVX) instructions.\n",
      "Intel MKL WARNING: Support of Intel(R) Streaming SIMD Extensions 4.2 (Intel(R) SSE4.2) enabled only processors has been deprecated. Intel oneAPI Math Kernel Library 2025.0 will require Intel(R) Advanced Vector Extensions (Intel(R) AVX) instructions.\n",
      "Intel MKL WARNING: Support of Intel(R) Streaming SIMD Extensions 4.2 (Intel(R) SSE4.2) enabled only processors has been deprecated. Intel oneAPI Math Kernel Library 2025.0 will require Intel(R) Advanced Vector Extensions (Intel(R) AVX) instructions.\n",
      "Intel MKL WARNING: Support of Intel(R) Streaming SIMD Extensions 4.2 (Intel(R) SSE4.2) enabled only processors has been deprecated. Intel oneAPI Math Kernel Library 2025.0 will require Intel(R) Advanced Vector Extensions (Intel(R) AVX) instructions.\n",
      "Intel MKL WARNING: Support of Intel(R) Streaming SIMD Extensions 4.2 (Intel(R) SSE4.2) enabled only processors has been deprecated. Intel oneAPI Math Kernel Library 2025.0 will require Intel(R) Advanced Vector Extensions (Intel(R) AVX) instructions.\n",
      "Intel MKL WARNING: Support of Intel(R) Streaming SIMD Extensions 4.2 (Intel(R) SSE4.2) enabled only processors has been deprecated. Intel oneAPI Math Kernel Library 2025.0 will require Intel(R) Advanced Vector Extensions (Intel(R) AVX) instructions.\n"
     ]
    },
    {
     "data": {
      "application/vnd.jupyter.widget-view+json": {
       "model_id": "",
       "version_major": 2,
       "version_minor": 0
      },
      "text/plain": [
       "Validation: |                                             | 0/? [00:00<?, ?it/s]"
      ]
     },
     "metadata": {},
     "output_type": "display_data"
    },
    {
     "name": "stdout",
     "output_type": "stream",
     "text": [
      "Intel MKL WARNING: Support of Intel(R) Streaming SIMD Extensions 4.2 (Intel(R) SSE4.2) enabled only processors has been deprecated. Intel oneAPI Math Kernel Library 2025.0 will require Intel(R) Advanced Vector Extensions (Intel(R) AVX) instructions.\n",
      "Intel MKL WARNING: Support of Intel(R) Streaming SIMD Extensions 4.2 (Intel(R) SSE4.2) enabled only processors has been deprecated. Intel oneAPI Math Kernel Library 2025.0 will require Intel(R) Advanced Vector Extensions (Intel(R) AVX) instructions.\n",
      "Intel MKL WARNING: Support of Intel(R) Streaming SIMD Extensions 4.2 (Intel(R) SSE4.2) enabled only processors has been deprecated. Intel oneAPI Math Kernel Library 2025.0 will require Intel(R) Advanced Vector Extensions (Intel(R) AVX) instructions.\n",
      "Intel MKL WARNING: Support of Intel(R) Streaming SIMD Extensions 4.2 (Intel(R) SSE4.2) enabled only processors has been deprecated. Intel oneAPI Math Kernel Library 2025.0 will require Intel(R) Advanced Vector Extensions (Intel(R) AVX) instructions.\n",
      "Intel MKL WARNING: Support of Intel(R) Streaming SIMD Extensions 4.2 (Intel(R) SSE4.2) enabled only processors has been deprecated. Intel oneAPI Math Kernel Library 2025.0 will require Intel(R) Advanced Vector Extensions (Intel(R) AVX) instructions.\n",
      "Intel MKL WARNING: Support of Intel(R) Streaming SIMD Extensions 4.2 (Intel(R) SSE4.2) enabled only processors has been deprecated. Intel oneAPI Math Kernel Library 2025.0 will require Intel(R) Advanced Vector Extensions (Intel(R) AVX) instructions.\n",
      "Intel MKL WARNING: Support of Intel(R) Streaming SIMD Extensions 4.2 (Intel(R) SSE4.2) enabled only processors has been deprecated. Intel oneAPI Math Kernel Library 2025.0 will require Intel(R) Advanced Vector Extensions (Intel(R) AVX) instructions.\n",
      "Intel MKL WARNING: Support of Intel(R) Streaming SIMD Extensions 4.2 (Intel(R) SSE4.2) enabled only processors has been deprecated. Intel oneAPI Math Kernel Library 2025.0 will require Intel(R) Advanced Vector Extensions (Intel(R) AVX) instructions.\n",
      "Intel MKL WARNING: Support of Intel(R) Streaming SIMD Extensions 4.2 (Intel(R) SSE4.2) enabled only processors has been deprecated. Intel oneAPI Math Kernel Library 2025.0 will require Intel(R) Advanced Vector Extensions (Intel(R) AVX) instructions.\n",
      "Intel MKL WARNING: Support of Intel(R) Streaming SIMD Extensions 4.2 (Intel(R) SSE4.2) enabled only processors has been deprecated. Intel oneAPI Math Kernel Library 2025.0 will require Intel(R) Advanced Vector Extensions (Intel(R) AVX) instructions.\n",
      "Intel MKL WARNING: Support of Intel(R) Streaming SIMD Extensions 4.2 (Intel(R) SSE4.2) enabled only processors has been deprecated. Intel oneAPI Math Kernel Library 2025.0 will require Intel(R) Advanced Vector Extensions (Intel(R) AVX) instructions.\n",
      "Intel MKL WARNING: Support of Intel(R) Streaming SIMD Extensions 4.2 (Intel(R) SSE4.2) enabled only processors has been deprecated. Intel oneAPI Math Kernel Library 2025.0 will require Intel(R) Advanced Vector Extensions (Intel(R) AVX) instructions.\n",
      "Intel MKL WARNING: Support of Intel(R) Streaming SIMD Extensions 4.2 (Intel(R) SSE4.2) enabled only processors has been deprecated. Intel oneAPI Math Kernel Library 2025.0 will require Intel(R) Advanced Vector Extensions (Intel(R) AVX) instructions.\n",
      "Intel MKL WARNING: Support of Intel(R) Streaming SIMD Extensions 4.2 (Intel(R) SSE4.2) enabled only processors has been deprecated. Intel oneAPI Math Kernel Library 2025.0 will require Intel(R) Advanced Vector Extensions (Intel(R) AVX) instructions.\n"
     ]
    },
    {
     "data": {
      "application/vnd.jupyter.widget-view+json": {
       "model_id": "",
       "version_major": 2,
       "version_minor": 0
      },
      "text/plain": [
       "Validation: |                                             | 0/? [00:00<?, ?it/s]"
      ]
     },
     "metadata": {},
     "output_type": "display_data"
    },
    {
     "name": "stdout",
     "output_type": "stream",
     "text": [
      "Intel MKL WARNING: Support of Intel(R) Streaming SIMD Extensions 4.2 (Intel(R) SSE4.2) enabled only processors has been deprecated. Intel oneAPI Math Kernel Library 2025.0 will require Intel(R) Advanced Vector Extensions (Intel(R) AVX) instructions.\n",
      "Intel MKL WARNING: Support of Intel(R) Streaming SIMD Extensions 4.2 (Intel(R) SSE4.2) enabled only processors has been deprecated. Intel oneAPI Math Kernel Library 2025.0 will require Intel(R) Advanced Vector Extensions (Intel(R) AVX) instructions.\n",
      "Intel MKL WARNING: Support of Intel(R) Streaming SIMD Extensions 4.2 (Intel(R) SSE4.2) enabled only processors has been deprecated. Intel oneAPI Math Kernel Library 2025.0 will require Intel(R) Advanced Vector Extensions (Intel(R) AVX) instructions.\n",
      "Intel MKL WARNING: Support of Intel(R) Streaming SIMD Extensions 4.2 (Intel(R) SSE4.2) enabled only processors has been deprecated. Intel oneAPI Math Kernel Library 2025.0 will require Intel(R) Advanced Vector Extensions (Intel(R) AVX) instructions.\n",
      "Intel MKL WARNING: Support of Intel(R) Streaming SIMD Extensions 4.2 (Intel(R) SSE4.2) enabled only processors has been deprecated. Intel oneAPI Math Kernel Library 2025.0 will require Intel(R) Advanced Vector Extensions (Intel(R) AVX) instructions.\n",
      "Intel MKL WARNING: Support of Intel(R) Streaming SIMD Extensions 4.2 (Intel(R) SSE4.2) enabled only processors has been deprecated. Intel oneAPI Math Kernel Library 2025.0 will require Intel(R) Advanced Vector Extensions (Intel(R) AVX) instructions.\n",
      "Intel MKL WARNING: Support of Intel(R) Streaming SIMD Extensions 4.2 (Intel(R) SSE4.2) enabled only processors has been deprecated. Intel oneAPI Math Kernel Library 2025.0 will require Intel(R) Advanced Vector Extensions (Intel(R) AVX) instructions.\n",
      "Intel MKL WARNING: Support of Intel(R) Streaming SIMD Extensions 4.2 (Intel(R) SSE4.2) enabled only processors has been deprecated. Intel oneAPI Math Kernel Library 2025.0 will require Intel(R) Advanced Vector Extensions (Intel(R) AVX) instructions.\n",
      "Intel MKL WARNING: Support of Intel(R) Streaming SIMD Extensions 4.2 (Intel(R) SSE4.2) enabled only processors has been deprecated. Intel oneAPI Math Kernel Library 2025.0 will require Intel(R) Advanced Vector Extensions (Intel(R) AVX) instructions.\n",
      "Intel MKL WARNING: Support of Intel(R) Streaming SIMD Extensions 4.2 (Intel(R) SSE4.2) enabled only processors has been deprecated. Intel oneAPI Math Kernel Library 2025.0 will require Intel(R) Advanced Vector Extensions (Intel(R) AVX) instructions.\n",
      "Intel MKL WARNING: Support of Intel(R) Streaming SIMD Extensions 4.2 (Intel(R) SSE4.2) enabled only processors has been deprecated. Intel oneAPI Math Kernel Library 2025.0 will require Intel(R) Advanced Vector Extensions (Intel(R) AVX) instructions.\n",
      "Intel MKL WARNING: Support of Intel(R) Streaming SIMD Extensions 4.2 (Intel(R) SSE4.2) enabled only processors has been deprecated. Intel oneAPI Math Kernel Library 2025.0 will require Intel(R) Advanced Vector Extensions (Intel(R) AVX) instructions.\n",
      "Intel MKL WARNING: Support of Intel(R) Streaming SIMD Extensions 4.2 (Intel(R) SSE4.2) enabled only processors has been deprecated. Intel oneAPI Math Kernel Library 2025.0 will require Intel(R) Advanced Vector Extensions (Intel(R) AVX) instructions.\n",
      "Intel MKL WARNING: Support of Intel(R) Streaming SIMD Extensions 4.2 (Intel(R) SSE4.2) enabled only processors has been deprecated. Intel oneAPI Math Kernel Library 2025.0 will require Intel(R) Advanced Vector Extensions (Intel(R) AVX) instructions.\n"
     ]
    },
    {
     "data": {
      "application/vnd.jupyter.widget-view+json": {
       "model_id": "",
       "version_major": 2,
       "version_minor": 0
      },
      "text/plain": [
       "Validation: |                                             | 0/? [00:00<?, ?it/s]"
      ]
     },
     "metadata": {},
     "output_type": "display_data"
    },
    {
     "name": "stdout",
     "output_type": "stream",
     "text": [
      "Intel MKL WARNING: Support of Intel(R) Streaming SIMD Extensions 4.2 (Intel(R) SSE4.2) enabled only processors has been deprecated. Intel oneAPI Math Kernel Library 2025.0 will require Intel(R) Advanced Vector Extensions (Intel(R) AVX) instructions.\n",
      "Intel MKL WARNING: Support of Intel(R) Streaming SIMD Extensions 4.2 (Intel(R) SSE4.2) enabled only processors has been deprecated. Intel oneAPI Math Kernel Library 2025.0 will require Intel(R) Advanced Vector Extensions (Intel(R) AVX) instructions.\n",
      "Intel MKL WARNING: Support of Intel(R) Streaming SIMD Extensions 4.2 (Intel(R) SSE4.2) enabled only processors has been deprecated. Intel oneAPI Math Kernel Library 2025.0 will require Intel(R) Advanced Vector Extensions (Intel(R) AVX) instructions.\n",
      "Intel MKL WARNING: Support of Intel(R) Streaming SIMD Extensions 4.2 (Intel(R) SSE4.2) enabled only processors has been deprecated. Intel oneAPI Math Kernel Library 2025.0 will require Intel(R) Advanced Vector Extensions (Intel(R) AVX) instructions.\n",
      "Intel MKL WARNING: Support of Intel(R) Streaming SIMD Extensions 4.2 (Intel(R) SSE4.2) enabled only processors has been deprecated. Intel oneAPI Math Kernel Library 2025.0 will require Intel(R) Advanced Vector Extensions (Intel(R) AVX) instructions.\n",
      "Intel MKL WARNING: Support of Intel(R) Streaming SIMD Extensions 4.2 (Intel(R) SSE4.2) enabled only processors has been deprecated. Intel oneAPI Math Kernel Library 2025.0 will require Intel(R) Advanced Vector Extensions (Intel(R) AVX) instructions.\n",
      "Intel MKL WARNING: Support of Intel(R) Streaming SIMD Extensions 4.2 (Intel(R) SSE4.2) enabled only processors has been deprecated. Intel oneAPI Math Kernel Library 2025.0 will require Intel(R) Advanced Vector Extensions (Intel(R) AVX) instructions.\n",
      "Intel MKL WARNING: Support of Intel(R) Streaming SIMD Extensions 4.2 (Intel(R) SSE4.2) enabled only processors has been deprecated. Intel oneAPI Math Kernel Library 2025.0 will require Intel(R) Advanced Vector Extensions (Intel(R) AVX) instructions.\n",
      "Intel MKL WARNING: Support of Intel(R) Streaming SIMD Extensions 4.2 (Intel(R) SSE4.2) enabled only processors has been deprecated. Intel oneAPI Math Kernel Library 2025.0 will require Intel(R) Advanced Vector Extensions (Intel(R) AVX) instructions.\n",
      "Intel MKL WARNING: Support of Intel(R) Streaming SIMD Extensions 4.2 (Intel(R) SSE4.2) enabled only processors has been deprecated. Intel oneAPI Math Kernel Library 2025.0 will require Intel(R) Advanced Vector Extensions (Intel(R) AVX) instructions.\n",
      "Intel MKL WARNING: Support of Intel(R) Streaming SIMD Extensions 4.2 (Intel(R) SSE4.2) enabled only processors has been deprecated. Intel oneAPI Math Kernel Library 2025.0 will require Intel(R) Advanced Vector Extensions (Intel(R) AVX) instructions.\n",
      "Intel MKL WARNING: Support of Intel(R) Streaming SIMD Extensions 4.2 (Intel(R) SSE4.2) enabled only processors has been deprecated. Intel oneAPI Math Kernel Library 2025.0 will require Intel(R) Advanced Vector Extensions (Intel(R) AVX) instructions.\n",
      "Intel MKL WARNING: Support of Intel(R) Streaming SIMD Extensions 4.2 (Intel(R) SSE4.2) enabled only processors has been deprecated. Intel oneAPI Math Kernel Library 2025.0 will require Intel(R) Advanced Vector Extensions (Intel(R) AVX) instructions.\n",
      "Intel MKL WARNING: Support of Intel(R) Streaming SIMD Extensions 4.2 (Intel(R) SSE4.2) enabled only processors has been deprecated. Intel oneAPI Math Kernel Library 2025.0 will require Intel(R) Advanced Vector Extensions (Intel(R) AVX) instructions.\n"
     ]
    },
    {
     "data": {
      "application/vnd.jupyter.widget-view+json": {
       "model_id": "",
       "version_major": 2,
       "version_minor": 0
      },
      "text/plain": [
       "Validation: |                                             | 0/? [00:00<?, ?it/s]"
      ]
     },
     "metadata": {},
     "output_type": "display_data"
    },
    {
     "name": "stdout",
     "output_type": "stream",
     "text": [
      "Intel MKL WARNING: Support of Intel(R) Streaming SIMD Extensions 4.2 (Intel(R) SSE4.2) enabled only processors has been deprecated. Intel oneAPI Math Kernel Library 2025.0 will require Intel(R) Advanced Vector Extensions (Intel(R) AVX) instructions.\n",
      "Intel MKL WARNING: Support of Intel(R) Streaming SIMD Extensions 4.2 (Intel(R) SSE4.2) enabled only processors has been deprecated. Intel oneAPI Math Kernel Library 2025.0 will require Intel(R) Advanced Vector Extensions (Intel(R) AVX) instructions.\n",
      "Intel MKL WARNING: Support of Intel(R) Streaming SIMD Extensions 4.2 (Intel(R) SSE4.2) enabled only processors has been deprecated. Intel oneAPI Math Kernel Library 2025.0 will require Intel(R) Advanced Vector Extensions (Intel(R) AVX) instructions.\n",
      "Intel MKL WARNING: Support of Intel(R) Streaming SIMD Extensions 4.2 (Intel(R) SSE4.2) enabled only processors has been deprecated. Intel oneAPI Math Kernel Library 2025.0 will require Intel(R) Advanced Vector Extensions (Intel(R) AVX) instructions.\n",
      "Intel MKL WARNING: Support of Intel(R) Streaming SIMD Extensions 4.2 (Intel(R) SSE4.2) enabled only processors has been deprecated. Intel oneAPI Math Kernel Library 2025.0 will require Intel(R) Advanced Vector Extensions (Intel(R) AVX) instructions.\n",
      "Intel MKL WARNING: Support of Intel(R) Streaming SIMD Extensions 4.2 (Intel(R) SSE4.2) enabled only processors has been deprecated. Intel oneAPI Math Kernel Library 2025.0 will require Intel(R) Advanced Vector Extensions (Intel(R) AVX) instructions.\n",
      "Intel MKL WARNING: Support of Intel(R) Streaming SIMD Extensions 4.2 (Intel(R) SSE4.2) enabled only processors has been deprecated. Intel oneAPI Math Kernel Library 2025.0 will require Intel(R) Advanced Vector Extensions (Intel(R) AVX) instructions.\n",
      "Intel MKL WARNING: Support of Intel(R) Streaming SIMD Extensions 4.2 (Intel(R) SSE4.2) enabled only processors has been deprecated. Intel oneAPI Math Kernel Library 2025.0 will require Intel(R) Advanced Vector Extensions (Intel(R) AVX) instructions.\n",
      "Intel MKL WARNING: Support of Intel(R) Streaming SIMD Extensions 4.2 (Intel(R) SSE4.2) enabled only processors has been deprecated. Intel oneAPI Math Kernel Library 2025.0 will require Intel(R) Advanced Vector Extensions (Intel(R) AVX) instructions.\n",
      "Intel MKL WARNING: Support of Intel(R) Streaming SIMD Extensions 4.2 (Intel(R) SSE4.2) enabled only processors has been deprecated. Intel oneAPI Math Kernel Library 2025.0 will require Intel(R) Advanced Vector Extensions (Intel(R) AVX) instructions.\n",
      "Intel MKL WARNING: Support of Intel(R) Streaming SIMD Extensions 4.2 (Intel(R) SSE4.2) enabled only processors has been deprecated. Intel oneAPI Math Kernel Library 2025.0 will require Intel(R) Advanced Vector Extensions (Intel(R) AVX) instructions.\n",
      "Intel MKL WARNING: Support of Intel(R) Streaming SIMD Extensions 4.2 (Intel(R) SSE4.2) enabled only processors has been deprecated. Intel oneAPI Math Kernel Library 2025.0 will require Intel(R) Advanced Vector Extensions (Intel(R) AVX) instructions.\n",
      "Intel MKL WARNING: Support of Intel(R) Streaming SIMD Extensions 4.2 (Intel(R) SSE4.2) enabled only processors has been deprecated. Intel oneAPI Math Kernel Library 2025.0 will require Intel(R) Advanced Vector Extensions (Intel(R) AVX) instructions.\n",
      "Intel MKL WARNING: Support of Intel(R) Streaming SIMD Extensions 4.2 (Intel(R) SSE4.2) enabled only processors has been deprecated. Intel oneAPI Math Kernel Library 2025.0 will require Intel(R) Advanced Vector Extensions (Intel(R) AVX) instructions.\n"
     ]
    },
    {
     "data": {
      "application/vnd.jupyter.widget-view+json": {
       "model_id": "",
       "version_major": 2,
       "version_minor": 0
      },
      "text/plain": [
       "Validation: |                                             | 0/? [00:00<?, ?it/s]"
      ]
     },
     "metadata": {},
     "output_type": "display_data"
    },
    {
     "name": "stdout",
     "output_type": "stream",
     "text": [
      "Intel MKL WARNING: Support of Intel(R) Streaming SIMD Extensions 4.2 (Intel(R) SSE4.2) enabled only processors has been deprecated. Intel oneAPI Math Kernel Library 2025.0 will require Intel(R) Advanced Vector Extensions (Intel(R) AVX) instructions.\n",
      "Intel MKL WARNING: Support of Intel(R) Streaming SIMD Extensions 4.2 (Intel(R) SSE4.2) enabled only processors has been deprecated. Intel oneAPI Math Kernel Library 2025.0 will require Intel(R) Advanced Vector Extensions (Intel(R) AVX) instructions.\n",
      "Intel MKL WARNING: Support of Intel(R) Streaming SIMD Extensions 4.2 (Intel(R) SSE4.2) enabled only processors has been deprecated. Intel oneAPI Math Kernel Library 2025.0 will require Intel(R) Advanced Vector Extensions (Intel(R) AVX) instructions.\n",
      "Intel MKL WARNING: Support of Intel(R) Streaming SIMD Extensions 4.2 (Intel(R) SSE4.2) enabled only processors has been deprecated. Intel oneAPI Math Kernel Library 2025.0 will require Intel(R) Advanced Vector Extensions (Intel(R) AVX) instructions.\n",
      "Intel MKL WARNING: Support of Intel(R) Streaming SIMD Extensions 4.2 (Intel(R) SSE4.2) enabled only processors has been deprecated. Intel oneAPI Math Kernel Library 2025.0 will require Intel(R) Advanced Vector Extensions (Intel(R) AVX) instructions.\n",
      "Intel MKL WARNING: Support of Intel(R) Streaming SIMD Extensions 4.2 (Intel(R) SSE4.2) enabled only processors has been deprecated. Intel oneAPI Math Kernel Library 2025.0 will require Intel(R) Advanced Vector Extensions (Intel(R) AVX) instructions.\n",
      "Intel MKL WARNING: Support of Intel(R) Streaming SIMD Extensions 4.2 (Intel(R) SSE4.2) enabled only processors has been deprecated. Intel oneAPI Math Kernel Library 2025.0 will require Intel(R) Advanced Vector Extensions (Intel(R) AVX) instructions.\n",
      "Intel MKL WARNING: Support of Intel(R) Streaming SIMD Extensions 4.2 (Intel(R) SSE4.2) enabled only processors has been deprecated. Intel oneAPI Math Kernel Library 2025.0 will require Intel(R) Advanced Vector Extensions (Intel(R) AVX) instructions.\n",
      "Intel MKL WARNING: Support of Intel(R) Streaming SIMD Extensions 4.2 (Intel(R) SSE4.2) enabled only processors has been deprecated. Intel oneAPI Math Kernel Library 2025.0 will require Intel(R) Advanced Vector Extensions (Intel(R) AVX) instructions.\n",
      "Intel MKL WARNING: Support of Intel(R) Streaming SIMD Extensions 4.2 (Intel(R) SSE4.2) enabled only processors has been deprecated. Intel oneAPI Math Kernel Library 2025.0 will require Intel(R) Advanced Vector Extensions (Intel(R) AVX) instructions.\n",
      "Intel MKL WARNING: Support of Intel(R) Streaming SIMD Extensions 4.2 (Intel(R) SSE4.2) enabled only processors has been deprecated. Intel oneAPI Math Kernel Library 2025.0 will require Intel(R) Advanced Vector Extensions (Intel(R) AVX) instructions.\n",
      "Intel MKL WARNING: Support of Intel(R) Streaming SIMD Extensions 4.2 (Intel(R) SSE4.2) enabled only processors has been deprecated. Intel oneAPI Math Kernel Library 2025.0 will require Intel(R) Advanced Vector Extensions (Intel(R) AVX) instructions.\n",
      "Intel MKL WARNING: Support of Intel(R) Streaming SIMD Extensions 4.2 (Intel(R) SSE4.2) enabled only processors has been deprecated. Intel oneAPI Math Kernel Library 2025.0 will require Intel(R) Advanced Vector Extensions (Intel(R) AVX) instructions.\n",
      "Intel MKL WARNING: Support of Intel(R) Streaming SIMD Extensions 4.2 (Intel(R) SSE4.2) enabled only processors has been deprecated. Intel oneAPI Math Kernel Library 2025.0 will require Intel(R) Advanced Vector Extensions (Intel(R) AVX) instructions.\n"
     ]
    },
    {
     "data": {
      "application/vnd.jupyter.widget-view+json": {
       "model_id": "",
       "version_major": 2,
       "version_minor": 0
      },
      "text/plain": [
       "Validation: |                                             | 0/? [00:00<?, ?it/s]"
      ]
     },
     "metadata": {},
     "output_type": "display_data"
    },
    {
     "name": "stdout",
     "output_type": "stream",
     "text": [
      "Intel MKL WARNING: Support of Intel(R) Streaming SIMD Extensions 4.2 (Intel(R) SSE4.2) enabled only processors has been deprecated. Intel oneAPI Math Kernel Library 2025.0 will require Intel(R) Advanced Vector Extensions (Intel(R) AVX) instructions.\n",
      "Intel MKL WARNING: Support of Intel(R) Streaming SIMD Extensions 4.2 (Intel(R) SSE4.2) enabled only processors has been deprecated. Intel oneAPI Math Kernel Library 2025.0 will require Intel(R) Advanced Vector Extensions (Intel(R) AVX) instructions.\n",
      "Intel MKL WARNING: Support of Intel(R) Streaming SIMD Extensions 4.2 (Intel(R) SSE4.2) enabled only processors has been deprecated. Intel oneAPI Math Kernel Library 2025.0 will require Intel(R) Advanced Vector Extensions (Intel(R) AVX) instructions.\n",
      "Intel MKL WARNING: Support of Intel(R) Streaming SIMD Extensions 4.2 (Intel(R) SSE4.2) enabled only processors has been deprecated. Intel oneAPI Math Kernel Library 2025.0 will require Intel(R) Advanced Vector Extensions (Intel(R) AVX) instructions.\n",
      "Intel MKL WARNING: Support of Intel(R) Streaming SIMD Extensions 4.2 (Intel(R) SSE4.2) enabled only processors has been deprecated. Intel oneAPI Math Kernel Library 2025.0 will require Intel(R) Advanced Vector Extensions (Intel(R) AVX) instructions.\n",
      "Intel MKL WARNING: Support of Intel(R) Streaming SIMD Extensions 4.2 (Intel(R) SSE4.2) enabled only processors has been deprecated. Intel oneAPI Math Kernel Library 2025.0 will require Intel(R) Advanced Vector Extensions (Intel(R) AVX) instructions.\n",
      "Intel MKL WARNING: Support of Intel(R) Streaming SIMD Extensions 4.2 (Intel(R) SSE4.2) enabled only processors has been deprecated. Intel oneAPI Math Kernel Library 2025.0 will require Intel(R) Advanced Vector Extensions (Intel(R) AVX) instructions.\n",
      "Intel MKL WARNING: Support of Intel(R) Streaming SIMD Extensions 4.2 (Intel(R) SSE4.2) enabled only processors has been deprecated. Intel oneAPI Math Kernel Library 2025.0 will require Intel(R) Advanced Vector Extensions (Intel(R) AVX) instructions.\n",
      "Intel MKL WARNING: Support of Intel(R) Streaming SIMD Extensions 4.2 (Intel(R) SSE4.2) enabled only processors has been deprecated. Intel oneAPI Math Kernel Library 2025.0 will require Intel(R) Advanced Vector Extensions (Intel(R) AVX) instructions.\n",
      "Intel MKL WARNING: Support of Intel(R) Streaming SIMD Extensions 4.2 (Intel(R) SSE4.2) enabled only processors has been deprecated. Intel oneAPI Math Kernel Library 2025.0 will require Intel(R) Advanced Vector Extensions (Intel(R) AVX) instructions.\n",
      "Intel MKL WARNING: Support of Intel(R) Streaming SIMD Extensions 4.2 (Intel(R) SSE4.2) enabled only processors has been deprecated. Intel oneAPI Math Kernel Library 2025.0 will require Intel(R) Advanced Vector Extensions (Intel(R) AVX) instructions.\n",
      "Intel MKL WARNING: Support of Intel(R) Streaming SIMD Extensions 4.2 (Intel(R) SSE4.2) enabled only processors has been deprecated. Intel oneAPI Math Kernel Library 2025.0 will require Intel(R) Advanced Vector Extensions (Intel(R) AVX) instructions.\n",
      "Intel MKL WARNING: Support of Intel(R) Streaming SIMD Extensions 4.2 (Intel(R) SSE4.2) enabled only processors has been deprecated. Intel oneAPI Math Kernel Library 2025.0 will require Intel(R) Advanced Vector Extensions (Intel(R) AVX) instructions.\n",
      "Intel MKL WARNING: Support of Intel(R) Streaming SIMD Extensions 4.2 (Intel(R) SSE4.2) enabled only processors has been deprecated. Intel oneAPI Math Kernel Library 2025.0 will require Intel(R) Advanced Vector Extensions (Intel(R) AVX) instructions.\n"
     ]
    },
    {
     "data": {
      "application/vnd.jupyter.widget-view+json": {
       "model_id": "",
       "version_major": 2,
       "version_minor": 0
      },
      "text/plain": [
       "Validation: |                                             | 0/? [00:00<?, ?it/s]"
      ]
     },
     "metadata": {},
     "output_type": "display_data"
    },
    {
     "name": "stdout",
     "output_type": "stream",
     "text": [
      "Intel MKL WARNING: Support of Intel(R) Streaming SIMD Extensions 4.2 (Intel(R) SSE4.2) enabled only processors has been deprecated. Intel oneAPI Math Kernel Library 2025.0 will require Intel(R) Advanced Vector Extensions (Intel(R) AVX) instructions.\n",
      "Intel MKL WARNING: Support of Intel(R) Streaming SIMD Extensions 4.2 (Intel(R) SSE4.2) enabled only processors has been deprecated. Intel oneAPI Math Kernel Library 2025.0 will require Intel(R) Advanced Vector Extensions (Intel(R) AVX) instructions.\n",
      "Intel MKL WARNING: Support of Intel(R) Streaming SIMD Extensions 4.2 (Intel(R) SSE4.2) enabled only processors has been deprecated. Intel oneAPI Math Kernel Library 2025.0 will require Intel(R) Advanced Vector Extensions (Intel(R) AVX) instructions.\n",
      "Intel MKL WARNING: Support of Intel(R) Streaming SIMD Extensions 4.2 (Intel(R) SSE4.2) enabled only processors has been deprecated. Intel oneAPI Math Kernel Library 2025.0 will require Intel(R) Advanced Vector Extensions (Intel(R) AVX) instructions.\n",
      "Intel MKL WARNING: Support of Intel(R) Streaming SIMD Extensions 4.2 (Intel(R) SSE4.2) enabled only processors has been deprecated. Intel oneAPI Math Kernel Library 2025.0 will require Intel(R) Advanced Vector Extensions (Intel(R) AVX) instructions.\n",
      "Intel MKL WARNING: Support of Intel(R) Streaming SIMD Extensions 4.2 (Intel(R) SSE4.2) enabled only processors has been deprecated. Intel oneAPI Math Kernel Library 2025.0 will require Intel(R) Advanced Vector Extensions (Intel(R) AVX) instructions.\n",
      "Intel MKL WARNING: Support of Intel(R) Streaming SIMD Extensions 4.2 (Intel(R) SSE4.2) enabled only processors has been deprecated. Intel oneAPI Math Kernel Library 2025.0 will require Intel(R) Advanced Vector Extensions (Intel(R) AVX) instructions.\n",
      "Intel MKL WARNING: Support of Intel(R) Streaming SIMD Extensions 4.2 (Intel(R) SSE4.2) enabled only processors has been deprecated. Intel oneAPI Math Kernel Library 2025.0 will require Intel(R) Advanced Vector Extensions (Intel(R) AVX) instructions.\n",
      "Intel MKL WARNING: Support of Intel(R) Streaming SIMD Extensions 4.2 (Intel(R) SSE4.2) enabled only processors has been deprecated. Intel oneAPI Math Kernel Library 2025.0 will require Intel(R) Advanced Vector Extensions (Intel(R) AVX) instructions.\n",
      "Intel MKL WARNING: Support of Intel(R) Streaming SIMD Extensions 4.2 (Intel(R) SSE4.2) enabled only processors has been deprecated. Intel oneAPI Math Kernel Library 2025.0 will require Intel(R) Advanced Vector Extensions (Intel(R) AVX) instructions.\n",
      "Intel MKL WARNING: Support of Intel(R) Streaming SIMD Extensions 4.2 (Intel(R) SSE4.2) enabled only processors has been deprecated. Intel oneAPI Math Kernel Library 2025.0 will require Intel(R) Advanced Vector Extensions (Intel(R) AVX) instructions.\n",
      "Intel MKL WARNING: Support of Intel(R) Streaming SIMD Extensions 4.2 (Intel(R) SSE4.2) enabled only processors has been deprecated. Intel oneAPI Math Kernel Library 2025.0 will require Intel(R) Advanced Vector Extensions (Intel(R) AVX) instructions.\n",
      "Intel MKL WARNING: Support of Intel(R) Streaming SIMD Extensions 4.2 (Intel(R) SSE4.2) enabled only processors has been deprecated. Intel oneAPI Math Kernel Library 2025.0 will require Intel(R) Advanced Vector Extensions (Intel(R) AVX) instructions.\n",
      "Intel MKL WARNING: Support of Intel(R) Streaming SIMD Extensions 4.2 (Intel(R) SSE4.2) enabled only processors has been deprecated. Intel oneAPI Math Kernel Library 2025.0 will require Intel(R) Advanced Vector Extensions (Intel(R) AVX) instructions.\n"
     ]
    },
    {
     "data": {
      "application/vnd.jupyter.widget-view+json": {
       "model_id": "",
       "version_major": 2,
       "version_minor": 0
      },
      "text/plain": [
       "Validation: |                                             | 0/? [00:00<?, ?it/s]"
      ]
     },
     "metadata": {},
     "output_type": "display_data"
    },
    {
     "name": "stdout",
     "output_type": "stream",
     "text": [
      "Intel MKL WARNING: Support of Intel(R) Streaming SIMD Extensions 4.2 (Intel(R) SSE4.2) enabled only processors has been deprecated. Intel oneAPI Math Kernel Library 2025.0 will require Intel(R) Advanced Vector Extensions (Intel(R) AVX) instructions.\n",
      "Intel MKL WARNING: Support of Intel(R) Streaming SIMD Extensions 4.2 (Intel(R) SSE4.2) enabled only processors has been deprecated. Intel oneAPI Math Kernel Library 2025.0 will require Intel(R) Advanced Vector Extensions (Intel(R) AVX) instructions.\n",
      "Intel MKL WARNING: Support of Intel(R) Streaming SIMD Extensions 4.2 (Intel(R) SSE4.2) enabled only processors has been deprecated. Intel oneAPI Math Kernel Library 2025.0 will require Intel(R) Advanced Vector Extensions (Intel(R) AVX) instructions.\n",
      "Intel MKL WARNING: Support of Intel(R) Streaming SIMD Extensions 4.2 (Intel(R) SSE4.2) enabled only processors has been deprecated. Intel oneAPI Math Kernel Library 2025.0 will require Intel(R) Advanced Vector Extensions (Intel(R) AVX) instructions.\n",
      "Intel MKL WARNING: Support of Intel(R) Streaming SIMD Extensions 4.2 (Intel(R) SSE4.2) enabled only processors has been deprecated. Intel oneAPI Math Kernel Library 2025.0 will require Intel(R) Advanced Vector Extensions (Intel(R) AVX) instructions.\n",
      "Intel MKL WARNING: Support of Intel(R) Streaming SIMD Extensions 4.2 (Intel(R) SSE4.2) enabled only processors has been deprecated. Intel oneAPI Math Kernel Library 2025.0 will require Intel(R) Advanced Vector Extensions (Intel(R) AVX) instructions.\n",
      "Intel MKL WARNING: Support of Intel(R) Streaming SIMD Extensions 4.2 (Intel(R) SSE4.2) enabled only processors has been deprecated. Intel oneAPI Math Kernel Library 2025.0 will require Intel(R) Advanced Vector Extensions (Intel(R) AVX) instructions.\n",
      "Intel MKL WARNING: Support of Intel(R) Streaming SIMD Extensions 4.2 (Intel(R) SSE4.2) enabled only processors has been deprecated. Intel oneAPI Math Kernel Library 2025.0 will require Intel(R) Advanced Vector Extensions (Intel(R) AVX) instructions.\n",
      "Intel MKL WARNING: Support of Intel(R) Streaming SIMD Extensions 4.2 (Intel(R) SSE4.2) enabled only processors has been deprecated. Intel oneAPI Math Kernel Library 2025.0 will require Intel(R) Advanced Vector Extensions (Intel(R) AVX) instructions.\n",
      "Intel MKL WARNING: Support of Intel(R) Streaming SIMD Extensions 4.2 (Intel(R) SSE4.2) enabled only processors has been deprecated. Intel oneAPI Math Kernel Library 2025.0 will require Intel(R) Advanced Vector Extensions (Intel(R) AVX) instructions.\n",
      "Intel MKL WARNING: Support of Intel(R) Streaming SIMD Extensions 4.2 (Intel(R) SSE4.2) enabled only processors has been deprecated. Intel oneAPI Math Kernel Library 2025.0 will require Intel(R) Advanced Vector Extensions (Intel(R) AVX) instructions.\n",
      "Intel MKL WARNING: Support of Intel(R) Streaming SIMD Extensions 4.2 (Intel(R) SSE4.2) enabled only processors has been deprecated. Intel oneAPI Math Kernel Library 2025.0 will require Intel(R) Advanced Vector Extensions (Intel(R) AVX) instructions.\n",
      "Intel MKL WARNING: Support of Intel(R) Streaming SIMD Extensions 4.2 (Intel(R) SSE4.2) enabled only processors has been deprecated. Intel oneAPI Math Kernel Library 2025.0 will require Intel(R) Advanced Vector Extensions (Intel(R) AVX) instructions.\n",
      "Intel MKL WARNING: Support of Intel(R) Streaming SIMD Extensions 4.2 (Intel(R) SSE4.2) enabled only processors has been deprecated. Intel oneAPI Math Kernel Library 2025.0 will require Intel(R) Advanced Vector Extensions (Intel(R) AVX) instructions.\n"
     ]
    },
    {
     "data": {
      "application/vnd.jupyter.widget-view+json": {
       "model_id": "",
       "version_major": 2,
       "version_minor": 0
      },
      "text/plain": [
       "Validation: |                                             | 0/? [00:00<?, ?it/s]"
      ]
     },
     "metadata": {},
     "output_type": "display_data"
    },
    {
     "name": "stdout",
     "output_type": "stream",
     "text": [
      "Intel MKL WARNING: Support of Intel(R) Streaming SIMD Extensions 4.2 (Intel(R) SSE4.2) enabled only processors has been deprecated. Intel oneAPI Math Kernel Library 2025.0 will require Intel(R) Advanced Vector Extensions (Intel(R) AVX) instructions.\n",
      "Intel MKL WARNING: Support of Intel(R) Streaming SIMD Extensions 4.2 (Intel(R) SSE4.2) enabled only processors has been deprecated. Intel oneAPI Math Kernel Library 2025.0 will require Intel(R) Advanced Vector Extensions (Intel(R) AVX) instructions.\n",
      "Intel MKL WARNING: Support of Intel(R) Streaming SIMD Extensions 4.2 (Intel(R) SSE4.2) enabled only processors has been deprecated. Intel oneAPI Math Kernel Library 2025.0 will require Intel(R) Advanced Vector Extensions (Intel(R) AVX) instructions.\n",
      "Intel MKL WARNING: Support of Intel(R) Streaming SIMD Extensions 4.2 (Intel(R) SSE4.2) enabled only processors has been deprecated. Intel oneAPI Math Kernel Library 2025.0 will require Intel(R) Advanced Vector Extensions (Intel(R) AVX) instructions.\n",
      "Intel MKL WARNING: Support of Intel(R) Streaming SIMD Extensions 4.2 (Intel(R) SSE4.2) enabled only processors has been deprecated. Intel oneAPI Math Kernel Library 2025.0 will require Intel(R) Advanced Vector Extensions (Intel(R) AVX) instructions.\n",
      "Intel MKL WARNING: Support of Intel(R) Streaming SIMD Extensions 4.2 (Intel(R) SSE4.2) enabled only processors has been deprecated. Intel oneAPI Math Kernel Library 2025.0 will require Intel(R) Advanced Vector Extensions (Intel(R) AVX) instructions.\n",
      "Intel MKL WARNING: Support of Intel(R) Streaming SIMD Extensions 4.2 (Intel(R) SSE4.2) enabled only processors has been deprecated. Intel oneAPI Math Kernel Library 2025.0 will require Intel(R) Advanced Vector Extensions (Intel(R) AVX) instructions.\n",
      "Intel MKL WARNING: Support of Intel(R) Streaming SIMD Extensions 4.2 (Intel(R) SSE4.2) enabled only processors has been deprecated. Intel oneAPI Math Kernel Library 2025.0 will require Intel(R) Advanced Vector Extensions (Intel(R) AVX) instructions.\n",
      "Intel MKL WARNING: Support of Intel(R) Streaming SIMD Extensions 4.2 (Intel(R) SSE4.2) enabled only processors has been deprecated. Intel oneAPI Math Kernel Library 2025.0 will require Intel(R) Advanced Vector Extensions (Intel(R) AVX) instructions.\n",
      "Intel MKL WARNING: Support of Intel(R) Streaming SIMD Extensions 4.2 (Intel(R) SSE4.2) enabled only processors has been deprecated. Intel oneAPI Math Kernel Library 2025.0 will require Intel(R) Advanced Vector Extensions (Intel(R) AVX) instructions.\n",
      "Intel MKL WARNING: Support of Intel(R) Streaming SIMD Extensions 4.2 (Intel(R) SSE4.2) enabled only processors has been deprecated. Intel oneAPI Math Kernel Library 2025.0 will require Intel(R) Advanced Vector Extensions (Intel(R) AVX) instructions.\n",
      "Intel MKL WARNING: Support of Intel(R) Streaming SIMD Extensions 4.2 (Intel(R) SSE4.2) enabled only processors has been deprecated. Intel oneAPI Math Kernel Library 2025.0 will require Intel(R) Advanced Vector Extensions (Intel(R) AVX) instructions.\n",
      "Intel MKL WARNING: Support of Intel(R) Streaming SIMD Extensions 4.2 (Intel(R) SSE4.2) enabled only processors has been deprecated. Intel oneAPI Math Kernel Library 2025.0 will require Intel(R) Advanced Vector Extensions (Intel(R) AVX) instructions.\n",
      "Intel MKL WARNING: Support of Intel(R) Streaming SIMD Extensions 4.2 (Intel(R) SSE4.2) enabled only processors has been deprecated. Intel oneAPI Math Kernel Library 2025.0 will require Intel(R) Advanced Vector Extensions (Intel(R) AVX) instructions.\n"
     ]
    },
    {
     "data": {
      "application/vnd.jupyter.widget-view+json": {
       "model_id": "",
       "version_major": 2,
       "version_minor": 0
      },
      "text/plain": [
       "Validation: |                                             | 0/? [00:00<?, ?it/s]"
      ]
     },
     "metadata": {},
     "output_type": "display_data"
    },
    {
     "name": "stdout",
     "output_type": "stream",
     "text": [
      "Intel MKL WARNING: Support of Intel(R) Streaming SIMD Extensions 4.2 (Intel(R) SSE4.2) enabled only processors has been deprecated. Intel oneAPI Math Kernel Library 2025.0 will require Intel(R) Advanced Vector Extensions (Intel(R) AVX) instructions.\n",
      "Intel MKL WARNING: Support of Intel(R) Streaming SIMD Extensions 4.2 (Intel(R) SSE4.2) enabled only processors has been deprecated. Intel oneAPI Math Kernel Library 2025.0 will require Intel(R) Advanced Vector Extensions (Intel(R) AVX) instructions.\n",
      "Intel MKL WARNING: Support of Intel(R) Streaming SIMD Extensions 4.2 (Intel(R) SSE4.2) enabled only processors has been deprecated. Intel oneAPI Math Kernel Library 2025.0 will require Intel(R) Advanced Vector Extensions (Intel(R) AVX) instructions.\n",
      "Intel MKL WARNING: Support of Intel(R) Streaming SIMD Extensions 4.2 (Intel(R) SSE4.2) enabled only processors has been deprecated. Intel oneAPI Math Kernel Library 2025.0 will require Intel(R) Advanced Vector Extensions (Intel(R) AVX) instructions.\n",
      "Intel MKL WARNING: Support of Intel(R) Streaming SIMD Extensions 4.2 (Intel(R) SSE4.2) enabled only processors has been deprecated. Intel oneAPI Math Kernel Library 2025.0 will require Intel(R) Advanced Vector Extensions (Intel(R) AVX) instructions.\n",
      "Intel MKL WARNING: Support of Intel(R) Streaming SIMD Extensions 4.2 (Intel(R) SSE4.2) enabled only processors has been deprecated. Intel oneAPI Math Kernel Library 2025.0 will require Intel(R) Advanced Vector Extensions (Intel(R) AVX) instructions.\n",
      "Intel MKL WARNING: Support of Intel(R) Streaming SIMD Extensions 4.2 (Intel(R) SSE4.2) enabled only processors has been deprecated. Intel oneAPI Math Kernel Library 2025.0 will require Intel(R) Advanced Vector Extensions (Intel(R) AVX) instructions.\n",
      "Intel MKL WARNING: Support of Intel(R) Streaming SIMD Extensions 4.2 (Intel(R) SSE4.2) enabled only processors has been deprecated. Intel oneAPI Math Kernel Library 2025.0 will require Intel(R) Advanced Vector Extensions (Intel(R) AVX) instructions.\n",
      "Intel MKL WARNING: Support of Intel(R) Streaming SIMD Extensions 4.2 (Intel(R) SSE4.2) enabled only processors has been deprecated. Intel oneAPI Math Kernel Library 2025.0 will require Intel(R) Advanced Vector Extensions (Intel(R) AVX) instructions.\n",
      "Intel MKL WARNING: Support of Intel(R) Streaming SIMD Extensions 4.2 (Intel(R) SSE4.2) enabled only processors has been deprecated. Intel oneAPI Math Kernel Library 2025.0 will require Intel(R) Advanced Vector Extensions (Intel(R) AVX) instructions.\n",
      "Intel MKL WARNING: Support of Intel(R) Streaming SIMD Extensions 4.2 (Intel(R) SSE4.2) enabled only processors has been deprecated. Intel oneAPI Math Kernel Library 2025.0 will require Intel(R) Advanced Vector Extensions (Intel(R) AVX) instructions.\n",
      "Intel MKL WARNING: Support of Intel(R) Streaming SIMD Extensions 4.2 (Intel(R) SSE4.2) enabled only processors has been deprecated. Intel oneAPI Math Kernel Library 2025.0 will require Intel(R) Advanced Vector Extensions (Intel(R) AVX) instructions.\n",
      "Intel MKL WARNING: Support of Intel(R) Streaming SIMD Extensions 4.2 (Intel(R) SSE4.2) enabled only processors has been deprecated. Intel oneAPI Math Kernel Library 2025.0 will require Intel(R) Advanced Vector Extensions (Intel(R) AVX) instructions.\n",
      "Intel MKL WARNING: Support of Intel(R) Streaming SIMD Extensions 4.2 (Intel(R) SSE4.2) enabled only processors has been deprecated. Intel oneAPI Math Kernel Library 2025.0 will require Intel(R) Advanced Vector Extensions (Intel(R) AVX) instructions.\n"
     ]
    },
    {
     "data": {
      "application/vnd.jupyter.widget-view+json": {
       "model_id": "",
       "version_major": 2,
       "version_minor": 0
      },
      "text/plain": [
       "Validation: |                                             | 0/? [00:00<?, ?it/s]"
      ]
     },
     "metadata": {},
     "output_type": "display_data"
    },
    {
     "name": "stdout",
     "output_type": "stream",
     "text": [
      "Intel MKL WARNING: Support of Intel(R) Streaming SIMD Extensions 4.2 (Intel(R) SSE4.2) enabled only processors has been deprecated. Intel oneAPI Math Kernel Library 2025.0 will require Intel(R) Advanced Vector Extensions (Intel(R) AVX) instructions.\n",
      "Intel MKL WARNING: Support of Intel(R) Streaming SIMD Extensions 4.2 (Intel(R) SSE4.2) enabled only processors has been deprecated. Intel oneAPI Math Kernel Library 2025.0 will require Intel(R) Advanced Vector Extensions (Intel(R) AVX) instructions.\n",
      "Intel MKL WARNING: Support of Intel(R) Streaming SIMD Extensions 4.2 (Intel(R) SSE4.2) enabled only processors has been deprecated. Intel oneAPI Math Kernel Library 2025.0 will require Intel(R) Advanced Vector Extensions (Intel(R) AVX) instructions.\n",
      "Intel MKL WARNING: Support of Intel(R) Streaming SIMD Extensions 4.2 (Intel(R) SSE4.2) enabled only processors has been deprecated. Intel oneAPI Math Kernel Library 2025.0 will require Intel(R) Advanced Vector Extensions (Intel(R) AVX) instructions.\n",
      "Intel MKL WARNING: Support of Intel(R) Streaming SIMD Extensions 4.2 (Intel(R) SSE4.2) enabled only processors has been deprecated. Intel oneAPI Math Kernel Library 2025.0 will require Intel(R) Advanced Vector Extensions (Intel(R) AVX) instructions.\n",
      "Intel MKL WARNING: Support of Intel(R) Streaming SIMD Extensions 4.2 (Intel(R) SSE4.2) enabled only processors has been deprecated. Intel oneAPI Math Kernel Library 2025.0 will require Intel(R) Advanced Vector Extensions (Intel(R) AVX) instructions.\n",
      "Intel MKL WARNING: Support of Intel(R) Streaming SIMD Extensions 4.2 (Intel(R) SSE4.2) enabled only processors has been deprecated. Intel oneAPI Math Kernel Library 2025.0 will require Intel(R) Advanced Vector Extensions (Intel(R) AVX) instructions.\n",
      "Intel MKL WARNING: Support of Intel(R) Streaming SIMD Extensions 4.2 (Intel(R) SSE4.2) enabled only processors has been deprecated. Intel oneAPI Math Kernel Library 2025.0 will require Intel(R) Advanced Vector Extensions (Intel(R) AVX) instructions.\n",
      "Intel MKL WARNING: Support of Intel(R) Streaming SIMD Extensions 4.2 (Intel(R) SSE4.2) enabled only processors has been deprecated. Intel oneAPI Math Kernel Library 2025.0 will require Intel(R) Advanced Vector Extensions (Intel(R) AVX) instructions.\n",
      "Intel MKL WARNING: Support of Intel(R) Streaming SIMD Extensions 4.2 (Intel(R) SSE4.2) enabled only processors has been deprecated. Intel oneAPI Math Kernel Library 2025.0 will require Intel(R) Advanced Vector Extensions (Intel(R) AVX) instructions.\n",
      "Intel MKL WARNING: Support of Intel(R) Streaming SIMD Extensions 4.2 (Intel(R) SSE4.2) enabled only processors has been deprecated. Intel oneAPI Math Kernel Library 2025.0 will require Intel(R) Advanced Vector Extensions (Intel(R) AVX) instructions.\n",
      "Intel MKL WARNING: Support of Intel(R) Streaming SIMD Extensions 4.2 (Intel(R) SSE4.2) enabled only processors has been deprecated. Intel oneAPI Math Kernel Library 2025.0 will require Intel(R) Advanced Vector Extensions (Intel(R) AVX) instructions.\n",
      "Intel MKL WARNING: Support of Intel(R) Streaming SIMD Extensions 4.2 (Intel(R) SSE4.2) enabled only processors has been deprecated. Intel oneAPI Math Kernel Library 2025.0 will require Intel(R) Advanced Vector Extensions (Intel(R) AVX) instructions.\n",
      "Intel MKL WARNING: Support of Intel(R) Streaming SIMD Extensions 4.2 (Intel(R) SSE4.2) enabled only processors has been deprecated. Intel oneAPI Math Kernel Library 2025.0 will require Intel(R) Advanced Vector Extensions (Intel(R) AVX) instructions.\n"
     ]
    },
    {
     "data": {
      "application/vnd.jupyter.widget-view+json": {
       "model_id": "",
       "version_major": 2,
       "version_minor": 0
      },
      "text/plain": [
       "Validation: |                                             | 0/? [00:00<?, ?it/s]"
      ]
     },
     "metadata": {},
     "output_type": "display_data"
    },
    {
     "name": "stdout",
     "output_type": "stream",
     "text": [
      "Intel MKL WARNING: Support of Intel(R) Streaming SIMD Extensions 4.2 (Intel(R) SSE4.2) enabled only processors has been deprecated. Intel oneAPI Math Kernel Library 2025.0 will require Intel(R) Advanced Vector Extensions (Intel(R) AVX) instructions.\n",
      "Intel MKL WARNING: Support of Intel(R) Streaming SIMD Extensions 4.2 (Intel(R) SSE4.2) enabled only processors has been deprecated. Intel oneAPI Math Kernel Library 2025.0 will require Intel(R) Advanced Vector Extensions (Intel(R) AVX) instructions.\n",
      "Intel MKL WARNING: Support of Intel(R) Streaming SIMD Extensions 4.2 (Intel(R) SSE4.2) enabled only processors has been deprecated. Intel oneAPI Math Kernel Library 2025.0 will require Intel(R) Advanced Vector Extensions (Intel(R) AVX) instructions.\n",
      "Intel MKL WARNING: Support of Intel(R) Streaming SIMD Extensions 4.2 (Intel(R) SSE4.2) enabled only processors has been deprecated. Intel oneAPI Math Kernel Library 2025.0 will require Intel(R) Advanced Vector Extensions (Intel(R) AVX) instructions.\n",
      "Intel MKL WARNING: Support of Intel(R) Streaming SIMD Extensions 4.2 (Intel(R) SSE4.2) enabled only processors has been deprecated. Intel oneAPI Math Kernel Library 2025.0 will require Intel(R) Advanced Vector Extensions (Intel(R) AVX) instructions.\n",
      "Intel MKL WARNING: Support of Intel(R) Streaming SIMD Extensions 4.2 (Intel(R) SSE4.2) enabled only processors has been deprecated. Intel oneAPI Math Kernel Library 2025.0 will require Intel(R) Advanced Vector Extensions (Intel(R) AVX) instructions.\n",
      "Intel MKL WARNING: Support of Intel(R) Streaming SIMD Extensions 4.2 (Intel(R) SSE4.2) enabled only processors has been deprecated. Intel oneAPI Math Kernel Library 2025.0 will require Intel(R) Advanced Vector Extensions (Intel(R) AVX) instructions.\n",
      "Intel MKL WARNING: Support of Intel(R) Streaming SIMD Extensions 4.2 (Intel(R) SSE4.2) enabled only processors has been deprecated. Intel oneAPI Math Kernel Library 2025.0 will require Intel(R) Advanced Vector Extensions (Intel(R) AVX) instructions.\n",
      "Intel MKL WARNING: Support of Intel(R) Streaming SIMD Extensions 4.2 (Intel(R) SSE4.2) enabled only processors has been deprecated. Intel oneAPI Math Kernel Library 2025.0 will require Intel(R) Advanced Vector Extensions (Intel(R) AVX) instructions.\n",
      "Intel MKL WARNING: Support of Intel(R) Streaming SIMD Extensions 4.2 (Intel(R) SSE4.2) enabled only processors has been deprecated. Intel oneAPI Math Kernel Library 2025.0 will require Intel(R) Advanced Vector Extensions (Intel(R) AVX) instructions.\n",
      "Intel MKL WARNING: Support of Intel(R) Streaming SIMD Extensions 4.2 (Intel(R) SSE4.2) enabled only processors has been deprecated. Intel oneAPI Math Kernel Library 2025.0 will require Intel(R) Advanced Vector Extensions (Intel(R) AVX) instructions.\n",
      "Intel MKL WARNING: Support of Intel(R) Streaming SIMD Extensions 4.2 (Intel(R) SSE4.2) enabled only processors has been deprecated. Intel oneAPI Math Kernel Library 2025.0 will require Intel(R) Advanced Vector Extensions (Intel(R) AVX) instructions.\n",
      "Intel MKL WARNING: Support of Intel(R) Streaming SIMD Extensions 4.2 (Intel(R) SSE4.2) enabled only processors has been deprecated. Intel oneAPI Math Kernel Library 2025.0 will require Intel(R) Advanced Vector Extensions (Intel(R) AVX) instructions.\n",
      "Intel MKL WARNING: Support of Intel(R) Streaming SIMD Extensions 4.2 (Intel(R) SSE4.2) enabled only processors has been deprecated. Intel oneAPI Math Kernel Library 2025.0 will require Intel(R) Advanced Vector Extensions (Intel(R) AVX) instructions.\n"
     ]
    },
    {
     "data": {
      "application/vnd.jupyter.widget-view+json": {
       "model_id": "",
       "version_major": 2,
       "version_minor": 0
      },
      "text/plain": [
       "Validation: |                                             | 0/? [00:00<?, ?it/s]"
      ]
     },
     "metadata": {},
     "output_type": "display_data"
    },
    {
     "name": "stdout",
     "output_type": "stream",
     "text": [
      "Intel MKL WARNING: Support of Intel(R) Streaming SIMD Extensions 4.2 (Intel(R) SSE4.2) enabled only processors has been deprecated. Intel oneAPI Math Kernel Library 2025.0 will require Intel(R) Advanced Vector Extensions (Intel(R) AVX) instructions.\n",
      "Intel MKL WARNING: Support of Intel(R) Streaming SIMD Extensions 4.2 (Intel(R) SSE4.2) enabled only processors has been deprecated. Intel oneAPI Math Kernel Library 2025.0 will require Intel(R) Advanced Vector Extensions (Intel(R) AVX) instructions.\n",
      "Intel MKL WARNING: Support of Intel(R) Streaming SIMD Extensions 4.2 (Intel(R) SSE4.2) enabled only processors has been deprecated. Intel oneAPI Math Kernel Library 2025.0 will require Intel(R) Advanced Vector Extensions (Intel(R) AVX) instructions.\n",
      "Intel MKL WARNING: Support of Intel(R) Streaming SIMD Extensions 4.2 (Intel(R) SSE4.2) enabled only processors has been deprecated. Intel oneAPI Math Kernel Library 2025.0 will require Intel(R) Advanced Vector Extensions (Intel(R) AVX) instructions.\n",
      "Intel MKL WARNING: Support of Intel(R) Streaming SIMD Extensions 4.2 (Intel(R) SSE4.2) enabled only processors has been deprecated. Intel oneAPI Math Kernel Library 2025.0 will require Intel(R) Advanced Vector Extensions (Intel(R) AVX) instructions.\n",
      "Intel MKL WARNING: Support of Intel(R) Streaming SIMD Extensions 4.2 (Intel(R) SSE4.2) enabled only processors has been deprecated. Intel oneAPI Math Kernel Library 2025.0 will require Intel(R) Advanced Vector Extensions (Intel(R) AVX) instructions.\n",
      "Intel MKL WARNING: Support of Intel(R) Streaming SIMD Extensions 4.2 (Intel(R) SSE4.2) enabled only processors has been deprecated. Intel oneAPI Math Kernel Library 2025.0 will require Intel(R) Advanced Vector Extensions (Intel(R) AVX) instructions.\n",
      "Intel MKL WARNING: Support of Intel(R) Streaming SIMD Extensions 4.2 (Intel(R) SSE4.2) enabled only processors has been deprecated. Intel oneAPI Math Kernel Library 2025.0 will require Intel(R) Advanced Vector Extensions (Intel(R) AVX) instructions.\n",
      "Intel MKL WARNING: Support of Intel(R) Streaming SIMD Extensions 4.2 (Intel(R) SSE4.2) enabled only processors has been deprecated. Intel oneAPI Math Kernel Library 2025.0 will require Intel(R) Advanced Vector Extensions (Intel(R) AVX) instructions.\n",
      "Intel MKL WARNING: Support of Intel(R) Streaming SIMD Extensions 4.2 (Intel(R) SSE4.2) enabled only processors has been deprecated. Intel oneAPI Math Kernel Library 2025.0 will require Intel(R) Advanced Vector Extensions (Intel(R) AVX) instructions.\n",
      "Intel MKL WARNING: Support of Intel(R) Streaming SIMD Extensions 4.2 (Intel(R) SSE4.2) enabled only processors has been deprecated. Intel oneAPI Math Kernel Library 2025.0 will require Intel(R) Advanced Vector Extensions (Intel(R) AVX) instructions.\n",
      "Intel MKL WARNING: Support of Intel(R) Streaming SIMD Extensions 4.2 (Intel(R) SSE4.2) enabled only processors has been deprecated. Intel oneAPI Math Kernel Library 2025.0 will require Intel(R) Advanced Vector Extensions (Intel(R) AVX) instructions.\n",
      "Intel MKL WARNING: Support of Intel(R) Streaming SIMD Extensions 4.2 (Intel(R) SSE4.2) enabled only processors has been deprecated. Intel oneAPI Math Kernel Library 2025.0 will require Intel(R) Advanced Vector Extensions (Intel(R) AVX) instructions.\n",
      "Intel MKL WARNING: Support of Intel(R) Streaming SIMD Extensions 4.2 (Intel(R) SSE4.2) enabled only processors has been deprecated. Intel oneAPI Math Kernel Library 2025.0 will require Intel(R) Advanced Vector Extensions (Intel(R) AVX) instructions.\n"
     ]
    },
    {
     "data": {
      "application/vnd.jupyter.widget-view+json": {
       "model_id": "",
       "version_major": 2,
       "version_minor": 0
      },
      "text/plain": [
       "Validation: |                                             | 0/? [00:00<?, ?it/s]"
      ]
     },
     "metadata": {},
     "output_type": "display_data"
    },
    {
     "name": "stdout",
     "output_type": "stream",
     "text": [
      "Intel MKL WARNING: Support of Intel(R) Streaming SIMD Extensions 4.2 (Intel(R) SSE4.2) enabled only processors has been deprecated. Intel oneAPI Math Kernel Library 2025.0 will require Intel(R) Advanced Vector Extensions (Intel(R) AVX) instructions.\n",
      "Intel MKL WARNING: Support of Intel(R) Streaming SIMD Extensions 4.2 (Intel(R) SSE4.2) enabled only processors has been deprecated. Intel oneAPI Math Kernel Library 2025.0 will require Intel(R) Advanced Vector Extensions (Intel(R) AVX) instructions.\n",
      "Intel MKL WARNING: Support of Intel(R) Streaming SIMD Extensions 4.2 (Intel(R) SSE4.2) enabled only processors has been deprecated. Intel oneAPI Math Kernel Library 2025.0 will require Intel(R) Advanced Vector Extensions (Intel(R) AVX) instructions.\n",
      "Intel MKL WARNING: Support of Intel(R) Streaming SIMD Extensions 4.2 (Intel(R) SSE4.2) enabled only processors has been deprecated. Intel oneAPI Math Kernel Library 2025.0 will require Intel(R) Advanced Vector Extensions (Intel(R) AVX) instructions.\n",
      "Intel MKL WARNING: Support of Intel(R) Streaming SIMD Extensions 4.2 (Intel(R) SSE4.2) enabled only processors has been deprecated. Intel oneAPI Math Kernel Library 2025.0 will require Intel(R) Advanced Vector Extensions (Intel(R) AVX) instructions.\n",
      "Intel MKL WARNING: Support of Intel(R) Streaming SIMD Extensions 4.2 (Intel(R) SSE4.2) enabled only processors has been deprecated. Intel oneAPI Math Kernel Library 2025.0 will require Intel(R) Advanced Vector Extensions (Intel(R) AVX) instructions.\n",
      "Intel MKL WARNING: Support of Intel(R) Streaming SIMD Extensions 4.2 (Intel(R) SSE4.2) enabled only processors has been deprecated. Intel oneAPI Math Kernel Library 2025.0 will require Intel(R) Advanced Vector Extensions (Intel(R) AVX) instructions.\n",
      "Intel MKL WARNING: Support of Intel(R) Streaming SIMD Extensions 4.2 (Intel(R) SSE4.2) enabled only processors has been deprecated. Intel oneAPI Math Kernel Library 2025.0 will require Intel(R) Advanced Vector Extensions (Intel(R) AVX) instructions.\n",
      "Intel MKL WARNING: Support of Intel(R) Streaming SIMD Extensions 4.2 (Intel(R) SSE4.2) enabled only processors has been deprecated. Intel oneAPI Math Kernel Library 2025.0 will require Intel(R) Advanced Vector Extensions (Intel(R) AVX) instructions.\n",
      "Intel MKL WARNING: Support of Intel(R) Streaming SIMD Extensions 4.2 (Intel(R) SSE4.2) enabled only processors has been deprecated. Intel oneAPI Math Kernel Library 2025.0 will require Intel(R) Advanced Vector Extensions (Intel(R) AVX) instructions.\n",
      "Intel MKL WARNING: Support of Intel(R) Streaming SIMD Extensions 4.2 (Intel(R) SSE4.2) enabled only processors has been deprecated. Intel oneAPI Math Kernel Library 2025.0 will require Intel(R) Advanced Vector Extensions (Intel(R) AVX) instructions.\n",
      "Intel MKL WARNING: Support of Intel(R) Streaming SIMD Extensions 4.2 (Intel(R) SSE4.2) enabled only processors has been deprecated. Intel oneAPI Math Kernel Library 2025.0 will require Intel(R) Advanced Vector Extensions (Intel(R) AVX) instructions.\n",
      "Intel MKL WARNING: Support of Intel(R) Streaming SIMD Extensions 4.2 (Intel(R) SSE4.2) enabled only processors has been deprecated. Intel oneAPI Math Kernel Library 2025.0 will require Intel(R) Advanced Vector Extensions (Intel(R) AVX) instructions.\n",
      "Intel MKL WARNING: Support of Intel(R) Streaming SIMD Extensions 4.2 (Intel(R) SSE4.2) enabled only processors has been deprecated. Intel oneAPI Math Kernel Library 2025.0 will require Intel(R) Advanced Vector Extensions (Intel(R) AVX) instructions.\n"
     ]
    },
    {
     "data": {
      "application/vnd.jupyter.widget-view+json": {
       "model_id": "",
       "version_major": 2,
       "version_minor": 0
      },
      "text/plain": [
       "Validation: |                                             | 0/? [00:00<?, ?it/s]"
      ]
     },
     "metadata": {},
     "output_type": "display_data"
    },
    {
     "name": "stdout",
     "output_type": "stream",
     "text": [
      "Intel MKL WARNING: Support of Intel(R) Streaming SIMD Extensions 4.2 (Intel(R) SSE4.2) enabled only processors has been deprecated. Intel oneAPI Math Kernel Library 2025.0 will require Intel(R) Advanced Vector Extensions (Intel(R) AVX) instructions.\n",
      "Intel MKL WARNING: Support of Intel(R) Streaming SIMD Extensions 4.2 (Intel(R) SSE4.2) enabled only processors has been deprecated. Intel oneAPI Math Kernel Library 2025.0 will require Intel(R) Advanced Vector Extensions (Intel(R) AVX) instructions.\n",
      "Intel MKL WARNING: Support of Intel(R) Streaming SIMD Extensions 4.2 (Intel(R) SSE4.2) enabled only processors has been deprecated. Intel oneAPI Math Kernel Library 2025.0 will require Intel(R) Advanced Vector Extensions (Intel(R) AVX) instructions.\n",
      "Intel MKL WARNING: Support of Intel(R) Streaming SIMD Extensions 4.2 (Intel(R) SSE4.2) enabled only processors has been deprecated. Intel oneAPI Math Kernel Library 2025.0 will require Intel(R) Advanced Vector Extensions (Intel(R) AVX) instructions.\n",
      "Intel MKL WARNING: Support of Intel(R) Streaming SIMD Extensions 4.2 (Intel(R) SSE4.2) enabled only processors has been deprecated. Intel oneAPI Math Kernel Library 2025.0 will require Intel(R) Advanced Vector Extensions (Intel(R) AVX) instructions.\n",
      "Intel MKL WARNING: Support of Intel(R) Streaming SIMD Extensions 4.2 (Intel(R) SSE4.2) enabled only processors has been deprecated. Intel oneAPI Math Kernel Library 2025.0 will require Intel(R) Advanced Vector Extensions (Intel(R) AVX) instructions.\n",
      "Intel MKL WARNING: Support of Intel(R) Streaming SIMD Extensions 4.2 (Intel(R) SSE4.2) enabled only processors has been deprecated. Intel oneAPI Math Kernel Library 2025.0 will require Intel(R) Advanced Vector Extensions (Intel(R) AVX) instructions.\n",
      "Intel MKL WARNING: Support of Intel(R) Streaming SIMD Extensions 4.2 (Intel(R) SSE4.2) enabled only processors has been deprecated. Intel oneAPI Math Kernel Library 2025.0 will require Intel(R) Advanced Vector Extensions (Intel(R) AVX) instructions.\n",
      "Intel MKL WARNING: Support of Intel(R) Streaming SIMD Extensions 4.2 (Intel(R) SSE4.2) enabled only processors has been deprecated. Intel oneAPI Math Kernel Library 2025.0 will require Intel(R) Advanced Vector Extensions (Intel(R) AVX) instructions.\n",
      "Intel MKL WARNING: Support of Intel(R) Streaming SIMD Extensions 4.2 (Intel(R) SSE4.2) enabled only processors has been deprecated. Intel oneAPI Math Kernel Library 2025.0 will require Intel(R) Advanced Vector Extensions (Intel(R) AVX) instructions.\n",
      "Intel MKL WARNING: Support of Intel(R) Streaming SIMD Extensions 4.2 (Intel(R) SSE4.2) enabled only processors has been deprecated. Intel oneAPI Math Kernel Library 2025.0 will require Intel(R) Advanced Vector Extensions (Intel(R) AVX) instructions.\n",
      "Intel MKL WARNING: Support of Intel(R) Streaming SIMD Extensions 4.2 (Intel(R) SSE4.2) enabled only processors has been deprecated. Intel oneAPI Math Kernel Library 2025.0 will require Intel(R) Advanced Vector Extensions (Intel(R) AVX) instructions.\n",
      "Intel MKL WARNING: Support of Intel(R) Streaming SIMD Extensions 4.2 (Intel(R) SSE4.2) enabled only processors has been deprecated. Intel oneAPI Math Kernel Library 2025.0 will require Intel(R) Advanced Vector Extensions (Intel(R) AVX) instructions.\n",
      "Intel MKL WARNING: Support of Intel(R) Streaming SIMD Extensions 4.2 (Intel(R) SSE4.2) enabled only processors has been deprecated. Intel oneAPI Math Kernel Library 2025.0 will require Intel(R) Advanced Vector Extensions (Intel(R) AVX) instructions.\n"
     ]
    },
    {
     "data": {
      "application/vnd.jupyter.widget-view+json": {
       "model_id": "",
       "version_major": 2,
       "version_minor": 0
      },
      "text/plain": [
       "Validation: |                                             | 0/? [00:00<?, ?it/s]"
      ]
     },
     "metadata": {},
     "output_type": "display_data"
    },
    {
     "name": "stdout",
     "output_type": "stream",
     "text": [
      "Intel MKL WARNING: Support of Intel(R) Streaming SIMD Extensions 4.2 (Intel(R) SSE4.2) enabled only processors has been deprecated. Intel oneAPI Math Kernel Library 2025.0 will require Intel(R) Advanced Vector Extensions (Intel(R) AVX) instructions.\n",
      "Intel MKL WARNING: Support of Intel(R) Streaming SIMD Extensions 4.2 (Intel(R) SSE4.2) enabled only processors has been deprecated. Intel oneAPI Math Kernel Library 2025.0 will require Intel(R) Advanced Vector Extensions (Intel(R) AVX) instructions.\n",
      "Intel MKL WARNING: Support of Intel(R) Streaming SIMD Extensions 4.2 (Intel(R) SSE4.2) enabled only processors has been deprecated. Intel oneAPI Math Kernel Library 2025.0 will require Intel(R) Advanced Vector Extensions (Intel(R) AVX) instructions.\n",
      "Intel MKL WARNING: Support of Intel(R) Streaming SIMD Extensions 4.2 (Intel(R) SSE4.2) enabled only processors has been deprecated. Intel oneAPI Math Kernel Library 2025.0 will require Intel(R) Advanced Vector Extensions (Intel(R) AVX) instructions.\n",
      "Intel MKL WARNING: Support of Intel(R) Streaming SIMD Extensions 4.2 (Intel(R) SSE4.2) enabled only processors has been deprecated. Intel oneAPI Math Kernel Library 2025.0 will require Intel(R) Advanced Vector Extensions (Intel(R) AVX) instructions.\n",
      "Intel MKL WARNING: Support of Intel(R) Streaming SIMD Extensions 4.2 (Intel(R) SSE4.2) enabled only processors has been deprecated. Intel oneAPI Math Kernel Library 2025.0 will require Intel(R) Advanced Vector Extensions (Intel(R) AVX) instructions.\n",
      "Intel MKL WARNING: Support of Intel(R) Streaming SIMD Extensions 4.2 (Intel(R) SSE4.2) enabled only processors has been deprecated. Intel oneAPI Math Kernel Library 2025.0 will require Intel(R) Advanced Vector Extensions (Intel(R) AVX) instructions.\n",
      "Intel MKL WARNING: Support of Intel(R) Streaming SIMD Extensions 4.2 (Intel(R) SSE4.2) enabled only processors has been deprecated. Intel oneAPI Math Kernel Library 2025.0 will require Intel(R) Advanced Vector Extensions (Intel(R) AVX) instructions.\n",
      "Intel MKL WARNING: Support of Intel(R) Streaming SIMD Extensions 4.2 (Intel(R) SSE4.2) enabled only processors has been deprecated. Intel oneAPI Math Kernel Library 2025.0 will require Intel(R) Advanced Vector Extensions (Intel(R) AVX) instructions.\n",
      "Intel MKL WARNING: Support of Intel(R) Streaming SIMD Extensions 4.2 (Intel(R) SSE4.2) enabled only processors has been deprecated. Intel oneAPI Math Kernel Library 2025.0 will require Intel(R) Advanced Vector Extensions (Intel(R) AVX) instructions.\n",
      "Intel MKL WARNING: Support of Intel(R) Streaming SIMD Extensions 4.2 (Intel(R) SSE4.2) enabled only processors has been deprecated. Intel oneAPI Math Kernel Library 2025.0 will require Intel(R) Advanced Vector Extensions (Intel(R) AVX) instructions.\n",
      "Intel MKL WARNING: Support of Intel(R) Streaming SIMD Extensions 4.2 (Intel(R) SSE4.2) enabled only processors has been deprecated. Intel oneAPI Math Kernel Library 2025.0 will require Intel(R) Advanced Vector Extensions (Intel(R) AVX) instructions.\n",
      "Intel MKL WARNING: Support of Intel(R) Streaming SIMD Extensions 4.2 (Intel(R) SSE4.2) enabled only processors has been deprecated. Intel oneAPI Math Kernel Library 2025.0 will require Intel(R) Advanced Vector Extensions (Intel(R) AVX) instructions.\n",
      "Intel MKL WARNING: Support of Intel(R) Streaming SIMD Extensions 4.2 (Intel(R) SSE4.2) enabled only processors has been deprecated. Intel oneAPI Math Kernel Library 2025.0 will require Intel(R) Advanced Vector Extensions (Intel(R) AVX) instructions.\n"
     ]
    },
    {
     "data": {
      "application/vnd.jupyter.widget-view+json": {
       "model_id": "",
       "version_major": 2,
       "version_minor": 0
      },
      "text/plain": [
       "Validation: |                                             | 0/? [00:00<?, ?it/s]"
      ]
     },
     "metadata": {},
     "output_type": "display_data"
    },
    {
     "name": "stdout",
     "output_type": "stream",
     "text": [
      "Intel MKL WARNING: Support of Intel(R) Streaming SIMD Extensions 4.2 (Intel(R) SSE4.2) enabled only processors has been deprecated. Intel oneAPI Math Kernel Library 2025.0 will require Intel(R) Advanced Vector Extensions (Intel(R) AVX) instructions.\n",
      "Intel MKL WARNING: Support of Intel(R) Streaming SIMD Extensions 4.2 (Intel(R) SSE4.2) enabled only processors has been deprecated. Intel oneAPI Math Kernel Library 2025.0 will require Intel(R) Advanced Vector Extensions (Intel(R) AVX) instructions.\n",
      "Intel MKL WARNING: Support of Intel(R) Streaming SIMD Extensions 4.2 (Intel(R) SSE4.2) enabled only processors has been deprecated. Intel oneAPI Math Kernel Library 2025.0 will require Intel(R) Advanced Vector Extensions (Intel(R) AVX) instructions.\n",
      "Intel MKL WARNING: Support of Intel(R) Streaming SIMD Extensions 4.2 (Intel(R) SSE4.2) enabled only processors has been deprecated. Intel oneAPI Math Kernel Library 2025.0 will require Intel(R) Advanced Vector Extensions (Intel(R) AVX) instructions.\n",
      "Intel MKL WARNING: Support of Intel(R) Streaming SIMD Extensions 4.2 (Intel(R) SSE4.2) enabled only processors has been deprecated. Intel oneAPI Math Kernel Library 2025.0 will require Intel(R) Advanced Vector Extensions (Intel(R) AVX) instructions.\n",
      "Intel MKL WARNING: Support of Intel(R) Streaming SIMD Extensions 4.2 (Intel(R) SSE4.2) enabled only processors has been deprecated. Intel oneAPI Math Kernel Library 2025.0 will require Intel(R) Advanced Vector Extensions (Intel(R) AVX) instructions.\n",
      "Intel MKL WARNING: Support of Intel(R) Streaming SIMD Extensions 4.2 (Intel(R) SSE4.2) enabled only processors has been deprecated. Intel oneAPI Math Kernel Library 2025.0 will require Intel(R) Advanced Vector Extensions (Intel(R) AVX) instructions.\n",
      "Intel MKL WARNING: Support of Intel(R) Streaming SIMD Extensions 4.2 (Intel(R) SSE4.2) enabled only processors has been deprecated. Intel oneAPI Math Kernel Library 2025.0 will require Intel(R) Advanced Vector Extensions (Intel(R) AVX) instructions.\n",
      "Intel MKL WARNING: Support of Intel(R) Streaming SIMD Extensions 4.2 (Intel(R) SSE4.2) enabled only processors has been deprecated. Intel oneAPI Math Kernel Library 2025.0 will require Intel(R) Advanced Vector Extensions (Intel(R) AVX) instructions.\n",
      "Intel MKL WARNING: Support of Intel(R) Streaming SIMD Extensions 4.2 (Intel(R) SSE4.2) enabled only processors has been deprecated. Intel oneAPI Math Kernel Library 2025.0 will require Intel(R) Advanced Vector Extensions (Intel(R) AVX) instructions.\n",
      "Intel MKL WARNING: Support of Intel(R) Streaming SIMD Extensions 4.2 (Intel(R) SSE4.2) enabled only processors has been deprecated. Intel oneAPI Math Kernel Library 2025.0 will require Intel(R) Advanced Vector Extensions (Intel(R) AVX) instructions.\n",
      "Intel MKL WARNING: Support of Intel(R) Streaming SIMD Extensions 4.2 (Intel(R) SSE4.2) enabled only processors has been deprecated. Intel oneAPI Math Kernel Library 2025.0 will require Intel(R) Advanced Vector Extensions (Intel(R) AVX) instructions.\n",
      "Intel MKL WARNING: Support of Intel(R) Streaming SIMD Extensions 4.2 (Intel(R) SSE4.2) enabled only processors has been deprecated. Intel oneAPI Math Kernel Library 2025.0 will require Intel(R) Advanced Vector Extensions (Intel(R) AVX) instructions.\n",
      "Intel MKL WARNING: Support of Intel(R) Streaming SIMD Extensions 4.2 (Intel(R) SSE4.2) enabled only processors has been deprecated. Intel oneAPI Math Kernel Library 2025.0 will require Intel(R) Advanced Vector Extensions (Intel(R) AVX) instructions.\n"
     ]
    },
    {
     "data": {
      "application/vnd.jupyter.widget-view+json": {
       "model_id": "",
       "version_major": 2,
       "version_minor": 0
      },
      "text/plain": [
       "Validation: |                                             | 0/? [00:00<?, ?it/s]"
      ]
     },
     "metadata": {},
     "output_type": "display_data"
    },
    {
     "name": "stdout",
     "output_type": "stream",
     "text": [
      "Intel MKL WARNING: Support of Intel(R) Streaming SIMD Extensions 4.2 (Intel(R) SSE4.2) enabled only processors has been deprecated. Intel oneAPI Math Kernel Library 2025.0 will require Intel(R) Advanced Vector Extensions (Intel(R) AVX) instructions.\n",
      "Intel MKL WARNING: Support of Intel(R) Streaming SIMD Extensions 4.2 (Intel(R) SSE4.2) enabled only processors has been deprecated. Intel oneAPI Math Kernel Library 2025.0 will require Intel(R) Advanced Vector Extensions (Intel(R) AVX) instructions.\n",
      "Intel MKL WARNING: Support of Intel(R) Streaming SIMD Extensions 4.2 (Intel(R) SSE4.2) enabled only processors has been deprecated. Intel oneAPI Math Kernel Library 2025.0 will require Intel(R) Advanced Vector Extensions (Intel(R) AVX) instructions.\n",
      "Intel MKL WARNING: Support of Intel(R) Streaming SIMD Extensions 4.2 (Intel(R) SSE4.2) enabled only processors has been deprecated. Intel oneAPI Math Kernel Library 2025.0 will require Intel(R) Advanced Vector Extensions (Intel(R) AVX) instructions.\n",
      "Intel MKL WARNING: Support of Intel(R) Streaming SIMD Extensions 4.2 (Intel(R) SSE4.2) enabled only processors has been deprecated. Intel oneAPI Math Kernel Library 2025.0 will require Intel(R) Advanced Vector Extensions (Intel(R) AVX) instructions.\n",
      "Intel MKL WARNING: Support of Intel(R) Streaming SIMD Extensions 4.2 (Intel(R) SSE4.2) enabled only processors has been deprecated. Intel oneAPI Math Kernel Library 2025.0 will require Intel(R) Advanced Vector Extensions (Intel(R) AVX) instructions.\n",
      "Intel MKL WARNING: Support of Intel(R) Streaming SIMD Extensions 4.2 (Intel(R) SSE4.2) enabled only processors has been deprecated. Intel oneAPI Math Kernel Library 2025.0 will require Intel(R) Advanced Vector Extensions (Intel(R) AVX) instructions.\n",
      "Intel MKL WARNING: Support of Intel(R) Streaming SIMD Extensions 4.2 (Intel(R) SSE4.2) enabled only processors has been deprecated. Intel oneAPI Math Kernel Library 2025.0 will require Intel(R) Advanced Vector Extensions (Intel(R) AVX) instructions.\n",
      "Intel MKL WARNING: Support of Intel(R) Streaming SIMD Extensions 4.2 (Intel(R) SSE4.2) enabled only processors has been deprecated. Intel oneAPI Math Kernel Library 2025.0 will require Intel(R) Advanced Vector Extensions (Intel(R) AVX) instructions.\n",
      "Intel MKL WARNING: Support of Intel(R) Streaming SIMD Extensions 4.2 (Intel(R) SSE4.2) enabled only processors has been deprecated. Intel oneAPI Math Kernel Library 2025.0 will require Intel(R) Advanced Vector Extensions (Intel(R) AVX) instructions.\n",
      "Intel MKL WARNING: Support of Intel(R) Streaming SIMD Extensions 4.2 (Intel(R) SSE4.2) enabled only processors has been deprecated. Intel oneAPI Math Kernel Library 2025.0 will require Intel(R) Advanced Vector Extensions (Intel(R) AVX) instructions.\n",
      "Intel MKL WARNING: Support of Intel(R) Streaming SIMD Extensions 4.2 (Intel(R) SSE4.2) enabled only processors has been deprecated. Intel oneAPI Math Kernel Library 2025.0 will require Intel(R) Advanced Vector Extensions (Intel(R) AVX) instructions.\n",
      "Intel MKL WARNING: Support of Intel(R) Streaming SIMD Extensions 4.2 (Intel(R) SSE4.2) enabled only processors has been deprecated. Intel oneAPI Math Kernel Library 2025.0 will require Intel(R) Advanced Vector Extensions (Intel(R) AVX) instructions.\n",
      "Intel MKL WARNING: Support of Intel(R) Streaming SIMD Extensions 4.2 (Intel(R) SSE4.2) enabled only processors has been deprecated. Intel oneAPI Math Kernel Library 2025.0 will require Intel(R) Advanced Vector Extensions (Intel(R) AVX) instructions.\n"
     ]
    },
    {
     "data": {
      "application/vnd.jupyter.widget-view+json": {
       "model_id": "",
       "version_major": 2,
       "version_minor": 0
      },
      "text/plain": [
       "Validation: |                                             | 0/? [00:00<?, ?it/s]"
      ]
     },
     "metadata": {},
     "output_type": "display_data"
    },
    {
     "name": "stdout",
     "output_type": "stream",
     "text": [
      "Intel MKL WARNING: Support of Intel(R) Streaming SIMD Extensions 4.2 (Intel(R) SSE4.2) enabled only processors has been deprecated. Intel oneAPI Math Kernel Library 2025.0 will require Intel(R) Advanced Vector Extensions (Intel(R) AVX) instructions.\n",
      "Intel MKL WARNING: Support of Intel(R) Streaming SIMD Extensions 4.2 (Intel(R) SSE4.2) enabled only processors has been deprecated. Intel oneAPI Math Kernel Library 2025.0 will require Intel(R) Advanced Vector Extensions (Intel(R) AVX) instructions.\n",
      "Intel MKL WARNING: Support of Intel(R) Streaming SIMD Extensions 4.2 (Intel(R) SSE4.2) enabled only processors has been deprecated. Intel oneAPI Math Kernel Library 2025.0 will require Intel(R) Advanced Vector Extensions (Intel(R) AVX) instructions.\n",
      "Intel MKL WARNING: Support of Intel(R) Streaming SIMD Extensions 4.2 (Intel(R) SSE4.2) enabled only processors has been deprecated. Intel oneAPI Math Kernel Library 2025.0 will require Intel(R) Advanced Vector Extensions (Intel(R) AVX) instructions.\n",
      "Intel MKL WARNING: Support of Intel(R) Streaming SIMD Extensions 4.2 (Intel(R) SSE4.2) enabled only processors has been deprecated. Intel oneAPI Math Kernel Library 2025.0 will require Intel(R) Advanced Vector Extensions (Intel(R) AVX) instructions.\n",
      "Intel MKL WARNING: Support of Intel(R) Streaming SIMD Extensions 4.2 (Intel(R) SSE4.2) enabled only processors has been deprecated. Intel oneAPI Math Kernel Library 2025.0 will require Intel(R) Advanced Vector Extensions (Intel(R) AVX) instructions.\n",
      "Intel MKL WARNING: Support of Intel(R) Streaming SIMD Extensions 4.2 (Intel(R) SSE4.2) enabled only processors has been deprecated. Intel oneAPI Math Kernel Library 2025.0 will require Intel(R) Advanced Vector Extensions (Intel(R) AVX) instructions.\n",
      "Intel MKL WARNING: Support of Intel(R) Streaming SIMD Extensions 4.2 (Intel(R) SSE4.2) enabled only processors has been deprecated. Intel oneAPI Math Kernel Library 2025.0 will require Intel(R) Advanced Vector Extensions (Intel(R) AVX) instructions.\n",
      "Intel MKL WARNING: Support of Intel(R) Streaming SIMD Extensions 4.2 (Intel(R) SSE4.2) enabled only processors has been deprecated. Intel oneAPI Math Kernel Library 2025.0 will require Intel(R) Advanced Vector Extensions (Intel(R) AVX) instructions.\n",
      "Intel MKL WARNING: Support of Intel(R) Streaming SIMD Extensions 4.2 (Intel(R) SSE4.2) enabled only processors has been deprecated. Intel oneAPI Math Kernel Library 2025.0 will require Intel(R) Advanced Vector Extensions (Intel(R) AVX) instructions.\n",
      "Intel MKL WARNING: Support of Intel(R) Streaming SIMD Extensions 4.2 (Intel(R) SSE4.2) enabled only processors has been deprecated. Intel oneAPI Math Kernel Library 2025.0 will require Intel(R) Advanced Vector Extensions (Intel(R) AVX) instructions.\n",
      "Intel MKL WARNING: Support of Intel(R) Streaming SIMD Extensions 4.2 (Intel(R) SSE4.2) enabled only processors has been deprecated. Intel oneAPI Math Kernel Library 2025.0 will require Intel(R) Advanced Vector Extensions (Intel(R) AVX) instructions.\n",
      "Intel MKL WARNING: Support of Intel(R) Streaming SIMD Extensions 4.2 (Intel(R) SSE4.2) enabled only processors has been deprecated. Intel oneAPI Math Kernel Library 2025.0 will require Intel(R) Advanced Vector Extensions (Intel(R) AVX) instructions.\n",
      "Intel MKL WARNING: Support of Intel(R) Streaming SIMD Extensions 4.2 (Intel(R) SSE4.2) enabled only processors has been deprecated. Intel oneAPI Math Kernel Library 2025.0 will require Intel(R) Advanced Vector Extensions (Intel(R) AVX) instructions.\n"
     ]
    },
    {
     "data": {
      "application/vnd.jupyter.widget-view+json": {
       "model_id": "",
       "version_major": 2,
       "version_minor": 0
      },
      "text/plain": [
       "Validation: |                                             | 0/? [00:00<?, ?it/s]"
      ]
     },
     "metadata": {},
     "output_type": "display_data"
    },
    {
     "name": "stdout",
     "output_type": "stream",
     "text": [
      "Intel MKL WARNING: Support of Intel(R) Streaming SIMD Extensions 4.2 (Intel(R) SSE4.2) enabled only processors has been deprecated. Intel oneAPI Math Kernel Library 2025.0 will require Intel(R) Advanced Vector Extensions (Intel(R) AVX) instructions.\n",
      "Intel MKL WARNING: Support of Intel(R) Streaming SIMD Extensions 4.2 (Intel(R) SSE4.2) enabled only processors has been deprecated. Intel oneAPI Math Kernel Library 2025.0 will require Intel(R) Advanced Vector Extensions (Intel(R) AVX) instructions.\n",
      "Intel MKL WARNING: Support of Intel(R) Streaming SIMD Extensions 4.2 (Intel(R) SSE4.2) enabled only processors has been deprecated. Intel oneAPI Math Kernel Library 2025.0 will require Intel(R) Advanced Vector Extensions (Intel(R) AVX) instructions.\n",
      "Intel MKL WARNING: Support of Intel(R) Streaming SIMD Extensions 4.2 (Intel(R) SSE4.2) enabled only processors has been deprecated. Intel oneAPI Math Kernel Library 2025.0 will require Intel(R) Advanced Vector Extensions (Intel(R) AVX) instructions.\n",
      "Intel MKL WARNING: Support of Intel(R) Streaming SIMD Extensions 4.2 (Intel(R) SSE4.2) enabled only processors has been deprecated. Intel oneAPI Math Kernel Library 2025.0 will require Intel(R) Advanced Vector Extensions (Intel(R) AVX) instructions.\n",
      "Intel MKL WARNING: Support of Intel(R) Streaming SIMD Extensions 4.2 (Intel(R) SSE4.2) enabled only processors has been deprecated. Intel oneAPI Math Kernel Library 2025.0 will require Intel(R) Advanced Vector Extensions (Intel(R) AVX) instructions.\n",
      "Intel MKL WARNING: Support of Intel(R) Streaming SIMD Extensions 4.2 (Intel(R) SSE4.2) enabled only processors has been deprecated. Intel oneAPI Math Kernel Library 2025.0 will require Intel(R) Advanced Vector Extensions (Intel(R) AVX) instructions.\n",
      "Intel MKL WARNING: Support of Intel(R) Streaming SIMD Extensions 4.2 (Intel(R) SSE4.2) enabled only processors has been deprecated. Intel oneAPI Math Kernel Library 2025.0 will require Intel(R) Advanced Vector Extensions (Intel(R) AVX) instructions.\n",
      "Intel MKL WARNING: Support of Intel(R) Streaming SIMD Extensions 4.2 (Intel(R) SSE4.2) enabled only processors has been deprecated. Intel oneAPI Math Kernel Library 2025.0 will require Intel(R) Advanced Vector Extensions (Intel(R) AVX) instructions.\n",
      "Intel MKL WARNING: Support of Intel(R) Streaming SIMD Extensions 4.2 (Intel(R) SSE4.2) enabled only processors has been deprecated. Intel oneAPI Math Kernel Library 2025.0 will require Intel(R) Advanced Vector Extensions (Intel(R) AVX) instructions.\n",
      "Intel MKL WARNING: Support of Intel(R) Streaming SIMD Extensions 4.2 (Intel(R) SSE4.2) enabled only processors has been deprecated. Intel oneAPI Math Kernel Library 2025.0 will require Intel(R) Advanced Vector Extensions (Intel(R) AVX) instructions.\n",
      "Intel MKL WARNING: Support of Intel(R) Streaming SIMD Extensions 4.2 (Intel(R) SSE4.2) enabled only processors has been deprecated. Intel oneAPI Math Kernel Library 2025.0 will require Intel(R) Advanced Vector Extensions (Intel(R) AVX) instructions.\n",
      "Intel MKL WARNING: Support of Intel(R) Streaming SIMD Extensions 4.2 (Intel(R) SSE4.2) enabled only processors has been deprecated. Intel oneAPI Math Kernel Library 2025.0 will require Intel(R) Advanced Vector Extensions (Intel(R) AVX) instructions.\n",
      "Intel MKL WARNING: Support of Intel(R) Streaming SIMD Extensions 4.2 (Intel(R) SSE4.2) enabled only processors has been deprecated. Intel oneAPI Math Kernel Library 2025.0 will require Intel(R) Advanced Vector Extensions (Intel(R) AVX) instructions.\n"
     ]
    },
    {
     "data": {
      "application/vnd.jupyter.widget-view+json": {
       "model_id": "",
       "version_major": 2,
       "version_minor": 0
      },
      "text/plain": [
       "Validation: |                                             | 0/? [00:00<?, ?it/s]"
      ]
     },
     "metadata": {},
     "output_type": "display_data"
    },
    {
     "name": "stdout",
     "output_type": "stream",
     "text": [
      "Intel MKL WARNING: Support of Intel(R) Streaming SIMD Extensions 4.2 (Intel(R) SSE4.2) enabled only processors has been deprecated. Intel oneAPI Math Kernel Library 2025.0 will require Intel(R) Advanced Vector Extensions (Intel(R) AVX) instructions.\n",
      "Intel MKL WARNING: Support of Intel(R) Streaming SIMD Extensions 4.2 (Intel(R) SSE4.2) enabled only processors has been deprecated. Intel oneAPI Math Kernel Library 2025.0 will require Intel(R) Advanced Vector Extensions (Intel(R) AVX) instructions.\n",
      "Intel MKL WARNING: Support of Intel(R) Streaming SIMD Extensions 4.2 (Intel(R) SSE4.2) enabled only processors has been deprecated. Intel oneAPI Math Kernel Library 2025.0 will require Intel(R) Advanced Vector Extensions (Intel(R) AVX) instructions.\n",
      "Intel MKL WARNING: Support of Intel(R) Streaming SIMD Extensions 4.2 (Intel(R) SSE4.2) enabled only processors has been deprecated. Intel oneAPI Math Kernel Library 2025.0 will require Intel(R) Advanced Vector Extensions (Intel(R) AVX) instructions.\n",
      "Intel MKL WARNING: Support of Intel(R) Streaming SIMD Extensions 4.2 (Intel(R) SSE4.2) enabled only processors has been deprecated. Intel oneAPI Math Kernel Library 2025.0 will require Intel(R) Advanced Vector Extensions (Intel(R) AVX) instructions.\n",
      "Intel MKL WARNING: Support of Intel(R) Streaming SIMD Extensions 4.2 (Intel(R) SSE4.2) enabled only processors has been deprecated. Intel oneAPI Math Kernel Library 2025.0 will require Intel(R) Advanced Vector Extensions (Intel(R) AVX) instructions.\n",
      "Intel MKL WARNING: Support of Intel(R) Streaming SIMD Extensions 4.2 (Intel(R) SSE4.2) enabled only processors has been deprecated. Intel oneAPI Math Kernel Library 2025.0 will require Intel(R) Advanced Vector Extensions (Intel(R) AVX) instructions.\n",
      "Intel MKL WARNING: Support of Intel(R) Streaming SIMD Extensions 4.2 (Intel(R) SSE4.2) enabled only processors has been deprecated. Intel oneAPI Math Kernel Library 2025.0 will require Intel(R) Advanced Vector Extensions (Intel(R) AVX) instructions.\n",
      "Intel MKL WARNING: Support of Intel(R) Streaming SIMD Extensions 4.2 (Intel(R) SSE4.2) enabled only processors has been deprecated. Intel oneAPI Math Kernel Library 2025.0 will require Intel(R) Advanced Vector Extensions (Intel(R) AVX) instructions.\n",
      "Intel MKL WARNING: Support of Intel(R) Streaming SIMD Extensions 4.2 (Intel(R) SSE4.2) enabled only processors has been deprecated. Intel oneAPI Math Kernel Library 2025.0 will require Intel(R) Advanced Vector Extensions (Intel(R) AVX) instructions.\n",
      "Intel MKL WARNING: Support of Intel(R) Streaming SIMD Extensions 4.2 (Intel(R) SSE4.2) enabled only processors has been deprecated. Intel oneAPI Math Kernel Library 2025.0 will require Intel(R) Advanced Vector Extensions (Intel(R) AVX) instructions.\n",
      "Intel MKL WARNING: Support of Intel(R) Streaming SIMD Extensions 4.2 (Intel(R) SSE4.2) enabled only processors has been deprecated. Intel oneAPI Math Kernel Library 2025.0 will require Intel(R) Advanced Vector Extensions (Intel(R) AVX) instructions.\n",
      "Intel MKL WARNING: Support of Intel(R) Streaming SIMD Extensions 4.2 (Intel(R) SSE4.2) enabled only processors has been deprecated. Intel oneAPI Math Kernel Library 2025.0 will require Intel(R) Advanced Vector Extensions (Intel(R) AVX) instructions.\n",
      "Intel MKL WARNING: Support of Intel(R) Streaming SIMD Extensions 4.2 (Intel(R) SSE4.2) enabled only processors has been deprecated. Intel oneAPI Math Kernel Library 2025.0 will require Intel(R) Advanced Vector Extensions (Intel(R) AVX) instructions.\n"
     ]
    },
    {
     "data": {
      "application/vnd.jupyter.widget-view+json": {
       "model_id": "",
       "version_major": 2,
       "version_minor": 0
      },
      "text/plain": [
       "Validation: |                                             | 0/? [00:00<?, ?it/s]"
      ]
     },
     "metadata": {},
     "output_type": "display_data"
    },
    {
     "name": "stdout",
     "output_type": "stream",
     "text": [
      "Intel MKL WARNING: Support of Intel(R) Streaming SIMD Extensions 4.2 (Intel(R) SSE4.2) enabled only processors has been deprecated. Intel oneAPI Math Kernel Library 2025.0 will require Intel(R) Advanced Vector Extensions (Intel(R) AVX) instructions.\n",
      "Intel MKL WARNING: Support of Intel(R) Streaming SIMD Extensions 4.2 (Intel(R) SSE4.2) enabled only processors has been deprecated. Intel oneAPI Math Kernel Library 2025.0 will require Intel(R) Advanced Vector Extensions (Intel(R) AVX) instructions.\n",
      "Intel MKL WARNING: Support of Intel(R) Streaming SIMD Extensions 4.2 (Intel(R) SSE4.2) enabled only processors has been deprecated. Intel oneAPI Math Kernel Library 2025.0 will require Intel(R) Advanced Vector Extensions (Intel(R) AVX) instructions.\n",
      "Intel MKL WARNING: Support of Intel(R) Streaming SIMD Extensions 4.2 (Intel(R) SSE4.2) enabled only processors has been deprecated. Intel oneAPI Math Kernel Library 2025.0 will require Intel(R) Advanced Vector Extensions (Intel(R) AVX) instructions.\n",
      "Intel MKL WARNING: Support of Intel(R) Streaming SIMD Extensions 4.2 (Intel(R) SSE4.2) enabled only processors has been deprecated. Intel oneAPI Math Kernel Library 2025.0 will require Intel(R) Advanced Vector Extensions (Intel(R) AVX) instructions.\n",
      "Intel MKL WARNING: Support of Intel(R) Streaming SIMD Extensions 4.2 (Intel(R) SSE4.2) enabled only processors has been deprecated. Intel oneAPI Math Kernel Library 2025.0 will require Intel(R) Advanced Vector Extensions (Intel(R) AVX) instructions.\n",
      "Intel MKL WARNING: Support of Intel(R) Streaming SIMD Extensions 4.2 (Intel(R) SSE4.2) enabled only processors has been deprecated. Intel oneAPI Math Kernel Library 2025.0 will require Intel(R) Advanced Vector Extensions (Intel(R) AVX) instructions.\n",
      "Intel MKL WARNING: Support of Intel(R) Streaming SIMD Extensions 4.2 (Intel(R) SSE4.2) enabled only processors has been deprecated. Intel oneAPI Math Kernel Library 2025.0 will require Intel(R) Advanced Vector Extensions (Intel(R) AVX) instructions.\n",
      "Intel MKL WARNING: Support of Intel(R) Streaming SIMD Extensions 4.2 (Intel(R) SSE4.2) enabled only processors has been deprecated. Intel oneAPI Math Kernel Library 2025.0 will require Intel(R) Advanced Vector Extensions (Intel(R) AVX) instructions.\n",
      "Intel MKL WARNING: Support of Intel(R) Streaming SIMD Extensions 4.2 (Intel(R) SSE4.2) enabled only processors has been deprecated. Intel oneAPI Math Kernel Library 2025.0 will require Intel(R) Advanced Vector Extensions (Intel(R) AVX) instructions.\n",
      "Intel MKL WARNING: Support of Intel(R) Streaming SIMD Extensions 4.2 (Intel(R) SSE4.2) enabled only processors has been deprecated. Intel oneAPI Math Kernel Library 2025.0 will require Intel(R) Advanced Vector Extensions (Intel(R) AVX) instructions.\n",
      "Intel MKL WARNING: Support of Intel(R) Streaming SIMD Extensions 4.2 (Intel(R) SSE4.2) enabled only processors has been deprecated. Intel oneAPI Math Kernel Library 2025.0 will require Intel(R) Advanced Vector Extensions (Intel(R) AVX) instructions.\n",
      "Intel MKL WARNING: Support of Intel(R) Streaming SIMD Extensions 4.2 (Intel(R) SSE4.2) enabled only processors has been deprecated. Intel oneAPI Math Kernel Library 2025.0 will require Intel(R) Advanced Vector Extensions (Intel(R) AVX) instructions.\n",
      "Intel MKL WARNING: Support of Intel(R) Streaming SIMD Extensions 4.2 (Intel(R) SSE4.2) enabled only processors has been deprecated. Intel oneAPI Math Kernel Library 2025.0 will require Intel(R) Advanced Vector Extensions (Intel(R) AVX) instructions.\n"
     ]
    },
    {
     "data": {
      "application/vnd.jupyter.widget-view+json": {
       "model_id": "",
       "version_major": 2,
       "version_minor": 0
      },
      "text/plain": [
       "Validation: |                                             | 0/? [00:00<?, ?it/s]"
      ]
     },
     "metadata": {},
     "output_type": "display_data"
    },
    {
     "name": "stdout",
     "output_type": "stream",
     "text": [
      "Intel MKL WARNING: Support of Intel(R) Streaming SIMD Extensions 4.2 (Intel(R) SSE4.2) enabled only processors has been deprecated. Intel oneAPI Math Kernel Library 2025.0 will require Intel(R) Advanced Vector Extensions (Intel(R) AVX) instructions.\n",
      "Intel MKL WARNING: Support of Intel(R) Streaming SIMD Extensions 4.2 (Intel(R) SSE4.2) enabled only processors has been deprecated. Intel oneAPI Math Kernel Library 2025.0 will require Intel(R) Advanced Vector Extensions (Intel(R) AVX) instructions.\n",
      "Intel MKL WARNING: Support of Intel(R) Streaming SIMD Extensions 4.2 (Intel(R) SSE4.2) enabled only processors has been deprecated. Intel oneAPI Math Kernel Library 2025.0 will require Intel(R) Advanced Vector Extensions (Intel(R) AVX) instructions.\n",
      "Intel MKL WARNING: Support of Intel(R) Streaming SIMD Extensions 4.2 (Intel(R) SSE4.2) enabled only processors has been deprecated. Intel oneAPI Math Kernel Library 2025.0 will require Intel(R) Advanced Vector Extensions (Intel(R) AVX) instructions.\n",
      "Intel MKL WARNING: Support of Intel(R) Streaming SIMD Extensions 4.2 (Intel(R) SSE4.2) enabled only processors has been deprecated. Intel oneAPI Math Kernel Library 2025.0 will require Intel(R) Advanced Vector Extensions (Intel(R) AVX) instructions.\n",
      "Intel MKL WARNING: Support of Intel(R) Streaming SIMD Extensions 4.2 (Intel(R) SSE4.2) enabled only processors has been deprecated. Intel oneAPI Math Kernel Library 2025.0 will require Intel(R) Advanced Vector Extensions (Intel(R) AVX) instructions.\n",
      "Intel MKL WARNING: Support of Intel(R) Streaming SIMD Extensions 4.2 (Intel(R) SSE4.2) enabled only processors has been deprecated. Intel oneAPI Math Kernel Library 2025.0 will require Intel(R) Advanced Vector Extensions (Intel(R) AVX) instructions.\n",
      "Intel MKL WARNING: Support of Intel(R) Streaming SIMD Extensions 4.2 (Intel(R) SSE4.2) enabled only processors has been deprecated. Intel oneAPI Math Kernel Library 2025.0 will require Intel(R) Advanced Vector Extensions (Intel(R) AVX) instructions.\n",
      "Intel MKL WARNING: Support of Intel(R) Streaming SIMD Extensions 4.2 (Intel(R) SSE4.2) enabled only processors has been deprecated. Intel oneAPI Math Kernel Library 2025.0 will require Intel(R) Advanced Vector Extensions (Intel(R) AVX) instructions.\n",
      "Intel MKL WARNING: Support of Intel(R) Streaming SIMD Extensions 4.2 (Intel(R) SSE4.2) enabled only processors has been deprecated. Intel oneAPI Math Kernel Library 2025.0 will require Intel(R) Advanced Vector Extensions (Intel(R) AVX) instructions.\n",
      "Intel MKL WARNING: Support of Intel(R) Streaming SIMD Extensions 4.2 (Intel(R) SSE4.2) enabled only processors has been deprecated. Intel oneAPI Math Kernel Library 2025.0 will require Intel(R) Advanced Vector Extensions (Intel(R) AVX) instructions.\n",
      "Intel MKL WARNING: Support of Intel(R) Streaming SIMD Extensions 4.2 (Intel(R) SSE4.2) enabled only processors has been deprecated. Intel oneAPI Math Kernel Library 2025.0 will require Intel(R) Advanced Vector Extensions (Intel(R) AVX) instructions.\n",
      "Intel MKL WARNING: Support of Intel(R) Streaming SIMD Extensions 4.2 (Intel(R) SSE4.2) enabled only processors has been deprecated. Intel oneAPI Math Kernel Library 2025.0 will require Intel(R) Advanced Vector Extensions (Intel(R) AVX) instructions.\n",
      "Intel MKL WARNING: Support of Intel(R) Streaming SIMD Extensions 4.2 (Intel(R) SSE4.2) enabled only processors has been deprecated. Intel oneAPI Math Kernel Library 2025.0 will require Intel(R) Advanced Vector Extensions (Intel(R) AVX) instructions.\n"
     ]
    },
    {
     "data": {
      "application/vnd.jupyter.widget-view+json": {
       "model_id": "",
       "version_major": 2,
       "version_minor": 0
      },
      "text/plain": [
       "Validation: |                                             | 0/? [00:00<?, ?it/s]"
      ]
     },
     "metadata": {},
     "output_type": "display_data"
    },
    {
     "name": "stdout",
     "output_type": "stream",
     "text": [
      "Intel MKL WARNING: Support of Intel(R) Streaming SIMD Extensions 4.2 (Intel(R) SSE4.2) enabled only processors has been deprecated. Intel oneAPI Math Kernel Library 2025.0 will require Intel(R) Advanced Vector Extensions (Intel(R) AVX) instructions.\n",
      "Intel MKL WARNING: Support of Intel(R) Streaming SIMD Extensions 4.2 (Intel(R) SSE4.2) enabled only processors has been deprecated. Intel oneAPI Math Kernel Library 2025.0 will require Intel(R) Advanced Vector Extensions (Intel(R) AVX) instructions.\n",
      "Intel MKL WARNING: Support of Intel(R) Streaming SIMD Extensions 4.2 (Intel(R) SSE4.2) enabled only processors has been deprecated. Intel oneAPI Math Kernel Library 2025.0 will require Intel(R) Advanced Vector Extensions (Intel(R) AVX) instructions.\n",
      "Intel MKL WARNING: Support of Intel(R) Streaming SIMD Extensions 4.2 (Intel(R) SSE4.2) enabled only processors has been deprecated. Intel oneAPI Math Kernel Library 2025.0 will require Intel(R) Advanced Vector Extensions (Intel(R) AVX) instructions.\n",
      "Intel MKL WARNING: Support of Intel(R) Streaming SIMD Extensions 4.2 (Intel(R) SSE4.2) enabled only processors has been deprecated. Intel oneAPI Math Kernel Library 2025.0 will require Intel(R) Advanced Vector Extensions (Intel(R) AVX) instructions.\n",
      "Intel MKL WARNING: Support of Intel(R) Streaming SIMD Extensions 4.2 (Intel(R) SSE4.2) enabled only processors has been deprecated. Intel oneAPI Math Kernel Library 2025.0 will require Intel(R) Advanced Vector Extensions (Intel(R) AVX) instructions.\n",
      "Intel MKL WARNING: Support of Intel(R) Streaming SIMD Extensions 4.2 (Intel(R) SSE4.2) enabled only processors has been deprecated. Intel oneAPI Math Kernel Library 2025.0 will require Intel(R) Advanced Vector Extensions (Intel(R) AVX) instructions.\n",
      "Intel MKL WARNING: Support of Intel(R) Streaming SIMD Extensions 4.2 (Intel(R) SSE4.2) enabled only processors has been deprecated. Intel oneAPI Math Kernel Library 2025.0 will require Intel(R) Advanced Vector Extensions (Intel(R) AVX) instructions.\n",
      "Intel MKL WARNING: Support of Intel(R) Streaming SIMD Extensions 4.2 (Intel(R) SSE4.2) enabled only processors has been deprecated. Intel oneAPI Math Kernel Library 2025.0 will require Intel(R) Advanced Vector Extensions (Intel(R) AVX) instructions.\n",
      "Intel MKL WARNING: Support of Intel(R) Streaming SIMD Extensions 4.2 (Intel(R) SSE4.2) enabled only processors has been deprecated. Intel oneAPI Math Kernel Library 2025.0 will require Intel(R) Advanced Vector Extensions (Intel(R) AVX) instructions.\n",
      "Intel MKL WARNING: Support of Intel(R) Streaming SIMD Extensions 4.2 (Intel(R) SSE4.2) enabled only processors has been deprecated. Intel oneAPI Math Kernel Library 2025.0 will require Intel(R) Advanced Vector Extensions (Intel(R) AVX) instructions.\n",
      "Intel MKL WARNING: Support of Intel(R) Streaming SIMD Extensions 4.2 (Intel(R) SSE4.2) enabled only processors has been deprecated. Intel oneAPI Math Kernel Library 2025.0 will require Intel(R) Advanced Vector Extensions (Intel(R) AVX) instructions.\n",
      "Intel MKL WARNING: Support of Intel(R) Streaming SIMD Extensions 4.2 (Intel(R) SSE4.2) enabled only processors has been deprecated. Intel oneAPI Math Kernel Library 2025.0 will require Intel(R) Advanced Vector Extensions (Intel(R) AVX) instructions.\n",
      "Intel MKL WARNING: Support of Intel(R) Streaming SIMD Extensions 4.2 (Intel(R) SSE4.2) enabled only processors has been deprecated. Intel oneAPI Math Kernel Library 2025.0 will require Intel(R) Advanced Vector Extensions (Intel(R) AVX) instructions.\n"
     ]
    },
    {
     "data": {
      "application/vnd.jupyter.widget-view+json": {
       "model_id": "",
       "version_major": 2,
       "version_minor": 0
      },
      "text/plain": [
       "Validation: |                                             | 0/? [00:00<?, ?it/s]"
      ]
     },
     "metadata": {},
     "output_type": "display_data"
    },
    {
     "name": "stdout",
     "output_type": "stream",
     "text": [
      "Intel MKL WARNING: Support of Intel(R) Streaming SIMD Extensions 4.2 (Intel(R) SSE4.2) enabled only processors has been deprecated. Intel oneAPI Math Kernel Library 2025.0 will require Intel(R) Advanced Vector Extensions (Intel(R) AVX) instructions.\n",
      "Intel MKL WARNING: Support of Intel(R) Streaming SIMD Extensions 4.2 (Intel(R) SSE4.2) enabled only processors has been deprecated. Intel oneAPI Math Kernel Library 2025.0 will require Intel(R) Advanced Vector Extensions (Intel(R) AVX) instructions.\n",
      "Intel MKL WARNING: Support of Intel(R) Streaming SIMD Extensions 4.2 (Intel(R) SSE4.2) enabled only processors has been deprecated. Intel oneAPI Math Kernel Library 2025.0 will require Intel(R) Advanced Vector Extensions (Intel(R) AVX) instructions.\n",
      "Intel MKL WARNING: Support of Intel(R) Streaming SIMD Extensions 4.2 (Intel(R) SSE4.2) enabled only processors has been deprecated. Intel oneAPI Math Kernel Library 2025.0 will require Intel(R) Advanced Vector Extensions (Intel(R) AVX) instructions.\n",
      "Intel MKL WARNING: Support of Intel(R) Streaming SIMD Extensions 4.2 (Intel(R) SSE4.2) enabled only processors has been deprecated. Intel oneAPI Math Kernel Library 2025.0 will require Intel(R) Advanced Vector Extensions (Intel(R) AVX) instructions.\n",
      "Intel MKL WARNING: Support of Intel(R) Streaming SIMD Extensions 4.2 (Intel(R) SSE4.2) enabled only processors has been deprecated. Intel oneAPI Math Kernel Library 2025.0 will require Intel(R) Advanced Vector Extensions (Intel(R) AVX) instructions.\n",
      "Intel MKL WARNING: Support of Intel(R) Streaming SIMD Extensions 4.2 (Intel(R) SSE4.2) enabled only processors has been deprecated. Intel oneAPI Math Kernel Library 2025.0 will require Intel(R) Advanced Vector Extensions (Intel(R) AVX) instructions.\n",
      "Intel MKL WARNING: Support of Intel(R) Streaming SIMD Extensions 4.2 (Intel(R) SSE4.2) enabled only processors has been deprecated. Intel oneAPI Math Kernel Library 2025.0 will require Intel(R) Advanced Vector Extensions (Intel(R) AVX) instructions.\n",
      "Intel MKL WARNING: Support of Intel(R) Streaming SIMD Extensions 4.2 (Intel(R) SSE4.2) enabled only processors has been deprecated. Intel oneAPI Math Kernel Library 2025.0 will require Intel(R) Advanced Vector Extensions (Intel(R) AVX) instructions.\n",
      "Intel MKL WARNING: Support of Intel(R) Streaming SIMD Extensions 4.2 (Intel(R) SSE4.2) enabled only processors has been deprecated. Intel oneAPI Math Kernel Library 2025.0 will require Intel(R) Advanced Vector Extensions (Intel(R) AVX) instructions.\n",
      "Intel MKL WARNING: Support of Intel(R) Streaming SIMD Extensions 4.2 (Intel(R) SSE4.2) enabled only processors has been deprecated. Intel oneAPI Math Kernel Library 2025.0 will require Intel(R) Advanced Vector Extensions (Intel(R) AVX) instructions.\n",
      "Intel MKL WARNING: Support of Intel(R) Streaming SIMD Extensions 4.2 (Intel(R) SSE4.2) enabled only processors has been deprecated. Intel oneAPI Math Kernel Library 2025.0 will require Intel(R) Advanced Vector Extensions (Intel(R) AVX) instructions.\n",
      "Intel MKL WARNING: Support of Intel(R) Streaming SIMD Extensions 4.2 (Intel(R) SSE4.2) enabled only processors has been deprecated. Intel oneAPI Math Kernel Library 2025.0 will require Intel(R) Advanced Vector Extensions (Intel(R) AVX) instructions.\n",
      "Intel MKL WARNING: Support of Intel(R) Streaming SIMD Extensions 4.2 (Intel(R) SSE4.2) enabled only processors has been deprecated. Intel oneAPI Math Kernel Library 2025.0 will require Intel(R) Advanced Vector Extensions (Intel(R) AVX) instructions.\n"
     ]
    },
    {
     "data": {
      "application/vnd.jupyter.widget-view+json": {
       "model_id": "",
       "version_major": 2,
       "version_minor": 0
      },
      "text/plain": [
       "Validation: |                                             | 0/? [00:00<?, ?it/s]"
      ]
     },
     "metadata": {},
     "output_type": "display_data"
    },
    {
     "name": "stdout",
     "output_type": "stream",
     "text": [
      "Intel MKL WARNING: Support of Intel(R) Streaming SIMD Extensions 4.2 (Intel(R) SSE4.2) enabled only processors has been deprecated. Intel oneAPI Math Kernel Library 2025.0 will require Intel(R) Advanced Vector Extensions (Intel(R) AVX) instructions.\n",
      "Intel MKL WARNING: Support of Intel(R) Streaming SIMD Extensions 4.2 (Intel(R) SSE4.2) enabled only processors has been deprecated. Intel oneAPI Math Kernel Library 2025.0 will require Intel(R) Advanced Vector Extensions (Intel(R) AVX) instructions.\n",
      "Intel MKL WARNING: Support of Intel(R) Streaming SIMD Extensions 4.2 (Intel(R) SSE4.2) enabled only processors has been deprecated. Intel oneAPI Math Kernel Library 2025.0 will require Intel(R) Advanced Vector Extensions (Intel(R) AVX) instructions.\n",
      "Intel MKL WARNING: Support of Intel(R) Streaming SIMD Extensions 4.2 (Intel(R) SSE4.2) enabled only processors has been deprecated. Intel oneAPI Math Kernel Library 2025.0 will require Intel(R) Advanced Vector Extensions (Intel(R) AVX) instructions.\n",
      "Intel MKL WARNING: Support of Intel(R) Streaming SIMD Extensions 4.2 (Intel(R) SSE4.2) enabled only processors has been deprecated. Intel oneAPI Math Kernel Library 2025.0 will require Intel(R) Advanced Vector Extensions (Intel(R) AVX) instructions.\n",
      "Intel MKL WARNING: Support of Intel(R) Streaming SIMD Extensions 4.2 (Intel(R) SSE4.2) enabled only processors has been deprecated. Intel oneAPI Math Kernel Library 2025.0 will require Intel(R) Advanced Vector Extensions (Intel(R) AVX) instructions.\n",
      "Intel MKL WARNING: Support of Intel(R) Streaming SIMD Extensions 4.2 (Intel(R) SSE4.2) enabled only processors has been deprecated. Intel oneAPI Math Kernel Library 2025.0 will require Intel(R) Advanced Vector Extensions (Intel(R) AVX) instructions.\n",
      "Intel MKL WARNING: Support of Intel(R) Streaming SIMD Extensions 4.2 (Intel(R) SSE4.2) enabled only processors has been deprecated. Intel oneAPI Math Kernel Library 2025.0 will require Intel(R) Advanced Vector Extensions (Intel(R) AVX) instructions.\n",
      "Intel MKL WARNING: Support of Intel(R) Streaming SIMD Extensions 4.2 (Intel(R) SSE4.2) enabled only processors has been deprecated. Intel oneAPI Math Kernel Library 2025.0 will require Intel(R) Advanced Vector Extensions (Intel(R) AVX) instructions.\n",
      "Intel MKL WARNING: Support of Intel(R) Streaming SIMD Extensions 4.2 (Intel(R) SSE4.2) enabled only processors has been deprecated. Intel oneAPI Math Kernel Library 2025.0 will require Intel(R) Advanced Vector Extensions (Intel(R) AVX) instructions.\n",
      "Intel MKL WARNING: Support of Intel(R) Streaming SIMD Extensions 4.2 (Intel(R) SSE4.2) enabled only processors has been deprecated. Intel oneAPI Math Kernel Library 2025.0 will require Intel(R) Advanced Vector Extensions (Intel(R) AVX) instructions.\n",
      "Intel MKL WARNING: Support of Intel(R) Streaming SIMD Extensions 4.2 (Intel(R) SSE4.2) enabled only processors has been deprecated. Intel oneAPI Math Kernel Library 2025.0 will require Intel(R) Advanced Vector Extensions (Intel(R) AVX) instructions.\n",
      "Intel MKL WARNING: Support of Intel(R) Streaming SIMD Extensions 4.2 (Intel(R) SSE4.2) enabled only processors has been deprecated. Intel oneAPI Math Kernel Library 2025.0 will require Intel(R) Advanced Vector Extensions (Intel(R) AVX) instructions.\n",
      "Intel MKL WARNING: Support of Intel(R) Streaming SIMD Extensions 4.2 (Intel(R) SSE4.2) enabled only processors has been deprecated. Intel oneAPI Math Kernel Library 2025.0 will require Intel(R) Advanced Vector Extensions (Intel(R) AVX) instructions.\n"
     ]
    },
    {
     "data": {
      "application/vnd.jupyter.widget-view+json": {
       "model_id": "",
       "version_major": 2,
       "version_minor": 0
      },
      "text/plain": [
       "Validation: |                                             | 0/? [00:00<?, ?it/s]"
      ]
     },
     "metadata": {},
     "output_type": "display_data"
    },
    {
     "name": "stdout",
     "output_type": "stream",
     "text": [
      "Intel MKL WARNING: Support of Intel(R) Streaming SIMD Extensions 4.2 (Intel(R) SSE4.2) enabled only processors has been deprecated. Intel oneAPI Math Kernel Library 2025.0 will require Intel(R) Advanced Vector Extensions (Intel(R) AVX) instructions.\n",
      "Intel MKL WARNING: Support of Intel(R) Streaming SIMD Extensions 4.2 (Intel(R) SSE4.2) enabled only processors has been deprecated. Intel oneAPI Math Kernel Library 2025.0 will require Intel(R) Advanced Vector Extensions (Intel(R) AVX) instructions.\n",
      "Intel MKL WARNING: Support of Intel(R) Streaming SIMD Extensions 4.2 (Intel(R) SSE4.2) enabled only processors has been deprecated. Intel oneAPI Math Kernel Library 2025.0 will require Intel(R) Advanced Vector Extensions (Intel(R) AVX) instructions.\n",
      "Intel MKL WARNING: Support of Intel(R) Streaming SIMD Extensions 4.2 (Intel(R) SSE4.2) enabled only processors has been deprecated. Intel oneAPI Math Kernel Library 2025.0 will require Intel(R) Advanced Vector Extensions (Intel(R) AVX) instructions.\n",
      "Intel MKL WARNING: Support of Intel(R) Streaming SIMD Extensions 4.2 (Intel(R) SSE4.2) enabled only processors has been deprecated. Intel oneAPI Math Kernel Library 2025.0 will require Intel(R) Advanced Vector Extensions (Intel(R) AVX) instructions.\n",
      "Intel MKL WARNING: Support of Intel(R) Streaming SIMD Extensions 4.2 (Intel(R) SSE4.2) enabled only processors has been deprecated. Intel oneAPI Math Kernel Library 2025.0 will require Intel(R) Advanced Vector Extensions (Intel(R) AVX) instructions.\n",
      "Intel MKL WARNING: Support of Intel(R) Streaming SIMD Extensions 4.2 (Intel(R) SSE4.2) enabled only processors has been deprecated. Intel oneAPI Math Kernel Library 2025.0 will require Intel(R) Advanced Vector Extensions (Intel(R) AVX) instructions.\n",
      "Intel MKL WARNING: Support of Intel(R) Streaming SIMD Extensions 4.2 (Intel(R) SSE4.2) enabled only processors has been deprecated. Intel oneAPI Math Kernel Library 2025.0 will require Intel(R) Advanced Vector Extensions (Intel(R) AVX) instructions.\n",
      "Intel MKL WARNING: Support of Intel(R) Streaming SIMD Extensions 4.2 (Intel(R) SSE4.2) enabled only processors has been deprecated. Intel oneAPI Math Kernel Library 2025.0 will require Intel(R) Advanced Vector Extensions (Intel(R) AVX) instructions.\n",
      "Intel MKL WARNING: Support of Intel(R) Streaming SIMD Extensions 4.2 (Intel(R) SSE4.2) enabled only processors has been deprecated. Intel oneAPI Math Kernel Library 2025.0 will require Intel(R) Advanced Vector Extensions (Intel(R) AVX) instructions.\n",
      "Intel MKL WARNING: Support of Intel(R) Streaming SIMD Extensions 4.2 (Intel(R) SSE4.2) enabled only processors has been deprecated. Intel oneAPI Math Kernel Library 2025.0 will require Intel(R) Advanced Vector Extensions (Intel(R) AVX) instructions.\n",
      "Intel MKL WARNING: Support of Intel(R) Streaming SIMD Extensions 4.2 (Intel(R) SSE4.2) enabled only processors has been deprecated. Intel oneAPI Math Kernel Library 2025.0 will require Intel(R) Advanced Vector Extensions (Intel(R) AVX) instructions.\n",
      "Intel MKL WARNING: Support of Intel(R) Streaming SIMD Extensions 4.2 (Intel(R) SSE4.2) enabled only processors has been deprecated. Intel oneAPI Math Kernel Library 2025.0 will require Intel(R) Advanced Vector Extensions (Intel(R) AVX) instructions.\n",
      "Intel MKL WARNING: Support of Intel(R) Streaming SIMD Extensions 4.2 (Intel(R) SSE4.2) enabled only processors has been deprecated. Intel oneAPI Math Kernel Library 2025.0 will require Intel(R) Advanced Vector Extensions (Intel(R) AVX) instructions.\n"
     ]
    },
    {
     "data": {
      "application/vnd.jupyter.widget-view+json": {
       "model_id": "",
       "version_major": 2,
       "version_minor": 0
      },
      "text/plain": [
       "Validation: |                                             | 0/? [00:00<?, ?it/s]"
      ]
     },
     "metadata": {},
     "output_type": "display_data"
    },
    {
     "name": "stdout",
     "output_type": "stream",
     "text": [
      "Intel MKL WARNING: Support of Intel(R) Streaming SIMD Extensions 4.2 (Intel(R) SSE4.2) enabled only processors has been deprecated. Intel oneAPI Math Kernel Library 2025.0 will require Intel(R) Advanced Vector Extensions (Intel(R) AVX) instructions.\n",
      "Intel MKL WARNING: Support of Intel(R) Streaming SIMD Extensions 4.2 (Intel(R) SSE4.2) enabled only processors has been deprecated. Intel oneAPI Math Kernel Library 2025.0 will require Intel(R) Advanced Vector Extensions (Intel(R) AVX) instructions.\n",
      "Intel MKL WARNING: Support of Intel(R) Streaming SIMD Extensions 4.2 (Intel(R) SSE4.2) enabled only processors has been deprecated. Intel oneAPI Math Kernel Library 2025.0 will require Intel(R) Advanced Vector Extensions (Intel(R) AVX) instructions.\n",
      "Intel MKL WARNING: Support of Intel(R) Streaming SIMD Extensions 4.2 (Intel(R) SSE4.2) enabled only processors has been deprecated. Intel oneAPI Math Kernel Library 2025.0 will require Intel(R) Advanced Vector Extensions (Intel(R) AVX) instructions.\n",
      "Intel MKL WARNING: Support of Intel(R) Streaming SIMD Extensions 4.2 (Intel(R) SSE4.2) enabled only processors has been deprecated. Intel oneAPI Math Kernel Library 2025.0 will require Intel(R) Advanced Vector Extensions (Intel(R) AVX) instructions.\n",
      "Intel MKL WARNING: Support of Intel(R) Streaming SIMD Extensions 4.2 (Intel(R) SSE4.2) enabled only processors has been deprecated. Intel oneAPI Math Kernel Library 2025.0 will require Intel(R) Advanced Vector Extensions (Intel(R) AVX) instructions.\n",
      "Intel MKL WARNING: Support of Intel(R) Streaming SIMD Extensions 4.2 (Intel(R) SSE4.2) enabled only processors has been deprecated. Intel oneAPI Math Kernel Library 2025.0 will require Intel(R) Advanced Vector Extensions (Intel(R) AVX) instructions.\n",
      "Intel MKL WARNING: Support of Intel(R) Streaming SIMD Extensions 4.2 (Intel(R) SSE4.2) enabled only processors has been deprecated. Intel oneAPI Math Kernel Library 2025.0 will require Intel(R) Advanced Vector Extensions (Intel(R) AVX) instructions.\n",
      "Intel MKL WARNING: Support of Intel(R) Streaming SIMD Extensions 4.2 (Intel(R) SSE4.2) enabled only processors has been deprecated. Intel oneAPI Math Kernel Library 2025.0 will require Intel(R) Advanced Vector Extensions (Intel(R) AVX) instructions.\n",
      "Intel MKL WARNING: Support of Intel(R) Streaming SIMD Extensions 4.2 (Intel(R) SSE4.2) enabled only processors has been deprecated. Intel oneAPI Math Kernel Library 2025.0 will require Intel(R) Advanced Vector Extensions (Intel(R) AVX) instructions.\n",
      "Intel MKL WARNING: Support of Intel(R) Streaming SIMD Extensions 4.2 (Intel(R) SSE4.2) enabled only processors has been deprecated. Intel oneAPI Math Kernel Library 2025.0 will require Intel(R) Advanced Vector Extensions (Intel(R) AVX) instructions.\n",
      "Intel MKL WARNING: Support of Intel(R) Streaming SIMD Extensions 4.2 (Intel(R) SSE4.2) enabled only processors has been deprecated. Intel oneAPI Math Kernel Library 2025.0 will require Intel(R) Advanced Vector Extensions (Intel(R) AVX) instructions.\n",
      "Intel MKL WARNING: Support of Intel(R) Streaming SIMD Extensions 4.2 (Intel(R) SSE4.2) enabled only processors has been deprecated. Intel oneAPI Math Kernel Library 2025.0 will require Intel(R) Advanced Vector Extensions (Intel(R) AVX) instructions.\n",
      "Intel MKL WARNING: Support of Intel(R) Streaming SIMD Extensions 4.2 (Intel(R) SSE4.2) enabled only processors has been deprecated. Intel oneAPI Math Kernel Library 2025.0 will require Intel(R) Advanced Vector Extensions (Intel(R) AVX) instructions.\n"
     ]
    },
    {
     "data": {
      "application/vnd.jupyter.widget-view+json": {
       "model_id": "",
       "version_major": 2,
       "version_minor": 0
      },
      "text/plain": [
       "Validation: |                                             | 0/? [00:00<?, ?it/s]"
      ]
     },
     "metadata": {},
     "output_type": "display_data"
    },
    {
     "name": "stdout",
     "output_type": "stream",
     "text": [
      "Intel MKL WARNING: Support of Intel(R) Streaming SIMD Extensions 4.2 (Intel(R) SSE4.2) enabled only processors has been deprecated. Intel oneAPI Math Kernel Library 2025.0 will require Intel(R) Advanced Vector Extensions (Intel(R) AVX) instructions.\n",
      "Intel MKL WARNING: Support of Intel(R) Streaming SIMD Extensions 4.2 (Intel(R) SSE4.2) enabled only processors has been deprecated. Intel oneAPI Math Kernel Library 2025.0 will require Intel(R) Advanced Vector Extensions (Intel(R) AVX) instructions.\n",
      "Intel MKL WARNING: Support of Intel(R) Streaming SIMD Extensions 4.2 (Intel(R) SSE4.2) enabled only processors has been deprecated. Intel oneAPI Math Kernel Library 2025.0 will require Intel(R) Advanced Vector Extensions (Intel(R) AVX) instructions.\n",
      "Intel MKL WARNING: Support of Intel(R) Streaming SIMD Extensions 4.2 (Intel(R) SSE4.2) enabled only processors has been deprecated. Intel oneAPI Math Kernel Library 2025.0 will require Intel(R) Advanced Vector Extensions (Intel(R) AVX) instructions.\n",
      "Intel MKL WARNING: Support of Intel(R) Streaming SIMD Extensions 4.2 (Intel(R) SSE4.2) enabled only processors has been deprecated. Intel oneAPI Math Kernel Library 2025.0 will require Intel(R) Advanced Vector Extensions (Intel(R) AVX) instructions.\n",
      "Intel MKL WARNING: Support of Intel(R) Streaming SIMD Extensions 4.2 (Intel(R) SSE4.2) enabled only processors has been deprecated. Intel oneAPI Math Kernel Library 2025.0 will require Intel(R) Advanced Vector Extensions (Intel(R) AVX) instructions.\n",
      "Intel MKL WARNING: Support of Intel(R) Streaming SIMD Extensions 4.2 (Intel(R) SSE4.2) enabled only processors has been deprecated. Intel oneAPI Math Kernel Library 2025.0 will require Intel(R) Advanced Vector Extensions (Intel(R) AVX) instructions.\n",
      "Intel MKL WARNING: Support of Intel(R) Streaming SIMD Extensions 4.2 (Intel(R) SSE4.2) enabled only processors has been deprecated. Intel oneAPI Math Kernel Library 2025.0 will require Intel(R) Advanced Vector Extensions (Intel(R) AVX) instructions.\n",
      "Intel MKL WARNING: Support of Intel(R) Streaming SIMD Extensions 4.2 (Intel(R) SSE4.2) enabled only processors has been deprecated. Intel oneAPI Math Kernel Library 2025.0 will require Intel(R) Advanced Vector Extensions (Intel(R) AVX) instructions.\n",
      "Intel MKL WARNING: Support of Intel(R) Streaming SIMD Extensions 4.2 (Intel(R) SSE4.2) enabled only processors has been deprecated. Intel oneAPI Math Kernel Library 2025.0 will require Intel(R) Advanced Vector Extensions (Intel(R) AVX) instructions.\n",
      "Intel MKL WARNING: Support of Intel(R) Streaming SIMD Extensions 4.2 (Intel(R) SSE4.2) enabled only processors has been deprecated. Intel oneAPI Math Kernel Library 2025.0 will require Intel(R) Advanced Vector Extensions (Intel(R) AVX) instructions.\n",
      "Intel MKL WARNING: Support of Intel(R) Streaming SIMD Extensions 4.2 (Intel(R) SSE4.2) enabled only processors has been deprecated. Intel oneAPI Math Kernel Library 2025.0 will require Intel(R) Advanced Vector Extensions (Intel(R) AVX) instructions.\n",
      "Intel MKL WARNING: Support of Intel(R) Streaming SIMD Extensions 4.2 (Intel(R) SSE4.2) enabled only processors has been deprecated. Intel oneAPI Math Kernel Library 2025.0 will require Intel(R) Advanced Vector Extensions (Intel(R) AVX) instructions.\n",
      "Intel MKL WARNING: Support of Intel(R) Streaming SIMD Extensions 4.2 (Intel(R) SSE4.2) enabled only processors has been deprecated. Intel oneAPI Math Kernel Library 2025.0 will require Intel(R) Advanced Vector Extensions (Intel(R) AVX) instructions.\n"
     ]
    },
    {
     "data": {
      "application/vnd.jupyter.widget-view+json": {
       "model_id": "",
       "version_major": 2,
       "version_minor": 0
      },
      "text/plain": [
       "Validation: |                                             | 0/? [00:00<?, ?it/s]"
      ]
     },
     "metadata": {},
     "output_type": "display_data"
    },
    {
     "name": "stdout",
     "output_type": "stream",
     "text": [
      "Intel MKL WARNING: Support of Intel(R) Streaming SIMD Extensions 4.2 (Intel(R) SSE4.2) enabled only processors has been deprecated. Intel oneAPI Math Kernel Library 2025.0 will require Intel(R) Advanced Vector Extensions (Intel(R) AVX) instructions.\n",
      "Intel MKL WARNING: Support of Intel(R) Streaming SIMD Extensions 4.2 (Intel(R) SSE4.2) enabled only processors has been deprecated. Intel oneAPI Math Kernel Library 2025.0 will require Intel(R) Advanced Vector Extensions (Intel(R) AVX) instructions.\n",
      "Intel MKL WARNING: Support of Intel(R) Streaming SIMD Extensions 4.2 (Intel(R) SSE4.2) enabled only processors has been deprecated. Intel oneAPI Math Kernel Library 2025.0 will require Intel(R) Advanced Vector Extensions (Intel(R) AVX) instructions.\n",
      "Intel MKL WARNING: Support of Intel(R) Streaming SIMD Extensions 4.2 (Intel(R) SSE4.2) enabled only processors has been deprecated. Intel oneAPI Math Kernel Library 2025.0 will require Intel(R) Advanced Vector Extensions (Intel(R) AVX) instructions.\n",
      "Intel MKL WARNING: Support of Intel(R) Streaming SIMD Extensions 4.2 (Intel(R) SSE4.2) enabled only processors has been deprecated. Intel oneAPI Math Kernel Library 2025.0 will require Intel(R) Advanced Vector Extensions (Intel(R) AVX) instructions.\n",
      "Intel MKL WARNING: Support of Intel(R) Streaming SIMD Extensions 4.2 (Intel(R) SSE4.2) enabled only processors has been deprecated. Intel oneAPI Math Kernel Library 2025.0 will require Intel(R) Advanced Vector Extensions (Intel(R) AVX) instructions.\n",
      "Intel MKL WARNING: Support of Intel(R) Streaming SIMD Extensions 4.2 (Intel(R) SSE4.2) enabled only processors has been deprecated. Intel oneAPI Math Kernel Library 2025.0 will require Intel(R) Advanced Vector Extensions (Intel(R) AVX) instructions.\n",
      "Intel MKL WARNING: Support of Intel(R) Streaming SIMD Extensions 4.2 (Intel(R) SSE4.2) enabled only processors has been deprecated. Intel oneAPI Math Kernel Library 2025.0 will require Intel(R) Advanced Vector Extensions (Intel(R) AVX) instructions.\n",
      "Intel MKL WARNING: Support of Intel(R) Streaming SIMD Extensions 4.2 (Intel(R) SSE4.2) enabled only processors has been deprecated. Intel oneAPI Math Kernel Library 2025.0 will require Intel(R) Advanced Vector Extensions (Intel(R) AVX) instructions.\n",
      "Intel MKL WARNING: Support of Intel(R) Streaming SIMD Extensions 4.2 (Intel(R) SSE4.2) enabled only processors has been deprecated. Intel oneAPI Math Kernel Library 2025.0 will require Intel(R) Advanced Vector Extensions (Intel(R) AVX) instructions.\n",
      "Intel MKL WARNING: Support of Intel(R) Streaming SIMD Extensions 4.2 (Intel(R) SSE4.2) enabled only processors has been deprecated. Intel oneAPI Math Kernel Library 2025.0 will require Intel(R) Advanced Vector Extensions (Intel(R) AVX) instructions.\n",
      "Intel MKL WARNING: Support of Intel(R) Streaming SIMD Extensions 4.2 (Intel(R) SSE4.2) enabled only processors has been deprecated. Intel oneAPI Math Kernel Library 2025.0 will require Intel(R) Advanced Vector Extensions (Intel(R) AVX) instructions.\n",
      "Intel MKL WARNING: Support of Intel(R) Streaming SIMD Extensions 4.2 (Intel(R) SSE4.2) enabled only processors has been deprecated. Intel oneAPI Math Kernel Library 2025.0 will require Intel(R) Advanced Vector Extensions (Intel(R) AVX) instructions.\n",
      "Intel MKL WARNING: Support of Intel(R) Streaming SIMD Extensions 4.2 (Intel(R) SSE4.2) enabled only processors has been deprecated. Intel oneAPI Math Kernel Library 2025.0 will require Intel(R) Advanced Vector Extensions (Intel(R) AVX) instructions.\n"
     ]
    },
    {
     "data": {
      "application/vnd.jupyter.widget-view+json": {
       "model_id": "",
       "version_major": 2,
       "version_minor": 0
      },
      "text/plain": [
       "Validation: |                                             | 0/? [00:00<?, ?it/s]"
      ]
     },
     "metadata": {},
     "output_type": "display_data"
    },
    {
     "name": "stdout",
     "output_type": "stream",
     "text": [
      "Intel MKL WARNING: Support of Intel(R) Streaming SIMD Extensions 4.2 (Intel(R) SSE4.2) enabled only processors has been deprecated. Intel oneAPI Math Kernel Library 2025.0 will require Intel(R) Advanced Vector Extensions (Intel(R) AVX) instructions.\n",
      "Intel MKL WARNING: Support of Intel(R) Streaming SIMD Extensions 4.2 (Intel(R) SSE4.2) enabled only processors has been deprecated. Intel oneAPI Math Kernel Library 2025.0 will require Intel(R) Advanced Vector Extensions (Intel(R) AVX) instructions.\n",
      "Intel MKL WARNING: Support of Intel(R) Streaming SIMD Extensions 4.2 (Intel(R) SSE4.2) enabled only processors has been deprecated. Intel oneAPI Math Kernel Library 2025.0 will require Intel(R) Advanced Vector Extensions (Intel(R) AVX) instructions.\n",
      "Intel MKL WARNING: Support of Intel(R) Streaming SIMD Extensions 4.2 (Intel(R) SSE4.2) enabled only processors has been deprecated. Intel oneAPI Math Kernel Library 2025.0 will require Intel(R) Advanced Vector Extensions (Intel(R) AVX) instructions.\n",
      "Intel MKL WARNING: Support of Intel(R) Streaming SIMD Extensions 4.2 (Intel(R) SSE4.2) enabled only processors has been deprecated. Intel oneAPI Math Kernel Library 2025.0 will require Intel(R) Advanced Vector Extensions (Intel(R) AVX) instructions.\n",
      "Intel MKL WARNING: Support of Intel(R) Streaming SIMD Extensions 4.2 (Intel(R) SSE4.2) enabled only processors has been deprecated. Intel oneAPI Math Kernel Library 2025.0 will require Intel(R) Advanced Vector Extensions (Intel(R) AVX) instructions.\n",
      "Intel MKL WARNING: Support of Intel(R) Streaming SIMD Extensions 4.2 (Intel(R) SSE4.2) enabled only processors has been deprecated. Intel oneAPI Math Kernel Library 2025.0 will require Intel(R) Advanced Vector Extensions (Intel(R) AVX) instructions.\n",
      "Intel MKL WARNING: Support of Intel(R) Streaming SIMD Extensions 4.2 (Intel(R) SSE4.2) enabled only processors has been deprecated. Intel oneAPI Math Kernel Library 2025.0 will require Intel(R) Advanced Vector Extensions (Intel(R) AVX) instructions.\n",
      "Intel MKL WARNING: Support of Intel(R) Streaming SIMD Extensions 4.2 (Intel(R) SSE4.2) enabled only processors has been deprecated. Intel oneAPI Math Kernel Library 2025.0 will require Intel(R) Advanced Vector Extensions (Intel(R) AVX) instructions.\n",
      "Intel MKL WARNING: Support of Intel(R) Streaming SIMD Extensions 4.2 (Intel(R) SSE4.2) enabled only processors has been deprecated. Intel oneAPI Math Kernel Library 2025.0 will require Intel(R) Advanced Vector Extensions (Intel(R) AVX) instructions.\n",
      "Intel MKL WARNING: Support of Intel(R) Streaming SIMD Extensions 4.2 (Intel(R) SSE4.2) enabled only processors has been deprecated. Intel oneAPI Math Kernel Library 2025.0 will require Intel(R) Advanced Vector Extensions (Intel(R) AVX) instructions.\n",
      "Intel MKL WARNING: Support of Intel(R) Streaming SIMD Extensions 4.2 (Intel(R) SSE4.2) enabled only processors has been deprecated. Intel oneAPI Math Kernel Library 2025.0 will require Intel(R) Advanced Vector Extensions (Intel(R) AVX) instructions.\n",
      "Intel MKL WARNING: Support of Intel(R) Streaming SIMD Extensions 4.2 (Intel(R) SSE4.2) enabled only processors has been deprecated. Intel oneAPI Math Kernel Library 2025.0 will require Intel(R) Advanced Vector Extensions (Intel(R) AVX) instructions.\n",
      "Intel MKL WARNING: Support of Intel(R) Streaming SIMD Extensions 4.2 (Intel(R) SSE4.2) enabled only processors has been deprecated. Intel oneAPI Math Kernel Library 2025.0 will require Intel(R) Advanced Vector Extensions (Intel(R) AVX) instructions.\n"
     ]
    },
    {
     "data": {
      "application/vnd.jupyter.widget-view+json": {
       "model_id": "",
       "version_major": 2,
       "version_minor": 0
      },
      "text/plain": [
       "Validation: |                                             | 0/? [00:00<?, ?it/s]"
      ]
     },
     "metadata": {},
     "output_type": "display_data"
    },
    {
     "name": "stdout",
     "output_type": "stream",
     "text": [
      "Intel MKL WARNING: Support of Intel(R) Streaming SIMD Extensions 4.2 (Intel(R) SSE4.2) enabled only processors has been deprecated. Intel oneAPI Math Kernel Library 2025.0 will require Intel(R) Advanced Vector Extensions (Intel(R) AVX) instructions.\n",
      "Intel MKL WARNING: Support of Intel(R) Streaming SIMD Extensions 4.2 (Intel(R) SSE4.2) enabled only processors has been deprecated. Intel oneAPI Math Kernel Library 2025.0 will require Intel(R) Advanced Vector Extensions (Intel(R) AVX) instructions.\n",
      "Intel MKL WARNING: Support of Intel(R) Streaming SIMD Extensions 4.2 (Intel(R) SSE4.2) enabled only processors has been deprecated. Intel oneAPI Math Kernel Library 2025.0 will require Intel(R) Advanced Vector Extensions (Intel(R) AVX) instructions.\n",
      "Intel MKL WARNING: Support of Intel(R) Streaming SIMD Extensions 4.2 (Intel(R) SSE4.2) enabled only processors has been deprecated. Intel oneAPI Math Kernel Library 2025.0 will require Intel(R) Advanced Vector Extensions (Intel(R) AVX) instructions.\n",
      "Intel MKL WARNING: Support of Intel(R) Streaming SIMD Extensions 4.2 (Intel(R) SSE4.2) enabled only processors has been deprecated. Intel oneAPI Math Kernel Library 2025.0 will require Intel(R) Advanced Vector Extensions (Intel(R) AVX) instructions.\n",
      "Intel MKL WARNING: Support of Intel(R) Streaming SIMD Extensions 4.2 (Intel(R) SSE4.2) enabled only processors has been deprecated. Intel oneAPI Math Kernel Library 2025.0 will require Intel(R) Advanced Vector Extensions (Intel(R) AVX) instructions.\n",
      "Intel MKL WARNING: Support of Intel(R) Streaming SIMD Extensions 4.2 (Intel(R) SSE4.2) enabled only processors has been deprecated. Intel oneAPI Math Kernel Library 2025.0 will require Intel(R) Advanced Vector Extensions (Intel(R) AVX) instructions.\n",
      "Intel MKL WARNING: Support of Intel(R) Streaming SIMD Extensions 4.2 (Intel(R) SSE4.2) enabled only processors has been deprecated. Intel oneAPI Math Kernel Library 2025.0 will require Intel(R) Advanced Vector Extensions (Intel(R) AVX) instructions.\n",
      "Intel MKL WARNING: Support of Intel(R) Streaming SIMD Extensions 4.2 (Intel(R) SSE4.2) enabled only processors has been deprecated. Intel oneAPI Math Kernel Library 2025.0 will require Intel(R) Advanced Vector Extensions (Intel(R) AVX) instructions.\n",
      "Intel MKL WARNING: Support of Intel(R) Streaming SIMD Extensions 4.2 (Intel(R) SSE4.2) enabled only processors has been deprecated. Intel oneAPI Math Kernel Library 2025.0 will require Intel(R) Advanced Vector Extensions (Intel(R) AVX) instructions.\n",
      "Intel MKL WARNING: Support of Intel(R) Streaming SIMD Extensions 4.2 (Intel(R) SSE4.2) enabled only processors has been deprecated. Intel oneAPI Math Kernel Library 2025.0 will require Intel(R) Advanced Vector Extensions (Intel(R) AVX) instructions.\n",
      "Intel MKL WARNING: Support of Intel(R) Streaming SIMD Extensions 4.2 (Intel(R) SSE4.2) enabled only processors has been deprecated. Intel oneAPI Math Kernel Library 2025.0 will require Intel(R) Advanced Vector Extensions (Intel(R) AVX) instructions.\n",
      "Intel MKL WARNING: Support of Intel(R) Streaming SIMD Extensions 4.2 (Intel(R) SSE4.2) enabled only processors has been deprecated. Intel oneAPI Math Kernel Library 2025.0 will require Intel(R) Advanced Vector Extensions (Intel(R) AVX) instructions.\n",
      "Intel MKL WARNING: Support of Intel(R) Streaming SIMD Extensions 4.2 (Intel(R) SSE4.2) enabled only processors has been deprecated. Intel oneAPI Math Kernel Library 2025.0 will require Intel(R) Advanced Vector Extensions (Intel(R) AVX) instructions.\n"
     ]
    },
    {
     "data": {
      "application/vnd.jupyter.widget-view+json": {
       "model_id": "",
       "version_major": 2,
       "version_minor": 0
      },
      "text/plain": [
       "Validation: |                                             | 0/? [00:00<?, ?it/s]"
      ]
     },
     "metadata": {},
     "output_type": "display_data"
    },
    {
     "name": "stdout",
     "output_type": "stream",
     "text": [
      "Intel MKL WARNING: Support of Intel(R) Streaming SIMD Extensions 4.2 (Intel(R) SSE4.2) enabled only processors has been deprecated. Intel oneAPI Math Kernel Library 2025.0 will require Intel(R) Advanced Vector Extensions (Intel(R) AVX) instructions.\n",
      "Intel MKL WARNING: Support of Intel(R) Streaming SIMD Extensions 4.2 (Intel(R) SSE4.2) enabled only processors has been deprecated. Intel oneAPI Math Kernel Library 2025.0 will require Intel(R) Advanced Vector Extensions (Intel(R) AVX) instructions.\n",
      "Intel MKL WARNING: Support of Intel(R) Streaming SIMD Extensions 4.2 (Intel(R) SSE4.2) enabled only processors has been deprecated. Intel oneAPI Math Kernel Library 2025.0 will require Intel(R) Advanced Vector Extensions (Intel(R) AVX) instructions.\n",
      "Intel MKL WARNING: Support of Intel(R) Streaming SIMD Extensions 4.2 (Intel(R) SSE4.2) enabled only processors has been deprecated. Intel oneAPI Math Kernel Library 2025.0 will require Intel(R) Advanced Vector Extensions (Intel(R) AVX) instructions.\n",
      "Intel MKL WARNING: Support of Intel(R) Streaming SIMD Extensions 4.2 (Intel(R) SSE4.2) enabled only processors has been deprecated. Intel oneAPI Math Kernel Library 2025.0 will require Intel(R) Advanced Vector Extensions (Intel(R) AVX) instructions.\n",
      "Intel MKL WARNING: Support of Intel(R) Streaming SIMD Extensions 4.2 (Intel(R) SSE4.2) enabled only processors has been deprecated. Intel oneAPI Math Kernel Library 2025.0 will require Intel(R) Advanced Vector Extensions (Intel(R) AVX) instructions.\n",
      "Intel MKL WARNING: Support of Intel(R) Streaming SIMD Extensions 4.2 (Intel(R) SSE4.2) enabled only processors has been deprecated. Intel oneAPI Math Kernel Library 2025.0 will require Intel(R) Advanced Vector Extensions (Intel(R) AVX) instructions.\n",
      "Intel MKL WARNING: Support of Intel(R) Streaming SIMD Extensions 4.2 (Intel(R) SSE4.2) enabled only processors has been deprecated. Intel oneAPI Math Kernel Library 2025.0 will require Intel(R) Advanced Vector Extensions (Intel(R) AVX) instructions.\n",
      "Intel MKL WARNING: Support of Intel(R) Streaming SIMD Extensions 4.2 (Intel(R) SSE4.2) enabled only processors has been deprecated. Intel oneAPI Math Kernel Library 2025.0 will require Intel(R) Advanced Vector Extensions (Intel(R) AVX) instructions.\n",
      "Intel MKL WARNING: Support of Intel(R) Streaming SIMD Extensions 4.2 (Intel(R) SSE4.2) enabled only processors has been deprecated. Intel oneAPI Math Kernel Library 2025.0 will require Intel(R) Advanced Vector Extensions (Intel(R) AVX) instructions.\n",
      "Intel MKL WARNING: Support of Intel(R) Streaming SIMD Extensions 4.2 (Intel(R) SSE4.2) enabled only processors has been deprecated. Intel oneAPI Math Kernel Library 2025.0 will require Intel(R) Advanced Vector Extensions (Intel(R) AVX) instructions.\n",
      "Intel MKL WARNING: Support of Intel(R) Streaming SIMD Extensions 4.2 (Intel(R) SSE4.2) enabled only processors has been deprecated. Intel oneAPI Math Kernel Library 2025.0 will require Intel(R) Advanced Vector Extensions (Intel(R) AVX) instructions.\n",
      "Intel MKL WARNING: Support of Intel(R) Streaming SIMD Extensions 4.2 (Intel(R) SSE4.2) enabled only processors has been deprecated. Intel oneAPI Math Kernel Library 2025.0 will require Intel(R) Advanced Vector Extensions (Intel(R) AVX) instructions.\n",
      "Intel MKL WARNING: Support of Intel(R) Streaming SIMD Extensions 4.2 (Intel(R) SSE4.2) enabled only processors has been deprecated. Intel oneAPI Math Kernel Library 2025.0 will require Intel(R) Advanced Vector Extensions (Intel(R) AVX) instructions.\n"
     ]
    },
    {
     "data": {
      "application/vnd.jupyter.widget-view+json": {
       "model_id": "",
       "version_major": 2,
       "version_minor": 0
      },
      "text/plain": [
       "Validation: |                                             | 0/? [00:00<?, ?it/s]"
      ]
     },
     "metadata": {},
     "output_type": "display_data"
    },
    {
     "name": "stdout",
     "output_type": "stream",
     "text": [
      "Intel MKL WARNING: Support of Intel(R) Streaming SIMD Extensions 4.2 (Intel(R) SSE4.2) enabled only processors has been deprecated. Intel oneAPI Math Kernel Library 2025.0 will require Intel(R) Advanced Vector Extensions (Intel(R) AVX) instructions.\n",
      "Intel MKL WARNING: Support of Intel(R) Streaming SIMD Extensions 4.2 (Intel(R) SSE4.2) enabled only processors has been deprecated. Intel oneAPI Math Kernel Library 2025.0 will require Intel(R) Advanced Vector Extensions (Intel(R) AVX) instructions.\n",
      "Intel MKL WARNING: Support of Intel(R) Streaming SIMD Extensions 4.2 (Intel(R) SSE4.2) enabled only processors has been deprecated. Intel oneAPI Math Kernel Library 2025.0 will require Intel(R) Advanced Vector Extensions (Intel(R) AVX) instructions.\n",
      "Intel MKL WARNING: Support of Intel(R) Streaming SIMD Extensions 4.2 (Intel(R) SSE4.2) enabled only processors has been deprecated. Intel oneAPI Math Kernel Library 2025.0 will require Intel(R) Advanced Vector Extensions (Intel(R) AVX) instructions.\n",
      "Intel MKL WARNING: Support of Intel(R) Streaming SIMD Extensions 4.2 (Intel(R) SSE4.2) enabled only processors has been deprecated. Intel oneAPI Math Kernel Library 2025.0 will require Intel(R) Advanced Vector Extensions (Intel(R) AVX) instructions.\n",
      "Intel MKL WARNING: Support of Intel(R) Streaming SIMD Extensions 4.2 (Intel(R) SSE4.2) enabled only processors has been deprecated. Intel oneAPI Math Kernel Library 2025.0 will require Intel(R) Advanced Vector Extensions (Intel(R) AVX) instructions.\n",
      "Intel MKL WARNING: Support of Intel(R) Streaming SIMD Extensions 4.2 (Intel(R) SSE4.2) enabled only processors has been deprecated. Intel oneAPI Math Kernel Library 2025.0 will require Intel(R) Advanced Vector Extensions (Intel(R) AVX) instructions.\n",
      "Intel MKL WARNING: Support of Intel(R) Streaming SIMD Extensions 4.2 (Intel(R) SSE4.2) enabled only processors has been deprecated. Intel oneAPI Math Kernel Library 2025.0 will require Intel(R) Advanced Vector Extensions (Intel(R) AVX) instructions.\n",
      "Intel MKL WARNING: Support of Intel(R) Streaming SIMD Extensions 4.2 (Intel(R) SSE4.2) enabled only processors has been deprecated. Intel oneAPI Math Kernel Library 2025.0 will require Intel(R) Advanced Vector Extensions (Intel(R) AVX) instructions.\n",
      "Intel MKL WARNING: Support of Intel(R) Streaming SIMD Extensions 4.2 (Intel(R) SSE4.2) enabled only processors has been deprecated. Intel oneAPI Math Kernel Library 2025.0 will require Intel(R) Advanced Vector Extensions (Intel(R) AVX) instructions.\n",
      "Intel MKL WARNING: Support of Intel(R) Streaming SIMD Extensions 4.2 (Intel(R) SSE4.2) enabled only processors has been deprecated. Intel oneAPI Math Kernel Library 2025.0 will require Intel(R) Advanced Vector Extensions (Intel(R) AVX) instructions.\n",
      "Intel MKL WARNING: Support of Intel(R) Streaming SIMD Extensions 4.2 (Intel(R) SSE4.2) enabled only processors has been deprecated. Intel oneAPI Math Kernel Library 2025.0 will require Intel(R) Advanced Vector Extensions (Intel(R) AVX) instructions.\n",
      "Intel MKL WARNING: Support of Intel(R) Streaming SIMD Extensions 4.2 (Intel(R) SSE4.2) enabled only processors has been deprecated. Intel oneAPI Math Kernel Library 2025.0 will require Intel(R) Advanced Vector Extensions (Intel(R) AVX) instructions.\n",
      "Intel MKL WARNING: Support of Intel(R) Streaming SIMD Extensions 4.2 (Intel(R) SSE4.2) enabled only processors has been deprecated. Intel oneAPI Math Kernel Library 2025.0 will require Intel(R) Advanced Vector Extensions (Intel(R) AVX) instructions.\n"
     ]
    },
    {
     "data": {
      "application/vnd.jupyter.widget-view+json": {
       "model_id": "",
       "version_major": 2,
       "version_minor": 0
      },
      "text/plain": [
       "Validation: |                                             | 0/? [00:00<?, ?it/s]"
      ]
     },
     "metadata": {},
     "output_type": "display_data"
    },
    {
     "name": "stdout",
     "output_type": "stream",
     "text": [
      "Intel MKL WARNING: Support of Intel(R) Streaming SIMD Extensions 4.2 (Intel(R) SSE4.2) enabled only processors has been deprecated. Intel oneAPI Math Kernel Library 2025.0 will require Intel(R) Advanced Vector Extensions (Intel(R) AVX) instructions.\n",
      "Intel MKL WARNING: Support of Intel(R) Streaming SIMD Extensions 4.2 (Intel(R) SSE4.2) enabled only processors has been deprecated. Intel oneAPI Math Kernel Library 2025.0 will require Intel(R) Advanced Vector Extensions (Intel(R) AVX) instructions.\n",
      "Intel MKL WARNING: Support of Intel(R) Streaming SIMD Extensions 4.2 (Intel(R) SSE4.2) enabled only processors has been deprecated. Intel oneAPI Math Kernel Library 2025.0 will require Intel(R) Advanced Vector Extensions (Intel(R) AVX) instructions.\n",
      "Intel MKL WARNING: Support of Intel(R) Streaming SIMD Extensions 4.2 (Intel(R) SSE4.2) enabled only processors has been deprecated. Intel oneAPI Math Kernel Library 2025.0 will require Intel(R) Advanced Vector Extensions (Intel(R) AVX) instructions.\n",
      "Intel MKL WARNING: Support of Intel(R) Streaming SIMD Extensions 4.2 (Intel(R) SSE4.2) enabled only processors has been deprecated. Intel oneAPI Math Kernel Library 2025.0 will require Intel(R) Advanced Vector Extensions (Intel(R) AVX) instructions.\n",
      "Intel MKL WARNING: Support of Intel(R) Streaming SIMD Extensions 4.2 (Intel(R) SSE4.2) enabled only processors has been deprecated. Intel oneAPI Math Kernel Library 2025.0 will require Intel(R) Advanced Vector Extensions (Intel(R) AVX) instructions.\n",
      "Intel MKL WARNING: Support of Intel(R) Streaming SIMD Extensions 4.2 (Intel(R) SSE4.2) enabled only processors has been deprecated. Intel oneAPI Math Kernel Library 2025.0 will require Intel(R) Advanced Vector Extensions (Intel(R) AVX) instructions.\n",
      "Intel MKL WARNING: Support of Intel(R) Streaming SIMD Extensions 4.2 (Intel(R) SSE4.2) enabled only processors has been deprecated. Intel oneAPI Math Kernel Library 2025.0 will require Intel(R) Advanced Vector Extensions (Intel(R) AVX) instructions.\n",
      "Intel MKL WARNING: Support of Intel(R) Streaming SIMD Extensions 4.2 (Intel(R) SSE4.2) enabled only processors has been deprecated. Intel oneAPI Math Kernel Library 2025.0 will require Intel(R) Advanced Vector Extensions (Intel(R) AVX) instructions.\n",
      "Intel MKL WARNING: Support of Intel(R) Streaming SIMD Extensions 4.2 (Intel(R) SSE4.2) enabled only processors has been deprecated. Intel oneAPI Math Kernel Library 2025.0 will require Intel(R) Advanced Vector Extensions (Intel(R) AVX) instructions.\n",
      "Intel MKL WARNING: Support of Intel(R) Streaming SIMD Extensions 4.2 (Intel(R) SSE4.2) enabled only processors has been deprecated. Intel oneAPI Math Kernel Library 2025.0 will require Intel(R) Advanced Vector Extensions (Intel(R) AVX) instructions.\n",
      "Intel MKL WARNING: Support of Intel(R) Streaming SIMD Extensions 4.2 (Intel(R) SSE4.2) enabled only processors has been deprecated. Intel oneAPI Math Kernel Library 2025.0 will require Intel(R) Advanced Vector Extensions (Intel(R) AVX) instructions.\n",
      "Intel MKL WARNING: Support of Intel(R) Streaming SIMD Extensions 4.2 (Intel(R) SSE4.2) enabled only processors has been deprecated. Intel oneAPI Math Kernel Library 2025.0 will require Intel(R) Advanced Vector Extensions (Intel(R) AVX) instructions.\n",
      "Intel MKL WARNING: Support of Intel(R) Streaming SIMD Extensions 4.2 (Intel(R) SSE4.2) enabled only processors has been deprecated. Intel oneAPI Math Kernel Library 2025.0 will require Intel(R) Advanced Vector Extensions (Intel(R) AVX) instructions.\n"
     ]
    },
    {
     "data": {
      "application/vnd.jupyter.widget-view+json": {
       "model_id": "",
       "version_major": 2,
       "version_minor": 0
      },
      "text/plain": [
       "Validation: |                                             | 0/? [00:00<?, ?it/s]"
      ]
     },
     "metadata": {},
     "output_type": "display_data"
    },
    {
     "name": "stdout",
     "output_type": "stream",
     "text": [
      "Intel MKL WARNING: Support of Intel(R) Streaming SIMD Extensions 4.2 (Intel(R) SSE4.2) enabled only processors has been deprecated. Intel oneAPI Math Kernel Library 2025.0 will require Intel(R) Advanced Vector Extensions (Intel(R) AVX) instructions.\n",
      "Intel MKL WARNING: Support of Intel(R) Streaming SIMD Extensions 4.2 (Intel(R) SSE4.2) enabled only processors has been deprecated. Intel oneAPI Math Kernel Library 2025.0 will require Intel(R) Advanced Vector Extensions (Intel(R) AVX) instructions.\n",
      "Intel MKL WARNING: Support of Intel(R) Streaming SIMD Extensions 4.2 (Intel(R) SSE4.2) enabled only processors has been deprecated. Intel oneAPI Math Kernel Library 2025.0 will require Intel(R) Advanced Vector Extensions (Intel(R) AVX) instructions.\n",
      "Intel MKL WARNING: Support of Intel(R) Streaming SIMD Extensions 4.2 (Intel(R) SSE4.2) enabled only processors has been deprecated. Intel oneAPI Math Kernel Library 2025.0 will require Intel(R) Advanced Vector Extensions (Intel(R) AVX) instructions.\n",
      "Intel MKL WARNING: Support of Intel(R) Streaming SIMD Extensions 4.2 (Intel(R) SSE4.2) enabled only processors has been deprecated. Intel oneAPI Math Kernel Library 2025.0 will require Intel(R) Advanced Vector Extensions (Intel(R) AVX) instructions.\n",
      "Intel MKL WARNING: Support of Intel(R) Streaming SIMD Extensions 4.2 (Intel(R) SSE4.2) enabled only processors has been deprecated. Intel oneAPI Math Kernel Library 2025.0 will require Intel(R) Advanced Vector Extensions (Intel(R) AVX) instructions.\n",
      "Intel MKL WARNING: Support of Intel(R) Streaming SIMD Extensions 4.2 (Intel(R) SSE4.2) enabled only processors has been deprecated. Intel oneAPI Math Kernel Library 2025.0 will require Intel(R) Advanced Vector Extensions (Intel(R) AVX) instructions.\n",
      "Intel MKL WARNING: Support of Intel(R) Streaming SIMD Extensions 4.2 (Intel(R) SSE4.2) enabled only processors has been deprecated. Intel oneAPI Math Kernel Library 2025.0 will require Intel(R) Advanced Vector Extensions (Intel(R) AVX) instructions.\n",
      "Intel MKL WARNING: Support of Intel(R) Streaming SIMD Extensions 4.2 (Intel(R) SSE4.2) enabled only processors has been deprecated. Intel oneAPI Math Kernel Library 2025.0 will require Intel(R) Advanced Vector Extensions (Intel(R) AVX) instructions.\n",
      "Intel MKL WARNING: Support of Intel(R) Streaming SIMD Extensions 4.2 (Intel(R) SSE4.2) enabled only processors has been deprecated. Intel oneAPI Math Kernel Library 2025.0 will require Intel(R) Advanced Vector Extensions (Intel(R) AVX) instructions.\n",
      "Intel MKL WARNING: Support of Intel(R) Streaming SIMD Extensions 4.2 (Intel(R) SSE4.2) enabled only processors has been deprecated. Intel oneAPI Math Kernel Library 2025.0 will require Intel(R) Advanced Vector Extensions (Intel(R) AVX) instructions.\n",
      "Intel MKL WARNING: Support of Intel(R) Streaming SIMD Extensions 4.2 (Intel(R) SSE4.2) enabled only processors has been deprecated. Intel oneAPI Math Kernel Library 2025.0 will require Intel(R) Advanced Vector Extensions (Intel(R) AVX) instructions.\n",
      "Intel MKL WARNING: Support of Intel(R) Streaming SIMD Extensions 4.2 (Intel(R) SSE4.2) enabled only processors has been deprecated. Intel oneAPI Math Kernel Library 2025.0 will require Intel(R) Advanced Vector Extensions (Intel(R) AVX) instructions.\n",
      "Intel MKL WARNING: Support of Intel(R) Streaming SIMD Extensions 4.2 (Intel(R) SSE4.2) enabled only processors has been deprecated. Intel oneAPI Math Kernel Library 2025.0 will require Intel(R) Advanced Vector Extensions (Intel(R) AVX) instructions.\n"
     ]
    },
    {
     "data": {
      "application/vnd.jupyter.widget-view+json": {
       "model_id": "",
       "version_major": 2,
       "version_minor": 0
      },
      "text/plain": [
       "Validation: |                                             | 0/? [00:00<?, ?it/s]"
      ]
     },
     "metadata": {},
     "output_type": "display_data"
    },
    {
     "name": "stdout",
     "output_type": "stream",
     "text": [
      "Intel MKL WARNING: Support of Intel(R) Streaming SIMD Extensions 4.2 (Intel(R) SSE4.2) enabled only processors has been deprecated. Intel oneAPI Math Kernel Library 2025.0 will require Intel(R) Advanced Vector Extensions (Intel(R) AVX) instructions.\n",
      "Intel MKL WARNING: Support of Intel(R) Streaming SIMD Extensions 4.2 (Intel(R) SSE4.2) enabled only processors has been deprecated. Intel oneAPI Math Kernel Library 2025.0 will require Intel(R) Advanced Vector Extensions (Intel(R) AVX) instructions.\n",
      "Intel MKL WARNING: Support of Intel(R) Streaming SIMD Extensions 4.2 (Intel(R) SSE4.2) enabled only processors has been deprecated. Intel oneAPI Math Kernel Library 2025.0 will require Intel(R) Advanced Vector Extensions (Intel(R) AVX) instructions.\n",
      "Intel MKL WARNING: Support of Intel(R) Streaming SIMD Extensions 4.2 (Intel(R) SSE4.2) enabled only processors has been deprecated. Intel oneAPI Math Kernel Library 2025.0 will require Intel(R) Advanced Vector Extensions (Intel(R) AVX) instructions.\n",
      "Intel MKL WARNING: Support of Intel(R) Streaming SIMD Extensions 4.2 (Intel(R) SSE4.2) enabled only processors has been deprecated. Intel oneAPI Math Kernel Library 2025.0 will require Intel(R) Advanced Vector Extensions (Intel(R) AVX) instructions.\n",
      "Intel MKL WARNING: Support of Intel(R) Streaming SIMD Extensions 4.2 (Intel(R) SSE4.2) enabled only processors has been deprecated. Intel oneAPI Math Kernel Library 2025.0 will require Intel(R) Advanced Vector Extensions (Intel(R) AVX) instructions.\n",
      "Intel MKL WARNING: Support of Intel(R) Streaming SIMD Extensions 4.2 (Intel(R) SSE4.2) enabled only processors has been deprecated. Intel oneAPI Math Kernel Library 2025.0 will require Intel(R) Advanced Vector Extensions (Intel(R) AVX) instructions.\n",
      "Intel MKL WARNING: Support of Intel(R) Streaming SIMD Extensions 4.2 (Intel(R) SSE4.2) enabled only processors has been deprecated. Intel oneAPI Math Kernel Library 2025.0 will require Intel(R) Advanced Vector Extensions (Intel(R) AVX) instructions.\n",
      "Intel MKL WARNING: Support of Intel(R) Streaming SIMD Extensions 4.2 (Intel(R) SSE4.2) enabled only processors has been deprecated. Intel oneAPI Math Kernel Library 2025.0 will require Intel(R) Advanced Vector Extensions (Intel(R) AVX) instructions.\n",
      "Intel MKL WARNING: Support of Intel(R) Streaming SIMD Extensions 4.2 (Intel(R) SSE4.2) enabled only processors has been deprecated. Intel oneAPI Math Kernel Library 2025.0 will require Intel(R) Advanced Vector Extensions (Intel(R) AVX) instructions.\n",
      "Intel MKL WARNING: Support of Intel(R) Streaming SIMD Extensions 4.2 (Intel(R) SSE4.2) enabled only processors has been deprecated. Intel oneAPI Math Kernel Library 2025.0 will require Intel(R) Advanced Vector Extensions (Intel(R) AVX) instructions.\n",
      "Intel MKL WARNING: Support of Intel(R) Streaming SIMD Extensions 4.2 (Intel(R) SSE4.2) enabled only processors has been deprecated. Intel oneAPI Math Kernel Library 2025.0 will require Intel(R) Advanced Vector Extensions (Intel(R) AVX) instructions.\n",
      "Intel MKL WARNING: Support of Intel(R) Streaming SIMD Extensions 4.2 (Intel(R) SSE4.2) enabled only processors has been deprecated. Intel oneAPI Math Kernel Library 2025.0 will require Intel(R) Advanced Vector Extensions (Intel(R) AVX) instructions.\n",
      "Intel MKL WARNING: Support of Intel(R) Streaming SIMD Extensions 4.2 (Intel(R) SSE4.2) enabled only processors has been deprecated. Intel oneAPI Math Kernel Library 2025.0 will require Intel(R) Advanced Vector Extensions (Intel(R) AVX) instructions.\n"
     ]
    },
    {
     "data": {
      "application/vnd.jupyter.widget-view+json": {
       "model_id": "",
       "version_major": 2,
       "version_minor": 0
      },
      "text/plain": [
       "Validation: |                                             | 0/? [00:00<?, ?it/s]"
      ]
     },
     "metadata": {},
     "output_type": "display_data"
    },
    {
     "name": "stdout",
     "output_type": "stream",
     "text": [
      "Intel MKL WARNING: Support of Intel(R) Streaming SIMD Extensions 4.2 (Intel(R) SSE4.2) enabled only processors has been deprecated. Intel oneAPI Math Kernel Library 2025.0 will require Intel(R) Advanced Vector Extensions (Intel(R) AVX) instructions.\n",
      "Intel MKL WARNING: Support of Intel(R) Streaming SIMD Extensions 4.2 (Intel(R) SSE4.2) enabled only processors has been deprecated. Intel oneAPI Math Kernel Library 2025.0 will require Intel(R) Advanced Vector Extensions (Intel(R) AVX) instructions.\n",
      "Intel MKL WARNING: Support of Intel(R) Streaming SIMD Extensions 4.2 (Intel(R) SSE4.2) enabled only processors has been deprecated. Intel oneAPI Math Kernel Library 2025.0 will require Intel(R) Advanced Vector Extensions (Intel(R) AVX) instructions.\n",
      "Intel MKL WARNING: Support of Intel(R) Streaming SIMD Extensions 4.2 (Intel(R) SSE4.2) enabled only processors has been deprecated. Intel oneAPI Math Kernel Library 2025.0 will require Intel(R) Advanced Vector Extensions (Intel(R) AVX) instructions.\n",
      "Intel MKL WARNING: Support of Intel(R) Streaming SIMD Extensions 4.2 (Intel(R) SSE4.2) enabled only processors has been deprecated. Intel oneAPI Math Kernel Library 2025.0 will require Intel(R) Advanced Vector Extensions (Intel(R) AVX) instructions.\n",
      "Intel MKL WARNING: Support of Intel(R) Streaming SIMD Extensions 4.2 (Intel(R) SSE4.2) enabled only processors has been deprecated. Intel oneAPI Math Kernel Library 2025.0 will require Intel(R) Advanced Vector Extensions (Intel(R) AVX) instructions.\n",
      "Intel MKL WARNING: Support of Intel(R) Streaming SIMD Extensions 4.2 (Intel(R) SSE4.2) enabled only processors has been deprecated. Intel oneAPI Math Kernel Library 2025.0 will require Intel(R) Advanced Vector Extensions (Intel(R) AVX) instructions.\n",
      "Intel MKL WARNING: Support of Intel(R) Streaming SIMD Extensions 4.2 (Intel(R) SSE4.2) enabled only processors has been deprecated. Intel oneAPI Math Kernel Library 2025.0 will require Intel(R) Advanced Vector Extensions (Intel(R) AVX) instructions.\n",
      "Intel MKL WARNING: Support of Intel(R) Streaming SIMD Extensions 4.2 (Intel(R) SSE4.2) enabled only processors has been deprecated. Intel oneAPI Math Kernel Library 2025.0 will require Intel(R) Advanced Vector Extensions (Intel(R) AVX) instructions.\n",
      "Intel MKL WARNING: Support of Intel(R) Streaming SIMD Extensions 4.2 (Intel(R) SSE4.2) enabled only processors has been deprecated. Intel oneAPI Math Kernel Library 2025.0 will require Intel(R) Advanced Vector Extensions (Intel(R) AVX) instructions.\n",
      "Intel MKL WARNING: Support of Intel(R) Streaming SIMD Extensions 4.2 (Intel(R) SSE4.2) enabled only processors has been deprecated. Intel oneAPI Math Kernel Library 2025.0 will require Intel(R) Advanced Vector Extensions (Intel(R) AVX) instructions.\n",
      "Intel MKL WARNING: Support of Intel(R) Streaming SIMD Extensions 4.2 (Intel(R) SSE4.2) enabled only processors has been deprecated. Intel oneAPI Math Kernel Library 2025.0 will require Intel(R) Advanced Vector Extensions (Intel(R) AVX) instructions.\n",
      "Intel MKL WARNING: Support of Intel(R) Streaming SIMD Extensions 4.2 (Intel(R) SSE4.2) enabled only processors has been deprecated. Intel oneAPI Math Kernel Library 2025.0 will require Intel(R) Advanced Vector Extensions (Intel(R) AVX) instructions.\n",
      "Intel MKL WARNING: Support of Intel(R) Streaming SIMD Extensions 4.2 (Intel(R) SSE4.2) enabled only processors has been deprecated. Intel oneAPI Math Kernel Library 2025.0 will require Intel(R) Advanced Vector Extensions (Intel(R) AVX) instructions.\n"
     ]
    },
    {
     "data": {
      "application/vnd.jupyter.widget-view+json": {
       "model_id": "",
       "version_major": 2,
       "version_minor": 0
      },
      "text/plain": [
       "Validation: |                                             | 0/? [00:00<?, ?it/s]"
      ]
     },
     "metadata": {},
     "output_type": "display_data"
    },
    {
     "name": "stdout",
     "output_type": "stream",
     "text": [
      "Intel MKL WARNING: Support of Intel(R) Streaming SIMD Extensions 4.2 (Intel(R) SSE4.2) enabled only processors has been deprecated. Intel oneAPI Math Kernel Library 2025.0 will require Intel(R) Advanced Vector Extensions (Intel(R) AVX) instructions.\n",
      "Intel MKL WARNING: Support of Intel(R) Streaming SIMD Extensions 4.2 (Intel(R) SSE4.2) enabled only processors has been deprecated. Intel oneAPI Math Kernel Library 2025.0 will require Intel(R) Advanced Vector Extensions (Intel(R) AVX) instructions.\n",
      "Intel MKL WARNING: Support of Intel(R) Streaming SIMD Extensions 4.2 (Intel(R) SSE4.2) enabled only processors has been deprecated. Intel oneAPI Math Kernel Library 2025.0 will require Intel(R) Advanced Vector Extensions (Intel(R) AVX) instructions.\n",
      "Intel MKL WARNING: Support of Intel(R) Streaming SIMD Extensions 4.2 (Intel(R) SSE4.2) enabled only processors has been deprecated. Intel oneAPI Math Kernel Library 2025.0 will require Intel(R) Advanced Vector Extensions (Intel(R) AVX) instructions.\n",
      "Intel MKL WARNING: Support of Intel(R) Streaming SIMD Extensions 4.2 (Intel(R) SSE4.2) enabled only processors has been deprecated. Intel oneAPI Math Kernel Library 2025.0 will require Intel(R) Advanced Vector Extensions (Intel(R) AVX) instructions.\n",
      "Intel MKL WARNING: Support of Intel(R) Streaming SIMD Extensions 4.2 (Intel(R) SSE4.2) enabled only processors has been deprecated. Intel oneAPI Math Kernel Library 2025.0 will require Intel(R) Advanced Vector Extensions (Intel(R) AVX) instructions.\n",
      "Intel MKL WARNING: Support of Intel(R) Streaming SIMD Extensions 4.2 (Intel(R) SSE4.2) enabled only processors has been deprecated. Intel oneAPI Math Kernel Library 2025.0 will require Intel(R) Advanced Vector Extensions (Intel(R) AVX) instructions.\n",
      "Intel MKL WARNING: Support of Intel(R) Streaming SIMD Extensions 4.2 (Intel(R) SSE4.2) enabled only processors has been deprecated. Intel oneAPI Math Kernel Library 2025.0 will require Intel(R) Advanced Vector Extensions (Intel(R) AVX) instructions.\n",
      "Intel MKL WARNING: Support of Intel(R) Streaming SIMD Extensions 4.2 (Intel(R) SSE4.2) enabled only processors has been deprecated. Intel oneAPI Math Kernel Library 2025.0 will require Intel(R) Advanced Vector Extensions (Intel(R) AVX) instructions.\n",
      "Intel MKL WARNING: Support of Intel(R) Streaming SIMD Extensions 4.2 (Intel(R) SSE4.2) enabled only processors has been deprecated. Intel oneAPI Math Kernel Library 2025.0 will require Intel(R) Advanced Vector Extensions (Intel(R) AVX) instructions.\n",
      "Intel MKL WARNING: Support of Intel(R) Streaming SIMD Extensions 4.2 (Intel(R) SSE4.2) enabled only processors has been deprecated. Intel oneAPI Math Kernel Library 2025.0 will require Intel(R) Advanced Vector Extensions (Intel(R) AVX) instructions.\n",
      "Intel MKL WARNING: Support of Intel(R) Streaming SIMD Extensions 4.2 (Intel(R) SSE4.2) enabled only processors has been deprecated. Intel oneAPI Math Kernel Library 2025.0 will require Intel(R) Advanced Vector Extensions (Intel(R) AVX) instructions.\n",
      "Intel MKL WARNING: Support of Intel(R) Streaming SIMD Extensions 4.2 (Intel(R) SSE4.2) enabled only processors has been deprecated. Intel oneAPI Math Kernel Library 2025.0 will require Intel(R) Advanced Vector Extensions (Intel(R) AVX) instructions.\n",
      "Intel MKL WARNING: Support of Intel(R) Streaming SIMD Extensions 4.2 (Intel(R) SSE4.2) enabled only processors has been deprecated. Intel oneAPI Math Kernel Library 2025.0 will require Intel(R) Advanced Vector Extensions (Intel(R) AVX) instructions.\n"
     ]
    },
    {
     "data": {
      "application/vnd.jupyter.widget-view+json": {
       "model_id": "",
       "version_major": 2,
       "version_minor": 0
      },
      "text/plain": [
       "Validation: |                                             | 0/? [00:00<?, ?it/s]"
      ]
     },
     "metadata": {},
     "output_type": "display_data"
    },
    {
     "name": "stdout",
     "output_type": "stream",
     "text": [
      "Intel MKL WARNING: Support of Intel(R) Streaming SIMD Extensions 4.2 (Intel(R) SSE4.2) enabled only processors has been deprecated. Intel oneAPI Math Kernel Library 2025.0 will require Intel(R) Advanced Vector Extensions (Intel(R) AVX) instructions.\n",
      "Intel MKL WARNING: Support of Intel(R) Streaming SIMD Extensions 4.2 (Intel(R) SSE4.2) enabled only processors has been deprecated. Intel oneAPI Math Kernel Library 2025.0 will require Intel(R) Advanced Vector Extensions (Intel(R) AVX) instructions.\n",
      "Intel MKL WARNING: Support of Intel(R) Streaming SIMD Extensions 4.2 (Intel(R) SSE4.2) enabled only processors has been deprecated. Intel oneAPI Math Kernel Library 2025.0 will require Intel(R) Advanced Vector Extensions (Intel(R) AVX) instructions.\n",
      "Intel MKL WARNING: Support of Intel(R) Streaming SIMD Extensions 4.2 (Intel(R) SSE4.2) enabled only processors has been deprecated. Intel oneAPI Math Kernel Library 2025.0 will require Intel(R) Advanced Vector Extensions (Intel(R) AVX) instructions.\n",
      "Intel MKL WARNING: Support of Intel(R) Streaming SIMD Extensions 4.2 (Intel(R) SSE4.2) enabled only processors has been deprecated. Intel oneAPI Math Kernel Library 2025.0 will require Intel(R) Advanced Vector Extensions (Intel(R) AVX) instructions.\n",
      "Intel MKL WARNING: Support of Intel(R) Streaming SIMD Extensions 4.2 (Intel(R) SSE4.2) enabled only processors has been deprecated. Intel oneAPI Math Kernel Library 2025.0 will require Intel(R) Advanced Vector Extensions (Intel(R) AVX) instructions.\n",
      "Intel MKL WARNING: Support of Intel(R) Streaming SIMD Extensions 4.2 (Intel(R) SSE4.2) enabled only processors has been deprecated. Intel oneAPI Math Kernel Library 2025.0 will require Intel(R) Advanced Vector Extensions (Intel(R) AVX) instructions.\n",
      "Intel MKL WARNING: Support of Intel(R) Streaming SIMD Extensions 4.2 (Intel(R) SSE4.2) enabled only processors has been deprecated. Intel oneAPI Math Kernel Library 2025.0 will require Intel(R) Advanced Vector Extensions (Intel(R) AVX) instructions.\n",
      "Intel MKL WARNING: Support of Intel(R) Streaming SIMD Extensions 4.2 (Intel(R) SSE4.2) enabled only processors has been deprecated. Intel oneAPI Math Kernel Library 2025.0 will require Intel(R) Advanced Vector Extensions (Intel(R) AVX) instructions.\n",
      "Intel MKL WARNING: Support of Intel(R) Streaming SIMD Extensions 4.2 (Intel(R) SSE4.2) enabled only processors has been deprecated. Intel oneAPI Math Kernel Library 2025.0 will require Intel(R) Advanced Vector Extensions (Intel(R) AVX) instructions.\n",
      "Intel MKL WARNING: Support of Intel(R) Streaming SIMD Extensions 4.2 (Intel(R) SSE4.2) enabled only processors has been deprecated. Intel oneAPI Math Kernel Library 2025.0 will require Intel(R) Advanced Vector Extensions (Intel(R) AVX) instructions.\n",
      "Intel MKL WARNING: Support of Intel(R) Streaming SIMD Extensions 4.2 (Intel(R) SSE4.2) enabled only processors has been deprecated. Intel oneAPI Math Kernel Library 2025.0 will require Intel(R) Advanced Vector Extensions (Intel(R) AVX) instructions.\n",
      "Intel MKL WARNING: Support of Intel(R) Streaming SIMD Extensions 4.2 (Intel(R) SSE4.2) enabled only processors has been deprecated. Intel oneAPI Math Kernel Library 2025.0 will require Intel(R) Advanced Vector Extensions (Intel(R) AVX) instructions.\n",
      "Intel MKL WARNING: Support of Intel(R) Streaming SIMD Extensions 4.2 (Intel(R) SSE4.2) enabled only processors has been deprecated. Intel oneAPI Math Kernel Library 2025.0 will require Intel(R) Advanced Vector Extensions (Intel(R) AVX) instructions.\n"
     ]
    },
    {
     "data": {
      "application/vnd.jupyter.widget-view+json": {
       "model_id": "",
       "version_major": 2,
       "version_minor": 0
      },
      "text/plain": [
       "Validation: |                                             | 0/? [00:00<?, ?it/s]"
      ]
     },
     "metadata": {},
     "output_type": "display_data"
    },
    {
     "name": "stdout",
     "output_type": "stream",
     "text": [
      "Intel MKL WARNING: Support of Intel(R) Streaming SIMD Extensions 4.2 (Intel(R) SSE4.2) enabled only processors has been deprecated. Intel oneAPI Math Kernel Library 2025.0 will require Intel(R) Advanced Vector Extensions (Intel(R) AVX) instructions.\n",
      "Intel MKL WARNING: Support of Intel(R) Streaming SIMD Extensions 4.2 (Intel(R) SSE4.2) enabled only processors has been deprecated. Intel oneAPI Math Kernel Library 2025.0 will require Intel(R) Advanced Vector Extensions (Intel(R) AVX) instructions.\n",
      "Intel MKL WARNING: Support of Intel(R) Streaming SIMD Extensions 4.2 (Intel(R) SSE4.2) enabled only processors has been deprecated. Intel oneAPI Math Kernel Library 2025.0 will require Intel(R) Advanced Vector Extensions (Intel(R) AVX) instructions.\n",
      "Intel MKL WARNING: Support of Intel(R) Streaming SIMD Extensions 4.2 (Intel(R) SSE4.2) enabled only processors has been deprecated. Intel oneAPI Math Kernel Library 2025.0 will require Intel(R) Advanced Vector Extensions (Intel(R) AVX) instructions.\n",
      "Intel MKL WARNING: Support of Intel(R) Streaming SIMD Extensions 4.2 (Intel(R) SSE4.2) enabled only processors has been deprecated. Intel oneAPI Math Kernel Library 2025.0 will require Intel(R) Advanced Vector Extensions (Intel(R) AVX) instructions.\n",
      "Intel MKL WARNING: Support of Intel(R) Streaming SIMD Extensions 4.2 (Intel(R) SSE4.2) enabled only processors has been deprecated. Intel oneAPI Math Kernel Library 2025.0 will require Intel(R) Advanced Vector Extensions (Intel(R) AVX) instructions.\n",
      "Intel MKL WARNING: Support of Intel(R) Streaming SIMD Extensions 4.2 (Intel(R) SSE4.2) enabled only processors has been deprecated. Intel oneAPI Math Kernel Library 2025.0 will require Intel(R) Advanced Vector Extensions (Intel(R) AVX) instructions.\n",
      "Intel MKL WARNING: Support of Intel(R) Streaming SIMD Extensions 4.2 (Intel(R) SSE4.2) enabled only processors has been deprecated. Intel oneAPI Math Kernel Library 2025.0 will require Intel(R) Advanced Vector Extensions (Intel(R) AVX) instructions.\n",
      "Intel MKL WARNING: Support of Intel(R) Streaming SIMD Extensions 4.2 (Intel(R) SSE4.2) enabled only processors has been deprecated. Intel oneAPI Math Kernel Library 2025.0 will require Intel(R) Advanced Vector Extensions (Intel(R) AVX) instructions.\n",
      "Intel MKL WARNING: Support of Intel(R) Streaming SIMD Extensions 4.2 (Intel(R) SSE4.2) enabled only processors has been deprecated. Intel oneAPI Math Kernel Library 2025.0 will require Intel(R) Advanced Vector Extensions (Intel(R) AVX) instructions.\n",
      "Intel MKL WARNING: Support of Intel(R) Streaming SIMD Extensions 4.2 (Intel(R) SSE4.2) enabled only processors has been deprecated. Intel oneAPI Math Kernel Library 2025.0 will require Intel(R) Advanced Vector Extensions (Intel(R) AVX) instructions.\n",
      "Intel MKL WARNING: Support of Intel(R) Streaming SIMD Extensions 4.2 (Intel(R) SSE4.2) enabled only processors has been deprecated. Intel oneAPI Math Kernel Library 2025.0 will require Intel(R) Advanced Vector Extensions (Intel(R) AVX) instructions.\n",
      "Intel MKL WARNING: Support of Intel(R) Streaming SIMD Extensions 4.2 (Intel(R) SSE4.2) enabled only processors has been deprecated. Intel oneAPI Math Kernel Library 2025.0 will require Intel(R) Advanced Vector Extensions (Intel(R) AVX) instructions.\n",
      "Intel MKL WARNING: Support of Intel(R) Streaming SIMD Extensions 4.2 (Intel(R) SSE4.2) enabled only processors has been deprecated. Intel oneAPI Math Kernel Library 2025.0 will require Intel(R) Advanced Vector Extensions (Intel(R) AVX) instructions.\n"
     ]
    },
    {
     "data": {
      "application/vnd.jupyter.widget-view+json": {
       "model_id": "",
       "version_major": 2,
       "version_minor": 0
      },
      "text/plain": [
       "Validation: |                                             | 0/? [00:00<?, ?it/s]"
      ]
     },
     "metadata": {},
     "output_type": "display_data"
    },
    {
     "name": "stdout",
     "output_type": "stream",
     "text": [
      "Intel MKL WARNING: Support of Intel(R) Streaming SIMD Extensions 4.2 (Intel(R) SSE4.2) enabled only processors has been deprecated. Intel oneAPI Math Kernel Library 2025.0 will require Intel(R) Advanced Vector Extensions (Intel(R) AVX) instructions.\n",
      "Intel MKL WARNING: Support of Intel(R) Streaming SIMD Extensions 4.2 (Intel(R) SSE4.2) enabled only processors has been deprecated. Intel oneAPI Math Kernel Library 2025.0 will require Intel(R) Advanced Vector Extensions (Intel(R) AVX) instructions.\n",
      "Intel MKL WARNING: Support of Intel(R) Streaming SIMD Extensions 4.2 (Intel(R) SSE4.2) enabled only processors has been deprecated. Intel oneAPI Math Kernel Library 2025.0 will require Intel(R) Advanced Vector Extensions (Intel(R) AVX) instructions.\n",
      "Intel MKL WARNING: Support of Intel(R) Streaming SIMD Extensions 4.2 (Intel(R) SSE4.2) enabled only processors has been deprecated. Intel oneAPI Math Kernel Library 2025.0 will require Intel(R) Advanced Vector Extensions (Intel(R) AVX) instructions.\n",
      "Intel MKL WARNING: Support of Intel(R) Streaming SIMD Extensions 4.2 (Intel(R) SSE4.2) enabled only processors has been deprecated. Intel oneAPI Math Kernel Library 2025.0 will require Intel(R) Advanced Vector Extensions (Intel(R) AVX) instructions.\n",
      "Intel MKL WARNING: Support of Intel(R) Streaming SIMD Extensions 4.2 (Intel(R) SSE4.2) enabled only processors has been deprecated. Intel oneAPI Math Kernel Library 2025.0 will require Intel(R) Advanced Vector Extensions (Intel(R) AVX) instructions.\n",
      "Intel MKL WARNING: Support of Intel(R) Streaming SIMD Extensions 4.2 (Intel(R) SSE4.2) enabled only processors has been deprecated. Intel oneAPI Math Kernel Library 2025.0 will require Intel(R) Advanced Vector Extensions (Intel(R) AVX) instructions.\n",
      "Intel MKL WARNING: Support of Intel(R) Streaming SIMD Extensions 4.2 (Intel(R) SSE4.2) enabled only processors has been deprecated. Intel oneAPI Math Kernel Library 2025.0 will require Intel(R) Advanced Vector Extensions (Intel(R) AVX) instructions.\n",
      "Intel MKL WARNING: Support of Intel(R) Streaming SIMD Extensions 4.2 (Intel(R) SSE4.2) enabled only processors has been deprecated. Intel oneAPI Math Kernel Library 2025.0 will require Intel(R) Advanced Vector Extensions (Intel(R) AVX) instructions.\n",
      "Intel MKL WARNING: Support of Intel(R) Streaming SIMD Extensions 4.2 (Intel(R) SSE4.2) enabled only processors has been deprecated. Intel oneAPI Math Kernel Library 2025.0 will require Intel(R) Advanced Vector Extensions (Intel(R) AVX) instructions.\n",
      "Intel MKL WARNING: Support of Intel(R) Streaming SIMD Extensions 4.2 (Intel(R) SSE4.2) enabled only processors has been deprecated. Intel oneAPI Math Kernel Library 2025.0 will require Intel(R) Advanced Vector Extensions (Intel(R) AVX) instructions.\n",
      "Intel MKL WARNING: Support of Intel(R) Streaming SIMD Extensions 4.2 (Intel(R) SSE4.2) enabled only processors has been deprecated. Intel oneAPI Math Kernel Library 2025.0 will require Intel(R) Advanced Vector Extensions (Intel(R) AVX) instructions.\n",
      "Intel MKL WARNING: Support of Intel(R) Streaming SIMD Extensions 4.2 (Intel(R) SSE4.2) enabled only processors has been deprecated. Intel oneAPI Math Kernel Library 2025.0 will require Intel(R) Advanced Vector Extensions (Intel(R) AVX) instructions.\n",
      "Intel MKL WARNING: Support of Intel(R) Streaming SIMD Extensions 4.2 (Intel(R) SSE4.2) enabled only processors has been deprecated. Intel oneAPI Math Kernel Library 2025.0 will require Intel(R) Advanced Vector Extensions (Intel(R) AVX) instructions.\n"
     ]
    },
    {
     "data": {
      "application/vnd.jupyter.widget-view+json": {
       "model_id": "",
       "version_major": 2,
       "version_minor": 0
      },
      "text/plain": [
       "Validation: |                                             | 0/? [00:00<?, ?it/s]"
      ]
     },
     "metadata": {},
     "output_type": "display_data"
    },
    {
     "name": "stdout",
     "output_type": "stream",
     "text": [
      "Intel MKL WARNING: Support of Intel(R) Streaming SIMD Extensions 4.2 (Intel(R) SSE4.2) enabled only processors has been deprecated. Intel oneAPI Math Kernel Library 2025.0 will require Intel(R) Advanced Vector Extensions (Intel(R) AVX) instructions.\n",
      "Intel MKL WARNING: Support of Intel(R) Streaming SIMD Extensions 4.2 (Intel(R) SSE4.2) enabled only processors has been deprecated. Intel oneAPI Math Kernel Library 2025.0 will require Intel(R) Advanced Vector Extensions (Intel(R) AVX) instructions.\n",
      "Intel MKL WARNING: Support of Intel(R) Streaming SIMD Extensions 4.2 (Intel(R) SSE4.2) enabled only processors has been deprecated. Intel oneAPI Math Kernel Library 2025.0 will require Intel(R) Advanced Vector Extensions (Intel(R) AVX) instructions.\n",
      "Intel MKL WARNING: Support of Intel(R) Streaming SIMD Extensions 4.2 (Intel(R) SSE4.2) enabled only processors has been deprecated. Intel oneAPI Math Kernel Library 2025.0 will require Intel(R) Advanced Vector Extensions (Intel(R) AVX) instructions.\n",
      "Intel MKL WARNING: Support of Intel(R) Streaming SIMD Extensions 4.2 (Intel(R) SSE4.2) enabled only processors has been deprecated. Intel oneAPI Math Kernel Library 2025.0 will require Intel(R) Advanced Vector Extensions (Intel(R) AVX) instructions.\n",
      "Intel MKL WARNING: Support of Intel(R) Streaming SIMD Extensions 4.2 (Intel(R) SSE4.2) enabled only processors has been deprecated. Intel oneAPI Math Kernel Library 2025.0 will require Intel(R) Advanced Vector Extensions (Intel(R) AVX) instructions.\n",
      "Intel MKL WARNING: Support of Intel(R) Streaming SIMD Extensions 4.2 (Intel(R) SSE4.2) enabled only processors has been deprecated. Intel oneAPI Math Kernel Library 2025.0 will require Intel(R) Advanced Vector Extensions (Intel(R) AVX) instructions.\n",
      "Intel MKL WARNING: Support of Intel(R) Streaming SIMD Extensions 4.2 (Intel(R) SSE4.2) enabled only processors has been deprecated. Intel oneAPI Math Kernel Library 2025.0 will require Intel(R) Advanced Vector Extensions (Intel(R) AVX) instructions.\n",
      "Intel MKL WARNING: Support of Intel(R) Streaming SIMD Extensions 4.2 (Intel(R) SSE4.2) enabled only processors has been deprecated. Intel oneAPI Math Kernel Library 2025.0 will require Intel(R) Advanced Vector Extensions (Intel(R) AVX) instructions.\n",
      "Intel MKL WARNING: Support of Intel(R) Streaming SIMD Extensions 4.2 (Intel(R) SSE4.2) enabled only processors has been deprecated. Intel oneAPI Math Kernel Library 2025.0 will require Intel(R) Advanced Vector Extensions (Intel(R) AVX) instructions.\n",
      "Intel MKL WARNING: Support of Intel(R) Streaming SIMD Extensions 4.2 (Intel(R) SSE4.2) enabled only processors has been deprecated. Intel oneAPI Math Kernel Library 2025.0 will require Intel(R) Advanced Vector Extensions (Intel(R) AVX) instructions.\n",
      "Intel MKL WARNING: Support of Intel(R) Streaming SIMD Extensions 4.2 (Intel(R) SSE4.2) enabled only processors has been deprecated. Intel oneAPI Math Kernel Library 2025.0 will require Intel(R) Advanced Vector Extensions (Intel(R) AVX) instructions.\n",
      "Intel MKL WARNING: Support of Intel(R) Streaming SIMD Extensions 4.2 (Intel(R) SSE4.2) enabled only processors has been deprecated. Intel oneAPI Math Kernel Library 2025.0 will require Intel(R) Advanced Vector Extensions (Intel(R) AVX) instructions.\n",
      "Intel MKL WARNING: Support of Intel(R) Streaming SIMD Extensions 4.2 (Intel(R) SSE4.2) enabled only processors has been deprecated. Intel oneAPI Math Kernel Library 2025.0 will require Intel(R) Advanced Vector Extensions (Intel(R) AVX) instructions.\n"
     ]
    },
    {
     "data": {
      "application/vnd.jupyter.widget-view+json": {
       "model_id": "",
       "version_major": 2,
       "version_minor": 0
      },
      "text/plain": [
       "Validation: |                                             | 0/? [00:00<?, ?it/s]"
      ]
     },
     "metadata": {},
     "output_type": "display_data"
    },
    {
     "name": "stdout",
     "output_type": "stream",
     "text": [
      "Intel MKL WARNING: Support of Intel(R) Streaming SIMD Extensions 4.2 (Intel(R) SSE4.2) enabled only processors has been deprecated. Intel oneAPI Math Kernel Library 2025.0 will require Intel(R) Advanced Vector Extensions (Intel(R) AVX) instructions.\n",
      "Intel MKL WARNING: Support of Intel(R) Streaming SIMD Extensions 4.2 (Intel(R) SSE4.2) enabled only processors has been deprecated. Intel oneAPI Math Kernel Library 2025.0 will require Intel(R) Advanced Vector Extensions (Intel(R) AVX) instructions.\n",
      "Intel MKL WARNING: Support of Intel(R) Streaming SIMD Extensions 4.2 (Intel(R) SSE4.2) enabled only processors has been deprecated. Intel oneAPI Math Kernel Library 2025.0 will require Intel(R) Advanced Vector Extensions (Intel(R) AVX) instructions.\n",
      "Intel MKL WARNING: Support of Intel(R) Streaming SIMD Extensions 4.2 (Intel(R) SSE4.2) enabled only processors has been deprecated. Intel oneAPI Math Kernel Library 2025.0 will require Intel(R) Advanced Vector Extensions (Intel(R) AVX) instructions.\n",
      "Intel MKL WARNING: Support of Intel(R) Streaming SIMD Extensions 4.2 (Intel(R) SSE4.2) enabled only processors has been deprecated. Intel oneAPI Math Kernel Library 2025.0 will require Intel(R) Advanced Vector Extensions (Intel(R) AVX) instructions.\n",
      "Intel MKL WARNING: Support of Intel(R) Streaming SIMD Extensions 4.2 (Intel(R) SSE4.2) enabled only processors has been deprecated. Intel oneAPI Math Kernel Library 2025.0 will require Intel(R) Advanced Vector Extensions (Intel(R) AVX) instructions.\n",
      "Intel MKL WARNING: Support of Intel(R) Streaming SIMD Extensions 4.2 (Intel(R) SSE4.2) enabled only processors has been deprecated. Intel oneAPI Math Kernel Library 2025.0 will require Intel(R) Advanced Vector Extensions (Intel(R) AVX) instructions.\n",
      "Intel MKL WARNING: Support of Intel(R) Streaming SIMD Extensions 4.2 (Intel(R) SSE4.2) enabled only processors has been deprecated. Intel oneAPI Math Kernel Library 2025.0 will require Intel(R) Advanced Vector Extensions (Intel(R) AVX) instructions.\n",
      "Intel MKL WARNING: Support of Intel(R) Streaming SIMD Extensions 4.2 (Intel(R) SSE4.2) enabled only processors has been deprecated. Intel oneAPI Math Kernel Library 2025.0 will require Intel(R) Advanced Vector Extensions (Intel(R) AVX) instructions.\n",
      "Intel MKL WARNING: Support of Intel(R) Streaming SIMD Extensions 4.2 (Intel(R) SSE4.2) enabled only processors has been deprecated. Intel oneAPI Math Kernel Library 2025.0 will require Intel(R) Advanced Vector Extensions (Intel(R) AVX) instructions.\n",
      "Intel MKL WARNING: Support of Intel(R) Streaming SIMD Extensions 4.2 (Intel(R) SSE4.2) enabled only processors has been deprecated. Intel oneAPI Math Kernel Library 2025.0 will require Intel(R) Advanced Vector Extensions (Intel(R) AVX) instructions.\n",
      "Intel MKL WARNING: Support of Intel(R) Streaming SIMD Extensions 4.2 (Intel(R) SSE4.2) enabled only processors has been deprecated. Intel oneAPI Math Kernel Library 2025.0 will require Intel(R) Advanced Vector Extensions (Intel(R) AVX) instructions.\n",
      "Intel MKL WARNING: Support of Intel(R) Streaming SIMD Extensions 4.2 (Intel(R) SSE4.2) enabled only processors has been deprecated. Intel oneAPI Math Kernel Library 2025.0 will require Intel(R) Advanced Vector Extensions (Intel(R) AVX) instructions.\n",
      "Intel MKL WARNING: Support of Intel(R) Streaming SIMD Extensions 4.2 (Intel(R) SSE4.2) enabled only processors has been deprecated. Intel oneAPI Math Kernel Library 2025.0 will require Intel(R) Advanced Vector Extensions (Intel(R) AVX) instructions.\n"
     ]
    },
    {
     "data": {
      "application/vnd.jupyter.widget-view+json": {
       "model_id": "",
       "version_major": 2,
       "version_minor": 0
      },
      "text/plain": [
       "Validation: |                                             | 0/? [00:00<?, ?it/s]"
      ]
     },
     "metadata": {},
     "output_type": "display_data"
    },
    {
     "name": "stdout",
     "output_type": "stream",
     "text": [
      "Intel MKL WARNING: Support of Intel(R) Streaming SIMD Extensions 4.2 (Intel(R) SSE4.2) enabled only processors has been deprecated. Intel oneAPI Math Kernel Library 2025.0 will require Intel(R) Advanced Vector Extensions (Intel(R) AVX) instructions.\n",
      "Intel MKL WARNING: Support of Intel(R) Streaming SIMD Extensions 4.2 (Intel(R) SSE4.2) enabled only processors has been deprecated. Intel oneAPI Math Kernel Library 2025.0 will require Intel(R) Advanced Vector Extensions (Intel(R) AVX) instructions.\n",
      "Intel MKL WARNING: Support of Intel(R) Streaming SIMD Extensions 4.2 (Intel(R) SSE4.2) enabled only processors has been deprecated. Intel oneAPI Math Kernel Library 2025.0 will require Intel(R) Advanced Vector Extensions (Intel(R) AVX) instructions.\n",
      "Intel MKL WARNING: Support of Intel(R) Streaming SIMD Extensions 4.2 (Intel(R) SSE4.2) enabled only processors has been deprecated. Intel oneAPI Math Kernel Library 2025.0 will require Intel(R) Advanced Vector Extensions (Intel(R) AVX) instructions.\n",
      "Intel MKL WARNING: Support of Intel(R) Streaming SIMD Extensions 4.2 (Intel(R) SSE4.2) enabled only processors has been deprecated. Intel oneAPI Math Kernel Library 2025.0 will require Intel(R) Advanced Vector Extensions (Intel(R) AVX) instructions.\n",
      "Intel MKL WARNING: Support of Intel(R) Streaming SIMD Extensions 4.2 (Intel(R) SSE4.2) enabled only processors has been deprecated. Intel oneAPI Math Kernel Library 2025.0 will require Intel(R) Advanced Vector Extensions (Intel(R) AVX) instructions.\n",
      "Intel MKL WARNING: Support of Intel(R) Streaming SIMD Extensions 4.2 (Intel(R) SSE4.2) enabled only processors has been deprecated. Intel oneAPI Math Kernel Library 2025.0 will require Intel(R) Advanced Vector Extensions (Intel(R) AVX) instructions.\n",
      "Intel MKL WARNING: Support of Intel(R) Streaming SIMD Extensions 4.2 (Intel(R) SSE4.2) enabled only processors has been deprecated. Intel oneAPI Math Kernel Library 2025.0 will require Intel(R) Advanced Vector Extensions (Intel(R) AVX) instructions.\n",
      "Intel MKL WARNING: Support of Intel(R) Streaming SIMD Extensions 4.2 (Intel(R) SSE4.2) enabled only processors has been deprecated. Intel oneAPI Math Kernel Library 2025.0 will require Intel(R) Advanced Vector Extensions (Intel(R) AVX) instructions.\n",
      "Intel MKL WARNING: Support of Intel(R) Streaming SIMD Extensions 4.2 (Intel(R) SSE4.2) enabled only processors has been deprecated. Intel oneAPI Math Kernel Library 2025.0 will require Intel(R) Advanced Vector Extensions (Intel(R) AVX) instructions.\n",
      "Intel MKL WARNING: Support of Intel(R) Streaming SIMD Extensions 4.2 (Intel(R) SSE4.2) enabled only processors has been deprecated. Intel oneAPI Math Kernel Library 2025.0 will require Intel(R) Advanced Vector Extensions (Intel(R) AVX) instructions.\n",
      "Intel MKL WARNING: Support of Intel(R) Streaming SIMD Extensions 4.2 (Intel(R) SSE4.2) enabled only processors has been deprecated. Intel oneAPI Math Kernel Library 2025.0 will require Intel(R) Advanced Vector Extensions (Intel(R) AVX) instructions.\n",
      "Intel MKL WARNING: Support of Intel(R) Streaming SIMD Extensions 4.2 (Intel(R) SSE4.2) enabled only processors has been deprecated. Intel oneAPI Math Kernel Library 2025.0 will require Intel(R) Advanced Vector Extensions (Intel(R) AVX) instructions.\n",
      "Intel MKL WARNING: Support of Intel(R) Streaming SIMD Extensions 4.2 (Intel(R) SSE4.2) enabled only processors has been deprecated. Intel oneAPI Math Kernel Library 2025.0 will require Intel(R) Advanced Vector Extensions (Intel(R) AVX) instructions.\n"
     ]
    },
    {
     "data": {
      "application/vnd.jupyter.widget-view+json": {
       "model_id": "",
       "version_major": 2,
       "version_minor": 0
      },
      "text/plain": [
       "Validation: |                                             | 0/? [00:00<?, ?it/s]"
      ]
     },
     "metadata": {},
     "output_type": "display_data"
    },
    {
     "name": "stdout",
     "output_type": "stream",
     "text": [
      "Intel MKL WARNING: Support of Intel(R) Streaming SIMD Extensions 4.2 (Intel(R) SSE4.2) enabled only processors has been deprecated. Intel oneAPI Math Kernel Library 2025.0 will require Intel(R) Advanced Vector Extensions (Intel(R) AVX) instructions.\n",
      "Intel MKL WARNING: Support of Intel(R) Streaming SIMD Extensions 4.2 (Intel(R) SSE4.2) enabled only processors has been deprecated. Intel oneAPI Math Kernel Library 2025.0 will require Intel(R) Advanced Vector Extensions (Intel(R) AVX) instructions.\n",
      "Intel MKL WARNING: Support of Intel(R) Streaming SIMD Extensions 4.2 (Intel(R) SSE4.2) enabled only processors has been deprecated. Intel oneAPI Math Kernel Library 2025.0 will require Intel(R) Advanced Vector Extensions (Intel(R) AVX) instructions.\n",
      "Intel MKL WARNING: Support of Intel(R) Streaming SIMD Extensions 4.2 (Intel(R) SSE4.2) enabled only processors has been deprecated. Intel oneAPI Math Kernel Library 2025.0 will require Intel(R) Advanced Vector Extensions (Intel(R) AVX) instructions.\n",
      "Intel MKL WARNING: Support of Intel(R) Streaming SIMD Extensions 4.2 (Intel(R) SSE4.2) enabled only processors has been deprecated. Intel oneAPI Math Kernel Library 2025.0 will require Intel(R) Advanced Vector Extensions (Intel(R) AVX) instructions.\n",
      "Intel MKL WARNING: Support of Intel(R) Streaming SIMD Extensions 4.2 (Intel(R) SSE4.2) enabled only processors has been deprecated. Intel oneAPI Math Kernel Library 2025.0 will require Intel(R) Advanced Vector Extensions (Intel(R) AVX) instructions.\n",
      "Intel MKL WARNING: Support of Intel(R) Streaming SIMD Extensions 4.2 (Intel(R) SSE4.2) enabled only processors has been deprecated. Intel oneAPI Math Kernel Library 2025.0 will require Intel(R) Advanced Vector Extensions (Intel(R) AVX) instructions.\n",
      "Intel MKL WARNING: Support of Intel(R) Streaming SIMD Extensions 4.2 (Intel(R) SSE4.2) enabled only processors has been deprecated. Intel oneAPI Math Kernel Library 2025.0 will require Intel(R) Advanced Vector Extensions (Intel(R) AVX) instructions.\n",
      "Intel MKL WARNING: Support of Intel(R) Streaming SIMD Extensions 4.2 (Intel(R) SSE4.2) enabled only processors has been deprecated. Intel oneAPI Math Kernel Library 2025.0 will require Intel(R) Advanced Vector Extensions (Intel(R) AVX) instructions.\n",
      "Intel MKL WARNING: Support of Intel(R) Streaming SIMD Extensions 4.2 (Intel(R) SSE4.2) enabled only processors has been deprecated. Intel oneAPI Math Kernel Library 2025.0 will require Intel(R) Advanced Vector Extensions (Intel(R) AVX) instructions.\n",
      "Intel MKL WARNING: Support of Intel(R) Streaming SIMD Extensions 4.2 (Intel(R) SSE4.2) enabled only processors has been deprecated. Intel oneAPI Math Kernel Library 2025.0 will require Intel(R) Advanced Vector Extensions (Intel(R) AVX) instructions.\n",
      "Intel MKL WARNING: Support of Intel(R) Streaming SIMD Extensions 4.2 (Intel(R) SSE4.2) enabled only processors has been deprecated. Intel oneAPI Math Kernel Library 2025.0 will require Intel(R) Advanced Vector Extensions (Intel(R) AVX) instructions.\n",
      "Intel MKL WARNING: Support of Intel(R) Streaming SIMD Extensions 4.2 (Intel(R) SSE4.2) enabled only processors has been deprecated. Intel oneAPI Math Kernel Library 2025.0 will require Intel(R) Advanced Vector Extensions (Intel(R) AVX) instructions.\n",
      "Intel MKL WARNING: Support of Intel(R) Streaming SIMD Extensions 4.2 (Intel(R) SSE4.2) enabled only processors has been deprecated. Intel oneAPI Math Kernel Library 2025.0 will require Intel(R) Advanced Vector Extensions (Intel(R) AVX) instructions.\n"
     ]
    },
    {
     "data": {
      "application/vnd.jupyter.widget-view+json": {
       "model_id": "",
       "version_major": 2,
       "version_minor": 0
      },
      "text/plain": [
       "Validation: |                                             | 0/? [00:00<?, ?it/s]"
      ]
     },
     "metadata": {},
     "output_type": "display_data"
    },
    {
     "name": "stdout",
     "output_type": "stream",
     "text": [
      "Intel MKL WARNING: Support of Intel(R) Streaming SIMD Extensions 4.2 (Intel(R) SSE4.2) enabled only processors has been deprecated. Intel oneAPI Math Kernel Library 2025.0 will require Intel(R) Advanced Vector Extensions (Intel(R) AVX) instructions.\n",
      "Intel MKL WARNING: Support of Intel(R) Streaming SIMD Extensions 4.2 (Intel(R) SSE4.2) enabled only processors has been deprecated. Intel oneAPI Math Kernel Library 2025.0 will require Intel(R) Advanced Vector Extensions (Intel(R) AVX) instructions.\n",
      "Intel MKL WARNING: Support of Intel(R) Streaming SIMD Extensions 4.2 (Intel(R) SSE4.2) enabled only processors has been deprecated. Intel oneAPI Math Kernel Library 2025.0 will require Intel(R) Advanced Vector Extensions (Intel(R) AVX) instructions.\n",
      "Intel MKL WARNING: Support of Intel(R) Streaming SIMD Extensions 4.2 (Intel(R) SSE4.2) enabled only processors has been deprecated. Intel oneAPI Math Kernel Library 2025.0 will require Intel(R) Advanced Vector Extensions (Intel(R) AVX) instructions.\n",
      "Intel MKL WARNING: Support of Intel(R) Streaming SIMD Extensions 4.2 (Intel(R) SSE4.2) enabled only processors has been deprecated. Intel oneAPI Math Kernel Library 2025.0 will require Intel(R) Advanced Vector Extensions (Intel(R) AVX) instructions.\n",
      "Intel MKL WARNING: Support of Intel(R) Streaming SIMD Extensions 4.2 (Intel(R) SSE4.2) enabled only processors has been deprecated. Intel oneAPI Math Kernel Library 2025.0 will require Intel(R) Advanced Vector Extensions (Intel(R) AVX) instructions.\n",
      "Intel MKL WARNING: Support of Intel(R) Streaming SIMD Extensions 4.2 (Intel(R) SSE4.2) enabled only processors has been deprecated. Intel oneAPI Math Kernel Library 2025.0 will require Intel(R) Advanced Vector Extensions (Intel(R) AVX) instructions.\n",
      "Intel MKL WARNING: Support of Intel(R) Streaming SIMD Extensions 4.2 (Intel(R) SSE4.2) enabled only processors has been deprecated. Intel oneAPI Math Kernel Library 2025.0 will require Intel(R) Advanced Vector Extensions (Intel(R) AVX) instructions.\n",
      "Intel MKL WARNING: Support of Intel(R) Streaming SIMD Extensions 4.2 (Intel(R) SSE4.2) enabled only processors has been deprecated. Intel oneAPI Math Kernel Library 2025.0 will require Intel(R) Advanced Vector Extensions (Intel(R) AVX) instructions.\n",
      "Intel MKL WARNING: Support of Intel(R) Streaming SIMD Extensions 4.2 (Intel(R) SSE4.2) enabled only processors has been deprecated. Intel oneAPI Math Kernel Library 2025.0 will require Intel(R) Advanced Vector Extensions (Intel(R) AVX) instructions.\n",
      "Intel MKL WARNING: Support of Intel(R) Streaming SIMD Extensions 4.2 (Intel(R) SSE4.2) enabled only processors has been deprecated. Intel oneAPI Math Kernel Library 2025.0 will require Intel(R) Advanced Vector Extensions (Intel(R) AVX) instructions.\n",
      "Intel MKL WARNING: Support of Intel(R) Streaming SIMD Extensions 4.2 (Intel(R) SSE4.2) enabled only processors has been deprecated. Intel oneAPI Math Kernel Library 2025.0 will require Intel(R) Advanced Vector Extensions (Intel(R) AVX) instructions.\n",
      "Intel MKL WARNING: Support of Intel(R) Streaming SIMD Extensions 4.2 (Intel(R) SSE4.2) enabled only processors has been deprecated. Intel oneAPI Math Kernel Library 2025.0 will require Intel(R) Advanced Vector Extensions (Intel(R) AVX) instructions.\n",
      "Intel MKL WARNING: Support of Intel(R) Streaming SIMD Extensions 4.2 (Intel(R) SSE4.2) enabled only processors has been deprecated. Intel oneAPI Math Kernel Library 2025.0 will require Intel(R) Advanced Vector Extensions (Intel(R) AVX) instructions.\n"
     ]
    },
    {
     "data": {
      "application/vnd.jupyter.widget-view+json": {
       "model_id": "",
       "version_major": 2,
       "version_minor": 0
      },
      "text/plain": [
       "Validation: |                                             | 0/? [00:00<?, ?it/s]"
      ]
     },
     "metadata": {},
     "output_type": "display_data"
    },
    {
     "name": "stdout",
     "output_type": "stream",
     "text": [
      "Intel MKL WARNING: Support of Intel(R) Streaming SIMD Extensions 4.2 (Intel(R) SSE4.2) enabled only processors has been deprecated. Intel oneAPI Math Kernel Library 2025.0 will require Intel(R) Advanced Vector Extensions (Intel(R) AVX) instructions.\n",
      "Intel MKL WARNING: Support of Intel(R) Streaming SIMD Extensions 4.2 (Intel(R) SSE4.2) enabled only processors has been deprecated. Intel oneAPI Math Kernel Library 2025.0 will require Intel(R) Advanced Vector Extensions (Intel(R) AVX) instructions.\n",
      "Intel MKL WARNING: Support of Intel(R) Streaming SIMD Extensions 4.2 (Intel(R) SSE4.2) enabled only processors has been deprecated. Intel oneAPI Math Kernel Library 2025.0 will require Intel(R) Advanced Vector Extensions (Intel(R) AVX) instructions.\n",
      "Intel MKL WARNING: Support of Intel(R) Streaming SIMD Extensions 4.2 (Intel(R) SSE4.2) enabled only processors has been deprecated. Intel oneAPI Math Kernel Library 2025.0 will require Intel(R) Advanced Vector Extensions (Intel(R) AVX) instructions.\n",
      "Intel MKL WARNING: Support of Intel(R) Streaming SIMD Extensions 4.2 (Intel(R) SSE4.2) enabled only processors has been deprecated. Intel oneAPI Math Kernel Library 2025.0 will require Intel(R) Advanced Vector Extensions (Intel(R) AVX) instructions.\n",
      "Intel MKL WARNING: Support of Intel(R) Streaming SIMD Extensions 4.2 (Intel(R) SSE4.2) enabled only processors has been deprecated. Intel oneAPI Math Kernel Library 2025.0 will require Intel(R) Advanced Vector Extensions (Intel(R) AVX) instructions.\n",
      "Intel MKL WARNING: Support of Intel(R) Streaming SIMD Extensions 4.2 (Intel(R) SSE4.2) enabled only processors has been deprecated. Intel oneAPI Math Kernel Library 2025.0 will require Intel(R) Advanced Vector Extensions (Intel(R) AVX) instructions.\n",
      "Intel MKL WARNING: Support of Intel(R) Streaming SIMD Extensions 4.2 (Intel(R) SSE4.2) enabled only processors has been deprecated. Intel oneAPI Math Kernel Library 2025.0 will require Intel(R) Advanced Vector Extensions (Intel(R) AVX) instructions.\n",
      "Intel MKL WARNING: Support of Intel(R) Streaming SIMD Extensions 4.2 (Intel(R) SSE4.2) enabled only processors has been deprecated. Intel oneAPI Math Kernel Library 2025.0 will require Intel(R) Advanced Vector Extensions (Intel(R) AVX) instructions.\n",
      "Intel MKL WARNING: Support of Intel(R) Streaming SIMD Extensions 4.2 (Intel(R) SSE4.2) enabled only processors has been deprecated. Intel oneAPI Math Kernel Library 2025.0 will require Intel(R) Advanced Vector Extensions (Intel(R) AVX) instructions.\n",
      "Intel MKL WARNING: Support of Intel(R) Streaming SIMD Extensions 4.2 (Intel(R) SSE4.2) enabled only processors has been deprecated. Intel oneAPI Math Kernel Library 2025.0 will require Intel(R) Advanced Vector Extensions (Intel(R) AVX) instructions.\n",
      "Intel MKL WARNING: Support of Intel(R) Streaming SIMD Extensions 4.2 (Intel(R) SSE4.2) enabled only processors has been deprecated. Intel oneAPI Math Kernel Library 2025.0 will require Intel(R) Advanced Vector Extensions (Intel(R) AVX) instructions.\n",
      "Intel MKL WARNING: Support of Intel(R) Streaming SIMD Extensions 4.2 (Intel(R) SSE4.2) enabled only processors has been deprecated. Intel oneAPI Math Kernel Library 2025.0 will require Intel(R) Advanced Vector Extensions (Intel(R) AVX) instructions.\n",
      "Intel MKL WARNING: Support of Intel(R) Streaming SIMD Extensions 4.2 (Intel(R) SSE4.2) enabled only processors has been deprecated. Intel oneAPI Math Kernel Library 2025.0 will require Intel(R) Advanced Vector Extensions (Intel(R) AVX) instructions.\n"
     ]
    },
    {
     "data": {
      "application/vnd.jupyter.widget-view+json": {
       "model_id": "",
       "version_major": 2,
       "version_minor": 0
      },
      "text/plain": [
       "Validation: |                                             | 0/? [00:00<?, ?it/s]"
      ]
     },
     "metadata": {},
     "output_type": "display_data"
    },
    {
     "name": "stdout",
     "output_type": "stream",
     "text": [
      "Intel MKL WARNING: Support of Intel(R) Streaming SIMD Extensions 4.2 (Intel(R) SSE4.2) enabled only processors has been deprecated. Intel oneAPI Math Kernel Library 2025.0 will require Intel(R) Advanced Vector Extensions (Intel(R) AVX) instructions.\n",
      "Intel MKL WARNING: Support of Intel(R) Streaming SIMD Extensions 4.2 (Intel(R) SSE4.2) enabled only processors has been deprecated. Intel oneAPI Math Kernel Library 2025.0 will require Intel(R) Advanced Vector Extensions (Intel(R) AVX) instructions.\n",
      "Intel MKL WARNING: Support of Intel(R) Streaming SIMD Extensions 4.2 (Intel(R) SSE4.2) enabled only processors has been deprecated. Intel oneAPI Math Kernel Library 2025.0 will require Intel(R) Advanced Vector Extensions (Intel(R) AVX) instructions.\n",
      "Intel MKL WARNING: Support of Intel(R) Streaming SIMD Extensions 4.2 (Intel(R) SSE4.2) enabled only processors has been deprecated. Intel oneAPI Math Kernel Library 2025.0 will require Intel(R) Advanced Vector Extensions (Intel(R) AVX) instructions.\n",
      "Intel MKL WARNING: Support of Intel(R) Streaming SIMD Extensions 4.2 (Intel(R) SSE4.2) enabled only processors has been deprecated. Intel oneAPI Math Kernel Library 2025.0 will require Intel(R) Advanced Vector Extensions (Intel(R) AVX) instructions.\n",
      "Intel MKL WARNING: Support of Intel(R) Streaming SIMD Extensions 4.2 (Intel(R) SSE4.2) enabled only processors has been deprecated. Intel oneAPI Math Kernel Library 2025.0 will require Intel(R) Advanced Vector Extensions (Intel(R) AVX) instructions.\n",
      "Intel MKL WARNING: Support of Intel(R) Streaming SIMD Extensions 4.2 (Intel(R) SSE4.2) enabled only processors has been deprecated. Intel oneAPI Math Kernel Library 2025.0 will require Intel(R) Advanced Vector Extensions (Intel(R) AVX) instructions.\n",
      "Intel MKL WARNING: Support of Intel(R) Streaming SIMD Extensions 4.2 (Intel(R) SSE4.2) enabled only processors has been deprecated. Intel oneAPI Math Kernel Library 2025.0 will require Intel(R) Advanced Vector Extensions (Intel(R) AVX) instructions.\n",
      "Intel MKL WARNING: Support of Intel(R) Streaming SIMD Extensions 4.2 (Intel(R) SSE4.2) enabled only processors has been deprecated. Intel oneAPI Math Kernel Library 2025.0 will require Intel(R) Advanced Vector Extensions (Intel(R) AVX) instructions.\n",
      "Intel MKL WARNING: Support of Intel(R) Streaming SIMD Extensions 4.2 (Intel(R) SSE4.2) enabled only processors has been deprecated. Intel oneAPI Math Kernel Library 2025.0 will require Intel(R) Advanced Vector Extensions (Intel(R) AVX) instructions.\n",
      "Intel MKL WARNING: Support of Intel(R) Streaming SIMD Extensions 4.2 (Intel(R) SSE4.2) enabled only processors has been deprecated. Intel oneAPI Math Kernel Library 2025.0 will require Intel(R) Advanced Vector Extensions (Intel(R) AVX) instructions.\n",
      "Intel MKL WARNING: Support of Intel(R) Streaming SIMD Extensions 4.2 (Intel(R) SSE4.2) enabled only processors has been deprecated. Intel oneAPI Math Kernel Library 2025.0 will require Intel(R) Advanced Vector Extensions (Intel(R) AVX) instructions.\n",
      "Intel MKL WARNING: Support of Intel(R) Streaming SIMD Extensions 4.2 (Intel(R) SSE4.2) enabled only processors has been deprecated. Intel oneAPI Math Kernel Library 2025.0 will require Intel(R) Advanced Vector Extensions (Intel(R) AVX) instructions.\n",
      "Intel MKL WARNING: Support of Intel(R) Streaming SIMD Extensions 4.2 (Intel(R) SSE4.2) enabled only processors has been deprecated. Intel oneAPI Math Kernel Library 2025.0 will require Intel(R) Advanced Vector Extensions (Intel(R) AVX) instructions.\n"
     ]
    },
    {
     "data": {
      "application/vnd.jupyter.widget-view+json": {
       "model_id": "",
       "version_major": 2,
       "version_minor": 0
      },
      "text/plain": [
       "Validation: |                                             | 0/? [00:00<?, ?it/s]"
      ]
     },
     "metadata": {},
     "output_type": "display_data"
    },
    {
     "name": "stdout",
     "output_type": "stream",
     "text": [
      "Intel MKL WARNING: Support of Intel(R) Streaming SIMD Extensions 4.2 (Intel(R) SSE4.2) enabled only processors has been deprecated. Intel oneAPI Math Kernel Library 2025.0 will require Intel(R) Advanced Vector Extensions (Intel(R) AVX) instructions.\n",
      "Intel MKL WARNING: Support of Intel(R) Streaming SIMD Extensions 4.2 (Intel(R) SSE4.2) enabled only processors has been deprecated. Intel oneAPI Math Kernel Library 2025.0 will require Intel(R) Advanced Vector Extensions (Intel(R) AVX) instructions.\n",
      "Intel MKL WARNING: Support of Intel(R) Streaming SIMD Extensions 4.2 (Intel(R) SSE4.2) enabled only processors has been deprecated. Intel oneAPI Math Kernel Library 2025.0 will require Intel(R) Advanced Vector Extensions (Intel(R) AVX) instructions.\n",
      "Intel MKL WARNING: Support of Intel(R) Streaming SIMD Extensions 4.2 (Intel(R) SSE4.2) enabled only processors has been deprecated. Intel oneAPI Math Kernel Library 2025.0 will require Intel(R) Advanced Vector Extensions (Intel(R) AVX) instructions.\n",
      "Intel MKL WARNING: Support of Intel(R) Streaming SIMD Extensions 4.2 (Intel(R) SSE4.2) enabled only processors has been deprecated. Intel oneAPI Math Kernel Library 2025.0 will require Intel(R) Advanced Vector Extensions (Intel(R) AVX) instructions.\n",
      "Intel MKL WARNING: Support of Intel(R) Streaming SIMD Extensions 4.2 (Intel(R) SSE4.2) enabled only processors has been deprecated. Intel oneAPI Math Kernel Library 2025.0 will require Intel(R) Advanced Vector Extensions (Intel(R) AVX) instructions.\n",
      "Intel MKL WARNING: Support of Intel(R) Streaming SIMD Extensions 4.2 (Intel(R) SSE4.2) enabled only processors has been deprecated. Intel oneAPI Math Kernel Library 2025.0 will require Intel(R) Advanced Vector Extensions (Intel(R) AVX) instructions.\n",
      "Intel MKL WARNING: Support of Intel(R) Streaming SIMD Extensions 4.2 (Intel(R) SSE4.2) enabled only processors has been deprecated. Intel oneAPI Math Kernel Library 2025.0 will require Intel(R) Advanced Vector Extensions (Intel(R) AVX) instructions.\n",
      "Intel MKL WARNING: Support of Intel(R) Streaming SIMD Extensions 4.2 (Intel(R) SSE4.2) enabled only processors has been deprecated. Intel oneAPI Math Kernel Library 2025.0 will require Intel(R) Advanced Vector Extensions (Intel(R) AVX) instructions.\n",
      "Intel MKL WARNING: Support of Intel(R) Streaming SIMD Extensions 4.2 (Intel(R) SSE4.2) enabled only processors has been deprecated. Intel oneAPI Math Kernel Library 2025.0 will require Intel(R) Advanced Vector Extensions (Intel(R) AVX) instructions.\n",
      "Intel MKL WARNING: Support of Intel(R) Streaming SIMD Extensions 4.2 (Intel(R) SSE4.2) enabled only processors has been deprecated. Intel oneAPI Math Kernel Library 2025.0 will require Intel(R) Advanced Vector Extensions (Intel(R) AVX) instructions.\n",
      "Intel MKL WARNING: Support of Intel(R) Streaming SIMD Extensions 4.2 (Intel(R) SSE4.2) enabled only processors has been deprecated. Intel oneAPI Math Kernel Library 2025.0 will require Intel(R) Advanced Vector Extensions (Intel(R) AVX) instructions.\n",
      "Intel MKL WARNING: Support of Intel(R) Streaming SIMD Extensions 4.2 (Intel(R) SSE4.2) enabled only processors has been deprecated. Intel oneAPI Math Kernel Library 2025.0 will require Intel(R) Advanced Vector Extensions (Intel(R) AVX) instructions.\n",
      "Intel MKL WARNING: Support of Intel(R) Streaming SIMD Extensions 4.2 (Intel(R) SSE4.2) enabled only processors has been deprecated. Intel oneAPI Math Kernel Library 2025.0 will require Intel(R) Advanced Vector Extensions (Intel(R) AVX) instructions.\n"
     ]
    },
    {
     "data": {
      "application/vnd.jupyter.widget-view+json": {
       "model_id": "",
       "version_major": 2,
       "version_minor": 0
      },
      "text/plain": [
       "Validation: |                                             | 0/? [00:00<?, ?it/s]"
      ]
     },
     "metadata": {},
     "output_type": "display_data"
    },
    {
     "name": "stdout",
     "output_type": "stream",
     "text": [
      "Intel MKL WARNING: Support of Intel(R) Streaming SIMD Extensions 4.2 (Intel(R) SSE4.2) enabled only processors has been deprecated. Intel oneAPI Math Kernel Library 2025.0 will require Intel(R) Advanced Vector Extensions (Intel(R) AVX) instructions.\n",
      "Intel MKL WARNING: Support of Intel(R) Streaming SIMD Extensions 4.2 (Intel(R) SSE4.2) enabled only processors has been deprecated. Intel oneAPI Math Kernel Library 2025.0 will require Intel(R) Advanced Vector Extensions (Intel(R) AVX) instructions.\n",
      "Intel MKL WARNING: Support of Intel(R) Streaming SIMD Extensions 4.2 (Intel(R) SSE4.2) enabled only processors has been deprecated. Intel oneAPI Math Kernel Library 2025.0 will require Intel(R) Advanced Vector Extensions (Intel(R) AVX) instructions.\n",
      "Intel MKL WARNING: Support of Intel(R) Streaming SIMD Extensions 4.2 (Intel(R) SSE4.2) enabled only processors has been deprecated. Intel oneAPI Math Kernel Library 2025.0 will require Intel(R) Advanced Vector Extensions (Intel(R) AVX) instructions.\n",
      "Intel MKL WARNING: Support of Intel(R) Streaming SIMD Extensions 4.2 (Intel(R) SSE4.2) enabled only processors has been deprecated. Intel oneAPI Math Kernel Library 2025.0 will require Intel(R) Advanced Vector Extensions (Intel(R) AVX) instructions.\n",
      "Intel MKL WARNING: Support of Intel(R) Streaming SIMD Extensions 4.2 (Intel(R) SSE4.2) enabled only processors has been deprecated. Intel oneAPI Math Kernel Library 2025.0 will require Intel(R) Advanced Vector Extensions (Intel(R) AVX) instructions.\n",
      "Intel MKL WARNING: Support of Intel(R) Streaming SIMD Extensions 4.2 (Intel(R) SSE4.2) enabled only processors has been deprecated. Intel oneAPI Math Kernel Library 2025.0 will require Intel(R) Advanced Vector Extensions (Intel(R) AVX) instructions.\n",
      "Intel MKL WARNING: Support of Intel(R) Streaming SIMD Extensions 4.2 (Intel(R) SSE4.2) enabled only processors has been deprecated. Intel oneAPI Math Kernel Library 2025.0 will require Intel(R) Advanced Vector Extensions (Intel(R) AVX) instructions.\n",
      "Intel MKL WARNING: Support of Intel(R) Streaming SIMD Extensions 4.2 (Intel(R) SSE4.2) enabled only processors has been deprecated. Intel oneAPI Math Kernel Library 2025.0 will require Intel(R) Advanced Vector Extensions (Intel(R) AVX) instructions.\n",
      "Intel MKL WARNING: Support of Intel(R) Streaming SIMD Extensions 4.2 (Intel(R) SSE4.2) enabled only processors has been deprecated. Intel oneAPI Math Kernel Library 2025.0 will require Intel(R) Advanced Vector Extensions (Intel(R) AVX) instructions.\n",
      "Intel MKL WARNING: Support of Intel(R) Streaming SIMD Extensions 4.2 (Intel(R) SSE4.2) enabled only processors has been deprecated. Intel oneAPI Math Kernel Library 2025.0 will require Intel(R) Advanced Vector Extensions (Intel(R) AVX) instructions.\n",
      "Intel MKL WARNING: Support of Intel(R) Streaming SIMD Extensions 4.2 (Intel(R) SSE4.2) enabled only processors has been deprecated. Intel oneAPI Math Kernel Library 2025.0 will require Intel(R) Advanced Vector Extensions (Intel(R) AVX) instructions.\n",
      "Intel MKL WARNING: Support of Intel(R) Streaming SIMD Extensions 4.2 (Intel(R) SSE4.2) enabled only processors has been deprecated. Intel oneAPI Math Kernel Library 2025.0 will require Intel(R) Advanced Vector Extensions (Intel(R) AVX) instructions.\n",
      "Intel MKL WARNING: Support of Intel(R) Streaming SIMD Extensions 4.2 (Intel(R) SSE4.2) enabled only processors has been deprecated. Intel oneAPI Math Kernel Library 2025.0 will require Intel(R) Advanced Vector Extensions (Intel(R) AVX) instructions.\n"
     ]
    },
    {
     "data": {
      "application/vnd.jupyter.widget-view+json": {
       "model_id": "",
       "version_major": 2,
       "version_minor": 0
      },
      "text/plain": [
       "Validation: |                                             | 0/? [00:00<?, ?it/s]"
      ]
     },
     "metadata": {},
     "output_type": "display_data"
    },
    {
     "name": "stdout",
     "output_type": "stream",
     "text": [
      "Intel MKL WARNING: Support of Intel(R) Streaming SIMD Extensions 4.2 (Intel(R) SSE4.2) enabled only processors has been deprecated. Intel oneAPI Math Kernel Library 2025.0 will require Intel(R) Advanced Vector Extensions (Intel(R) AVX) instructions.\n",
      "Intel MKL WARNING: Support of Intel(R) Streaming SIMD Extensions 4.2 (Intel(R) SSE4.2) enabled only processors has been deprecated. Intel oneAPI Math Kernel Library 2025.0 will require Intel(R) Advanced Vector Extensions (Intel(R) AVX) instructions.\n",
      "Intel MKL WARNING: Support of Intel(R) Streaming SIMD Extensions 4.2 (Intel(R) SSE4.2) enabled only processors has been deprecated. Intel oneAPI Math Kernel Library 2025.0 will require Intel(R) Advanced Vector Extensions (Intel(R) AVX) instructions.\n",
      "Intel MKL WARNING: Support of Intel(R) Streaming SIMD Extensions 4.2 (Intel(R) SSE4.2) enabled only processors has been deprecated. Intel oneAPI Math Kernel Library 2025.0 will require Intel(R) Advanced Vector Extensions (Intel(R) AVX) instructions.\n",
      "Intel MKL WARNING: Support of Intel(R) Streaming SIMD Extensions 4.2 (Intel(R) SSE4.2) enabled only processors has been deprecated. Intel oneAPI Math Kernel Library 2025.0 will require Intel(R) Advanced Vector Extensions (Intel(R) AVX) instructions.\n",
      "Intel MKL WARNING: Support of Intel(R) Streaming SIMD Extensions 4.2 (Intel(R) SSE4.2) enabled only processors has been deprecated. Intel oneAPI Math Kernel Library 2025.0 will require Intel(R) Advanced Vector Extensions (Intel(R) AVX) instructions.\n",
      "Intel MKL WARNING: Support of Intel(R) Streaming SIMD Extensions 4.2 (Intel(R) SSE4.2) enabled only processors has been deprecated. Intel oneAPI Math Kernel Library 2025.0 will require Intel(R) Advanced Vector Extensions (Intel(R) AVX) instructions.\n",
      "Intel MKL WARNING: Support of Intel(R) Streaming SIMD Extensions 4.2 (Intel(R) SSE4.2) enabled only processors has been deprecated. Intel oneAPI Math Kernel Library 2025.0 will require Intel(R) Advanced Vector Extensions (Intel(R) AVX) instructions.\n",
      "Intel MKL WARNING: Support of Intel(R) Streaming SIMD Extensions 4.2 (Intel(R) SSE4.2) enabled only processors has been deprecated. Intel oneAPI Math Kernel Library 2025.0 will require Intel(R) Advanced Vector Extensions (Intel(R) AVX) instructions.\n",
      "Intel MKL WARNING: Support of Intel(R) Streaming SIMD Extensions 4.2 (Intel(R) SSE4.2) enabled only processors has been deprecated. Intel oneAPI Math Kernel Library 2025.0 will require Intel(R) Advanced Vector Extensions (Intel(R) AVX) instructions.\n",
      "Intel MKL WARNING: Support of Intel(R) Streaming SIMD Extensions 4.2 (Intel(R) SSE4.2) enabled only processors has been deprecated. Intel oneAPI Math Kernel Library 2025.0 will require Intel(R) Advanced Vector Extensions (Intel(R) AVX) instructions.\n",
      "Intel MKL WARNING: Support of Intel(R) Streaming SIMD Extensions 4.2 (Intel(R) SSE4.2) enabled only processors has been deprecated. Intel oneAPI Math Kernel Library 2025.0 will require Intel(R) Advanced Vector Extensions (Intel(R) AVX) instructions.\n",
      "Intel MKL WARNING: Support of Intel(R) Streaming SIMD Extensions 4.2 (Intel(R) SSE4.2) enabled only processors has been deprecated. Intel oneAPI Math Kernel Library 2025.0 will require Intel(R) Advanced Vector Extensions (Intel(R) AVX) instructions.\n",
      "Intel MKL WARNING: Support of Intel(R) Streaming SIMD Extensions 4.2 (Intel(R) SSE4.2) enabled only processors has been deprecated. Intel oneAPI Math Kernel Library 2025.0 will require Intel(R) Advanced Vector Extensions (Intel(R) AVX) instructions.\n"
     ]
    },
    {
     "data": {
      "application/vnd.jupyter.widget-view+json": {
       "model_id": "",
       "version_major": 2,
       "version_minor": 0
      },
      "text/plain": [
       "Validation: |                                             | 0/? [00:00<?, ?it/s]"
      ]
     },
     "metadata": {},
     "output_type": "display_data"
    },
    {
     "name": "stdout",
     "output_type": "stream",
     "text": [
      "Intel MKL WARNING: Support of Intel(R) Streaming SIMD Extensions 4.2 (Intel(R) SSE4.2) enabled only processors has been deprecated. Intel oneAPI Math Kernel Library 2025.0 will require Intel(R) Advanced Vector Extensions (Intel(R) AVX) instructions.\n",
      "Intel MKL WARNING: Support of Intel(R) Streaming SIMD Extensions 4.2 (Intel(R) SSE4.2) enabled only processors has been deprecated. Intel oneAPI Math Kernel Library 2025.0 will require Intel(R) Advanced Vector Extensions (Intel(R) AVX) instructions.\n",
      "Intel MKL WARNING: Support of Intel(R) Streaming SIMD Extensions 4.2 (Intel(R) SSE4.2) enabled only processors has been deprecated. Intel oneAPI Math Kernel Library 2025.0 will require Intel(R) Advanced Vector Extensions (Intel(R) AVX) instructions.\n",
      "Intel MKL WARNING: Support of Intel(R) Streaming SIMD Extensions 4.2 (Intel(R) SSE4.2) enabled only processors has been deprecated. Intel oneAPI Math Kernel Library 2025.0 will require Intel(R) Advanced Vector Extensions (Intel(R) AVX) instructions.\n",
      "Intel MKL WARNING: Support of Intel(R) Streaming SIMD Extensions 4.2 (Intel(R) SSE4.2) enabled only processors has been deprecated. Intel oneAPI Math Kernel Library 2025.0 will require Intel(R) Advanced Vector Extensions (Intel(R) AVX) instructions.\n",
      "Intel MKL WARNING: Support of Intel(R) Streaming SIMD Extensions 4.2 (Intel(R) SSE4.2) enabled only processors has been deprecated. Intel oneAPI Math Kernel Library 2025.0 will require Intel(R) Advanced Vector Extensions (Intel(R) AVX) instructions.\n",
      "Intel MKL WARNING: Support of Intel(R) Streaming SIMD Extensions 4.2 (Intel(R) SSE4.2) enabled only processors has been deprecated. Intel oneAPI Math Kernel Library 2025.0 will require Intel(R) Advanced Vector Extensions (Intel(R) AVX) instructions.\n",
      "Intel MKL WARNING: Support of Intel(R) Streaming SIMD Extensions 4.2 (Intel(R) SSE4.2) enabled only processors has been deprecated. Intel oneAPI Math Kernel Library 2025.0 will require Intel(R) Advanced Vector Extensions (Intel(R) AVX) instructions.\n",
      "Intel MKL WARNING: Support of Intel(R) Streaming SIMD Extensions 4.2 (Intel(R) SSE4.2) enabled only processors has been deprecated. Intel oneAPI Math Kernel Library 2025.0 will require Intel(R) Advanced Vector Extensions (Intel(R) AVX) instructions.\n",
      "Intel MKL WARNING: Support of Intel(R) Streaming SIMD Extensions 4.2 (Intel(R) SSE4.2) enabled only processors has been deprecated. Intel oneAPI Math Kernel Library 2025.0 will require Intel(R) Advanced Vector Extensions (Intel(R) AVX) instructions.\n",
      "Intel MKL WARNING: Support of Intel(R) Streaming SIMD Extensions 4.2 (Intel(R) SSE4.2) enabled only processors has been deprecated. Intel oneAPI Math Kernel Library 2025.0 will require Intel(R) Advanced Vector Extensions (Intel(R) AVX) instructions.\n",
      "Intel MKL WARNING: Support of Intel(R) Streaming SIMD Extensions 4.2 (Intel(R) SSE4.2) enabled only processors has been deprecated. Intel oneAPI Math Kernel Library 2025.0 will require Intel(R) Advanced Vector Extensions (Intel(R) AVX) instructions.\n",
      "Intel MKL WARNING: Support of Intel(R) Streaming SIMD Extensions 4.2 (Intel(R) SSE4.2) enabled only processors has been deprecated. Intel oneAPI Math Kernel Library 2025.0 will require Intel(R) Advanced Vector Extensions (Intel(R) AVX) instructions.\n",
      "Intel MKL WARNING: Support of Intel(R) Streaming SIMD Extensions 4.2 (Intel(R) SSE4.2) enabled only processors has been deprecated. Intel oneAPI Math Kernel Library 2025.0 will require Intel(R) Advanced Vector Extensions (Intel(R) AVX) instructions.\n"
     ]
    },
    {
     "data": {
      "application/vnd.jupyter.widget-view+json": {
       "model_id": "",
       "version_major": 2,
       "version_minor": 0
      },
      "text/plain": [
       "Validation: |                                             | 0/? [00:00<?, ?it/s]"
      ]
     },
     "metadata": {},
     "output_type": "display_data"
    },
    {
     "name": "stdout",
     "output_type": "stream",
     "text": [
      "Intel MKL WARNING: Support of Intel(R) Streaming SIMD Extensions 4.2 (Intel(R) SSE4.2) enabled only processors has been deprecated. Intel oneAPI Math Kernel Library 2025.0 will require Intel(R) Advanced Vector Extensions (Intel(R) AVX) instructions.\n",
      "Intel MKL WARNING: Support of Intel(R) Streaming SIMD Extensions 4.2 (Intel(R) SSE4.2) enabled only processors has been deprecated. Intel oneAPI Math Kernel Library 2025.0 will require Intel(R) Advanced Vector Extensions (Intel(R) AVX) instructions.\n",
      "Intel MKL WARNING: Support of Intel(R) Streaming SIMD Extensions 4.2 (Intel(R) SSE4.2) enabled only processors has been deprecated. Intel oneAPI Math Kernel Library 2025.0 will require Intel(R) Advanced Vector Extensions (Intel(R) AVX) instructions.\n",
      "Intel MKL WARNING: Support of Intel(R) Streaming SIMD Extensions 4.2 (Intel(R) SSE4.2) enabled only processors has been deprecated. Intel oneAPI Math Kernel Library 2025.0 will require Intel(R) Advanced Vector Extensions (Intel(R) AVX) instructions.\n",
      "Intel MKL WARNING: Support of Intel(R) Streaming SIMD Extensions 4.2 (Intel(R) SSE4.2) enabled only processors has been deprecated. Intel oneAPI Math Kernel Library 2025.0 will require Intel(R) Advanced Vector Extensions (Intel(R) AVX) instructions.\n",
      "Intel MKL WARNING: Support of Intel(R) Streaming SIMD Extensions 4.2 (Intel(R) SSE4.2) enabled only processors has been deprecated. Intel oneAPI Math Kernel Library 2025.0 will require Intel(R) Advanced Vector Extensions (Intel(R) AVX) instructions.\n",
      "Intel MKL WARNING: Support of Intel(R) Streaming SIMD Extensions 4.2 (Intel(R) SSE4.2) enabled only processors has been deprecated. Intel oneAPI Math Kernel Library 2025.0 will require Intel(R) Advanced Vector Extensions (Intel(R) AVX) instructions.\n",
      "Intel MKL WARNING: Support of Intel(R) Streaming SIMD Extensions 4.2 (Intel(R) SSE4.2) enabled only processors has been deprecated. Intel oneAPI Math Kernel Library 2025.0 will require Intel(R) Advanced Vector Extensions (Intel(R) AVX) instructions.\n",
      "Intel MKL WARNING: Support of Intel(R) Streaming SIMD Extensions 4.2 (Intel(R) SSE4.2) enabled only processors has been deprecated. Intel oneAPI Math Kernel Library 2025.0 will require Intel(R) Advanced Vector Extensions (Intel(R) AVX) instructions.\n",
      "Intel MKL WARNING: Support of Intel(R) Streaming SIMD Extensions 4.2 (Intel(R) SSE4.2) enabled only processors has been deprecated. Intel oneAPI Math Kernel Library 2025.0 will require Intel(R) Advanced Vector Extensions (Intel(R) AVX) instructions.\n",
      "Intel MKL WARNING: Support of Intel(R) Streaming SIMD Extensions 4.2 (Intel(R) SSE4.2) enabled only processors has been deprecated. Intel oneAPI Math Kernel Library 2025.0 will require Intel(R) Advanced Vector Extensions (Intel(R) AVX) instructions.\n",
      "Intel MKL WARNING: Support of Intel(R) Streaming SIMD Extensions 4.2 (Intel(R) SSE4.2) enabled only processors has been deprecated. Intel oneAPI Math Kernel Library 2025.0 will require Intel(R) Advanced Vector Extensions (Intel(R) AVX) instructions.\n",
      "Intel MKL WARNING: Support of Intel(R) Streaming SIMD Extensions 4.2 (Intel(R) SSE4.2) enabled only processors has been deprecated. Intel oneAPI Math Kernel Library 2025.0 will require Intel(R) Advanced Vector Extensions (Intel(R) AVX) instructions.\n",
      "Intel MKL WARNING: Support of Intel(R) Streaming SIMD Extensions 4.2 (Intel(R) SSE4.2) enabled only processors has been deprecated. Intel oneAPI Math Kernel Library 2025.0 will require Intel(R) Advanced Vector Extensions (Intel(R) AVX) instructions.\n"
     ]
    },
    {
     "data": {
      "application/vnd.jupyter.widget-view+json": {
       "model_id": "",
       "version_major": 2,
       "version_minor": 0
      },
      "text/plain": [
       "Validation: |                                             | 0/? [00:00<?, ?it/s]"
      ]
     },
     "metadata": {},
     "output_type": "display_data"
    },
    {
     "name": "stdout",
     "output_type": "stream",
     "text": [
      "Intel MKL WARNING: Support of Intel(R) Streaming SIMD Extensions 4.2 (Intel(R) SSE4.2) enabled only processors has been deprecated. Intel oneAPI Math Kernel Library 2025.0 will require Intel(R) Advanced Vector Extensions (Intel(R) AVX) instructions.\n",
      "Intel MKL WARNING: Support of Intel(R) Streaming SIMD Extensions 4.2 (Intel(R) SSE4.2) enabled only processors has been deprecated. Intel oneAPI Math Kernel Library 2025.0 will require Intel(R) Advanced Vector Extensions (Intel(R) AVX) instructions.\n",
      "Intel MKL WARNING: Support of Intel(R) Streaming SIMD Extensions 4.2 (Intel(R) SSE4.2) enabled only processors has been deprecated. Intel oneAPI Math Kernel Library 2025.0 will require Intel(R) Advanced Vector Extensions (Intel(R) AVX) instructions.\n",
      "Intel MKL WARNING: Support of Intel(R) Streaming SIMD Extensions 4.2 (Intel(R) SSE4.2) enabled only processors has been deprecated. Intel oneAPI Math Kernel Library 2025.0 will require Intel(R) Advanced Vector Extensions (Intel(R) AVX) instructions.\n",
      "Intel MKL WARNING: Support of Intel(R) Streaming SIMD Extensions 4.2 (Intel(R) SSE4.2) enabled only processors has been deprecated. Intel oneAPI Math Kernel Library 2025.0 will require Intel(R) Advanced Vector Extensions (Intel(R) AVX) instructions.\n",
      "Intel MKL WARNING: Support of Intel(R) Streaming SIMD Extensions 4.2 (Intel(R) SSE4.2) enabled only processors has been deprecated. Intel oneAPI Math Kernel Library 2025.0 will require Intel(R) Advanced Vector Extensions (Intel(R) AVX) instructions.\n",
      "Intel MKL WARNING: Support of Intel(R) Streaming SIMD Extensions 4.2 (Intel(R) SSE4.2) enabled only processors has been deprecated. Intel oneAPI Math Kernel Library 2025.0 will require Intel(R) Advanced Vector Extensions (Intel(R) AVX) instructions.\n",
      "Intel MKL WARNING: Support of Intel(R) Streaming SIMD Extensions 4.2 (Intel(R) SSE4.2) enabled only processors has been deprecated. Intel oneAPI Math Kernel Library 2025.0 will require Intel(R) Advanced Vector Extensions (Intel(R) AVX) instructions.\n",
      "Intel MKL WARNING: Support of Intel(R) Streaming SIMD Extensions 4.2 (Intel(R) SSE4.2) enabled only processors has been deprecated. Intel oneAPI Math Kernel Library 2025.0 will require Intel(R) Advanced Vector Extensions (Intel(R) AVX) instructions.\n",
      "Intel MKL WARNING: Support of Intel(R) Streaming SIMD Extensions 4.2 (Intel(R) SSE4.2) enabled only processors has been deprecated. Intel oneAPI Math Kernel Library 2025.0 will require Intel(R) Advanced Vector Extensions (Intel(R) AVX) instructions.\n",
      "Intel MKL WARNING: Support of Intel(R) Streaming SIMD Extensions 4.2 (Intel(R) SSE4.2) enabled only processors has been deprecated. Intel oneAPI Math Kernel Library 2025.0 will require Intel(R) Advanced Vector Extensions (Intel(R) AVX) instructions.\n",
      "Intel MKL WARNING: Support of Intel(R) Streaming SIMD Extensions 4.2 (Intel(R) SSE4.2) enabled only processors has been deprecated. Intel oneAPI Math Kernel Library 2025.0 will require Intel(R) Advanced Vector Extensions (Intel(R) AVX) instructions.\n",
      "Intel MKL WARNING: Support of Intel(R) Streaming SIMD Extensions 4.2 (Intel(R) SSE4.2) enabled only processors has been deprecated. Intel oneAPI Math Kernel Library 2025.0 will require Intel(R) Advanced Vector Extensions (Intel(R) AVX) instructions.\n",
      "Intel MKL WARNING: Support of Intel(R) Streaming SIMD Extensions 4.2 (Intel(R) SSE4.2) enabled only processors has been deprecated. Intel oneAPI Math Kernel Library 2025.0 will require Intel(R) Advanced Vector Extensions (Intel(R) AVX) instructions.\n"
     ]
    },
    {
     "data": {
      "application/vnd.jupyter.widget-view+json": {
       "model_id": "",
       "version_major": 2,
       "version_minor": 0
      },
      "text/plain": [
       "Validation: |                                             | 0/? [00:00<?, ?it/s]"
      ]
     },
     "metadata": {},
     "output_type": "display_data"
    },
    {
     "name": "stdout",
     "output_type": "stream",
     "text": [
      "Intel MKL WARNING: Support of Intel(R) Streaming SIMD Extensions 4.2 (Intel(R) SSE4.2) enabled only processors has been deprecated. Intel oneAPI Math Kernel Library 2025.0 will require Intel(R) Advanced Vector Extensions (Intel(R) AVX) instructions.\n",
      "Intel MKL WARNING: Support of Intel(R) Streaming SIMD Extensions 4.2 (Intel(R) SSE4.2) enabled only processors has been deprecated. Intel oneAPI Math Kernel Library 2025.0 will require Intel(R) Advanced Vector Extensions (Intel(R) AVX) instructions.\n",
      "Intel MKL WARNING: Support of Intel(R) Streaming SIMD Extensions 4.2 (Intel(R) SSE4.2) enabled only processors has been deprecated. Intel oneAPI Math Kernel Library 2025.0 will require Intel(R) Advanced Vector Extensions (Intel(R) AVX) instructions.\n",
      "Intel MKL WARNING: Support of Intel(R) Streaming SIMD Extensions 4.2 (Intel(R) SSE4.2) enabled only processors has been deprecated. Intel oneAPI Math Kernel Library 2025.0 will require Intel(R) Advanced Vector Extensions (Intel(R) AVX) instructions.\n",
      "Intel MKL WARNING: Support of Intel(R) Streaming SIMD Extensions 4.2 (Intel(R) SSE4.2) enabled only processors has been deprecated. Intel oneAPI Math Kernel Library 2025.0 will require Intel(R) Advanced Vector Extensions (Intel(R) AVX) instructions.\n",
      "Intel MKL WARNING: Support of Intel(R) Streaming SIMD Extensions 4.2 (Intel(R) SSE4.2) enabled only processors has been deprecated. Intel oneAPI Math Kernel Library 2025.0 will require Intel(R) Advanced Vector Extensions (Intel(R) AVX) instructions.\n",
      "Intel MKL WARNING: Support of Intel(R) Streaming SIMD Extensions 4.2 (Intel(R) SSE4.2) enabled only processors has been deprecated. Intel oneAPI Math Kernel Library 2025.0 will require Intel(R) Advanced Vector Extensions (Intel(R) AVX) instructions.\n",
      "Intel MKL WARNING: Support of Intel(R) Streaming SIMD Extensions 4.2 (Intel(R) SSE4.2) enabled only processors has been deprecated. Intel oneAPI Math Kernel Library 2025.0 will require Intel(R) Advanced Vector Extensions (Intel(R) AVX) instructions.\n",
      "Intel MKL WARNING: Support of Intel(R) Streaming SIMD Extensions 4.2 (Intel(R) SSE4.2) enabled only processors has been deprecated. Intel oneAPI Math Kernel Library 2025.0 will require Intel(R) Advanced Vector Extensions (Intel(R) AVX) instructions.\n",
      "Intel MKL WARNING: Support of Intel(R) Streaming SIMD Extensions 4.2 (Intel(R) SSE4.2) enabled only processors has been deprecated. Intel oneAPI Math Kernel Library 2025.0 will require Intel(R) Advanced Vector Extensions (Intel(R) AVX) instructions.\n",
      "Intel MKL WARNING: Support of Intel(R) Streaming SIMD Extensions 4.2 (Intel(R) SSE4.2) enabled only processors has been deprecated. Intel oneAPI Math Kernel Library 2025.0 will require Intel(R) Advanced Vector Extensions (Intel(R) AVX) instructions.\n",
      "Intel MKL WARNING: Support of Intel(R) Streaming SIMD Extensions 4.2 (Intel(R) SSE4.2) enabled only processors has been deprecated. Intel oneAPI Math Kernel Library 2025.0 will require Intel(R) Advanced Vector Extensions (Intel(R) AVX) instructions.\n",
      "Intel MKL WARNING: Support of Intel(R) Streaming SIMD Extensions 4.2 (Intel(R) SSE4.2) enabled only processors has been deprecated. Intel oneAPI Math Kernel Library 2025.0 will require Intel(R) Advanced Vector Extensions (Intel(R) AVX) instructions.\n",
      "Intel MKL WARNING: Support of Intel(R) Streaming SIMD Extensions 4.2 (Intel(R) SSE4.2) enabled only processors has been deprecated. Intel oneAPI Math Kernel Library 2025.0 will require Intel(R) Advanced Vector Extensions (Intel(R) AVX) instructions.\n"
     ]
    },
    {
     "data": {
      "application/vnd.jupyter.widget-view+json": {
       "model_id": "",
       "version_major": 2,
       "version_minor": 0
      },
      "text/plain": [
       "Validation: |                                             | 0/? [00:00<?, ?it/s]"
      ]
     },
     "metadata": {},
     "output_type": "display_data"
    },
    {
     "name": "stdout",
     "output_type": "stream",
     "text": [
      "Intel MKL WARNING: Support of Intel(R) Streaming SIMD Extensions 4.2 (Intel(R) SSE4.2) enabled only processors has been deprecated. Intel oneAPI Math Kernel Library 2025.0 will require Intel(R) Advanced Vector Extensions (Intel(R) AVX) instructions.\n",
      "Intel MKL WARNING: Support of Intel(R) Streaming SIMD Extensions 4.2 (Intel(R) SSE4.2) enabled only processors has been deprecated. Intel oneAPI Math Kernel Library 2025.0 will require Intel(R) Advanced Vector Extensions (Intel(R) AVX) instructions.\n",
      "Intel MKL WARNING: Support of Intel(R) Streaming SIMD Extensions 4.2 (Intel(R) SSE4.2) enabled only processors has been deprecated. Intel oneAPI Math Kernel Library 2025.0 will require Intel(R) Advanced Vector Extensions (Intel(R) AVX) instructions.\n",
      "Intel MKL WARNING: Support of Intel(R) Streaming SIMD Extensions 4.2 (Intel(R) SSE4.2) enabled only processors has been deprecated. Intel oneAPI Math Kernel Library 2025.0 will require Intel(R) Advanced Vector Extensions (Intel(R) AVX) instructions.\n",
      "Intel MKL WARNING: Support of Intel(R) Streaming SIMD Extensions 4.2 (Intel(R) SSE4.2) enabled only processors has been deprecated. Intel oneAPI Math Kernel Library 2025.0 will require Intel(R) Advanced Vector Extensions (Intel(R) AVX) instructions.\n",
      "Intel MKL WARNING: Support of Intel(R) Streaming SIMD Extensions 4.2 (Intel(R) SSE4.2) enabled only processors has been deprecated. Intel oneAPI Math Kernel Library 2025.0 will require Intel(R) Advanced Vector Extensions (Intel(R) AVX) instructions.\n",
      "Intel MKL WARNING: Support of Intel(R) Streaming SIMD Extensions 4.2 (Intel(R) SSE4.2) enabled only processors has been deprecated. Intel oneAPI Math Kernel Library 2025.0 will require Intel(R) Advanced Vector Extensions (Intel(R) AVX) instructions.\n",
      "Intel MKL WARNING: Support of Intel(R) Streaming SIMD Extensions 4.2 (Intel(R) SSE4.2) enabled only processors has been deprecated. Intel oneAPI Math Kernel Library 2025.0 will require Intel(R) Advanced Vector Extensions (Intel(R) AVX) instructions.\n",
      "Intel MKL WARNING: Support of Intel(R) Streaming SIMD Extensions 4.2 (Intel(R) SSE4.2) enabled only processors has been deprecated. Intel oneAPI Math Kernel Library 2025.0 will require Intel(R) Advanced Vector Extensions (Intel(R) AVX) instructions.\n",
      "Intel MKL WARNING: Support of Intel(R) Streaming SIMD Extensions 4.2 (Intel(R) SSE4.2) enabled only processors has been deprecated. Intel oneAPI Math Kernel Library 2025.0 will require Intel(R) Advanced Vector Extensions (Intel(R) AVX) instructions.\n",
      "Intel MKL WARNING: Support of Intel(R) Streaming SIMD Extensions 4.2 (Intel(R) SSE4.2) enabled only processors has been deprecated. Intel oneAPI Math Kernel Library 2025.0 will require Intel(R) Advanced Vector Extensions (Intel(R) AVX) instructions.\n",
      "Intel MKL WARNING: Support of Intel(R) Streaming SIMD Extensions 4.2 (Intel(R) SSE4.2) enabled only processors has been deprecated. Intel oneAPI Math Kernel Library 2025.0 will require Intel(R) Advanced Vector Extensions (Intel(R) AVX) instructions.\n",
      "Intel MKL WARNING: Support of Intel(R) Streaming SIMD Extensions 4.2 (Intel(R) SSE4.2) enabled only processors has been deprecated. Intel oneAPI Math Kernel Library 2025.0 will require Intel(R) Advanced Vector Extensions (Intel(R) AVX) instructions.\n",
      "Intel MKL WARNING: Support of Intel(R) Streaming SIMD Extensions 4.2 (Intel(R) SSE4.2) enabled only processors has been deprecated. Intel oneAPI Math Kernel Library 2025.0 will require Intel(R) Advanced Vector Extensions (Intel(R) AVX) instructions.\n"
     ]
    },
    {
     "data": {
      "application/vnd.jupyter.widget-view+json": {
       "model_id": "",
       "version_major": 2,
       "version_minor": 0
      },
      "text/plain": [
       "Validation: |                                             | 0/? [00:00<?, ?it/s]"
      ]
     },
     "metadata": {},
     "output_type": "display_data"
    },
    {
     "name": "stdout",
     "output_type": "stream",
     "text": [
      "Intel MKL WARNING: Support of Intel(R) Streaming SIMD Extensions 4.2 (Intel(R) SSE4.2) enabled only processors has been deprecated. Intel oneAPI Math Kernel Library 2025.0 will require Intel(R) Advanced Vector Extensions (Intel(R) AVX) instructions.\n",
      "Intel MKL WARNING: Support of Intel(R) Streaming SIMD Extensions 4.2 (Intel(R) SSE4.2) enabled only processors has been deprecated. Intel oneAPI Math Kernel Library 2025.0 will require Intel(R) Advanced Vector Extensions (Intel(R) AVX) instructions.\n",
      "Intel MKL WARNING: Support of Intel(R) Streaming SIMD Extensions 4.2 (Intel(R) SSE4.2) enabled only processors has been deprecated. Intel oneAPI Math Kernel Library 2025.0 will require Intel(R) Advanced Vector Extensions (Intel(R) AVX) instructions.\n",
      "Intel MKL WARNING: Support of Intel(R) Streaming SIMD Extensions 4.2 (Intel(R) SSE4.2) enabled only processors has been deprecated. Intel oneAPI Math Kernel Library 2025.0 will require Intel(R) Advanced Vector Extensions (Intel(R) AVX) instructions.\n",
      "Intel MKL WARNING: Support of Intel(R) Streaming SIMD Extensions 4.2 (Intel(R) SSE4.2) enabled only processors has been deprecated. Intel oneAPI Math Kernel Library 2025.0 will require Intel(R) Advanced Vector Extensions (Intel(R) AVX) instructions.\n",
      "Intel MKL WARNING: Support of Intel(R) Streaming SIMD Extensions 4.2 (Intel(R) SSE4.2) enabled only processors has been deprecated. Intel oneAPI Math Kernel Library 2025.0 will require Intel(R) Advanced Vector Extensions (Intel(R) AVX) instructions.\n",
      "Intel MKL WARNING: Support of Intel(R) Streaming SIMD Extensions 4.2 (Intel(R) SSE4.2) enabled only processors has been deprecated. Intel oneAPI Math Kernel Library 2025.0 will require Intel(R) Advanced Vector Extensions (Intel(R) AVX) instructions.\n",
      "Intel MKL WARNING: Support of Intel(R) Streaming SIMD Extensions 4.2 (Intel(R) SSE4.2) enabled only processors has been deprecated. Intel oneAPI Math Kernel Library 2025.0 will require Intel(R) Advanced Vector Extensions (Intel(R) AVX) instructions.\n",
      "Intel MKL WARNING: Support of Intel(R) Streaming SIMD Extensions 4.2 (Intel(R) SSE4.2) enabled only processors has been deprecated. Intel oneAPI Math Kernel Library 2025.0 will require Intel(R) Advanced Vector Extensions (Intel(R) AVX) instructions.\n",
      "Intel MKL WARNING: Support of Intel(R) Streaming SIMD Extensions 4.2 (Intel(R) SSE4.2) enabled only processors has been deprecated. Intel oneAPI Math Kernel Library 2025.0 will require Intel(R) Advanced Vector Extensions (Intel(R) AVX) instructions.\n",
      "Intel MKL WARNING: Support of Intel(R) Streaming SIMD Extensions 4.2 (Intel(R) SSE4.2) enabled only processors has been deprecated. Intel oneAPI Math Kernel Library 2025.0 will require Intel(R) Advanced Vector Extensions (Intel(R) AVX) instructions.\n",
      "Intel MKL WARNING: Support of Intel(R) Streaming SIMD Extensions 4.2 (Intel(R) SSE4.2) enabled only processors has been deprecated. Intel oneAPI Math Kernel Library 2025.0 will require Intel(R) Advanced Vector Extensions (Intel(R) AVX) instructions.\n",
      "Intel MKL WARNING: Support of Intel(R) Streaming SIMD Extensions 4.2 (Intel(R) SSE4.2) enabled only processors has been deprecated. Intel oneAPI Math Kernel Library 2025.0 will require Intel(R) Advanced Vector Extensions (Intel(R) AVX) instructions.\n",
      "Intel MKL WARNING: Support of Intel(R) Streaming SIMD Extensions 4.2 (Intel(R) SSE4.2) enabled only processors has been deprecated. Intel oneAPI Math Kernel Library 2025.0 will require Intel(R) Advanced Vector Extensions (Intel(R) AVX) instructions.\n"
     ]
    },
    {
     "data": {
      "application/vnd.jupyter.widget-view+json": {
       "model_id": "",
       "version_major": 2,
       "version_minor": 0
      },
      "text/plain": [
       "Validation: |                                             | 0/? [00:00<?, ?it/s]"
      ]
     },
     "metadata": {},
     "output_type": "display_data"
    },
    {
     "name": "stdout",
     "output_type": "stream",
     "text": [
      "Intel MKL WARNING: Support of Intel(R) Streaming SIMD Extensions 4.2 (Intel(R) SSE4.2) enabled only processors has been deprecated. Intel oneAPI Math Kernel Library 2025.0 will require Intel(R) Advanced Vector Extensions (Intel(R) AVX) instructions.\n",
      "Intel MKL WARNING: Support of Intel(R) Streaming SIMD Extensions 4.2 (Intel(R) SSE4.2) enabled only processors has been deprecated. Intel oneAPI Math Kernel Library 2025.0 will require Intel(R) Advanced Vector Extensions (Intel(R) AVX) instructions.\n",
      "Intel MKL WARNING: Support of Intel(R) Streaming SIMD Extensions 4.2 (Intel(R) SSE4.2) enabled only processors has been deprecated. Intel oneAPI Math Kernel Library 2025.0 will require Intel(R) Advanced Vector Extensions (Intel(R) AVX) instructions.\n",
      "Intel MKL WARNING: Support of Intel(R) Streaming SIMD Extensions 4.2 (Intel(R) SSE4.2) enabled only processors has been deprecated. Intel oneAPI Math Kernel Library 2025.0 will require Intel(R) Advanced Vector Extensions (Intel(R) AVX) instructions.\n",
      "Intel MKL WARNING: Support of Intel(R) Streaming SIMD Extensions 4.2 (Intel(R) SSE4.2) enabled only processors has been deprecated. Intel oneAPI Math Kernel Library 2025.0 will require Intel(R) Advanced Vector Extensions (Intel(R) AVX) instructions.\n",
      "Intel MKL WARNING: Support of Intel(R) Streaming SIMD Extensions 4.2 (Intel(R) SSE4.2) enabled only processors has been deprecated. Intel oneAPI Math Kernel Library 2025.0 will require Intel(R) Advanced Vector Extensions (Intel(R) AVX) instructions.\n",
      "Intel MKL WARNING: Support of Intel(R) Streaming SIMD Extensions 4.2 (Intel(R) SSE4.2) enabled only processors has been deprecated. Intel oneAPI Math Kernel Library 2025.0 will require Intel(R) Advanced Vector Extensions (Intel(R) AVX) instructions.\n",
      "Intel MKL WARNING: Support of Intel(R) Streaming SIMD Extensions 4.2 (Intel(R) SSE4.2) enabled only processors has been deprecated. Intel oneAPI Math Kernel Library 2025.0 will require Intel(R) Advanced Vector Extensions (Intel(R) AVX) instructions.\n",
      "Intel MKL WARNING: Support of Intel(R) Streaming SIMD Extensions 4.2 (Intel(R) SSE4.2) enabled only processors has been deprecated. Intel oneAPI Math Kernel Library 2025.0 will require Intel(R) Advanced Vector Extensions (Intel(R) AVX) instructions.\n",
      "Intel MKL WARNING: Support of Intel(R) Streaming SIMD Extensions 4.2 (Intel(R) SSE4.2) enabled only processors has been deprecated. Intel oneAPI Math Kernel Library 2025.0 will require Intel(R) Advanced Vector Extensions (Intel(R) AVX) instructions.\n",
      "Intel MKL WARNING: Support of Intel(R) Streaming SIMD Extensions 4.2 (Intel(R) SSE4.2) enabled only processors has been deprecated. Intel oneAPI Math Kernel Library 2025.0 will require Intel(R) Advanced Vector Extensions (Intel(R) AVX) instructions.\n",
      "Intel MKL WARNING: Support of Intel(R) Streaming SIMD Extensions 4.2 (Intel(R) SSE4.2) enabled only processors has been deprecated. Intel oneAPI Math Kernel Library 2025.0 will require Intel(R) Advanced Vector Extensions (Intel(R) AVX) instructions.\n",
      "Intel MKL WARNING: Support of Intel(R) Streaming SIMD Extensions 4.2 (Intel(R) SSE4.2) enabled only processors has been deprecated. Intel oneAPI Math Kernel Library 2025.0 will require Intel(R) Advanced Vector Extensions (Intel(R) AVX) instructions.\n",
      "Intel MKL WARNING: Support of Intel(R) Streaming SIMD Extensions 4.2 (Intel(R) SSE4.2) enabled only processors has been deprecated. Intel oneAPI Math Kernel Library 2025.0 will require Intel(R) Advanced Vector Extensions (Intel(R) AVX) instructions.\n"
     ]
    },
    {
     "data": {
      "application/vnd.jupyter.widget-view+json": {
       "model_id": "",
       "version_major": 2,
       "version_minor": 0
      },
      "text/plain": [
       "Validation: |                                             | 0/? [00:00<?, ?it/s]"
      ]
     },
     "metadata": {},
     "output_type": "display_data"
    },
    {
     "name": "stdout",
     "output_type": "stream",
     "text": [
      "Intel MKL WARNING: Support of Intel(R) Streaming SIMD Extensions 4.2 (Intel(R) SSE4.2) enabled only processors has been deprecated. Intel oneAPI Math Kernel Library 2025.0 will require Intel(R) Advanced Vector Extensions (Intel(R) AVX) instructions.\n",
      "Intel MKL WARNING: Support of Intel(R) Streaming SIMD Extensions 4.2 (Intel(R) SSE4.2) enabled only processors has been deprecated. Intel oneAPI Math Kernel Library 2025.0 will require Intel(R) Advanced Vector Extensions (Intel(R) AVX) instructions.\n",
      "Intel MKL WARNING: Support of Intel(R) Streaming SIMD Extensions 4.2 (Intel(R) SSE4.2) enabled only processors has been deprecated. Intel oneAPI Math Kernel Library 2025.0 will require Intel(R) Advanced Vector Extensions (Intel(R) AVX) instructions.\n",
      "Intel MKL WARNING: Support of Intel(R) Streaming SIMD Extensions 4.2 (Intel(R) SSE4.2) enabled only processors has been deprecated. Intel oneAPI Math Kernel Library 2025.0 will require Intel(R) Advanced Vector Extensions (Intel(R) AVX) instructions.\n",
      "Intel MKL WARNING: Support of Intel(R) Streaming SIMD Extensions 4.2 (Intel(R) SSE4.2) enabled only processors has been deprecated. Intel oneAPI Math Kernel Library 2025.0 will require Intel(R) Advanced Vector Extensions (Intel(R) AVX) instructions.\n",
      "Intel MKL WARNING: Support of Intel(R) Streaming SIMD Extensions 4.2 (Intel(R) SSE4.2) enabled only processors has been deprecated. Intel oneAPI Math Kernel Library 2025.0 will require Intel(R) Advanced Vector Extensions (Intel(R) AVX) instructions.\n",
      "Intel MKL WARNING: Support of Intel(R) Streaming SIMD Extensions 4.2 (Intel(R) SSE4.2) enabled only processors has been deprecated. Intel oneAPI Math Kernel Library 2025.0 will require Intel(R) Advanced Vector Extensions (Intel(R) AVX) instructions.\n",
      "Intel MKL WARNING: Support of Intel(R) Streaming SIMD Extensions 4.2 (Intel(R) SSE4.2) enabled only processors has been deprecated. Intel oneAPI Math Kernel Library 2025.0 will require Intel(R) Advanced Vector Extensions (Intel(R) AVX) instructions.\n",
      "Intel MKL WARNING: Support of Intel(R) Streaming SIMD Extensions 4.2 (Intel(R) SSE4.2) enabled only processors has been deprecated. Intel oneAPI Math Kernel Library 2025.0 will require Intel(R) Advanced Vector Extensions (Intel(R) AVX) instructions.\n",
      "Intel MKL WARNING: Support of Intel(R) Streaming SIMD Extensions 4.2 (Intel(R) SSE4.2) enabled only processors has been deprecated. Intel oneAPI Math Kernel Library 2025.0 will require Intel(R) Advanced Vector Extensions (Intel(R) AVX) instructions.\n",
      "Intel MKL WARNING: Support of Intel(R) Streaming SIMD Extensions 4.2 (Intel(R) SSE4.2) enabled only processors has been deprecated. Intel oneAPI Math Kernel Library 2025.0 will require Intel(R) Advanced Vector Extensions (Intel(R) AVX) instructions.\n",
      "Intel MKL WARNING: Support of Intel(R) Streaming SIMD Extensions 4.2 (Intel(R) SSE4.2) enabled only processors has been deprecated. Intel oneAPI Math Kernel Library 2025.0 will require Intel(R) Advanced Vector Extensions (Intel(R) AVX) instructions.\n",
      "Intel MKL WARNING: Support of Intel(R) Streaming SIMD Extensions 4.2 (Intel(R) SSE4.2) enabled only processors has been deprecated. Intel oneAPI Math Kernel Library 2025.0 will require Intel(R) Advanced Vector Extensions (Intel(R) AVX) instructions.\n",
      "Intel MKL WARNING: Support of Intel(R) Streaming SIMD Extensions 4.2 (Intel(R) SSE4.2) enabled only processors has been deprecated. Intel oneAPI Math Kernel Library 2025.0 will require Intel(R) Advanced Vector Extensions (Intel(R) AVX) instructions.\n"
     ]
    },
    {
     "data": {
      "application/vnd.jupyter.widget-view+json": {
       "model_id": "",
       "version_major": 2,
       "version_minor": 0
      },
      "text/plain": [
       "Validation: |                                             | 0/? [00:00<?, ?it/s]"
      ]
     },
     "metadata": {},
     "output_type": "display_data"
    },
    {
     "name": "stdout",
     "output_type": "stream",
     "text": [
      "Intel MKL WARNING: Support of Intel(R) Streaming SIMD Extensions 4.2 (Intel(R) SSE4.2) enabled only processors has been deprecated. Intel oneAPI Math Kernel Library 2025.0 will require Intel(R) Advanced Vector Extensions (Intel(R) AVX) instructions.\n",
      "Intel MKL WARNING: Support of Intel(R) Streaming SIMD Extensions 4.2 (Intel(R) SSE4.2) enabled only processors has been deprecated. Intel oneAPI Math Kernel Library 2025.0 will require Intel(R) Advanced Vector Extensions (Intel(R) AVX) instructions.\n",
      "Intel MKL WARNING: Support of Intel(R) Streaming SIMD Extensions 4.2 (Intel(R) SSE4.2) enabled only processors has been deprecated. Intel oneAPI Math Kernel Library 2025.0 will require Intel(R) Advanced Vector Extensions (Intel(R) AVX) instructions.\n",
      "Intel MKL WARNING: Support of Intel(R) Streaming SIMD Extensions 4.2 (Intel(R) SSE4.2) enabled only processors has been deprecated. Intel oneAPI Math Kernel Library 2025.0 will require Intel(R) Advanced Vector Extensions (Intel(R) AVX) instructions.\n",
      "Intel MKL WARNING: Support of Intel(R) Streaming SIMD Extensions 4.2 (Intel(R) SSE4.2) enabled only processors has been deprecated. Intel oneAPI Math Kernel Library 2025.0 will require Intel(R) Advanced Vector Extensions (Intel(R) AVX) instructions.\n",
      "Intel MKL WARNING: Support of Intel(R) Streaming SIMD Extensions 4.2 (Intel(R) SSE4.2) enabled only processors has been deprecated. Intel oneAPI Math Kernel Library 2025.0 will require Intel(R) Advanced Vector Extensions (Intel(R) AVX) instructions.\n",
      "Intel MKL WARNING: Support of Intel(R) Streaming SIMD Extensions 4.2 (Intel(R) SSE4.2) enabled only processors has been deprecated. Intel oneAPI Math Kernel Library 2025.0 will require Intel(R) Advanced Vector Extensions (Intel(R) AVX) instructions.\n",
      "Intel MKL WARNING: Support of Intel(R) Streaming SIMD Extensions 4.2 (Intel(R) SSE4.2) enabled only processors has been deprecated. Intel oneAPI Math Kernel Library 2025.0 will require Intel(R) Advanced Vector Extensions (Intel(R) AVX) instructions.\n",
      "Intel MKL WARNING: Support of Intel(R) Streaming SIMD Extensions 4.2 (Intel(R) SSE4.2) enabled only processors has been deprecated. Intel oneAPI Math Kernel Library 2025.0 will require Intel(R) Advanced Vector Extensions (Intel(R) AVX) instructions.\n",
      "Intel MKL WARNING: Support of Intel(R) Streaming SIMD Extensions 4.2 (Intel(R) SSE4.2) enabled only processors has been deprecated. Intel oneAPI Math Kernel Library 2025.0 will require Intel(R) Advanced Vector Extensions (Intel(R) AVX) instructions.\n",
      "Intel MKL WARNING: Support of Intel(R) Streaming SIMD Extensions 4.2 (Intel(R) SSE4.2) enabled only processors has been deprecated. Intel oneAPI Math Kernel Library 2025.0 will require Intel(R) Advanced Vector Extensions (Intel(R) AVX) instructions.\n",
      "Intel MKL WARNING: Support of Intel(R) Streaming SIMD Extensions 4.2 (Intel(R) SSE4.2) enabled only processors has been deprecated. Intel oneAPI Math Kernel Library 2025.0 will require Intel(R) Advanced Vector Extensions (Intel(R) AVX) instructions.\n",
      "Intel MKL WARNING: Support of Intel(R) Streaming SIMD Extensions 4.2 (Intel(R) SSE4.2) enabled only processors has been deprecated. Intel oneAPI Math Kernel Library 2025.0 will require Intel(R) Advanced Vector Extensions (Intel(R) AVX) instructions.\n",
      "Intel MKL WARNING: Support of Intel(R) Streaming SIMD Extensions 4.2 (Intel(R) SSE4.2) enabled only processors has been deprecated. Intel oneAPI Math Kernel Library 2025.0 will require Intel(R) Advanced Vector Extensions (Intel(R) AVX) instructions.\n"
     ]
    },
    {
     "data": {
      "application/vnd.jupyter.widget-view+json": {
       "model_id": "",
       "version_major": 2,
       "version_minor": 0
      },
      "text/plain": [
       "Validation: |                                             | 0/? [00:00<?, ?it/s]"
      ]
     },
     "metadata": {},
     "output_type": "display_data"
    },
    {
     "name": "stdout",
     "output_type": "stream",
     "text": [
      "Intel MKL WARNING: Support of Intel(R) Streaming SIMD Extensions 4.2 (Intel(R) SSE4.2) enabled only processors has been deprecated. Intel oneAPI Math Kernel Library 2025.0 will require Intel(R) Advanced Vector Extensions (Intel(R) AVX) instructions.\n",
      "Intel MKL WARNING: Support of Intel(R) Streaming SIMD Extensions 4.2 (Intel(R) SSE4.2) enabled only processors has been deprecated. Intel oneAPI Math Kernel Library 2025.0 will require Intel(R) Advanced Vector Extensions (Intel(R) AVX) instructions.\n",
      "Intel MKL WARNING: Support of Intel(R) Streaming SIMD Extensions 4.2 (Intel(R) SSE4.2) enabled only processors has been deprecated. Intel oneAPI Math Kernel Library 2025.0 will require Intel(R) Advanced Vector Extensions (Intel(R) AVX) instructions.\n",
      "Intel MKL WARNING: Support of Intel(R) Streaming SIMD Extensions 4.2 (Intel(R) SSE4.2) enabled only processors has been deprecated. Intel oneAPI Math Kernel Library 2025.0 will require Intel(R) Advanced Vector Extensions (Intel(R) AVX) instructions.\n",
      "Intel MKL WARNING: Support of Intel(R) Streaming SIMD Extensions 4.2 (Intel(R) SSE4.2) enabled only processors has been deprecated. Intel oneAPI Math Kernel Library 2025.0 will require Intel(R) Advanced Vector Extensions (Intel(R) AVX) instructions.\n",
      "Intel MKL WARNING: Support of Intel(R) Streaming SIMD Extensions 4.2 (Intel(R) SSE4.2) enabled only processors has been deprecated. Intel oneAPI Math Kernel Library 2025.0 will require Intel(R) Advanced Vector Extensions (Intel(R) AVX) instructions.\n",
      "Intel MKL WARNING: Support of Intel(R) Streaming SIMD Extensions 4.2 (Intel(R) SSE4.2) enabled only processors has been deprecated. Intel oneAPI Math Kernel Library 2025.0 will require Intel(R) Advanced Vector Extensions (Intel(R) AVX) instructions.\n",
      "Intel MKL WARNING: Support of Intel(R) Streaming SIMD Extensions 4.2 (Intel(R) SSE4.2) enabled only processors has been deprecated. Intel oneAPI Math Kernel Library 2025.0 will require Intel(R) Advanced Vector Extensions (Intel(R) AVX) instructions.\n",
      "Intel MKL WARNING: Support of Intel(R) Streaming SIMD Extensions 4.2 (Intel(R) SSE4.2) enabled only processors has been deprecated. Intel oneAPI Math Kernel Library 2025.0 will require Intel(R) Advanced Vector Extensions (Intel(R) AVX) instructions.\n",
      "Intel MKL WARNING: Support of Intel(R) Streaming SIMD Extensions 4.2 (Intel(R) SSE4.2) enabled only processors has been deprecated. Intel oneAPI Math Kernel Library 2025.0 will require Intel(R) Advanced Vector Extensions (Intel(R) AVX) instructions.\n",
      "Intel MKL WARNING: Support of Intel(R) Streaming SIMD Extensions 4.2 (Intel(R) SSE4.2) enabled only processors has been deprecated. Intel oneAPI Math Kernel Library 2025.0 will require Intel(R) Advanced Vector Extensions (Intel(R) AVX) instructions.\n",
      "Intel MKL WARNING: Support of Intel(R) Streaming SIMD Extensions 4.2 (Intel(R) SSE4.2) enabled only processors has been deprecated. Intel oneAPI Math Kernel Library 2025.0 will require Intel(R) Advanced Vector Extensions (Intel(R) AVX) instructions.\n",
      "Intel MKL WARNING: Support of Intel(R) Streaming SIMD Extensions 4.2 (Intel(R) SSE4.2) enabled only processors has been deprecated. Intel oneAPI Math Kernel Library 2025.0 will require Intel(R) Advanced Vector Extensions (Intel(R) AVX) instructions.\n",
      "Intel MKL WARNING: Support of Intel(R) Streaming SIMD Extensions 4.2 (Intel(R) SSE4.2) enabled only processors has been deprecated. Intel oneAPI Math Kernel Library 2025.0 will require Intel(R) Advanced Vector Extensions (Intel(R) AVX) instructions.\n"
     ]
    },
    {
     "data": {
      "application/vnd.jupyter.widget-view+json": {
       "model_id": "",
       "version_major": 2,
       "version_minor": 0
      },
      "text/plain": [
       "Validation: |                                             | 0/? [00:00<?, ?it/s]"
      ]
     },
     "metadata": {},
     "output_type": "display_data"
    },
    {
     "name": "stdout",
     "output_type": "stream",
     "text": [
      "Intel MKL WARNING: Support of Intel(R) Streaming SIMD Extensions 4.2 (Intel(R) SSE4.2) enabled only processors has been deprecated. Intel oneAPI Math Kernel Library 2025.0 will require Intel(R) Advanced Vector Extensions (Intel(R) AVX) instructions.\n",
      "Intel MKL WARNING: Support of Intel(R) Streaming SIMD Extensions 4.2 (Intel(R) SSE4.2) enabled only processors has been deprecated. Intel oneAPI Math Kernel Library 2025.0 will require Intel(R) Advanced Vector Extensions (Intel(R) AVX) instructions.\n",
      "Intel MKL WARNING: Support of Intel(R) Streaming SIMD Extensions 4.2 (Intel(R) SSE4.2) enabled only processors has been deprecated. Intel oneAPI Math Kernel Library 2025.0 will require Intel(R) Advanced Vector Extensions (Intel(R) AVX) instructions.\n",
      "Intel MKL WARNING: Support of Intel(R) Streaming SIMD Extensions 4.2 (Intel(R) SSE4.2) enabled only processors has been deprecated. Intel oneAPI Math Kernel Library 2025.0 will require Intel(R) Advanced Vector Extensions (Intel(R) AVX) instructions.\n",
      "Intel MKL WARNING: Support of Intel(R) Streaming SIMD Extensions 4.2 (Intel(R) SSE4.2) enabled only processors has been deprecated. Intel oneAPI Math Kernel Library 2025.0 will require Intel(R) Advanced Vector Extensions (Intel(R) AVX) instructions.\n",
      "Intel MKL WARNING: Support of Intel(R) Streaming SIMD Extensions 4.2 (Intel(R) SSE4.2) enabled only processors has been deprecated. Intel oneAPI Math Kernel Library 2025.0 will require Intel(R) Advanced Vector Extensions (Intel(R) AVX) instructions.\n",
      "Intel MKL WARNING: Support of Intel(R) Streaming SIMD Extensions 4.2 (Intel(R) SSE4.2) enabled only processors has been deprecated. Intel oneAPI Math Kernel Library 2025.0 will require Intel(R) Advanced Vector Extensions (Intel(R) AVX) instructions.\n",
      "Intel MKL WARNING: Support of Intel(R) Streaming SIMD Extensions 4.2 (Intel(R) SSE4.2) enabled only processors has been deprecated. Intel oneAPI Math Kernel Library 2025.0 will require Intel(R) Advanced Vector Extensions (Intel(R) AVX) instructions.\n",
      "Intel MKL WARNING: Support of Intel(R) Streaming SIMD Extensions 4.2 (Intel(R) SSE4.2) enabled only processors has been deprecated. Intel oneAPI Math Kernel Library 2025.0 will require Intel(R) Advanced Vector Extensions (Intel(R) AVX) instructions.\n",
      "Intel MKL WARNING: Support of Intel(R) Streaming SIMD Extensions 4.2 (Intel(R) SSE4.2) enabled only processors has been deprecated. Intel oneAPI Math Kernel Library 2025.0 will require Intel(R) Advanced Vector Extensions (Intel(R) AVX) instructions.\n",
      "Intel MKL WARNING: Support of Intel(R) Streaming SIMD Extensions 4.2 (Intel(R) SSE4.2) enabled only processors has been deprecated. Intel oneAPI Math Kernel Library 2025.0 will require Intel(R) Advanced Vector Extensions (Intel(R) AVX) instructions.\n",
      "Intel MKL WARNING: Support of Intel(R) Streaming SIMD Extensions 4.2 (Intel(R) SSE4.2) enabled only processors has been deprecated. Intel oneAPI Math Kernel Library 2025.0 will require Intel(R) Advanced Vector Extensions (Intel(R) AVX) instructions.\n",
      "Intel MKL WARNING: Support of Intel(R) Streaming SIMD Extensions 4.2 (Intel(R) SSE4.2) enabled only processors has been deprecated. Intel oneAPI Math Kernel Library 2025.0 will require Intel(R) Advanced Vector Extensions (Intel(R) AVX) instructions.\n",
      "Intel MKL WARNING: Support of Intel(R) Streaming SIMD Extensions 4.2 (Intel(R) SSE4.2) enabled only processors has been deprecated. Intel oneAPI Math Kernel Library 2025.0 will require Intel(R) Advanced Vector Extensions (Intel(R) AVX) instructions.\n"
     ]
    },
    {
     "data": {
      "application/vnd.jupyter.widget-view+json": {
       "model_id": "",
       "version_major": 2,
       "version_minor": 0
      },
      "text/plain": [
       "Validation: |                                             | 0/? [00:00<?, ?it/s]"
      ]
     },
     "metadata": {},
     "output_type": "display_data"
    },
    {
     "name": "stdout",
     "output_type": "stream",
     "text": [
      "Intel MKL WARNING: Support of Intel(R) Streaming SIMD Extensions 4.2 (Intel(R) SSE4.2) enabled only processors has been deprecated. Intel oneAPI Math Kernel Library 2025.0 will require Intel(R) Advanced Vector Extensions (Intel(R) AVX) instructions.\n",
      "Intel MKL WARNING: Support of Intel(R) Streaming SIMD Extensions 4.2 (Intel(R) SSE4.2) enabled only processors has been deprecated. Intel oneAPI Math Kernel Library 2025.0 will require Intel(R) Advanced Vector Extensions (Intel(R) AVX) instructions.\n",
      "Intel MKL WARNING: Support of Intel(R) Streaming SIMD Extensions 4.2 (Intel(R) SSE4.2) enabled only processors has been deprecated. Intel oneAPI Math Kernel Library 2025.0 will require Intel(R) Advanced Vector Extensions (Intel(R) AVX) instructions.\n",
      "Intel MKL WARNING: Support of Intel(R) Streaming SIMD Extensions 4.2 (Intel(R) SSE4.2) enabled only processors has been deprecated. Intel oneAPI Math Kernel Library 2025.0 will require Intel(R) Advanced Vector Extensions (Intel(R) AVX) instructions.\n",
      "Intel MKL WARNING: Support of Intel(R) Streaming SIMD Extensions 4.2 (Intel(R) SSE4.2) enabled only processors has been deprecated. Intel oneAPI Math Kernel Library 2025.0 will require Intel(R) Advanced Vector Extensions (Intel(R) AVX) instructions.\n",
      "Intel MKL WARNING: Support of Intel(R) Streaming SIMD Extensions 4.2 (Intel(R) SSE4.2) enabled only processors has been deprecated. Intel oneAPI Math Kernel Library 2025.0 will require Intel(R) Advanced Vector Extensions (Intel(R) AVX) instructions.\n",
      "Intel MKL WARNING: Support of Intel(R) Streaming SIMD Extensions 4.2 (Intel(R) SSE4.2) enabled only processors has been deprecated. Intel oneAPI Math Kernel Library 2025.0 will require Intel(R) Advanced Vector Extensions (Intel(R) AVX) instructions.\n",
      "Intel MKL WARNING: Support of Intel(R) Streaming SIMD Extensions 4.2 (Intel(R) SSE4.2) enabled only processors has been deprecated. Intel oneAPI Math Kernel Library 2025.0 will require Intel(R) Advanced Vector Extensions (Intel(R) AVX) instructions.\n",
      "Intel MKL WARNING: Support of Intel(R) Streaming SIMD Extensions 4.2 (Intel(R) SSE4.2) enabled only processors has been deprecated. Intel oneAPI Math Kernel Library 2025.0 will require Intel(R) Advanced Vector Extensions (Intel(R) AVX) instructions.\n",
      "Intel MKL WARNING: Support of Intel(R) Streaming SIMD Extensions 4.2 (Intel(R) SSE4.2) enabled only processors has been deprecated. Intel oneAPI Math Kernel Library 2025.0 will require Intel(R) Advanced Vector Extensions (Intel(R) AVX) instructions.\n",
      "Intel MKL WARNING: Support of Intel(R) Streaming SIMD Extensions 4.2 (Intel(R) SSE4.2) enabled only processors has been deprecated. Intel oneAPI Math Kernel Library 2025.0 will require Intel(R) Advanced Vector Extensions (Intel(R) AVX) instructions.\n",
      "Intel MKL WARNING: Support of Intel(R) Streaming SIMD Extensions 4.2 (Intel(R) SSE4.2) enabled only processors has been deprecated. Intel oneAPI Math Kernel Library 2025.0 will require Intel(R) Advanced Vector Extensions (Intel(R) AVX) instructions.\n",
      "Intel MKL WARNING: Support of Intel(R) Streaming SIMD Extensions 4.2 (Intel(R) SSE4.2) enabled only processors has been deprecated. Intel oneAPI Math Kernel Library 2025.0 will require Intel(R) Advanced Vector Extensions (Intel(R) AVX) instructions.\n",
      "Intel MKL WARNING: Support of Intel(R) Streaming SIMD Extensions 4.2 (Intel(R) SSE4.2) enabled only processors has been deprecated. Intel oneAPI Math Kernel Library 2025.0 will require Intel(R) Advanced Vector Extensions (Intel(R) AVX) instructions.\n"
     ]
    },
    {
     "data": {
      "application/vnd.jupyter.widget-view+json": {
       "model_id": "",
       "version_major": 2,
       "version_minor": 0
      },
      "text/plain": [
       "Validation: |                                             | 0/? [00:00<?, ?it/s]"
      ]
     },
     "metadata": {},
     "output_type": "display_data"
    },
    {
     "name": "stdout",
     "output_type": "stream",
     "text": [
      "Intel MKL WARNING: Support of Intel(R) Streaming SIMD Extensions 4.2 (Intel(R) SSE4.2) enabled only processors has been deprecated. Intel oneAPI Math Kernel Library 2025.0 will require Intel(R) Advanced Vector Extensions (Intel(R) AVX) instructions.\n",
      "Intel MKL WARNING: Support of Intel(R) Streaming SIMD Extensions 4.2 (Intel(R) SSE4.2) enabled only processors has been deprecated. Intel oneAPI Math Kernel Library 2025.0 will require Intel(R) Advanced Vector Extensions (Intel(R) AVX) instructions.\n",
      "Intel MKL WARNING: Support of Intel(R) Streaming SIMD Extensions 4.2 (Intel(R) SSE4.2) enabled only processors has been deprecated. Intel oneAPI Math Kernel Library 2025.0 will require Intel(R) Advanced Vector Extensions (Intel(R) AVX) instructions.\n",
      "Intel MKL WARNING: Support of Intel(R) Streaming SIMD Extensions 4.2 (Intel(R) SSE4.2) enabled only processors has been deprecated. Intel oneAPI Math Kernel Library 2025.0 will require Intel(R) Advanced Vector Extensions (Intel(R) AVX) instructions.\n",
      "Intel MKL WARNING: Support of Intel(R) Streaming SIMD Extensions 4.2 (Intel(R) SSE4.2) enabled only processors has been deprecated. Intel oneAPI Math Kernel Library 2025.0 will require Intel(R) Advanced Vector Extensions (Intel(R) AVX) instructions.\n",
      "Intel MKL WARNING: Support of Intel(R) Streaming SIMD Extensions 4.2 (Intel(R) SSE4.2) enabled only processors has been deprecated. Intel oneAPI Math Kernel Library 2025.0 will require Intel(R) Advanced Vector Extensions (Intel(R) AVX) instructions.\n",
      "Intel MKL WARNING: Support of Intel(R) Streaming SIMD Extensions 4.2 (Intel(R) SSE4.2) enabled only processors has been deprecated. Intel oneAPI Math Kernel Library 2025.0 will require Intel(R) Advanced Vector Extensions (Intel(R) AVX) instructions.\n",
      "Intel MKL WARNING: Support of Intel(R) Streaming SIMD Extensions 4.2 (Intel(R) SSE4.2) enabled only processors has been deprecated. Intel oneAPI Math Kernel Library 2025.0 will require Intel(R) Advanced Vector Extensions (Intel(R) AVX) instructions.\n",
      "Intel MKL WARNING: Support of Intel(R) Streaming SIMD Extensions 4.2 (Intel(R) SSE4.2) enabled only processors has been deprecated. Intel oneAPI Math Kernel Library 2025.0 will require Intel(R) Advanced Vector Extensions (Intel(R) AVX) instructions.\n",
      "Intel MKL WARNING: Support of Intel(R) Streaming SIMD Extensions 4.2 (Intel(R) SSE4.2) enabled only processors has been deprecated. Intel oneAPI Math Kernel Library 2025.0 will require Intel(R) Advanced Vector Extensions (Intel(R) AVX) instructions.\n",
      "Intel MKL WARNING: Support of Intel(R) Streaming SIMD Extensions 4.2 (Intel(R) SSE4.2) enabled only processors has been deprecated. Intel oneAPI Math Kernel Library 2025.0 will require Intel(R) Advanced Vector Extensions (Intel(R) AVX) instructions.\n",
      "Intel MKL WARNING: Support of Intel(R) Streaming SIMD Extensions 4.2 (Intel(R) SSE4.2) enabled only processors has been deprecated. Intel oneAPI Math Kernel Library 2025.0 will require Intel(R) Advanced Vector Extensions (Intel(R) AVX) instructions.\n",
      "Intel MKL WARNING: Support of Intel(R) Streaming SIMD Extensions 4.2 (Intel(R) SSE4.2) enabled only processors has been deprecated. Intel oneAPI Math Kernel Library 2025.0 will require Intel(R) Advanced Vector Extensions (Intel(R) AVX) instructions.\n",
      "Intel MKL WARNING: Support of Intel(R) Streaming SIMD Extensions 4.2 (Intel(R) SSE4.2) enabled only processors has been deprecated. Intel oneAPI Math Kernel Library 2025.0 will require Intel(R) Advanced Vector Extensions (Intel(R) AVX) instructions.\n"
     ]
    },
    {
     "data": {
      "application/vnd.jupyter.widget-view+json": {
       "model_id": "",
       "version_major": 2,
       "version_minor": 0
      },
      "text/plain": [
       "Validation: |                                             | 0/? [00:00<?, ?it/s]"
      ]
     },
     "metadata": {},
     "output_type": "display_data"
    },
    {
     "name": "stdout",
     "output_type": "stream",
     "text": [
      "Intel MKL WARNING: Support of Intel(R) Streaming SIMD Extensions 4.2 (Intel(R) SSE4.2) enabled only processors has been deprecated. Intel oneAPI Math Kernel Library 2025.0 will require Intel(R) Advanced Vector Extensions (Intel(R) AVX) instructions.\n",
      "Intel MKL WARNING: Support of Intel(R) Streaming SIMD Extensions 4.2 (Intel(R) SSE4.2) enabled only processors has been deprecated. Intel oneAPI Math Kernel Library 2025.0 will require Intel(R) Advanced Vector Extensions (Intel(R) AVX) instructions.\n",
      "Intel MKL WARNING: Support of Intel(R) Streaming SIMD Extensions 4.2 (Intel(R) SSE4.2) enabled only processors has been deprecated. Intel oneAPI Math Kernel Library 2025.0 will require Intel(R) Advanced Vector Extensions (Intel(R) AVX) instructions.\n",
      "Intel MKL WARNING: Support of Intel(R) Streaming SIMD Extensions 4.2 (Intel(R) SSE4.2) enabled only processors has been deprecated. Intel oneAPI Math Kernel Library 2025.0 will require Intel(R) Advanced Vector Extensions (Intel(R) AVX) instructions.\n",
      "Intel MKL WARNING: Support of Intel(R) Streaming SIMD Extensions 4.2 (Intel(R) SSE4.2) enabled only processors has been deprecated. Intel oneAPI Math Kernel Library 2025.0 will require Intel(R) Advanced Vector Extensions (Intel(R) AVX) instructions.\n",
      "Intel MKL WARNING: Support of Intel(R) Streaming SIMD Extensions 4.2 (Intel(R) SSE4.2) enabled only processors has been deprecated. Intel oneAPI Math Kernel Library 2025.0 will require Intel(R) Advanced Vector Extensions (Intel(R) AVX) instructions.\n",
      "Intel MKL WARNING: Support of Intel(R) Streaming SIMD Extensions 4.2 (Intel(R) SSE4.2) enabled only processors has been deprecated. Intel oneAPI Math Kernel Library 2025.0 will require Intel(R) Advanced Vector Extensions (Intel(R) AVX) instructions.\n",
      "Intel MKL WARNING: Support of Intel(R) Streaming SIMD Extensions 4.2 (Intel(R) SSE4.2) enabled only processors has been deprecated. Intel oneAPI Math Kernel Library 2025.0 will require Intel(R) Advanced Vector Extensions (Intel(R) AVX) instructions.\n",
      "Intel MKL WARNING: Support of Intel(R) Streaming SIMD Extensions 4.2 (Intel(R) SSE4.2) enabled only processors has been deprecated. Intel oneAPI Math Kernel Library 2025.0 will require Intel(R) Advanced Vector Extensions (Intel(R) AVX) instructions.\n",
      "Intel MKL WARNING: Support of Intel(R) Streaming SIMD Extensions 4.2 (Intel(R) SSE4.2) enabled only processors has been deprecated. Intel oneAPI Math Kernel Library 2025.0 will require Intel(R) Advanced Vector Extensions (Intel(R) AVX) instructions.\n",
      "Intel MKL WARNING: Support of Intel(R) Streaming SIMD Extensions 4.2 (Intel(R) SSE4.2) enabled only processors has been deprecated. Intel oneAPI Math Kernel Library 2025.0 will require Intel(R) Advanced Vector Extensions (Intel(R) AVX) instructions.\n",
      "Intel MKL WARNING: Support of Intel(R) Streaming SIMD Extensions 4.2 (Intel(R) SSE4.2) enabled only processors has been deprecated. Intel oneAPI Math Kernel Library 2025.0 will require Intel(R) Advanced Vector Extensions (Intel(R) AVX) instructions.\n",
      "Intel MKL WARNING: Support of Intel(R) Streaming SIMD Extensions 4.2 (Intel(R) SSE4.2) enabled only processors has been deprecated. Intel oneAPI Math Kernel Library 2025.0 will require Intel(R) Advanced Vector Extensions (Intel(R) AVX) instructions.\n",
      "Intel MKL WARNING: Support of Intel(R) Streaming SIMD Extensions 4.2 (Intel(R) SSE4.2) enabled only processors has been deprecated. Intel oneAPI Math Kernel Library 2025.0 will require Intel(R) Advanced Vector Extensions (Intel(R) AVX) instructions.\n"
     ]
    },
    {
     "data": {
      "application/vnd.jupyter.widget-view+json": {
       "model_id": "",
       "version_major": 2,
       "version_minor": 0
      },
      "text/plain": [
       "Validation: |                                             | 0/? [00:00<?, ?it/s]"
      ]
     },
     "metadata": {},
     "output_type": "display_data"
    },
    {
     "name": "stdout",
     "output_type": "stream",
     "text": [
      "Intel MKL WARNING: Support of Intel(R) Streaming SIMD Extensions 4.2 (Intel(R) SSE4.2) enabled only processors has been deprecated. Intel oneAPI Math Kernel Library 2025.0 will require Intel(R) Advanced Vector Extensions (Intel(R) AVX) instructions.\n",
      "Intel MKL WARNING: Support of Intel(R) Streaming SIMD Extensions 4.2 (Intel(R) SSE4.2) enabled only processors has been deprecated. Intel oneAPI Math Kernel Library 2025.0 will require Intel(R) Advanced Vector Extensions (Intel(R) AVX) instructions.\n",
      "Intel MKL WARNING: Support of Intel(R) Streaming SIMD Extensions 4.2 (Intel(R) SSE4.2) enabled only processors has been deprecated. Intel oneAPI Math Kernel Library 2025.0 will require Intel(R) Advanced Vector Extensions (Intel(R) AVX) instructions.\n",
      "Intel MKL WARNING: Support of Intel(R) Streaming SIMD Extensions 4.2 (Intel(R) SSE4.2) enabled only processors has been deprecated. Intel oneAPI Math Kernel Library 2025.0 will require Intel(R) Advanced Vector Extensions (Intel(R) AVX) instructions.\n",
      "Intel MKL WARNING: Support of Intel(R) Streaming SIMD Extensions 4.2 (Intel(R) SSE4.2) enabled only processors has been deprecated. Intel oneAPI Math Kernel Library 2025.0 will require Intel(R) Advanced Vector Extensions (Intel(R) AVX) instructions.\n",
      "Intel MKL WARNING: Support of Intel(R) Streaming SIMD Extensions 4.2 (Intel(R) SSE4.2) enabled only processors has been deprecated. Intel oneAPI Math Kernel Library 2025.0 will require Intel(R) Advanced Vector Extensions (Intel(R) AVX) instructions.\n",
      "Intel MKL WARNING: Support of Intel(R) Streaming SIMD Extensions 4.2 (Intel(R) SSE4.2) enabled only processors has been deprecated. Intel oneAPI Math Kernel Library 2025.0 will require Intel(R) Advanced Vector Extensions (Intel(R) AVX) instructions.\n",
      "Intel MKL WARNING: Support of Intel(R) Streaming SIMD Extensions 4.2 (Intel(R) SSE4.2) enabled only processors has been deprecated. Intel oneAPI Math Kernel Library 2025.0 will require Intel(R) Advanced Vector Extensions (Intel(R) AVX) instructions.\n",
      "Intel MKL WARNING: Support of Intel(R) Streaming SIMD Extensions 4.2 (Intel(R) SSE4.2) enabled only processors has been deprecated. Intel oneAPI Math Kernel Library 2025.0 will require Intel(R) Advanced Vector Extensions (Intel(R) AVX) instructions.\n",
      "Intel MKL WARNING: Support of Intel(R) Streaming SIMD Extensions 4.2 (Intel(R) SSE4.2) enabled only processors has been deprecated. Intel oneAPI Math Kernel Library 2025.0 will require Intel(R) Advanced Vector Extensions (Intel(R) AVX) instructions.\n",
      "Intel MKL WARNING: Support of Intel(R) Streaming SIMD Extensions 4.2 (Intel(R) SSE4.2) enabled only processors has been deprecated. Intel oneAPI Math Kernel Library 2025.0 will require Intel(R) Advanced Vector Extensions (Intel(R) AVX) instructions.\n",
      "Intel MKL WARNING: Support of Intel(R) Streaming SIMD Extensions 4.2 (Intel(R) SSE4.2) enabled only processors has been deprecated. Intel oneAPI Math Kernel Library 2025.0 will require Intel(R) Advanced Vector Extensions (Intel(R) AVX) instructions.\n",
      "Intel MKL WARNING: Support of Intel(R) Streaming SIMD Extensions 4.2 (Intel(R) SSE4.2) enabled only processors has been deprecated. Intel oneAPI Math Kernel Library 2025.0 will require Intel(R) Advanced Vector Extensions (Intel(R) AVX) instructions.\n",
      "Intel MKL WARNING: Support of Intel(R) Streaming SIMD Extensions 4.2 (Intel(R) SSE4.2) enabled only processors has been deprecated. Intel oneAPI Math Kernel Library 2025.0 will require Intel(R) Advanced Vector Extensions (Intel(R) AVX) instructions.\n"
     ]
    },
    {
     "data": {
      "application/vnd.jupyter.widget-view+json": {
       "model_id": "",
       "version_major": 2,
       "version_minor": 0
      },
      "text/plain": [
       "Validation: |                                             | 0/? [00:00<?, ?it/s]"
      ]
     },
     "metadata": {},
     "output_type": "display_data"
    },
    {
     "name": "stdout",
     "output_type": "stream",
     "text": [
      "Intel MKL WARNING: Support of Intel(R) Streaming SIMD Extensions 4.2 (Intel(R) SSE4.2) enabled only processors has been deprecated. Intel oneAPI Math Kernel Library 2025.0 will require Intel(R) Advanced Vector Extensions (Intel(R) AVX) instructions.\n",
      "Intel MKL WARNING: Support of Intel(R) Streaming SIMD Extensions 4.2 (Intel(R) SSE4.2) enabled only processors has been deprecated. Intel oneAPI Math Kernel Library 2025.0 will require Intel(R) Advanced Vector Extensions (Intel(R) AVX) instructions.\n",
      "Intel MKL WARNING: Support of Intel(R) Streaming SIMD Extensions 4.2 (Intel(R) SSE4.2) enabled only processors has been deprecated. Intel oneAPI Math Kernel Library 2025.0 will require Intel(R) Advanced Vector Extensions (Intel(R) AVX) instructions.\n",
      "Intel MKL WARNING: Support of Intel(R) Streaming SIMD Extensions 4.2 (Intel(R) SSE4.2) enabled only processors has been deprecated. Intel oneAPI Math Kernel Library 2025.0 will require Intel(R) Advanced Vector Extensions (Intel(R) AVX) instructions.\n",
      "Intel MKL WARNING: Support of Intel(R) Streaming SIMD Extensions 4.2 (Intel(R) SSE4.2) enabled only processors has been deprecated. Intel oneAPI Math Kernel Library 2025.0 will require Intel(R) Advanced Vector Extensions (Intel(R) AVX) instructions.\n",
      "Intel MKL WARNING: Support of Intel(R) Streaming SIMD Extensions 4.2 (Intel(R) SSE4.2) enabled only processors has been deprecated. Intel oneAPI Math Kernel Library 2025.0 will require Intel(R) Advanced Vector Extensions (Intel(R) AVX) instructions.\n",
      "Intel MKL WARNING: Support of Intel(R) Streaming SIMD Extensions 4.2 (Intel(R) SSE4.2) enabled only processors has been deprecated. Intel oneAPI Math Kernel Library 2025.0 will require Intel(R) Advanced Vector Extensions (Intel(R) AVX) instructions.\n",
      "Intel MKL WARNING: Support of Intel(R) Streaming SIMD Extensions 4.2 (Intel(R) SSE4.2) enabled only processors has been deprecated. Intel oneAPI Math Kernel Library 2025.0 will require Intel(R) Advanced Vector Extensions (Intel(R) AVX) instructions.\n",
      "Intel MKL WARNING: Support of Intel(R) Streaming SIMD Extensions 4.2 (Intel(R) SSE4.2) enabled only processors has been deprecated. Intel oneAPI Math Kernel Library 2025.0 will require Intel(R) Advanced Vector Extensions (Intel(R) AVX) instructions.\n",
      "Intel MKL WARNING: Support of Intel(R) Streaming SIMD Extensions 4.2 (Intel(R) SSE4.2) enabled only processors has been deprecated. Intel oneAPI Math Kernel Library 2025.0 will require Intel(R) Advanced Vector Extensions (Intel(R) AVX) instructions.\n",
      "Intel MKL WARNING: Support of Intel(R) Streaming SIMD Extensions 4.2 (Intel(R) SSE4.2) enabled only processors has been deprecated. Intel oneAPI Math Kernel Library 2025.0 will require Intel(R) Advanced Vector Extensions (Intel(R) AVX) instructions.\n",
      "Intel MKL WARNING: Support of Intel(R) Streaming SIMD Extensions 4.2 (Intel(R) SSE4.2) enabled only processors has been deprecated. Intel oneAPI Math Kernel Library 2025.0 will require Intel(R) Advanced Vector Extensions (Intel(R) AVX) instructions.\n",
      "Intel MKL WARNING: Support of Intel(R) Streaming SIMD Extensions 4.2 (Intel(R) SSE4.2) enabled only processors has been deprecated. Intel oneAPI Math Kernel Library 2025.0 will require Intel(R) Advanced Vector Extensions (Intel(R) AVX) instructions.\n",
      "Intel MKL WARNING: Support of Intel(R) Streaming SIMD Extensions 4.2 (Intel(R) SSE4.2) enabled only processors has been deprecated. Intel oneAPI Math Kernel Library 2025.0 will require Intel(R) Advanced Vector Extensions (Intel(R) AVX) instructions.\n"
     ]
    },
    {
     "data": {
      "application/vnd.jupyter.widget-view+json": {
       "model_id": "",
       "version_major": 2,
       "version_minor": 0
      },
      "text/plain": [
       "Validation: |                                             | 0/? [00:00<?, ?it/s]"
      ]
     },
     "metadata": {},
     "output_type": "display_data"
    },
    {
     "name": "stdout",
     "output_type": "stream",
     "text": [
      "Intel MKL WARNING: Support of Intel(R) Streaming SIMD Extensions 4.2 (Intel(R) SSE4.2) enabled only processors has been deprecated. Intel oneAPI Math Kernel Library 2025.0 will require Intel(R) Advanced Vector Extensions (Intel(R) AVX) instructions.\n",
      "Intel MKL WARNING: Support of Intel(R) Streaming SIMD Extensions 4.2 (Intel(R) SSE4.2) enabled only processors has been deprecated. Intel oneAPI Math Kernel Library 2025.0 will require Intel(R) Advanced Vector Extensions (Intel(R) AVX) instructions.\n",
      "Intel MKL WARNING: Support of Intel(R) Streaming SIMD Extensions 4.2 (Intel(R) SSE4.2) enabled only processors has been deprecated. Intel oneAPI Math Kernel Library 2025.0 will require Intel(R) Advanced Vector Extensions (Intel(R) AVX) instructions.\n",
      "Intel MKL WARNING: Support of Intel(R) Streaming SIMD Extensions 4.2 (Intel(R) SSE4.2) enabled only processors has been deprecated. Intel oneAPI Math Kernel Library 2025.0 will require Intel(R) Advanced Vector Extensions (Intel(R) AVX) instructions.\n",
      "Intel MKL WARNING: Support of Intel(R) Streaming SIMD Extensions 4.2 (Intel(R) SSE4.2) enabled only processors has been deprecated. Intel oneAPI Math Kernel Library 2025.0 will require Intel(R) Advanced Vector Extensions (Intel(R) AVX) instructions.\n",
      "Intel MKL WARNING: Support of Intel(R) Streaming SIMD Extensions 4.2 (Intel(R) SSE4.2) enabled only processors has been deprecated. Intel oneAPI Math Kernel Library 2025.0 will require Intel(R) Advanced Vector Extensions (Intel(R) AVX) instructions.\n",
      "Intel MKL WARNING: Support of Intel(R) Streaming SIMD Extensions 4.2 (Intel(R) SSE4.2) enabled only processors has been deprecated. Intel oneAPI Math Kernel Library 2025.0 will require Intel(R) Advanced Vector Extensions (Intel(R) AVX) instructions.\n",
      "Intel MKL WARNING: Support of Intel(R) Streaming SIMD Extensions 4.2 (Intel(R) SSE4.2) enabled only processors has been deprecated. Intel oneAPI Math Kernel Library 2025.0 will require Intel(R) Advanced Vector Extensions (Intel(R) AVX) instructions.\n",
      "Intel MKL WARNING: Support of Intel(R) Streaming SIMD Extensions 4.2 (Intel(R) SSE4.2) enabled only processors has been deprecated. Intel oneAPI Math Kernel Library 2025.0 will require Intel(R) Advanced Vector Extensions (Intel(R) AVX) instructions.\n",
      "Intel MKL WARNING: Support of Intel(R) Streaming SIMD Extensions 4.2 (Intel(R) SSE4.2) enabled only processors has been deprecated. Intel oneAPI Math Kernel Library 2025.0 will require Intel(R) Advanced Vector Extensions (Intel(R) AVX) instructions.\n",
      "Intel MKL WARNING: Support of Intel(R) Streaming SIMD Extensions 4.2 (Intel(R) SSE4.2) enabled only processors has been deprecated. Intel oneAPI Math Kernel Library 2025.0 will require Intel(R) Advanced Vector Extensions (Intel(R) AVX) instructions.\n",
      "Intel MKL WARNING: Support of Intel(R) Streaming SIMD Extensions 4.2 (Intel(R) SSE4.2) enabled only processors has been deprecated. Intel oneAPI Math Kernel Library 2025.0 will require Intel(R) Advanced Vector Extensions (Intel(R) AVX) instructions.\n",
      "Intel MKL WARNING: Support of Intel(R) Streaming SIMD Extensions 4.2 (Intel(R) SSE4.2) enabled only processors has been deprecated. Intel oneAPI Math Kernel Library 2025.0 will require Intel(R) Advanced Vector Extensions (Intel(R) AVX) instructions.\n",
      "Intel MKL WARNING: Support of Intel(R) Streaming SIMD Extensions 4.2 (Intel(R) SSE4.2) enabled only processors has been deprecated. Intel oneAPI Math Kernel Library 2025.0 will require Intel(R) Advanced Vector Extensions (Intel(R) AVX) instructions.\n"
     ]
    },
    {
     "data": {
      "application/vnd.jupyter.widget-view+json": {
       "model_id": "",
       "version_major": 2,
       "version_minor": 0
      },
      "text/plain": [
       "Validation: |                                             | 0/? [00:00<?, ?it/s]"
      ]
     },
     "metadata": {},
     "output_type": "display_data"
    },
    {
     "name": "stdout",
     "output_type": "stream",
     "text": [
      "Intel MKL WARNING: Support of Intel(R) Streaming SIMD Extensions 4.2 (Intel(R) SSE4.2) enabled only processors has been deprecated. Intel oneAPI Math Kernel Library 2025.0 will require Intel(R) Advanced Vector Extensions (Intel(R) AVX) instructions.\n",
      "Intel MKL WARNING: Support of Intel(R) Streaming SIMD Extensions 4.2 (Intel(R) SSE4.2) enabled only processors has been deprecated. Intel oneAPI Math Kernel Library 2025.0 will require Intel(R) Advanced Vector Extensions (Intel(R) AVX) instructions.\n",
      "Intel MKL WARNING: Support of Intel(R) Streaming SIMD Extensions 4.2 (Intel(R) SSE4.2) enabled only processors has been deprecated. Intel oneAPI Math Kernel Library 2025.0 will require Intel(R) Advanced Vector Extensions (Intel(R) AVX) instructions.\n",
      "Intel MKL WARNING: Support of Intel(R) Streaming SIMD Extensions 4.2 (Intel(R) SSE4.2) enabled only processors has been deprecated. Intel oneAPI Math Kernel Library 2025.0 will require Intel(R) Advanced Vector Extensions (Intel(R) AVX) instructions.\n",
      "Intel MKL WARNING: Support of Intel(R) Streaming SIMD Extensions 4.2 (Intel(R) SSE4.2) enabled only processors has been deprecated. Intel oneAPI Math Kernel Library 2025.0 will require Intel(R) Advanced Vector Extensions (Intel(R) AVX) instructions.\n",
      "Intel MKL WARNING: Support of Intel(R) Streaming SIMD Extensions 4.2 (Intel(R) SSE4.2) enabled only processors has been deprecated. Intel oneAPI Math Kernel Library 2025.0 will require Intel(R) Advanced Vector Extensions (Intel(R) AVX) instructions.\n",
      "Intel MKL WARNING: Support of Intel(R) Streaming SIMD Extensions 4.2 (Intel(R) SSE4.2) enabled only processors has been deprecated. Intel oneAPI Math Kernel Library 2025.0 will require Intel(R) Advanced Vector Extensions (Intel(R) AVX) instructions.\n",
      "Intel MKL WARNING: Support of Intel(R) Streaming SIMD Extensions 4.2 (Intel(R) SSE4.2) enabled only processors has been deprecated. Intel oneAPI Math Kernel Library 2025.0 will require Intel(R) Advanced Vector Extensions (Intel(R) AVX) instructions.\n",
      "Intel MKL WARNING: Support of Intel(R) Streaming SIMD Extensions 4.2 (Intel(R) SSE4.2) enabled only processors has been deprecated. Intel oneAPI Math Kernel Library 2025.0 will require Intel(R) Advanced Vector Extensions (Intel(R) AVX) instructions.\n",
      "Intel MKL WARNING: Support of Intel(R) Streaming SIMD Extensions 4.2 (Intel(R) SSE4.2) enabled only processors has been deprecated. Intel oneAPI Math Kernel Library 2025.0 will require Intel(R) Advanced Vector Extensions (Intel(R) AVX) instructions.\n",
      "Intel MKL WARNING: Support of Intel(R) Streaming SIMD Extensions 4.2 (Intel(R) SSE4.2) enabled only processors has been deprecated. Intel oneAPI Math Kernel Library 2025.0 will require Intel(R) Advanced Vector Extensions (Intel(R) AVX) instructions.\n",
      "Intel MKL WARNING: Support of Intel(R) Streaming SIMD Extensions 4.2 (Intel(R) SSE4.2) enabled only processors has been deprecated. Intel oneAPI Math Kernel Library 2025.0 will require Intel(R) Advanced Vector Extensions (Intel(R) AVX) instructions.\n",
      "Intel MKL WARNING: Support of Intel(R) Streaming SIMD Extensions 4.2 (Intel(R) SSE4.2) enabled only processors has been deprecated. Intel oneAPI Math Kernel Library 2025.0 will require Intel(R) Advanced Vector Extensions (Intel(R) AVX) instructions.\n",
      "Intel MKL WARNING: Support of Intel(R) Streaming SIMD Extensions 4.2 (Intel(R) SSE4.2) enabled only processors has been deprecated. Intel oneAPI Math Kernel Library 2025.0 will require Intel(R) Advanced Vector Extensions (Intel(R) AVX) instructions.\n"
     ]
    },
    {
     "data": {
      "application/vnd.jupyter.widget-view+json": {
       "model_id": "",
       "version_major": 2,
       "version_minor": 0
      },
      "text/plain": [
       "Validation: |                                             | 0/? [00:00<?, ?it/s]"
      ]
     },
     "metadata": {},
     "output_type": "display_data"
    },
    {
     "name": "stdout",
     "output_type": "stream",
     "text": [
      "Intel MKL WARNING: Support of Intel(R) Streaming SIMD Extensions 4.2 (Intel(R) SSE4.2) enabled only processors has been deprecated. Intel oneAPI Math Kernel Library 2025.0 will require Intel(R) Advanced Vector Extensions (Intel(R) AVX) instructions.\n",
      "Intel MKL WARNING: Support of Intel(R) Streaming SIMD Extensions 4.2 (Intel(R) SSE4.2) enabled only processors has been deprecated. Intel oneAPI Math Kernel Library 2025.0 will require Intel(R) Advanced Vector Extensions (Intel(R) AVX) instructions.\n",
      "Intel MKL WARNING: Support of Intel(R) Streaming SIMD Extensions 4.2 (Intel(R) SSE4.2) enabled only processors has been deprecated. Intel oneAPI Math Kernel Library 2025.0 will require Intel(R) Advanced Vector Extensions (Intel(R) AVX) instructions.\n",
      "Intel MKL WARNING: Support of Intel(R) Streaming SIMD Extensions 4.2 (Intel(R) SSE4.2) enabled only processors has been deprecated. Intel oneAPI Math Kernel Library 2025.0 will require Intel(R) Advanced Vector Extensions (Intel(R) AVX) instructions.\n",
      "Intel MKL WARNING: Support of Intel(R) Streaming SIMD Extensions 4.2 (Intel(R) SSE4.2) enabled only processors has been deprecated. Intel oneAPI Math Kernel Library 2025.0 will require Intel(R) Advanced Vector Extensions (Intel(R) AVX) instructions.\n",
      "Intel MKL WARNING: Support of Intel(R) Streaming SIMD Extensions 4.2 (Intel(R) SSE4.2) enabled only processors has been deprecated. Intel oneAPI Math Kernel Library 2025.0 will require Intel(R) Advanced Vector Extensions (Intel(R) AVX) instructions.\n",
      "Intel MKL WARNING: Support of Intel(R) Streaming SIMD Extensions 4.2 (Intel(R) SSE4.2) enabled only processors has been deprecated. Intel oneAPI Math Kernel Library 2025.0 will require Intel(R) Advanced Vector Extensions (Intel(R) AVX) instructions.\n",
      "Intel MKL WARNING: Support of Intel(R) Streaming SIMD Extensions 4.2 (Intel(R) SSE4.2) enabled only processors has been deprecated. Intel oneAPI Math Kernel Library 2025.0 will require Intel(R) Advanced Vector Extensions (Intel(R) AVX) instructions.\n",
      "Intel MKL WARNING: Support of Intel(R) Streaming SIMD Extensions 4.2 (Intel(R) SSE4.2) enabled only processors has been deprecated. Intel oneAPI Math Kernel Library 2025.0 will require Intel(R) Advanced Vector Extensions (Intel(R) AVX) instructions.\n",
      "Intel MKL WARNING: Support of Intel(R) Streaming SIMD Extensions 4.2 (Intel(R) SSE4.2) enabled only processors has been deprecated. Intel oneAPI Math Kernel Library 2025.0 will require Intel(R) Advanced Vector Extensions (Intel(R) AVX) instructions.\n",
      "Intel MKL WARNING: Support of Intel(R) Streaming SIMD Extensions 4.2 (Intel(R) SSE4.2) enabled only processors has been deprecated. Intel oneAPI Math Kernel Library 2025.0 will require Intel(R) Advanced Vector Extensions (Intel(R) AVX) instructions.\n",
      "Intel MKL WARNING: Support of Intel(R) Streaming SIMD Extensions 4.2 (Intel(R) SSE4.2) enabled only processors has been deprecated. Intel oneAPI Math Kernel Library 2025.0 will require Intel(R) Advanced Vector Extensions (Intel(R) AVX) instructions.\n",
      "Intel MKL WARNING: Support of Intel(R) Streaming SIMD Extensions 4.2 (Intel(R) SSE4.2) enabled only processors has been deprecated. Intel oneAPI Math Kernel Library 2025.0 will require Intel(R) Advanced Vector Extensions (Intel(R) AVX) instructions.\n",
      "Intel MKL WARNING: Support of Intel(R) Streaming SIMD Extensions 4.2 (Intel(R) SSE4.2) enabled only processors has been deprecated. Intel oneAPI Math Kernel Library 2025.0 will require Intel(R) Advanced Vector Extensions (Intel(R) AVX) instructions.\n"
     ]
    },
    {
     "data": {
      "application/vnd.jupyter.widget-view+json": {
       "model_id": "",
       "version_major": 2,
       "version_minor": 0
      },
      "text/plain": [
       "Validation: |                                             | 0/? [00:00<?, ?it/s]"
      ]
     },
     "metadata": {},
     "output_type": "display_data"
    },
    {
     "name": "stdout",
     "output_type": "stream",
     "text": [
      "Intel MKL WARNING: Support of Intel(R) Streaming SIMD Extensions 4.2 (Intel(R) SSE4.2) enabled only processors has been deprecated. Intel oneAPI Math Kernel Library 2025.0 will require Intel(R) Advanced Vector Extensions (Intel(R) AVX) instructions.\n",
      "Intel MKL WARNING: Support of Intel(R) Streaming SIMD Extensions 4.2 (Intel(R) SSE4.2) enabled only processors has been deprecated. Intel oneAPI Math Kernel Library 2025.0 will require Intel(R) Advanced Vector Extensions (Intel(R) AVX) instructions.\n",
      "Intel MKL WARNING: Support of Intel(R) Streaming SIMD Extensions 4.2 (Intel(R) SSE4.2) enabled only processors has been deprecated. Intel oneAPI Math Kernel Library 2025.0 will require Intel(R) Advanced Vector Extensions (Intel(R) AVX) instructions.\n",
      "Intel MKL WARNING: Support of Intel(R) Streaming SIMD Extensions 4.2 (Intel(R) SSE4.2) enabled only processors has been deprecated. Intel oneAPI Math Kernel Library 2025.0 will require Intel(R) Advanced Vector Extensions (Intel(R) AVX) instructions.\n",
      "Intel MKL WARNING: Support of Intel(R) Streaming SIMD Extensions 4.2 (Intel(R) SSE4.2) enabled only processors has been deprecated. Intel oneAPI Math Kernel Library 2025.0 will require Intel(R) Advanced Vector Extensions (Intel(R) AVX) instructions.\n",
      "Intel MKL WARNING: Support of Intel(R) Streaming SIMD Extensions 4.2 (Intel(R) SSE4.2) enabled only processors has been deprecated. Intel oneAPI Math Kernel Library 2025.0 will require Intel(R) Advanced Vector Extensions (Intel(R) AVX) instructions.\n",
      "Intel MKL WARNING: Support of Intel(R) Streaming SIMD Extensions 4.2 (Intel(R) SSE4.2) enabled only processors has been deprecated. Intel oneAPI Math Kernel Library 2025.0 will require Intel(R) Advanced Vector Extensions (Intel(R) AVX) instructions.\n",
      "Intel MKL WARNING: Support of Intel(R) Streaming SIMD Extensions 4.2 (Intel(R) SSE4.2) enabled only processors has been deprecated. Intel oneAPI Math Kernel Library 2025.0 will require Intel(R) Advanced Vector Extensions (Intel(R) AVX) instructions.\n",
      "Intel MKL WARNING: Support of Intel(R) Streaming SIMD Extensions 4.2 (Intel(R) SSE4.2) enabled only processors has been deprecated. Intel oneAPI Math Kernel Library 2025.0 will require Intel(R) Advanced Vector Extensions (Intel(R) AVX) instructions.\n",
      "Intel MKL WARNING: Support of Intel(R) Streaming SIMD Extensions 4.2 (Intel(R) SSE4.2) enabled only processors has been deprecated. Intel oneAPI Math Kernel Library 2025.0 will require Intel(R) Advanced Vector Extensions (Intel(R) AVX) instructions.\n",
      "Intel MKL WARNING: Support of Intel(R) Streaming SIMD Extensions 4.2 (Intel(R) SSE4.2) enabled only processors has been deprecated. Intel oneAPI Math Kernel Library 2025.0 will require Intel(R) Advanced Vector Extensions (Intel(R) AVX) instructions.\n",
      "Intel MKL WARNING: Support of Intel(R) Streaming SIMD Extensions 4.2 (Intel(R) SSE4.2) enabled only processors has been deprecated. Intel oneAPI Math Kernel Library 2025.0 will require Intel(R) Advanced Vector Extensions (Intel(R) AVX) instructions.\n",
      "Intel MKL WARNING: Support of Intel(R) Streaming SIMD Extensions 4.2 (Intel(R) SSE4.2) enabled only processors has been deprecated. Intel oneAPI Math Kernel Library 2025.0 will require Intel(R) Advanced Vector Extensions (Intel(R) AVX) instructions.\n",
      "Intel MKL WARNING: Support of Intel(R) Streaming SIMD Extensions 4.2 (Intel(R) SSE4.2) enabled only processors has been deprecated. Intel oneAPI Math Kernel Library 2025.0 will require Intel(R) Advanced Vector Extensions (Intel(R) AVX) instructions.\n"
     ]
    },
    {
     "data": {
      "application/vnd.jupyter.widget-view+json": {
       "model_id": "",
       "version_major": 2,
       "version_minor": 0
      },
      "text/plain": [
       "Validation: |                                             | 0/? [00:00<?, ?it/s]"
      ]
     },
     "metadata": {},
     "output_type": "display_data"
    },
    {
     "name": "stdout",
     "output_type": "stream",
     "text": [
      "Intel MKL WARNING: Support of Intel(R) Streaming SIMD Extensions 4.2 (Intel(R) SSE4.2) enabled only processors has been deprecated. Intel oneAPI Math Kernel Library 2025.0 will require Intel(R) Advanced Vector Extensions (Intel(R) AVX) instructions.\n",
      "Intel MKL WARNING: Support of Intel(R) Streaming SIMD Extensions 4.2 (Intel(R) SSE4.2) enabled only processors has been deprecated. Intel oneAPI Math Kernel Library 2025.0 will require Intel(R) Advanced Vector Extensions (Intel(R) AVX) instructions.\n",
      "Intel MKL WARNING: Support of Intel(R) Streaming SIMD Extensions 4.2 (Intel(R) SSE4.2) enabled only processors has been deprecated. Intel oneAPI Math Kernel Library 2025.0 will require Intel(R) Advanced Vector Extensions (Intel(R) AVX) instructions.\n",
      "Intel MKL WARNING: Support of Intel(R) Streaming SIMD Extensions 4.2 (Intel(R) SSE4.2) enabled only processors has been deprecated. Intel oneAPI Math Kernel Library 2025.0 will require Intel(R) Advanced Vector Extensions (Intel(R) AVX) instructions.\n",
      "Intel MKL WARNING: Support of Intel(R) Streaming SIMD Extensions 4.2 (Intel(R) SSE4.2) enabled only processors has been deprecated. Intel oneAPI Math Kernel Library 2025.0 will require Intel(R) Advanced Vector Extensions (Intel(R) AVX) instructions.\n",
      "Intel MKL WARNING: Support of Intel(R) Streaming SIMD Extensions 4.2 (Intel(R) SSE4.2) enabled only processors has been deprecated. Intel oneAPI Math Kernel Library 2025.0 will require Intel(R) Advanced Vector Extensions (Intel(R) AVX) instructions.\n",
      "Intel MKL WARNING: Support of Intel(R) Streaming SIMD Extensions 4.2 (Intel(R) SSE4.2) enabled only processors has been deprecated. Intel oneAPI Math Kernel Library 2025.0 will require Intel(R) Advanced Vector Extensions (Intel(R) AVX) instructions.\n",
      "Intel MKL WARNING: Support of Intel(R) Streaming SIMD Extensions 4.2 (Intel(R) SSE4.2) enabled only processors has been deprecated. Intel oneAPI Math Kernel Library 2025.0 will require Intel(R) Advanced Vector Extensions (Intel(R) AVX) instructions.\n",
      "Intel MKL WARNING: Support of Intel(R) Streaming SIMD Extensions 4.2 (Intel(R) SSE4.2) enabled only processors has been deprecated. Intel oneAPI Math Kernel Library 2025.0 will require Intel(R) Advanced Vector Extensions (Intel(R) AVX) instructions.\n",
      "Intel MKL WARNING: Support of Intel(R) Streaming SIMD Extensions 4.2 (Intel(R) SSE4.2) enabled only processors has been deprecated. Intel oneAPI Math Kernel Library 2025.0 will require Intel(R) Advanced Vector Extensions (Intel(R) AVX) instructions.\n",
      "Intel MKL WARNING: Support of Intel(R) Streaming SIMD Extensions 4.2 (Intel(R) SSE4.2) enabled only processors has been deprecated. Intel oneAPI Math Kernel Library 2025.0 will require Intel(R) Advanced Vector Extensions (Intel(R) AVX) instructions.\n",
      "Intel MKL WARNING: Support of Intel(R) Streaming SIMD Extensions 4.2 (Intel(R) SSE4.2) enabled only processors has been deprecated. Intel oneAPI Math Kernel Library 2025.0 will require Intel(R) Advanced Vector Extensions (Intel(R) AVX) instructions.\n",
      "Intel MKL WARNING: Support of Intel(R) Streaming SIMD Extensions 4.2 (Intel(R) SSE4.2) enabled only processors has been deprecated. Intel oneAPI Math Kernel Library 2025.0 will require Intel(R) Advanced Vector Extensions (Intel(R) AVX) instructions.\n",
      "Intel MKL WARNING: Support of Intel(R) Streaming SIMD Extensions 4.2 (Intel(R) SSE4.2) enabled only processors has been deprecated. Intel oneAPI Math Kernel Library 2025.0 will require Intel(R) Advanced Vector Extensions (Intel(R) AVX) instructions.\n"
     ]
    },
    {
     "data": {
      "application/vnd.jupyter.widget-view+json": {
       "model_id": "",
       "version_major": 2,
       "version_minor": 0
      },
      "text/plain": [
       "Validation: |                                             | 0/? [00:00<?, ?it/s]"
      ]
     },
     "metadata": {},
     "output_type": "display_data"
    },
    {
     "name": "stdout",
     "output_type": "stream",
     "text": [
      "Intel MKL WARNING: Support of Intel(R) Streaming SIMD Extensions 4.2 (Intel(R) SSE4.2) enabled only processors has been deprecated. Intel oneAPI Math Kernel Library 2025.0 will require Intel(R) Advanced Vector Extensions (Intel(R) AVX) instructions.\n",
      "Intel MKL WARNING: Support of Intel(R) Streaming SIMD Extensions 4.2 (Intel(R) SSE4.2) enabled only processors has been deprecated. Intel oneAPI Math Kernel Library 2025.0 will require Intel(R) Advanced Vector Extensions (Intel(R) AVX) instructions.\n",
      "Intel MKL WARNING: Support of Intel(R) Streaming SIMD Extensions 4.2 (Intel(R) SSE4.2) enabled only processors has been deprecated. Intel oneAPI Math Kernel Library 2025.0 will require Intel(R) Advanced Vector Extensions (Intel(R) AVX) instructions.\n",
      "Intel MKL WARNING: Support of Intel(R) Streaming SIMD Extensions 4.2 (Intel(R) SSE4.2) enabled only processors has been deprecated. Intel oneAPI Math Kernel Library 2025.0 will require Intel(R) Advanced Vector Extensions (Intel(R) AVX) instructions.\n",
      "Intel MKL WARNING: Support of Intel(R) Streaming SIMD Extensions 4.2 (Intel(R) SSE4.2) enabled only processors has been deprecated. Intel oneAPI Math Kernel Library 2025.0 will require Intel(R) Advanced Vector Extensions (Intel(R) AVX) instructions.\n",
      "Intel MKL WARNING: Support of Intel(R) Streaming SIMD Extensions 4.2 (Intel(R) SSE4.2) enabled only processors has been deprecated. Intel oneAPI Math Kernel Library 2025.0 will require Intel(R) Advanced Vector Extensions (Intel(R) AVX) instructions.\n",
      "Intel MKL WARNING: Support of Intel(R) Streaming SIMD Extensions 4.2 (Intel(R) SSE4.2) enabled only processors has been deprecated. Intel oneAPI Math Kernel Library 2025.0 will require Intel(R) Advanced Vector Extensions (Intel(R) AVX) instructions.\n",
      "Intel MKL WARNING: Support of Intel(R) Streaming SIMD Extensions 4.2 (Intel(R) SSE4.2) enabled only processors has been deprecated. Intel oneAPI Math Kernel Library 2025.0 will require Intel(R) Advanced Vector Extensions (Intel(R) AVX) instructions.\n",
      "Intel MKL WARNING: Support of Intel(R) Streaming SIMD Extensions 4.2 (Intel(R) SSE4.2) enabled only processors has been deprecated. Intel oneAPI Math Kernel Library 2025.0 will require Intel(R) Advanced Vector Extensions (Intel(R) AVX) instructions.\n",
      "Intel MKL WARNING: Support of Intel(R) Streaming SIMD Extensions 4.2 (Intel(R) SSE4.2) enabled only processors has been deprecated. Intel oneAPI Math Kernel Library 2025.0 will require Intel(R) Advanced Vector Extensions (Intel(R) AVX) instructions.\n",
      "Intel MKL WARNING: Support of Intel(R) Streaming SIMD Extensions 4.2 (Intel(R) SSE4.2) enabled only processors has been deprecated. Intel oneAPI Math Kernel Library 2025.0 will require Intel(R) Advanced Vector Extensions (Intel(R) AVX) instructions.\n",
      "Intel MKL WARNING: Support of Intel(R) Streaming SIMD Extensions 4.2 (Intel(R) SSE4.2) enabled only processors has been deprecated. Intel oneAPI Math Kernel Library 2025.0 will require Intel(R) Advanced Vector Extensions (Intel(R) AVX) instructions.\n",
      "Intel MKL WARNING: Support of Intel(R) Streaming SIMD Extensions 4.2 (Intel(R) SSE4.2) enabled only processors has been deprecated. Intel oneAPI Math Kernel Library 2025.0 will require Intel(R) Advanced Vector Extensions (Intel(R) AVX) instructions.\n",
      "Intel MKL WARNING: Support of Intel(R) Streaming SIMD Extensions 4.2 (Intel(R) SSE4.2) enabled only processors has been deprecated. Intel oneAPI Math Kernel Library 2025.0 will require Intel(R) Advanced Vector Extensions (Intel(R) AVX) instructions.\n"
     ]
    },
    {
     "data": {
      "application/vnd.jupyter.widget-view+json": {
       "model_id": "",
       "version_major": 2,
       "version_minor": 0
      },
      "text/plain": [
       "Validation: |                                             | 0/? [00:00<?, ?it/s]"
      ]
     },
     "metadata": {},
     "output_type": "display_data"
    },
    {
     "name": "stdout",
     "output_type": "stream",
     "text": [
      "Intel MKL WARNING: Support of Intel(R) Streaming SIMD Extensions 4.2 (Intel(R) SSE4.2) enabled only processors has been deprecated. Intel oneAPI Math Kernel Library 2025.0 will require Intel(R) Advanced Vector Extensions (Intel(R) AVX) instructions.\n",
      "Intel MKL WARNING: Support of Intel(R) Streaming SIMD Extensions 4.2 (Intel(R) SSE4.2) enabled only processors has been deprecated. Intel oneAPI Math Kernel Library 2025.0 will require Intel(R) Advanced Vector Extensions (Intel(R) AVX) instructions.\n",
      "Intel MKL WARNING: Support of Intel(R) Streaming SIMD Extensions 4.2 (Intel(R) SSE4.2) enabled only processors has been deprecated. Intel oneAPI Math Kernel Library 2025.0 will require Intel(R) Advanced Vector Extensions (Intel(R) AVX) instructions.\n",
      "Intel MKL WARNING: Support of Intel(R) Streaming SIMD Extensions 4.2 (Intel(R) SSE4.2) enabled only processors has been deprecated. Intel oneAPI Math Kernel Library 2025.0 will require Intel(R) Advanced Vector Extensions (Intel(R) AVX) instructions.\n",
      "Intel MKL WARNING: Support of Intel(R) Streaming SIMD Extensions 4.2 (Intel(R) SSE4.2) enabled only processors has been deprecated. Intel oneAPI Math Kernel Library 2025.0 will require Intel(R) Advanced Vector Extensions (Intel(R) AVX) instructions.\n",
      "Intel MKL WARNING: Support of Intel(R) Streaming SIMD Extensions 4.2 (Intel(R) SSE4.2) enabled only processors has been deprecated. Intel oneAPI Math Kernel Library 2025.0 will require Intel(R) Advanced Vector Extensions (Intel(R) AVX) instructions.\n",
      "Intel MKL WARNING: Support of Intel(R) Streaming SIMD Extensions 4.2 (Intel(R) SSE4.2) enabled only processors has been deprecated. Intel oneAPI Math Kernel Library 2025.0 will require Intel(R) Advanced Vector Extensions (Intel(R) AVX) instructions.\n",
      "Intel MKL WARNING: Support of Intel(R) Streaming SIMD Extensions 4.2 (Intel(R) SSE4.2) enabled only processors has been deprecated. Intel oneAPI Math Kernel Library 2025.0 will require Intel(R) Advanced Vector Extensions (Intel(R) AVX) instructions.\n",
      "Intel MKL WARNING: Support of Intel(R) Streaming SIMD Extensions 4.2 (Intel(R) SSE4.2) enabled only processors has been deprecated. Intel oneAPI Math Kernel Library 2025.0 will require Intel(R) Advanced Vector Extensions (Intel(R) AVX) instructions.\n",
      "Intel MKL WARNING: Support of Intel(R) Streaming SIMD Extensions 4.2 (Intel(R) SSE4.2) enabled only processors has been deprecated. Intel oneAPI Math Kernel Library 2025.0 will require Intel(R) Advanced Vector Extensions (Intel(R) AVX) instructions.\n",
      "Intel MKL WARNING: Support of Intel(R) Streaming SIMD Extensions 4.2 (Intel(R) SSE4.2) enabled only processors has been deprecated. Intel oneAPI Math Kernel Library 2025.0 will require Intel(R) Advanced Vector Extensions (Intel(R) AVX) instructions.\n",
      "Intel MKL WARNING: Support of Intel(R) Streaming SIMD Extensions 4.2 (Intel(R) SSE4.2) enabled only processors has been deprecated. Intel oneAPI Math Kernel Library 2025.0 will require Intel(R) Advanced Vector Extensions (Intel(R) AVX) instructions.\n",
      "Intel MKL WARNING: Support of Intel(R) Streaming SIMD Extensions 4.2 (Intel(R) SSE4.2) enabled only processors has been deprecated. Intel oneAPI Math Kernel Library 2025.0 will require Intel(R) Advanced Vector Extensions (Intel(R) AVX) instructions.\n",
      "Intel MKL WARNING: Support of Intel(R) Streaming SIMD Extensions 4.2 (Intel(R) SSE4.2) enabled only processors has been deprecated. Intel oneAPI Math Kernel Library 2025.0 will require Intel(R) Advanced Vector Extensions (Intel(R) AVX) instructions.\n"
     ]
    },
    {
     "data": {
      "application/vnd.jupyter.widget-view+json": {
       "model_id": "",
       "version_major": 2,
       "version_minor": 0
      },
      "text/plain": [
       "Validation: |                                             | 0/? [00:00<?, ?it/s]"
      ]
     },
     "metadata": {},
     "output_type": "display_data"
    },
    {
     "name": "stdout",
     "output_type": "stream",
     "text": [
      "Intel MKL WARNING: Support of Intel(R) Streaming SIMD Extensions 4.2 (Intel(R) SSE4.2) enabled only processors has been deprecated. Intel oneAPI Math Kernel Library 2025.0 will require Intel(R) Advanced Vector Extensions (Intel(R) AVX) instructions.\n",
      "Intel MKL WARNING: Support of Intel(R) Streaming SIMD Extensions 4.2 (Intel(R) SSE4.2) enabled only processors has been deprecated. Intel oneAPI Math Kernel Library 2025.0 will require Intel(R) Advanced Vector Extensions (Intel(R) AVX) instructions.\n",
      "Intel MKL WARNING: Support of Intel(R) Streaming SIMD Extensions 4.2 (Intel(R) SSE4.2) enabled only processors has been deprecated. Intel oneAPI Math Kernel Library 2025.0 will require Intel(R) Advanced Vector Extensions (Intel(R) AVX) instructions.\n",
      "Intel MKL WARNING: Support of Intel(R) Streaming SIMD Extensions 4.2 (Intel(R) SSE4.2) enabled only processors has been deprecated. Intel oneAPI Math Kernel Library 2025.0 will require Intel(R) Advanced Vector Extensions (Intel(R) AVX) instructions.\n",
      "Intel MKL WARNING: Support of Intel(R) Streaming SIMD Extensions 4.2 (Intel(R) SSE4.2) enabled only processors has been deprecated. Intel oneAPI Math Kernel Library 2025.0 will require Intel(R) Advanced Vector Extensions (Intel(R) AVX) instructions.\n",
      "Intel MKL WARNING: Support of Intel(R) Streaming SIMD Extensions 4.2 (Intel(R) SSE4.2) enabled only processors has been deprecated. Intel oneAPI Math Kernel Library 2025.0 will require Intel(R) Advanced Vector Extensions (Intel(R) AVX) instructions.\n",
      "Intel MKL WARNING: Support of Intel(R) Streaming SIMD Extensions 4.2 (Intel(R) SSE4.2) enabled only processors has been deprecated. Intel oneAPI Math Kernel Library 2025.0 will require Intel(R) Advanced Vector Extensions (Intel(R) AVX) instructions.\n",
      "Intel MKL WARNING: Support of Intel(R) Streaming SIMD Extensions 4.2 (Intel(R) SSE4.2) enabled only processors has been deprecated. Intel oneAPI Math Kernel Library 2025.0 will require Intel(R) Advanced Vector Extensions (Intel(R) AVX) instructions.\n",
      "Intel MKL WARNING: Support of Intel(R) Streaming SIMD Extensions 4.2 (Intel(R) SSE4.2) enabled only processors has been deprecated. Intel oneAPI Math Kernel Library 2025.0 will require Intel(R) Advanced Vector Extensions (Intel(R) AVX) instructions.\n",
      "Intel MKL WARNING: Support of Intel(R) Streaming SIMD Extensions 4.2 (Intel(R) SSE4.2) enabled only processors has been deprecated. Intel oneAPI Math Kernel Library 2025.0 will require Intel(R) Advanced Vector Extensions (Intel(R) AVX) instructions.\n",
      "Intel MKL WARNING: Support of Intel(R) Streaming SIMD Extensions 4.2 (Intel(R) SSE4.2) enabled only processors has been deprecated. Intel oneAPI Math Kernel Library 2025.0 will require Intel(R) Advanced Vector Extensions (Intel(R) AVX) instructions.\n",
      "Intel MKL WARNING: Support of Intel(R) Streaming SIMD Extensions 4.2 (Intel(R) SSE4.2) enabled only processors has been deprecated. Intel oneAPI Math Kernel Library 2025.0 will require Intel(R) Advanced Vector Extensions (Intel(R) AVX) instructions.\n",
      "Intel MKL WARNING: Support of Intel(R) Streaming SIMD Extensions 4.2 (Intel(R) SSE4.2) enabled only processors has been deprecated. Intel oneAPI Math Kernel Library 2025.0 will require Intel(R) Advanced Vector Extensions (Intel(R) AVX) instructions.\n",
      "Intel MKL WARNING: Support of Intel(R) Streaming SIMD Extensions 4.2 (Intel(R) SSE4.2) enabled only processors has been deprecated. Intel oneAPI Math Kernel Library 2025.0 will require Intel(R) Advanced Vector Extensions (Intel(R) AVX) instructions.\n"
     ]
    },
    {
     "data": {
      "application/vnd.jupyter.widget-view+json": {
       "model_id": "",
       "version_major": 2,
       "version_minor": 0
      },
      "text/plain": [
       "Validation: |                                             | 0/? [00:00<?, ?it/s]"
      ]
     },
     "metadata": {},
     "output_type": "display_data"
    },
    {
     "name": "stdout",
     "output_type": "stream",
     "text": [
      "Intel MKL WARNING: Support of Intel(R) Streaming SIMD Extensions 4.2 (Intel(R) SSE4.2) enabled only processors has been deprecated. Intel oneAPI Math Kernel Library 2025.0 will require Intel(R) Advanced Vector Extensions (Intel(R) AVX) instructions.\n",
      "Intel MKL WARNING: Support of Intel(R) Streaming SIMD Extensions 4.2 (Intel(R) SSE4.2) enabled only processors has been deprecated. Intel oneAPI Math Kernel Library 2025.0 will require Intel(R) Advanced Vector Extensions (Intel(R) AVX) instructions.\n",
      "Intel MKL WARNING: Support of Intel(R) Streaming SIMD Extensions 4.2 (Intel(R) SSE4.2) enabled only processors has been deprecated. Intel oneAPI Math Kernel Library 2025.0 will require Intel(R) Advanced Vector Extensions (Intel(R) AVX) instructions.\n",
      "Intel MKL WARNING: Support of Intel(R) Streaming SIMD Extensions 4.2 (Intel(R) SSE4.2) enabled only processors has been deprecated. Intel oneAPI Math Kernel Library 2025.0 will require Intel(R) Advanced Vector Extensions (Intel(R) AVX) instructions.\n",
      "Intel MKL WARNING: Support of Intel(R) Streaming SIMD Extensions 4.2 (Intel(R) SSE4.2) enabled only processors has been deprecated. Intel oneAPI Math Kernel Library 2025.0 will require Intel(R) Advanced Vector Extensions (Intel(R) AVX) instructions.\n",
      "Intel MKL WARNING: Support of Intel(R) Streaming SIMD Extensions 4.2 (Intel(R) SSE4.2) enabled only processors has been deprecated. Intel oneAPI Math Kernel Library 2025.0 will require Intel(R) Advanced Vector Extensions (Intel(R) AVX) instructions.\n",
      "Intel MKL WARNING: Support of Intel(R) Streaming SIMD Extensions 4.2 (Intel(R) SSE4.2) enabled only processors has been deprecated. Intel oneAPI Math Kernel Library 2025.0 will require Intel(R) Advanced Vector Extensions (Intel(R) AVX) instructions.\n",
      "Intel MKL WARNING: Support of Intel(R) Streaming SIMD Extensions 4.2 (Intel(R) SSE4.2) enabled only processors has been deprecated. Intel oneAPI Math Kernel Library 2025.0 will require Intel(R) Advanced Vector Extensions (Intel(R) AVX) instructions.\n",
      "Intel MKL WARNING: Support of Intel(R) Streaming SIMD Extensions 4.2 (Intel(R) SSE4.2) enabled only processors has been deprecated. Intel oneAPI Math Kernel Library 2025.0 will require Intel(R) Advanced Vector Extensions (Intel(R) AVX) instructions.\n",
      "Intel MKL WARNING: Support of Intel(R) Streaming SIMD Extensions 4.2 (Intel(R) SSE4.2) enabled only processors has been deprecated. Intel oneAPI Math Kernel Library 2025.0 will require Intel(R) Advanced Vector Extensions (Intel(R) AVX) instructions.\n",
      "Intel MKL WARNING: Support of Intel(R) Streaming SIMD Extensions 4.2 (Intel(R) SSE4.2) enabled only processors has been deprecated. Intel oneAPI Math Kernel Library 2025.0 will require Intel(R) Advanced Vector Extensions (Intel(R) AVX) instructions.\n",
      "Intel MKL WARNING: Support of Intel(R) Streaming SIMD Extensions 4.2 (Intel(R) SSE4.2) enabled only processors has been deprecated. Intel oneAPI Math Kernel Library 2025.0 will require Intel(R) Advanced Vector Extensions (Intel(R) AVX) instructions.\n",
      "Intel MKL WARNING: Support of Intel(R) Streaming SIMD Extensions 4.2 (Intel(R) SSE4.2) enabled only processors has been deprecated. Intel oneAPI Math Kernel Library 2025.0 will require Intel(R) Advanced Vector Extensions (Intel(R) AVX) instructions.\n",
      "Intel MKL WARNING: Support of Intel(R) Streaming SIMD Extensions 4.2 (Intel(R) SSE4.2) enabled only processors has been deprecated. Intel oneAPI Math Kernel Library 2025.0 will require Intel(R) Advanced Vector Extensions (Intel(R) AVX) instructions.\n"
     ]
    },
    {
     "data": {
      "application/vnd.jupyter.widget-view+json": {
       "model_id": "",
       "version_major": 2,
       "version_minor": 0
      },
      "text/plain": [
       "Validation: |                                             | 0/? [00:00<?, ?it/s]"
      ]
     },
     "metadata": {},
     "output_type": "display_data"
    },
    {
     "name": "stdout",
     "output_type": "stream",
     "text": [
      "Intel MKL WARNING: Support of Intel(R) Streaming SIMD Extensions 4.2 (Intel(R) SSE4.2) enabled only processors has been deprecated. Intel oneAPI Math Kernel Library 2025.0 will require Intel(R) Advanced Vector Extensions (Intel(R) AVX) instructions.\n",
      "Intel MKL WARNING: Support of Intel(R) Streaming SIMD Extensions 4.2 (Intel(R) SSE4.2) enabled only processors has been deprecated. Intel oneAPI Math Kernel Library 2025.0 will require Intel(R) Advanced Vector Extensions (Intel(R) AVX) instructions.\n",
      "Intel MKL WARNING: Support of Intel(R) Streaming SIMD Extensions 4.2 (Intel(R) SSE4.2) enabled only processors has been deprecated. Intel oneAPI Math Kernel Library 2025.0 will require Intel(R) Advanced Vector Extensions (Intel(R) AVX) instructions.\n",
      "Intel MKL WARNING: Support of Intel(R) Streaming SIMD Extensions 4.2 (Intel(R) SSE4.2) enabled only processors has been deprecated. Intel oneAPI Math Kernel Library 2025.0 will require Intel(R) Advanced Vector Extensions (Intel(R) AVX) instructions.\n",
      "Intel MKL WARNING: Support of Intel(R) Streaming SIMD Extensions 4.2 (Intel(R) SSE4.2) enabled only processors has been deprecated. Intel oneAPI Math Kernel Library 2025.0 will require Intel(R) Advanced Vector Extensions (Intel(R) AVX) instructions.\n",
      "Intel MKL WARNING: Support of Intel(R) Streaming SIMD Extensions 4.2 (Intel(R) SSE4.2) enabled only processors has been deprecated. Intel oneAPI Math Kernel Library 2025.0 will require Intel(R) Advanced Vector Extensions (Intel(R) AVX) instructions.\n",
      "Intel MKL WARNING: Support of Intel(R) Streaming SIMD Extensions 4.2 (Intel(R) SSE4.2) enabled only processors has been deprecated. Intel oneAPI Math Kernel Library 2025.0 will require Intel(R) Advanced Vector Extensions (Intel(R) AVX) instructions.\n",
      "Intel MKL WARNING: Support of Intel(R) Streaming SIMD Extensions 4.2 (Intel(R) SSE4.2) enabled only processors has been deprecated. Intel oneAPI Math Kernel Library 2025.0 will require Intel(R) Advanced Vector Extensions (Intel(R) AVX) instructions.\n",
      "Intel MKL WARNING: Support of Intel(R) Streaming SIMD Extensions 4.2 (Intel(R) SSE4.2) enabled only processors has been deprecated. Intel oneAPI Math Kernel Library 2025.0 will require Intel(R) Advanced Vector Extensions (Intel(R) AVX) instructions.\n",
      "Intel MKL WARNING: Support of Intel(R) Streaming SIMD Extensions 4.2 (Intel(R) SSE4.2) enabled only processors has been deprecated. Intel oneAPI Math Kernel Library 2025.0 will require Intel(R) Advanced Vector Extensions (Intel(R) AVX) instructions.\n",
      "Intel MKL WARNING: Support of Intel(R) Streaming SIMD Extensions 4.2 (Intel(R) SSE4.2) enabled only processors has been deprecated. Intel oneAPI Math Kernel Library 2025.0 will require Intel(R) Advanced Vector Extensions (Intel(R) AVX) instructions.\n",
      "Intel MKL WARNING: Support of Intel(R) Streaming SIMD Extensions 4.2 (Intel(R) SSE4.2) enabled only processors has been deprecated. Intel oneAPI Math Kernel Library 2025.0 will require Intel(R) Advanced Vector Extensions (Intel(R) AVX) instructions.\n",
      "Intel MKL WARNING: Support of Intel(R) Streaming SIMD Extensions 4.2 (Intel(R) SSE4.2) enabled only processors has been deprecated. Intel oneAPI Math Kernel Library 2025.0 will require Intel(R) Advanced Vector Extensions (Intel(R) AVX) instructions.\n",
      "Intel MKL WARNING: Support of Intel(R) Streaming SIMD Extensions 4.2 (Intel(R) SSE4.2) enabled only processors has been deprecated. Intel oneAPI Math Kernel Library 2025.0 will require Intel(R) Advanced Vector Extensions (Intel(R) AVX) instructions.\n"
     ]
    },
    {
     "data": {
      "application/vnd.jupyter.widget-view+json": {
       "model_id": "",
       "version_major": 2,
       "version_minor": 0
      },
      "text/plain": [
       "Validation: |                                             | 0/? [00:00<?, ?it/s]"
      ]
     },
     "metadata": {},
     "output_type": "display_data"
    },
    {
     "name": "stdout",
     "output_type": "stream",
     "text": [
      "Intel MKL WARNING: Support of Intel(R) Streaming SIMD Extensions 4.2 (Intel(R) SSE4.2) enabled only processors has been deprecated. Intel oneAPI Math Kernel Library 2025.0 will require Intel(R) Advanced Vector Extensions (Intel(R) AVX) instructions.\n",
      "Intel MKL WARNING: Support of Intel(R) Streaming SIMD Extensions 4.2 (Intel(R) SSE4.2) enabled only processors has been deprecated. Intel oneAPI Math Kernel Library 2025.0 will require Intel(R) Advanced Vector Extensions (Intel(R) AVX) instructions.\n",
      "Intel MKL WARNING: Support of Intel(R) Streaming SIMD Extensions 4.2 (Intel(R) SSE4.2) enabled only processors has been deprecated. Intel oneAPI Math Kernel Library 2025.0 will require Intel(R) Advanced Vector Extensions (Intel(R) AVX) instructions.\n",
      "Intel MKL WARNING: Support of Intel(R) Streaming SIMD Extensions 4.2 (Intel(R) SSE4.2) enabled only processors has been deprecated. Intel oneAPI Math Kernel Library 2025.0 will require Intel(R) Advanced Vector Extensions (Intel(R) AVX) instructions.\n",
      "Intel MKL WARNING: Support of Intel(R) Streaming SIMD Extensions 4.2 (Intel(R) SSE4.2) enabled only processors has been deprecated. Intel oneAPI Math Kernel Library 2025.0 will require Intel(R) Advanced Vector Extensions (Intel(R) AVX) instructions.\n",
      "Intel MKL WARNING: Support of Intel(R) Streaming SIMD Extensions 4.2 (Intel(R) SSE4.2) enabled only processors has been deprecated. Intel oneAPI Math Kernel Library 2025.0 will require Intel(R) Advanced Vector Extensions (Intel(R) AVX) instructions.\n",
      "Intel MKL WARNING: Support of Intel(R) Streaming SIMD Extensions 4.2 (Intel(R) SSE4.2) enabled only processors has been deprecated. Intel oneAPI Math Kernel Library 2025.0 will require Intel(R) Advanced Vector Extensions (Intel(R) AVX) instructions.\n",
      "Intel MKL WARNING: Support of Intel(R) Streaming SIMD Extensions 4.2 (Intel(R) SSE4.2) enabled only processors has been deprecated. Intel oneAPI Math Kernel Library 2025.0 will require Intel(R) Advanced Vector Extensions (Intel(R) AVX) instructions.\n",
      "Intel MKL WARNING: Support of Intel(R) Streaming SIMD Extensions 4.2 (Intel(R) SSE4.2) enabled only processors has been deprecated. Intel oneAPI Math Kernel Library 2025.0 will require Intel(R) Advanced Vector Extensions (Intel(R) AVX) instructions.\n",
      "Intel MKL WARNING: Support of Intel(R) Streaming SIMD Extensions 4.2 (Intel(R) SSE4.2) enabled only processors has been deprecated. Intel oneAPI Math Kernel Library 2025.0 will require Intel(R) Advanced Vector Extensions (Intel(R) AVX) instructions.\n",
      "Intel MKL WARNING: Support of Intel(R) Streaming SIMD Extensions 4.2 (Intel(R) SSE4.2) enabled only processors has been deprecated. Intel oneAPI Math Kernel Library 2025.0 will require Intel(R) Advanced Vector Extensions (Intel(R) AVX) instructions.\n",
      "Intel MKL WARNING: Support of Intel(R) Streaming SIMD Extensions 4.2 (Intel(R) SSE4.2) enabled only processors has been deprecated. Intel oneAPI Math Kernel Library 2025.0 will require Intel(R) Advanced Vector Extensions (Intel(R) AVX) instructions.\n",
      "Intel MKL WARNING: Support of Intel(R) Streaming SIMD Extensions 4.2 (Intel(R) SSE4.2) enabled only processors has been deprecated. Intel oneAPI Math Kernel Library 2025.0 will require Intel(R) Advanced Vector Extensions (Intel(R) AVX) instructions.\n",
      "Intel MKL WARNING: Support of Intel(R) Streaming SIMD Extensions 4.2 (Intel(R) SSE4.2) enabled only processors has been deprecated. Intel oneAPI Math Kernel Library 2025.0 will require Intel(R) Advanced Vector Extensions (Intel(R) AVX) instructions.\n"
     ]
    },
    {
     "data": {
      "application/vnd.jupyter.widget-view+json": {
       "model_id": "",
       "version_major": 2,
       "version_minor": 0
      },
      "text/plain": [
       "Validation: |                                             | 0/? [00:00<?, ?it/s]"
      ]
     },
     "metadata": {},
     "output_type": "display_data"
    },
    {
     "name": "stdout",
     "output_type": "stream",
     "text": [
      "Intel MKL WARNING: Support of Intel(R) Streaming SIMD Extensions 4.2 (Intel(R) SSE4.2) enabled only processors has been deprecated. Intel oneAPI Math Kernel Library 2025.0 will require Intel(R) Advanced Vector Extensions (Intel(R) AVX) instructions.\n",
      "Intel MKL WARNING: Support of Intel(R) Streaming SIMD Extensions 4.2 (Intel(R) SSE4.2) enabled only processors has been deprecated. Intel oneAPI Math Kernel Library 2025.0 will require Intel(R) Advanced Vector Extensions (Intel(R) AVX) instructions.\n",
      "Intel MKL WARNING: Support of Intel(R) Streaming SIMD Extensions 4.2 (Intel(R) SSE4.2) enabled only processors has been deprecated. Intel oneAPI Math Kernel Library 2025.0 will require Intel(R) Advanced Vector Extensions (Intel(R) AVX) instructions.\n",
      "Intel MKL WARNING: Support of Intel(R) Streaming SIMD Extensions 4.2 (Intel(R) SSE4.2) enabled only processors has been deprecated. Intel oneAPI Math Kernel Library 2025.0 will require Intel(R) Advanced Vector Extensions (Intel(R) AVX) instructions.\n",
      "Intel MKL WARNING: Support of Intel(R) Streaming SIMD Extensions 4.2 (Intel(R) SSE4.2) enabled only processors has been deprecated. Intel oneAPI Math Kernel Library 2025.0 will require Intel(R) Advanced Vector Extensions (Intel(R) AVX) instructions.\n",
      "Intel MKL WARNING: Support of Intel(R) Streaming SIMD Extensions 4.2 (Intel(R) SSE4.2) enabled only processors has been deprecated. Intel oneAPI Math Kernel Library 2025.0 will require Intel(R) Advanced Vector Extensions (Intel(R) AVX) instructions.\n",
      "Intel MKL WARNING: Support of Intel(R) Streaming SIMD Extensions 4.2 (Intel(R) SSE4.2) enabled only processors has been deprecated. Intel oneAPI Math Kernel Library 2025.0 will require Intel(R) Advanced Vector Extensions (Intel(R) AVX) instructions.\n",
      "Intel MKL WARNING: Support of Intel(R) Streaming SIMD Extensions 4.2 (Intel(R) SSE4.2) enabled only processors has been deprecated. Intel oneAPI Math Kernel Library 2025.0 will require Intel(R) Advanced Vector Extensions (Intel(R) AVX) instructions.\n",
      "Intel MKL WARNING: Support of Intel(R) Streaming SIMD Extensions 4.2 (Intel(R) SSE4.2) enabled only processors has been deprecated. Intel oneAPI Math Kernel Library 2025.0 will require Intel(R) Advanced Vector Extensions (Intel(R) AVX) instructions.\n",
      "Intel MKL WARNING: Support of Intel(R) Streaming SIMD Extensions 4.2 (Intel(R) SSE4.2) enabled only processors has been deprecated. Intel oneAPI Math Kernel Library 2025.0 will require Intel(R) Advanced Vector Extensions (Intel(R) AVX) instructions.\n",
      "Intel MKL WARNING: Support of Intel(R) Streaming SIMD Extensions 4.2 (Intel(R) SSE4.2) enabled only processors has been deprecated. Intel oneAPI Math Kernel Library 2025.0 will require Intel(R) Advanced Vector Extensions (Intel(R) AVX) instructions.\n",
      "Intel MKL WARNING: Support of Intel(R) Streaming SIMD Extensions 4.2 (Intel(R) SSE4.2) enabled only processors has been deprecated. Intel oneAPI Math Kernel Library 2025.0 will require Intel(R) Advanced Vector Extensions (Intel(R) AVX) instructions.\n",
      "Intel MKL WARNING: Support of Intel(R) Streaming SIMD Extensions 4.2 (Intel(R) SSE4.2) enabled only processors has been deprecated. Intel oneAPI Math Kernel Library 2025.0 will require Intel(R) Advanced Vector Extensions (Intel(R) AVX) instructions.\n",
      "Intel MKL WARNING: Support of Intel(R) Streaming SIMD Extensions 4.2 (Intel(R) SSE4.2) enabled only processors has been deprecated. Intel oneAPI Math Kernel Library 2025.0 will require Intel(R) Advanced Vector Extensions (Intel(R) AVX) instructions.\n"
     ]
    },
    {
     "data": {
      "application/vnd.jupyter.widget-view+json": {
       "model_id": "",
       "version_major": 2,
       "version_minor": 0
      },
      "text/plain": [
       "Validation: |                                             | 0/? [00:00<?, ?it/s]"
      ]
     },
     "metadata": {},
     "output_type": "display_data"
    },
    {
     "name": "stdout",
     "output_type": "stream",
     "text": [
      "Intel MKL WARNING: Support of Intel(R) Streaming SIMD Extensions 4.2 (Intel(R) SSE4.2) enabled only processors has been deprecated. Intel oneAPI Math Kernel Library 2025.0 will require Intel(R) Advanced Vector Extensions (Intel(R) AVX) instructions.\n",
      "Intel MKL WARNING: Support of Intel(R) Streaming SIMD Extensions 4.2 (Intel(R) SSE4.2) enabled only processors has been deprecated. Intel oneAPI Math Kernel Library 2025.0 will require Intel(R) Advanced Vector Extensions (Intel(R) AVX) instructions.\n",
      "Intel MKL WARNING: Support of Intel(R) Streaming SIMD Extensions 4.2 (Intel(R) SSE4.2) enabled only processors has been deprecated. Intel oneAPI Math Kernel Library 2025.0 will require Intel(R) Advanced Vector Extensions (Intel(R) AVX) instructions.\n",
      "Intel MKL WARNING: Support of Intel(R) Streaming SIMD Extensions 4.2 (Intel(R) SSE4.2) enabled only processors has been deprecated. Intel oneAPI Math Kernel Library 2025.0 will require Intel(R) Advanced Vector Extensions (Intel(R) AVX) instructions.\n",
      "Intel MKL WARNING: Support of Intel(R) Streaming SIMD Extensions 4.2 (Intel(R) SSE4.2) enabled only processors has been deprecated. Intel oneAPI Math Kernel Library 2025.0 will require Intel(R) Advanced Vector Extensions (Intel(R) AVX) instructions.\n",
      "Intel MKL WARNING: Support of Intel(R) Streaming SIMD Extensions 4.2 (Intel(R) SSE4.2) enabled only processors has been deprecated. Intel oneAPI Math Kernel Library 2025.0 will require Intel(R) Advanced Vector Extensions (Intel(R) AVX) instructions.\n",
      "Intel MKL WARNING: Support of Intel(R) Streaming SIMD Extensions 4.2 (Intel(R) SSE4.2) enabled only processors has been deprecated. Intel oneAPI Math Kernel Library 2025.0 will require Intel(R) Advanced Vector Extensions (Intel(R) AVX) instructions.\n",
      "Intel MKL WARNING: Support of Intel(R) Streaming SIMD Extensions 4.2 (Intel(R) SSE4.2) enabled only processors has been deprecated. Intel oneAPI Math Kernel Library 2025.0 will require Intel(R) Advanced Vector Extensions (Intel(R) AVX) instructions.\n",
      "Intel MKL WARNING: Support of Intel(R) Streaming SIMD Extensions 4.2 (Intel(R) SSE4.2) enabled only processors has been deprecated. Intel oneAPI Math Kernel Library 2025.0 will require Intel(R) Advanced Vector Extensions (Intel(R) AVX) instructions.\n",
      "Intel MKL WARNING: Support of Intel(R) Streaming SIMD Extensions 4.2 (Intel(R) SSE4.2) enabled only processors has been deprecated. Intel oneAPI Math Kernel Library 2025.0 will require Intel(R) Advanced Vector Extensions (Intel(R) AVX) instructions.\n",
      "Intel MKL WARNING: Support of Intel(R) Streaming SIMD Extensions 4.2 (Intel(R) SSE4.2) enabled only processors has been deprecated. Intel oneAPI Math Kernel Library 2025.0 will require Intel(R) Advanced Vector Extensions (Intel(R) AVX) instructions.\n",
      "Intel MKL WARNING: Support of Intel(R) Streaming SIMD Extensions 4.2 (Intel(R) SSE4.2) enabled only processors has been deprecated. Intel oneAPI Math Kernel Library 2025.0 will require Intel(R) Advanced Vector Extensions (Intel(R) AVX) instructions.\n",
      "Intel MKL WARNING: Support of Intel(R) Streaming SIMD Extensions 4.2 (Intel(R) SSE4.2) enabled only processors has been deprecated. Intel oneAPI Math Kernel Library 2025.0 will require Intel(R) Advanced Vector Extensions (Intel(R) AVX) instructions.\n",
      "Intel MKL WARNING: Support of Intel(R) Streaming SIMD Extensions 4.2 (Intel(R) SSE4.2) enabled only processors has been deprecated. Intel oneAPI Math Kernel Library 2025.0 will require Intel(R) Advanced Vector Extensions (Intel(R) AVX) instructions.\n"
     ]
    },
    {
     "data": {
      "application/vnd.jupyter.widget-view+json": {
       "model_id": "",
       "version_major": 2,
       "version_minor": 0
      },
      "text/plain": [
       "Validation: |                                             | 0/? [00:00<?, ?it/s]"
      ]
     },
     "metadata": {},
     "output_type": "display_data"
    },
    {
     "name": "stdout",
     "output_type": "stream",
     "text": [
      "Intel MKL WARNING: Support of Intel(R) Streaming SIMD Extensions 4.2 (Intel(R) SSE4.2) enabled only processors has been deprecated. Intel oneAPI Math Kernel Library 2025.0 will require Intel(R) Advanced Vector Extensions (Intel(R) AVX) instructions.\n",
      "Intel MKL WARNING: Support of Intel(R) Streaming SIMD Extensions 4.2 (Intel(R) SSE4.2) enabled only processors has been deprecated. Intel oneAPI Math Kernel Library 2025.0 will require Intel(R) Advanced Vector Extensions (Intel(R) AVX) instructions.\n",
      "Intel MKL WARNING: Support of Intel(R) Streaming SIMD Extensions 4.2 (Intel(R) SSE4.2) enabled only processors has been deprecated. Intel oneAPI Math Kernel Library 2025.0 will require Intel(R) Advanced Vector Extensions (Intel(R) AVX) instructions.\n",
      "Intel MKL WARNING: Support of Intel(R) Streaming SIMD Extensions 4.2 (Intel(R) SSE4.2) enabled only processors has been deprecated. Intel oneAPI Math Kernel Library 2025.0 will require Intel(R) Advanced Vector Extensions (Intel(R) AVX) instructions.\n",
      "Intel MKL WARNING: Support of Intel(R) Streaming SIMD Extensions 4.2 (Intel(R) SSE4.2) enabled only processors has been deprecated. Intel oneAPI Math Kernel Library 2025.0 will require Intel(R) Advanced Vector Extensions (Intel(R) AVX) instructions.\n",
      "Intel MKL WARNING: Support of Intel(R) Streaming SIMD Extensions 4.2 (Intel(R) SSE4.2) enabled only processors has been deprecated. Intel oneAPI Math Kernel Library 2025.0 will require Intel(R) Advanced Vector Extensions (Intel(R) AVX) instructions.\n",
      "Intel MKL WARNING: Support of Intel(R) Streaming SIMD Extensions 4.2 (Intel(R) SSE4.2) enabled only processors has been deprecated. Intel oneAPI Math Kernel Library 2025.0 will require Intel(R) Advanced Vector Extensions (Intel(R) AVX) instructions.\n",
      "Intel MKL WARNING: Support of Intel(R) Streaming SIMD Extensions 4.2 (Intel(R) SSE4.2) enabled only processors has been deprecated. Intel oneAPI Math Kernel Library 2025.0 will require Intel(R) Advanced Vector Extensions (Intel(R) AVX) instructions.\n",
      "Intel MKL WARNING: Support of Intel(R) Streaming SIMD Extensions 4.2 (Intel(R) SSE4.2) enabled only processors has been deprecated. Intel oneAPI Math Kernel Library 2025.0 will require Intel(R) Advanced Vector Extensions (Intel(R) AVX) instructions.\n",
      "Intel MKL WARNING: Support of Intel(R) Streaming SIMD Extensions 4.2 (Intel(R) SSE4.2) enabled only processors has been deprecated. Intel oneAPI Math Kernel Library 2025.0 will require Intel(R) Advanced Vector Extensions (Intel(R) AVX) instructions.\n",
      "Intel MKL WARNING: Support of Intel(R) Streaming SIMD Extensions 4.2 (Intel(R) SSE4.2) enabled only processors has been deprecated. Intel oneAPI Math Kernel Library 2025.0 will require Intel(R) Advanced Vector Extensions (Intel(R) AVX) instructions.\n",
      "Intel MKL WARNING: Support of Intel(R) Streaming SIMD Extensions 4.2 (Intel(R) SSE4.2) enabled only processors has been deprecated. Intel oneAPI Math Kernel Library 2025.0 will require Intel(R) Advanced Vector Extensions (Intel(R) AVX) instructions.\n",
      "Intel MKL WARNING: Support of Intel(R) Streaming SIMD Extensions 4.2 (Intel(R) SSE4.2) enabled only processors has been deprecated. Intel oneAPI Math Kernel Library 2025.0 will require Intel(R) Advanced Vector Extensions (Intel(R) AVX) instructions.\n",
      "Intel MKL WARNING: Support of Intel(R) Streaming SIMD Extensions 4.2 (Intel(R) SSE4.2) enabled only processors has been deprecated. Intel oneAPI Math Kernel Library 2025.0 will require Intel(R) Advanced Vector Extensions (Intel(R) AVX) instructions.\n"
     ]
    },
    {
     "data": {
      "application/vnd.jupyter.widget-view+json": {
       "model_id": "",
       "version_major": 2,
       "version_minor": 0
      },
      "text/plain": [
       "Validation: |                                             | 0/? [00:00<?, ?it/s]"
      ]
     },
     "metadata": {},
     "output_type": "display_data"
    },
    {
     "name": "stdout",
     "output_type": "stream",
     "text": [
      "Intel MKL WARNING: Support of Intel(R) Streaming SIMD Extensions 4.2 (Intel(R) SSE4.2) enabled only processors has been deprecated. Intel oneAPI Math Kernel Library 2025.0 will require Intel(R) Advanced Vector Extensions (Intel(R) AVX) instructions.\n",
      "Intel MKL WARNING: Support of Intel(R) Streaming SIMD Extensions 4.2 (Intel(R) SSE4.2) enabled only processors has been deprecated. Intel oneAPI Math Kernel Library 2025.0 will require Intel(R) Advanced Vector Extensions (Intel(R) AVX) instructions.\n",
      "Intel MKL WARNING: Support of Intel(R) Streaming SIMD Extensions 4.2 (Intel(R) SSE4.2) enabled only processors has been deprecated. Intel oneAPI Math Kernel Library 2025.0 will require Intel(R) Advanced Vector Extensions (Intel(R) AVX) instructions.\n",
      "Intel MKL WARNING: Support of Intel(R) Streaming SIMD Extensions 4.2 (Intel(R) SSE4.2) enabled only processors has been deprecated. Intel oneAPI Math Kernel Library 2025.0 will require Intel(R) Advanced Vector Extensions (Intel(R) AVX) instructions.\n",
      "Intel MKL WARNING: Support of Intel(R) Streaming SIMD Extensions 4.2 (Intel(R) SSE4.2) enabled only processors has been deprecated. Intel oneAPI Math Kernel Library 2025.0 will require Intel(R) Advanced Vector Extensions (Intel(R) AVX) instructions.\n",
      "Intel MKL WARNING: Support of Intel(R) Streaming SIMD Extensions 4.2 (Intel(R) SSE4.2) enabled only processors has been deprecated. Intel oneAPI Math Kernel Library 2025.0 will require Intel(R) Advanced Vector Extensions (Intel(R) AVX) instructions.\n",
      "Intel MKL WARNING: Support of Intel(R) Streaming SIMD Extensions 4.2 (Intel(R) SSE4.2) enabled only processors has been deprecated. Intel oneAPI Math Kernel Library 2025.0 will require Intel(R) Advanced Vector Extensions (Intel(R) AVX) instructions.\n",
      "Intel MKL WARNING: Support of Intel(R) Streaming SIMD Extensions 4.2 (Intel(R) SSE4.2) enabled only processors has been deprecated. Intel oneAPI Math Kernel Library 2025.0 will require Intel(R) Advanced Vector Extensions (Intel(R) AVX) instructions.\n",
      "Intel MKL WARNING: Support of Intel(R) Streaming SIMD Extensions 4.2 (Intel(R) SSE4.2) enabled only processors has been deprecated. Intel oneAPI Math Kernel Library 2025.0 will require Intel(R) Advanced Vector Extensions (Intel(R) AVX) instructions.\n",
      "Intel MKL WARNING: Support of Intel(R) Streaming SIMD Extensions 4.2 (Intel(R) SSE4.2) enabled only processors has been deprecated. Intel oneAPI Math Kernel Library 2025.0 will require Intel(R) Advanced Vector Extensions (Intel(R) AVX) instructions.\n",
      "Intel MKL WARNING: Support of Intel(R) Streaming SIMD Extensions 4.2 (Intel(R) SSE4.2) enabled only processors has been deprecated. Intel oneAPI Math Kernel Library 2025.0 will require Intel(R) Advanced Vector Extensions (Intel(R) AVX) instructions.\n",
      "Intel MKL WARNING: Support of Intel(R) Streaming SIMD Extensions 4.2 (Intel(R) SSE4.2) enabled only processors has been deprecated. Intel oneAPI Math Kernel Library 2025.0 will require Intel(R) Advanced Vector Extensions (Intel(R) AVX) instructions.\n",
      "Intel MKL WARNING: Support of Intel(R) Streaming SIMD Extensions 4.2 (Intel(R) SSE4.2) enabled only processors has been deprecated. Intel oneAPI Math Kernel Library 2025.0 will require Intel(R) Advanced Vector Extensions (Intel(R) AVX) instructions.\n",
      "Intel MKL WARNING: Support of Intel(R) Streaming SIMD Extensions 4.2 (Intel(R) SSE4.2) enabled only processors has been deprecated. Intel oneAPI Math Kernel Library 2025.0 will require Intel(R) Advanced Vector Extensions (Intel(R) AVX) instructions.\n"
     ]
    },
    {
     "data": {
      "application/vnd.jupyter.widget-view+json": {
       "model_id": "",
       "version_major": 2,
       "version_minor": 0
      },
      "text/plain": [
       "Validation: |                                             | 0/? [00:00<?, ?it/s]"
      ]
     },
     "metadata": {},
     "output_type": "display_data"
    },
    {
     "name": "stdout",
     "output_type": "stream",
     "text": [
      "Intel MKL WARNING: Support of Intel(R) Streaming SIMD Extensions 4.2 (Intel(R) SSE4.2) enabled only processors has been deprecated. Intel oneAPI Math Kernel Library 2025.0 will require Intel(R) Advanced Vector Extensions (Intel(R) AVX) instructions.\n",
      "Intel MKL WARNING: Support of Intel(R) Streaming SIMD Extensions 4.2 (Intel(R) SSE4.2) enabled only processors has been deprecated. Intel oneAPI Math Kernel Library 2025.0 will require Intel(R) Advanced Vector Extensions (Intel(R) AVX) instructions.\n",
      "Intel MKL WARNING: Support of Intel(R) Streaming SIMD Extensions 4.2 (Intel(R) SSE4.2) enabled only processors has been deprecated. Intel oneAPI Math Kernel Library 2025.0 will require Intel(R) Advanced Vector Extensions (Intel(R) AVX) instructions.\n",
      "Intel MKL WARNING: Support of Intel(R) Streaming SIMD Extensions 4.2 (Intel(R) SSE4.2) enabled only processors has been deprecated. Intel oneAPI Math Kernel Library 2025.0 will require Intel(R) Advanced Vector Extensions (Intel(R) AVX) instructions.\n",
      "Intel MKL WARNING: Support of Intel(R) Streaming SIMD Extensions 4.2 (Intel(R) SSE4.2) enabled only processors has been deprecated. Intel oneAPI Math Kernel Library 2025.0 will require Intel(R) Advanced Vector Extensions (Intel(R) AVX) instructions.\n",
      "Intel MKL WARNING: Support of Intel(R) Streaming SIMD Extensions 4.2 (Intel(R) SSE4.2) enabled only processors has been deprecated. Intel oneAPI Math Kernel Library 2025.0 will require Intel(R) Advanced Vector Extensions (Intel(R) AVX) instructions.\n",
      "Intel MKL WARNING: Support of Intel(R) Streaming SIMD Extensions 4.2 (Intel(R) SSE4.2) enabled only processors has been deprecated. Intel oneAPI Math Kernel Library 2025.0 will require Intel(R) Advanced Vector Extensions (Intel(R) AVX) instructions.\n",
      "Intel MKL WARNING: Support of Intel(R) Streaming SIMD Extensions 4.2 (Intel(R) SSE4.2) enabled only processors has been deprecated. Intel oneAPI Math Kernel Library 2025.0 will require Intel(R) Advanced Vector Extensions (Intel(R) AVX) instructions.\n",
      "Intel MKL WARNING: Support of Intel(R) Streaming SIMD Extensions 4.2 (Intel(R) SSE4.2) enabled only processors has been deprecated. Intel oneAPI Math Kernel Library 2025.0 will require Intel(R) Advanced Vector Extensions (Intel(R) AVX) instructions.\n",
      "Intel MKL WARNING: Support of Intel(R) Streaming SIMD Extensions 4.2 (Intel(R) SSE4.2) enabled only processors has been deprecated. Intel oneAPI Math Kernel Library 2025.0 will require Intel(R) Advanced Vector Extensions (Intel(R) AVX) instructions.\n",
      "Intel MKL WARNING: Support of Intel(R) Streaming SIMD Extensions 4.2 (Intel(R) SSE4.2) enabled only processors has been deprecated. Intel oneAPI Math Kernel Library 2025.0 will require Intel(R) Advanced Vector Extensions (Intel(R) AVX) instructions.\n",
      "Intel MKL WARNING: Support of Intel(R) Streaming SIMD Extensions 4.2 (Intel(R) SSE4.2) enabled only processors has been deprecated. Intel oneAPI Math Kernel Library 2025.0 will require Intel(R) Advanced Vector Extensions (Intel(R) AVX) instructions.\n",
      "Intel MKL WARNING: Support of Intel(R) Streaming SIMD Extensions 4.2 (Intel(R) SSE4.2) enabled only processors has been deprecated. Intel oneAPI Math Kernel Library 2025.0 will require Intel(R) Advanced Vector Extensions (Intel(R) AVX) instructions.\n",
      "Intel MKL WARNING: Support of Intel(R) Streaming SIMD Extensions 4.2 (Intel(R) SSE4.2) enabled only processors has been deprecated. Intel oneAPI Math Kernel Library 2025.0 will require Intel(R) Advanced Vector Extensions (Intel(R) AVX) instructions.\n"
     ]
    },
    {
     "data": {
      "application/vnd.jupyter.widget-view+json": {
       "model_id": "",
       "version_major": 2,
       "version_minor": 0
      },
      "text/plain": [
       "Validation: |                                             | 0/? [00:00<?, ?it/s]"
      ]
     },
     "metadata": {},
     "output_type": "display_data"
    },
    {
     "name": "stdout",
     "output_type": "stream",
     "text": [
      "Intel MKL WARNING: Support of Intel(R) Streaming SIMD Extensions 4.2 (Intel(R) SSE4.2) enabled only processors has been deprecated. Intel oneAPI Math Kernel Library 2025.0 will require Intel(R) Advanced Vector Extensions (Intel(R) AVX) instructions.\n",
      "Intel MKL WARNING: Support of Intel(R) Streaming SIMD Extensions 4.2 (Intel(R) SSE4.2) enabled only processors has been deprecated. Intel oneAPI Math Kernel Library 2025.0 will require Intel(R) Advanced Vector Extensions (Intel(R) AVX) instructions.\n",
      "Intel MKL WARNING: Support of Intel(R) Streaming SIMD Extensions 4.2 (Intel(R) SSE4.2) enabled only processors has been deprecated. Intel oneAPI Math Kernel Library 2025.0 will require Intel(R) Advanced Vector Extensions (Intel(R) AVX) instructions.\n",
      "Intel MKL WARNING: Support of Intel(R) Streaming SIMD Extensions 4.2 (Intel(R) SSE4.2) enabled only processors has been deprecated. Intel oneAPI Math Kernel Library 2025.0 will require Intel(R) Advanced Vector Extensions (Intel(R) AVX) instructions.\n",
      "Intel MKL WARNING: Support of Intel(R) Streaming SIMD Extensions 4.2 (Intel(R) SSE4.2) enabled only processors has been deprecated. Intel oneAPI Math Kernel Library 2025.0 will require Intel(R) Advanced Vector Extensions (Intel(R) AVX) instructions.\n",
      "Intel MKL WARNING: Support of Intel(R) Streaming SIMD Extensions 4.2 (Intel(R) SSE4.2) enabled only processors has been deprecated. Intel oneAPI Math Kernel Library 2025.0 will require Intel(R) Advanced Vector Extensions (Intel(R) AVX) instructions.\n",
      "Intel MKL WARNING: Support of Intel(R) Streaming SIMD Extensions 4.2 (Intel(R) SSE4.2) enabled only processors has been deprecated. Intel oneAPI Math Kernel Library 2025.0 will require Intel(R) Advanced Vector Extensions (Intel(R) AVX) instructions.\n",
      "Intel MKL WARNING: Support of Intel(R) Streaming SIMD Extensions 4.2 (Intel(R) SSE4.2) enabled only processors has been deprecated. Intel oneAPI Math Kernel Library 2025.0 will require Intel(R) Advanced Vector Extensions (Intel(R) AVX) instructions.\n",
      "Intel MKL WARNING: Support of Intel(R) Streaming SIMD Extensions 4.2 (Intel(R) SSE4.2) enabled only processors has been deprecated. Intel oneAPI Math Kernel Library 2025.0 will require Intel(R) Advanced Vector Extensions (Intel(R) AVX) instructions.\n",
      "Intel MKL WARNING: Support of Intel(R) Streaming SIMD Extensions 4.2 (Intel(R) SSE4.2) enabled only processors has been deprecated. Intel oneAPI Math Kernel Library 2025.0 will require Intel(R) Advanced Vector Extensions (Intel(R) AVX) instructions.\n",
      "Intel MKL WARNING: Support of Intel(R) Streaming SIMD Extensions 4.2 (Intel(R) SSE4.2) enabled only processors has been deprecated. Intel oneAPI Math Kernel Library 2025.0 will require Intel(R) Advanced Vector Extensions (Intel(R) AVX) instructions.\n",
      "Intel MKL WARNING: Support of Intel(R) Streaming SIMD Extensions 4.2 (Intel(R) SSE4.2) enabled only processors has been deprecated. Intel oneAPI Math Kernel Library 2025.0 will require Intel(R) Advanced Vector Extensions (Intel(R) AVX) instructions.\n",
      "Intel MKL WARNING: Support of Intel(R) Streaming SIMD Extensions 4.2 (Intel(R) SSE4.2) enabled only processors has been deprecated. Intel oneAPI Math Kernel Library 2025.0 will require Intel(R) Advanced Vector Extensions (Intel(R) AVX) instructions.\n",
      "Intel MKL WARNING: Support of Intel(R) Streaming SIMD Extensions 4.2 (Intel(R) SSE4.2) enabled only processors has been deprecated. Intel oneAPI Math Kernel Library 2025.0 will require Intel(R) Advanced Vector Extensions (Intel(R) AVX) instructions.\n"
     ]
    },
    {
     "data": {
      "application/vnd.jupyter.widget-view+json": {
       "model_id": "",
       "version_major": 2,
       "version_minor": 0
      },
      "text/plain": [
       "Validation: |                                             | 0/? [00:00<?, ?it/s]"
      ]
     },
     "metadata": {},
     "output_type": "display_data"
    },
    {
     "name": "stdout",
     "output_type": "stream",
     "text": [
      "Intel MKL WARNING: Support of Intel(R) Streaming SIMD Extensions 4.2 (Intel(R) SSE4.2) enabled only processors has been deprecated. Intel oneAPI Math Kernel Library 2025.0 will require Intel(R) Advanced Vector Extensions (Intel(R) AVX) instructions.\n",
      "Intel MKL WARNING: Support of Intel(R) Streaming SIMD Extensions 4.2 (Intel(R) SSE4.2) enabled only processors has been deprecated. Intel oneAPI Math Kernel Library 2025.0 will require Intel(R) Advanced Vector Extensions (Intel(R) AVX) instructions.\n",
      "Intel MKL WARNING: Support of Intel(R) Streaming SIMD Extensions 4.2 (Intel(R) SSE4.2) enabled only processors has been deprecated. Intel oneAPI Math Kernel Library 2025.0 will require Intel(R) Advanced Vector Extensions (Intel(R) AVX) instructions.\n",
      "Intel MKL WARNING: Support of Intel(R) Streaming SIMD Extensions 4.2 (Intel(R) SSE4.2) enabled only processors has been deprecated. Intel oneAPI Math Kernel Library 2025.0 will require Intel(R) Advanced Vector Extensions (Intel(R) AVX) instructions.\n",
      "Intel MKL WARNING: Support of Intel(R) Streaming SIMD Extensions 4.2 (Intel(R) SSE4.2) enabled only processors has been deprecated. Intel oneAPI Math Kernel Library 2025.0 will require Intel(R) Advanced Vector Extensions (Intel(R) AVX) instructions.\n",
      "Intel MKL WARNING: Support of Intel(R) Streaming SIMD Extensions 4.2 (Intel(R) SSE4.2) enabled only processors has been deprecated. Intel oneAPI Math Kernel Library 2025.0 will require Intel(R) Advanced Vector Extensions (Intel(R) AVX) instructions.\n",
      "Intel MKL WARNING: Support of Intel(R) Streaming SIMD Extensions 4.2 (Intel(R) SSE4.2) enabled only processors has been deprecated. Intel oneAPI Math Kernel Library 2025.0 will require Intel(R) Advanced Vector Extensions (Intel(R) AVX) instructions.\n",
      "Intel MKL WARNING: Support of Intel(R) Streaming SIMD Extensions 4.2 (Intel(R) SSE4.2) enabled only processors has been deprecated. Intel oneAPI Math Kernel Library 2025.0 will require Intel(R) Advanced Vector Extensions (Intel(R) AVX) instructions.\n",
      "Intel MKL WARNING: Support of Intel(R) Streaming SIMD Extensions 4.2 (Intel(R) SSE4.2) enabled only processors has been deprecated. Intel oneAPI Math Kernel Library 2025.0 will require Intel(R) Advanced Vector Extensions (Intel(R) AVX) instructions.\n",
      "Intel MKL WARNING: Support of Intel(R) Streaming SIMD Extensions 4.2 (Intel(R) SSE4.2) enabled only processors has been deprecated. Intel oneAPI Math Kernel Library 2025.0 will require Intel(R) Advanced Vector Extensions (Intel(R) AVX) instructions.\n",
      "Intel MKL WARNING: Support of Intel(R) Streaming SIMD Extensions 4.2 (Intel(R) SSE4.2) enabled only processors has been deprecated. Intel oneAPI Math Kernel Library 2025.0 will require Intel(R) Advanced Vector Extensions (Intel(R) AVX) instructions.\n",
      "Intel MKL WARNING: Support of Intel(R) Streaming SIMD Extensions 4.2 (Intel(R) SSE4.2) enabled only processors has been deprecated. Intel oneAPI Math Kernel Library 2025.0 will require Intel(R) Advanced Vector Extensions (Intel(R) AVX) instructions.\n",
      "Intel MKL WARNING: Support of Intel(R) Streaming SIMD Extensions 4.2 (Intel(R) SSE4.2) enabled only processors has been deprecated. Intel oneAPI Math Kernel Library 2025.0 will require Intel(R) Advanced Vector Extensions (Intel(R) AVX) instructions.\n",
      "Intel MKL WARNING: Support of Intel(R) Streaming SIMD Extensions 4.2 (Intel(R) SSE4.2) enabled only processors has been deprecated. Intel oneAPI Math Kernel Library 2025.0 will require Intel(R) Advanced Vector Extensions (Intel(R) AVX) instructions.\n"
     ]
    },
    {
     "data": {
      "application/vnd.jupyter.widget-view+json": {
       "model_id": "",
       "version_major": 2,
       "version_minor": 0
      },
      "text/plain": [
       "Validation: |                                             | 0/? [00:00<?, ?it/s]"
      ]
     },
     "metadata": {},
     "output_type": "display_data"
    },
    {
     "name": "stderr",
     "output_type": "stream",
     "text": [
      "`Trainer.fit` stopped: `max_epochs=100` reached.\n"
     ]
    }
   ],
   "source": [
    "trainer.fit(\n",
    "    training_model,\n",
    "    datamodule=datamodule,\n",
    ")"
   ]
  },
  {
   "cell_type": "markdown",
   "id": "55885eba-e6aa-41b0-bd72-2d6ad31ea504",
   "metadata": {},
   "source": [
    "We can now check the energies again. They should have improved, especially if you used a larger dataset (note: results may vary with the small 50-molecule dataset this notebook has chosen to use, for reasons of speed).\n",
    "\n",
    "Note, the energies are "
   ]
  },
  {
   "cell_type": "code",
   "execution_count": 24,
   "id": "33002bc0-fa33-439e-a798-d79b679152b9",
   "metadata": {},
   "outputs": [
    {
     "name": "stderr",
     "output_type": "stream",
     "text": [
      "/Users/lily/pydev/openff-nagl/openff/nagl/nn/_models.py:240: UserWarning: TODO: currently non-atom-wise properties are not properly handled!!! We just assume they are **strictly sequential**. In general we don't recommend using multiple molecules!!\n",
      "  warnings.warn(\n"
     ]
    },
    {
     "data": {
      "text/plain": [
       "array([-0.31952874,  0.00871341,  0.00871341,  0.00871341,  2.61271455,\n",
       "       -0.0035692 , -0.0035692 ,  0.00833304,  0.02520727,  0.02520727])"
      ]
     },
     "execution_count": 24,
     "metadata": {},
     "output_type": "execute_result"
    }
   ],
   "source": [
    "# switch to eval mode\n",
    "training_model.model.eval()\n",
    "\n",
    "with torch.no_grad():\n",
    "    energies_2 = training_model.model.compute_properties(\n",
    "        test_molecule,\n",
    "        as_numpy=True\n",
    "    )[\"energies\"]\n",
    "\n",
    "differences_after_training = reference_energies - energies_2\n",
    "differences_after_training"
   ]
  },
  {
   "cell_type": "code",
   "execution_count": 25,
   "id": "5600b398-9798-4265-94e5-d42fb4f28175",
   "metadata": {},
   "outputs": [
    {
     "data": {
      "text/plain": [
       "57.11609162500679"
      ]
     },
     "execution_count": 25,
     "metadata": {},
     "output_type": "execute_result"
    }
   ],
   "source": [
    "# original\n",
    "sum(differences ** 2)"
   ]
  },
  {
   "cell_type": "code",
   "execution_count": 26,
   "id": "310e1fdb-4868-40d3-b91d-19199f493793",
   "metadata": {},
   "outputs": [
    {
     "data": {
      "text/plain": [
       "6.929969425240237"
      ]
     },
     "execution_count": 26,
     "metadata": {},
     "output_type": "execute_result"
    }
   ],
   "source": [
    "sum(differences_after_training ** 2)"
   ]
  },
  {
   "cell_type": "code",
   "execution_count": 27,
   "id": "2c0d03d7-1151-4045-92db-1c4bb7b19da2",
   "metadata": {},
   "outputs": [
    {
     "data": {
      "text/plain": [
       "array([ 3.49536359e-01, -8.71341489e-03, -8.71341489e-03, -8.71341489e-03,\n",
       "        5.13449430e+00,  3.56920343e-03,  3.56920343e-03, -8.33304413e-03,\n",
       "       -2.52072699e-02, -2.52072699e-02])"
      ]
     },
     "execution_count": 27,
     "metadata": {},
     "output_type": "execute_result"
    }
   ],
   "source": [
    "energies_2"
   ]
  },
  {
   "cell_type": "markdown",
   "id": "7487eb29-0990-4fc6-8a0a-dc33dcc6b064",
   "metadata": {},
   "source": [
    "What's alpha?"
   ]
  },
  {
   "cell_type": "code",
   "execution_count": 28,
   "id": "1fa107c6-3c9f-4d48-b65b-c6355ad1aca5",
   "metadata": {},
   "outputs": [
    {
     "data": {
      "text/plain": [
       "array([1.1623677 , 0.        , 0.        , 0.        , 1.16141546,\n",
       "       0.        , 0.        , 0.        , 0.        , 0.        ])"
      ]
     },
     "execution_count": 28,
     "metadata": {},
     "output_type": "execute_result"
    }
   ],
   "source": [
    "training_model.model.compute_properties(\n",
    "    test_molecule,\n",
    "    as_numpy=True\n",
    ")[\"alpha\"]"
   ]
  },
  {
   "cell_type": "code",
   "execution_count": null,
   "id": "99e0e096-ddb4-4d50-8483-0f6d6f44e3a7",
   "metadata": {},
   "outputs": [],
   "source": []
  }
 ],
 "metadata": {
  "kernelspec": {
   "display_name": "Python (openff-nagl-test)",
   "language": "python",
   "name": "openff-nagl-test"
  },
  "language_info": {
   "codemirror_mode": {
    "name": "ipython",
    "version": 3
   },
   "file_extension": ".py",
   "mimetype": "text/x-python",
   "name": "python",
   "nbconvert_exporter": "python",
   "pygments_lexer": "ipython3",
   "version": "3.10.14"
  }
 },
 "nbformat": 4,
 "nbformat_minor": 5
}
