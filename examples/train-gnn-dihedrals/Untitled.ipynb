{
 "cells": [
  {
   "cell_type": "code",
   "execution_count": 2,
   "id": "3cd27858-478d-4a82-b526-da9874ca889c",
   "metadata": {},
   "outputs": [
    {
     "ename": "AttributeError",
     "evalue": "'DGLGraph' object has no attribute 'data'",
     "output_type": "error",
     "traceback": [
      "\u001b[0;31m---------------------------------------------------------------------------\u001b[0m",
      "\u001b[0;31mAttributeError\u001b[0m                            Traceback (most recent call last)",
      "Cell \u001b[0;32mIn[2], line 9\u001b[0m\n\u001b[1;32m      6\u001b[0m \u001b[38;5;66;03m# 4 nodes, 3 edges\u001b[39;00m\n\u001b[1;32m      8\u001b[0m g1 \u001b[38;5;241m=\u001b[39m dgl\u001b[38;5;241m.\u001b[39mgraph((th\u001b[38;5;241m.\u001b[39mtensor([\u001b[38;5;241m0\u001b[39m, \u001b[38;5;241m1\u001b[39m, \u001b[38;5;241m2\u001b[39m]), th\u001b[38;5;241m.\u001b[39mtensor([\u001b[38;5;241m1\u001b[39m, \u001b[38;5;241m2\u001b[39m, \u001b[38;5;241m3\u001b[39m])))\n\u001b[0;32m----> 9\u001b[0m \u001b[43mg1\u001b[49m\u001b[38;5;241;43m.\u001b[39;49m\u001b[43mdata\u001b[49m[\u001b[38;5;124m\"\u001b[39m\u001b[38;5;124mx\u001b[39m\u001b[38;5;124m\"\u001b[39m] \u001b[38;5;241m=\u001b[39m th\u001b[38;5;241m.\u001b[39mtensor(np\u001b[38;5;241m.\u001b[39marange(\u001b[38;5;241m36\u001b[39m)\u001b[38;5;241m.\u001b[39mreshape((\u001b[38;5;241m12\u001b[39m, \u001b[38;5;241m3\u001b[39m)))\n\u001b[1;32m     11\u001b[0m \u001b[38;5;66;03m# 3 nodes, 4 edges\u001b[39;00m\n\u001b[1;32m     13\u001b[0m g2 \u001b[38;5;241m=\u001b[39m dgl\u001b[38;5;241m.\u001b[39mgraph((th\u001b[38;5;241m.\u001b[39mtensor([\u001b[38;5;241m0\u001b[39m, \u001b[38;5;241m0\u001b[39m, \u001b[38;5;241m0\u001b[39m, \u001b[38;5;241m1\u001b[39m]), th\u001b[38;5;241m.\u001b[39mtensor([\u001b[38;5;241m0\u001b[39m, \u001b[38;5;241m1\u001b[39m, \u001b[38;5;241m2\u001b[39m, \u001b[38;5;241m0\u001b[39m])))\n",
      "\u001b[0;31mAttributeError\u001b[0m: 'DGLGraph' object has no attribute 'data'"
     ]
    }
   ],
   "source": [
    "import dgl\n",
    "\n",
    "import torch as th\n",
    "import numpy as np\n",
    "\n",
    "# 4 nodes, 3 edges\n",
    "\n",
    "g1 = dgl.graph((th.tensor([0, 1, 2]), th.tensor([1, 2, 3])))\n",
    "g1.data[\"x\"] = th.tensor(np.arange(36).reshape((12, 3)))\n",
    "\n",
    "# 3 nodes, 4 edges\n",
    "\n",
    "g2 = dgl.graph((th.tensor([0, 0, 0, 1]), th.tensor([0, 1, 2, 0])))\n",
    "g1.data[\"x\"] = th.tensor(np.arange(48).reshape((16, 3)))\n",
    "\n",
    "bg = dgl.batch([g1, g2])"
   ]
  },
  {
   "cell_type": "code",
   "execution_count": null,
   "id": "95da4c84-c601-4be7-a0de-b975cfa5622f",
   "metadata": {},
   "outputs": [],
   "source": [
    "bg.ndata[\"x\"]"
   ]
  },
  {
   "cell_type": "code",
   "execution_count": 5,
   "id": "0cad4381-ba9b-4302-b0f6-e7414e63db8a",
   "metadata": {},
   "outputs": [
    {
     "data": {
      "text/plain": [
       "pydantic.main.ModelMetaclass"
      ]
     },
     "execution_count": 5,
     "metadata": {},
     "output_type": "execute_result"
    }
   ],
   "source": [
    "type(AngleSMIRKS)"
   ]
  },
  {
   "cell_type": "code",
   "execution_count": 2,
   "id": "94444c13-c302-445b-84ef-0ae561de6d4c",
   "metadata": {},
   "outputs": [],
   "source": [
    "mol = Molecule.from_smiles(\"CC\")"
   ]
  },
  {
   "cell_type": "code",
   "execution_count": 10,
   "id": "f692568d-8ee4-4381-a993-191f21af5411",
   "metadata": {},
   "outputs": [
    {
     "data": {
      "text/plain": [
       "Atom(name=, atomic number=1)"
      ]
     },
     "execution_count": 10,
     "metadata": {},
     "output_type": "execute_result"
    }
   ],
   "source": [
    "list(mol.propers)[0][0]"
   ]
  },
  {
   "cell_type": "code",
   "execution_count": null,
   "id": "8e0e3944-9857-41a4-9e99-f47ad7a34293",
   "metadata": {},
   "outputs": [],
   "source": []
  }
 ],
 "metadata": {
  "kernelspec": {
   "display_name": "Python (openff-nagl-test)",
   "language": "python",
   "name": "openff-nagl-test"
  },
  "language_info": {
   "codemirror_mode": {
    "name": "ipython",
    "version": 3
   },
   "file_extension": ".py",
   "mimetype": "text/x-python",
   "name": "python",
   "nbconvert_exporter": "python",
   "pygments_lexer": "ipython3",
   "version": "3.10.14"
  }
 },
 "nbformat": 4,
 "nbformat_minor": 5
}
